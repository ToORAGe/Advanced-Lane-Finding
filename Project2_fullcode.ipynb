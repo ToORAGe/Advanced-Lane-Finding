{
 "cells": [
  {
   "cell_type": "code",
   "execution_count": 1,
   "metadata": {},
   "outputs": [],
   "source": [
    "'''Importing necessary classes\n",
    "'''\n",
    "import numpy as np\n",
    "import cv2\n",
    "import glob\n",
    "import matplotlib.image as mpimg\n",
    "import matplotlib.pyplot as plt\n",
    "import os \n",
    "import math \n",
    "\n",
    "#os.chdir(os.getcwd() + '/camera_cal/' )\n",
    "\n",
    "'''Loading images using glob API, converting to grayscale \n",
    "and finding corners in all images and returning image \n",
    "points and object points \n",
    "'''\n",
    "def load_testImages(ncx,ncy):\n",
    "    \n",
    "    images = glob.glob('calibration*.jpg')\n",
    "    #print('Size of input calibraion images list is ',len(images))\n",
    "    image_list = []\n",
    "    image_gray = [] \n",
    "    objpts = []\n",
    "    imgpts = []\n",
    "    obj = np.zeros((ncx*ncy,3), np.float32)\n",
    "    obj[:,:2] = np.mgrid[0:ncx,0:ncy].T.reshape(-1,2) \n",
    "    \n",
    "    for fname in images:    \n",
    "        image = mpimg.imread(fname)\n",
    "        image_list.append(image)\n",
    "        gray = cv2.cvtColor(image,cv2.COLOR_RGB2GRAY)\n",
    "        image_gray.append(gray)\n",
    "        ret,corners = cv2.findChessboardCorners(gray,(ncx,ncy),None)\n",
    "    \n",
    "        if ret == True:\n",
    "            objpts.append(obj)\n",
    "            imgpts.append(corners)\n",
    "    return objpts,imgpts,image_list,image_gray\n",
    "\n",
    "\n",
    "def camera_calibration(objpts,imgpts,shape):\n",
    "    ret,mat,dist,rv,lv = cv2.calibrateCamera(objpts,imgpts,shape,None,None)\n",
    "    return ret,mat,dist,rv,lv\n",
    "\n",
    "def undistort_image(img,mat,dist):\n",
    "    undist = cv2.undistort(img,mat,dist,None,mat)\n",
    "    return undist\n",
    "\n",
    "def binary_gradient(img,clr_thresh,gradient_thresh,sobel_kernel):\n",
    "    color1_up = clr_thresh[1]\n",
    "    color1_down = clr_thresh[0]\n",
    "    #print(len(clr_thresh))\n",
    "    #color2_up = clr_thresh[3]\n",
    "    #color2_down = clr_thresh[2]\n",
    "    clr_y_dn = clr_thresh[2]\n",
    "    clr_y_up = clr_thresh[3]\n",
    "    clr_w_dn = clr_thresh[4]\n",
    "    clr_w_up = clr_thresh[5]\n",
    "    #print(clr_thresh)\n",
    "    grad_up = gradient_thresh[1]\n",
    "    grad_down = gradient_thresh[0]\n",
    "    gradient_high = gradient_thresh[3]\n",
    "    gradient_low = gradient_thresh[2]\n",
    "    \n",
    "    grad_xup = gradient_thresh[5]\n",
    "    grad_xdown = gradient_thresh[4]\n",
    "    grad_yup = gradient_thresh[7]\n",
    "    grad_ydown = gradient_thresh[6]\n",
    "    imshape = img.shape\n",
    "    image2 = np.copy(img) \n",
    "    image1 = cv2.cvtColor(img,cv2.COLOR_RGB2HLS)\n",
    "    binary_hls  = np.zeros([imshape[0],imshape[1]])\n",
    "    binary_white = np.zeros([imshape[0],imshape[1]])\n",
    "    binary_yellow = np.zeros([imshape[0],imshape[1]])\n",
    "    mask1 = cv2.inRange(image1,clr_y_dn,clr_y_up)\n",
    "    mask2 = cv2.inRange(image1,clr_w_dn,clr_w_up)\n",
    "    s_channel = image1[:,:,2]\n",
    "    binary_white[mask2.nonzero()] = 255\n",
    "    binary_yellow[mask1.nonzero()] = 255\n",
    "    binary_hls[(s_channel<color1_up) & (s_channel>color1_down)] = 255\n",
    "    #binary_white[mask2.nonzero()] = 255\n",
    "    #cbinary = cv2.bitwise_or(binary_white,binary_hls)\n",
    "    luv_image = cv2.cvtColor(image2,cv2.COLOR_RGB2Luv)\n",
    "    l_mask = luv_image[:,:,0]\n",
    "    l_binary = np.zeros([imshape[0],imshape[1]])\n",
    "    l_binary[(l_mask<255) & (l_mask>200)] = 255\n",
    "    \n",
    "    lab_image = cv2.cvtColor(image2,cv2.COLOR_RGB2Lab)\n",
    "    lab_mask = lab_image[:,:,0]\n",
    "    lab_binary = np.zeros([imshape[0],imshape[1]])\n",
    "    lab_binary[(lab_mask<255) & (lab_mask>200)] = 255\n",
    "    \n",
    "    \n",
    "    \n",
    "    gray = cv2.cvtColor(img,cv2.COLOR_RGB2GRAY)\n",
    "    sobelx = cv2.Sobel(gray,cv2.CV_64F,1,0,ksize=sobel_kernel)\n",
    "    abs_sx = np.absolute(sobelx)\n",
    "    sobely = cv2.Sobel(gray,cv2.CV_64F,0,1,ksize=sobel_kernel)\n",
    "    abs_sy = np.absolute(sobely)\n",
    "    sobel_mag = np.sqrt(np.square(sobelx) + np.square(sobely))\n",
    "    sobel_mag = np.uint8(255*sobel_mag/np.max(sobel_mag))\n",
    "    abs_x = np.absolute(sobelx)\n",
    "    abs_y = np.absolute(sobely)\n",
    "    # 4) Use np.arctan2(abs_sobely, abs_sobelx) to calculate the direction of the gradient \n",
    "    grad = np.arctan2(abs_y, abs_x)\n",
    "    \n",
    "    \n",
    "    sbinary = np.zeros([imshape[0],imshape[1]])\n",
    "    #sbinary[((sobel_mag<=grad_up) & (sobel_mag>=grad_down) & (grad<gradient_high) & (grad>gradient_low))\n",
    "    #       |( (abs_sx<grad_xup) & (abs_sy>grad_ydown) & (abs_sy>grad_ydown) & (abs_sy<grad_yup))] = 255\n",
    "    sbinary[(sobel_mag<=grad_up) & (sobel_mag>=grad_down) & (grad<gradient_high) & (grad>gradient_low)] = 255\n",
    "    bimg = np.zeros([imshape[0],imshape[1]])\n",
    "    #binary = np.dstack(( np.zeros_like(sbinary), sbinary, binary_hls)) #binary = np.dstack((sbinary,binary_hls,bimg))\n",
    "    #binary = cv2.bitwise_or(sbinary,binary_hls)\n",
    "    \n",
    "    binary = cv2.bitwise_or(sbinary,l_binary)\n",
    "    binary = cv2.bitwise_or(binary,binary_hls)\n",
    "    binary = cv2.bitwise_or(binary,lab_binary)\n",
    "    #cbinary = cv2.bitwise_or(binary_yellow,binary_white) #commented \n",
    "    #binary = cv2.bitwise_or(cbinary,binary)  #commented\n",
    "    #binary = np.dstack((binary1,np.zeros_like(sbinary),np.zeros_like(sbinary)))\n",
    "    #plt.imshow(sbinary,cmap='gray')\n",
    "    #plt.imshow(binary_hls,cmap='gray')\n",
    "    #plt.imshow(binary)\n",
    "    return binary\n",
    "\n",
    "def lane_recognition(binary_warped,nwindows,margin,minipix,imshape):\n",
    "    nonzeroy = np.array(binary_warped.nonzero()[0])\n",
    "    nonzerox = np.array(binary_warped.nonzero()[1])\n",
    "    hist = np.sum(binary_warped,axis = 0)\n",
    "    left_inds = []\n",
    "    right_inds = []\n",
    "    #plt.plot(hist)\n",
    "    centerx = int(imshape[0]/2)\n",
    "    current_basel  = np.argmax(hist[0:centerx])\n",
    "    current_baser  = np.argmax(hist[centerx:]) + centerx\n",
    "    init_basel = current_basel\n",
    "    init_baser = current_baser\n",
    "    window_height = np.int(imshape[1]//nwindows)\n",
    "\n",
    "    #print('Initial box centers are ',current_basel,current_baser,centerx)\n",
    "\n",
    "    \n",
    "    out_img = np.dstack((binary_warped, binary_warped, binary_warped)) #np.copy(binary_warped) #\n",
    "    #plt.imshow(binary_warped,cmap='gray')\n",
    "    #plt.imshow(out_img)\n",
    "    #print('This is the size of the dstack image ',out_img.shape)\n",
    "    for window in range(nwindows) :\n",
    "\n",
    "        ylow = imshape[1]- window*window_height\n",
    "        yhigh = imshape[1]- (window+1)*window_height\n",
    "        xlow_left = current_basel - margin\n",
    "        xhigh_left = current_basel + margin\n",
    "        xlow_right = current_baser - margin\n",
    "        xhigh_right = current_baser + margin\n",
    "\n",
    "        indsl = ((nonzerox<=xhigh_left) & (nonzerox>=xlow_left) & (nonzeroy>=yhigh) &(nonzeroy<=ylow)).nonzero()[0]\n",
    "        indsr = ((nonzerox<=xhigh_right) & (nonzerox>=xlow_right) & (nonzeroy>=yhigh) &(nonzeroy<=ylow)).nonzero()[0]\n",
    "        cv2.rectangle(out_img,(xlow_left,ylow),\n",
    "        (xhigh_left,yhigh),(0,255,0), 2) \n",
    "        cv2.rectangle(out_img,(xlow_right,ylow),\n",
    "        (xhigh_right,yhigh),(0,255,0), 2) \n",
    "\n",
    "        if(len(indsl)>minipix):\n",
    "            current_basel = int(np.mean(nonzerox[indsl]))\n",
    "        if(len(indsr)>minipix):\n",
    "            current_baser = int(np.mean(nonzerox[indsr]))\n",
    "\n",
    "        left_inds.append(indsl)\n",
    "        right_inds.append(indsr)\n",
    "        \n",
    "    left_inds = np.concatenate(left_inds)\n",
    "    right_inds = np.concatenate(right_inds)\n",
    "\n",
    "    leftx = nonzerox[left_inds]\n",
    "    lefty = nonzeroy[left_inds]\n",
    "    rightx = nonzerox[right_inds]\n",
    "    righty = nonzeroy[right_inds]\n",
    "    out_img[lefty, leftx] = [255, 0, 0]\n",
    "    out_img[righty, rightx] = [0, 0, 255]\n",
    "    return leftx,lefty,rightx,righty,out_img,init_basel,init_baser\n",
    "\n",
    "def lane_recognition2(binary_warped,nwindows,margin,minipix,imshape,poly_left,left_fit,poly_right,right_fit,ploty,last_width):\n",
    "    nonzeroy = np.array(binary_warped.nonzero()[0])\n",
    "    nonzerox = np.array(binary_warped.nonzero()[1])\n",
    "    out_img = np.dstack((binary_warped, binary_warped, binary_warped)) #np.copy(binary_warped) #\n",
    "    left_inds = []\n",
    "    right_inds = []\n",
    "    for i in range(imshape[1]):\n",
    "        y = i\n",
    "        x_l = left_fit[0]*y**2 + left_fit[1]*y + left_fit[2]\n",
    "        x_r = right_fit[0]*y**2 + right_fit[1]*y + right_fit[2]\n",
    "        xlow_left =  x_l - margin\n",
    "        xhigh_left = x_l + margin\n",
    "        xlow_right = x_r - margin\n",
    "        xhigh_right = x_r + margin\n",
    "        indsl = ((nonzerox<=xhigh_left) & (nonzerox>=xlow_left) & (nonzeroy==y)).nonzero()[0]\n",
    "        indsr = ((nonzerox<=xhigh_right) & (nonzerox>=xlow_right) & (nonzeroy==y)).nonzero()[0]\n",
    "        #if(len(indsl)==0 ):\n",
    "         #   indsl = #((nonzerox = x_l) & (nonzeroy ==y))\n",
    "        left_inds.append(indsl)\n",
    "        right_inds.append(indsr)\n",
    "        \n",
    "    left_inds = np.concatenate(left_inds)\n",
    "    right_inds = np.concatenate(right_inds)\n",
    "    leftx = nonzerox[left_inds]\n",
    "    lefty = nonzeroy[left_inds]\n",
    "    rightx = nonzerox[right_inds]\n",
    "    righty = nonzeroy[right_inds]\n",
    "    out_img[lefty, leftx] = [255, 0, 0]\n",
    "    out_img[righty, rightx] = [0, 0, 255]\n",
    "    return leftx,lefty,rightx,righty,out_img\n",
    "\n",
    "\n",
    "def polynomial_fitting(leftx,lefty,rightx,righty,ploty,xm_per_pix,ym_per_pix):\n",
    "    plotym = ploty*ym_per_pix\n",
    "    leftym = lefty*ym_per_pix\n",
    "    rightxm = rightx*xm_per_pix\n",
    "    leftxm = leftx*xm_per_pix\n",
    "    rightym = righty*ym_per_pix\n",
    "    \n",
    "    left_fit = np.polyfit(lefty,leftx,2)\n",
    "    right_fit = np.polyfit(righty,rightx,2)\n",
    "\n",
    "    left_fitm = np.polyfit(leftym,leftxm,2)\n",
    "    right_fitm = np.polyfit(rightym,rightxm,2)\n",
    "    \n",
    "    try: \n",
    "        poly_left = left_fit[0]*ploty**2 + left_fit[1]*ploty + left_fit[2]\n",
    "        poly_right = right_fit[0]*ploty**2 + right_fit[1]*ploty + right_fit[2]\n",
    "        poly_leftm = left_fitm[0]*plotym**2 + left_fitm[1]*plotym + left_fitm[2]\n",
    "        poly_rightm = right_fitm[0]*plotym**2 + right_fitm[1]*plotym + right_fitm[2]\n",
    "        found_condition = True\n",
    "    except TypeError:\n",
    "        # Avoids an error if `left` and `right_fit` are still none or incorrect\n",
    "        print('The function failed to fit a line!')\n",
    "        found_condition = False\n",
    "        poly_left = 1*ploty**2 + 1*ploty\n",
    "        poly_right = 1*ploty**2 + 1*ploty\n",
    "        poly_leftm = 1*plotym**2 + 1*plotym\n",
    "        poly_rightm = 1*plotym**2 + 1*plotym\n",
    "        \n",
    "        \n",
    "    return poly_left,poly_right,poly_leftm,poly_rightm,left_fit,right_fit,left_fitm,right_fitm,found_condition\n",
    "\n",
    "def curvature_finding(ploty,poly_left,poly_right):\n",
    "    y_eval = np.min(ploty)\n",
    "    left_curverad = ((1+(2*poly_left[0]*y_eval + poly_left[1])**2)**(3/2))/(2*poly_left[0])\n",
    "    right_curverad = ((1+(2*poly_right[0]*y_eval + poly_right[1])**2)**(3/2))/(2*poly_right[0]) \n",
    "    print(y_eval,poly_left,poly_right)\n",
    "    #ploty1 = ploty*ym_per_pix\n",
    "    #leftx1 = leftx*xm_per_pix\n",
    "    #rightx1 = rightx*xm_per_pix\n",
    "    #lefty1 = lefty*ym_per_pix\n",
    "    #righty1 = righty*ym_per_pix\n",
    "    #left_fit_cr = np.polyfit(lefty1, leftx1, 2)\n",
    "    #right_fit_cr = np.polyfit(righty1, rightx1, 2)\n",
    "\n",
    "    #y_eval = np.max(ploty1)\n",
    "    ##### TO-DO: Implement the calculation of R_curve (radius of curvature) #####\n",
    "    #left_curveradm = ((1+(2*left_fit_cr[0]*y_eval + left_fit_cr[1])**2)**(3/2))/(2*left_fit_cr[0])#0  ## Implement the calculation of the left line here\n",
    "    #right_curveradm = ((1+(2*right_fit_cr[0]*y_eval + right_fit_cr[1])**2)**(3/2))/(2*right_fit_cr[0])  ## Implement the calculation of the right line here\n",
    "    #print('Left and Right radii of curvature in metres are ',left_curveradm, right_curveradm)\n",
    "    return left_curverad,right_curverad\n",
    "\n",
    "def unwarp_image(binary_warped,Minv,imshape):\n",
    "    unwarped = cv2.warpPerspective(binary_warped,Minv,imshape,None)\n",
    "    return unwarped\n",
    "\n",
    "class Lane_data():\n",
    "    def __init__(self):\n",
    "        # was the line detected in the last iteration?\n",
    "        self.detected = False  \n",
    "        # x values of the last n fits of the line\n",
    "        self.recent_xfitted = [] \n",
    "        #average x values of the fitted line over the last n iterations\n",
    "        self.bestx = None     \n",
    "        #polynomial coefficients averaged over the last n iterations\n",
    "        self.best_fit = None  \n",
    "        #polynomial coefficients for the most recent fit\n",
    "        self.current_fit = [np.array([False])]  \n",
    "        #radius of curvature of the line in some units\n",
    "        self.radius_of_curvature = None \n",
    "        #distance in meters of vehicle center from the line\n",
    "        self.line_base_pos = None \n",
    "        #difference in fit coefficients between last and new fits\n",
    "        self.diffs = np.array([0,0,0], dtype='float') \n",
    "        #x values for detected line pixels\n",
    "        self.allx = None  \n",
    "        #y values for detected line pixels\n",
    "        self.ally = None  \n",
    "        self.last_width = None"
   ]
  },
  {
   "cell_type": "code",
   "execution_count": 2,
   "metadata": {},
   "outputs": [],
   "source": [
    "from moviepy.editor import VideoFileClip\n",
    "from IPython.display import HTML\n",
    "from PIL import Image, ImageDraw,ImageFont\n",
    "from functools import reduce\n",
    "\n",
    "def process_image(image):\n",
    "    \n",
    "    #M = cv2.getPerspectiveTransform(src,dst)\n",
    "    #Minv = cv2.getPerspectiveTransform(dst,src)\n",
    "    M = np.array([[ -7.22021661e-01,  -1.53068592e+00,   1.10209386e+03],\n",
    "                 [ -1.49880108e-15,  -2.07942238e+00,   9.77328520e+02],\n",
    "                 [ -2.60208521e-18,  -2.39169675e-03,   1.00000000e+00]])\n",
    "       \n",
    "        \n",
    "    Minv = np.array([[  1.71875000e-01,  -7.36111111e-01,   5.30000000e+02],\n",
    "                     [  1.15463195e-14,  -4.80902778e-01,   4.70000000e+02],\n",
    "                     [  1.97324795e-17,  -1.15017361e-03,   1.00000000e+00]])\n",
    "        \n",
    "        \n",
    "    mat = np.array([[  1.15777818e+03,   0.00000000e+00,   6.67113857e+02],\n",
    "                     [  0.00000000e+00,   1.15282217e+03,   3.86124583e+02],\n",
    "                     [  0.00000000e+00,   0.00000000e+00,   1.00000000e+00]])\n",
    "    dist = np.array([[-0.24688507, -0.02373155, -0.00109831,  0.00035107, -0.00259867]])\n",
    "    \n",
    "    imshape = image.shape\n",
    "    undistimage = undistort_image(image,mat,dist)\n",
    "    new_img = cv2.warpPerspective(undistimage,M,(imshape[1],imshape[0]))\n",
    "\n",
    "    clr_thresh = []\n",
    "    clr_thresh.append(90)   #color thresholds\n",
    "    clr_thresh.append(255)\n",
    "    clr_thresh.append(np.array([15,0,100]))     #yellow\n",
    "    clr_thresh.append(np.array([30,255,255]))\n",
    "    clr_thresh.append(np.array([0,250,0]))       #white\n",
    "    clr_thresh.append(np.array([179,255,255]))\n",
    "    gradient_thresh = []\n",
    "    gradient_thresh.append([30])\n",
    "    gradient_thresh.append([255])\n",
    "    gradient_thresh.append([-1.3])\n",
    "    gradient_thresh.append([1.3])\n",
    "    gradient_thresh.append([0])\n",
    "    gradient_thresh.append([100])\n",
    "    gradient_thresh.append([0])\n",
    "    gradient_thresh.append([100])\n",
    "\n",
    "    sobel_kernel = 5\n",
    "\n",
    "    binary_image = binary_gradient(new_img,clr_thresh,gradient_thresh,sobel_kernel)\n",
    "\n",
    "    #print('this is the size of binary warped image',binary_image.shape)\n",
    "    binary_warped = np.copy(binary_image)\n",
    "\n",
    "    nwindows = 9\n",
    "    margin1 = 100\n",
    "    margin2 = 20\n",
    "    minipix = 50\n",
    "    ploty = np.linspace(0,imshape[0]-1,imshape[0])\n",
    "    #plt.imshow(binary_warped,cmap='gray')\n",
    "    if(len(Left_lane.recent_xfitted)==0):\n",
    "        leftx,lefty,rightx,righty,out_img,init_basel,init_baser = lane_recognition(binary_warped,nwindows,margin1,minipix,(imshape[1],imshape[0]))\n",
    "    else:\n",
    "        poly_left = Left_lane.bestx\n",
    "        left_fit = Left_lane.current_fit\n",
    "        poly_right = Right_lane.bestx\n",
    "        right_fit = Right_lane.current_fit\n",
    "        leftx,lefty,rightx,righty,out_img = lane_recognition2(binary_warped,nwindows,margin2,minipix,(imshape[1],imshape[0]),poly_left,left_fit,poly_right,right_fit,ploty,Left_lane.last_width)\n",
    "\n",
    "    ym_per_pix = 15/720 # meters per pixel in y dimension\n",
    "    xm_per_pix = 3.7/1000 # (init_baser-init_basel) #meters per pixel in x dimension\n",
    "    poly_left,poly_right,poly_leftm,poly_rightm,left_fit,right_fit,left_fitm,right_fitm,found_condition = polynomial_fitting(leftx,lefty,rightx,righty,ploty,xm_per_pix,ym_per_pix)\n",
    "    \n",
    "    minimum_length = np.absolute(np.min(poly_left-poly_right))\n",
    "    print(minimum_length) \n",
    "    Left_lane.last_width = np.mean(poly_left-poly_right)\n",
    "    Right_lane.last_width = np.mean(poly_left-poly_right)\n",
    "    if(len(Left_lane.recent_xfitted)>0):\n",
    "        crit0 = left_fit[0]/right_fit[0] #criteria #0 \n",
    "        crit00 = np.absolute(crit0)\n",
    "        if(minimum_length<700):\n",
    "        #if((minimum_length<500) | (crit0<0)):\n",
    "        #if((minimum_length<500)| (crit0<0) | ((crit0>0)& (crit00<5) & (crit00>1/5))):\n",
    "            crit1 = np.absolute(np.divide((Left_lane.current_fit[:]-left_fit[:]),Left_lane.current_fit[:]))\n",
    "            crit2 = np.absolute(np.divide((Right_lane.current_fit[:]-right_fit[:]),Right_lane.current_fit[:]))\n",
    "            if((crit1[0]> 0.5) | (crit1[1]> 0.5) | (crit1[2]> 0.5)):\n",
    "                poly_left = Left_lane.bestx\n",
    "                left_fit = Left_lane.best_fit \n",
    "            if((crit2[0]> 0.5) | (crit2[1]> 0.5) | (crit2[2]> 0.5 )):  \n",
    "                poly_right = Right_lane.bestx\n",
    "                right_fit = Right_lane.best_fit     \n",
    "                \n",
    "            \n",
    "    plotym = ploty*ym_per_pix\n",
    "    left_curverad,right_curverad = curvature_finding(ploty,left_fit,right_fit)\n",
    "    #print('Left and Right radii of curvature in pixels are ',left_curverad, right_curverad)\n",
    "    left_curveradm,right_curveradm = curvature_finding(plotym,left_fitm,right_fitm)\n",
    "    #print('Left and Right radii of curvature in meters are ',left_curveradm, right_curveradm)\n",
    "    \n",
    "    \n",
    "\n",
    "            \n",
    "\n",
    "        \n",
    "    unwarped_image = unwarp_image(out_img,Minv,(imshape[1],imshape[0]))\n",
    "    warp_zero = np.zeros_like(binary_warped).astype(np.uint8)\n",
    "    color_warp = np.dstack((warp_zero, warp_zero, warp_zero))\n",
    "    pts_left = np.array([np.transpose(np.vstack([poly_left, ploty]))])\n",
    "    pts_right = np.array([np.flipud(np.transpose(np.vstack([poly_right, ploty])))])\n",
    "    pts = np.hstack((pts_left, pts_right))\n",
    "    # Draw the lane onto the warped blank image\n",
    "    cv2.fillPoly(color_warp, np.int_([pts]), (0,255, 0))\n",
    "    # Warp the blank back to original image space using inverse perspective matrix (Minv)\n",
    "    newwarp = cv2.warpPerspective(color_warp, Minv, (image.shape[1],image.shape[0])) \n",
    "    # Combine the result with the original image\n",
    "    result = cv2.addWeighted(image, 1, newwarp, 0.3, 0)\n",
    "    #####################Text to write on image######################\n",
    "    radius_mag = np.min(np.absolute(left_curveradm)+ np.absolute(right_curveradm)) #0.5*(np.absolute(left_curveradm)+ np.absolute(right_curveradm)) #\n",
    "    end_y = image.shape[0]*ym_per_pix\n",
    "    left_lanex = left_fitm[0]*end_y**2  + left_fitm[1]*end_y + left_fitm[2]\n",
    "    right_lanex = right_fitm[0]*end_y**2  + right_fitm[1]*end_y + right_fitm[2]\n",
    "    car_gap = round((0.5*(left_lanex+right_lanex) - image.shape[1]*xm_per_pix/2),2)\n",
    "\n",
    "    if(car_gap> 0):\n",
    "        side_car = 'The vehicle is ' + str(car_gap) + ' m to the left of center '\n",
    "    elif(car_gap<0):\n",
    "        side_car = 'The vehicle is ' + str(-car_gap) + ' m to the lright of center '\n",
    "    else:\n",
    "        side_car = 'The vehicle is at the center '\n",
    "\n",
    "    radius_text = 'Radius of curvature is ' + str(np.int(radius_mag)) + ' (m)'\n",
    "    print(\"This is the average radius of curvature of the anes \" + str(radius_mag))\n",
    "    #print(os.getcwd())\n",
    "    #os.chdir('..')\n",
    "    font_type = ImageFont.truetype(\"arial.ttf\", 40, encoding=\"unic\")\n",
    "    #print(end_y,left_lanex,right_lanex,car_gap,side_car)\n",
    "    #####################Text to write on image######################   \n",
    "       #############################################################################################################       \n",
    "    if(found_condition == True):\n",
    "        numberl = len(Left_lane.recent_xfitted)\n",
    "        #print(numberl)\n",
    "        if(numberl == 0):\n",
    "            Left_lane.recent_xfitted.append(poly_left)\n",
    "            Left_lane.bestx = np.array(poly_left)\n",
    "            Left_lane.best_fit = left_fit\n",
    "            Left_lane.current_fit = left_fit\n",
    "            Left_lane.radius_of_curvature = left_curverad\n",
    "            Left_lane.line_base_pos = np.absolute(car_gap) \n",
    "            Left_lane.diffs = np.array([0,0,0], dtype='float') \n",
    "            Left_lane.allx = leftx\n",
    "            Left_lane.ally = lefty\n",
    "        else: \n",
    "            Left_lane.recent_xfitted.append(poly_left)\n",
    "            Left_lane.diffs = Left_lane.current_fit-left_fit\n",
    "            weights = np.ones(len(Left_lane.recent_xfitted))\n",
    "            weights[0] = 0.8\n",
    "            weights[1:] = 0.2/(len(weights) - 1)\n",
    "            #Left_lane.bestx = reduce(lambda a,b: a + b[0]*b[1], zip(weights, Left_lane.recent_xfitted), np.zeros(len(Left_lane.bestx)))\n",
    "            Left_lane.bestx = (Left_lane.bestx *(numberl) + poly_left)/(numberl +1 )\n",
    "            Left_lane.best_fit = (Left_lane.best_fit *(numberl) + left_fit)/(numberl +1 )\n",
    "            Left_lane.current_fit = left_fit\n",
    "            Left_lane.radius_of_curvature = left_curverad\n",
    "            Left_lane.line_base_pos = np.absolute(car_gap) \n",
    "            Left_lane.allx = leftx\n",
    "            Left_lane.ally = lefty\n",
    "         \n",
    "        numberr = len(Right_lane.recent_xfitted)\n",
    "        if(numberr == 0):\n",
    "            Right_lane.recent_xfitted.append(poly_right)\n",
    "            Right_lane.bestx = poly_right\n",
    "            Right_lane.best_fit = right_fit\n",
    "            Right_lane.current_fit = right_fit\n",
    "            Right_lane.radius_of_curvature = right_curverad\n",
    "            Right_lane.line_base_pos = np.absolute(car_gap) \n",
    "            Right_lane.diffs = np.array([0,0,0], dtype='float') \n",
    "            Right_lane.allx = rightx\n",
    "            Right_lane.ally = righty\n",
    "        else: \n",
    "            Right_lane.recent_xfitted.append(poly_right)\n",
    "            Right_lane.diffs = Right_lane.current_fit-right_fit\n",
    "            weights = np.ones(len(Right_lane.recent_xfitted))\n",
    "            weights[0] = 0.8\n",
    "            weights[1:] = 0.2/(len(weights) - 1)\n",
    "            #Right_lane.bestx = reduce(lambda a,b: a + b[0]*b[1], zip(weights, Right_lane.recent_xfitted), np.zeros(len(Left_lane.bestx)))\n",
    "            Right_lane.bestx = (Right_lane.bestx *(numberr) + poly_right)/(numberr +1 )\n",
    "            Right_lane.best_fit = (Right_lane.best_fit *(numberr) + right_fit)/(numberr +1 )\n",
    "            Right_lane.current_fit = right_fit\n",
    "            Right_lane.radius_of_curvature = right_curverad\n",
    "            Right_lane.line_base_pos = np.absolute(car_gap) \n",
    "            Right_lane.allx = rightx\n",
    "            Right_lane.ally = righty\n",
    "            \n",
    "        \n",
    "#############################################################################################################  \n",
    "    result1 = np.copy(result)\n",
    "    result = Image.fromarray(result) \n",
    "    draw = ImageDraw.Draw(result)\n",
    "    draw.text(xy=(0,0),text = radius_text,fill = (255,0,0),font=font_type)\n",
    "    draw.text(xy=(0,40),text = side_car,fill = (255,0,0),font=font_type)\n",
    "\n",
    "    #if(numberl == 10):\n",
    "     #   print(os.getcwd())\n",
    "      #  mpimg.imsave('output_images/final_output.jpg',result)\n",
    "    return np.asarray( result, dtype=\"int32\" )  #np.asarray( result, dtype=\"int32\" )\n",
    "    #return np.dstack((binary_warped,binary_warped,binary_warped))\n",
    "#np.dstack((binary_warped,binary_warped,binary_warped)) #\n",
    "#np.dstack((binary_warped,binary_warped,binary_warped))\n",
    "\n"
   ]
  },
  {
   "cell_type": "code",
   "execution_count": 3,
   "metadata": {},
   "outputs": [
    {
     "name": "stdout",
     "output_type": "stream",
     "text": [
      "910.929639368\n",
      "0.0 [ -1.59876641e-04   2.18080130e-01   2.10436132e+02] [ -1.74481171e-04   2.79547887e-01   1.08472043e+03]\n",
      "0.0 [-0.00136292  0.03873103  0.77861369] [ -1.48741709e-03   4.96477047e-02   4.01346558e+00]\n",
      "This is the average radius of curvature of the anes 705.082986625\n",
      "[MoviePy] >>>> Building video output_images/project_video.mp4\n",
      "[MoviePy] Writing video output_images/project_video.mp4\n"
     ]
    },
    {
     "name": "stderr",
     "output_type": "stream",
     "text": [
      "  0%|          | 1/1261 [00:00<13:29,  1.56it/s]"
     ]
    },
    {
     "name": "stdout",
     "output_type": "stream",
     "text": [
      "909.108655636\n",
      "0.0 [ -1.55799739e-04   2.15317453e-01   2.10701431e+02] [ -1.87826224e-04   2.88297384e-01   1.08389396e+03]\n",
      "0.0 [-0.00132816  0.03824038  0.77959529] [ -1.60118100e-03   5.12016153e-02   4.01040765e+00]\n",
      "This is the average radius of curvature of the anes 690.784554585\n"
     ]
    },
    {
     "name": "stderr",
     "output_type": "stream",
     "text": [
      "\r",
      "  0%|          | 2/1261 [00:01<13:39,  1.54it/s]"
     ]
    },
    {
     "name": "stdout",
     "output_type": "stream",
     "text": [
      "908.531036186\n",
      "0.0 [ -1.51695591e-04   2.13000435e-01   2.10907497e+02] [ -1.98663725e-04   3.02490291e-01   1.07937602e+03]\n",
      "0.0 [-0.00129317  0.03782888  0.78035774] [ -1.69356852e-03   5.37222756e-02   3.99369128e+00]\n",
      "This is the average radius of curvature of the anes 683.989259053\n"
     ]
    },
    {
     "name": "stderr",
     "output_type": "stream",
     "text": [
      "\r",
      "  0%|          | 3/1261 [00:01<13:42,  1.53it/s]"
     ]
    },
    {
     "name": "stdout",
     "output_type": "stream",
     "text": [
      "909.276731429\n",
      "0.0 [ -1.54248850e-04   2.14780266e-01   2.10753921e+02] [ -2.03945659e-04   3.15647833e-01   1.07319818e+03]\n",
      "0.0 [-0.00131494  0.03814498  0.77978951] [ -1.73859595e-03   5.60590551e-02   3.97083328e+00]\n",
      "This is the average radius of curvature of the anes 670.020643057\n"
     ]
    },
    {
     "name": "stderr",
     "output_type": "stream",
     "text": [
      "\r",
      "  0%|          | 4/1261 [00:02<13:36,  1.54it/s]"
     ]
    },
    {
     "name": "stdout",
     "output_type": "stream",
     "text": [
      "909.700693764\n",
      "0.0 [ -1.54709824e-04   2.16324754e-01   2.10586800e+02] [ -2.07810307e-04   3.31855308e-01   1.06467190e+03]\n",
      "0.0 [-0.00131887  0.03841928  0.77917116] [ -1.77154130e-03   5.89375026e-02   3.93928604e+00]\n",
      "This is the average radius of curvature of the anes 663.663997884\n"
     ]
    },
    {
     "name": "stderr",
     "output_type": "stream",
     "text": [
      "\r",
      "  0%|          | 5/1261 [00:03<13:32,  1.55it/s]"
     ]
    },
    {
     "name": "stdout",
     "output_type": "stream",
     "text": [
      "909.732380524\n",
      "0.0 [ -1.53344319e-04   2.16904620e-01   2.10493529e+02] [ -2.05243907e-04   3.36947775e-01   1.06074494e+03]\n",
      "0.0 [-0.00130723  0.03852226  0.77882606] [ -1.74966326e-03   5.98419248e-02   3.92475629e+00]\n",
      "This is the average radius of curvature of the anes 670.645660135\n"
     ]
    },
    {
     "name": "stderr",
     "output_type": "stream",
     "text": [
      "\r",
      "  0%|          | 6/1261 [00:03<13:27,  1.55it/s]"
     ]
    },
    {
     "name": "stdout",
     "output_type": "stream",
     "text": [
      "908.753111242\n",
      "0.0 [ -1.49956376e-04   2.17632779e-01   2.10301720e+02] [ -1.66372976e-04   3.08125947e-01   1.06247698e+03]\n",
      "0.0 [-0.00127835  0.03865158  0.77811636] [ -1.41829634e-03   5.47231681e-02   3.93116484e+00]\n",
      "This is the average radius of curvature of the anes 746.126969005\n"
     ]
    },
    {
     "name": "stderr",
     "output_type": "stream",
     "text": [
      "\r",
      "  1%|          | 7/1261 [00:04<13:21,  1.57it/s]"
     ]
    },
    {
     "name": "stdout",
     "output_type": "stream",
     "text": [
      "907.794424744\n",
      "0.0 [ -1.49155164e-04   2.20141455e-01   2.09678805e+02] [ -1.45327051e-04   2.90277067e-01   1.06506674e+03]\n",
      "0.0 [-0.00127152  0.03909712  0.77581158] [ -1.23888404e-03   5.15532071e-02   3.94074694e+00]\n",
      "This is the average radius of curvature of the anes 799.331798658\n"
     ]
    },
    {
     "name": "stderr",
     "output_type": "stream",
     "text": [
      "\r",
      "  1%|          | 8/1261 [00:05<13:14,  1.58it/s]"
     ]
    },
    {
     "name": "stdout",
     "output_type": "stream",
     "text": [
      "908.579745165\n",
      "0.0 [ -1.43070813e-04   2.20124080e-01   2.09390561e+02] [ -1.24647659e-04   2.82570371e-01   1.06354737e+03]\n",
      "0.0 [-0.00121965  0.03909404  0.77474508] [ -1.06259636e-03   5.01844978e-02   3.93512527e+00]\n",
      "This is the average radius of curvature of the anes 883.218107232\n"
     ]
    },
    {
     "name": "stderr",
     "output_type": "stream",
     "text": [
      "\r",
      "  1%|          | 9/1261 [00:05<13:08,  1.59it/s]"
     ]
    },
    {
     "name": "stdout",
     "output_type": "stream",
     "text": [
      "909.018486137\n",
      "0.0 [ -1.46075084e-04   2.24337717e-01   2.08350426e+02] [ -9.89191970e-05   2.58061557e-01   1.06874372e+03]\n",
      "0.0 [-0.00124526  0.03984238  0.77089658] [ -8.43266371e-04   4.58317325e-02   3.95435175e+00]\n",
      "This is the average radius of curvature of the anes 997.280404472\n"
     ]
    },
    {
     "name": "stderr",
     "output_type": "stream",
     "text": [
      "\r",
      "  1%|          | 10/1261 [00:06<13:02,  1.60it/s]"
     ]
    },
    {
     "name": "stdout",
     "output_type": "stream",
     "text": [
      "904.983221407\n",
      "0.0 [ -1.59120822e-04   2.35406987e-01   2.06259386e+02] [ -1.54636294e-04   3.04804358e-01   1.05902757e+03]\n",
      "0.0 [-0.00135647  0.04180828  0.76315973] [ -1.31824348e-03   5.41332539e-02   3.91840202e+00]\n",
      "This is the average radius of curvature of the anes 750.530846412\n"
     ]
    },
    {
     "name": "stderr",
     "output_type": "stream",
     "text": [
      "\r",
      "  1%|          | 11/1261 [00:06<12:55,  1.61it/s]"
     ]
    },
    {
     "name": "stdout",
     "output_type": "stream",
     "text": [
      "903.846180431\n",
      "0.0 [ -1.76014664e-04   2.51543100e-01   2.02831188e+02] [ -1.83963180e-04   3.38581925e-01   1.04820553e+03]\n",
      "0.0 [-0.00150049  0.04467405  0.7504754 ] [ -1.56824932e-03   6.01321499e-02   3.87836044e+00]\n",
      "This is the average radius of curvature of the anes 654.78025582\n"
     ]
    },
    {
     "name": "stderr",
     "output_type": "stream",
     "text": [
      "\r",
      "  1%|          | 12/1261 [00:07<12:48,  1.62it/s]"
     ]
    },
    {
     "name": "stdout",
     "output_type": "stream",
     "text": [
      "906.582194151\n",
      "0.0 [ -1.90605216e-04   2.68304876e-01   1.96295377e+02] [ -1.71310759e-04   3.16800356e-01   1.05803484e+03]\n",
      "0.0 [-0.00162487  0.04765095  0.7262929 ] [ -1.46038996e-03   5.62637432e-02   3.91472891e+00]\n",
      "This is the average radius of curvature of the anes 652.766650193\n"
     ]
    },
    {
     "name": "stderr",
     "output_type": "stream",
     "text": [
      "\r",
      "  1%|          | 13/1261 [00:08<12:54,  1.61it/s]"
     ]
    },
    {
     "name": "stdout",
     "output_type": "stream",
     "text": [
      "907.811332246\n",
      "0.0 [ -1.93339556e-04   2.76682287e-01   1.91803911e+02] [ -1.64252415e-04   3.14155518e-01   1.05763507e+03]\n",
      "0.0 [-0.00164818  0.04913877  0.70967447] [ -1.40021899e-03   5.57940200e-02   3.91324977e+00]\n",
      "This is the average radius of curvature of the anes 663.219861847\n"
     ]
    },
    {
     "name": "stderr",
     "output_type": "stream",
     "text": [
      "\r",
      "  1%|          | 14/1261 [00:08<13:10,  1.58it/s]"
     ]
    },
    {
     "name": "stdout",
     "output_type": "stream",
     "text": [
      "908.902696295\n",
      "0.0 [ -2.02041177e-04   2.88672770e-01   1.87486545e+02] [ -1.55689050e-04   3.10984951e-01   1.05638454e+03]\n",
      "0.0 [-0.00172236  0.05126828  0.69370022] [ -1.32721801e-03   5.52309273e-02   3.90862280e+00]\n",
      "This is the average radius of curvature of the anes 669.89751341\n"
     ]
    },
    {
     "name": "stderr",
     "output_type": "stream",
     "text": [
      "\r",
      "  1%|          | 15/1261 [00:09<13:17,  1.56it/s]"
     ]
    },
    {
     "name": "stdout",
     "output_type": "stream",
     "text": [
      "906.217239804\n",
      "0.0 [ -1.98703742e-04   2.88391775e-01   1.86831348e+02] [ -1.60666533e-04   3.28424232e-01   1.04460150e+03]\n",
      "0.0 [-0.00169391  0.05121838  0.69127599] [ -1.36965006e-03   5.83281436e-02   3.86502554e+00]\n",
      "This is the average radius of curvature of the anes 663.258712654\n"
     ]
    },
    {
     "name": "stderr",
     "output_type": "stream",
     "text": [
      "\r",
      "  1%|▏         | 16/1261 [00:10<13:17,  1.56it/s]"
     ]
    },
    {
     "name": "stdout",
     "output_type": "stream",
     "text": [
      "902.085869355\n",
      "0.0 [ -1.94718035e-04   2.86042996e-01   1.86996847e+02] [ -1.63183100e-04   3.44687439e-01   1.03061503e+03]\n",
      "0.0 [-0.00165993  0.05080124  0.69188833] [ -1.39110329e-03   6.12164891e-02   3.81327561e+00]\n",
      "This is the average radius of curvature of the anes 663.833150921\n"
     ]
    },
    {
     "name": "stderr",
     "output_type": "stream",
     "text": [
      "\r",
      "  1%|▏         | 17/1261 [00:10<13:19,  1.56it/s]"
     ]
    },
    {
     "name": "stdout",
     "output_type": "stream",
     "text": [
      "900.298315664\n",
      "0.0 [ -1.95639830e-04   2.87264369e-01   1.86155355e+02] [ -1.40915434e-04   3.31130961e-01   1.02662321e+03]\n",
      "0.0 [-0.00166779  0.05101815  0.68877481] [ -1.20127589e-03   5.88088586e-02   3.79850589e+00]\n",
      "This is the average radius of curvature of the anes 719.354357301\n"
     ]
    },
    {
     "name": "stderr",
     "output_type": "stream",
     "text": [
      "\r",
      "  1%|▏         | 18/1261 [00:11<13:17,  1.56it/s]"
     ]
    },
    {
     "name": "stdout",
     "output_type": "stream",
     "text": [
      "897.582757832\n",
      "0.0 [ -1.92442925e-04   2.85292993e-01   1.85796954e+02] [ -1.46128586e-04   3.41833274e-01   1.01878454e+03]\n",
      "0.0 [-0.00164054  0.05066804  0.68744873] [ -1.24571697e-03   6.07095894e-02   3.76950281e+00]\n",
      "This is the average radius of curvature of the anes 709.548905151\n"
     ]
    },
    {
     "name": "stderr",
     "output_type": "stream",
     "text": [
      "\r",
      "  2%|▏         | 19/1261 [00:12<13:08,  1.57it/s]"
     ]
    },
    {
     "name": "stdout",
     "output_type": "stream",
     "text": [
      "898.762435656\n",
      "0.0 [ -1.86218807e-04   2.82396359e-01   1.84031273e+02] [ -1.23014825e-04   3.21011573e-01   1.02235538e+03]\n",
      "0.0 [-0.00158748  0.05015359  0.68091571] [ -1.04867678e-03   5.70116554e-02   3.78271489e+00]\n",
      "This is the average radius of curvature of the anes 795.271925315\n"
     ]
    },
    {
     "name": "stderr",
     "output_type": "stream",
     "text": [
      "\r",
      "  2%|▏         | 20/1261 [00:12<12:53,  1.60it/s]"
     ]
    },
    {
     "name": "stdout",
     "output_type": "stream",
     "text": [
      "898.868787839\n",
      "0.0 [ -1.69041385e-04   2.70995713e-01   1.82897655e+02] [ -1.00490112e-04   2.96768533e-01   1.02779745e+03]\n",
      "0.0 [-0.00144104  0.04812884  0.67672132] [ -8.56658106e-04   5.27060915e-02   3.80285057e+00]\n",
      "This is the average radius of curvature of the anes 934.274116502\n"
     ]
    },
    {
     "name": "stderr",
     "output_type": "stream",
     "text": [
      "\r",
      "  2%|▏         | 21/1261 [00:13<12:44,  1.62it/s]"
     ]
    },
    {
     "name": "stdout",
     "output_type": "stream",
     "text": [
      "898.63043503\n",
      "0.0 [ -1.45809586e-04   2.55038614e-01   1.82077471e+02] [ -5.77640034e-05   2.46841166e-01   1.04108574e+03]\n",
      "0.0 [-0.001243    0.04529486  0.67368664] [ -4.92426576e-04   4.38389911e-02   3.85201723e+00]\n",
      "This is the average radius of curvature of the anes 1421.80028058\n"
     ]
    },
    {
     "name": "stderr",
     "output_type": "stream",
     "text": [
      "\r",
      "  2%|▏         | 22/1261 [00:13<12:37,  1.64it/s]"
     ]
    },
    {
     "name": "stdout",
     "output_type": "stream",
     "text": [
      "897.280877629\n",
      "0.0 [ -1.20939217e-04   2.37577609e-01   1.81008849e+02] [ -5.11269676e-05   2.21831350e-01   1.05352108e+03]\n",
      "0.0 [-0.00103098  0.04219378  0.66973274] [ -4.35847173e-04   3.93972478e-02   3.89802798e+00]\n",
      "This is the average radius of curvature of the anes 1636.13295527\n"
     ]
    },
    {
     "name": "stderr",
     "output_type": "stream",
     "text": [
      "\r",
      "  2%|▏         | 23/1261 [00:14<12:29,  1.65it/s]"
     ]
    },
    {
     "name": "stdout",
     "output_type": "stream",
     "text": [
      "895.005985974\n",
      "0.0 [ -1.02907640e-04   2.24038120e-01   1.79546682e+02] [ -9.08578054e-05   2.39477906e-01   1.05722217e+03]\n",
      "0.0 [-0.00087727  0.03978917  0.66432272] [ -7.74544620e-04   4.25312762e-02   3.91172202e+00]\n",
      "This is the average radius of curvature of the anes 1218.59889579\n"
     ]
    },
    {
     "name": "stderr",
     "output_type": "stream",
     "text": [
      "\r",
      "  2%|▏         | 24/1261 [00:15<12:27,  1.66it/s]"
     ]
    },
    {
     "name": "stdout",
     "output_type": "stream",
     "text": [
      "893.064793053\n",
      "0.0 [ -9.95013253e-05   2.18437251e-01   1.79500611e+02] [ -1.42043504e-04   2.78863594e-01   1.05110821e+03]\n",
      "0.0 [-0.00084823  0.03879446  0.66415226] [ -1.21089246e-03   4.95261744e-02   3.88910039e+00]\n",
      "This is the average radius of curvature of the anes 1005.2335028\n"
     ]
    },
    {
     "name": "stderr",
     "output_type": "stream",
     "text": [
      "\r",
      "  2%|▏         | 25/1261 [00:15<12:25,  1.66it/s]"
     ]
    },
    {
     "name": "stdout",
     "output_type": "stream",
     "text": [
      "894.13495001\n",
      "0.0 [ -9.98549484e-05   2.15319598e-01   1.79703856e+02] [ -1.79093178e-04   3.11551607e-01   1.04462122e+03]\n",
      "0.0 [-0.00085124  0.03824076  0.66490427] [ -1.52673353e-03   5.53315654e-02   3.86509852e+00]\n",
      "This is the average radius of curvature of the anes 917.666633802\n"
     ]
    },
    {
     "name": "stderr",
     "output_type": "stream",
     "text": [
      "\r",
      "  2%|▏         | 26/1261 [00:16<12:38,  1.63it/s]"
     ]
    },
    {
     "name": "stdout",
     "output_type": "stream",
     "text": [
      "898.541983885\n",
      "0.0 [ -9.85538476e-05   2.10130696e-01   1.79753869e+02] [ -1.93049689e-04   3.19160330e-01   1.04684616e+03]\n",
      "0.0 [-0.00084015  0.03731921  0.66508931] [ -1.64570999e-03   5.66828745e-02   3.87333079e+00]\n",
      "This is the average radius of curvature of the anes 901.659881087\n"
     ]
    },
    {
     "name": "stderr",
     "output_type": "stream",
     "text": [
      "\r",
      "  2%|▏         | 27/1261 [00:16<12:48,  1.61it/s]"
     ]
    },
    {
     "name": "stdout",
     "output_type": "stream",
     "text": [
      "904.395779326\n",
      "0.0 [ -1.02916040e-04   2.09088280e-01   1.79552675e+02] [ -1.74403063e-04   3.05912129e-01   1.05116328e+03]\n",
      "0.0 [-0.00087734  0.03713408  0.6643449 ] [ -1.48675123e-03   5.43299940e-02   3.88930415e+00]\n",
      "This is the average radius of curvature of the anes 908.878425424\n"
     ]
    },
    {
     "name": "stderr",
     "output_type": "stream",
     "text": [
      "\r",
      "  2%|▏         | 28/1261 [00:17<12:58,  1.58it/s]"
     ]
    },
    {
     "name": "stdout",
     "output_type": "stream",
     "text": [
      "912.026175939\n",
      "0.0 [ -1.07790053e-04   2.08203056e-01   1.78797539e+02] [ -1.62267646e-04   2.87710161e-01   1.06182090e+03]\n",
      "0.0 [-0.00091889  0.03697686  0.66155089] [ -1.38329923e-03   5.10973247e-02   3.92873732e+00]\n",
      "This is the average radius of curvature of the anes 908.1231612\n"
     ]
    },
    {
     "name": "stderr",
     "output_type": "stream",
     "text": [
      "\r",
      "  2%|▏         | 29/1261 [00:18<13:04,  1.57it/s]"
     ]
    },
    {
     "name": "stdout",
     "output_type": "stream",
     "text": [
      "916.687363243\n",
      "0.0 [ -1.17062760e-04   2.12339022e-01   1.78223271e+02] [ -1.62025287e-04   2.88688627e-01   1.06325914e+03]\n",
      "0.0 [-0.00099794  0.03771141  0.6594261 ] [ -1.38123317e-03   5.12711001e-02   3.93405882e+00]\n",
      "This is the average radius of curvature of the anes 865.526702524\n"
     ]
    },
    {
     "name": "stderr",
     "output_type": "stream",
     "text": [
      "\r",
      "  2%|▏         | 30/1261 [00:18<13:10,  1.56it/s]"
     ]
    },
    {
     "name": "stdout",
     "output_type": "stream",
     "text": [
      "916.679384774\n",
      "0.0 [ -1.21195963e-04   2.14118894e-01   1.78143800e+02] [ -1.66561338e-04   2.93699897e-01   1.06105657e+03]\n",
      "0.0 [-0.00103317  0.03802752  0.65913206] [ -1.41990209e-03   5.21611016e-02   3.92590932e+00]\n",
      "This is the average radius of curvature of the anes 838.572024038\n"
     ]
    },
    {
     "name": "stderr",
     "output_type": "stream",
     "text": [
      "\r",
      "  2%|▏         | 31/1261 [00:19<13:06,  1.56it/s]"
     ]
    },
    {
     "name": "stdout",
     "output_type": "stream",
     "text": [
      "917.639169866\n",
      "0.0 [ -1.25689707e-04   2.15695860e-01   1.78835303e+02] [ -1.64130039e-04   2.99167096e-01   1.05633081e+03]\n",
      "0.0 [-0.00107148  0.03830758  0.66169062] [ -1.39917576e-03   5.31320763e-02   3.90842398e+00]\n",
      "This is the average radius of curvature of the anes 826.539529922\n"
     ]
    },
    {
     "name": "stderr",
     "output_type": "stream",
     "text": [
      "\r",
      "  3%|▎         | 32/1261 [00:20<12:55,  1.58it/s]"
     ]
    },
    {
     "name": "stdout",
     "output_type": "stream",
     "text": [
      "915.745064954\n",
      "0.0 [ -1.41364865e-04   2.24105796e-01   1.80656894e+02] [ -1.74949652e-04   3.18224908e-01   1.04609234e+03]\n",
      "0.0 [-0.00120511  0.03980119  0.66843051] [ -1.49141079e-03   5.65167437e-02   3.87054167e+00]\n",
      "This is the average radius of curvature of the anes 752.747714893\n"
     ]
    },
    {
     "name": "stderr",
     "output_type": "stream",
     "text": [
      "\r",
      "  3%|▎         | 33/1261 [00:20<12:45,  1.60it/s]"
     ]
    },
    {
     "name": "stdout",
     "output_type": "stream",
     "text": [
      "916.814587419\n",
      "0.0 [ -1.48113976e-04   2.27356245e-01   1.81009195e+02] [ -1.48543622e-04   2.93324713e-01   1.05061456e+03]\n",
      "0.0 [-0.00126264  0.04037847  0.66973402] [ -1.26630467e-03   5.20944690e-02   3.88727389e+00]\n",
      "This is the average radius of curvature of the anes 793.422020117\n"
     ]
    },
    {
     "name": "stderr",
     "output_type": "stream",
     "text": [
      "\r",
      "  3%|▎         | 34/1261 [00:21<12:46,  1.60it/s]"
     ]
    },
    {
     "name": "stdout",
     "output_type": "stream",
     "text": [
      "913.660164095\n",
      "0.0 [ -1.54691330e-04   2.32545833e-01   1.81292670e+02] [ -1.65662889e-04   3.06598588e-01   1.04738077e+03]\n",
      "0.0 [-0.00131871  0.04130014  0.67078288] [ -1.41224300e-03   5.44519093e-02   3.87530886e+00]\n",
      "This is the average radius of curvature of the anes 735.750680438\n"
     ]
    },
    {
     "name": "stderr",
     "output_type": "stream",
     "text": [
      "\r",
      "  3%|▎         | 35/1261 [00:22<12:43,  1.61it/s]"
     ]
    },
    {
     "name": "stdout",
     "output_type": "stream",
     "text": [
      "909.276972456\n",
      "0.0 [ -1.56188614e-04   2.33380688e-01   1.82784764e+02] [ -2.00255294e-04   3.37218448e-01   1.04018314e+03]\n",
      "0.0 [-0.00133148  0.04144841  0.67630363] [ -1.70713633e-03   5.98899963e-02   3.84867763e+00]\n",
      "This is the average radius of curvature of the anes 670.956391819\n"
     ]
    },
    {
     "name": "stderr",
     "output_type": "stream",
     "text": [
      "\r",
      "  3%|▎         | 36/1261 [00:22<12:40,  1.61it/s]"
     ]
    },
    {
     "name": "stdout",
     "output_type": "stream",
     "text": [
      "903.654538462\n",
      "0.0 [ -1.64670663e-04   2.41680369e-01   1.83184792e+02] [ -2.40496835e-04   3.76558629e-01   1.02906104e+03]\n",
      "0.0 [-0.00140378  0.04292243  0.67778373] [ -2.05018742e-03   6.68768126e-02   3.80752583e+00]\n",
      "This is the average radius of curvature of the anes 602.682897383\n"
     ]
    },
    {
     "name": "stderr",
     "output_type": "stream",
     "text": [
      "\r",
      "  3%|▎         | 37/1261 [00:23<12:38,  1.61it/s]"
     ]
    },
    {
     "name": "stdout",
     "output_type": "stream",
     "text": [
      "901.351262888\n",
      "0.0 [ -1.69917908e-04   2.45651709e-01   1.84551260e+02] [ -2.52858162e-04   3.93595961e-01   1.02240748e+03]\n",
      "0.0 [-0.00144852  0.04362774  0.68283966] [ -2.15556526e-03   6.99026427e-02   3.78290768e+00]\n",
      "This is the average radius of curvature of the anes 579.826745907\n"
     ]
    },
    {
     "name": "stderr",
     "output_type": "stream",
     "text": [
      "\r",
      "  3%|▎         | 38/1261 [00:23<12:48,  1.59it/s]"
     ]
    },
    {
     "name": "stdout",
     "output_type": "stream",
     "text": [
      "901.178615099\n",
      "0.0 [ -1.77129640e-04   2.52050299e-01   1.85327866e+02] [ -2.38778481e-04   3.86668159e-01   1.02158629e+03]\n",
      "0.0 [-0.00150999  0.04476413  0.68571311] [ -2.03553880e-03   6.86722650e-02   3.77986926e+00]\n",
      "This is the average radius of curvature of the anes 579.497595109\n"
     ]
    },
    {
     "name": "stderr",
     "output_type": "stream",
     "text": [
      "\r",
      "  3%|▎         | 39/1261 [00:24<12:48,  1.59it/s]"
     ]
    },
    {
     "name": "stdout",
     "output_type": "stream",
     "text": [
      "900.9742826\n",
      "0.0 [ -1.89958947e-04   2.61993580e-01   1.85911237e+02] [ -2.27949444e-04   3.89436118e-01   1.01489394e+03]\n",
      "0.0 [-0.00161936  0.04653006  0.68787158] [ -1.94322342e-03   6.91638546e-02   3.75510758e+00]\n",
      "This is the average radius of curvature of the anes 568.919757874\n"
     ]
    },
    {
     "name": "stderr",
     "output_type": "stream",
     "text": [
      "\r",
      "  3%|▎         | 40/1261 [00:25<12:50,  1.58it/s]"
     ]
    },
    {
     "name": "stdout",
     "output_type": "stream",
     "text": [
      "902.419965284\n",
      "0.0 [ -1.89347288e-04   2.62786672e-01   1.86132522e+02] [ -2.02724482e-04   3.76035456e-01   1.01404210e+03]\n",
      "0.0 [-0.00161415  0.04667091  0.68869033] [ -1.72818566e-03   6.67838969e-02   3.75195577e+00]\n",
      "This is the average radius of curvature of the anes 602.032123609\n"
     ]
    },
    {
     "name": "stderr",
     "output_type": "stream",
     "text": [
      "\r",
      "  3%|▎         | 41/1261 [00:25<12:54,  1.57it/s]"
     ]
    },
    {
     "name": "stdout",
     "output_type": "stream",
     "text": [
      "903.05227989\n",
      "0.0 [ -1.88977710e-04   2.64036041e-01   1.86113731e+02] [ -1.90120916e-04   3.71556198e-01   1.01245001e+03]\n",
      "0.0 [-0.001611    0.0468928   0.68862081] [ -1.62074278e-03   6.59883808e-02   3.74606504e+00]\n",
      "This is the average radius of curvature of the anes 621.908801304\n"
     ]
    },
    {
     "name": "stderr",
     "output_type": "stream",
     "text": [
      "\r",
      "  3%|▎         | 42/1261 [00:26<12:55,  1.57it/s]"
     ]
    },
    {
     "name": "stdout",
     "output_type": "stream",
     "text": [
      "904.105732488\n",
      "0.0 [ -1.90236379e-04   2.67010121e-01   1.85712173e+02] [ -1.85539829e-04   3.73722872e-01   1.01066350e+03]\n",
      "0.0 [-0.00162173  0.047421    0.68713504] [ -1.58168993e-03   6.63731820e-02   3.73945497e+00]\n",
      "This is the average radius of curvature of the anes 627.56266496\n"
     ]
    },
    {
     "name": "stderr",
     "output_type": "stream",
     "text": [
      "\r",
      "  3%|▎         | 43/1261 [00:27<14:47,  1.37it/s]"
     ]
    },
    {
     "name": "stdout",
     "output_type": "stream",
     "text": [
      "906.242964784\n",
      "0.0 [ -1.94402821e-04   2.72754504e-01   1.84518202e+02] [ -1.59502145e-04   3.53135593e-01   1.01492487e+03]\n",
      "0.0 [-0.00165725  0.0484412   0.68271735] [ -1.35972388e-03   6.27168813e-02   3.75522204e+00]\n",
      "This is the average radius of curvature of the anes 672.661530916\n"
     ]
    },
    {
     "name": "stderr",
     "output_type": "stream",
     "text": [
      "\r",
      "  3%|▎         | 44/1261 [00:28<14:36,  1.39it/s]"
     ]
    },
    {
     "name": "stdout",
     "output_type": "stream",
     "text": [
      "908.063093923\n",
      "0.0 [ -2.06387026e-04   2.83601468e-01   1.82398316e+02] [ -1.49603629e-04   3.37828448e-01   1.02211741e+03]\n",
      "0.0 [-0.00175941  0.05036762  0.67487377] [ -1.27534102e-03   5.99983325e-02   3.78183442e+00]\n",
      "This is the average radius of curvature of the anes 679.439464455\n"
     ]
    },
    {
     "name": "stderr",
     "output_type": "stream",
     "text": [
      "\r",
      "  4%|▎         | 45/1261 [00:28<14:35,  1.39it/s]"
     ]
    },
    {
     "name": "stdout",
     "output_type": "stream",
     "text": [
      "909.743533522\n",
      "0.0 [ -2.20340146e-04   2.98411812e-01   1.78889351e+02] [ -1.31192165e-04   3.13879367e-01   1.03142568e+03]\n",
      "0.0 [-0.00187836  0.05299794  0.6618906 ] [ -1.11838697e-03   5.57449756e-02   3.81627503e+00]\n",
      "This is the average radius of curvature of the anes 716.470545946\n"
     ]
    },
    {
     "name": "stderr",
     "output_type": "stream",
     "text": [
      "\r",
      "  4%|▎         | 46/1261 [00:29<14:31,  1.39it/s]"
     ]
    },
    {
     "name": "stdout",
     "output_type": "stream",
     "text": [
      "915.439813325\n",
      "0.0 [ -2.29892701e-04   3.08267722e-01   1.76468299e+02] [ -7.02168503e-05   2.62933748e-01   1.04195705e+03]\n",
      "0.0 [-0.00195979  0.05474835  0.65293271] [ -5.98584605e-04   4.66970337e-02   3.85524109e+00]\n",
      "This is the average radius of curvature of the anes 1094.31491549\n"
     ]
    },
    {
     "name": "stderr",
     "output_type": "stream",
     "text": [
      "\r",
      "  4%|▎         | 47/1261 [00:30<14:21,  1.41it/s]"
     ]
    },
    {
     "name": "stdout",
     "output_type": "stream",
     "text": [
      "916.396257915\n",
      "0.0 [ -2.44169435e-04   3.22613984e-01   1.72656672e+02] [ -5.12568843e-05   2.37567746e-01   1.05047291e+03]\n",
      "0.0 [-0.0020815   0.05729624  0.63882968] [ -4.36954687e-04   4.21920317e-02   3.88674977e+00]\n",
      "This is the average radius of curvature of the anes 1388.73603176\n"
     ]
    },
    {
     "name": "stderr",
     "output_type": "stream",
     "text": [
      "\r",
      "  4%|▍         | 48/1261 [00:30<14:14,  1.42it/s]"
     ]
    },
    {
     "name": "stdout",
     "output_type": "stream",
     "text": [
      "908.38357426\n",
      "0.0 [ -2.46674198e-04   3.28270828e-01   1.70410999e+02] [ -1.26794669e-04   2.96792729e-01   1.03945429e+03]\n",
      "0.0 [-0.00210285  0.0583009   0.6305207 ] [ -1.08089920e-03   5.27103887e-02   3.84598085e+00]\n",
      "This is the average radius of curvature of the anes 703.493054612\n"
     ]
    },
    {
     "name": "stderr",
     "output_type": "stream",
     "text": [
      "\r",
      "  4%|▍         | 49/1261 [00:31<14:18,  1.41it/s]"
     ]
    },
    {
     "name": "stdout",
     "output_type": "stream",
     "text": [
      "905.658656406\n",
      "0.0 [ -2.49176318e-04   3.35741506e-01   1.66193882e+02] [ -1.69661287e-04   3.26968119e-01   1.03705443e+03]\n",
      "0.0 [-0.00212418  0.05962769  0.61491736] [ -1.44632854e-03   5.80695380e-02   3.83710140e+00]\n",
      "This is the average radius of curvature of the anes 584.094604629\n"
     ]
    },
    {
     "name": "stderr",
     "output_type": "stream",
     "text": [
      "\r",
      "  4%|▍         | 50/1261 [00:32<14:08,  1.43it/s]"
     ]
    },
    {
     "name": "stdout",
     "output_type": "stream",
     "text": [
      "903.267980749\n",
      "0.0 [ -2.42025586e-04   3.36151122e-01   1.63377694e+02] [ -2.03580955e-04   3.57615465e-01   1.03133844e+03]\n",
      "0.0 [-0.00206322  0.05970044  0.60449747] [ -1.73548693e-03   6.35125067e-02   3.81595222e+00]\n",
      "This is the average radius of curvature of the anes 533.485013652\n"
     ]
    },
    {
     "name": "stderr",
     "output_type": "stream",
     "text": [
      "\r",
      "  4%|▍         | 51/1261 [00:33<14:26,  1.40it/s]"
     ]
    },
    {
     "name": "stdout",
     "output_type": "stream",
     "text": [
      "903.919186192\n",
      "0.0 [ -2.43851384e-04   3.43363529e-01   1.59464021e+02] [ -2.01108699e-04   3.58311203e-01   1.03053953e+03]\n",
      "0.0 [-0.00207878  0.06098136  0.59001688] [ -1.71441144e-03   6.36360697e-02   3.81299626e+00]\n",
      "This is the average radius of curvature of the anes 535.286733262\n"
     ]
    },
    {
     "name": "stderr",
     "output_type": "stream",
     "text": [
      "\r",
      "  4%|▍         | 52/1261 [00:33<14:18,  1.41it/s]"
     ]
    },
    {
     "name": "stdout",
     "output_type": "stream",
     "text": [
      "902.065200657\n",
      "0.0 [ -2.32751340e-04   3.37479799e-01   1.59374599e+02] [ -2.03916603e-04   3.64171841e-01   1.02734179e+03]\n",
      "0.0 [-0.00198416  0.05993641  0.58968602] [ -1.73834826e-03   6.46769189e-02   3.80116461e+00]\n",
      "This is the average radius of curvature of the anes 542.79111858\n"
     ]
    },
    {
     "name": "stderr",
     "output_type": "stream",
     "text": [
      "\r",
      "  4%|▍         | 53/1261 [00:34<14:14,  1.41it/s]"
     ]
    },
    {
     "name": "stdout",
     "output_type": "stream",
     "text": [
      "898.654723981\n",
      "0.0 [ -2.27459313e-04   3.35965657e-01   1.58559617e+02] [ -2.28887210e-04   3.91072009e-01   1.01833104e+03]\n",
      "0.0 [-0.00193905  0.0596675   0.58667058] [ -1.95121769e-03   6.94543887e-02   3.76782485e+00]\n",
      "This is the average radius of curvature of the anes 517.343813672\n"
     ]
    },
    {
     "name": "stderr",
     "output_type": "stream",
     "text": [
      "\r",
      "  4%|▍         | 54/1261 [00:35<14:10,  1.42it/s]"
     ]
    },
    {
     "name": "stdout",
     "output_type": "stream",
     "text": [
      "898.696861941\n",
      "0.0 [ -2.23240136e-04   3.33672436e-01   1.58129526e+02] [ -2.25537478e-04   3.98227829e-01   1.01159870e+03]\n",
      "0.0 [-0.00190308  0.05926022  0.58507925] [ -1.92266190e-03   7.07252624e-02   3.74291518e+00]\n",
      "This is the average radius of curvature of the anes 526.127322222\n"
     ]
    },
    {
     "name": "stderr",
     "output_type": "stream",
     "text": [
      "\r",
      "  4%|▍         | 55/1261 [00:35<13:58,  1.44it/s]"
     ]
    },
    {
     "name": "stdout",
     "output_type": "stream",
     "text": [
      "900.997095318\n",
      "0.0 [ -2.19565886e-04   3.32925301e-01   1.56429748e+02] [ -2.01526143e-04   3.82169697e-01   1.01269428e+03]\n",
      "0.0 [-0.00187176  0.05912753  0.57879007] [ -1.71797006e-03   6.78733382e-02   3.74696883e+00]\n",
      "This is the average radius of curvature of the anes 561.585637064\n"
     ]
    },
    {
     "name": "stderr",
     "output_type": "stream",
     "text": [
      "\r",
      "  4%|▍         | 56/1261 [00:36<14:03,  1.43it/s]"
     ]
    },
    {
     "name": "stdout",
     "output_type": "stream",
     "text": [
      "902.713993107\n",
      "0.0 [ -2.06788608e-04   3.23936803e-01   1.55922011e+02] [ -1.84366574e-04   3.68470999e-01   1.01502460e+03]\n",
      "0.0 [-0.00176283  0.05753118  0.57691144] [ -1.57168817e-03   6.54404493e-02   3.75559102e+00]\n",
      "This is the average radius of curvature of the anes 605.21894316\n"
     ]
    },
    {
     "name": "stderr",
     "output_type": "stream",
     "text": [
      "\r",
      "  5%|▍         | 57/1261 [00:37<14:01,  1.43it/s]"
     ]
    },
    {
     "name": "stdout",
     "output_type": "stream",
     "text": [
      "903.67555915\n",
      "0.0 [ -1.95114136e-04   3.15055086e-01   1.56183251e+02] [ -1.63974484e-04   3.50513452e-01   1.01826626e+03]\n",
      "0.0 [-0.00166331  0.05595378  0.57787803] [ -1.39784969e-03   6.22511891e-02   3.76758516e+00]\n",
      "This is the average radius of curvature of the anes 661.791885801\n"
     ]
    },
    {
     "name": "stderr",
     "output_type": "stream",
     "text": [
      "\r",
      "  5%|▍         | 58/1261 [00:37<13:51,  1.45it/s]"
     ]
    },
    {
     "name": "stdout",
     "output_type": "stream",
     "text": [
      "902.666251851\n",
      "0.0 [ -1.82667203e-04   3.04553938e-01   1.56777169e+02] [ -1.75052977e-04   3.59121034e-01   1.01627342e+03]\n",
      "0.0 [-0.0015572   0.05408878  0.58007552] [ -1.49229162e-03   6.37798957e-02   3.76021166e+00]\n",
      "This is the average radius of curvature of the anes 659.600622571\n"
     ]
    },
    {
     "name": "stderr",
     "output_type": "stream",
     "text": [
      "\r",
      "  5%|▍         | 59/1261 [00:38<14:03,  1.42it/s]"
     ]
    },
    {
     "name": "stdout",
     "output_type": "stream",
     "text": [
      "903.157896169\n",
      "0.0 [ -1.72812452e-04   2.95490525e-01   1.58418617e+02] [ -1.54800001e-04   3.50309944e-01   1.01284962e+03]\n",
      "0.0 [-0.00147319  0.05247912  0.58614888] [ -1.31963905e-03   6.22150460e-02   3.74754358e+00]\n",
      "This is the average radius of curvature of the anes 721.895703683\n"
     ]
    },
    {
     "name": "stderr",
     "output_type": "stream",
     "text": [
      "\r",
      "  5%|▍         | 60/1261 [00:39<13:56,  1.44it/s]"
     ]
    },
    {
     "name": "stdout",
     "output_type": "stream",
     "text": [
      "902.425339109\n",
      "0.0 [ -1.59177440e-04   2.83707181e-01   1.60623428e+02] [ -1.56801194e-04   3.70687304e-01   9.99281632e+02]\n",
      "0.0 [-0.00135696  0.0503864   0.59430668] [ -1.33669882e-03   6.58340651e-02   3.69734204e+00]\n",
      "This is the average radius of curvature of the anes 746.366206969\n"
     ]
    },
    {
     "name": "stderr",
     "output_type": "stream",
     "text": [
      "\r",
      "  5%|▍         | 61/1261 [00:40<13:57,  1.43it/s]"
     ]
    },
    {
     "name": "stdout",
     "output_type": "stream",
     "text": [
      "898.791191815\n",
      "0.0 [ -1.38852224e-04   2.61699250e-01   1.65636295e+02] [ -1.78318174e-04   3.97847320e-01   9.86939382e+02]\n",
      "0.0 [-0.00118369  0.04647779  0.61285429] [ -1.52012677e-03   7.06576841e-02   3.65167571e+00]\n",
      "This is the average radius of curvature of the anes 755.164480688\n"
     ]
    },
    {
     "name": "stderr",
     "output_type": "stream",
     "text": [
      "\r",
      "  5%|▍         | 62/1261 [00:40<13:57,  1.43it/s]"
     ]
    },
    {
     "name": "stdout",
     "output_type": "stream",
     "text": [
      "895.559437135\n",
      "0.0 [ -1.24805117e-04   2.45311379e-01   1.69704003e+02] [ -1.92387505e-04   4.18294018e-01   9.75826382e+02]\n",
      "0.0 [-0.00106394  0.0435673   0.62790481] [ -1.64006500e-03   7.42890176e-02   3.61055762e+00]\n",
      "This is the average radius of curvature of the anes 778.683783129\n"
     ]
    },
    {
     "name": "stderr",
     "output_type": "stream",
     "text": [
      "\r",
      "  5%|▍         | 63/1261 [00:41<14:10,  1.41it/s]"
     ]
    },
    {
     "name": "stdout",
     "output_type": "stream",
     "text": [
      "898.592401577\n",
      "0.0 [ -1.30454257e-04   2.45461043e-01   1.69976191e+02] [ -1.71465027e-04   4.01300737e-01   9.77720821e+02]\n",
      "0.0 [-0.0011121   0.04359388  0.62891191] [ -1.46170507e-03   7.12710109e-02   3.61756704e+00]\n",
      "This is the average radius of curvature of the anes 795.559445863\n"
     ]
    },
    {
     "name": "stderr",
     "output_type": "stream",
     "text": [
      "\r",
      "  5%|▌         | 64/1261 [00:42<14:18,  1.39it/s]"
     ]
    },
    {
     "name": "stdout",
     "output_type": "stream",
     "text": [
      "897.136451974\n",
      "0.0 [ -1.28772853e-04   2.38213352e-01   1.72555278e+02] [ -1.74209194e-04   4.00712076e-01   9.76343963e+02]\n",
      "0.0 [-0.00109776  0.04230669  0.63845453] [ -1.48509854e-03   7.11664648e-02   3.61247266e+00]\n",
      "This is the average radius of curvature of the anes 795.934158011\n"
     ]
    },
    {
     "name": "stderr",
     "output_type": "stream",
     "text": [
      "\r",
      "  5%|▌         | 65/1261 [00:42<14:23,  1.39it/s]"
     ]
    },
    {
     "name": "stdout",
     "output_type": "stream",
     "text": [
      "898.494816954\n",
      "0.0 [ -1.36540677e-04   2.37327049e-01   1.73745858e+02] [ -1.72454248e-04   3.94403556e-01   9.77868582e+02]\n",
      "0.0 [-0.00116398  0.04214928  0.64285967] [ -1.47013797e-03   7.00460715e-02   3.61811375e+00]\n",
      "This is the average radius of curvature of the anes 773.315394708\n"
     ]
    },
    {
     "name": "stderr",
     "output_type": "stream",
     "text": [
      "\r",
      "  5%|▌         | 66/1261 [00:43<14:09,  1.41it/s]"
     ]
    },
    {
     "name": "stdout",
     "output_type": "stream",
     "text": [
      "897.965998909\n",
      "0.0 [ -1.40213485e-04   2.34737701e-01   1.75314470e+02] [ -1.72989443e-04   3.90926948e-01   9.77924292e+02]\n",
      "0.0 [-0.00119529  0.04168942  0.64866354] [ -1.47470040e-03   6.94286260e-02   3.61831988e+00]\n",
      "This is the average radius of curvature of the anes 760.90524887\n"
     ]
    },
    {
     "name": "stderr",
     "output_type": "stream",
     "text": [
      "\r",
      "  5%|▌         | 67/1261 [00:44<14:17,  1.39it/s]"
     ]
    },
    {
     "name": "stdout",
     "output_type": "stream",
     "text": [
      "898.008839805\n",
      "0.0 [ -1.47503977e-04   2.35498610e-01   1.75895998e+02] [ -1.68008541e-04   3.81125859e-01   9.79798906e+02]\n",
      "0.0 [-0.00125744  0.04182455  0.65081519] [ -1.43223921e-03   6.76879525e-02   3.62525595e+00]\n",
      "This is the average radius of curvature of the anes 750.182156251\n"
     ]
    },
    {
     "name": "stderr",
     "output_type": "stream",
     "text": [
      "\r",
      "  5%|▌         | 68/1261 [00:45<14:15,  1.39it/s]"
     ]
    },
    {
     "name": "stdout",
     "output_type": "stream",
     "text": [
      "900.941943233\n",
      "0.0 [ -1.57247831e-04   2.38128136e-01   1.75819985e+02] [ -1.46489076e-04   3.58693423e-01   9.84513630e+02]\n",
      "0.0 [-0.00134051  0.04229156  0.65053394] [ -1.24879008e-03   6.37039520e-02   3.64270043e+00]\n",
      "This is the average radius of curvature of the anes 776.821829799\n"
     ]
    },
    {
     "name": "stderr",
     "output_type": "stream",
     "text": [
      "\r",
      "  5%|▌         | 69/1261 [00:45<14:10,  1.40it/s]"
     ]
    },
    {
     "name": "stdout",
     "output_type": "stream",
     "text": [
      "900.402187277\n",
      "0.0 [ -1.63618433e-04   2.40701749e-01   1.75719628e+02] [ -1.10255294e-04   3.20140840e-01   9.91418447e+02]\n",
      "0.0 [-0.00139481  0.04274863  0.65016262] [ -9.39904332e-04   5.68570131e-02   3.66824825e+00]\n",
      "This is the average radius of curvature of the anes 894.004383488\n"
     ]
    },
    {
     "name": "stderr",
     "output_type": "stream",
     "text": [
      "\r",
      "  6%|▌         | 70/1261 [00:46<13:56,  1.42it/s]"
     ]
    },
    {
     "name": "stdout",
     "output_type": "stream",
     "text": [
      "902.958625446\n",
      "0.0 [ -1.75745787e-04   2.46023170e-01   1.75310362e+02] [ -8.53204947e-05   2.91951073e-01   9.98500476e+02]\n",
      "0.0 [-0.0014982   0.04369371  0.64864834] [ -7.27340153e-04   5.18505106e-02   3.69445176e+00]\n",
      "This is the average radius of curvature of the anes 1024.90086792\n"
     ]
    },
    {
     "name": "stderr",
     "output_type": "stream",
     "text": [
      "\r",
      "  6%|▌         | 71/1261 [00:47<13:54,  1.43it/s]"
     ]
    },
    {
     "name": "stdout",
     "output_type": "stream",
     "text": [
      "906.731291192\n",
      "0.0 [ -1.82051799e-04   2.48692666e-01   1.75134527e+02] [ -5.52201824e-05   2.65795283e-01   1.00400204e+03]\n",
      "0.0 [-0.00155196  0.04416782  0.64799775] [ -4.70741011e-04   4.72052422e-02   3.71480754e+00]\n",
      "This is the average radius of curvature of the anes 1388.82486496\n"
     ]
    },
    {
     "name": "stderr",
     "output_type": "stream",
     "text": [
      "\r",
      "  6%|▌         | 72/1261 [00:47<13:56,  1.42it/s]"
     ]
    },
    {
     "name": "stdout",
     "output_type": "stream",
     "text": [
      "903.125390029\n",
      "0.0 [ -1.95749757e-04   2.58054652e-01   1.73395458e+02] [ -9.06972249e-05   2.86865120e-01   1.00149806e+03]\n",
      "0.0 [-0.00166873  0.04583051  0.64156319] [ -7.73175702e-04   5.09472454e-02   3.70554282e+00]\n",
      "This is the average radius of curvature of the anes 949.777018768\n"
     ]
    },
    {
     "name": "stderr",
     "output_type": "stream",
     "text": [
      "\r",
      "  6%|▌         | 73/1261 [00:48<14:07,  1.40it/s]"
     ]
    },
    {
     "name": "stdout",
     "output_type": "stream",
     "text": [
      "901.202049832\n",
      "0.0 [ -2.04150319e-04   2.66569034e-01   1.70536971e+02] [ -1.10055461e-04   2.96664293e-01   1.00145716e+03]\n",
      "0.0 [-0.00174034  0.04734266  0.63098679] [ -9.38200798e-04   5.26875785e-02   3.70539148e+00]\n",
      "This is the average radius of curvature of the anes 823.422138011\n"
     ]
    },
    {
     "name": "stderr",
     "output_type": "stream",
     "text": [
      "\r",
      "  6%|▌         | 74/1261 [00:49<13:59,  1.41it/s]"
     ]
    },
    {
     "name": "stdout",
     "output_type": "stream",
     "text": [
      "896.571795455\n",
      "0.0 [ -1.98067306e-04   2.64915060e-01   1.69019201e+02] [ -1.33080414e-04   3.08567953e-01   1.00060888e+03]\n",
      "0.0 [-0.00168848  0.04704891  0.62537104] [ -1.13448391e-03   5.48016684e-02   3.70225285e+00]\n",
      "This is the average radius of curvature of the anes 739.823324361\n"
     ]
    },
    {
     "name": "stderr",
     "output_type": "stream",
     "text": [
      "\r",
      "  6%|▌         | 75/1261 [00:49<14:03,  1.41it/s]"
     ]
    },
    {
     "name": "stdout",
     "output_type": "stream",
     "text": [
      "897.932563918\n",
      "0.0 [ -1.94981516e-04   2.65708450e-01   1.66054199e+02] [ -1.21906177e-04   2.91554909e-01   1.00762606e+03]\n",
      "0.0 [-0.00166218  0.04718982  0.61440054] [ -1.03922577e-03   5.17801518e-02   3.72821642e+00]\n",
      "This is the average radius of curvature of the anes 784.879113717\n"
     ]
    },
    {
     "name": "stderr",
     "output_type": "stream",
     "text": [
      "\r",
      "  6%|▌         | 76/1261 [00:50<13:58,  1.41it/s]"
     ]
    },
    {
     "name": "stdout",
     "output_type": "stream",
     "text": [
      "896.515929277\n",
      "0.0 [ -1.82846620e-04   2.59139686e-01   1.65251445e+02] [ -1.23986220e-04   2.92262890e-01   1.00752326e+03]\n",
      "0.0 [-0.00155873  0.04602321  0.61143035] [ -1.05695772e-03   5.19058892e-02   3.72783606e+00]\n",
      "This is the average radius of curvature of the anes 796.762367541\n"
     ]
    },
    {
     "name": "stderr",
     "output_type": "stream",
     "text": [
      "\r",
      "  6%|▌         | 77/1261 [00:51<14:10,  1.39it/s]"
     ]
    },
    {
     "name": "stdout",
     "output_type": "stream",
     "text": [
      "898.375661954\n",
      "0.0 [ -1.58110246e-04   2.44218541e-01   1.63002732e+02] [ -1.20878509e-04   2.82785666e-01   1.01440127e+03]\n",
      "0.0 [-0.00134786  0.04337321  0.60311011] [ -1.03046511e-03   5.02227343e-02   3.75328471e+00]\n",
      "This is the average radius of curvature of the anes 859.060936281\n"
     ]
    },
    {
     "name": "stderr",
     "output_type": "stream",
     "text": [
      "\r",
      "  6%|▌         | 78/1261 [00:52<14:01,  1.40it/s]"
     ]
    },
    {
     "name": "stdout",
     "output_type": "stream",
     "text": [
      "899.635473354\n",
      "0.0 [ -1.31791019e-04   2.26824383e-01   1.61951777e+02] [ -1.16620035e-04   2.69910109e-01   1.02276581e+03]\n",
      "0.0 [-0.00112349  0.04028401  0.59922157] [ -9.94162475e-04   4.79360353e-02   3.78423348e+00]\n",
      "This is the average radius of curvature of the anes 950.795139851\n"
     ]
    },
    {
     "name": "stderr",
     "output_type": "stream",
     "text": [
      "\r",
      "  6%|▋         | 79/1261 [00:53<15:16,  1.29it/s]"
     ]
    },
    {
     "name": "stdout",
     "output_type": "stream",
     "text": [
      "900.258612219\n",
      "0.0 [ -1.09520352e-04   2.11343565e-01   1.60765601e+02] [ -1.22466657e-04   2.65104540e-01   1.02906281e+03]\n",
      "0.0 [-0.00093364  0.03753462  0.59483272] [ -1.04400375e-03   4.70825663e-02   3.80753238e+00]\n",
      "This is the average radius of curvature of the anes 1017.1898408\n"
     ]
    },
    {
     "name": "stderr",
     "output_type": "stream",
     "text": [
      "\r",
      "  6%|▋         | 80/1261 [00:53<14:44,  1.33it/s]"
     ]
    },
    {
     "name": "stdout",
     "output_type": "stream",
     "text": [
      "899.619840318\n",
      "0.0 [ -1.02062100e-04   2.06236450e-01   1.59033135e+02] [ -1.36089122e-04   2.71428924e-01   1.02937023e+03]\n",
      "0.0 [-0.00087006  0.03662759  0.5884226 ] [ -1.16013255e-03   4.82057768e-02   3.80866985e+00]\n",
      "This is the average radius of curvature of the anes 1008.31891736\n"
     ]
    },
    {
     "name": "stderr",
     "output_type": "stream",
     "text": [
      "\r",
      "  6%|▋         | 81/1261 [00:54<14:22,  1.37it/s]"
     ]
    },
    {
     "name": "stdout",
     "output_type": "stream",
     "text": [
      "899.51552029\n",
      "0.0 [ -9.66705204e-05   1.99607484e-01   1.59191335e+02] [ -1.24426456e-04   2.57056760e-01   1.03174956e+03]\n",
      "0.0 [-0.0008241   0.03545029  0.58900794] [ -1.06071066e-03   4.56532806e-02   3.81747338e+00]\n",
      "This is the average radius of curvature of the anes 1080.72543924\n"
     ]
    },
    {
     "name": "stderr",
     "output_type": "stream",
     "text": [
      "\r",
      "  7%|▋         | 82/1261 [00:55<14:00,  1.40it/s]"
     ]
    },
    {
     "name": "stdout",
     "output_type": "stream",
     "text": [
      "901.751452287\n",
      "0.0 [ -9.29442392e-05   1.92842052e-01   1.59405290e+02] [ -1.26630480e-04   2.57851784e-01   1.03182922e+03]\n",
      "0.0 [-0.00079233  0.03424875  0.58979957] [ -1.07949952e-03   4.57944769e-02   3.81776810e+00]\n",
      "This is the average radius of curvature of the anes 1096.79537777\n"
     ]
    },
    {
     "name": "stderr",
     "output_type": "stream",
     "text": [
      "\r",
      "  7%|▋         | 83/1261 [00:55<13:41,  1.43it/s]"
     ]
    },
    {
     "name": "stdout",
     "output_type": "stream",
     "text": [
      "905.715358608\n",
      "0.0 [ -9.23454442e-05   1.88295350e-01   1.59506018e+02] [ -9.34119083e-05   2.26382430e-01   1.03838809e+03]\n",
      "0.0 [-0.00078723  0.03344125  0.59017226] [ -7.96317836e-04   4.02055197e-02   3.84203592e+00]\n",
      "This is the average radius of curvature of the anes 1265.62006731\n"
     ]
    },
    {
     "name": "stderr",
     "output_type": "stream",
     "text": [
      "\r",
      "  7%|▋         | 84/1261 [00:56<13:35,  1.44it/s]"
     ]
    },
    {
     "name": "stdout",
     "output_type": "stream",
     "text": [
      "908.002491391\n",
      "0.0 [ -7.66471823e-05   1.74643384e-01   1.58401630e+02] [ -9.40723958e-05   2.15238571e-01   1.04622434e+03]\n",
      "0.0 [-0.0006534   0.03101667  0.58608603] [ -8.01948360e-04   3.82263703e-02   3.87103005e+00]\n",
      "This is the average radius of curvature of the anes 1391.17897831\n"
     ]
    },
    {
     "name": "stderr",
     "output_type": "stream",
     "text": [
      "\r",
      "  7%|▋         | 85/1261 [00:57<13:15,  1.48it/s]"
     ]
    },
    {
     "name": "stdout",
     "output_type": "stream",
     "text": [
      "914.055480309\n",
      "0.0 [ -7.22819312e-05   1.68012527e-01   1.58351418e+02] [ -6.85319969e-05   1.89745860e-01   1.05484206e+03]\n",
      "0.0 [-0.00061619  0.02983902  0.58590025] [ -5.84221567e-04   3.36988647e-02   3.90291563e+00]\n",
      "This is the average radius of curvature of the anes 1669.8212481\n"
     ]
    },
    {
     "name": "stderr",
     "output_type": "stream",
     "text": [
      "\r",
      "  7%|▋         | 86/1261 [00:57<13:18,  1.47it/s]"
     ]
    },
    {
     "name": "stdout",
     "output_type": "stream",
     "text": [
      "912.149095521\n",
      "0.0 [ -7.75240374e-05   1.68534627e-01   1.58315416e+02] [ -1.35944316e-04   2.44256744e-01   1.04592749e+03]\n",
      "0.0 [-0.00066088  0.02993175  0.58576704] [ -1.15889811e-03   4.33799977e-02   3.86993171e+00]\n",
      "This is the average radius of curvature of the anes 1190.25023173\n"
     ]
    },
    {
     "name": "stderr",
     "output_type": "stream",
     "text": [
      "\r",
      "  7%|▋         | 87/1261 [00:58<13:20,  1.47it/s]"
     ]
    },
    {
     "name": "stdout",
     "output_type": "stream",
     "text": [
      "911.298696018\n",
      "0.0 [ -7.46800653e-05   1.64115548e-01   1.59941480e+02] [ -1.77886131e-04   2.92626317e-01   1.03123523e+03]\n",
      "0.0 [-0.00063663  0.02914692  0.59178348] [ -1.51644369e-03   5.19704339e-02   3.81557037e+00]\n",
      "This is the average radius of curvature of the anes 1117.43887444\n"
     ]
    },
    {
     "name": "stderr",
     "output_type": "stream",
     "text": [
      "\r",
      "  7%|▋         | 88/1261 [00:59<13:41,  1.43it/s]"
     ]
    },
    {
     "name": "stdout",
     "output_type": "stream",
     "text": [
      "907.352327953\n",
      "0.0 [ -7.21327207e-05   1.54861132e-01   1.64996041e+02] [ -2.17922383e-04   3.25474538e-01   1.02243239e+03]\n",
      "0.0 [-0.00061492  0.02750334  0.61048535] [ -1.85774473e-03   5.78042780e-02   3.78299986e+00]\n",
      "This is the average radius of curvature of the anes 1084.5342417\n"
     ]
    },
    {
     "name": "stderr",
     "output_type": "stream",
     "text": [
      "\r",
      "  7%|▋         | 89/1261 [00:59<13:42,  1.43it/s]"
     ]
    },
    {
     "name": "stdout",
     "output_type": "stream",
     "text": [
      "905.611881101\n",
      "0.0 [ -7.73268445e-05   1.48416651e-01   1.71695233e+02] [ -2.22779944e-04   3.40290764e-01   1.01402957e+03]\n",
      "0.0 [-0.0006592   0.0263588   0.63527236] [ -1.89915447e-03   6.04356396e-02   3.75190941e+00]\n",
      "This is the average radius of curvature of the anes 1024.00928946\n"
     ]
    },
    {
     "name": "stderr",
     "output_type": "stream",
     "text": [
      "\r",
      "  7%|▋         | 90/1261 [01:00<13:50,  1.41it/s]"
     ]
    },
    {
     "name": "stdout",
     "output_type": "stream",
     "text": [
      "903.461797148\n",
      "0.0 [ -8.59949410e-05   1.43043233e-01   1.80722156e+02] [ -2.32860550e-04   3.65148625e-01   1.00041397e+03]\n",
      "0.0 [-0.00073309  0.02540448  0.66867198] [ -1.98508962e-03   6.48503958e-02   3.70153168e+00]\n",
      "This is the average radius of curvature of the anes 936.173584761\n"
     ]
    },
    {
     "name": "stderr",
     "output_type": "stream",
     "text": [
      "\r",
      "  7%|▋         | 91/1261 [01:01<13:56,  1.40it/s]"
     ]
    },
    {
     "name": "stdout",
     "output_type": "stream",
     "text": [
      "909.002117474\n",
      "0.0 [ -1.01717161e-04   1.51164928e-01   1.82860501e+02] [ -1.87571757e-04   3.37604882e-01   1.00219577e+03]\n",
      "0.0 [-0.00086712  0.02684689  0.67658385] [ -1.59901171e-03   5.99586270e-02   3.70812435e+00]\n",
      "This is the average radius of curvature of the anes 891.626877245\n"
     ]
    },
    {
     "name": "stderr",
     "output_type": "stream",
     "text": [
      "\r",
      "  7%|▋         | 92/1261 [01:02<13:43,  1.42it/s]"
     ]
    },
    {
     "name": "stdout",
     "output_type": "stream",
     "text": [
      "910.086493441\n",
      "0.0 [ -1.11799935e-04   1.58102486e-01   1.83658729e+02] [ -1.93956434e-04   3.50068381e-01   9.98193450e+02]\n",
      "0.0 [-0.00095307  0.028079    0.6795373 ] [ -1.65343981e-03   6.21721445e-02   3.69331577e+00]\n",
      "This is the average radius of curvature of the anes 829.394755378\n"
     ]
    },
    {
     "name": "stderr",
     "output_type": "stream",
     "text": [
      "\r",
      "  7%|▋         | 93/1261 [01:02<13:45,  1.41it/s]"
     ]
    },
    {
     "name": "stdout",
     "output_type": "stream",
     "text": [
      "908.887416529\n",
      "0.0 [ -1.23595007e-04   1.65407231e-01   1.85415801e+02] [ -1.64921944e-04   3.24715649e-01   1.00112488e+03]\n",
      "0.0 [-0.00105362  0.02937632  0.68603846] [ -1.40592659e-03   5.76694992e-02   3.70416206e+00]\n",
      "This is the average radius of curvature of the anes 832.580560617\n"
     ]
    },
    {
     "name": "stderr",
     "output_type": "stream",
     "text": [
      "\r",
      "  7%|▋         | 94/1261 [01:03<13:38,  1.43it/s]"
     ]
    },
    {
     "name": "stdout",
     "output_type": "stream",
     "text": [
      "908.482362608\n",
      "0.0 [ -1.37192213e-04   1.74979346e-01   1.86367102e+02] [ -1.20704254e-04   2.85299991e-01   1.00700529e+03]\n",
      "0.0 [-0.00116954  0.03107633  0.68955828] [ -1.02897962e-03   5.06692784e-02   3.72591957e+00]\n",
      "This is the average radius of curvature of the anes 915.930142054\n"
     ]
    },
    {
     "name": "stderr",
     "output_type": "stream",
     "text": [
      "\r",
      "  8%|▊         | 95/1261 [01:04<13:34,  1.43it/s]"
     ]
    },
    {
     "name": "stdout",
     "output_type": "stream",
     "text": [
      "907.959701381\n",
      "0.0 [ -1.41675711e-04   1.78222360e-01   1.86527621e+02] [ -7.00917004e-05   2.33459993e-01   1.01776532e+03]\n",
      "0.0 [-0.00120776  0.03165229  0.6901522 ] [ -5.97517727e-04   4.14624947e-02   3.76573169e+00]\n",
      "This is the average radius of curvature of the anes 1253.56686368\n"
     ]
    },
    {
     "name": "stderr",
     "output_type": "stream",
     "text": [
      "\r",
      "  8%|▊         | 96/1261 [01:04<13:38,  1.42it/s]"
     ]
    },
    {
     "name": "stdout",
     "output_type": "stream",
     "text": [
      "908.522207096\n",
      "0.0 [ -1.47173573e-04   1.83635676e-01   1.85583912e+02] [ -5.34453747e-05   2.17165922e-01   1.02154405e+03]\n",
      "0.0 [-0.00125463  0.0326137   0.68666047] [ -4.55611130e-04   3.85686678e-02   3.77971298e+00]\n",
      "This is the average radius of curvature of the anes 1499.03808714\n"
     ]
    },
    {
     "name": "stderr",
     "output_type": "stream",
     "text": [
      "\r",
      "  8%|▊         | 97/1261 [01:05<13:36,  1.43it/s]"
     ]
    },
    {
     "name": "stdout",
     "output_type": "stream",
     "text": [
      "898.930384462\n",
      "0.0 [ -1.57051321e-04   1.93876111e-01   1.84107151e+02] [ -1.13857496e-04   2.56472085e-01   1.01570151e+03]\n",
      "0.0 [-0.00133883  0.0344324   0.68119646] [ -9.70612380e-04   4.55494422e-02   3.75809558e+00]\n",
      "This is the average radius of curvature of the anes 890.867164812\n"
     ]
    },
    {
     "name": "stderr",
     "output_type": "stream",
     "text": [
      "\r",
      "  8%|▊         | 98/1261 [01:06<13:41,  1.42it/s]"
     ]
    },
    {
     "name": "stdout",
     "output_type": "stream",
     "text": [
      "896.322455718\n",
      "0.0 [ -1.56725316e-04   1.94366051e-01   1.84007967e+02] [ -1.38917311e-04   2.70860170e-01   1.01612511e+03]\n",
      "0.0 [-0.00133605  0.03451941  0.68082948] [ -1.18424230e-03   4.81047662e-02   3.75966290e+00]\n",
      "This is the average radius of curvature of the anes 798.583322598\n"
     ]
    },
    {
     "name": "stderr",
     "output_type": "stream",
     "text": [
      "\r",
      "  8%|▊         | 99/1261 [01:07<13:50,  1.40it/s]"
     ]
    },
    {
     "name": "stdout",
     "output_type": "stream",
     "text": [
      "890.037334003\n",
      "0.0 [ -1.53737282e-04   1.94687136e-01   1.84200966e+02] [ -1.84927896e-04   3.07371750e-01   1.00934239e+03]\n",
      "0.0 [-0.00131058  0.03457644  0.68154357] [ -1.57647333e-03   5.45892228e-02   3.73456686e+00]\n",
      "This is the average radius of curvature of the anes 700.777359657\n"
     ]
    },
    {
     "name": "stderr",
     "output_type": "stream",
     "text": [
      "\r",
      "  8%|▊         | 100/1261 [01:07<13:39,  1.42it/s]"
     ]
    },
    {
     "name": "stdout",
     "output_type": "stream",
     "text": [
      "889.28483141\n",
      "0.0 [ -1.51733562e-04   1.94808175e-01   1.84200565e+02] [ -1.88947831e-04   3.04959917e-01   1.01352462e+03]\n",
      "0.0 [-0.0012935   0.03459793  0.68154209] [ -1.61074247e-03   5.41608813e-02   3.75004109e+00]\n",
      "This is the average radius of curvature of the anes 699.025624571\n"
     ]
    },
    {
     "name": "stderr",
     "output_type": "stream",
     "text": [
      "\r",
      "  8%|▊         | 101/1261 [01:08<13:51,  1.39it/s]"
     ]
    },
    {
     "name": "stdout",
     "output_type": "stream",
     "text": [
      "889.307543302\n",
      "0.0 [ -1.43095879e-04   1.91885486e-01   1.84359005e+02] [ -1.82943393e-04   3.04508837e-01   1.01328997e+03]\n",
      "0.0 [-0.00121986  0.03407886  0.68212832] [ -1.55955584e-03   5.40807695e-02   3.74917289e+00]\n",
      "This is the average radius of curvature of the anes 732.607737388\n"
     ]
    },
    {
     "name": "stderr",
     "output_type": "stream",
     "text": [
      "\r",
      "  8%|▊         | 102/1261 [01:09<14:00,  1.38it/s]"
     ]
    },
    {
     "name": "stdout",
     "output_type": "stream",
     "text": [
      "885.063961275\n",
      "0.0 [ -1.37565652e-04   1.90537603e-01   1.84864501e+02] [ -2.01025891e-04   3.17688731e-01   1.01131327e+03]\n",
      "0.0 [-0.00117272  0.03383948  0.68399866] [ -1.71370552e-03   5.64215186e-02   3.74185910e+00]\n",
      "This is the average radius of curvature of the anes 720.251631604\n"
     ]
    },
    {
     "name": "stderr",
     "output_type": "stream",
     "text": [
      "\r",
      "  8%|▊         | 103/1261 [01:09<13:49,  1.40it/s]"
     ]
    },
    {
     "name": "stdout",
     "output_type": "stream",
     "text": [
      "885.739918721\n",
      "0.0 [ -1.35063655e-04   1.89808855e-01   1.85639180e+02] [ -2.14985465e-04   3.33750589e-01   1.00920145e+03]\n",
      "0.0 [-0.00115139  0.03371005  0.68686496] [ -1.83270810e-03   5.92741045e-02   3.73404537e+00]\n",
      "This is the average radius of curvature of the anes 709.25728054\n"
     ]
    },
    {
     "name": "stderr",
     "output_type": "stream",
     "text": [
      "\r",
      "  8%|▊         | 104/1261 [01:10<13:54,  1.39it/s]"
     ]
    },
    {
     "name": "stdout",
     "output_type": "stream",
     "text": [
      "886.550464527\n",
      "0.0 [ -1.28308466e-04   1.86030046e-01   1.87012795e+02] [ -2.14353139e-04   3.37233711e-01   1.00932957e+03]\n",
      "0.0 [-0.0010938   0.03303894  0.69194734] [ -1.82731764e-03   5.98927071e-02   3.73451939e+00]\n",
      "This is the average radius of curvature of the anes 732.96768826\n"
     ]
    },
    {
     "name": "stderr",
     "output_type": "stream",
     "text": [
      "\r",
      "  8%|▊         | 105/1261 [01:11<14:07,  1.36it/s]"
     ]
    },
    {
     "name": "stdout",
     "output_type": "stream",
     "text": [
      "890.642307384\n",
      "0.0 [ -1.29325579e-04   1.86712813e-01   1.86999140e+02] [ -2.07750683e-04   3.25387032e-01   1.01847740e+03]\n",
      "0.0 [-0.00110247  0.0331602   0.69189682] [ -1.77103302e-03   5.77887369e-02   3.76836639e+00]\n",
      "This is the average radius of curvature of the anes 738.009914542\n"
     ]
    },
    {
     "name": "stderr",
     "output_type": "stream",
     "text": [
      "\r",
      "  8%|▊         | 106/1261 [01:12<13:48,  1.39it/s]"
     ]
    },
    {
     "name": "stdout",
     "output_type": "stream",
     "text": [
      "894.888311425\n",
      "0.0 [ -1.27778964e-04   1.86205515e-01   1.86970671e+02] [ -1.85129625e-04   3.03993236e-01   1.02681767e+03]\n",
      "0.0 [-0.00108929  0.0330701   0.69179148] [ -1.57819303e-03   5.39891987e-02   3.79922537e+00]\n",
      "This is the average radius of curvature of the anes 777.971979382\n"
     ]
    },
    {
     "name": "stderr",
     "output_type": "stream",
     "text": [
      "\r",
      "  8%|▊         | 107/1261 [01:12<13:55,  1.38it/s]"
     ]
    },
    {
     "name": "stdout",
     "output_type": "stream",
     "text": [
      "899.437070565\n",
      "0.0 [ -1.26485075e-04   1.85293595e-01   1.87058325e+02] [ -1.58353291e-04   2.76819288e-01   1.03716305e+03]\n",
      "0.0 [-0.00107826  0.03290814  0.6921158 ] [ -1.34993013e-03   4.91631055e-02   3.83750328e+00]\n",
      "This is the average radius of curvature of the anes 836.196732206\n"
     ]
    },
    {
     "name": "stderr",
     "output_type": "stream",
     "text": [
      "\r",
      "  9%|▊         | 108/1261 [01:13<13:35,  1.41it/s]"
     ]
    },
    {
     "name": "stdout",
     "output_type": "stream",
     "text": [
      "898.917802833\n",
      "0.0 [ -1.20449629e-04   1.83312156e-01   1.87524415e+02] [ -1.51927327e-04   2.71690219e-01   1.03917113e+03]\n",
      "0.0 [-0.00102681  0.03255624  0.69384033] [ -1.29515008e-03   4.82521829e-02   3.84493319e+00]\n",
      "This is the average radius of curvature of the anes 875.124555798\n"
     ]
    },
    {
     "name": "stderr",
     "output_type": "stream",
     "text": [
      "\r",
      "  9%|▊         | 109/1261 [01:14<13:36,  1.41it/s]"
     ]
    },
    {
     "name": "stdout",
     "output_type": "stream",
     "text": [
      "900.730648754\n",
      "0.0 [ -1.18454415e-04   1.83155705e-01   1.87725202e+02] [ -1.14219448e-04   2.39565202e-01   1.04570811e+03]\n",
      "0.0 [-0.0010098   0.03252845  0.69458325] [ -9.73697954e-04   4.25467798e-02   3.86912001e+00]\n",
      "This is the average radius of curvature of the anes 1010.83477845\n"
     ]
    },
    {
     "name": "stderr",
     "output_type": "stream",
     "text": [
      "\r",
      "  9%|▊         | 110/1261 [01:14<13:13,  1.45it/s]"
     ]
    },
    {
     "name": "stdout",
     "output_type": "stream",
     "text": [
      "903.110563533\n",
      "0.0 [ -1.21109302e-04   1.85555454e-01   1.87732911e+02] [ -8.92641911e-05   2.17284484e-01   1.05156762e+03]\n",
      "0.0 [-0.00103243  0.03295465  0.69461177] [ -7.60959376e-04   3.85897243e-02   3.89080020e+00]\n",
      "This is the average radius of curvature of the anes 1143.61582548\n"
     ]
    },
    {
     "name": "stderr",
     "output_type": "stream",
     "text": [
      "\r",
      "  9%|▉         | 111/1261 [01:15<13:10,  1.45it/s]"
     ]
    },
    {
     "name": "stdout",
     "output_type": "stream",
     "text": [
      "900.170480566\n",
      "0.0 [ -1.25785470e-04   1.90442572e-01   1.87567780e+02] [ -1.23330705e-04   2.45095582e-01   1.04717373e+03]\n",
      "0.0 [-0.0010723   0.0338226   0.69400079] [ -1.05136959e-03   4.35289754e-02   3.87454280e+00]\n",
      "This is the average radius of curvature of the anes 944.011968052\n"
     ]
    },
    {
     "name": "stderr",
     "output_type": "stream",
     "text": [
      "\r",
      "  9%|▉         | 112/1261 [01:16<12:55,  1.48it/s]"
     ]
    },
    {
     "name": "stdout",
     "output_type": "stream",
     "text": [
      "903.59884046\n",
      "0.0 [ -1.32967217e-04   1.94490972e-01   1.87248920e+02] [ -1.23548534e-04   2.37250584e-01   1.05523451e+03]\n",
      "0.0 [-0.00113352  0.0345416   0.69282101] [ -1.05322655e-03   4.21357037e-02   3.90436768e+00]\n",
      "This is the average radius of curvature of the anes 917.890409786\n"
     ]
    },
    {
     "name": "stderr",
     "output_type": "stream",
     "text": [
      "\r",
      "  9%|▉         | 113/1261 [01:16<12:53,  1.48it/s]"
     ]
    },
    {
     "name": "stdout",
     "output_type": "stream",
     "text": [
      "900.33919665\n",
      "0.0 [ -1.30965769e-04   1.93560476e-01   1.88356817e+02] [ -1.67061375e-04   2.76200588e-01   1.04793779e+03]\n",
      "0.0 [-0.00111646  0.03437634  0.69692022] [ -1.42416481e-03   4.90532245e-02   3.87736984e+00]\n",
      "This is the average radius of curvature of the anes 800.990271724\n"
     ]
    },
    {
     "name": "stderr",
     "output_type": "stream",
     "text": [
      "\r",
      "  9%|▉         | 114/1261 [01:17<13:05,  1.46it/s]"
     ]
    },
    {
     "name": "stdout",
     "output_type": "stream",
     "text": [
      "904.565282514\n",
      "0.0 [ -1.34432357e-04   1.97915239e-01   1.88379810e+02] [ -1.36382199e-04   2.61149908e-01   1.04848736e+03]\n",
      "0.0 [-0.00114601  0.03514975  0.6970053 ] [ -1.16263097e-03   4.63802237e-02   3.87940322e+00]\n",
      "This is the average radius of curvature of the anes 868.553071385\n"
     ]
    },
    {
     "name": "stderr",
     "output_type": "stream",
     "text": [
      "\r",
      "  9%|▉         | 115/1261 [01:18<12:57,  1.47it/s]"
     ]
    },
    {
     "name": "stdout",
     "output_type": "stream",
     "text": [
      "901.872359547\n",
      "0.0 [ -1.45362536e-04   2.05555684e-01   1.90071025e+02] [ -1.52548412e-04   2.76469824e-01   1.04467094e+03]\n",
      "0.0 [-0.00123919  0.03650669  0.70326279] [ -1.30044470e-03   4.91010408e-02   3.86528246e+00]\n",
      "This is the average radius of curvature of the anes 790.172523234\n"
     ]
    },
    {
     "name": "stderr",
     "output_type": "stream",
     "text": [
      "\r",
      "  9%|▉         | 116/1261 [01:18<13:08,  1.45it/s]"
     ]
    },
    {
     "name": "stdout",
     "output_type": "stream",
     "text": [
      "898.654246387\n",
      "0.0 [ -1.50957179e-04   2.09646657e-01   1.91517654e+02] [ -1.75434426e-04   2.99901106e-01   1.03793273e+03]\n",
      "0.0 [-0.00128688  0.03723325  0.70861532] [ -1.49554340e-03   5.32624365e-02   3.84035111e+00]\n",
      "This is the average radius of curvature of the anes 725.095240066\n"
     ]
    },
    {
     "name": "stderr",
     "output_type": "stream",
     "text": [
      "\r",
      "  9%|▉         | 117/1261 [01:19<13:08,  1.45it/s]"
     ]
    },
    {
     "name": "stdout",
     "output_type": "stream",
     "text": [
      "900.030551174\n",
      "0.0 [ -1.50333838e-04   2.08154572e-01   1.93002844e+02] [ -1.60248421e-04   2.92645395e-01   1.03740995e+03]\n",
      "0.0 [-0.00128157  0.03696825  0.71411052] [ -1.36608574e-03   5.19738221e-02   3.83841680e+00]\n",
      "This is the average radius of curvature of the anes 758.441053492\n"
     ]
    },
    {
     "name": "stderr",
     "output_type": "stream",
     "text": [
      "\r",
      "  9%|▉         | 118/1261 [01:20<13:28,  1.41it/s]"
     ]
    },
    {
     "name": "stdout",
     "output_type": "stream",
     "text": [
      "899.540392364\n",
      "0.0 [ -1.47898570e-04   2.07275334e-01   1.93869971e+02] [ -1.36244576e-04   2.72231938e-01   1.04068191e+03]\n",
      "0.0 [-0.00126081  0.0368121   0.71731889] [ -1.16145776e-03   4.83483921e-02   3.85052305e+00]\n",
      "This is the average radius of curvature of the anes 829.382014335\n"
     ]
    },
    {
     "name": "stderr",
     "output_type": "stream",
     "text": [
      "\r",
      "  9%|▉         | 119/1261 [01:21<13:25,  1.42it/s]"
     ]
    },
    {
     "name": "stdout",
     "output_type": "stream",
     "text": [
      "899.054780506\n",
      "0.0 [ -1.51475191e-04   2.12162989e-01   1.93524848e+02] [ -1.28532934e-04   2.66304270e-01   1.04179179e+03]\n",
      "0.0 [-0.0012913   0.03768015  0.71604194] [ -1.09571756e-03   4.72956384e-02   3.85462964e+00]\n",
      "This is the average radius of curvature of the anes 845.886840129\n"
     ]
    },
    {
     "name": "stderr",
     "output_type": "stream",
     "text": [
      "\r",
      " 10%|▉         | 120/1261 [01:21<13:32,  1.40it/s]"
     ]
    },
    {
     "name": "stdout",
     "output_type": "stream",
     "text": [
      "896.052367982\n",
      "0.0 [ -1.59083010e-04   2.19372214e-01   1.94271229e+02] [ -1.55766127e-04   2.92984189e-01   1.03568189e+03]\n",
      "0.0 [-0.00135615  0.03896051  0.71880355] [ -1.32787508e-03   5.20339920e-02   3.83202299e+00]\n",
      "This is the average radius of curvature of the anes 747.6020618\n"
     ]
    },
    {
     "name": "stderr",
     "output_type": "stream",
     "text": [
      "\r",
      " 10%|▉         | 121/1261 [01:22<13:33,  1.40it/s]"
     ]
    },
    {
     "name": "stdout",
     "output_type": "stream",
     "text": [
      "895.386376132\n",
      "0.0 [ -1.59874551e-04   2.20285882e-01   1.95731866e+02] [ -1.48583835e-04   2.87921688e-01   1.03665124e+03]\n",
      "0.0 [-0.0013629   0.03912277  0.7242079 ] [ -1.26664748e-03   5.11348918e-02   3.83560958e+00]\n",
      "This is the average radius of curvature of the anes 763.999841851\n"
     ]
    },
    {
     "name": "stderr",
     "output_type": "stream",
     "text": [
      "\r",
      " 10%|▉         | 122/1261 [01:23<13:29,  1.41it/s]"
     ]
    },
    {
     "name": "stdout",
     "output_type": "stream",
     "text": [
      "888.129560939\n",
      "0.0 [ -1.63944860e-04   2.24331665e-01   1.96471288e+02] [ -2.07428526e-04   3.34147083e-01   1.02812292e+03]\n",
      "0.0 [-0.0013976   0.0398413   0.72694376] [ -1.76828670e-03   5.93445220e-02   3.80405481e+00]\n",
      "This is the average radius of curvature of the anes 642.863652868\n"
     ]
    },
    {
     "name": "stderr",
     "output_type": "stream",
     "text": [
      "\r",
      " 10%|▉         | 123/1261 [01:23<13:15,  1.43it/s]"
     ]
    },
    {
     "name": "stdout",
     "output_type": "stream",
     "text": [
      "883.881899379\n",
      "0.0 [ -1.66675888e-04   2.26145785e-01   1.98469072e+02] [ -2.56975761e-04   3.83050244e-01   1.01621818e+03]\n",
      "0.0 [-0.00142088  0.04016349  0.73433557] [ -2.19066697e-03   6.80297233e-02   3.76000726e+00]\n",
      "This is the average radius of curvature of the anes 582.574040964\n"
     ]
    },
    {
     "name": "stderr",
     "output_type": "stream",
     "text": [
      "\r",
      " 10%|▉         | 124/1261 [01:24<13:17,  1.43it/s]"
     ]
    },
    {
     "name": "stdout",
     "output_type": "stream",
     "text": [
      "881.951124788\n",
      "0.0 [ -1.72983605e-04   2.32430517e-01   1.98660550e+02] [ -2.88045146e-04   4.17244624e-01   1.00721266e+03]\n",
      "0.0 [-0.00147465  0.04127966  0.73504404] [ -2.45552726e-03   7.41026452e-02   3.72668685e+00]\n",
      "This is the average radius of curvature of the anes 545.232133668\n"
     ]
    },
    {
     "name": "stderr",
     "output_type": "stream",
     "text": [
      "\r",
      " 10%|▉         | 125/1261 [01:25<13:19,  1.42it/s]"
     ]
    },
    {
     "name": "stdout",
     "output_type": "stream",
     "text": [
      "882.153287751\n",
      "0.0 [ -1.78524490e-04   2.38636107e-01   1.98545575e+02] [ -2.92526668e-04   4.29931370e-01   1.00209225e+03]\n",
      "0.0 [-0.00152189  0.04238177  0.73461863] [ -2.49373134e-03   7.63558114e-02   3.70774132e+00]\n",
      "This is the average radius of curvature of the anes 531.684168596\n"
     ]
    },
    {
     "name": "stderr",
     "output_type": "stream",
     "text": [
      "\r",
      " 10%|▉         | 126/1261 [01:26<13:35,  1.39it/s]"
     ]
    },
    {
     "name": "stdout",
     "output_type": "stream",
     "text": [
      "889.71851233\n",
      "0.0 [ -1.90140630e-04   2.49994340e-01   1.96206442e+02] [ -2.49469376e-04   3.99159147e-01   1.00934611e+03]\n",
      "0.0 [-0.00162091  0.04439899  0.72596384] [ -2.12667654e-03   7.08906645e-02   3.73458059e+00]\n",
      "This is the average radius of curvature of the anes 546.264255029\n"
     ]
    },
    {
     "name": "stderr",
     "output_type": "stream",
     "text": [
      "\r",
      " 10%|█         | 127/1261 [01:26<13:29,  1.40it/s]"
     ]
    },
    {
     "name": "stdout",
     "output_type": "stream",
     "text": [
      "893.802706273\n",
      "0.0 [ -1.93066270e-04   2.55723513e-01   1.94742393e+02] [ -2.22577718e-04   3.84812739e-01   1.01098621e+03]\n",
      "0.0 [-0.00164585  0.0454165   0.72054685] [ -1.89743053e-03   6.83427425e-02   3.74064899e+00]\n",
      "This is the average radius of curvature of the anes 570.097183974\n"
     ]
    },
    {
     "name": "stderr",
     "output_type": "stream",
     "text": [
      "\r",
      " 10%|█         | 128/1261 [01:27<13:41,  1.38it/s]"
     ]
    },
    {
     "name": "stdout",
     "output_type": "stream",
     "text": [
      "895.377076542\n",
      "0.0 [ -2.00460825e-04   2.64807318e-01   1.92533935e+02] [ -2.20346637e-04   3.81821211e-01   1.01405821e+03]\n",
      "0.0 [-0.00170889  0.04702978  0.71237556] [ -1.87841101e-03   6.78114471e-02   3.75201538e+00]\n",
      "This is the average radius of curvature of the anes 561.57966121\n"
     ]
    },
    {
     "name": "stderr",
     "output_type": "stream",
     "text": [
      "\r",
      " 10%|█         | 129/1261 [01:28<13:32,  1.39it/s]"
     ]
    },
    {
     "name": "stdout",
     "output_type": "stream",
     "text": [
      "891.516585135\n",
      "0.0 [ -1.98160921e-04   2.66660217e-01   1.92384830e+02] [ -2.41820963e-04   4.05251422e-01   1.00682488e+03]\n",
      "0.0 [-0.00168928  0.04735885  0.71182387] [ -2.06147534e-03   7.19726525e-02   3.72525205e+00]\n",
      "This is the average radius of curvature of the anes 541.411806091\n"
     ]
    },
    {
     "name": "stderr",
     "output_type": "stream",
     "text": [
      "\r",
      " 10%|█         | 130/1261 [01:29<14:44,  1.28it/s]"
     ]
    },
    {
     "name": "stdout",
     "output_type": "stream",
     "text": [
      "891.015964072\n",
      "0.0 [ -2.00325335e-04   2.71413655e-01   1.91159321e+02] [ -2.44998291e-04   4.13134053e-01   1.00337250e+03]\n",
      "0.0 [-0.00170773  0.04820307  0.70728949] [ -2.08856143e-03   7.33726079e-02   3.71247823e+00]\n",
      "This is the average radius of curvature of the anes 535.141836853\n"
     ]
    },
    {
     "name": "stderr",
     "output_type": "stream",
     "text": [
      "\r",
      " 10%|█         | 131/1261 [01:29<14:05,  1.34it/s]"
     ]
    },
    {
     "name": "stdout",
     "output_type": "stream",
     "text": [
      "892.196373084\n",
      "0.0 [ -1.99610774e-04   2.72642512e-01   1.90866135e+02] [ -2.20199174e-04   3.93842039e-01   1.00656345e+03]\n",
      "0.0 [-0.00170164  0.04842131  0.7062047 ] [ -1.87715392e-03   6.99463462e-02   3.72428476e+00]\n",
      "This is the average radius of curvature of the anes 563.185674251\n"
     ]
    },
    {
     "name": "stderr",
     "output_type": "stream",
     "text": [
      "\r",
      " 10%|█         | 132/1261 [01:30<13:46,  1.37it/s]"
     ]
    },
    {
     "name": "stdout",
     "output_type": "stream",
     "text": [
      "890.541833875\n",
      "0.0 [ -1.94738259e-04   2.70914489e-01   1.91780193e+02] [ -2.12152825e-04   3.90876886e-01   1.00507171e+03]\n",
      "0.0 [-0.0016601   0.04811441  0.70958671] [ -1.80856040e-03   6.94197349e-02   3.71876534e+00]\n",
      "This is the average radius of curvature of the anes 580.696133036\n"
     ]
    },
    {
     "name": "stderr",
     "output_type": "stream",
     "text": [
      "\r",
      " 11%|█         | 133/1261 [01:31<13:39,  1.38it/s]"
     ]
    },
    {
     "name": "stdout",
     "output_type": "stream",
     "text": [
      "892.131442081\n",
      "0.0 [ -1.92606956e-04   2.71022862e-01   1.92086661e+02] [ -1.76435232e-04   3.61490057e-01   1.01081204e+03]\n",
      "0.0 [-0.00164194  0.04813366  0.71072065] [ -1.50407507e-03   6.42006342e-02   3.74000455e+00]\n",
      "This is the average radius of curvature of the anes 640.065118012\n"
     ]
    },
    {
     "name": "stderr",
     "output_type": "stream",
     "text": [
      "\r",
      " 11%|█         | 134/1261 [01:31<13:30,  1.39it/s]"
     ]
    },
    {
     "name": "stdout",
     "output_type": "stream",
     "text": [
      "880.091854714\n",
      "0.0 [ -1.82023201e-04   2.65552638e-01   1.93105979e+02] [ -2.27940211e-04   3.89956455e-01   1.00748879e+03]\n",
      "0.0 [-0.00155171  0.04716215  0.71449212] [ -1.94314471e-03   6.92562664e-02   3.72770853e+00]\n",
      "This is the average radius of curvature of the anes 582.468902006\n"
     ]
    },
    {
     "name": "stderr",
     "output_type": "stream",
     "text": [
      "\r",
      " 11%|█         | 135/1261 [01:32<13:15,  1.42it/s]"
     ]
    },
    {
     "name": "stdout",
     "output_type": "stream",
     "text": [
      "874.959409462\n",
      "0.0 [ -1.69576704e-04   2.57938487e-01   1.94513795e+02] [ -2.34107258e-04   3.86518529e-01   1.01038393e+03]\n",
      "0.0 [-0.00144561  0.04580988  0.71970104] [ -1.99571755e-03   6.86456908e-02   3.73842056e+00]\n",
      "This is the average radius of curvature of the anes 599.274094913\n"
     ]
    },
    {
     "name": "stderr",
     "output_type": "stream",
     "text": [
      "\r",
      " 11%|█         | 136/1261 [01:33<13:07,  1.43it/s]"
     ]
    },
    {
     "name": "stdout",
     "output_type": "stream",
     "text": [
      "878.272109329\n",
      "0.0 [ -1.58436473e-04   2.50669492e-01   1.95635916e+02] [ -2.13149400e-04   3.70733854e-01   1.01586620e+03]\n",
      "0.0 [-0.00135064  0.0445189   0.72385289] [ -1.81705601e-03   6.58423324e-02   3.75870494e+00]\n",
      "This is the average radius of curvature of the anes 648.257879879\n"
     ]
    },
    {
     "name": "stderr",
     "output_type": "stream",
     "text": [
      "\r",
      " 11%|█         | 137/1261 [01:33<13:03,  1.43it/s]"
     ]
    },
    {
     "name": "stdout",
     "output_type": "stream",
     "text": [
      "883.123690838\n",
      "0.0 [ -1.58039526e-04   2.49235583e-01   1.96000418e+02] [ -1.93213958e-04   3.51413309e-01   1.02384213e+03]\n",
      "0.0 [-0.00134726  0.04426424  0.72520155] [ -1.64711035e-03   6.24110037e-02   3.78821589e+00]\n",
      "This is the average radius of curvature of the anes 677.553438086\n"
     ]
    },
    {
     "name": "stderr",
     "output_type": "stream",
     "text": [
      "\r",
      " 11%|█         | 138/1261 [01:34<13:04,  1.43it/s]"
     ]
    },
    {
     "name": "stdout",
     "output_type": "stream",
     "text": [
      "887.312305087\n",
      "0.0 [ -1.57805518e-04   2.46490417e-01   1.96155672e+02] [ -1.93620446e-04   3.42478517e-01   1.03296745e+03]\n",
      "0.0 [-0.00134526  0.0437767   0.72577599] [ -1.65057557e-03   6.08241847e-02   3.82197958e+00]\n",
      "This is the average radius of curvature of the anes 677.351388263\n"
     ]
    },
    {
     "name": "stderr",
     "output_type": "stream",
     "text": [
      "\r",
      " 11%|█         | 139/1261 [01:35<12:58,  1.44it/s]"
     ]
    },
    {
     "name": "stdout",
     "output_type": "stream",
     "text": [
      "890.070741508\n",
      "0.0 [ -1.54428526e-04   2.41175336e-01   1.96561913e+02] [ -2.05637056e-04   3.52720452e-01   1.03290453e+03]\n",
      "0.0 [-0.00131647  0.04283274  0.72727908] [ -1.75301477e-03   6.26431523e-02   3.82174675e+00]\n",
      "This is the average radius of curvature of the anes 667.752048713\n"
     ]
    },
    {
     "name": "stderr",
     "output_type": "stream",
     "text": [
      "\r",
      " 11%|█         | 140/1261 [01:36<13:06,  1.43it/s]"
     ]
    },
    {
     "name": "stdout",
     "output_type": "stream",
     "text": [
      "898.101276203\n",
      "0.0 [ -1.46372594e-04   2.31726070e-01   1.96864734e+02] [ -1.81792115e-04   3.34587059e-01   1.03931947e+03]\n",
      "0.0 [-0.0012478   0.04115455  0.72839952] [ -1.54974142e-03   5.94226616e-02   3.84548204e+00]\n",
      "This is the average radius of curvature of the anes 726.069456247\n"
     ]
    },
    {
     "name": "stderr",
     "output_type": "stream",
     "text": [
      "\r",
      " 11%|█         | 141/1261 [01:36<12:51,  1.45it/s]"
     ]
    },
    {
     "name": "stdout",
     "output_type": "stream",
     "text": [
      "903.421598439\n",
      "0.0 [ -1.37881877e-04   2.23090997e-01   1.97566616e+02] [ -1.57330953e-04   3.17816338e-01   1.04293511e+03]\n",
      "0.0 [-0.00117542  0.03962096  0.73099648] [ -1.34121490e-03   5.64441816e-02   3.85885990e+00]\n",
      "This is the average radius of curvature of the anes 800.962886643\n"
     ]
    },
    {
     "name": "stderr",
     "output_type": "stream",
     "text": [
      "\r",
      " 11%|█▏        | 142/1261 [01:37<12:52,  1.45it/s]"
     ]
    },
    {
     "name": "stdout",
     "output_type": "stream",
     "text": [
      "904.874623621\n",
      "0.0 [ -1.33483992e-04   2.17972191e-01   1.98020068e+02] [ -1.60061887e-04   3.20994142e-01   1.04256164e+03]\n",
      "0.0 [-0.00113792  0.03871186  0.73267425] [ -1.36449557e-03   5.70085597e-02   3.85747808e+00]\n",
      "This is the average radius of curvature of the anes 808.60821432\n"
     ]
    },
    {
     "name": "stderr",
     "output_type": "stream",
     "text": [
      "\r",
      " 11%|█▏        | 143/1261 [01:38<12:49,  1.45it/s]"
     ]
    },
    {
     "name": "stdout",
     "output_type": "stream",
     "text": [
      "901.88471308\n",
      "0.0 [ -1.28295567e-04   2.14477133e-01   1.98368984e+02] [ -1.68144070e-04   3.28552493e-01   1.03883364e+03]\n",
      "0.0 [-0.00109369  0.03809114  0.73396524] [ -1.43339457e-03   5.83509228e-02   3.84368445e+00]\n",
      "This is the average radius of curvature of the anes 808.76692709\n"
     ]
    },
    {
     "name": "stderr",
     "output_type": "stream",
     "text": [
      "\r",
      " 11%|█▏        | 144/1261 [01:38<12:51,  1.45it/s]"
     ]
    },
    {
     "name": "stdout",
     "output_type": "stream",
     "text": [
      "901.162977196\n",
      "0.0 [ -1.32387397e-04   2.15575723e-01   1.98343658e+02] [ -1.55548913e-04   3.15818149e-01   1.03940593e+03]\n",
      "0.0 [-0.00112858  0.03828625  0.73387154] [ -1.32602338e-03   5.60893032e-02   3.84580195e+00]\n",
      "This is the average radius of curvature of the anes 822.858676892\n"
     ]
    },
    {
     "name": "stderr",
     "output_type": "stream",
     "text": [
      "\r",
      " 11%|█▏        | 145/1261 [01:39<12:53,  1.44it/s]"
     ]
    },
    {
     "name": "stdout",
     "output_type": "stream",
     "text": [
      "903.887373725\n",
      "0.0 [ -1.38565978e-04   2.17795623e-01   1.98235239e+02] [ -1.46516524e-04   3.11170152e-01   1.03909645e+03]\n",
      "0.0 [-0.00118125  0.0386805   0.73347038] [ -1.24902406e-03   5.52638191e-02   3.84465686e+00]\n",
      "This is the average radius of curvature of the anes 826.3795508\n"
     ]
    },
    {
     "name": "stderr",
     "output_type": "stream",
     "text": [
      "\r",
      " 12%|█▏        | 146/1261 [01:40<12:45,  1.46it/s]"
     ]
    },
    {
     "name": "stdout",
     "output_type": "stream",
     "text": [
      "901.91302541\n",
      "0.0 [ -1.42035212e-04   2.20223118e-01   1.98086954e+02] [ -1.89193605e-04   3.54555123e-01   1.02779432e+03]\n",
      "0.0 [-0.00121082  0.03911163  0.73292173] [ -1.61283765e-03   6.29689899e-02   3.80283897e+00]\n",
      "This is the average radius of curvature of the anes 725.748855912\n"
     ]
    },
    {
     "name": "stderr",
     "output_type": "stream",
     "text": [
      "\r",
      " 12%|█▏        | 147/1261 [01:40<12:52,  1.44it/s]"
     ]
    },
    {
     "name": "stdout",
     "output_type": "stream",
     "text": [
      "906.010255921\n",
      "0.0 [ -1.45724184e-04   2.22162940e-01   1.97938806e+02] [ -1.34615594e-04   3.06352730e-01   1.03767390e+03]\n",
      "0.0 [-0.00124227  0.03945614  0.73237358] [ -1.14757102e-03   5.44082449e-02   3.83939341e+00]\n",
      "This is the average radius of curvature of the anes 841.068398226\n"
     ]
    },
    {
     "name": "stderr",
     "output_type": "stream",
     "text": [
      "\r",
      " 12%|█▏        | 148/1261 [01:41<12:40,  1.46it/s]"
     ]
    },
    {
     "name": "stdout",
     "output_type": "stream",
     "text": [
      "899.555206039\n",
      "0.0 [ -1.45762462e-04   2.26276273e-01   1.98148022e+02] [ -1.63141961e-04   3.37299226e-01   1.02686225e+03]\n",
      "0.0 [-0.0012426   0.04018667  0.73314768] [ -1.39075259e-03   5.99043425e-02   3.79939032e+00]\n",
      "This is the average radius of curvature of the anes 764.813119182\n"
     ]
    },
    {
     "name": "stderr",
     "output_type": "stream",
     "text": [
      "\r",
      " 12%|█▏        | 149/1261 [01:42<12:54,  1.44it/s]"
     ]
    },
    {
     "name": "stdout",
     "output_type": "stream",
     "text": [
      "895.010765924\n",
      "0.0 [ -1.51883004e-04   2.32103263e-01   1.97984069e+02] [ -1.87906311e-04   3.58936153e-01   1.02042463e+03]\n",
      "0.0 [-0.00129477  0.04122154  0.73254106] [ -1.60186372e-03   6.37470608e-02   3.77557114e+00]\n",
      "This is the average radius of curvature of the anes 701.193983779\n"
     ]
    },
    {
     "name": "stderr",
     "output_type": "stream",
     "text": [
      "\r",
      " 12%|█▏        | 150/1261 [01:42<12:51,  1.44it/s]"
     ]
    },
    {
     "name": "stdout",
     "output_type": "stream",
     "text": [
      "895.48701264\n",
      "0.0 [ -1.52889851e-04   2.32269896e-01   1.98335496e+02] [ -1.53745522e-04   3.21760019e-01   1.02992146e+03]\n",
      "0.0 [-0.00130336  0.04125113  0.73384133] [ -1.31064982e-03   5.71445793e-02   3.81070940e+00]\n",
      "This is the average radius of curvature of the anes 767.96514518\n"
     ]
    },
    {
     "name": "stderr",
     "output_type": "stream",
     "text": [
      "\r",
      " 12%|█▏        | 151/1261 [01:43<13:07,  1.41it/s]"
     ]
    },
    {
     "name": "stdout",
     "output_type": "stream",
     "text": [
      "898.49458945\n",
      "0.0 [ -1.59799512e-04   2.35710016e-01   1.98075131e+02] [ -1.40008642e-04   3.12739311e-01   1.03095455e+03]\n",
      "0.0 [-0.00136226  0.0418621   0.73287798] [ -1.19354567e-03   5.55425017e-02   3.81453183e+00]\n",
      "This is the average radius of curvature of the anes 788.862567534\n"
     ]
    },
    {
     "name": "stderr",
     "output_type": "stream",
     "text": [
      "\r",
      " 12%|█▏        | 152/1261 [01:44<13:12,  1.40it/s]"
     ]
    },
    {
     "name": "stdout",
     "output_type": "stream",
     "text": [
      "902.637339255\n",
      "0.0 [ -1.65356559e-04   2.37640467e-01   1.97973616e+02] [ -1.14639568e-04   2.92634591e-01   1.03485147e+03]\n",
      "0.0 [-0.00140963  0.04220495  0.73250238] [ -9.77279387e-04   5.19719034e-02   3.82895045e+00]\n",
      "This is the average radius of curvature of the anes 869.349479209\n"
     ]
    },
    {
     "name": "stderr",
     "output_type": "stream",
     "text": [
      "\r",
      " 12%|█▏        | 153/1261 [01:45<13:33,  1.36it/s]"
     ]
    },
    {
     "name": "stdout",
     "output_type": "stream",
     "text": [
      "898.506501453\n",
      "0.0 [ -1.62249252e-04   2.34654441e-01   1.98527895e+02] [ -1.39192301e-04   3.07608869e-01   1.03266062e+03]\n",
      "0.0 [-0.00138314  0.04167463  0.73455321] [ -1.18658653e-03   5.46313351e-02   3.82084429e+00]\n",
      "This is the average radius of curvature of the anes 785.70246432\n"
     ]
    },
    {
     "name": "stderr",
     "output_type": "stream",
     "text": [
      "\r",
      " 12%|█▏        | 154/1261 [01:45<13:25,  1.37it/s]"
     ]
    },
    {
     "name": "stdout",
     "output_type": "stream",
     "text": [
      "901.416328702\n",
      "0.0 [ -1.57313665e-04   2.28768091e-01   1.98867442e+02] [ -1.24856529e-04   2.90997890e-01   1.03876147e+03]\n",
      "0.0 [-0.00134107  0.04062921  0.73580954] [ -1.06437694e-03   5.16812253e-02   3.84341745e+00]\n",
      "This is the average radius of curvature of the anes 845.402565761\n"
     ]
    },
    {
     "name": "stderr",
     "output_type": "stream",
     "text": [
      "\r",
      " 12%|█▏        | 155/1261 [01:46<13:28,  1.37it/s]"
     ]
    },
    {
     "name": "stdout",
     "output_type": "stream",
     "text": [
      "903.639028303\n",
      "0.0 [ -1.46745654e-04   2.17937531e-01   1.99486538e+02] [ -1.24814572e-04   2.81866911e-01   1.04582283e+03]\n",
      "0.0 [-0.00125098  0.03870571  0.73810019] [ -1.06401926e-03   5.00595635e-02   3.86954446e+00]\n",
      "This is the average radius of curvature of the anes 872.269801635\n"
     ]
    },
    {
     "name": "stderr",
     "output_type": "stream",
     "text": [
      "\r",
      " 12%|█▏        | 156/1261 [01:47<13:24,  1.37it/s]"
     ]
    },
    {
     "name": "stdout",
     "output_type": "stream",
     "text": [
      "902.132030489\n",
      "0.0 [ -1.35490897e-04   2.07782339e-01   1.99922814e+02] [ -1.61335298e-04   3.11541613e-01   1.04081247e+03]\n",
      "0.0 [-0.00115503  0.03690214  0.73971441] [ -1.37535114e-03   5.53297905e-02   3.85100615e+00]\n",
      "This is the average radius of curvature of the anes 798.986900142\n"
     ]
    },
    {
     "name": "stderr",
     "output_type": "stream",
     "text": [
      "\r",
      " 12%|█▏        | 157/1261 [01:48<13:27,  1.37it/s]"
     ]
    },
    {
     "name": "stdout",
     "output_type": "stream",
     "text": [
      "901.060853388\n",
      "0.0 [ -1.27458990e-04   2.00881748e-01   1.99791164e+02] [ -1.93233603e-04   3.39058915e-01   1.03550554e+03]\n",
      "0.0 [-0.00108656  0.0356766   0.73922731] [ -1.64727782e-03   6.02168632e-02   3.83137051e+00]\n",
      "This is the average radius of curvature of the anes 766.229200917\n"
     ]
    },
    {
     "name": "stderr",
     "output_type": "stream",
     "text": [
      "\r",
      " 13%|█▎        | 158/1261 [01:48<13:11,  1.39it/s]"
     ]
    },
    {
     "name": "stdout",
     "output_type": "stream",
     "text": [
      "897.786185762\n",
      "0.0 [ -1.27036718e-04   1.99117041e-01   2.00001385e+02] [ -2.51966686e-04   4.00114415e-01   1.01785438e+03]\n",
      "0.0 [-0.00108296  0.03536319  0.74000513] [ -2.14796561e-03   7.10603201e-02   3.76606121e+00]\n",
      "This is the average radius of curvature of the anes 697.106560658\n"
     ]
    },
    {
     "name": "stderr",
     "output_type": "stream",
     "text": [
      "\r",
      " 13%|█▎        | 159/1261 [01:49<13:08,  1.40it/s]"
     ]
    },
    {
     "name": "stdout",
     "output_type": "stream",
     "text": [
      "900.626951359\n",
      "0.0 [ -1.37453345e-04   2.04509828e-01   1.98679340e+02] [ -2.34243494e-04   3.83022790e-01   1.02099220e+03]\n",
      "0.0 [-0.00117176  0.03632095  0.73511356] [ -1.99687894e-03   6.80248475e-02   3.77767116e+00]\n",
      "This is the average radius of curvature of the anes 679.683099536\n"
     ]
    },
    {
     "name": "stderr",
     "output_type": "stream",
     "text": [
      "\r",
      " 13%|█▎        | 160/1261 [01:50<12:58,  1.41it/s]"
     ]
    },
    {
     "name": "stdout",
     "output_type": "stream",
     "text": [
      "905.127932397\n",
      "0.0 [ -1.49968012e-04   2.12813583e-01   1.96857586e+02] [ -2.07844304e-04   3.70816356e-01   1.01830131e+03]\n",
      "0.0 [-0.00127845  0.03779569  0.72837307] [ -1.77183112e-03   6.58569848e-02   3.76771485e+00]\n",
      "This is the average radius of curvature of the anes 675.969555487\n"
     ]
    },
    {
     "name": "stderr",
     "output_type": "stream",
     "text": [
      "\r",
      " 13%|█▎        | 161/1261 [01:50<12:58,  1.41it/s]"
     ]
    },
    {
     "name": "stdout",
     "output_type": "stream",
     "text": [
      "904.169034398\n",
      "0.0 [ -1.63827774e-04   2.25716012e-01   1.92379787e+02] [ -2.02332475e-04   3.54310172e-01   1.02399505e+03]\n",
      "0.0 [-0.0013966   0.04008716  0.71180521] [ -1.72484388e-03   6.29254866e-02   3.78878168e+00]\n",
      "This is the average radius of curvature of the anes 650.480633908\n"
     ]
    },
    {
     "name": "stderr",
     "output_type": "stream",
     "text": [
      "\r",
      " 13%|█▎        | 162/1261 [01:51<12:51,  1.43it/s]"
     ]
    },
    {
     "name": "stdout",
     "output_type": "stream",
     "text": [
      "904.481449873\n",
      "0.0 [ -1.71801582e-04   2.33043822e-01   1.88979533e+02] [ -2.11162402e-04   3.56656144e-01   1.02493173e+03]\n",
      "0.0 [-0.00146457  0.04138858  0.69922427] [ -1.80011724e-03   6.33421312e-02   3.79224741e+00]\n",
      "This is the average radius of curvature of the anes 621.706786554\n"
     ]
    },
    {
     "name": "stderr",
     "output_type": "stream",
     "text": [
      "\r",
      " 13%|█▎        | 163/1261 [01:52<13:05,  1.40it/s]"
     ]
    },
    {
     "name": "stdout",
     "output_type": "stream",
     "text": [
      "907.526878954\n",
      "0.0 [ -1.75694509e-04   2.38411532e-01   1.85125813e+02] [ -1.97441078e-04   3.38429558e-01   1.03198186e+03]\n",
      "0.0 [-0.00149776  0.04234189  0.68496551] [ -1.68314571e-03   6.01050895e-02   3.81833288e+00]\n",
      "This is the average radius of curvature of the anes 633.40392366\n"
     ]
    },
    {
     "name": "stderr",
     "output_type": "stream",
     "text": [
      "\r",
      " 13%|█▎        | 164/1261 [01:53<13:13,  1.38it/s]"
     ]
    },
    {
     "name": "stdout",
     "output_type": "stream",
     "text": [
      "914.17035723\n",
      "0.0 [ -1.86337251e-04   2.48083204e-01   1.82316827e+02] [ -1.65445742e-04   3.24415396e-01   1.03080424e+03]\n",
      "0.0 [-0.00158849  0.04405958  0.67457226] [ -1.41039187e-03   5.76161743e-02   3.81397570e+00]\n",
      "This is the average radius of curvature of the anes 671.959905187\n"
     ]
    },
    {
     "name": "stderr",
     "output_type": "stream",
     "text": [
      "\r",
      " 13%|█▎        | 165/1261 [01:53<13:15,  1.38it/s]"
     ]
    },
    {
     "name": "stdout",
     "output_type": "stream",
     "text": [
      "914.150457452\n",
      "0.0 [ -1.89339402e-04   2.51190658e-01   1.81625806e+02] [ -1.54529063e-04   3.27821074e-01   1.02268341e+03]\n",
      "0.0 [-0.00161408  0.04461146  0.67201548] [ -1.31732936e-03   5.82210228e-02   3.78392860e+00]\n",
      "This is the average radius of curvature of the anes 692.186404723\n"
     ]
    },
    {
     "name": "stderr",
     "output_type": "stream",
     "text": [
      "\r",
      " 13%|█▎        | 166/1261 [01:54<13:23,  1.36it/s]"
     ]
    },
    {
     "name": "stdout",
     "output_type": "stream",
     "text": [
      "914.315170305\n",
      "0.0 [ -1.94934674e-04   2.56339281e-01   1.80087037e+02] [ -1.47144813e-04   3.27291357e-01   1.01868217e+03]\n",
      "0.0 [-0.00166178  0.04552586  0.66632204] [ -1.25438010e-03   5.81269450e-02   3.76912403e+00]\n",
      "This is the average radius of curvature of the anes 702.443380879\n"
     ]
    },
    {
     "name": "stderr",
     "output_type": "stream",
     "text": [
      "\r",
      " 13%|█▎        | 167/1261 [01:55<13:10,  1.38it/s]"
     ]
    },
    {
     "name": "stdout",
     "output_type": "stream",
     "text": [
      "912.467197835\n",
      "0.0 [ -1.92144472e-04   2.55872770e-01   1.79761816e+02] [ -1.39542366e-04   3.30911186e-01   1.01108316e+03]\n",
      "0.0 [-0.00163799  0.045443    0.66511872] [ -1.18957076e-03   5.87698266e-02   3.74100768e+00]\n",
      "This is the average radius of curvature of the anes 728.696773715\n"
     ]
    },
    {
     "name": "stderr",
     "output_type": "stream",
     "text": [
      "\r",
      " 13%|█▎        | 168/1261 [01:55<13:10,  1.38it/s]"
     ]
    },
    {
     "name": "stdout",
     "output_type": "stream",
     "text": [
      "915.79019178\n",
      "0.0 [ -1.97233272e-04   2.63667074e-01   1.76051576e+02] [ -9.53213153e-05   2.93154218e-01   1.01795600e+03]\n",
      "0.0 [-0.00168137  0.04682727  0.65139083] [ -8.12595149e-04   5.20641892e-02   3.76643721e+00]\n",
      "This is the average radius of curvature of the anes 916.170589146\n"
     ]
    },
    {
     "name": "stderr",
     "output_type": "stream",
     "text": [
      "\r",
      " 13%|█▎        | 169/1261 [01:56<12:48,  1.42it/s]"
     ]
    },
    {
     "name": "stdout",
     "output_type": "stream",
     "text": [
      "917.663201092\n",
      "0.0 [ -1.98839787e-04   2.69185721e-01   1.72017821e+02] [ -5.50155146e-05   2.53076524e-01   1.02691200e+03]\n",
      "0.0 [-0.00169507  0.04780738  0.63646594] [ -4.68996259e-04   4.49463906e-02   3.79957438e+00]\n",
      "This is the average radius of curvature of the anes 1365.32381331\n"
     ]
    },
    {
     "name": "stderr",
     "output_type": "stream",
     "text": [
      "\r",
      " 13%|█▎        | 170/1261 [01:57<12:42,  1.43it/s]"
     ]
    },
    {
     "name": "stdout",
     "output_type": "stream",
     "text": [
      "918.231983657\n",
      "0.0 [ -1.93235739e-04   2.70007328e-01   1.67115896e+02] [ -2.88732870e-05   2.16296741e-01   1.03899681e+03]\n",
      "0.0 [-0.0016473   0.0479533   0.61832881] [ -2.46138997e-04   3.84143012e-02   3.84428821e+00]\n",
      "This is the average radius of curvature of the anes 2340.44588808\n"
     ]
    },
    {
     "name": "stderr",
     "output_type": "stream",
     "text": [
      "\r",
      " 14%|█▎        | 171/1261 [01:57<12:20,  1.47it/s]"
     ]
    },
    {
     "name": "stdout",
     "output_type": "stream",
     "text": [
      "917.613455108\n",
      "0.0 [ -1.83314804e-04   2.66118259e-01   1.63982537e+02] [ -4.72190647e-06   1.82219357e-01   1.04959374e+03]\n",
      "0.0 [-0.00156272  0.0472626   0.60673539] [ -4.02533083e-05   3.23621578e-02   3.88349683e+00]\n",
      "This is the average radius of curvature of the anes 12761.885054\n"
     ]
    },
    {
     "name": "stderr",
     "output_type": "stream",
     "text": [
      "\r",
      " 14%|█▎        | 172/1261 [01:58<12:22,  1.47it/s]"
     ]
    },
    {
     "name": "stdout",
     "output_type": "stream",
     "text": [
      "916.622155668\n",
      "0.0 [ -1.81001815e-04   2.66862043e-01   1.61194610e+02] [  1.10820879e-05   1.58556726e-01   1.05638840e+03]\n",
      "0.0 [-0.001543    0.0473947   0.59642006] [  9.44725833e-05   2.81596746e-02   3.90863709e+00]\n",
      "This is the average radius of curvature of the anes 5623.97286183\n"
     ]
    },
    {
     "name": "stderr",
     "output_type": "stream",
     "text": [
      "\r",
      " 14%|█▎        | 173/1261 [01:59<12:08,  1.49it/s]"
     ]
    },
    {
     "name": "stdout",
     "output_type": "stream",
     "text": [
      "907.630243495\n",
      "0.0 [ -1.75626715e-04   2.63395625e-01   1.60144707e+02] [ -7.78277288e-05   2.26844746e-01   1.04349677e+03]\n",
      "0.0 [-0.00149718  0.04677906  0.59253542] [ -6.63465823e-04   4.02876268e-02   3.86093805e+00]\n",
      "This is the average radius of curvature of the anes 1090.51124969\n"
     ]
    },
    {
     "name": "stderr",
     "output_type": "stream",
     "text": [
      "\r",
      " 14%|█▍        | 174/1261 [01:59<12:10,  1.49it/s]"
     ]
    },
    {
     "name": "stdout",
     "output_type": "stream",
     "text": [
      "903.184608238\n",
      "0.0 [ -1.74868648e-04   2.62222534e-01   1.60093831e+02] [ -1.31121894e-04   2.79051911e-01   1.02856275e+03]\n",
      "0.0 [-0.00149072  0.04657072  0.59234717] [ -1.11778792e-03   4.95596194e-02   3.80568218e+00]\n",
      "This is the average radius of curvature of the anes 785.461153008\n"
     ]
    },
    {
     "name": "stderr",
     "output_type": "stream",
     "text": [
      "\r",
      " 14%|█▍        | 175/1261 [02:00<12:07,  1.49it/s]"
     ]
    },
    {
     "name": "stdout",
     "output_type": "stream",
     "text": [
      "898.233719012\n",
      "0.0 [ -1.67718589e-04   2.56214448e-01   1.60906571e+02] [ -1.91687500e-04   3.41656822e-01   1.01009822e+03]\n",
      "0.0 [-0.00142977  0.04550369  0.59535431] [ -1.63409760e-03   6.06782516e-02   3.73736340e+00]\n",
      "This is the average radius of curvature of the anes 658.464619467\n"
     ]
    },
    {
     "name": "stderr",
     "output_type": "stream",
     "text": [
      "\r",
      " 14%|█▍        | 176/1261 [02:01<12:29,  1.45it/s]"
     ]
    },
    {
     "name": "stdout",
     "output_type": "stream",
     "text": [
      "894.045680896\n",
      "0.0 [ -1.68643878e-04   2.55523197e-01   1.60882969e+02] [ -2.35342459e-04   3.74850202e-01   1.00361310e+03]\n",
      "0.0 [-0.00143766  0.04538092  0.59526699] [ -2.00624740e-03   6.65733958e-02   3.71336847e+00]\n",
      "This is the average radius of curvature of the anes 599.743599325\n"
     ]
    },
    {
     "name": "stderr",
     "output_type": "stream",
     "text": [
      "\r",
      " 14%|█▍        | 177/1261 [02:02<12:31,  1.44it/s]"
     ]
    },
    {
     "name": "stdout",
     "output_type": "stream",
     "text": [
      "896.655916428\n",
      "0.0 [ -1.51121889e-04   2.40482086e-01   1.61655566e+02] [ -2.41384003e-04   3.81188716e-01   1.00380541e+03]\n",
      "0.0 [-0.00128828  0.04270962  0.59812559] [ -2.05775035e-03   6.76991160e-02   3.71408001e+00]\n",
      "This is the average radius of curvature of the anes 633.831810726\n"
     ]
    },
    {
     "name": "stderr",
     "output_type": "stream",
     "text": [
      "\r",
      " 14%|█▍        | 178/1261 [02:02<12:43,  1.42it/s]"
     ]
    },
    {
     "name": "stdout",
     "output_type": "stream",
     "text": [
      "902.077531542\n",
      "0.0 [ -1.39525436e-04   2.29716319e-01   1.62318688e+02] [ -2.27164110e-04   3.69701103e-01   1.00905294e+03]\n",
      "0.0 [-0.00118943  0.04079762  0.60057914] [ -1.93652860e-03   6.56589159e-02   3.73349586e+00]\n",
      "This is the average radius of curvature of the anes 681.286053237\n"
     ]
    },
    {
     "name": "stderr",
     "output_type": "stream",
     "text": [
      "\r",
      " 14%|█▍        | 179/1261 [02:03<12:46,  1.41it/s]"
     ]
    },
    {
     "name": "stdout",
     "output_type": "stream",
     "text": [
      "906.650080526\n",
      "0.0 [ -1.28317196e-04   2.19844287e-01   1.63067424e+02] [ -2.19570885e-04   3.61506055e-01   1.01503729e+03]\n",
      "0.0 [-0.00109388  0.03904435  0.60334947] [ -1.87179788e-03   6.42034754e-02   3.75563798e+00]\n",
      "This is the average radius of curvature of the anes 726.911017504\n"
     ]
    },
    {
     "name": "stderr",
     "output_type": "stream",
     "text": [
      "\r",
      " 14%|█▍        | 180/1261 [02:04<12:54,  1.40it/s]"
     ]
    },
    {
     "name": "stdout",
     "output_type": "stream",
     "text": [
      "912.370823409\n",
      "0.0 [ -1.18844922e-04   2.10777761e-01   1.63856242e+02] [ -1.97361570e-04   3.37928900e-01   1.02539544e+03]\n",
      "0.0 [-0.00101313  0.03743413  0.60626809] [ -1.68246791e-03   6.00161727e-02   3.79396313e+00]\n",
      "This is the average radius of curvature of the anes 793.347787984\n"
     ]
    },
    {
     "name": "stderr",
     "output_type": "stream",
     "text": [
      "\r",
      " 14%|█▍        | 181/1261 [02:04<12:39,  1.42it/s]"
     ]
    },
    {
     "name": "stdout",
     "output_type": "stream",
     "text": [
      "914.921286983\n",
      "0.0 [ -1.16386261e-04   2.07564431e-01   1.64487005e+02] [ -2.27997291e-04   3.72876934e-01   1.01824715e+03]\n",
      "0.0 [-0.00099217  0.03686344  0.60860192] [ -1.94363130e-03   6.62229434e-02   3.76751446e+00]\n",
      "This is the average radius of curvature of the anes 763.918215687\n"
     ]
    },
    {
     "name": "stderr",
     "output_type": "stream",
     "text": [
      "\r",
      " 14%|█▍        | 182/1261 [02:05<12:41,  1.42it/s]"
     ]
    },
    {
     "name": "stdout",
     "output_type": "stream",
     "text": [
      "919.458834286\n",
      "0.0 [ -1.19607393e-04   2.06557796e-01   1.64795298e+02] [ -2.30997951e-04   3.74945669e-01   1.02076783e+03]\n",
      "0.0 [-0.00101963  0.03668466  0.6097426 ] [ -1.96921134e-03   6.65903508e-02   3.77684096e+00]\n",
      "This is the average radius of curvature of the anes 746.964092835\n"
     ]
    },
    {
     "name": "stderr",
     "output_type": "stream",
     "text": [
      "\r",
      " 15%|█▍        | 183/1261 [02:06<12:27,  1.44it/s]"
     ]
    },
    {
     "name": "stdout",
     "output_type": "stream",
     "text": [
      "920.253852482\n",
      "0.0 [ -1.26584820e-04   2.10148627e-01   1.64943418e+02] [ -2.43138598e-04   3.87777099e-01   1.01773616e+03]\n",
      "0.0 [-0.00107911  0.0373224   0.61029065] [ -2.07270792e-03   6.88692128e-02   3.76562378e+00]\n",
      "This is the average radius of curvature of the anes 707.26172138\n"
     ]
    },
    {
     "name": "stderr",
     "output_type": "stream",
     "text": [
      "\r",
      " 15%|█▍        | 184/1261 [02:07<12:36,  1.42it/s]"
     ]
    },
    {
     "name": "stdout",
     "output_type": "stream",
     "text": [
      "915.234944279\n",
      "0.0 [ -1.33278525e-04   2.13093829e-01   1.65852378e+02] [ -3.09841454e-04   4.46050731e-01   1.00424658e+03]\n",
      "0.0 [-0.00113617  0.03784546  0.6136538 ] [ -2.64133642e-03   7.92186098e-02   3.71571234e+00]\n",
      "This is the average radius of curvature of the anes 632.102558283\n"
     ]
    },
    {
     "name": "stderr",
     "output_type": "stream",
     "text": [
      "\r",
      " 15%|█▍        | 185/1261 [02:07<12:42,  1.41it/s]"
     ]
    },
    {
     "name": "stdout",
     "output_type": "stream",
     "text": [
      "914.579382041\n",
      "0.0 [ -1.49628261e-04   2.21988315e-01   1.66814249e+02] [ -3.53200848e-04   4.97319057e-01   9.88297836e+02]\n",
      "0.0 [-0.00127555  0.03942512  0.61721272] [ -3.01096659e-03   8.83238645e-02   3.65670199e+00]\n",
      "This is the average radius of curvature of the anes 560.908329051\n"
     ]
    },
    {
     "name": "stderr",
     "output_type": "stream",
     "text": [
      "\r",
      " 15%|█▍        | 186/1261 [02:08<12:37,  1.42it/s]"
     ]
    },
    {
     "name": "stdout",
     "output_type": "stream",
     "text": [
      "915.617813356\n",
      "0.0 [ -1.75119858e-04   2.33812002e-01   1.70884147e+02] [ -3.53516223e-04   5.20322176e-01   9.72725108e+02]\n",
      "0.0 [-0.00149286  0.04152501  0.63227134] [ -3.01365510e-03   9.24092185e-02   3.59908290e+00]\n",
      "This is the average radius of curvature of the anes 503.835061433\n"
     ]
    },
    {
     "name": "stderr",
     "output_type": "stream",
     "text": [
      "\r",
      " 15%|█▍        | 187/1261 [02:09<12:35,  1.42it/s]"
     ]
    },
    {
     "name": "stdout",
     "output_type": "stream",
     "text": [
      "916.041604449\n",
      "0.0 [ -1.88824449e-04   2.39232253e-01   1.74249862e+02] [ -3.72879450e-04   5.56374785e-01   9.57415244e+02]\n",
      "0.0 [-0.00160969  0.04248765  0.64472449] [ -3.17872273e-03   9.88121618e-02   3.54243640e+00]\n",
      "This is the average radius of curvature of the anes 471.065376394\n"
     ]
    },
    {
     "name": "stderr",
     "output_type": "stream",
     "text": [
      "\r",
      " 15%|█▍        | 188/1261 [02:09<12:46,  1.40it/s]"
     ]
    },
    {
     "name": "stdout",
     "output_type": "stream",
     "text": [
      "923.204220444\n",
      "0.0 [ -2.16047147e-04   2.58528933e-01   1.74986501e+02] [ -3.04942568e-04   5.18456907e-01   9.57257973e+02]\n",
      "0.0 [-0.00184176  0.04591474  0.64745005] [ -2.59957440e-03   9.20779468e-02   3.54185450e+00]\n",
      "This is the average radius of curvature of the anes 467.129012405\n"
     ]
    },
    {
     "name": "stderr",
     "output_type": "stream",
     "text": [
      "\r",
      " 15%|█▍        | 189/1261 [02:10<12:50,  1.39it/s]"
     ]
    },
    {
     "name": "stdout",
     "output_type": "stream",
     "text": [
      "923.171901666\n",
      "0.0 [ -2.33923003e-04   2.73818447e-01   1.74630309e+02] [ -2.86453069e-04   5.08981923e-01   9.55875667e+02]\n",
      "0.0 [-0.00199415  0.04863016  0.64613214] [ -2.44195512e-03   9.03951896e-02   3.53673997e+00]\n",
      "This is the average radius of curvature of the anes 458.892502266\n"
     ]
    },
    {
     "name": "stderr",
     "output_type": "stream",
     "text": [
      "\r",
      " 15%|█▌        | 190/1261 [02:11<12:46,  1.40it/s]"
     ]
    },
    {
     "name": "stdout",
     "output_type": "stream",
     "text": [
      "921.245166628\n",
      "0.0 [ -2.42257177e-04   2.83489812e-01   1.74653805e+02] [ -2.77422829e-04   5.07853974e-01   9.52760409e+02]\n",
      "0.0 [-0.00206519  0.05034779  0.64621908] [ -2.36497413e-03   9.01948659e-02   3.52521351e+00]\n",
      "This is the average radius of curvature of the anes 457.033087299\n"
     ]
    },
    {
     "name": "stderr",
     "output_type": "stream",
     "text": [
      "\r",
      " 15%|█▌        | 191/1261 [02:12<12:50,  1.39it/s]"
     ]
    },
    {
     "name": "stdout",
     "output_type": "stream",
     "text": [
      "916.014785823\n",
      "0.0 [ -2.44258833e-04   2.87813975e-01   1.76253539e+02] [ -2.88019147e-04   5.22747587e-01   9.45973434e+02]\n",
      "0.0 [-0.00208226  0.05111576  0.6521381 ] [ -2.45530563e-03   9.28399714e-02   3.50010170e+00]\n",
      "This is the average radius of curvature of the anes 447.344841904\n"
     ]
    },
    {
     "name": "stderr",
     "output_type": "stream",
     "text": [
      "\r",
      " 15%|█▌        | 192/1261 [02:12<12:40,  1.40it/s]"
     ]
    },
    {
     "name": "stdout",
     "output_type": "stream",
     "text": [
      "915.070358578\n",
      "0.0 [ -2.37395925e-04   2.88517332e-01   1.76106931e+02] [ -2.49146219e-04   4.91183560e-01   9.51534715e+02]\n",
      "0.0 [-0.00202375  0.05124068  0.65159564] [ -2.12392169e-03   8.72342003e-02   3.52067845e+00]\n",
      "This is the average radius of curvature of the anes 486.145295347\n"
     ]
    },
    {
     "name": "stderr",
     "output_type": "stream",
     "text": [
      "\r",
      " 15%|█▌        | 193/1261 [02:13<12:48,  1.39it/s]"
     ]
    },
    {
     "name": "stdout",
     "output_type": "stream",
     "text": [
      "911.11365683\n",
      "0.0 [ -2.33824147e-04   2.92836590e-01   1.76025311e+02] [ -2.20895364e-04   4.68253177e-01   9.54330765e+02]\n",
      "0.0 [-0.0019933   0.05200778  0.65129365] [ -1.88308880e-03   8.31617642e-02   3.53102383e+00]\n",
      "This is the average radius of curvature of the anes 520.138625274\n"
     ]
    },
    {
     "name": "stderr",
     "output_type": "stream",
     "text": [
      "\r",
      " 15%|█▌        | 194/1261 [02:14<12:46,  1.39it/s]"
     ]
    },
    {
     "name": "stdout",
     "output_type": "stream",
     "text": [
      "906.459731957\n",
      "0.0 [ -2.24939613e-04   2.92141983e-01   1.76157680e+02] [ -1.94824381e-04   4.41018665e-01   9.60006677e+02]\n",
      "0.0 [-0.00191757  0.05188442  0.65178342] [ -1.66083888e-03   7.83249149e-02   3.55202470e+00]\n",
      "This is the average radius of curvature of the anes 565.628198082\n"
     ]
    },
    {
     "name": "stderr",
     "output_type": "stream",
     "text": [
      "\r",
      " 15%|█▌        | 195/1261 [02:14<12:41,  1.40it/s]"
     ]
    },
    {
     "name": "stdout",
     "output_type": "stream",
     "text": [
      "902.060739161\n",
      "0.0 [ -2.11196646e-04   2.84577083e-01   1.77488189e+02] [ -1.95974988e-04   4.37639451e-01   9.61628082e+02]\n",
      "0.0 [-0.00180041  0.05054089  0.6567063 ] [ -1.67064757e-03   7.77247664e-02   3.55802390e+00]\n",
      "This is the average radius of curvature of the anes 580.780682685\n"
     ]
    },
    {
     "name": "stderr",
     "output_type": "stream",
     "text": [
      "\r",
      " 16%|█▌        | 196/1261 [02:15<12:27,  1.42it/s]"
     ]
    },
    {
     "name": "stdout",
     "output_type": "stream",
     "text": [
      "899.395961199\n",
      "0.0 [ -2.18759034e-04   2.87881566e-01   1.77220997e+02] [ -2.00313285e-04   4.13470530e-01   9.76782761e+02]\n",
      "0.0 [-0.00186488  0.05112777  0.65571769] [ -1.70763069e-03   7.34323661e-02   3.61409621e+00]\n",
      "This is the average radius of curvature of the anes 564.341055594\n"
     ]
    },
    {
     "name": "stderr",
     "output_type": "stream",
     "text": [
      "\r",
      " 16%|█▌        | 197/1261 [02:16<12:30,  1.42it/s]"
     ]
    },
    {
     "name": "stdout",
     "output_type": "stream",
     "text": [
      "905.402294205\n",
      "0.0 [ -2.16119631e-04   2.86593763e-01   1.74007337e+02] [ -1.77645496e-04   3.70731803e-01   9.99024753e+02]\n",
      "0.0 [-0.00184238  0.05089905  0.64382715] [ -1.51439233e-03   6.58419683e-02   3.69639159e+00]\n",
      "This is the average radius of curvature of the anes 604.758652066\n"
     ]
    },
    {
     "name": "stderr",
     "output_type": "stream",
     "text": [
      "\r",
      " 16%|█▌        | 198/1261 [02:16<12:25,  1.43it/s]"
     ]
    },
    {
     "name": "stdout",
     "output_type": "stream",
     "text": [
      "909.789607141\n",
      "0.0 [ -2.06986999e-04   2.84477743e-01   1.67678014e+02] [ -1.98075871e-04   3.65962390e-01   1.01427345e+03]\n",
      "0.0 [-0.00176452  0.05052325  0.62040865] [ -1.68855719e-03   6.49949205e-02   3.75281178e+00]\n",
      "This is the average radius of curvature of the anes 582.437472659\n"
     ]
    },
    {
     "name": "stderr",
     "output_type": "stream",
     "text": [
      "\r",
      " 16%|█▌        | 199/1261 [02:17<12:10,  1.45it/s]"
     ]
    },
    {
     "name": "stdout",
     "output_type": "stream",
     "text": [
      "915.088369076\n",
      "0.0 [ -1.98584258e-04   2.84802891e-01   1.59908669e+02] [ -2.31063527e-04   3.79078076e-01   1.02400369e+03]\n",
      "0.0 [-0.00169289  0.05058099  0.59166207] [ -1.96977036e-03   6.73242664e-02   3.78881367e+00]\n",
      "This is the average radius of curvature of the anes 552.051359488\n"
     ]
    },
    {
     "name": "stderr",
     "output_type": "stream",
     "text": [
      "\r",
      " 16%|█▌        | 200/1261 [02:18<12:18,  1.44it/s]"
     ]
    },
    {
     "name": "stdout",
     "output_type": "stream",
     "text": [
      "920.113583275\n",
      "0.0 [ -1.90844361e-04   2.81541952e-01   1.56299000e+02] [ -1.86272265e-04   3.25245851e-01   1.04262588e+03]\n",
      "0.0 [-0.00162691  0.05000185  0.5783063 ] [ -1.58793380e-03   5.77636631e-02   3.85771577e+00]\n",
      "This is the average radius of curvature of the anes 624.936206468\n"
     ]
    },
    {
     "name": "stderr",
     "output_type": "stream",
     "text": [
      "\r",
      " 16%|█▌        | 201/1261 [02:19<12:17,  1.44it/s]"
     ]
    },
    {
     "name": "stdout",
     "output_type": "stream",
     "text": [
      "925.896442891\n",
      "0.0 [ -1.81782161e-04   2.76276143e-01   1.53326948e+02] [ -1.65361265e-04   3.10360597e-01   1.04622771e+03]\n",
      "0.0 [-0.00154966  0.04906664  0.56730971] [ -1.40967172e-03   5.51200420e-02   3.87104251e+00]\n",
      "This is the average radius of curvature of the anes 680.128219367\n"
     ]
    },
    {
     "name": "stderr",
     "output_type": "stream",
     "text": [
      "\r",
      " 16%|█▌        | 202/1261 [02:19<12:24,  1.42it/s]"
     ]
    },
    {
     "name": "stdout",
     "output_type": "stream",
     "text": [
      "925.606571735\n",
      "0.0 [ -1.81232695e-04   2.73665442e-01   1.52963614e+02] [ -1.82896720e-04   3.23553236e-01   1.04356110e+03]\n",
      "0.0 [-0.00154497  0.04860298  0.56596537] [ -1.55915796e-03   5.74630547e-02   3.86117606e+00]\n",
      "This is the average radius of curvature of the anes 647.053367325\n"
     ]
    },
    {
     "name": "stderr",
     "output_type": "stream",
     "text": [
      "\r",
      " 16%|█▌        | 203/1261 [02:20<12:33,  1.40it/s]"
     ]
    },
    {
     "name": "stdout",
     "output_type": "stream",
     "text": [
      "924.517917892\n",
      "0.0 [ -1.88624336e-04   2.76604475e-01   1.52692809e+02] [ -2.06985394e-04   3.47480736e-01   1.03574265e+03]\n",
      "0.0 [-0.00160798  0.04912495  0.56496339] [ -1.76450909e-03   6.17125787e-02   3.83224779e+00]\n",
      "This is the average radius of curvature of the anes 597.059744788\n"
     ]
    },
    {
     "name": "stderr",
     "output_type": "stream",
     "text": [
      "\r",
      " 16%|█▌        | 204/1261 [02:21<12:26,  1.42it/s]"
     ]
    },
    {
     "name": "stdout",
     "output_type": "stream",
     "text": [
      "927.133498815\n",
      "0.0 [ -1.94073384e-04   2.78149961e-01   1.52459989e+02] [ -2.01519888e-04   3.55260035e-01   1.02800090e+03]\n",
      "0.0 [-0.00165444  0.04939943  0.56410196] [ -1.71791674e-03   6.30941822e-02   3.80360332e+00]\n",
      "This is the average radius of curvature of the anes 596.114454831\n"
     ]
    },
    {
     "name": "stderr",
     "output_type": "stream",
     "text": [
      "\r",
      " 16%|█▋        | 205/1261 [02:21<12:42,  1.38it/s]"
     ]
    },
    {
     "name": "stdout",
     "output_type": "stream",
     "text": [
      "924.449893116\n",
      "0.0 [ -1.93987499e-04   2.77999809e-01   1.52474367e+02] [ -2.14728738e-04   3.70740839e-01   1.02096587e+03]\n",
      "0.0 [-0.0016537   0.04937277  0.56415516] [ -1.83051954e-03   6.58435730e-02   3.77757373e+00]\n",
      "This is the average radius of curvature of the anes 578.382386847\n"
     ]
    },
    {
     "name": "stderr",
     "output_type": "stream",
     "text": [
      "\r",
      " 16%|█▋        | 206/1261 [02:22<12:36,  1.40it/s]"
     ]
    },
    {
     "name": "stdout",
     "output_type": "stream",
     "text": [
      "922.629253418\n",
      "0.0 [ -1.89424309e-04   2.74859492e-01   1.52914097e+02] [ -2.31127646e-04   3.92224582e-01   1.01271685e+03]\n",
      "0.0 [-0.0016148   0.04881505  0.56578216] [ -1.97031696e-03   6.96590857e-02   3.74705234e+00]\n",
      "This is the average radius of curvature of the anes 566.35801613\n"
     ]
    },
    {
     "name": "stderr",
     "output_type": "stream",
     "text": [
      "\r",
      " 16%|█▋        | 207/1261 [02:23<12:37,  1.39it/s]"
     ]
    },
    {
     "name": "stdout",
     "output_type": "stream",
     "text": [
      "917.411158119\n",
      "0.0 [ -1.70519562e-04   2.62474246e-01   1.54975160e+02] [ -2.44018429e-04   4.18388988e-01   9.98279666e+02]\n",
      "0.0 [-0.00145365  0.04661543  0.57340809] [ -2.08020830e-03   7.43058843e-02   3.69363476e+00]\n",
      "This is the average radius of curvature of the anes 587.438618199\n"
     ]
    },
    {
     "name": "stderr",
     "output_type": "stream",
     "text": [
      "\r",
      " 16%|█▋        | 208/1261 [02:24<12:25,  1.41it/s]"
     ]
    },
    {
     "name": "stdout",
     "output_type": "stream",
     "text": [
      "914.665778427\n",
      "0.0 [ -1.50727641e-04   2.46688974e-01   1.58840889e+02] [ -2.42020284e-04   4.31312463e-01   9.87957115e+02]\n",
      "0.0 [-0.00128492  0.04381196  0.58771129] [ -2.06317451e-03   7.66010934e-02   3.65544133e+00]\n",
      "This is the average radius of curvature of the anes 634.730440453\n"
     ]
    },
    {
     "name": "stderr",
     "output_type": "stream",
     "text": [
      "\r",
      " 17%|█▋        | 209/1261 [02:24<12:31,  1.40it/s]"
     ]
    },
    {
     "name": "stdout",
     "output_type": "stream",
     "text": [
      "910.116239006\n",
      "0.0 [ -1.48395752e-04   2.45341594e-01   1.59408980e+02] [ -2.39700192e-04   4.20521981e-01   9.90771355e+02]\n",
      "0.0 [-0.00126504  0.04357267  0.58981323] [ -2.04339620e-03   7.46847038e-02   3.66585401e+00]\n",
      "This is the average radius of curvature of the anes 643.110055775\n"
     ]
    },
    {
     "name": "stderr",
     "output_type": "stream",
     "text": [
      "\r",
      " 17%|█▋        | 210/1261 [02:25<12:37,  1.39it/s]"
     ]
    },
    {
     "name": "stdout",
     "output_type": "stream",
     "text": [
      "909.587959805\n",
      "0.0 [ -1.48193036e-04   2.45271557e-01   1.59487675e+02] [ -2.19062617e-04   3.96071959e-01   9.97286955e+02]\n",
      "0.0 [-0.00126332  0.04356023  0.5901044 ] [ -1.86746500e-03   7.03423799e-02   3.68996173e+00]\n",
      "This is the average radius of curvature of the anes 666.643123886\n"
     ]
    },
    {
     "name": "stderr",
     "output_type": "stream",
     "text": [
      "\r",
      " 17%|█▋        | 211/1261 [02:26<12:23,  1.41it/s]"
     ]
    },
    {
     "name": "stdout",
     "output_type": "stream",
     "text": [
      "914.030395347\n",
      "0.0 [ -1.53479750e-04   2.47508696e-01   1.59329646e+02] [ -1.89300514e-04   3.60660955e-01   1.01052151e+03]\n",
      "0.0 [-0.00130838  0.04395754  0.58951969] [ -1.61374902e-03   6.40533856e-02   3.73892957e+00]\n",
      "This is the average radius of curvature of the anes 695.005213585\n"
     ]
    },
    {
     "name": "stderr",
     "output_type": "stream",
     "text": [
      "\r",
      " 17%|█▋        | 212/1261 [02:26<12:34,  1.39it/s]"
     ]
    },
    {
     "name": "stdout",
     "output_type": "stream",
     "text": [
      "913.300965806\n",
      "0.0 [ -1.53257796e-04   2.47198596e-01   1.59375916e+02] [ -2.06423124e-04   3.72694998e-01   1.00992937e+03]\n",
      "0.0 [-0.00130649  0.04390247  0.58969089] [ -1.75971585e-03   6.61906317e-02   3.73673867e+00]\n",
      "This is the average radius of curvature of the anes 669.817302766\n"
     ]
    },
    {
     "name": "stderr",
     "output_type": "stream",
     "text": [
      "\r",
      " 17%|█▋        | 213/1261 [02:27<12:36,  1.39it/s]"
     ]
    },
    {
     "name": "stdout",
     "output_type": "stream",
     "text": [
      "916.947361682\n",
      "0.0 [ -1.56199758e-04   2.48295210e-01   1.59312376e+02] [ -1.91381592e-04   3.65686526e-01   1.01004302e+03]\n",
      "0.0 [-0.00133157  0.04409723  0.58945579] [ -1.63148979e-03   6.49459271e-02   3.73715917e+00]\n",
      "This is the average radius of curvature of the anes 685.001329544\n"
     ]
    },
    {
     "name": "stderr",
     "output_type": "stream",
     "text": [
      "\r",
      " 17%|█▋        | 214/1261 [02:28<12:51,  1.36it/s]"
     ]
    },
    {
     "name": "stdout",
     "output_type": "stream",
     "text": [
      "915.210566823\n",
      "0.0 [ -1.59546141e-04   2.49697831e-01   1.59230295e+02] [ -2.19746383e-04   3.87672798e-01   1.00635804e+03]\n",
      "0.0 [-0.0013601   0.04434633  0.58915209] [ -1.87329396e-03   6.88506889e-02   3.72352474e+00]\n",
      "This is the average radius of curvature of the anes 637.514953872\n"
     ]
    },
    {
     "name": "stderr",
     "output_type": "stream",
     "text": [
      "\r",
      " 17%|█▋        | 215/1261 [02:29<12:44,  1.37it/s]"
     ]
    },
    {
     "name": "stdout",
     "output_type": "stream",
     "text": [
      "914.5372085\n",
      "0.0 [ -1.70972468e-04   2.56699125e-01   1.58286864e+02] [ -2.37800479e-04   4.06232292e-01   9.99857201e+02]\n",
      "0.0 [-0.00145751  0.04558976  0.5856614 ] [ -2.02720152e-03   7.21468550e-02   3.69947164e+00]\n",
      "This is the average radius of curvature of the anes 592.695489588\n"
     ]
    },
    {
     "name": "stderr",
     "output_type": "stream",
     "text": [
      "\r",
      " 17%|█▋        | 216/1261 [02:29<12:53,  1.35it/s]"
     ]
    },
    {
     "name": "stdout",
     "output_type": "stream",
     "text": [
      "915.309478853\n",
      "0.0 [ -1.84302833e-04   2.65106323e-01   1.57095737e+02] [ -2.51029945e-04   4.26504042e-01   9.90855570e+02]\n",
      "0.0 [-0.00157114  0.04708288  0.58125423] [ -2.13998008e-03   7.57471179e-02   3.66616561e+00]\n",
      "This is the average radius of curvature of the anes 554.95886806\n"
     ]
    },
    {
     "name": "stderr",
     "output_type": "stream",
     "text": [
      "\r",
      " 17%|█▋        | 217/1261 [02:30<12:49,  1.36it/s]"
     ]
    },
    {
     "name": "stdout",
     "output_type": "stream",
     "text": [
      "916.662177271\n",
      "0.0 [ -2.01213116e-04   2.77482816e-01   1.55069146e+02] [ -2.23207761e-04   4.06547415e-01   9.90304250e+02]\n",
      "0.0 [-0.0017153   0.04928095  0.57375584] [ -1.90280152e-03   7.22028209e-02   3.66412572e+00]\n",
      "This is the average radius of curvature of the anes 557.38441572\n"
     ]
    },
    {
     "name": "stderr",
     "output_type": "stream",
     "text": [
      "\r",
      " 17%|█▋        | 218/1261 [02:31<12:53,  1.35it/s]"
     ]
    },
    {
     "name": "stdout",
     "output_type": "stream",
     "text": [
      "917.618248254\n",
      "0.0 [ -2.27864529e-04   2.99834360e-01   1.50360984e+02] [ -2.27419143e-04   4.08646063e-01   9.89513370e+02]\n",
      "0.0 [-0.0019425   0.05325058  0.55633564] [ -1.93870271e-03   7.25755409e-02   3.66119947e+00]\n",
      "This is the average radius of curvature of the anes 518.440688075\n"
     ]
    },
    {
     "name": "stderr",
     "output_type": "stream",
     "text": [
      "\r",
      " 17%|█▋        | 219/1261 [02:32<12:39,  1.37it/s]"
     ]
    },
    {
     "name": "stdout",
     "output_type": "stream",
     "text": [
      "916.119970116\n",
      "0.0 [ -2.29263862e-04   3.00729845e-01   1.50124385e+02] [ -2.17422724e-04   4.06328766e-01   9.84197324e+02]\n",
      "0.0 [-0.00195443  0.05340962  0.55546023] [ -1.85348523e-03   7.21639889e-02   3.64153010e+00]\n",
      "This is the average radius of curvature of the anes 528.796735652\n"
     ]
    },
    {
     "name": "stderr",
     "output_type": "stream",
     "text": [
      "\r",
      " 17%|█▋        | 220/1261 [02:32<12:48,  1.35it/s]"
     ]
    },
    {
     "name": "stdout",
     "output_type": "stream",
     "text": [
      "915.040860244\n",
      "0.0 [ -2.30645440e-04   3.06727077e-01   1.46524625e+02] [ -2.12664013e-04   4.00424514e-01   9.84901331e+02]\n",
      "0.0 [-0.00196621  0.05447473  0.54214111] [ -1.81291818e-03   7.11153937e-02   3.64413493e+00]\n",
      "This is the average radius of curvature of the anes 533.322913018\n"
     ]
    },
    {
     "name": "stderr",
     "output_type": "stream",
     "text": [
      "\r",
      " 18%|█▊        | 221/1261 [02:33<12:42,  1.36it/s]"
     ]
    },
    {
     "name": "stdout",
     "output_type": "stream",
     "text": [
      "911.69339596\n",
      "0.0 [ -2.32080533e-04   3.12897622e-01   1.43244671e+02] [ -2.16375133e-04   3.97062108e-01   9.86304722e+02]\n",
      "0.0 [-0.00197844  0.05557062  0.53000528] [ -1.84455474e-03   7.05182304e-02   3.64932747e+00]\n",
      "This is the average radius of curvature of the anes 526.988510142\n"
     ]
    },
    {
     "name": "stderr",
     "output_type": "stream",
     "text": [
      "\r",
      " 18%|█▊        | 222/1261 [02:34<12:41,  1.37it/s]"
     ]
    },
    {
     "name": "stdout",
     "output_type": "stream",
     "text": [
      "910.533600294\n",
      "0.0 [ -2.26860283e-04   3.12954676e-01   1.41300480e+02] [ -1.93679336e-04   3.74575630e-01   9.90375359e+02]\n",
      "0.0 [-0.00193394  0.05558075  0.52281178] [ -1.65107761e-03   6.65246319e-02   3.66438883e+00]\n",
      "This is the average radius of curvature of the anes 564.583748204\n"
     ]
    },
    {
     "name": "stderr",
     "output_type": "stream",
     "text": [
      "\r",
      " 18%|█▊        | 223/1261 [02:35<12:47,  1.35it/s]"
     ]
    },
    {
     "name": "stdout",
     "output_type": "stream",
     "text": [
      "908.490819939\n",
      "0.0 [ -2.07427579e-04   3.01413709e-01   1.40835038e+02] [ -1.84489100e-04   3.63914569e-01   9.92529441e+02]\n",
      "0.0 [-0.00176828  0.05353107  0.52108964] [ -1.57273268e-03   6.46312275e-02   3.67235893e+00]\n",
      "This is the average radius of curvature of the anes 603.889218\n"
     ]
    },
    {
     "name": "stderr",
     "output_type": "stream",
     "text": [
      "\r",
      " 18%|█▊        | 224/1261 [02:35<12:37,  1.37it/s]"
     ]
    },
    {
     "name": "stdout",
     "output_type": "stream",
     "text": [
      "905.037976864\n",
      "0.0 [ -1.99065050e-04   2.96664471e-01   1.41244204e+02] [ -1.94553453e-04   3.81737928e-01   9.82782046e+02]\n",
      "0.0 [-0.00169699  0.05268761  0.52260356] [ -1.65852927e-03   6.77966560e-02   3.63629357e+00]\n",
      "This is the average radius of curvature of the anes 599.419925846\n"
     ]
    },
    {
     "name": "stderr",
     "output_type": "stream",
     "text": [
      "\r",
      " 18%|█▊        | 225/1261 [02:36<12:45,  1.35it/s]"
     ]
    },
    {
     "name": "stdout",
     "output_type": "stream",
     "text": [
      "904.034148847\n",
      "0.0 [ -1.97963539e-04   2.95903895e-01   1.41027457e+02] [ -1.94912782e-04   3.80297255e-01   9.82805658e+02]\n",
      "0.0 [-0.0016876   0.05255253  0.52180159] [ -1.66159249e-03   6.75407925e-02   3.63638094e+00]\n",
      "This is the average radius of curvature of the anes 600.484589296\n"
     ]
    },
    {
     "name": "stderr",
     "output_type": "stream",
     "text": [
      "\r",
      " 18%|█▊        | 226/1261 [02:37<12:43,  1.35it/s]"
     ]
    },
    {
     "name": "stdout",
     "output_type": "stream",
     "text": [
      "905.043791015\n",
      "0.0 [ -1.97032419e-04   2.94882889e-01   1.41125720e+02] [ -1.62144278e-04   3.57853700e-01   9.82857689e+02]\n",
      "0.0 [-0.00167966  0.0523712   0.52216516] [ -1.38224754e-03   6.35548172e-02   3.63657345e+00]\n",
      "This is the average radius of curvature of the anes 662.82804447\n"
     ]
    },
    {
     "name": "stderr",
     "output_type": "stream",
     "text": [
      "\r",
      " 18%|█▊        | 227/1261 [02:37<12:26,  1.39it/s]"
     ]
    },
    {
     "name": "stdout",
     "output_type": "stream",
     "text": [
      "905.293770033\n",
      "0.0 [ -1.99764924e-04   2.95174433e-01   1.40839608e+02] [ -1.50320563e-04   3.47697454e-01   9.82808519e+02]\n",
      "0.0 [-0.00170296  0.05242298  0.52110655] [ -1.28145274e-03   6.17510679e-02   3.63639152e+00]\n",
      "This is the average radius of curvature of the anes 687.23431462\n"
     ]
    },
    {
     "name": "stderr",
     "output_type": "stream",
     "text": [
      "\r",
      " 18%|█▊        | 228/1261 [02:38<12:21,  1.39it/s]"
     ]
    },
    {
     "name": "stdout",
     "output_type": "stream",
     "text": [
      "906.366205697\n",
      "0.0 [ -1.97467585e-04   2.92722763e-01   1.39656541e+02] [ -1.36664375e-04   3.36066538e-01   9.83425685e+02]\n",
      "0.0 [-0.00168337  0.05198756  0.5167292 ] [ -1.16503647e-03   5.96854171e-02   3.63867503e+00]\n",
      "This is the average radius of curvature of the anes 729.694342975\n"
     ]
    },
    {
     "name": "stderr",
     "output_type": "stream",
     "text": [
      "\r",
      " 18%|█▊        | 229/1261 [02:39<12:23,  1.39it/s]"
     ]
    },
    {
     "name": "stdout",
     "output_type": "stream",
     "text": [
      "905.322473089\n",
      "0.0 [ -1.95611392e-04   2.91538641e-01   1.38237708e+02] [ -1.24394939e-04   3.20535353e-01   9.85895417e+02]\n",
      "0.0 [-0.00166755  0.05177726  0.51147952] [ -1.06044198e-03   5.69270788e-02   3.64781304e+00]\n",
      "This is the average radius of curvature of the anes 774.843371515\n"
     ]
    },
    {
     "name": "stderr",
     "output_type": "stream",
     "text": [
      "\r",
      " 18%|█▊        | 230/1261 [02:40<12:11,  1.41it/s]"
     ]
    },
    {
     "name": "stdout",
     "output_type": "stream",
     "text": [
      "904.764866661\n",
      "0.0 [ -1.84982426e-04   2.85982067e-01   1.35184754e+02] [ -1.21278170e-04   3.12178565e-01   9.88181723e+02]\n",
      "0.0 [-0.00157694  0.05079042  0.50018359] [ -1.03387214e-03   5.54429132e-02   3.65627237e+00]\n",
      "This is the average radius of curvature of the anes 804.148240489\n"
     ]
    },
    {
     "name": "stderr",
     "output_type": "stream",
     "text": [
      "\r",
      " 18%|█▊        | 231/1261 [02:40<12:14,  1.40it/s]"
     ]
    },
    {
     "name": "stdout",
     "output_type": "stream",
     "text": [
      "901.801048886\n",
      "0.0 [ -1.75315904e-04   2.79527804e-01   1.34025085e+02] [ -1.42054602e-04   3.24731714e-01   9.86129726e+02]\n",
      "0.0 [-0.00149453  0.04964414  0.49589281] [ -1.21098707e-03   5.76723524e-02   3.64867999e+00]\n",
      "This is the average radius of curvature of the anes 750.738188074\n"
     ]
    },
    {
     "name": "stderr",
     "output_type": "stream",
     "text": [
      "\r",
      " 18%|█▊        | 232/1261 [02:41<11:53,  1.44it/s]"
     ]
    },
    {
     "name": "stdout",
     "output_type": "stream",
     "text": [
      "900.530255825\n",
      "0.0 [ -1.59242638e-04   2.69570293e-01   1.31456125e+02] [ -1.35369638e-04   3.09617551e-01   9.90850993e+02]\n",
      "0.0 [-0.00135751  0.04787568  0.48638766] [ -1.15399909e-03   5.49880770e-02   3.66614867e+00]\n",
      "This is the average radius of curvature of the anes 804.830552161\n"
     ]
    },
    {
     "name": "stderr",
     "output_type": "stream",
     "text": [
      "\r",
      " 18%|█▊        | 233/1261 [02:42<12:04,  1.42it/s]"
     ]
    },
    {
     "name": "stdout",
     "output_type": "stream",
     "text": [
      "896.504524026\n",
      "0.0 [ -1.52459587e-04   2.65130362e-01   1.29284529e+02] [ -1.60335158e-04   3.20460232e-01   9.90078240e+02]\n",
      "0.0 [-0.00129969  0.04708715  0.47835276] [ -1.36682516e-03   5.69137372e-02   3.66328949e+00]\n",
      "This is the average radius of curvature of the anes 753.578099383\n"
     ]
    },
    {
     "name": "stderr",
     "output_type": "stream",
     "text": [
      "\r",
      " 19%|█▊        | 234/1261 [02:42<11:56,  1.43it/s]"
     ]
    },
    {
     "name": "stdout",
     "output_type": "stream",
     "text": [
      "895.368119142\n",
      "0.0 [ -1.48834113e-04   2.61862071e-01   1.27808349e+02] [ -1.65582658e-04   3.18424736e-01   9.91166257e+02]\n",
      "0.0 [-0.00126878  0.0465067   0.47289089] [ -1.41155904e-03   5.65522332e-02   3.66731515e+00]\n",
      "This is the average radius of curvature of the anes 751.277126311\n"
     ]
    },
    {
     "name": "stderr",
     "output_type": "stream",
     "text": [
      "\r",
      " 19%|█▊        | 235/1261 [02:43<12:06,  1.41it/s]"
     ]
    },
    {
     "name": "stdout",
     "output_type": "stream",
     "text": [
      "893.681485686\n",
      "0.0 [ -1.42820999e-04   2.54659881e-01   1.27591926e+02] [ -1.98204635e-04   3.44173892e-01   9.85544018e+02]\n",
      "0.0 [-0.00121752  0.04522759  0.47209013] [ -1.68965487e-03   6.11252831e-02   3.64651287e+00]\n",
      "This is the average radius of curvature of the anes 709.509854289\n"
     ]
    },
    {
     "name": "stderr",
     "output_type": "stream",
     "text": [
      "\r",
      " 19%|█▊        | 236/1261 [02:44<11:59,  1.42it/s]"
     ]
    },
    {
     "name": "stdout",
     "output_type": "stream",
     "text": [
      "893.968758525\n",
      "0.0 [ -1.48681555e-04   2.56878883e-01   1.27432776e+02] [ -2.18392840e-04   3.75187087e-01   9.72375951e+02]\n",
      "0.0 [-0.00126748  0.04562169  0.47150127] [ -1.86175528e-03   6.66332267e-02   3.59779102e+00]\n",
      "This is the average radius of curvature of the anes 666.069973841\n"
     ]
    },
    {
     "name": "stderr",
     "output_type": "stream",
     "text": [
      "\r",
      " 19%|█▉        | 237/1261 [02:45<12:12,  1.40it/s]"
     ]
    },
    {
     "name": "stdout",
     "output_type": "stream",
     "text": [
      "894.049797941\n",
      "0.0 [ -1.51205686e-04   2.55904430e-01   1.27537966e+02] [ -2.22247574e-04   3.75979171e-01   9.71979910e+02]\n",
      "0.0 [-0.001289    0.04544863  0.47189047] [ -1.89461612e-03   6.67739008e-02   3.59632567e+00]\n",
      "This is the average radius of curvature of the anes 654.773302702\n"
     ]
    },
    {
     "name": "stderr",
     "output_type": "stream",
     "text": [
      "\r",
      " 19%|█▉        | 238/1261 [02:45<12:23,  1.38it/s]"
     ]
    },
    {
     "name": "stdout",
     "output_type": "stream",
     "text": [
      "893.103313909\n",
      "0.0 [ -1.56841166e-04   2.57481968e-01   1.27433292e+02] [ -2.43481954e-04   3.93582223e-01   9.67470431e+02]\n",
      "0.0 [-0.00133704  0.0457288   0.47150318] [ -2.07563496e-03   6.99002029e-02   3.57964059e+00]\n",
      "This is the average radius of curvature of the anes 617.791912583\n"
     ]
    },
    {
     "name": "stderr",
     "output_type": "stream",
     "text": [
      "\r",
      " 19%|█▉        | 239/1261 [02:46<12:19,  1.38it/s]"
     ]
    },
    {
     "name": "stdout",
     "output_type": "stream",
     "text": [
      "894.327425692\n",
      "0.0 [ -1.63094260e-04   2.59786149e-01   1.27264492e+02] [ -2.49561008e-04   4.05185187e-01   9.61749946e+02]\n",
      "0.0 [-0.00139035  0.04613802  0.47087862] [ -2.12745768e-03   7.19608891e-02   3.55847480e+00]\n",
      "This is the average radius of curvature of the anes 597.621851667\n"
     ]
    },
    {
     "name": "stderr",
     "output_type": "stream",
     "text": [
      "\r",
      " 19%|█▉        | 240/1261 [02:47<12:33,  1.36it/s]"
     ]
    },
    {
     "name": "stdout",
     "output_type": "stream",
     "text": [
      "899.70971196\n",
      "0.0 [ -1.64735234e-04   2.58107727e-01   1.27466624e+02] [ -2.34180715e-04   4.02041689e-01   9.59588423e+02]\n",
      "0.0 [-0.00140433  0.04583993  0.47162651] [ -1.99634376e-03   7.14026040e-02   3.55047717e+00]\n",
      "This is the average radius of curvature of the anes 609.538915695\n"
     ]
    },
    {
     "name": "stderr",
     "output_type": "stream",
     "text": [
      "\r",
      " 19%|█▉        | 241/1261 [02:47<12:23,  1.37it/s]"
     ]
    },
    {
     "name": "stdout",
     "output_type": "stream",
     "text": [
      "902.551512869\n",
      "0.0 [ -1.68240220e-04   2.58900923e-01   1.27071681e+02] [ -2.24930156e-04   4.00289556e-01   9.57271253e+02]\n",
      "0.0 [-0.00143421  0.0459808   0.47016522] [ -1.91748460e-03   7.10914252e-02   3.54190364e+00]\n",
      "This is the average radius of curvature of the anes 612.466731673\n"
     ]
    },
    {
     "name": "stderr",
     "output_type": "stream",
     "text": [
      "\r",
      " 19%|█▉        | 242/1261 [02:48<12:33,  1.35it/s]"
     ]
    },
    {
     "name": "stdout",
     "output_type": "stream",
     "text": [
      "909.501359831\n",
      "0.0 [ -1.66768009e-04   2.53991207e-01   1.27059453e+02] [ -1.89803442e-04   3.71864781e-01   9.63718134e+02]\n",
      "0.0 [-0.00142166  0.04510884  0.47011998] [ -1.61803639e-03   6.60431850e-02   3.56575710e+00]\n",
      "This is the average radius of curvature of the anes 663.815069434\n"
     ]
    },
    {
     "name": "stderr",
     "output_type": "stream",
     "text": [
      "\r",
      " 19%|█▉        | 243/1261 [02:49<12:19,  1.38it/s]"
     ]
    },
    {
     "name": "stdout",
     "output_type": "stream",
     "text": [
      "908.595257166\n",
      "0.0 [ -1.66390000e-04   2.53051584e-01   1.27179005e+02] [ -2.02602298e-04   3.82890568e-01   9.61140378e+02]\n",
      "0.0 [-0.00141844  0.04494196  0.47056232] [ -1.72714407e-03   6.80013649e-02   3.55621940e+00]\n",
      "This is the average radius of curvature of the anes 645.073646795\n"
     ]
    },
    {
     "name": "stderr",
     "output_type": "stream",
     "text": [
      "\r",
      " 19%|█▉        | 244/1261 [02:50<12:19,  1.38it/s]"
     ]
    },
    {
     "name": "stdout",
     "output_type": "stream",
     "text": [
      "908.895591499\n",
      "0.0 [ -1.70939444e-04   2.54416361e-01   1.27086102e+02] [ -1.90710164e-04   3.68009792e-01   9.64528707e+02]\n",
      "0.0 [-0.00145722  0.04518435  0.47021858] [ -1.62576601e-03   6.53585391e-02   3.56875622e+00]\n",
      "This is the average radius of curvature of the anes 653.689406384\n"
     ]
    },
    {
     "name": "stderr",
     "output_type": "stream",
     "text": [
      "\r",
      " 19%|█▉        | 245/1261 [02:50<12:20,  1.37it/s]"
     ]
    },
    {
     "name": "stdout",
     "output_type": "stream",
     "text": [
      "904.850962202\n",
      "0.0 [ -1.73220575e-04   2.54750290e-01   1.27205768e+02] [ -2.32134256e-04   4.01637653e-01   9.56900791e+02]\n",
      "0.0 [-0.00147667  0.04524365  0.47066134] [ -1.97889810e-03   7.13308471e-02   3.54053293e+00]\n",
      "This is the average radius of curvature of the anes 594.236404016\n"
     ]
    },
    {
     "name": "stderr",
     "output_type": "stream",
     "text": [
      "\r",
      " 20%|█▉        | 246/1261 [02:51<12:08,  1.39it/s]"
     ]
    },
    {
     "name": "stdout",
     "output_type": "stream",
     "text": [
      "900.878647116\n",
      "0.0 [ -1.76563158e-04   2.55960335e-01   1.27179314e+02] [ -2.64821237e-04   4.30154817e-01   9.48438114e+02]\n",
      "0.0 [-0.00150517  0.04545856  0.47056346] [ -2.25754808e-03   7.63954955e-02   3.50922102e+00]\n",
      "This is the average radius of curvature of the anes 556.640556919\n"
     ]
    },
    {
     "name": "stderr",
     "output_type": "stream",
     "text": [
      "\r",
      " 20%|█▉        | 247/1261 [02:52<12:04,  1.40it/s]"
     ]
    },
    {
     "name": "stdout",
     "output_type": "stream",
     "text": [
      "901.153350225\n",
      "0.0 [ -1.82210627e-04   2.58047561e-01   1.27072209e+02] [ -2.67502199e-04   4.32538490e-01   9.46858997e+02]\n",
      "0.0 [-0.00155331  0.04582925  0.47016717] [ -2.28040274e-03   7.68188358e-02   3.50337829e+00]\n",
      "This is the average radius of curvature of the anes 544.111268764\n"
     ]
    },
    {
     "name": "stderr",
     "output_type": "stream",
     "text": [
      "\r",
      " 20%|█▉        | 248/1261 [02:52<11:49,  1.43it/s]"
     ]
    },
    {
     "name": "stdout",
     "output_type": "stream",
     "text": [
      "899.298358517\n",
      "0.0 [ -1.74313225e-04   2.51431490e-01   1.28294096e+02] [ -2.86956385e-04   4.60815438e-01   9.35277516e+02]\n",
      "0.0 [-0.00148599  0.04465423  0.47468816] [ -2.44624579e-03   8.18408219e-02   3.46052681e+00]\n",
      "This is the average radius of curvature of the anes 543.935769152\n"
     ]
    },
    {
     "name": "stderr",
     "output_type": "stream",
     "text": [
      "\r",
      " 20%|█▉        | 249/1261 [02:53<12:03,  1.40it/s]"
     ]
    },
    {
     "name": "stdout",
     "output_type": "stream",
     "text": [
      "901.448261532\n",
      "0.0 [ -1.78408439e-04   2.53391492e-01   1.28139073e+02] [ -2.76137848e-04   4.52925260e-01   9.36644849e+02]\n",
      "0.0 [-0.0015209   0.04500233  0.47411457] [ -2.35401992e-03   8.04395261e-02   3.46558594e+00]\n",
      "This is the average radius of curvature of the anes 544.220201875\n"
     ]
    },
    {
     "name": "stderr",
     "output_type": "stream",
     "text": [
      "\r",
      " 20%|█▉        | 250/1261 [02:54<12:11,  1.38it/s]"
     ]
    },
    {
     "name": "stdout",
     "output_type": "stream",
     "text": [
      "904.018721995\n",
      "0.0 [ -1.79766476e-04   2.53919813e-01   1.28128535e+02] [ -2.61931971e-04   4.44969499e-01   9.37258889e+02]\n",
      "0.0 [-0.00153247  0.04509616  0.47407558] [ -2.23291766e-03   7.90265830e-02   3.46785789e+00]\n",
      "This is the average radius of curvature of the anes 553.288964439\n"
     ]
    },
    {
     "name": "stderr",
     "output_type": "stream",
     "text": [
      "\r",
      " 20%|█▉        | 251/1261 [02:55<12:06,  1.39it/s]"
     ]
    },
    {
     "name": "stdout",
     "output_type": "stream",
     "text": [
      "908.672809868\n",
      "0.0 [ -1.84244709e-04   2.56066353e-01   1.27953912e+02] [ -2.32132064e-04   4.20952912e-01   9.42829181e+02]\n",
      "0.0 [-0.00157065  0.04547738  0.47342947] [ -1.97887942e-03   7.47612371e-02   3.48846797e+00]\n",
      "This is the average radius of curvature of the anes 574.11732044\n"
     ]
    },
    {
     "name": "stderr",
     "output_type": "stream",
     "text": [
      "\r",
      " 20%|█▉        | 252/1261 [02:55<12:09,  1.38it/s]"
     ]
    },
    {
     "name": "stdout",
     "output_type": "stream",
     "text": [
      "910.91879707\n",
      "0.0 [ -1.87559031e-04   2.57747610e-01   1.27651826e+02] [ -2.25960093e-04   4.11965040e-01   9.47540143e+02]\n",
      "0.0 [-0.0015989   0.04577598  0.47231176] [ -1.92626460e-03   7.31649910e-02   3.50589853e+00]\n",
      "This is the average radius of curvature of the anes 575.354572704\n"
     ]
    },
    {
     "name": "stderr",
     "output_type": "stream",
     "text": [
      "\r",
      " 20%|██        | 253/1261 [02:56<12:18,  1.36it/s]"
     ]
    },
    {
     "name": "stdout",
     "output_type": "stream",
     "text": [
      "911.045212819\n",
      "0.0 [ -1.88509083e-04   2.57984507e-01   1.27633407e+02] [ -2.19500353e-04   4.03369147e-01   9.50168341e+02]\n",
      "0.0 [-0.001607    0.04581805  0.4722436 ] [ -1.87119661e-03   7.16383606e-02   3.51562286e+00]\n",
      "This is the average radius of curvature of the anes 581.386930328\n"
     ]
    },
    {
     "name": "stderr",
     "output_type": "stream",
     "text": [
      "\r",
      " 20%|██        | 254/1261 [02:57<12:18,  1.36it/s]"
     ]
    },
    {
     "name": "stdout",
     "output_type": "stream",
     "text": [
      "914.183865987\n",
      "0.0 [ -1.89786037e-04   2.58291875e-01   1.27392946e+02] [ -1.92058719e-04   3.75457826e-01   9.58509382e+02]\n",
      "0.0 [-0.00161789  0.04587264  0.4713539 ] [ -1.63726217e-03   6.66813098e-02   3.54648471e+00]\n",
      "This is the average radius of curvature of the anes 617.447814933\n"
     ]
    },
    {
     "name": "stderr",
     "output_type": "stream",
     "text": [
      "\r",
      " 20%|██        | 255/1261 [02:58<12:04,  1.39it/s]"
     ]
    },
    {
     "name": "stdout",
     "output_type": "stream",
     "text": [
      "912.444584933\n",
      "0.0 [ -1.79341385e-04   2.50459152e-01   1.28653628e+02] [ -1.96373342e-04   3.77318865e-01   9.58690937e+02]\n",
      "0.0 [-0.00152885  0.04448155  0.47601842] [ -1.67404346e-03   6.70118303e-02   3.54715647e+00]\n",
      "This is the average radius of curvature of the anes 628.706582253\n"
     ]
    },
    {
     "name": "stderr",
     "output_type": "stream",
     "text": [
      "\r",
      " 20%|██        | 256/1261 [02:58<11:41,  1.43it/s]"
     ]
    },
    {
     "name": "stdout",
     "output_type": "stream",
     "text": [
      "912.054683546\n",
      "0.0 [ -1.73687407e-04   2.45150009e-01   1.29778225e+02] [ -1.83747161e-04   3.63097329e-01   9.62229285e+02]\n",
      "0.0 [-0.00148065  0.04353864  0.48017943] [ -1.56640780e-03   6.44860856e-02   3.56024836e+00]\n",
      "This is the average radius of curvature of the anes 659.844909852\n"
     ]
    },
    {
     "name": "stderr",
     "output_type": "stream",
     "text": [
      "\r",
      " 20%|██        | 257/1261 [02:59<11:39,  1.44it/s]"
     ]
    },
    {
     "name": "stdout",
     "output_type": "stream",
     "text": [
      "912.29508029\n",
      "0.0 [ -1.67428639e-04   2.39954504e-01   1.30823471e+02] [ -1.74733600e-04   3.55485511e-01   9.63828138e+02]\n",
      "0.0 [-0.0014273   0.04261592  0.48404684] [ -1.48956900e-03   6.31342268e-02   3.56616411e+00]\n",
      "This is the average radius of curvature of the anes 688.944074104\n"
     ]
    },
    {
     "name": "stderr",
     "output_type": "stream",
     "text": [
      "\r",
      " 20%|██        | 258/1261 [03:00<11:36,  1.44it/s]"
     ]
    },
    {
     "name": "stdout",
     "output_type": "stream",
     "text": [
      "907.093916146\n",
      "0.0 [ -1.48550331e-04   2.21772354e-01   1.35192857e+02] [ -1.90673081e-04   3.61363597e-01   9.63696488e+02]\n",
      "0.0 [-0.00126636  0.03938677  0.50021357] [ -1.62544988e-03   6.41781749e-02   3.56567700e+00]\n",
      "This is the average radius of curvature of the anes 705.260550389\n"
     ]
    },
    {
     "name": "stderr",
     "output_type": "stream",
     "text": [
      "\r",
      " 21%|██        | 259/1261 [03:00<11:25,  1.46it/s]"
     ]
    },
    {
     "name": "stdout",
     "output_type": "stream",
     "text": [
      "908.763175802\n",
      "0.0 [ -1.52045105e-04   2.23221266e-01   1.35655982e+02] [ -1.63752329e-04   3.32275898e-01   9.72061056e+02]\n",
      "0.0 [-0.00129615  0.0396441   0.50192713] [ -1.39595585e-03   5.90121994e-02   3.59662591e+00]\n",
      "This is the average radius of curvature of the anes 746.716512026\n"
     ]
    },
    {
     "name": "stderr",
     "output_type": "stream",
     "text": [
      "\r",
      " 21%|██        | 260/1261 [03:01<11:32,  1.44it/s]"
     ]
    },
    {
     "name": "stdout",
     "output_type": "stream",
     "text": [
      "904.241497731\n",
      "0.0 [ -1.42007155e-04   2.14390506e-01   1.38830361e+02] [ -1.94064165e-04   3.56618038e-01   9.67721708e+02]\n",
      "0.0 [-0.00121058  0.03807575  0.51367234] [ -1.65435819e-03   6.33353635e-02   3.58057032e+00]\n",
      "This is the average radius of curvature of the anes 717.975159969\n"
     ]
    },
    {
     "name": "stderr",
     "output_type": "stream",
     "text": [
      "\r",
      " 21%|██        | 261/1261 [03:02<11:30,  1.45it/s]"
     ]
    },
    {
     "name": "stdout",
     "output_type": "stream",
     "text": [
      "905.938938556\n",
      "0.0 [ -1.45926493e-04   2.17505674e-01   1.38677352e+02] [ -1.84157457e-04   3.38775142e-01   9.77187460e+02]\n",
      "0.0 [-0.00124399  0.03862901  0.5131062 ] [ -1.56990549e-03   6.01664652e-02   3.61559360e+00]\n",
      "This is the average radius of curvature of the anes 723.052603821\n"
     ]
    },
    {
     "name": "stderr",
     "output_type": "stream",
     "text": [
      "\r",
      " 21%|██        | 262/1261 [03:02<11:50,  1.41it/s]"
     ]
    },
    {
     "name": "stdout",
     "output_type": "stream",
     "text": [
      "907.477841714\n",
      "0.0 [ -1.45432605e-04   2.18787163e-01   1.38900253e+02] [ -1.76979250e-04   3.32454740e-01   9.80959491e+02]\n",
      "0.0 [-0.00123978  0.0388566   0.51393094] [ -1.50871271e-03   5.90439619e-02   3.62955012e+00]\n",
      "This is the average radius of curvature of the anes 737.352705616\n"
     ]
    },
    {
     "name": "stderr",
     "output_type": "stream",
     "text": [
      "\r",
      " 21%|██        | 263/1261 [03:03<11:48,  1.41it/s]"
     ]
    },
    {
     "name": "stdout",
     "output_type": "stream",
     "text": [
      "907.694683586\n",
      "0.0 [ -1.29122734e-04   2.06040362e-01   1.41443821e+02] [ -1.68799716e-04   3.20257451e-01   9.87527870e+02]\n",
      "0.0 [-0.00110075  0.03659277  0.52334214] [ -1.43898382e-03   5.68777233e-02   3.65385312e+00]\n",
      "This is the average radius of curvature of the anes 804.305186448\n"
     ]
    },
    {
     "name": "stderr",
     "output_type": "stream",
     "text": [
      "\r",
      " 21%|██        | 264/1261 [03:04<11:58,  1.39it/s]"
     ]
    },
    {
     "name": "stdout",
     "output_type": "stream",
     "text": [
      "908.789776897\n",
      "0.0 [ -1.20724893e-04   1.98053699e-01   1.43341338e+02] [ -1.65204093e-04   3.10982049e-01   9.93929643e+02]\n",
      "0.0 [-0.00102916  0.03517434  0.53036295] [ -1.40833185e-03   5.52304119e-02   3.67753968e+00]\n",
      "This is the average radius of curvature of the anes 843.392787443\n"
     ]
    },
    {
     "name": "stderr",
     "output_type": "stream",
     "text": [
      "\r",
      " 21%|██        | 265/1261 [03:05<11:53,  1.40it/s]"
     ]
    },
    {
     "name": "stdout",
     "output_type": "stream",
     "text": [
      "909.506597501\n",
      "0.0 [ -1.18714515e-04   1.95381888e-01   1.44236630e+02] [ -1.67521812e-04   3.05932053e-01   9.99489128e+02]\n",
      "0.0 [-0.00101202  0.03469982  0.53367553] [ -1.42808994e-03   5.43335327e-02   3.69810977e+00]\n",
      "This is the average radius of curvature of the anes 846.624747395\n"
     ]
    },
    {
     "name": "stderr",
     "output_type": "stream",
     "text": [
      "\r",
      " 21%|██        | 266/1261 [03:05<12:03,  1.38it/s]"
     ]
    },
    {
     "name": "stdout",
     "output_type": "stream",
     "text": [
      "914.812358718\n",
      "0.0 [ -1.27958400e-04   1.99841767e-01   1.43950316e+02] [ -1.51995051e-04   2.87053031e-01   1.00848379e+03]\n",
      "0.0 [-0.00109082  0.0354919   0.53261617] [ -1.29572741e-03   5.09806183e-02   3.73139001e+00]\n",
      "This is the average radius of curvature of the anes 846.626222797\n"
     ]
    },
    {
     "name": "stderr",
     "output_type": "stream",
     "text": [
      "\r",
      " 21%|██        | 267/1261 [03:06<11:55,  1.39it/s]"
     ]
    },
    {
     "name": "stdout",
     "output_type": "stream",
     "text": [
      "915.910182688\n",
      "0.0 [ -1.20364130e-04   1.91671559e-01   1.45958439e+02] [ -1.62291680e-04   2.98585116e-01   1.00667268e+03]\n",
      "0.0 [-0.00102608  0.03404087  0.54004622] [ -1.38350411e-03   5.30287167e-02   3.72468892e+00]\n",
      "This is the average radius of curvature of the anes 851.065266843\n"
     ]
    },
    {
     "name": "stderr",
     "output_type": "stream",
     "text": [
      "\r",
      " 21%|██▏       | 268/1261 [03:07<12:02,  1.38it/s]"
     ]
    },
    {
     "name": "stdout",
     "output_type": "stream",
     "text": [
      "917.472548815\n",
      "0.0 [ -1.26409901e-04   1.94371574e-01   1.46012226e+02] [ -1.68806963e-04   3.02532967e-01   1.00763436e+03]\n",
      "0.0 [-0.00107762  0.03452039  0.54024524] [ -1.43904560e-03   5.37298549e-02   3.72824714e+00]\n",
      "This is the average radius of curvature of the anes 813.773624937\n"
     ]
    },
    {
     "name": "stderr",
     "output_type": "stream",
     "text": [
      "\r",
      " 21%|██▏       | 269/1261 [03:08<12:03,  1.37it/s]"
     ]
    },
    {
     "name": "stdout",
     "output_type": "stream",
     "text": [
      "920.687094176\n",
      "0.0 [ -1.31277862e-04   1.95264088e-01   1.46430490e+02] [ -1.69720958e-04   2.97401200e-01   1.01355458e+03]\n",
      "0.0 [-0.00111912  0.0346789   0.54179281] [ -1.44683723e-03   5.28184531e-02   3.75015195e+00]\n",
      "This is the average radius of curvature of the anes 794.615345387\n"
     ]
    },
    {
     "name": "stderr",
     "output_type": "stream",
     "text": [
      "\r",
      " 21%|██▏       | 270/1261 [03:08<11:51,  1.39it/s]"
     ]
    },
    {
     "name": "stdout",
     "output_type": "stream",
     "text": [
      "922.008146548\n",
      "0.0 [ -1.37484002e-04   1.98409991e-01   1.46250524e+02] [ -1.48304981e-04   2.72050903e-01   1.02090488e+03]\n",
      "0.0 [-0.00117202  0.03523761  0.54112694] [ -1.26427030e-03   4.83162404e-02   3.77734805e+00]\n",
      "This is the average radius of curvature of the anes 824.278110132\n"
     ]
    },
    {
     "name": "stderr",
     "output_type": "stream",
     "text": [
      "\r",
      " 21%|██▏       | 271/1261 [03:09<11:49,  1.40it/s]"
     ]
    },
    {
     "name": "stdout",
     "output_type": "stream",
     "text": [
      "917.631623036\n",
      "0.0 [ -1.18017240e-04   1.75943180e-01   1.52780028e+02] [ -1.81594408e-04   2.95183266e-01   1.01754495e+03]\n",
      "0.0 [-0.00100607  0.03124751  0.56528611] [ -1.54805601e-03   5.24245481e-02   3.76491630e+00]\n",
      "This is the average radius of curvature of the anes 822.027864171\n"
     ]
    },
    {
     "name": "stderr",
     "output_type": "stream",
     "text": [
      "\r",
      " 22%|██▏       | 272/1261 [03:10<11:52,  1.39it/s]"
     ]
    },
    {
     "name": "stdout",
     "output_type": "stream",
     "text": [
      "915.073965764\n",
      "0.0 [ -1.14444194e-04   1.64987971e-01   1.60295783e+02] [ -2.18243749e-04   3.37981266e-01   1.00464789e+03]\n",
      "0.0 [-0.00097561  0.02930186  0.5930944 ] [ -1.86048431e-03   6.00254728e-02   3.71719720e+00]\n",
      "This is the average radius of curvature of the anes 783.359030542\n"
     ]
    },
    {
     "name": "stderr",
     "output_type": "stream",
     "text": [
      "\r",
      " 22%|██▏       | 273/1261 [03:10<11:43,  1.41it/s]"
     ]
    },
    {
     "name": "stdout",
     "output_type": "stream",
     "text": [
      "914.099362534\n",
      "0.0 [ -1.14410465e-04   1.61201117e-01   1.64472269e+02] [ -2.23590190e-04   3.48172604e-01   1.00058079e+03]\n",
      "0.0 [-0.00097533  0.02862932  0.6085474 ] [ -1.90606166e-03   6.18354546e-02   3.70214893e+00]\n",
      "This is the average radius of curvature of the anes 777.106301257\n"
     ]
    },
    {
     "name": "stderr",
     "output_type": "stream",
     "text": [
      "\r",
      " 22%|██▏       | 274/1261 [03:11<11:51,  1.39it/s]"
     ]
    },
    {
     "name": "stdout",
     "output_type": "stream",
     "text": [
      "915.984092382\n",
      "0.0 [ -1.20289238e-04   1.60555978e-01   1.69848454e+02] [ -1.93405496e-04   3.33619330e-01   9.99198249e+02]\n",
      "0.0 [-0.00102544  0.02851474  0.62843928] [ -1.64874317e-03   5.92507930e-02   3.69703352e+00]\n",
      "This is the average radius of curvature of the anes 793.049241986\n"
     ]
    },
    {
     "name": "stderr",
     "output_type": "stream",
     "text": [
      "\r",
      " 22%|██▏       | 275/1261 [03:12<11:57,  1.37it/s]"
     ]
    },
    {
     "name": "stdout",
     "output_type": "stream",
     "text": [
      "917.916534027\n",
      "0.0 [ -1.15775027e-04   1.54330277e-01   1.73528230e+02] [ -1.67162366e-04   3.16934409e-01   1.00109764e+03]\n",
      "0.0 [-0.00098696  0.02740906  0.64205445] [ -1.42502574e-03   5.62875510e-02   3.70406128e+00]\n",
      "This is the average radius of curvature of the anes 859.717340823\n"
     ]
    },
    {
     "name": "stderr",
     "output_type": "stream",
     "text": [
      "\r",
      " 22%|██▏       | 276/1261 [03:13<11:47,  1.39it/s]"
     ]
    },
    {
     "name": "stdout",
     "output_type": "stream",
     "text": [
      "920.406495789\n",
      "0.0 [ -1.02040639e-04   1.42668344e-01   1.76172691e+02] [ -1.39637185e-04   2.90177444e-01   1.00995609e+03]\n",
      "0.0 [-0.00086988  0.0253379   0.65183896] [ -1.19037908e-03   5.15355140e-02   3.73683754e+00]\n",
      "This is the average radius of curvature of the anes 997.056901044\n"
     ]
    },
    {
     "name": "stderr",
     "output_type": "stream",
     "text": [
      "\r",
      " 22%|██▏       | 277/1261 [03:13<11:49,  1.39it/s]"
     ]
    },
    {
     "name": "stdout",
     "output_type": "stream",
     "text": [
      "920.587712254\n",
      "0.0 [ -9.02379885e-05   1.32887685e-01   1.78397902e+02] [ -1.28783139e-04   2.74367681e-01   1.01718784e+03]\n",
      "0.0 [-0.00076926  0.02360085  0.66007224] [ -1.09785050e-03   4.87277002e-02   3.76359500e+00]\n",
      "This is the average radius of curvature of the anes 1107.5762002\n"
     ]
    },
    {
     "name": "stderr",
     "output_type": "stream",
     "text": [
      "\r",
      " 22%|██▏       | 278/1261 [03:14<11:41,  1.40it/s]"
     ]
    },
    {
     "name": "stdout",
     "output_type": "stream",
     "text": [
      "921.495937782\n",
      "0.0 [ -8.92634254e-05   1.32668239e-01   1.78449781e+02] [ -1.32061129e-04   2.73146970e-01   1.02106625e+03]\n",
      "0.0 [-0.00076095  0.02356188  0.66026419] [ -1.12579471e-03   4.85109020e-02   3.77794514e+00]\n",
      "This is the average radius of curvature of the anes 1103.31757552\n"
     ]
    },
    {
     "name": "stderr",
     "output_type": "stream",
     "text": [
      "\r",
      " 22%|██▏       | 279/1261 [03:15<11:36,  1.41it/s]"
     ]
    },
    {
     "name": "stdout",
     "output_type": "stream",
     "text": [
      "916.541247817\n",
      "0.0 [ -7.56337888e-05   1.22345821e-01   1.81506803e+02] [ -1.59163725e-04   2.94403348e-01   1.01752041e+03]\n",
      "0.0 [ -6.44762923e-04   2.17286178e-02   6.71575170e-01] [ -1.35683893e-03   5.22860345e-02   3.76482551e+00]\n",
      "This is the average radius of curvature of the anes 1146.04384253\n"
     ]
    },
    {
     "name": "stderr",
     "output_type": "stream",
     "text": [
      "\r",
      " 22%|██▏       | 280/1261 [03:15<11:29,  1.42it/s]"
     ]
    },
    {
     "name": "stdout",
     "output_type": "stream",
     "text": [
      "913.804723038\n",
      "0.0 [ -7.63695289e-05   1.22227305e-01   1.83380800e+02] [ -1.65239645e-04   2.96149005e-01   1.01807821e+03]\n",
      "0.0 [ -6.51034960e-04   2.17075694e-02   6.78508961e-01] [ -1.40863493e-03   5.25960633e-02   3.76688936e+00]\n",
      "This is the average radius of curvature of the anes 1124.97830261\n"
     ]
    },
    {
     "name": "stderr",
     "output_type": "stream",
     "text": [
      "\r",
      " 22%|██▏       | 281/1261 [03:16<11:26,  1.43it/s]"
     ]
    },
    {
     "name": "stdout",
     "output_type": "stream",
     "text": [
      "911.845141981\n",
      "0.0 [ -7.85950311e-05   1.24269455e-01   1.84491789e+02] [ -1.46940475e-04   2.74756282e-01   1.02346883e+03]\n",
      "0.0 [ -6.70006921e-04   2.20702551e-02   6.82619619e-01] [ -1.25263816e-03   4.87967158e-02   3.78683467e+00]\n",
      "This is the average radius of curvature of the anes 1147.39034291\n"
     ]
    },
    {
     "name": "stderr",
     "output_type": "stream",
     "text": [
      "\r",
      " 22%|██▏       | 282/1261 [03:17<11:23,  1.43it/s]"
     ]
    },
    {
     "name": "stdout",
     "output_type": "stream",
     "text": [
      "903.259387864\n",
      "0.0 [ -7.84340163e-05   1.20406079e-01   1.89039355e+02] [ -1.82971478e-04   2.93810293e-01   1.02166290e+03]\n",
      "0.0 [ -6.68634302e-04   2.13841197e-02   6.99445613e-01] [ -1.55979525e-03   5.21807081e-02   3.78015274e+00]\n",
      "This is the average radius of curvature of the anes 1070.17091607\n"
     ]
    },
    {
     "name": "stderr",
     "output_type": "stream",
     "text": [
      "\r",
      " 22%|██▏       | 283/1261 [03:17<11:30,  1.42it/s]"
     ]
    },
    {
     "name": "stdout",
     "output_type": "stream",
     "text": [
      "902.608211274\n",
      "0.0 [ -7.76752043e-05   1.21045121e-01   1.89723755e+02] [ -1.75875481e-04   2.80171357e-01   1.02868592e+03]\n",
      "0.0 [ -6.62165582e-04   2.14976134e-02   7.01977893e-01] [ -1.49930330e-03   4.97584330e-02   3.80613789e+00]\n",
      "This is the average radius of curvature of the anes 1090.34917093\n"
     ]
    },
    {
     "name": "stderr",
     "output_type": "stream",
     "text": [
      "\r",
      " 23%|██▎       | 284/1261 [03:18<11:12,  1.45it/s]"
     ]
    },
    {
     "name": "stdout",
     "output_type": "stream",
     "text": [
      "904.457648284\n",
      "0.0 [ -8.35309609e-05   1.25407906e-01   1.91275489e+02] [ -1.72051964e-04   2.79213138e-01   1.03090908e+03]\n",
      "0.0 [-0.00071208  0.02227244  0.70771931] [ -1.46670858e-03   4.95882533e-02   3.81436360e+00]\n",
      "This is the average radius of curvature of the anes 1044.84369153\n"
     ]
    },
    {
     "name": "stderr",
     "output_type": "stream",
     "text": [
      "\r",
      " 23%|██▎       | 285/1261 [03:19<11:09,  1.46it/s]"
     ]
    },
    {
     "name": "stdout",
     "output_type": "stream",
     "text": [
      "905.548676227\n",
      "0.0 [ -8.23495926e-05   1.24979401e-01   1.92542912e+02] [ -1.62502279e-04   2.62114430e-01   1.04092732e+03]\n",
      "0.0 [ -7.02013807e-04   2.21963417e-02   7.12408776e-01] [ -1.38529942e-03   4.65515227e-02   3.85143107e+00]\n",
      "This is the average radius of curvature of the anes 1074.86979458\n"
     ]
    },
    {
     "name": "stderr",
     "output_type": "stream",
     "text": [
      "\r",
      " 23%|██▎       | 286/1261 [03:19<11:13,  1.45it/s]"
     ]
    },
    {
     "name": "stdout",
     "output_type": "stream",
     "text": [
      "914.690499083\n",
      "0.0 [ -7.83929823e-05   1.22255936e-01   1.93124017e+02] [ -1.21012103e-04   2.36737977e-01   1.04753435e+03]\n",
      "0.0 [ -6.68284496e-04   2.17126542e-02   7.14558863e-01] [ -1.03160397e-03   4.20446648e-02   3.87587710e+00]\n",
      "This is the average radius of curvature of the anes 1234.68138126\n"
     ]
    },
    {
     "name": "stderr",
     "output_type": "stream",
     "text": [
      "\r",
      " 23%|██▎       | 287/1261 [03:20<11:12,  1.45it/s]"
     ]
    },
    {
     "name": "stdout",
     "output_type": "stream",
     "text": [
      "920.015076809\n",
      "0.0 [ -7.17537189e-05   1.17609734e-01   1.94305809e+02] [ -7.83250194e-05   2.06070875e-01   1.05411443e+03]\n",
      "0.0 [ -6.11686103e-04   2.08874888e-02   7.18931495e-01] [ -6.67705126e-04   3.65981874e-02   3.90022340e+00]\n",
      "This is the average radius of curvature of the anes 1568.28628285\n"
     ]
    },
    {
     "name": "stderr",
     "output_type": "stream",
     "text": [
      "\r",
      " 23%|██▎       | 288/1261 [03:21<11:14,  1.44it/s]"
     ]
    },
    {
     "name": "stdout",
     "output_type": "stream",
     "text": [
      "923.360994007\n",
      "0.0 [ -7.27531673e-05   1.17924448e-01   1.94587575e+02] [ -6.23240024e-05   1.86492572e-01   1.06325662e+03]\n",
      "0.0 [ -6.20206201e-04   2.09433820e-02   7.19974029e-01] [ -5.31299656e-04   3.31210808e-02   3.93404948e+00]\n",
      "This is the average radius of curvature of the anes 1749.35146931\n"
     ]
    },
    {
     "name": "stderr",
     "output_type": "stream",
     "text": [
      "\r",
      " 23%|██▎       | 289/1261 [03:22<11:13,  1.44it/s]"
     ]
    },
    {
     "name": "stdout",
     "output_type": "stream",
     "text": [
      "918.605859248\n",
      "0.0 [ -8.21310728e-05   1.24971828e-01   1.96479981e+02] [ -1.12208529e-04   2.25181760e-01   1.05858377e+03]\n",
      "0.0 [ -7.00150969e-04   2.21949967e-02   7.26975931e-01] [ -9.56555269e-04   3.99922806e-02   3.91675995e+00]\n",
      "This is the average radius of curvature of the anes 1238.62292142\n"
     ]
    },
    {
     "name": "stderr",
     "output_type": "stream",
     "text": [
      "\r",
      " 23%|██▎       | 290/1261 [03:22<11:11,  1.45it/s]"
     ]
    },
    {
     "name": "stdout",
     "output_type": "stream",
     "text": [
      "918.968968902\n",
      "0.0 [ -7.56225008e-05   1.17580908e-01   1.99652302e+02] [ -9.79506057e-05   2.11953483e-01   1.06231015e+03]\n",
      "0.0 [ -6.44666695e-04   2.08823692e-02   7.38713516e-01] [ -8.35009324e-04   3.76429386e-02   3.93054755e+00]\n",
      "This is the average radius of curvature of the anes 1376.17085975\n"
     ]
    },
    {
     "name": "stderr",
     "output_type": "stream",
     "text": [
      "\r",
      " 23%|██▎       | 291/1261 [03:23<11:21,  1.42it/s]"
     ]
    },
    {
     "name": "stdout",
     "output_type": "stream",
     "text": [
      "916.308447079\n",
      "0.0 [ -7.94493436e-05   1.14769798e-01   2.05112537e+02] [ -1.13360430e-04   2.24437267e-01   1.06010078e+03]\n",
      "0.0 [ -6.77289765e-04   2.03831162e-02   7.58916385e-01] [ -9.66374996e-04   3.98600587e-02   3.92237290e+00]\n",
      "This is the average radius of curvature of the anes 1257.32764755\n"
     ]
    },
    {
     "name": "stderr",
     "output_type": "stream",
     "text": [
      "\r",
      " 23%|██▎       | 292/1261 [03:24<11:18,  1.43it/s]"
     ]
    },
    {
     "name": "stdout",
     "output_type": "stream",
     "text": [
      "913.452977698\n",
      "0.0 [ -7.06819810e-05   1.01790964e-01   2.12025196e+02] [ -1.21597837e-04   2.31711439e-01   1.05838686e+03]\n",
      "0.0 [ -6.02549751e-04   1.80780751e-02   7.84493226e-01] [ -1.03659724e-03   4.11519515e-02   3.91603140e+00]\n",
      "This is the average radius of curvature of the anes 1313.78702886\n"
     ]
    },
    {
     "name": "stderr",
     "output_type": "stream",
     "text": [
      "\r",
      " 23%|██▎       | 293/1261 [03:24<11:14,  1.44it/s]"
     ]
    },
    {
     "name": "stdout",
     "output_type": "stream",
     "text": [
      "910.70202501\n",
      "0.0 [ -5.85563318e-05   9.08681916e-02   2.15592020e+02] [ -1.10949450e-04   2.18281863e-01   1.06176881e+03]\n",
      "0.0 [ -4.99181018e-04   1.61381908e-02   7.97690472e-01] [ -9.45821873e-04   3.87668589e-02   3.92854461e+00]\n",
      "This is the average radius of curvature of the anes 1531.86491183\n"
     ]
    },
    {
     "name": "stderr",
     "output_type": "stream",
     "text": [
      "\r",
      " 23%|██▎       | 294/1261 [03:25<11:03,  1.46it/s]"
     ]
    },
    {
     "name": "stdout",
     "output_type": "stream",
     "text": [
      "903.807941254\n",
      "0.0 [ -5.28310459e-05   8.44666797e-02   2.19260399e+02] [ -1.38944649e-04   2.34939846e-01   1.05939551e+03]\n",
      "0.0 [ -4.50374100e-04   1.50012823e-02   8.11263477e-01] [ -1.18447534e-03   4.17253166e-02   3.91976338e+00]\n",
      "This is the average radius of curvature of the anes 1533.79364136\n"
     ]
    },
    {
     "name": "stderr",
     "output_type": "stream",
     "text": [
      "\r",
      " 23%|██▎       | 295/1261 [03:26<10:52,  1.48it/s]"
     ]
    },
    {
     "name": "stdout",
     "output_type": "stream",
     "text": [
      "900.904857382\n",
      "0.0 [ -5.23914633e-05   8.39636868e-02   2.20251471e+02] [ -1.49578779e-04   2.38833189e-01   1.06004721e+03]\n",
      "0.0 [ -4.46626746e-04   1.49119508e-02   8.14930443e-01] [ -1.27512918e-03   4.24167744e-02   3.92217467e+00]\n",
      "This is the average radius of curvature of the anes 1513.0523161\n"
     ]
    },
    {
     "name": "stderr",
     "output_type": "stream",
     "text": [
      "\r",
      " 23%|██▎       | 296/1261 [03:26<10:59,  1.46it/s]"
     ]
    },
    {
     "name": "stdout",
     "output_type": "stream",
     "text": [
      "899.541987941\n",
      "0.0 [ -4.58511655e-05   7.72758892e-02   2.22989691e+02] [ -1.67679685e-04   2.58002217e-01   1.05557004e+03]\n",
      "0.0 [ -3.90872016e-04   1.37241979e-02   8.25061857e-01] [ -1.42943577e-03   4.58211938e-02   3.90560916e+00]\n",
      "This is the average radius of curvature of the anes 1630.44307217\n"
     ]
    },
    {
     "name": "stderr",
     "output_type": "stream",
     "text": [
      "\r",
      " 24%|██▎       | 297/1261 [03:27<10:54,  1.47it/s]"
     ]
    },
    {
     "name": "stdout",
     "output_type": "stream",
     "text": [
      "900.621489713\n",
      "0.0 [ -4.56831784e-05   7.50414426e-02   2.24214129e+02] [ -1.64808557e-04   2.53265082e-01   1.05827600e+03]\n",
      "0.0 [ -3.89439959e-04   1.33273602e-02   8.29592278e-01] [ -1.40495999e-03   4.49798785e-02   3.91562119e+00]\n",
      "This is the average radius of curvature of the anes 1641.19963191\n"
     ]
    },
    {
     "name": "stderr",
     "output_type": "stream",
     "text": [
      "\r",
      " 24%|██▎       | 298/1261 [03:28<11:09,  1.44it/s]"
     ]
    },
    {
     "name": "stdout",
     "output_type": "stream",
     "text": [
      "905.714219591\n",
      "0.0 [ -4.82569683e-05   7.63914722e-02   2.24153369e+02] [ -1.38996035e-04   2.39789980e-01   1.05929262e+03]\n",
      "0.0 [ -4.11381003e-04   1.35671255e-02   8.29367464e-01] [ -1.18491340e-03   4.25867004e-02   3.91938269e+00]\n",
      "This is the average radius of curvature of the anes 1638.87412976\n"
     ]
    },
    {
     "name": "stderr",
     "output_type": "stream",
     "text": [
      "\r",
      " 24%|██▎       | 299/1261 [03:28<11:10,  1.43it/s]"
     ]
    },
    {
     "name": "stdout",
     "output_type": "stream",
     "text": [
      "909.94205534\n",
      "0.0 [ -4.97400924e-05   7.72254807e-02   2.24123989e+02] [ -1.13317089e-04   2.24941353e-01   1.06072516e+03]\n",
      "0.0 [ -4.24024339e-04   1.37152454e-02   8.29258760e-01] [ -9.66005520e-04   3.99495843e-02   3.92468309e+00]\n",
      "This is the average radius of curvature of the anes 1698.34530798\n"
     ]
    },
    {
     "name": "stderr",
     "output_type": "stream",
     "text": [
      "\r",
      " 24%|██▍       | 300/1261 [03:29<11:25,  1.40it/s]"
     ]
    },
    {
     "name": "stdout",
     "output_type": "stream",
     "text": [
      "913.920244228\n",
      "0.0 [ -5.59551713e-05   8.01441133e-02   2.23903507e+02] [ -1.03918494e-04   2.16201502e-01   1.06479366e+03]\n",
      "0.0 [ -4.77006644e-04   1.42335945e-02   8.28442975e-01] [ -8.85884381e-04   3.83973867e-02   3.93973653e+00]\n",
      "This is the average radius of curvature of the anes 1614.17839432\n"
     ]
    },
    {
     "name": "stderr",
     "output_type": "stream",
     "text": [
      "\r",
      " 24%|██▍       | 301/1261 [03:30<13:17,  1.20it/s]"
     ]
    },
    {
     "name": "stdout",
     "output_type": "stream",
     "text": [
      "915.864544767\n",
      "0.0 [ -6.38128063e-05   8.54681653e-02   2.23072517e+02] [ -1.00420387e-04   2.14787235e-01   1.06488134e+03]\n",
      "0.0 [ -5.43991411e-04   1.51791462e-02   8.25368314e-01] [ -8.56063716e-04   3.81462129e-02   3.94006097e+00]\n",
      "This is the average radius of curvature of the anes 1504.79382364\n"
     ]
    },
    {
     "name": "stderr",
     "output_type": "stream",
     "text": [
      "\r",
      " 24%|██▍       | 302/1261 [03:31<12:55,  1.24it/s]"
     ]
    },
    {
     "name": "stdout",
     "output_type": "stream",
     "text": [
      "920.230739141\n",
      "0.0 [ -6.99984342e-05   8.82555407e-02   2.22050664e+02] [ -8.00526546e-05   1.93810007e-01   1.07158538e+03]\n",
      "0.0 [ -5.96722651e-04   1.56741840e-02   8.21587456e-01] [ -6.82432870e-04   3.44206572e-02   3.96486591e+00]\n",
      "This is the average radius of curvature of the anes 1572.1942809\n"
     ]
    },
    {
     "name": "stderr",
     "output_type": "stream",
     "text": [
      "\r",
      " 24%|██▍       | 303/1261 [03:32<12:17,  1.30it/s]"
     ]
    },
    {
     "name": "stdout",
     "output_type": "stream",
     "text": [
      "921.885725385\n",
      "0.0 [ -8.08268947e-05   9.63683615e-02   2.20224985e+02] [ -9.10414163e-05   2.03486628e-01   1.07037319e+03]\n",
      "0.0 [ -6.89033112e-04   1.71150210e-02   8.14832443e-01] [ -7.76109865e-04   3.61392251e-02   3.96038079e+00]\n",
      "This is the average radius of curvature of the anes 1371.47460106\n"
     ]
    },
    {
     "name": "stderr",
     "output_type": "stream",
     "text": [
      "\r",
      " 24%|██▍       | 304/1261 [03:32<11:53,  1.34it/s]"
     ]
    },
    {
     "name": "stdout",
     "output_type": "stream",
     "text": [
      "921.977191569\n",
      "0.0 [ -9.71891435e-05   1.10163325e-01   2.17456015e+02] [ -8.08565093e-05   1.90267293e-01   1.07339512e+03]\n",
      "0.0 [-0.00082852  0.01956501  0.80458725] [ -6.89285570e-04   3.37914713e-02   3.97156194e+00]\n",
      "This is the average radius of curvature of the anes 1330.46527813\n"
     ]
    },
    {
     "name": "stderr",
     "output_type": "stream",
     "text": [
      "\r",
      " 24%|██▍       | 305/1261 [03:33<11:36,  1.37it/s]"
     ]
    },
    {
     "name": "stdout",
     "output_type": "stream",
     "text": [
      "921.681062932\n",
      "0.0 [ -9.75512052e-05   1.11818924e-01   2.15939322e+02] [ -8.37745235e-05   1.88213095e-01   1.07557097e+03]\n",
      "0.0 [-0.0008316   0.01985904  0.79897549] [ -7.14161058e-04   3.34266457e-02   3.97961258e+00]\n",
      "This is the average radius of curvature of the anes 1302.89897853\n"
     ]
    },
    {
     "name": "stderr",
     "output_type": "stream",
     "text": [
      "\r",
      " 24%|██▍       | 306/1261 [03:34<11:22,  1.40it/s]"
     ]
    },
    {
     "name": "stdout",
     "output_type": "stream",
     "text": [
      "913.364758917\n",
      "0.0 [ -8.42005698e-05   1.03039208e-01   2.17108401e+02] [ -1.38805730e-04   2.30926326e-01   1.06675106e+03]\n",
      "0.0 [ -7.17793017e-04   1.82997634e-02   8.03301084e-01] [ -1.18329109e-03   4.10125155e-02   3.94697892e+00]\n",
      "This is the average radius of curvature of the anes 1120.54642992\n"
     ]
    },
    {
     "name": "stderr",
     "output_type": "stream",
     "text": [
      "\r",
      " 24%|██▍       | 307/1261 [03:35<11:10,  1.42it/s]"
     ]
    },
    {
     "name": "stdout",
     "output_type": "stream",
     "text": [
      "916.910027801\n",
      "0.0 [ -8.18704447e-05   1.01858360e-01   2.17093663e+02] [ -1.11583782e-04   2.08200093e-01   1.07290462e+03]\n",
      "0.0 [ -6.97929167e-04   1.80900447e-02   8.03246553e-01] [ -9.51229423e-04   3.69763365e-02   3.96974710e+00]\n",
      "This is the average radius of curvature of the anes 1243.47070215\n"
     ]
    },
    {
     "name": "stderr",
     "output_type": "stream",
     "text": [
      "\r",
      " 24%|██▍       | 308/1261 [03:35<11:19,  1.40it/s]"
     ]
    },
    {
     "name": "stdout",
     "output_type": "stream",
     "text": [
      "913.169615909\n",
      "0.0 [ -6.15434159e-05   8.75689546e-02   2.20395058e+02] [ -1.35661543e-04   2.39587264e-01   1.06257969e+03]\n",
      "0.0 [ -5.24645312e-04   1.55522463e-02   8.15461716e-01] [ -1.15648753e-03   4.25506980e-02   3.93154486e+00]\n",
      "This is the average radius of curvature of the anes 1386.88892473\n"
     ]
    },
    {
     "name": "stderr",
     "output_type": "stream",
     "text": [
      "\r",
      " 25%|██▍       | 309/1261 [03:36<11:11,  1.42it/s]"
     ]
    },
    {
     "name": "stdout",
     "output_type": "stream",
     "text": [
      "913.507427699\n",
      "0.0 [ -5.01586736e-05   7.91318636e-02   2.22699020e+02] [ -1.17849302e-04   2.27135295e-01   1.06478540e+03]\n",
      "0.0 [ -4.27592661e-04   1.40538190e-02   8.23986373e-01] [ -1.00464173e-03   4.03392284e-02   3.93970596e+00]\n",
      "This is the average radius of curvature of the anes 1668.58879213\n"
     ]
    },
    {
     "name": "stderr",
     "output_type": "stream",
     "text": [
      "\r",
      " 25%|██▍       | 310/1261 [03:37<11:24,  1.39it/s]"
     ]
    },
    {
     "name": "stdout",
     "output_type": "stream",
     "text": [
      "917.491061969\n",
      "0.0 [ -4.67165439e-05   7.60194102e-02   2.24869523e+02] [ -7.59054626e-05   2.02386624e-01   1.06659209e+03]\n",
      "0.0 [ -3.98249193e-04   1.35010472e-02   8.32017235e-01] [ -6.47078888e-04   3.59438644e-02   3.94639074e+00]\n",
      "This is the average radius of curvature of the anes 2030.03986408\n"
     ]
    },
    {
     "name": "stderr",
     "output_type": "stream",
     "text": [
      "\r",
      " 25%|██▍       | 311/1261 [03:37<11:16,  1.40it/s]"
     ]
    },
    {
     "name": "stdout",
     "output_type": "stream",
     "text": [
      "914.626504948\n",
      "0.0 [ -3.66621412e-05   6.32517519e-02   2.31091096e+02] [ -6.40772087e-05   1.95332620e-01   1.06492398e+03]\n",
      "0.0 [ -3.12537421e-04   1.12335111e-02   8.55037057e-01] [ -5.46245389e-04   3.46910732e-02   3.94021872e+00]\n",
      "This is the average radius of curvature of the anes 2517.10366725\n"
     ]
    },
    {
     "name": "stderr",
     "output_type": "stream",
     "text": [
      "\r",
      " 25%|██▍       | 312/1261 [03:38<11:27,  1.38it/s]"
     ]
    },
    {
     "name": "stdout",
     "output_type": "stream",
     "text": [
      "912.477775319\n",
      "0.0 [ -3.14040920e-05   5.76156326e-02   2.34036403e+02] [ -4.93455401e-05   1.82968862e-01   1.06566024e+03]\n",
      "0.0 [ -2.67713604e-04   1.02325363e-02   8.65934691e-01] [ -4.20660860e-04   3.24952698e-02   3.94294287e+00]\n",
      "This is the average radius of curvature of the anes 3058.44994394\n"
     ]
    },
    {
     "name": "stderr",
     "output_type": "stream",
     "text": [
      "\r",
      " 25%|██▍       | 313/1261 [03:39<11:04,  1.43it/s]"
     ]
    },
    {
     "name": "stdout",
     "output_type": "stream",
     "text": [
      "905.760107516\n",
      "0.0 [ -3.07358308e-05   5.01759148e-02   2.41563299e+02] [ -8.16469565e-05   2.16995610e-01   1.05369911e+03]\n",
      "0.0 [ -2.62016811e-04   8.91124248e-03   8.93784207e-01] [ -6.96023975e-04   3.85384204e-02   3.89868671e+00]\n",
      "This is the average radius of curvature of the anes 2628.46885499\n"
     ]
    },
    {
     "name": "stderr",
     "output_type": "stream",
     "text": [
      "\r",
      " 25%|██▍       | 314/1261 [03:39<11:08,  1.42it/s]"
     ]
    },
    {
     "name": "stdout",
     "output_type": "stream",
     "text": [
      "903.92385657\n",
      "0.0 [ -1.61301108e-05   3.62908410e-02   2.46011210e+02] [ -3.98207238e-05   1.76466827e-01   1.06139566e+03]\n",
      "0.0 [ -1.37505969e-04   6.44525336e-03   9.10241476e-01] [ -3.39463707e-04   3.13405084e-02   3.92716393e+00]\n",
      "This is the average radius of curvature of the anes 5111.51451318\n"
     ]
    },
    {
     "name": "stderr",
     "output_type": "stream",
     "text": [
      "\r",
      " 25%|██▍       | 315/1261 [03:40<10:55,  1.44it/s]"
     ]
    },
    {
     "name": "stdout",
     "output_type": "stream",
     "text": [
      "903.835445204\n",
      "0.0 [ -1.07748946e-05   2.87349894e-02   2.49262733e+02] [  1.62771314e-06   1.35173314e-01   1.07015736e+03]\n",
      "0.0 [ -9.18538215e-05   5.10333413e-03   9.22272112e-01] [  1.38759290e-05   2.40067806e-02   3.95958222e+00]\n",
      "This is the average radius of curvature of the anes 41508.4228939\n"
     ]
    },
    {
     "name": "stderr",
     "output_type": "stream",
     "text": [
      "\r",
      " 25%|██▌       | 316/1261 [03:41<10:51,  1.45it/s]"
     ]
    },
    {
     "name": "stdout",
     "output_type": "stream",
     "text": [
      "904.217810765\n",
      "0.0 [ -1.30741885e-05   2.82310886e-02   2.50287193e+02] [  1.84132862e-05   1.10099270e-01   1.07936398e+03]\n",
      "0.0 [ -1.11454842e-04   5.01384134e-03   9.26062613e-01] [  1.56969582e-04   1.95536304e-02   3.99364674e+00]\n",
      "This is the average radius of curvature of the anes 7673.44854221\n"
     ]
    },
    {
     "name": "stderr",
     "output_type": "stream",
     "text": [
      "\r",
      " 25%|██▌       | 317/1261 [03:42<10:55,  1.44it/s]"
     ]
    },
    {
     "name": "stdout",
     "output_type": "stream",
     "text": [
      "904.714768766\n",
      "0.0 [ -1.25380717e-05   2.61891666e-02   2.51156888e+02] [  4.17427309e-05   7.75096368e-02   1.09091118e+03]\n",
      "0.0 [ -1.06884553e-04   4.65119599e-03   9.29280487e-01] [  3.55848432e-04   1.37657115e-02   4.03637137e+00]\n",
      "This is the average radius of curvature of the anes 6083.58822903\n"
     ]
    },
    {
     "name": "stderr",
     "output_type": "stream",
     "text": [
      "\r",
      " 25%|██▌       | 318/1261 [03:42<10:44,  1.46it/s]"
     ]
    },
    {
     "name": "stdout",
     "output_type": "stream",
     "text": [
      "895.340354447\n",
      "0.0 [ -7.14323354e-06   1.83222216e-02   2.55878186e+02] [ -1.68323046e-05   1.19616743e-01   1.08339665e+03]\n",
      "0.0 [ -6.08946373e-05   3.25402656e-03   9.46749289e-01] [ -1.43492030e-04   2.12439336e-02   4.00856761e+00]\n",
      "This is the average radius of curvature of the anes 11697.9072812\n"
     ]
    },
    {
     "name": "stderr",
     "output_type": "stream",
     "text": [
      "\r",
      " 25%|██▌       | 319/1261 [03:43<10:46,  1.46it/s]"
     ]
    },
    {
     "name": "stdout",
     "output_type": "stream",
     "text": [
      "893.279917723\n",
      "0.0 [ -2.39796064e-06   9.59219796e-03   2.59774525e+02] [ -2.24548665e-05   1.15104149e-01   1.08755999e+03]\n",
      "0.0 [ -2.04421349e-05   1.70357436e-03   9.61165744e-01] [ -1.91423246e-04   2.04424968e-02   4.02397196e+00]\n",
      "This is the average radius of curvature of the anes 27073.0418053\n"
     ]
    },
    {
     "name": "stderr",
     "output_type": "stream",
     "text": [
      "\r",
      " 25%|██▌       | 320/1261 [03:44<10:43,  1.46it/s]"
     ]
    },
    {
     "name": "stdout",
     "output_type": "stream",
     "text": [
      "888.837813464\n",
      "0.0 [  3.84839029e-06   1.55444205e-03   2.63971513e+02] [ -5.40631009e-05   1.42202369e-01   1.08162145e+03]\n",
      "0.0 [  3.28067575e-05   2.76068909e-04   9.76694597e-01] [ -4.60877122e-04   2.52551408e-02   4.00199936e+00]\n",
      "This is the average radius of curvature of the anes 16326.6902263\n"
     ]
    },
    {
     "name": "stderr",
     "output_type": "stream",
     "text": [
      "\r",
      " 25%|██▌       | 321/1261 [03:44<10:52,  1.44it/s]"
     ]
    },
    {
     "name": "stdout",
     "output_type": "stream",
     "text": [
      "890.083538444\n",
      "0.0 [  1.21918214e-05  -7.75553979e-03   2.66956022e+02] [ -3.71063922e-05   1.21090283e-01   1.08988467e+03]\n",
      "0.0 [  1.03932839e-04  -1.37738387e-03   9.87737282e-01] [ -3.16324572e-04   2.15056343e-02   4.03257327e+00]\n",
      "This is the average radius of curvature of the anes 6392.56436181\n"
     ]
    },
    {
     "name": "stderr",
     "output_type": "stream",
     "text": [
      "\r",
      " 26%|██▌       | 322/1261 [03:45<10:50,  1.44it/s]"
     ]
    },
    {
     "name": "stdout",
     "output_type": "stream",
     "text": [
      "894.101142032\n",
      "0.0 [  2.04825079e-05  -1.53483568e-02   2.68753148e+02] [ -1.38095608e-05   1.08655808e-01   1.09142296e+03]\n",
      "0.0 [  1.74609284e-04  -2.72586817e-03   9.94386648e-01] [ -1.17723744e-04   1.92972715e-02   4.03826494e+00]\n",
      "This is the average radius of curvature of the anes 7113.17226305\n"
     ]
    },
    {
     "name": "stderr",
     "output_type": "stream",
     "text": [
      "\r",
      " 26%|██▌       | 323/1261 [03:46<11:02,  1.42it/s]"
     ]
    },
    {
     "name": "stdout",
     "output_type": "stream",
     "text": [
      "893.026168252\n",
      "0.0 [  3.84064545e-05  -3.08036083e-02   2.72202992e+02] [ -7.92507809e-06   1.02093163e-01   1.09362798e+03]\n",
      "0.0 [  3.27407343e-04  -5.47072083e-03   1.00715107e+00] [ -6.75597057e-05   1.81317458e-02   4.04642352e+00]\n",
      "This is the average radius of curvature of the anes 8931.72926954\n"
     ]
    },
    {
     "name": "stderr",
     "output_type": "stream",
     "text": [
      "\r",
      " 26%|██▌       | 324/1261 [03:46<10:55,  1.43it/s]"
     ]
    },
    {
     "name": "stdout",
     "output_type": "stream",
     "text": [
      "896.331128033\n",
      "0.0 [  2.75853475e-05  -2.43455678e-02   2.71644210e+02] [ -1.23113625e-06   8.62016757e-02   1.10338887e+03]\n",
      "0.0 [  2.35159570e-04  -4.32377285e-03   1.00508358e+00] [ -1.04951903e-05   1.53094176e-02   4.08253881e+00]\n",
      "This is the average radius of curvature of the anes 49783.8957437\n"
     ]
    },
    {
     "name": "stderr",
     "output_type": "stream",
     "text": [
      "\r",
      " 26%|██▌       | 325/1261 [03:47<11:01,  1.42it/s]"
     ]
    },
    {
     "name": "stdout",
     "output_type": "stream",
     "text": [
      "893.598527105\n",
      "0.0 [  3.68025939e-05  -3.29680775e-02   2.73520896e+02] [ -3.00192772e-05   1.03491702e-01   1.10354914e+03]\n",
      "0.0 [  3.13734752e-04  -5.85513057e-03   1.01202731e+00] [ -2.55908334e-04   1.83801262e-02   4.08313183e+00]\n",
      "This is the average radius of curvature of the anes 3548.59968236\n"
     ]
    },
    {
     "name": "stderr",
     "output_type": "stream",
     "text": [
      "\r",
      " 26%|██▌       | 326/1261 [03:48<10:52,  1.43it/s]"
     ]
    },
    {
     "name": "stdout",
     "output_type": "stream",
     "text": [
      "895.153665104\n",
      "0.0 [  3.87728487e-05  -3.69870336e-02   2.74886012e+02] [  4.14271146e-06   7.09673540e-02   1.11032290e+03]\n",
      "0.0 [  3.30530780e-04  -6.56889717e-03   1.01707825e+00] [  3.53157866e-05   1.26038021e-02   4.10819474e+00]\n",
      "This is the average radius of curvature of the anes 15674.164389\n"
     ]
    },
    {
     "name": "stderr",
     "output_type": "stream",
     "text": [
      "\r",
      " 26%|██▌       | 327/1261 [03:49<10:57,  1.42it/s]"
     ]
    },
    {
     "name": "stdout",
     "output_type": "stream",
     "text": [
      "897.836057298\n",
      "0.0 [  2.84846459e-05  -3.11734311e-02   2.74388958e+02] [ -6.89082422e-06   7.54993666e-02   1.11381501e+03]\n",
      "0.0 [  2.42825910e-04  -5.53640136e-03   1.01523915e+00] [ -5.87428983e-05   1.34086875e-02   4.12111555e+00]\n",
      "This is the average radius of curvature of the anes 10573.145816\n"
     ]
    },
    {
     "name": "stderr",
     "output_type": "stream",
     "text": [
      "\r",
      " 26%|██▌       | 328/1261 [03:49<10:44,  1.45it/s]"
     ]
    },
    {
     "name": "stdout",
     "output_type": "stream",
     "text": [
      "899.410949634\n",
      "0.0 [  1.95846427e-05  -2.67440226e-02   2.74048849e+02] [ -4.21728272e-06   6.64276149e-02   1.11877406e+03]\n",
      "0.0 [  1.66955162e-04  -4.74973842e-03   1.01398074e+00] [ -3.59514917e-05   1.17975444e-02   4.13946401e+00]\n",
      "This is the average radius of curvature of the anes 16905.4497971\n"
     ]
    },
    {
     "name": "stderr",
     "output_type": "stream",
     "text": [
      "\r",
      " 26%|██▌       | 329/1261 [03:50<10:48,  1.44it/s]"
     ]
    },
    {
     "name": "stdout",
     "output_type": "stream",
     "text": [
      "906.91483052\n",
      "0.0 [  8.45498564e-06  -2.15274476e-02   2.73110473e+02] [  1.57078236e-05   4.37029427e-02   1.12937522e+03]\n",
      "0.0 [  7.20770616e-05  -3.82327469e-03   1.01050875e+00] [  1.33906055e-04   7.76164263e-03   4.17868831e+00]\n",
      "This is the average radius of curvature of the anes 10671.4703802\n"
     ]
    },
    {
     "name": "stderr",
     "output_type": "stream",
     "text": [
      "\r",
      " 26%|██▌       | 330/1261 [03:51<10:45,  1.44it/s]"
     ]
    },
    {
     "name": "stdout",
     "output_type": "stream",
     "text": [
      "900.326006431\n",
      "0.0 [  6.08602842e-06  -2.03749145e-02   2.73009435e+02] [ -4.45804502e-05   8.57139620e-02   1.12325013e+03]\n",
      "0.0 [  5.18821751e-05  -3.61858482e-03   1.01013491e+00] [ -3.80039422e-04   1.52227996e-02   4.15602549e+00]\n",
      "This is the average radius of curvature of the anes 10953.5208629\n"
     ]
    },
    {
     "name": "stderr",
     "output_type": "stream",
     "text": [
      "\r",
      " 26%|██▌       | 331/1261 [03:51<10:55,  1.42it/s]"
     ]
    },
    {
     "name": "stdout",
     "output_type": "stream",
     "text": [
      "897.414592759\n",
      "0.0 [  9.04438374e-06  -2.39802151e-02   2.73956788e+02] [ -9.02806581e-05   1.26003408e-01   1.11488033e+03]\n",
      "0.0 [  7.71015625e-05  -4.25888621e-03   1.01364011e+00] [ -7.69624554e-04   2.23782053e-02   4.12505722e+00]\n",
      "This is the average radius of curvature of the anes 7135.28481996\n"
     ]
    },
    {
     "name": "stderr",
     "output_type": "stream",
     "text": [
      "\r",
      " 26%|██▋       | 332/1261 [03:52<10:45,  1.44it/s]"
     ]
    },
    {
     "name": "stdout",
     "output_type": "stream",
     "text": [
      "893.554684926\n",
      "0.0 [  3.17463726e-05  -4.70776002e-02   2.80511828e+02] [ -1.18371535e-04   1.63446480e-01   1.10025722e+03]\n",
      "0.0 [  2.70631478e-04  -8.36098179e-03   1.03789376e+00] [ -1.00909366e-03   2.90280948e-02   4.07095173e+00]\n",
      "This is the average radius of curvature of the anes 2343.8451228\n"
     ]
    },
    {
     "name": "stderr",
     "output_type": "stream",
     "text": [
      "\r",
      " 26%|██▋       | 333/1261 [03:53<10:54,  1.42it/s]"
     ]
    },
    {
     "name": "stdout",
     "output_type": "stream",
     "text": [
      "892.187854681\n",
      "0.0 [  3.60673831e-05  -5.41556131e-02   2.83916650e+02] [ -1.30628099e-04   1.87508997e-01   1.08852271e+03]\n",
      "0.0 [  3.07467228e-04  -9.61803688e-03   1.05049161e+00] [ -1.11357842e-03   3.33015978e-02   4.02753404e+00]\n",
      "This is the average radius of curvature of the anes 2076.16530658\n"
     ]
    },
    {
     "name": "stderr",
     "output_type": "stream",
     "text": [
      "\r",
      " 26%|██▋       | 334/1261 [03:53<10:51,  1.42it/s]"
     ]
    },
    {
     "name": "stdout",
     "output_type": "stream",
     "text": [
      "895.22404136\n",
      "0.0 [  3.23076408e-05  -5.27933127e-02   2.84688246e+02] [ -1.07596449e-04   1.73508457e-01   1.08952627e+03]\n",
      "0.0 [  2.75416177e-04  -9.37609233e-03   1.05334651e+00] [ -9.17238210e-04   3.08151020e-02   4.03124721e+00]\n",
      "This is the average radius of curvature of the anes 2361.56508312\n"
     ]
    },
    {
     "name": "stderr",
     "output_type": "stream",
     "text": [
      "\r",
      " 27%|██▋       | 335/1261 [03:54<11:05,  1.39it/s]"
     ]
    },
    {
     "name": "stdout",
     "output_type": "stream",
     "text": [
      "900.720879402\n",
      "0.0 [  3.46280021e-05  -5.51441451e-02   2.85742221e+02] [ -6.18651170e-05   1.45415285e-01   1.09214405e+03]\n",
      "0.0 [  2.95196793e-04  -9.79360018e-03   1.05724622e+00] [ -5.27387750e-04   2.58257546e-02   4.04093298e+00]\n",
      "This is the average radius of curvature of the anes 2643.04673768\n"
     ]
    },
    {
     "name": "stderr",
     "output_type": "stream",
     "text": [
      "\r",
      " 27%|██▋       | 336/1261 [03:55<10:59,  1.40it/s]"
     ]
    },
    {
     "name": "stdout",
     "output_type": "stream",
     "text": [
      "906.543064708\n",
      "0.0 [  3.00081652e-05  -5.28392298e-02   2.85564500e+02] [ -4.06784042e-05   1.22949579e-01   1.10225761e+03]\n",
      "0.0 [  2.55813607e-04  -9.38424721e-03   1.05658865e+00] [ -3.46775260e-04   2.18358453e-02   4.07835316e+00]\n",
      "This is the average radius of curvature of the anes 3397.69367409\n"
     ]
    },
    {
     "name": "stderr",
     "output_type": "stream",
     "text": [
      "\r",
      " 27%|██▋       | 337/1261 [03:56<11:06,  1.39it/s]"
     ]
    },
    {
     "name": "stdout",
     "output_type": "stream",
     "text": [
      "909.571414245\n",
      "0.0 [  2.62584431e-05  -5.06713898e-02   2.85335781e+02] [ -3.41264317e-05   1.11893296e-01   1.10923981e+03]\n",
      "0.0 [  2.23847975e-04  -8.99923883e-03   1.05574239e+00] [ -2.90921005e-04   1.98722494e-02   4.10418730e+00]\n",
      "This is the average radius of curvature of the anes 3953.62793996\n"
     ]
    },
    {
     "name": "stderr",
     "output_type": "stream",
     "text": [
      "\r",
      " 27%|██▋       | 338/1261 [03:56<10:58,  1.40it/s]"
     ]
    },
    {
     "name": "stdout",
     "output_type": "stream",
     "text": [
      "910.893359856\n",
      "0.0 [  1.70172025e-05  -4.28157075e-02   2.83891516e+02] [ -2.88300013e-05   1.04558917e-01   1.11252374e+03]\n",
      "0.0 [  1.45068247e-04  -7.60406966e-03   1.05039861e+00] [ -2.45769995e-04   1.85696637e-02   4.11633783e+00]\n",
      "This is the average radius of curvature of the anes 5482.42742372\n"
     ]
    },
    {
     "name": "stderr",
     "output_type": "stream",
     "text": [
      "\r",
      " 27%|██▋       | 339/1261 [03:57<11:05,  1.39it/s]"
     ]
    },
    {
     "name": "stdout",
     "output_type": "stream",
     "text": [
      "910.463664062\n",
      "0.0 [  1.88183619e-05  -4.36031299e-02   2.83888529e+02] [ -1.34871089e-05   8.87657018e-02   1.11587967e+03]\n",
      "0.0 [  1.60422772e-04  -7.74391586e-03   1.05038756e+00] [ -1.14974906e-04   1.57647886e-02   4.12875478e+00]\n",
      "This is the average radius of curvature of the anes 7467.44120417\n"
     ]
    },
    {
     "name": "stderr",
     "output_type": "stream",
     "text": [
      "\r",
      " 27%|██▋       | 340/1261 [03:58<10:55,  1.41it/s]"
     ]
    },
    {
     "name": "stdout",
     "output_type": "stream",
     "text": [
      "907.306950115\n",
      "0.0 [  2.57246223e-05  -4.74838885e-02   2.84437849e+02] [ -3.85783533e-06   7.78058950e-02   1.11695442e+03]\n",
      "0.0 [  2.19297260e-04  -8.43313860e-03   1.05242004e+00] [ -3.28872746e-05   1.38183270e-02   4.13273136e+00]\n",
      "This is the average radius of curvature of the anes 17488.0571603\n"
     ]
    },
    {
     "name": "stderr",
     "output_type": "stream",
     "text": [
      "\r",
      " 27%|██▋       | 341/1261 [03:58<10:57,  1.40it/s]"
     ]
    },
    {
     "name": "stdout",
     "output_type": "stream",
     "text": [
      "907.133731487\n",
      "0.0 [  2.73268899e-05  -4.78965636e-02   2.84645601e+02] [  2.70894618e-05   4.79134774e-02   1.12301465e+03]\n",
      "0.0 [  2.32956271e-04  -8.50642970e-03   1.05318872e+00] [  2.30932244e-04   8.50943358e-03   4.15515422e+00]\n",
      "This is the average radius of curvature of the anes 4311.93093917\n"
     ]
    },
    {
     "name": "stderr",
     "output_type": "stream",
     "text": [
      "\r",
      " 27%|██▋       | 342/1261 [03:59<10:39,  1.44it/s]"
     ]
    },
    {
     "name": "stdout",
     "output_type": "stream",
     "text": [
      "898.864326986\n",
      "0.0 [  3.44047006e-05  -5.49575123e-02   2.88613331e+02] [ -2.30207970e-05   9.42203604e-02   1.10990551e+03]\n",
      "0.0 [  2.93293192e-04  -9.76045418e-03   1.06786932e+00] [ -1.96247690e-04   1.67335360e-02   4.10665039e+00]\n",
      "This is the average radius of curvature of the anes 4253.89325071\n"
     ]
    },
    {
     "name": "stderr",
     "output_type": "stream",
     "text": [
      "\r",
      " 27%|██▋       | 343/1261 [04:00<10:40,  1.43it/s]"
     ]
    },
    {
     "name": "stdout",
     "output_type": "stream",
     "text": [
      "895.527825246\n",
      "0.0 [  3.34464589e-05  -5.48481748e-02   2.89179341e+02] [ -4.91734160e-05   1.13380695e-01   1.10646186e+03]\n",
      "0.0 [  2.85124373e-04  -9.74103585e-03   1.06996356e+00] [ -4.19193537e-04   2.01364114e-02   4.09390889e+00]\n",
      "This is the average radius of curvature of the anes 2947.3623059\n"
     ]
    },
    {
     "name": "stderr",
     "output_type": "stream",
     "text": [
      "\r",
      " 27%|██▋       | 344/1261 [04:00<10:28,  1.46it/s]"
     ]
    },
    {
     "name": "stdout",
     "output_type": "stream",
     "text": [
      "896.659919425\n",
      "0.0 [  2.91090825e-05  -5.23408783e-02   2.89011342e+02] [ -4.88141551e-05   1.09167492e-01   1.10983002e+03]\n",
      "0.0 [  2.48149106e-04  -9.29573999e-03   1.06934197e+00] [ -4.16130909e-04   1.93881465e-02   4.10637107e+00]\n",
      "This is the average radius of curvature of the anes 3217.40128575\n"
     ]
    },
    {
     "name": "stderr",
     "output_type": "stream",
     "text": [
      "\r",
      " 27%|██▋       | 345/1261 [04:01<10:31,  1.45it/s]"
     ]
    },
    {
     "name": "stdout",
     "output_type": "stream",
     "text": [
      "897.471414562\n",
      "0.0 [  2.93123227e-05  -5.21105201e-02   2.88966428e+02] [ -4.49624211e-05   1.02068676e-01   1.11398015e+03]\n",
      "0.0 [  2.49881688e-04  -9.25482836e-03   1.06917578e+00] [ -3.83295647e-04   1.81273968e-02   4.12172654e+00]\n",
      "This is the average radius of curvature of the anes 3306.32313123\n"
     ]
    },
    {
     "name": "stderr",
     "output_type": "stream",
     "text": [
      "\r",
      " 27%|██▋       | 346/1261 [04:02<10:24,  1.46it/s]"
     ]
    },
    {
     "name": "stdout",
     "output_type": "stream",
     "text": [
      "904.523308978\n",
      "0.0 [  2.89017023e-05  -5.17029581e-02   2.88664693e+02] [ -9.62021683e-06   8.09591462e-02   1.11771828e+03]\n",
      "0.0 [  2.46381232e-04  -9.18244536e-03   1.06805936e+00] [ -8.20104244e-05   1.43783444e-02   4.13555763e+00]\n",
      "This is the average radius of curvature of the anes 8128.30868037\n"
     ]
    },
    {
     "name": "stderr",
     "output_type": "stream",
     "text": [
      "\r",
      " 28%|██▊       | 347/1261 [04:03<10:31,  1.45it/s]"
     ]
    },
    {
     "name": "stdout",
     "output_type": "stream",
     "text": [
      "901.832360629\n",
      "0.0 [  3.35222077e-05  -5.38891871e-02   2.88828950e+02] [ -1.88093863e-05   8.52890019e-02   1.11764559e+03]\n",
      "0.0 [  2.85770116e-04  -9.57071963e-03   1.06866711e+00] [ -1.60346257e-04   1.51473267e-02   4.13528867e+00]\n",
      "This is the average radius of curvature of the anes 4869.22353963\n"
     ]
    },
    {
     "name": "stderr",
     "output_type": "stream",
     "text": [
      "\r",
      " 28%|██▊       | 348/1261 [04:03<10:20,  1.47it/s]"
     ]
    },
    {
     "name": "stdout",
     "output_type": "stream",
     "text": [
      "905.830780033\n",
      "0.0 [  2.76109069e-05  -4.86422930e-02   2.87708284e+02] [  2.30873322e-06   6.84952350e-02   1.12239742e+03]\n",
      "0.0 [  2.35377459e-04  -8.63887124e-03   1.06452065e+00] [  1.96814890e-05   1.21647537e-02   4.15287045e+00]\n",
      "This is the average radius of curvature of the anes 27534.7067014\n"
     ]
    },
    {
     "name": "stderr",
     "output_type": "stream",
     "text": [
      "\r",
      " 28%|██▊       | 349/1261 [04:04<10:33,  1.44it/s]"
     ]
    },
    {
     "name": "stdout",
     "output_type": "stream",
     "text": [
      "903.819241087\n",
      "0.0 [  3.12821207e-05  -5.04192993e-02   2.87838881e+02] [ -2.36078566e-06   7.02929406e-02   1.12225809e+03]\n",
      "0.0 [  2.66673823e-04  -8.95446755e-03   1.06500386e+00] [ -2.01252256e-05   1.24840263e-02   4.15235494e+00]\n",
      "This is the average radius of curvature of the anes 26725.4254119\n"
     ]
    },
    {
     "name": "stderr",
     "output_type": "stream",
     "text": [
      "\r",
      " 28%|██▊       | 350/1261 [04:05<10:34,  1.44it/s]"
     ]
    },
    {
     "name": "stdout",
     "output_type": "stream",
     "text": [
      "905.502954937\n",
      "0.0 [  3.07547376e-05  -5.01716874e-02   2.87487424e+02] [  9.76920986e-06   5.82865037e-02   1.12585764e+03]\n",
      "0.0 [  2.62177987e-04  -8.91049168e-03   1.06370347e+00] [  8.32805602e-05   1.03516831e-02   4.16567326e+00]\n",
      "This is the average radius of curvature of the anes 7912.09563307\n"
     ]
    },
    {
     "name": "stderr",
     "output_type": "stream",
     "text": [
      "\r",
      " 28%|██▊       | 351/1261 [04:05<10:46,  1.41it/s]"
     ]
    },
    {
     "name": "stdout",
     "output_type": "stream",
     "text": [
      "905.595111592\n",
      "0.0 [  3.04874561e-05  -5.07136577e-02   2.87544506e+02] [  1.20075875e-05   5.40249842e-02   1.12738591e+03]\n",
      "0.0 [  2.59899466e-04  -9.00674561e-03   1.06391467e+00] [  1.02362282e-04   9.59483719e-03   4.17132785e+00]\n",
      "This is the average radius of curvature of the anes 6809.34115038\n"
     ]
    },
    {
     "name": "stderr",
     "output_type": "stream",
     "text": [
      "\r",
      " 28%|██▊       | 352/1261 [04:06<10:37,  1.43it/s]"
     ]
    },
    {
     "name": "stdout",
     "output_type": "stream",
     "text": [
      "906.074495322\n",
      "0.0 [  2.72718317e-05  -4.91665268e-02   2.87281292e+02] [  2.92321388e-05   3.46183081e-02   1.13210109e+03]\n",
      "0.0 [  2.32486911e-04  -8.73197516e-03   1.06294078e+00] [  2.49198137e-04   6.14821152e-03   4.18877403e+00]\n",
      "This is the average radius of curvature of the anes 4157.45400488\n"
     ]
    },
    {
     "name": "stderr",
     "output_type": "stream",
     "text": [
      "\r",
      " 28%|██▊       | 353/1261 [04:07<10:41,  1.41it/s]"
     ]
    },
    {
     "name": "stdout",
     "output_type": "stream",
     "text": [
      "908.226148085\n",
      "0.0 [  2.05857299e-05  -4.64315948e-02   2.86549141e+02] [  2.56245516e-05   3.01066241e-02   1.13713944e+03]\n",
      "0.0 [  1.75489230e-04  -8.24625123e-03   1.06023182e+00] [  2.18444177e-04   5.34693644e-03   4.20741591e+00]\n",
      "This is the average radius of curvature of the anes 5138.48077494\n"
     ]
    },
    {
     "name": "stderr",
     "output_type": "stream",
     "text": [
      "\r",
      " 28%|██▊       | 354/1261 [04:07<10:31,  1.44it/s]"
     ]
    },
    {
     "name": "stdout",
     "output_type": "stream",
     "text": [
      "904.108771746\n",
      "0.0 [  1.67693354e-05  -4.49971947e-02   2.86368680e+02] [  1.82134170e-06   4.06374595e-02   1.13663367e+03]\n",
      "0.0 [  1.42955230e-04  -7.99150178e-03   1.05956412e+00] [  1.55265737e-05   7.21721281e-03   4.20554456e+00]\n",
      "This is the average radius of curvature of the anes 35703.3045624\n"
     ]
    },
    {
     "name": "stderr",
     "output_type": "stream",
     "text": [
      "\r",
      " 28%|██▊       | 355/1261 [04:08<10:41,  1.41it/s]"
     ]
    },
    {
     "name": "stdout",
     "output_type": "stream",
     "text": [
      "906.23909906\n",
      "0.0 [  4.93535207e-06  -3.85758351e-02   2.85573691e+02] [ -2.85765411e-06   4.08276827e-02   1.13875034e+03]\n",
      "0.0 [  4.20728893e-05  -6.85106831e-03   1.05662266e+00] [ -2.43609298e-05   7.25099645e-03   4.21337626e+00]\n",
      "This is the average radius of curvature of the anes 32411.2610665\n"
     ]
    },
    {
     "name": "stderr",
     "output_type": "stream",
     "text": [
      "\r",
      " 28%|██▊       | 356/1261 [04:09<10:38,  1.42it/s]"
     ]
    },
    {
     "name": "stdout",
     "output_type": "stream",
     "text": [
      "906.786802885\n",
      "0.0 [ -3.88361942e-06  -3.29107000e-02   2.84780133e+02] [ -1.38864462e-05   4.81140834e-02   1.13848119e+03]\n",
      "0.0 [ -3.31070788e-05  -5.84494032e-03   1.05368649e+00] [ -1.18379177e-04   8.54506122e-03   4.21238040e+00]\n",
      "This is the average radius of curvature of the anes 19327.4626962\n"
     ]
    },
    {
     "name": "stderr",
     "output_type": "stream",
     "text": [
      "\r",
      " 28%|██▊       | 357/1261 [04:10<10:32,  1.43it/s]"
     ]
    },
    {
     "name": "stdout",
     "output_type": "stream",
     "text": [
      "902.57329034\n",
      "0.0 [  1.15781463e-06  -3.54806005e-02   2.85049251e+02] [ -5.68356279e-05   8.57684239e-02   1.13042484e+03]\n",
      "0.0 [  9.87013812e-06  -6.30135464e-03   1.05468223e+00] [ -4.84512361e-04   1.52324721e-02   4.18257191e+00]\n",
      "This is the average radius of curvature of the anes 51693.1942483\n"
     ]
    },
    {
     "name": "stderr",
     "output_type": "stream",
     "text": [
      "\r",
      " 28%|██▊       | 358/1261 [04:10<10:51,  1.39it/s]"
     ]
    },
    {
     "name": "stdout",
     "output_type": "stream",
     "text": [
      "904.871715096\n",
      "0.0 [ -6.76649663e-06  -2.76261822e-02   2.83434769e+02] [ -4.01573853e-05   7.55099041e-02   1.13141343e+03]\n",
      "0.0 [ -5.76830304e-05  -4.90640996e-03   1.04870865e+00] [ -3.42333678e-04   1.34105590e-02   4.18622968e+00]\n",
      "This is the average radius of curvature of the anes 10129.3308453\n"
     ]
    },
    {
     "name": "stderr",
     "output_type": "stream",
     "text": [
      "\r",
      " 28%|██▊       | 359/1261 [04:11<10:45,  1.40it/s]"
     ]
    },
    {
     "name": "stdout",
     "output_type": "stream",
     "text": [
      "903.426567334\n",
      "0.0 [ -4.75251430e-06  -2.55957311e-02   2.83036791e+02] [ -3.53600646e-05   7.33816820e-02   1.13112151e+03]\n",
      "0.0 [ -4.05142339e-05  -4.54580184e-03   1.04723613e+00] [ -3.01437478e-04   1.30325867e-02   4.18514958e+00]\n",
      "This is the average radius of curvature of the anes 14000.865505\n"
     ]
    },
    {
     "name": "stderr",
     "output_type": "stream",
     "text": [
      "\r",
      " 29%|██▊       | 360/1261 [04:12<10:53,  1.38it/s]"
     ]
    },
    {
     "name": "stdout",
     "output_type": "stream",
     "text": [
      "904.496418423\n",
      "0.0 [ -4.43127600e-06  -2.44201311e-02   2.82795413e+02] [ -2.54982292e-05   6.80348242e-02   1.13170751e+03]\n",
      "0.0 [ -3.77757416e-05  -4.33701528e-03   1.04634303e+00] [ -2.17367304e-04   1.20829848e-02   4.18731779e+00]\n",
      "This is the average radius of curvature of the anes 15537.1386893\n"
     ]
    },
    {
     "name": "stderr",
     "output_type": "stream",
     "text": [
      "\r",
      " 29%|██▊       | 361/1261 [04:12<10:44,  1.40it/s]"
     ]
    },
    {
     "name": "stdout",
     "output_type": "stream",
     "text": [
      "904.626413137\n",
      "0.0 [ -3.63332271e-06  -2.19757797e-02   2.82384019e+02] [ -7.65812467e-06   5.57227490e-02   1.13322586e+03]\n",
      "0.0 [ -3.09733494e-05  -3.90289847e-03   1.04482087e+00] [ -6.52839812e-05   9.89636023e-03   4.19293566e+00]\n",
      "This is the average radius of curvature of the anes 23803.2509034\n"
     ]
    },
    {
     "name": "stderr",
     "output_type": "stream",
     "text": [
      "\r",
      " 29%|██▊       | 362/1261 [04:13<10:54,  1.37it/s]"
     ]
    },
    {
     "name": "stdout",
     "output_type": "stream",
     "text": [
      "899.147514317\n",
      "0.0 [ -9.74790888e-07  -1.99397408e-02   2.82111643e+02] [ -4.72240206e-05   8.81671754e-02   1.12743933e+03]\n",
      "0.0 [ -8.30989736e-06  -3.54129796e-03   1.04381308e+00] [ -4.02575331e-04   1.56584903e-02   4.17152553e+00]\n",
      "This is the average radius of curvature of the anes 61412.8071222\n"
     ]
    },
    {
     "name": "stderr",
     "output_type": "stream",
     "text": [
      "\r",
      " 29%|██▉       | 363/1261 [04:14<10:37,  1.41it/s]"
     ]
    },
    {
     "name": "stdout",
     "output_type": "stream",
     "text": [
      "898.164717018\n",
      "0.0 [  2.29108744e-06  -1.88430054e-02   2.81881781e+02] [ -2.54216333e-05   6.96048096e-02   1.13077891e+03]\n",
      "0.0 [  1.95310622e-05  -3.34651777e-03   1.04296259e+00] [ -2.16714339e-04   1.23618142e-02   4.18388198e+00]\n",
      "This is the average radius of curvature of the anes 27908.3897762\n"
     ]
    },
    {
     "name": "stderr",
     "output_type": "stream",
     "text": [
      "\r",
      " 29%|██▉       | 364/1261 [04:15<10:36,  1.41it/s]"
     ]
    },
    {
     "name": "stdout",
     "output_type": "stream",
     "text": [
      "892.596523247\n",
      "0.0 [  1.76514780e-05  -2.91705384e-02   2.85314286e+02] [ -4.43373818e-05   9.20207905e-02   1.12282007e+03]\n",
      "0.0 [  1.50475320e-04  -5.18068762e-03   1.05566286e+00] [ -3.77967313e-04   1.63428924e-02   4.15443425e+00]\n",
      "This is the average radius of curvature of the anes 4646.33355289\n"
     ]
    },
    {
     "name": "stderr",
     "output_type": "stream",
     "text": [
      "\r",
      " 29%|██▉       | 365/1261 [04:15<10:25,  1.43it/s]"
     ]
    },
    {
     "name": "stdout",
     "output_type": "stream",
     "text": [
      "892.893609735\n",
      "0.0 [  2.05107115e-05  -3.01780115e-02   2.85791082e+02] [ -3.83325131e-05   8.96708206e-02   1.12293303e+03]\n",
      "0.0 [  1.74849713e-04  -5.35961484e-03   1.05742700e+00] [ -3.26777008e-04   1.59255377e-02   4.15485222e+00]\n",
      "This is the average radius of curvature of the anes 4390.39939279\n"
     ]
    },
    {
     "name": "stderr",
     "output_type": "stream",
     "text": [
      "\r",
      " 29%|██▉       | 366/1261 [04:16<10:31,  1.42it/s]"
     ]
    },
    {
     "name": "stdout",
     "output_type": "stream",
     "text": [
      "884.285690885\n",
      "0.0 [  2.58595645e-05  -3.41922784e-02   2.86954963e+02] [ -7.60866373e-05   1.08824796e-01   1.12108215e+03]\n",
      "0.0 [  2.20447616e-04  -6.07254865e-03   1.06173336e+00] [ -6.48623366e-04   1.93272837e-02   4.14800396e+00]\n",
      "This is the average radius of curvature of the anes 3039.53333907\n"
     ]
    },
    {
     "name": "stderr",
     "output_type": "stream",
     "text": [
      "\r",
      " 29%|██▉       | 367/1261 [04:17<10:26,  1.43it/s]"
     ]
    },
    {
     "name": "stdout",
     "output_type": "stream",
     "text": [
      "881.137325248\n",
      "0.0 [  2.86064408e-05  -3.78812972e-02   2.87994705e+02] [ -9.39422812e-05   1.13981715e-01   1.12208469e+03]\n",
      "0.0 [  2.43864186e-04  -6.72771838e-03   1.06558041e+00] [ -8.00839158e-04   2.02431525e-02   4.15171336e+00]\n",
      "This is the average radius of curvature of the anes 2675.18967338\n"
     ]
    },
    {
     "name": "stderr",
     "output_type": "stream",
     "text": [
      "\r",
      " 29%|██▉       | 368/1261 [04:17<10:31,  1.41it/s]"
     ]
    },
    {
     "name": "stdout",
     "output_type": "stream",
     "text": [
      "883.657119285\n",
      "0.0 [  3.34208923e-05  -4.16029801e-02   2.88065593e+02] [ -6.72392353e-05   9.12848369e-02   1.12786430e+03]\n",
      "0.0 [  2.84906423e-04  -7.38868926e-03   1.06584270e+00] [ -5.73201033e-04   1.62121870e-02   4.17309793e+00]\n",
      "This is the average radius of curvature of the anes 2627.74414412\n"
     ]
    },
    {
     "name": "stderr",
     "output_type": "stream",
     "text": [
      "\r",
      " 29%|██▉       | 369/1261 [04:18<10:30,  1.42it/s]"
     ]
    },
    {
     "name": "stdout",
     "output_type": "stream",
     "text": [
      "882.773125182\n",
      "0.0 [  4.95279955e-05  -5.52999466e-02   2.90739523e+02] [ -1.00838901e-04   1.24474218e-01   1.11977950e+03]\n",
      "0.0 [  4.22216256e-04  -9.82127052e-03   1.07573624e+00] [ -8.59631466e-04   2.21066210e-02   4.14318416e+00]\n",
      "This is the average radius of curvature of the anes 1766.46963457\n"
     ]
    },
    {
     "name": "stderr",
     "output_type": "stream",
     "text": [
      "\r",
      " 29%|██▉       | 370/1261 [04:19<10:35,  1.40it/s]"
     ]
    },
    {
     "name": "stdout",
     "output_type": "stream",
     "text": [
      "885.378632697\n",
      "0.0 [  5.05746448e-05  -5.76822496e-02   2.90619651e+02] [ -8.98003335e-05   1.19240455e-01   1.12025181e+03]\n",
      "0.0 [  4.31138732e-04  -1.02443675e-02   1.07529271e+00] [ -7.65529883e-04   2.11771047e-02   4.14493169e+00]\n",
      "This is the average radius of curvature of the anes 1813.48387003\n"
     ]
    },
    {
     "name": "stderr",
     "output_type": "stream",
     "text": [
      "\r",
      " 29%|██▉       | 371/1261 [04:20<10:31,  1.41it/s]"
     ]
    },
    {
     "name": "stdout",
     "output_type": "stream",
     "text": [
      "889.381287794\n",
      "0.0 [  5.56735892e-05  -6.49354713e-02   2.91495726e+02] [ -7.31281139e-05   1.11612125e-01   1.12037889e+03]\n",
      "0.0 [  4.74606213e-04  -1.15325397e-02   1.07853418e+00] [ -6.23402545e-04   1.98223135e-02   4.14540189e+00]\n",
      "This is the average radius of curvature of the anes 1856.23788655\n"
     ]
    },
    {
     "name": "stderr",
     "output_type": "stream",
     "text": [
      "\r",
      " 30%|██▉       | 372/1261 [04:20<10:27,  1.42it/s]"
     ]
    },
    {
     "name": "stdout",
     "output_type": "stream",
     "text": [
      "896.061612342\n",
      "0.0 [  6.61650957e-05  -7.72237298e-02   2.92343150e+02] [ -3.72119499e-05   8.52979454e-02   1.12499358e+03]\n",
      "0.0 [  5.64044208e-04  -1.37149344e-02   1.08166966e+00] [ -3.17224431e-04   1.51489151e-02   4.16247624e+00]\n",
      "This is the average radius of curvature of the anes 2463.41923238\n"
     ]
    },
    {
     "name": "stderr",
     "output_type": "stream",
     "text": [
      "\r",
      " 30%|██▉       | 373/1261 [04:21<10:31,  1.41it/s]"
     ]
    },
    {
     "name": "stdout",
     "output_type": "stream",
     "text": [
      "901.492377425\n",
      "0.0 [  7.21116828e-05  -8.70874714e-02   2.93107008e+02] [ -2.28886798e-05   7.37170829e-02   1.12809239e+03]\n",
      "0.0 [  6.14737673e-04  -1.54667349e-02   1.08449593e+00] [ -1.95121418e-04   1.30921539e-02   4.17394186e+00]\n",
      "This is the average radius of curvature of the anes 3376.81281121\n"
     ]
    },
    {
     "name": "stderr",
     "output_type": "stream",
     "text": [
      "\r",
      " 30%|██▉       | 374/1261 [04:22<10:22,  1.42it/s]"
     ]
    },
    {
     "name": "stdout",
     "output_type": "stream",
     "text": [
      "903.265996145\n",
      "0.0 [  7.19531025e-05  -9.14559054e-02   2.93735975e+02] [ -1.52782621e-05   6.56634382e-02   1.12912838e+03]\n",
      "0.0 [  6.13385808e-04  -1.62425688e-02   1.08682311e+00] [ -1.30244128e-04   1.16618266e-02   4.17777499e+00]\n",
      "This is the average radius of curvature of the anes 4655.19806316\n"
     ]
    },
    {
     "name": "stderr",
     "output_type": "stream",
     "text": [
      "\r",
      " 30%|██▉       | 375/1261 [04:22<10:18,  1.43it/s]"
     ]
    },
    {
     "name": "stdout",
     "output_type": "stream",
     "text": [
      "904.286819413\n",
      "0.0 [  6.85158428e-05  -9.31093843e-02   2.94381626e+02] [ -1.96613235e-05   7.05386471e-02   1.12658967e+03]\n",
      "0.0 [  5.84083857e-04  -1.65362266e-02   1.08921202e+00] [ -1.67608851e-04   1.25276637e-02   4.16838177e+00]\n",
      "This is the average radius of curvature of the anes 3840.23092917\n"
     ]
    },
    {
     "name": "stderr",
     "output_type": "stream",
     "text": [
      "\r",
      " 30%|██▉       | 376/1261 [04:23<10:10,  1.45it/s]"
     ]
    },
    {
     "name": "stdout",
     "output_type": "stream",
     "text": [
      "901.957115426\n",
      "0.0 [  8.57085390e-05  -1.11139763e-01   2.98586854e+02] [ -3.22780677e-05   9.06629705e-02   1.11644228e+03]\n",
      "0.0 [  7.30648154e-04  -1.97384218e-02   1.10477136e+00] [ -2.75164072e-04   1.61017436e-02   4.13083643e+00]\n",
      "This is the average radius of curvature of the anes 2502.52827694\n"
     ]
    },
    {
     "name": "stderr",
     "output_type": "stream",
     "text": [
      "\r",
      " 30%|██▉       | 377/1261 [04:24<10:09,  1.45it/s]"
     ]
    },
    {
     "name": "stdout",
     "output_type": "stream",
     "text": [
      "903.703375552\n",
      "0.0 [  8.96766722e-05  -1.20732879e-01   3.01629085e+02] [ -3.37825998e-05   9.66350552e-02   1.11286854e+03]\n",
      "0.0 [  7.64475696e-04  -2.14421594e-02   1.11602761e+00] [ -2.87989907e-04   1.71623858e-02   4.11761361e+00]\n",
      "This is the average radius of curvature of the anes 2391.43323034\n"
     ]
    },
    {
     "name": "stderr",
     "output_type": "stream",
     "text": [
      "\r",
      " 30%|██▉       | 378/1261 [04:24<10:02,  1.47it/s]"
     ]
    },
    {
     "name": "stdout",
     "output_type": "stream",
     "text": [
      "900.15061343\n",
      "0.0 [  9.63294403e-05  -1.32692671e-01   3.05497377e+02] [ -5.14167105e-05   1.07098985e-01   1.10961679e+03]\n",
      "0.0 [  8.21189212e-04  -2.35662183e-02   1.13034030e+00] [ -4.38317173e-04   1.90207798e-02   4.10558212e+00]\n",
      "This is the average radius of curvature of the anes 1750.72594263\n"
     ]
    },
    {
     "name": "stderr",
     "output_type": "stream",
     "text": [
      "\r",
      " 30%|███       | 379/1261 [04:25<10:11,  1.44it/s]"
     ]
    },
    {
     "name": "stdout",
     "output_type": "stream",
     "text": [
      "899.842953411\n",
      "0.0 [  8.48622536e-05  -1.28730712e-01   3.06087066e+02] [ -5.71545242e-05   1.04923098e-01   1.11135007e+03]\n",
      "0.0 [  7.23433740e-04  -2.28625744e-02   1.13252214e+00] [ -4.87230888e-04   1.86343423e-02   4.11199524e+00]\n",
      "This is the average radius of curvature of the anes 1718.43233629\n"
     ]
    },
    {
     "name": "stderr",
     "output_type": "stream",
     "text": [
      "\r",
      " 30%|███       | 380/1261 [04:26<10:06,  1.45it/s]"
     ]
    },
    {
     "name": "stdout",
     "output_type": "stream",
     "text": [
      "903.751971093\n",
      "0.0 [  7.36215961e-05  -1.23363576e-01   3.06217820e+02] [ -4.22887928e-05   8.89909783e-02   1.11720802e+03]\n",
      "0.0 [  6.27609382e-04  -2.19093711e-02   1.13300593e+00] [ -3.60503501e-04   1.58047977e-02   4.13366966e+00]\n",
      "This is the average radius of curvature of the anes 2184.71636305\n"
     ]
    },
    {
     "name": "stderr",
     "output_type": "stream",
     "text": [
      "\r",
      " 30%|███       | 381/1261 [04:26<10:15,  1.43it/s]"
     ]
    },
    {
     "name": "stdout",
     "output_type": "stream",
     "text": [
      "906.893556934\n",
      "0.0 [  6.77706447e-05  -1.19746154e-01   3.05850824e+02] [ -3.17539594e-05   7.55406890e-02   1.12378348e+03]\n",
      "0.0 [  5.77731192e-04  -2.12669170e-02   1.13164805e+00] [ -2.70696153e-04   1.34160264e-02   4.15799887e+00]\n",
      "This is the average radius of curvature of the anes 2713.62973022\n"
     ]
    },
    {
     "name": "stderr",
     "output_type": "stream",
     "text": [
      "\r",
      " 30%|███       | 382/1261 [04:27<10:15,  1.43it/s]"
     ]
    },
    {
     "name": "stdout",
     "output_type": "stream",
     "text": [
      "912.210852747\n",
      "0.0 [  5.40001116e-05  -1.08895911e-01   3.04022264e+02] [ -7.20842809e-06   6.13025401e-02   1.12550286e+03]\n",
      "0.0 [  4.60340151e-04  -1.93399138e-02   1.12488238e+00] [ -6.14504077e-05   1.08873311e-02   4.16436058e+00]\n",
      "This is the average radius of curvature of the anes 9224.85205337\n"
     ]
    },
    {
     "name": "stderr",
     "output_type": "stream",
     "text": [
      "\r",
      " 30%|███       | 383/1261 [04:28<10:24,  1.41it/s]"
     ]
    },
    {
     "name": "stdout",
     "output_type": "stream",
     "text": [
      "911.703489296\n",
      "0.0 [  5.56931823e-05  -1.09275326e-01   3.04037883e+02] [ -4.21089399e-06   5.89773337e-02   1.12573578e+03]\n",
      "0.0 [  4.74773240e-04  -1.94072978e-02   1.12494017e+00] [ -3.58970291e-05   1.04743745e-02   4.16522239e+00]\n",
      "This is the average radius of curvature of the anes 14984.750937\n"
     ]
    },
    {
     "name": "stderr",
     "output_type": "stream",
     "text": [
      "\r",
      " 30%|███       | 384/1261 [04:29<10:30,  1.39it/s]"
     ]
    },
    {
     "name": "stdout",
     "output_type": "stream",
     "text": [
      "910.642317777\n",
      "0.0 [  5.64141638e-05  -1.08770256e-01   3.04007538e+02] [ -4.83787188e-06   5.92920679e-02   1.12547796e+03]\n",
      "0.0 [  4.80919464e-04  -1.93175974e-02   1.12482789e+00] [ -4.12418902e-05   1.05302713e-02   4.16426845e+00]\n",
      "This is the average radius of curvature of the anes 13165.8693395\n"
     ]
    },
    {
     "name": "stderr",
     "output_type": "stream",
     "text": [
      "\r",
      " 31%|███       | 385/1261 [04:29<10:37,  1.37it/s]"
     ]
    },
    {
     "name": "stdout",
     "output_type": "stream",
     "text": [
      "911.798490651\n",
      "0.0 [  4.90254727e-05  -1.01210642e-01   3.02659646e+02] [ -1.04063308e-06   5.91215008e-02   1.12506155e+03]\n",
      "0.0 [  4.17932349e-04  -1.79750100e-02   1.11984069e+00] [ -8.87118892e-06   1.04999786e-02   4.16272774e+00]\n",
      "This is the average radius of curvature of the anes 57568.4979758\n"
     ]
    },
    {
     "name": "stderr",
     "output_type": "stream",
     "text": [
      "\r",
      " 31%|███       | 386/1261 [04:30<10:28,  1.39it/s]"
     ]
    },
    {
     "name": "stdout",
     "output_type": "stream",
     "text": [
      "913.520250481\n",
      "0.0 [  3.05651676e-05  -8.53366479e-02   2.99648236e+02] [  4.66471298e-06   5.40603270e-02   1.12633159e+03]\n",
      "0.0 [  2.60561941e-04  -1.51557887e-02   1.10869847e+00] [  3.97657452e-05   9.60111407e-03   4.16742687e+00]\n",
      "This is the average radius of curvature of the anes 14494.9651955\n"
     ]
    },
    {
     "name": "stderr",
     "output_type": "stream",
     "text": [
      "\r",
      " 31%|███       | 387/1261 [04:31<10:25,  1.40it/s]"
     ]
    },
    {
     "name": "stdout",
     "output_type": "stream",
     "text": [
      "917.2328807\n",
      "0.0 [ -2.19273169e-06  -5.43674543e-02   2.92847042e+02] [  3.52020169e-05   2.33936074e-02   1.13483809e+03]\n",
      "0.0 [ -1.86925991e-05  -9.65565988e-03   1.08353406e+00] [  3.00090154e-04   4.15470468e-03   4.19890094e+00]\n",
      "This is the average radius of curvature of the anes 28418.5040804\n"
     ]
    },
    {
     "name": "stderr",
     "output_type": "stream",
     "text": [
      "\r",
      " 31%|███       | 388/1261 [04:32<10:26,  1.39it/s]"
     ]
    },
    {
     "name": "stdout",
     "output_type": "stream",
     "text": [
      "915.435624957\n",
      "0.0 [ -1.02398595e-05  -4.37948115e-02   2.90258310e+02] [  4.82485512e-05   8.04493096e-03   1.13818493e+03]\n",
      "0.0 [ -8.72927546e-05  -7.77795852e-03   1.07395575e+00] [  4.11309249e-04   1.42877974e-03   4.21128425e+00]\n",
      "This is the average radius of curvature of the anes 6944.00607916\n"
     ]
    },
    {
     "name": "stderr",
     "output_type": "stream",
     "text": [
      "\r",
      " 31%|███       | 389/1261 [04:32<10:13,  1.42it/s]"
     ]
    },
    {
     "name": "stdout",
     "output_type": "stream",
     "text": [
      "914.385304614\n",
      "0.0 [ -2.28059851e-05  -2.95228347e-02   2.86511134e+02] [  6.29797912e-05  -1.20415807e-02   1.14397952e+03]\n",
      "0.0 [ -1.94416462e-04  -5.24325545e-03   1.06009119e+00] [  5.36890124e-04  -2.13858473e-03   4.23272421e+00]\n",
      "This is the average radius of curvature of the anes 3503.20037664\n"
     ]
    },
    {
     "name": "stderr",
     "output_type": "stream",
     "text": [
      "\r",
      " 31%|███       | 390/1261 [04:33<10:19,  1.41it/s]"
     ]
    },
    {
     "name": "stdout",
     "output_type": "stream",
     "text": [
      "906.005776044\n",
      "0.0 [ -3.46976726e-05  -1.42641148e-02   2.81672289e+02] [  2.41410150e-05   4.20845907e-03   1.14397898e+03]\n",
      "0.0 [ -2.95790719e-04  -2.53330678e-03   1.04218747e+00] [  2.05797324e-04   7.47422331e-04   4.23272222e+00]\n",
      "This is the average radius of curvature of the anes 4119.97748084\n"
     ]
    },
    {
     "name": "stderr",
     "output_type": "stream",
     "text": [
      "\r",
      " 31%|███       | 391/1261 [04:34<10:10,  1.43it/s]"
     ]
    },
    {
     "name": "stdout",
     "output_type": "stream",
     "text": [
      "903.340529414\n",
      "0.0 [ -3.29065694e-05  -9.65256089e-03   2.78241029e+02] [ -8.69702045e-06   3.18357531e-02   1.13923607e+03]\n",
      "0.0 [ -2.80521923e-04  -1.71429481e-03   1.02949181e+00] [ -7.41403599e-05   5.65402974e-03   4.21517345e+00]\n",
      "This is the average radius of curvature of the anes 8526.68824127\n"
     ]
    },
    {
     "name": "stderr",
     "output_type": "stream",
     "text": [
      "\r",
      " 31%|███       | 392/1261 [04:34<10:14,  1.41it/s]"
     ]
    },
    {
     "name": "stdout",
     "output_type": "stream",
     "text": [
      "903.354709021\n",
      "0.0 [ -3.26687438e-05  -3.43531788e-03   2.73938065e+02] [ -2.23545211e-05   4.41429055e-02   1.13775198e+03]\n",
      "0.0 [ -2.78494507e-04  -6.10112455e-04   1.01357084e+00] [ -1.90567822e-04   7.83978002e-03   4.20968233e+00]\n",
      "This is the average radius of curvature of the anes 4419.34825987\n"
     ]
    },
    {
     "name": "stderr",
     "output_type": "stream",
     "text": [
      "\r",
      " 31%|███       | 393/1261 [04:35<10:07,  1.43it/s]"
     ]
    },
    {
     "name": "stdout",
     "output_type": "stream",
     "text": [
      "899.06351506\n",
      "0.0 [ -2.14459806e-05  -9.23001755e-03   2.74208930e+02] [ -5.89901116e-05   8.02767047e-02   1.12832596e+03]\n",
      "0.0 [ -1.82822696e-04  -1.63925112e-03   1.01457304e+00] [ -5.02878903e-04   1.42571427e-02   4.17480607e+00]\n",
      "This is the average radius of curvature of the anes 3729.47955373\n"
     ]
    },
    {
     "name": "stderr",
     "output_type": "stream",
     "text": [
      "\r",
      " 31%|███       | 394/1261 [04:36<10:23,  1.39it/s]"
     ]
    },
    {
     "name": "stdout",
     "output_type": "stream",
     "text": [
      "898.155309352\n",
      "0.0 [ -4.05200003e-06  -2.06980319e-02   2.74249502e+02] [ -6.00604011e-05   8.11190084e-02   1.12815252e+03]\n",
      "0.0 [ -3.45424899e-05  -3.67597047e-03   1.01472316e+00] [ -5.12002907e-04   1.44067359e-02   4.17416432e+00]\n",
      "This is the average radius of curvature of the anes 15452.0808492\n"
     ]
    },
    {
     "name": "stderr",
     "output_type": "stream",
     "text": [
      "\r",
      " 31%|███▏      | 395/1261 [04:37<10:27,  1.38it/s]"
     ]
    },
    {
     "name": "stdout",
     "output_type": "stream",
     "text": [
      "898.725433215\n",
      "0.0 [  1.05155084e-05  -3.09604616e-02   2.74754560e+02] [ -5.04037214e-05   7.69291949e-02   1.12740020e+03]\n",
      "0.0 [  8.96426056e-05  -5.49857799e-03   1.01659187e+00] [ -4.29681644e-04   1.36626250e-02   4.17138073e+00]\n",
      "This is the average radius of curvature of the anes 6741.93591205\n"
     ]
    },
    {
     "name": "stderr",
     "output_type": "stream",
     "text": [
      "\r",
      " 31%|███▏      | 396/1261 [04:37<10:38,  1.35it/s]"
     ]
    },
    {
     "name": "stdout",
     "output_type": "stream",
     "text": [
      "898.848935119\n",
      "0.0 [  1.82605684e-05  -3.72823763e-02   2.74692598e+02] [ -5.65347744e-05   8.47104558e-02   1.12449496e+03]\n",
      "0.0 [  1.55667694e-04  -6.62135003e-03   1.01636261e+00] [ -4.81947645e-04   1.50445770e-02   4.16063136e+00]\n",
      "This is the average radius of curvature of the anes 4249.99080903\n"
     ]
    },
    {
     "name": "stderr",
     "output_type": "stream",
     "text": [
      "\r",
      " 31%|███▏      | 397/1261 [04:38<10:33,  1.36it/s]"
     ]
    },
    {
     "name": "stdout",
     "output_type": "stream",
     "text": [
      "903.857700395\n",
      "0.0 [  1.28144120e-05  -3.28223830e-02   2.72237505e+02] [ -4.01671769e-05   7.59533237e-02   1.12527489e+03]\n",
      "0.0 [  1.09240300e-04  -5.82925523e-03   1.00727877e+00] [ -3.42417150e-04   1.34893103e-02   4.16351708e+00]\n",
      "This is the average radius of curvature of the anes 6037.90453938\n"
     ]
    },
    {
     "name": "stderr",
     "output_type": "stream",
     "text": [
      "\r",
      " 32%|███▏      | 398/1261 [04:39<10:34,  1.36it/s]"
     ]
    },
    {
     "name": "stdout",
     "output_type": "stream",
     "text": [
      "906.944452169\n",
      "0.0 [  1.06856074e-05  -3.14020072e-02   2.70815732e+02] [ -1.96633447e-05   6.02936687e-02   1.12752022e+03]\n",
      "0.0 [  9.10926660e-05  -5.57699648e-03   1.00201821e+00] [ -1.67626081e-04   1.07081556e-02   4.17182481e+00]\n",
      "This is the average radius of curvature of the anes 8472.51460393\n"
     ]
    },
    {
     "name": "stderr",
     "output_type": "stream",
     "text": [
      "\r",
      " 32%|███▏      | 399/1261 [04:39<10:31,  1.36it/s]"
     ]
    },
    {
     "name": "stdout",
     "output_type": "stream",
     "text": [
      "911.346052427\n",
      "0.0 [ -7.76494469e-06  -1.63227860e-02   2.66684493e+02] [  1.28841213e-05   3.23974313e-02   1.13232595e+03]\n",
      "0.0 [ -6.61946005e-05  -2.89892680e-03   9.86732625e-01] [  1.09834557e-04   5.75378380e-03   4.18960601e+00]\n",
      "This is the average radius of curvature of the anes 12106.108784\n"
     ]
    },
    {
     "name": "stderr",
     "output_type": "stream",
     "text": [
      "\r",
      " 32%|███▏      | 400/1261 [04:40<10:26,  1.37it/s]"
     ]
    },
    {
     "name": "stdout",
     "output_type": "stream",
     "text": [
      "912.632111556\n",
      "0.0 [ -1.98719768e-05  -6.58142476e-03   2.64314747e+02] [  2.17740203e-05   2.34051084e-02   1.13385718e+03]\n",
      "0.0 [ -1.69404628e-04  -1.16886104e-03   9.77964563e-01] [  1.85619169e-04   4.15674725e-03   4.19527158e+00]\n",
      "This is the average radius of curvature of the anes 5645.27640837\n"
     ]
    },
    {
     "name": "stderr",
     "output_type": "stream",
     "text": [
      "\r",
      " 32%|███▏      | 401/1261 [04:41<10:10,  1.41it/s]"
     ]
    },
    {
     "name": "stdout",
     "output_type": "stream",
     "text": [
      "914.172773506\n",
      "0.0 [ -3.74850157e-05   8.90972212e-03   2.60239636e+02] [  3.09547187e-05   1.31541686e-02   1.13597998e+03]\n",
      "0.0 [ -3.19552262e-04   1.58236665e-03   9.62886652e-01] [  2.63882786e-04   2.33618034e-03   4.20312592e+00]\n",
      "This is the average radius of curvature of the anes 3459.49133637\n"
     ]
    },
    {
     "name": "stderr",
     "output_type": "stream",
     "text": [
      "\r",
      " 32%|███▏      | 402/1261 [04:42<10:08,  1.41it/s]"
     ]
    },
    {
     "name": "stdout",
     "output_type": "stream",
     "text": [
      "911.679499972\n",
      "0.0 [ -4.46044696e-05   1.52178146e-02   2.58149360e+02] [  9.29256427e-06   2.62902540e-02   1.13400511e+03]\n",
      "0.0 [ -3.80244183e-04   2.70268386e-03   9.55152631e-01] [  7.92172519e-05   4.66914911e-03   4.19581891e+00]\n",
      "This is the average radius of curvature of the anes 7626.92176051\n"
     ]
    },
    {
     "name": "stderr",
     "output_type": "stream",
     "text": [
      "\r",
      " 32%|███▏      | 403/1261 [04:42<10:10,  1.41it/s]"
     ]
    },
    {
     "name": "stdout",
     "output_type": "stream",
     "text": [
      "905.786662007\n",
      "0.0 [ -5.12378354e-05   2.25598494e-02   2.56319929e+02] [ -3.22432847e-05   5.60444958e-02   1.12821169e+03]\n",
      "0.0 [ -4.36792299e-04   4.00662926e-03   9.48383736e-01] [ -2.74867553e-04   9.95350246e-03   4.17438325e+00]\n",
      "This is the average radius of curvature of the anes 2964.06464565\n"
     ]
    },
    {
     "name": "stderr",
     "output_type": "stream",
     "text": [
      "\r",
      " 32%|███▏      | 404/1261 [04:43<09:55,  1.44it/s]"
     ]
    },
    {
     "name": "stdout",
     "output_type": "stream",
     "text": [
      "906.012982813\n",
      "0.0 [ -6.71703463e-05   3.91587390e-02   2.51288947e+02] [ -3.03342284e-05   5.01129332e-02   1.13038303e+03]\n",
      "0.0 [ -5.72613768e-04   6.95459204e-03   9.29769106e-01] [ -2.58593230e-04   8.90005694e-03   4.18241720e+00]\n",
      "This is the average radius of curvature of the anes 2807.02064475\n"
     ]
    },
    {
     "name": "stderr",
     "output_type": "stream",
     "text": [
      "\r",
      " 32%|███▏      | 405/1261 [04:44<10:05,  1.41it/s]"
     ]
    },
    {
     "name": "stdout",
     "output_type": "stream",
     "text": [
      "903.047840389\n",
      "0.0 [ -6.22473309e-05   3.72326537e-02   2.50795976e+02] [ -5.36809936e-05   7.17384470e-02   1.12460569e+03]\n",
      "0.0 [ -5.30646046e-04   6.61251929e-03   9.27945111e-01] [ -4.57619735e-04   1.27407482e-02   4.16104105e+00]\n",
      "This is the average radius of curvature of the anes 2035.18574242\n"
     ]
    },
    {
     "name": "stderr",
     "output_type": "stream",
     "text": [
      "\r",
      " 32%|███▏      | 406/1261 [04:44<10:03,  1.42it/s]"
     ]
    },
    {
     "name": "stdout",
     "output_type": "stream",
     "text": [
      "905.474050986\n",
      "0.0 [ -6.18058288e-05   3.95406875e-02   2.48363031e+02] [ -4.08182903e-05   6.48171764e-02   1.12481355e+03]\n",
      "0.0 [ -5.26882329e-04   7.02242610e-03   9.18943215e-01] [ -3.47967761e-04   1.15115305e-02   4.16181013e+00]\n",
      "This is the average radius of curvature of the anes 2386.24904838\n"
     ]
    },
    {
     "name": "stderr",
     "output_type": "stream",
     "text": [
      "\r",
      " 32%|███▏      | 407/1261 [04:45<10:20,  1.38it/s]"
     ]
    },
    {
     "name": "stdout",
     "output_type": "stream",
     "text": [
      "907.618697695\n",
      "0.0 [ -5.98091415e-05   4.05348624e-02   2.45820185e+02] [ -2.85134714e-05   5.70549915e-02   1.12538227e+03]\n",
      "0.0 [ -5.09860970e-04   7.19899157e-03   9.09534685e-01] [ -2.43071641e-04   1.01329665e-02   4.16391440e+00]\n",
      "This is the average radius of curvature of the anes 3038.05927453\n"
     ]
    },
    {
     "name": "stderr",
     "output_type": "stream",
     "text": [
      "\r",
      " 32%|███▏      | 408/1261 [04:46<10:26,  1.36it/s]"
     ]
    },
    {
     "name": "stdout",
     "output_type": "stream",
     "text": [
      "907.8891804\n",
      "0.0 [ -4.85753196e-05   3.36168662e-02   2.45031315e+02] [ -1.58627748e-05   4.68685356e-02   1.12648143e+03]\n",
      "0.0 [ -4.14094884e-04   5.97035544e-03   9.06615864e-01] [ -1.35226983e-04   8.32385192e-03   4.16798131e+00]\n",
      "This is the average radius of curvature of the anes 4905.38850656\n"
     ]
    },
    {
     "name": "stderr",
     "output_type": "stream",
     "text": [
      "\r",
      " 32%|███▏      | 409/1261 [04:47<10:30,  1.35it/s]"
     ]
    },
    {
     "name": "stdout",
     "output_type": "stream",
     "text": [
      "907.74360709\n",
      "0.0 [ -3.92596391e-05   2.72282003e-02   2.44402442e+02] [ -1.03575987e-05   4.16278675e-02   1.12685146e+03]\n",
      "0.0 [ -3.34680571e-04   4.83572838e-03   9.04289037e-01] [ -8.82964576e-05   7.39310927e-03   4.16935041e+00]\n",
      "This is the average radius of curvature of the anes 7157.21985196\n"
     ]
    },
    {
     "name": "stderr",
     "output_type": "stream",
     "text": [
      "\r",
      " 33%|███▎      | 410/1261 [04:47<10:22,  1.37it/s]"
     ]
    },
    {
     "name": "stdout",
     "output_type": "stream",
     "text": [
      "906.371492041\n",
      "0.0 [ -3.02628955e-05   2.00717914e-02   2.44902875e+02] [ -7.30542193e-06   3.80461647e-02   1.12648267e+03]\n",
      "0.0 [ -2.57985132e-04   3.56475016e-03   9.06140638e-01] [ -6.22772609e-05   6.75699885e-03   4.16798589e+00]\n",
      "This is the average radius of curvature of the anes 9967.2955549\n"
     ]
    },
    {
     "name": "stderr",
     "output_type": "stream",
     "text": [
      "\r",
      " 33%|███▎      | 411/1261 [04:48<10:22,  1.37it/s]"
     ]
    },
    {
     "name": "stdout",
     "output_type": "stream",
     "text": [
      "906.343686483\n",
      "0.0 [ -2.21154125e-05   1.24180249e-02   2.45376498e+02] [  2.08626134e-06   2.79216250e-02   1.12806177e+03]\n",
      "0.0 [ -1.88529468e-04   2.20544123e-03   9.07893044e-01] [  1.77849606e-05   4.95888059e-03   4.17382857e+00]\n",
      "This is the average radius of curvature of the anes 30766.8027141\n"
     ]
    },
    {
     "name": "stderr",
     "output_type": "stream",
     "text": [
      "\r",
      " 33%|███▎      | 412/1261 [04:49<10:17,  1.38it/s]"
     ]
    },
    {
     "name": "stdout",
     "output_type": "stream",
     "text": [
      "905.809915781\n",
      "0.0 [ -1.79054928e-05   8.10972060e-03   2.45494993e+02] [ -1.59092573e-05   4.49620697e-02   1.12377609e+03]\n",
      "0.0 [ -1.52640745e-04   1.44028638e-03   9.08331473e-01] [ -1.35623237e-04   7.98526358e-03   4.15797155e+00]\n",
      "This is the average radius of curvature of the anes 6962.71204061\n"
     ]
    },
    {
     "name": "stderr",
     "output_type": "stream",
     "text": [
      "\r",
      " 33%|███▎      | 413/1261 [04:50<10:10,  1.39it/s]"
     ]
    },
    {
     "name": "stdout",
     "output_type": "stream",
     "text": [
      "906.64910897\n",
      "0.0 [ -9.87132185e-06   7.57329777e-04   2.45807822e+02] [ -3.50940306e-06   3.58829803e-02   1.12391272e+03]\n",
      "0.0 [ -8.41510445e-05   1.34501768e-04   9.09488943e-01] [ -2.99169592e-05   6.37281731e-03   4.15847708e+00]\n",
      "This is the average radius of curvature of the anes 22655.6437007\n"
     ]
    },
    {
     "name": "stderr",
     "output_type": "stream",
     "text": [
      "\r",
      " 33%|███▎      | 414/1261 [04:50<10:14,  1.38it/s]"
     ]
    },
    {
     "name": "stdout",
     "output_type": "stream",
     "text": [
      "905.52803175\n",
      "0.0 [ -4.96309537e-06  -3.88844653e-03   2.45830854e+02] [ -1.08959913e-05   4.04520497e-02   1.12254515e+03]\n",
      "0.0 [ -4.23093954e-05  -6.90588105e-04   9.09574161e-01] [ -9.28861468e-05   7.18428403e-03   4.15341704e+00]\n",
      "This is the average radius of curvature of the anes 17201.0653304\n"
     ]
    },
    {
     "name": "stderr",
     "output_type": "stream",
     "text": [
      "\r",
      " 33%|███▎      | 415/1261 [04:51<10:07,  1.39it/s]"
     ]
    },
    {
     "name": "stdout",
     "output_type": "stream",
     "text": [
      "903.661457863\n",
      "0.0 [ -7.99577673e-06  -2.72059609e-03   2.45732959e+02] [ -2.83776490e-05   6.20848897e-02   1.11333591e+03]\n",
      "0.0 [ -6.81623974e-05  -4.83177866e-04   9.09211949e-01] [ -2.41913782e-04   1.10262764e-02   4.11934285e+00]\n",
      "This is the average radius of curvature of the anes 9402.65431162\n"
     ]
    },
    {
     "name": "stderr",
     "output_type": "stream",
     "text": [
      "\r",
      " 33%|███▎      | 416/1261 [04:52<10:15,  1.37it/s]"
     ]
    },
    {
     "name": "stdout",
     "output_type": "stream",
     "text": [
      "902.58893473\n",
      "0.0 [ -8.76724001e-06  -6.19559527e-03   2.46029050e+02] [ -4.60415339e-05   7.04683964e-02   1.11276593e+03]\n",
      "0.0 [ -7.47389677e-05  -1.10033772e-03   9.10307487e-01] [ -3.92494868e-04   1.25151872e-02   4.11723395e+00]\n",
      "This is the average radius of curvature of the anes 7964.16404377\n"
     ]
    },
    {
     "name": "stderr",
     "output_type": "stream",
     "text": [
      "\r",
      " 33%|███▎      | 417/1261 [04:52<10:10,  1.38it/s]"
     ]
    },
    {
     "name": "stdout",
     "output_type": "stream",
     "text": [
      "900.844610069\n",
      "0.0 [ -1.61288453e-05  -3.10644113e-03   2.45746846e+02] [ -7.01796363e-05   9.02080291e-02   1.10744050e+03]\n",
      "0.0 [ -1.37495180e-04  -5.51703945e-04   9.09263329e-01] [ -5.98267364e-04   1.60209460e-02   4.09752986e+00]\n",
      "This is the average radius of curvature of the anes 4472.56129618\n"
     ]
    },
    {
     "name": "stderr",
     "output_type": "stream",
     "text": [
      "\r",
      " 33%|███▎      | 418/1261 [04:53<10:28,  1.34it/s]"
     ]
    },
    {
     "name": "stdout",
     "output_type": "stream",
     "text": [
      "905.662973607\n",
      "0.0 [ -2.18380395e-05  -1.95816739e-03   2.45710854e+02] [ -5.37387131e-05   8.19119904e-02   1.10756259e+03]\n",
      "0.0 [ -1.86164919e-04  -3.47770528e-04   9.09130160e-01] [ -4.58111782e-04   1.45475695e-02   4.09798158e+00]\n",
      "This is the average radius of curvature of the anes 3777.57430552\n"
     ]
    },
    {
     "name": "stderr",
     "output_type": "stream",
     "text": [
      "\r",
      " 33%|███▎      | 419/1261 [04:54<10:29,  1.34it/s]"
     ]
    },
    {
     "name": "stdout",
     "output_type": "stream",
     "text": [
      "912.276443875\n",
      "0.0 [ -2.73914063e-05   5.09556084e-04   2.45030737e+02] [ -1.29258455e-05   5.63808645e-02   1.10965758e+03]\n",
      "0.0 [ -2.33506260e-04   9.04971605e-05   9.06613728e-01] [ -1.10190247e-04   1.00132415e-02   4.10573304e+00]\n",
      "This is the average radius of curvature of the anes 6679.55935837\n"
     ]
    },
    {
     "name": "stderr",
     "output_type": "stream",
     "text": [
      "\r",
      " 33%|███▎      | 420/1261 [04:55<10:33,  1.33it/s]"
     ]
    },
    {
     "name": "stdout",
     "output_type": "stream",
     "text": [
      "911.122342878\n",
      "0.0 [ -2.36583336e-05  -1.68708330e-03   2.45213766e+02] [ -5.04421991e-06   4.97732842e-02   1.10971333e+03]\n",
      "0.0 [ -2.01682562e-04  -2.99625994e-04   9.07290935e-01] [ -4.30009659e-05   8.83973528e-03   4.10593934e+00]\n",
      "This is the average radius of curvature of the anes 14108.152486\n"
     ]
    },
    {
     "name": "stderr",
     "output_type": "stream",
     "text": [
      "\r",
      " 33%|███▎      | 421/1261 [04:55<10:26,  1.34it/s]"
     ]
    },
    {
     "name": "stdout",
     "output_type": "stream",
     "text": [
      "910.68734938\n",
      "0.0 [ -2.25073813e-05  -3.14005336e-03   2.45365009e+02] [  6.38944112e-06   4.02667159e-02   1.10990436e+03]\n",
      "0.0 [ -1.91870924e-04  -5.57673477e-04   9.07850533e-01] [  5.44687077e-05   7.15136874e-03   4.10664614e+00]\n",
      "This is the average radius of curvature of the anes 11786.2065406\n"
     ]
    },
    {
     "name": "stderr",
     "output_type": "stream",
     "text": [
      "\r",
      " 33%|███▎      | 422/1261 [04:56<10:22,  1.35it/s]"
     ]
    },
    {
     "name": "stdout",
     "output_type": "stream",
     "text": [
      "907.521192563\n",
      "0.0 [ -1.55413616e-05  -7.03301634e-03   2.45748990e+02] [  9.44139261e-06   3.90561006e-02   1.10721700e+03]\n",
      "0.0 [ -1.32487000e-04  -1.24906370e-03   9.09271262e-01] [  8.04859837e-05   6.93636347e-03   4.09670289e+00]\n",
      "This is the average radius of curvature of the anes 9986.67413782\n"
     ]
    },
    {
     "name": "stderr",
     "output_type": "stream",
     "text": [
      "\r",
      " 34%|███▎      | 423/1261 [04:57<10:17,  1.36it/s]"
     ]
    },
    {
     "name": "stdout",
     "output_type": "stream",
     "text": [
      "908.345210995\n",
      "0.0 [ -2.42719917e-05  -2.94541302e-03   2.45413120e+02] [  2.57260963e-05   2.19358842e-02   1.11002162e+03]\n",
      "0.0 [ -2.06913874e-04  -5.23105353e-04   9.08028543e-01] [  2.19309825e-04   3.89581304e-03   4.10707998e+00]\n",
      "This is the average radius of curvature of the anes 4696.39685444\n"
     ]
    },
    {
     "name": "stderr",
     "output_type": "stream",
     "text": [
      "\r",
      " 34%|███▎      | 424/1261 [04:58<10:18,  1.35it/s]"
     ]
    },
    {
     "name": "stdout",
     "output_type": "stream",
     "text": [
      "909.68468859\n",
      "0.0 [ -3.72758774e-05   5.42230137e-03   2.44044258e+02] [  5.34349013e-05  -6.63936918e-03   1.11550735e+03]\n",
      "0.0 [ -3.17769400e-04   9.63000724e-04   9.02963754e-01] [  4.55521847e-04  -1.17915197e-03   4.12737720e+00]\n",
      "This is the average radius of curvature of the anes 2671.11473167\n"
     ]
    },
    {
     "name": "stderr",
     "output_type": "stream",
     "text": [
      "\r",
      " 34%|███▎      | 425/1261 [04:58<10:12,  1.36it/s]"
     ]
    },
    {
     "name": "stdout",
     "output_type": "stream",
     "text": [
      "907.805223176\n",
      "0.0 [ -4.48214895e-05   1.10366036e-02   2.42854069e+02] [  5.80148626e-05  -1.67907357e-02   1.11750477e+03]\n",
      "0.0 [ -3.82094234e-04   1.96010079e-03   8.98560055e-01] [  4.94565101e-04  -2.98203465e-03   4.13476763e+00]\n",
      "This is the average radius of curvature of the anes 2319.58799155\n"
     ]
    },
    {
     "name": "stderr",
     "output_type": "stream",
     "text": [
      "\r",
      " 34%|███▍      | 426/1261 [04:59<10:07,  1.37it/s]"
     ]
    },
    {
     "name": "stdout",
     "output_type": "stream",
     "text": [
      "908.953311236\n",
      "0.0 [ -5.57247357e-05   2.37015439e-02   2.37205557e+02] [  4.97168504e-05  -1.06777878e-02   1.11636842e+03]\n",
      "0.0 [ -4.75042227e-04   4.20939420e-03   8.77660562e-01] [  4.23826206e-04  -1.89637511e-03   4.13056315e+00]\n",
      "This is the average radius of curvature of the anes 2232.30119193\n"
     ]
    },
    {
     "name": "stderr",
     "output_type": "stream",
     "text": [
      "\r",
      " 34%|███▍      | 427/1261 [05:00<10:03,  1.38it/s]"
     ]
    },
    {
     "name": "stdout",
     "output_type": "stream",
     "text": [
      "902.644059102\n",
      "0.0 [ -6.12039945e-05   3.03479175e-02   2.34543483e+02] [ -3.75379630e-06   2.67519587e-02   1.11007352e+03]\n",
      "0.0 [ -5.21751812e-04   5.38979014e-03   8.67810886e-01] [ -3.20003627e-05   4.75114786e-03   4.10727204e+00]\n",
      "This is the average radius of curvature of the anes 16583.7037823\n"
     ]
    },
    {
     "name": "stderr",
     "output_type": "stream",
     "text": [
      "\r",
      " 34%|███▍      | 428/1261 [05:01<09:54,  1.40it/s]"
     ]
    },
    {
     "name": "stdout",
     "output_type": "stream",
     "text": [
      "900.737513145\n",
      "0.0 [ -7.00699394e-05   3.95573381e-02   2.31475708e+02] [ -3.20390736e-05   4.84494083e-02   1.10615935e+03]\n",
      "0.0 [ -5.97332220e-04   7.02538324e-03   8.56460121e-01] [ -2.73126695e-04   8.60461491e-03   4.09278959e+00]\n",
      "This is the average radius of curvature of the anes 2667.97267357\n"
     ]
    },
    {
     "name": "stderr",
     "output_type": "stream",
     "text": [
      "\r",
      " 34%|███▍      | 429/1261 [05:01<09:55,  1.40it/s]"
     ]
    },
    {
     "name": "stdout",
     "output_type": "stream",
     "text": [
      "899.007853555\n",
      "0.0 [ -6.94889257e-05   4.05095688e-02   2.30492950e+02] [ -5.77219392e-05   7.40116853e-02   1.09932971e+03]\n",
      "0.0 [ -5.92379194e-04   7.19449942e-03   8.52823915e-01] [ -4.92067988e-04   1.31444753e-02   4.06751992e+00]\n",
      "This is the average radius of curvature of the anes 1860.5025903\n"
     ]
    },
    {
     "name": "stderr",
     "output_type": "stream",
     "text": [
      "\r",
      " 34%|███▍      | 430/1261 [05:02<09:47,  1.41it/s]"
     ]
    },
    {
     "name": "stdout",
     "output_type": "stream",
     "text": [
      "900.659912506\n",
      "0.0 [ -6.48794748e-05   3.78520815e-02   2.29819146e+02] [ -4.58781576e-05   6.74070808e-02   1.09940607e+03]\n",
      "0.0 [ -5.53084546e-04   6.72252967e-03   8.50330840e-01] [ -3.91102118e-04   1.19714975e-02   4.06780247e+00]\n",
      "This is the average radius of curvature of the anes 2182.79553281\n"
     ]
    },
    {
     "name": "stderr",
     "output_type": "stream",
     "text": [
      "\r",
      " 34%|███▍      | 431/1261 [05:03<09:53,  1.40it/s]"
     ]
    },
    {
     "name": "stdout",
     "output_type": "stream",
     "text": [
      "905.665440077\n",
      "0.0 [ -5.80118516e-05   3.64839839e-02   2.26037927e+02] [ -1.46081469e-05   4.67382443e-02   1.10189253e+03]\n",
      "0.0 [ -4.94539433e-04   6.47955554e-03   8.36340329e-01] [ -1.24531530e-04   8.30071218e-03   4.07700236e+00]\n",
      "This is the average radius of curvature of the anes 5026.56778715\n"
     ]
    },
    {
     "name": "stderr",
     "output_type": "stream",
     "text": [
      "\r",
      " 34%|███▍      | 432/1261 [05:03<09:45,  1.41it/s]"
     ]
    },
    {
     "name": "stdout",
     "output_type": "stream",
     "text": [
      "906.887908372\n",
      "0.0 [ -5.10799643e-05   3.31670072e-02   2.24294702e+02] [ -7.30492192e-06   4.13058038e-02   1.10270083e+03]\n",
      "0.0 [ -4.35446480e-04   5.89046047e-03   8.29890397e-01] [ -6.22729984e-05   7.33591075e-03   4.07999306e+00]\n",
      "This is the average radius of curvature of the anes 9178.11677809\n"
     ]
    },
    {
     "name": "stderr",
     "output_type": "stream",
     "text": [
      "\r",
      " 34%|███▍      | 433/1261 [05:04<09:55,  1.39it/s]"
     ]
    },
    {
     "name": "stdout",
     "output_type": "stream",
     "text": [
      "910.715076046\n",
      "0.0 [ -5.40229760e-05   4.18782383e-02   2.17481123e+02] [  1.02866296e-05   2.19634216e-02   1.10926939e+03]\n",
      "0.0 [ -4.60535066e-04   7.43757512e-03   8.04680155e-01] [  8.76914603e-05   3.90070367e-03   4.10429676e+00]\n",
      "This is the average radius of curvature of the anes 6787.72336103\n"
     ]
    },
    {
     "name": "stderr",
     "output_type": "stream",
     "text": [
      "\r",
      " 34%|███▍      | 434/1261 [05:05<09:48,  1.40it/s]"
     ]
    },
    {
     "name": "stdout",
     "output_type": "stream",
     "text": [
      "911.247925565\n",
      "0.0 [ -4.76552711e-05   3.85085366e-02   2.16054319e+02] [  2.57413814e-05   7.37691401e-03   1.11174267e+03]\n",
      "0.0 [ -4.06251655e-04   6.83911609e-03   7.99400980e-01] [  2.19440128e-04   1.31013993e-03   4.11344789e+00]\n",
      "This is the average radius of curvature of the anes 3509.38226203\n"
     ]
    },
    {
     "name": "stderr",
     "output_type": "stream",
     "text": [
      "\r",
      " 34%|███▍      | 435/1261 [05:06<09:57,  1.38it/s]"
     ]
    },
    {
     "name": "stdout",
     "output_type": "stream",
     "text": [
      "911.512060106\n",
      "0.0 [ -4.26039161e-05   3.51094177e-02   2.15364677e+02] [  4.68333933e-05  -1.37173516e-02   1.11574758e+03]\n",
      "0.0 [ -3.63189864e-04   6.23543259e-03   7.96849305e-01] [  3.99245311e-04  -2.43620164e-03   4.12826606e+00]\n",
      "This is the average radius of curvature of the anes 2629.14470216\n"
     ]
    },
    {
     "name": "stderr",
     "output_type": "stream",
     "text": [
      "\r",
      " 35%|███▍      | 436/1261 [05:06<09:49,  1.40it/s]"
     ]
    },
    {
     "name": "stdout",
     "output_type": "stream",
     "text": [
      "911.14183166\n",
      "0.0 [ -4.39076699e-05   3.52156454e-02   2.15287249e+02] [  6.74008816e-05  -3.64124241e-02   1.12038748e+03]\n",
      "0.0 [ -3.74304105e-04   6.25429862e-03   7.96562823e-01] [  5.74579035e-04  -6.46684653e-03   4.14543369e+00]\n",
      "This is the average radius of curvature of the anes 2206.14749826\n"
     ]
    },
    {
     "name": "stderr",
     "output_type": "stream",
     "text": [
      "\r",
      " 35%|███▍      | 437/1261 [05:07<09:52,  1.39it/s]"
     ]
    },
    {
     "name": "stdout",
     "output_type": "stream",
     "text": [
      "909.159238065\n",
      "0.0 [ -3.89823540e-05   3.22301135e-02   2.15697536e+02] [  5.44115108e-05  -2.16128011e-02   1.11528884e+03]\n",
      "0.0 [ -3.32316772e-04   5.72406816e-03   7.98080884e-01] [  4.63847247e-04  -3.83843347e-03   4.12656872e+00]\n",
      "This is the average radius of curvature of the anes 2582.6273651\n"
     ]
    },
    {
     "name": "stderr",
     "output_type": "stream",
     "text": [
      "\r",
      " 35%|███▍      | 438/1261 [05:08<09:49,  1.40it/s]"
     ]
    },
    {
     "name": "stdout",
     "output_type": "stream",
     "text": [
      "905.63871956\n",
      "0.0 [ -4.27241645e-05   3.32354428e-02   2.15663085e+02] [  2.94768036e-05  -8.09914812e-03   1.11369629e+03]\n",
      "0.0 [ -3.64214958e-04   5.90261465e-03   7.97953416e-01] [  2.51283856e-04  -1.43840871e-03   4.12067628e+00]\n",
      "This is the average radius of curvature of the anes 3362.67521743\n"
     ]
    },
    {
     "name": "stderr",
     "output_type": "stream",
     "text": [
      "\r",
      " 35%|███▍      | 439/1261 [05:08<09:55,  1.38it/s]"
     ]
    },
    {
     "name": "stdout",
     "output_type": "stream",
     "text": [
      "899.858220507\n",
      "0.0 [ -3.78487571e-05   3.02272044e-02   2.16075997e+02] [ -2.44491359e-05   4.12390017e-02   1.10108965e+03]\n",
      "0.0 [ -3.22653084e-04   5.36835149e-03   7.99481187e-01] [ -2.08423994e-04   7.32404670e-03   4.07403172e+00]\n",
      "This is the average radius of curvature of the anes 3948.86806994\n"
     ]
    },
    {
     "name": "stderr",
     "output_type": "stream",
     "text": [
      "\r",
      " 35%|███▍      | 440/1261 [05:09<09:48,  1.40it/s]"
     ]
    },
    {
     "name": "stdout",
     "output_type": "stream",
     "text": [
      "894.96936503\n",
      "0.0 [ -2.52909112e-05   2.10470945e-02   2.17682414e+02] [ -6.17858814e-05   8.22896588e-02   1.08748485e+03]\n",
      "0.0 [ -2.15599960e-04   3.73796398e-03   8.05424930e-01] [ -5.26712282e-04   1.46146434e-02   4.02369395e+00]\n",
      "This is the average radius of curvature of the anes 3268.74752046\n"
     ]
    },
    {
     "name": "stderr",
     "output_type": "stream",
     "text": [
      "\r",
      " 35%|███▍      | 441/1261 [05:10<09:52,  1.38it/s]"
     ]
    },
    {
     "name": "stdout",
     "output_type": "stream",
     "text": [
      "895.217212414\n",
      "0.0 [ -1.58984021e-05   1.19104173e-02   2.19630319e+02] [ -7.45632174e-05   9.80544937e-02   1.08323736e+03]\n",
      "0.0 [ -1.35530699e-04   2.11529012e-03   8.12632180e-01] [ -6.35636516e-04   1.74144781e-02   4.00797824e+00]\n",
      "This is the average radius of curvature of the anes 4476.1967828\n"
     ]
    },
    {
     "name": "stderr",
     "output_type": "stream",
     "text": [
      "\r",
      " 35%|███▌      | 442/1261 [05:11<09:51,  1.38it/s]"
     ]
    },
    {
     "name": "stdout",
     "output_type": "stream",
     "text": [
      "895.12558013\n",
      "0.0 [ -1.41606245e-05   9.08178289e-03   2.20205135e+02] [ -8.10476151e-05   1.01824131e-01   1.08318268e+03]\n",
      "0.0 [ -1.20716492e-04   1.61292464e-03   8.14759000e-01] [ -6.90914709e-04   1.80839657e-02   4.00777591e+00]\n",
      "This is the average radius of curvature of the anes 4865.98565514\n"
     ]
    },
    {
     "name": "stderr",
     "output_type": "stream",
     "text": [
      "\r",
      " 35%|███▌      | 443/1261 [05:11<10:01,  1.36it/s]"
     ]
    },
    {
     "name": "stdout",
     "output_type": "stream",
     "text": [
      "904.862377528\n",
      "0.0 [ -8.95573624e-06  -1.21874259e-04   2.20879668e+02] [ -4.31330025e-05   7.08426246e-02   1.09238688e+03]\n",
      "0.0 [ -7.63458603e-05  -2.16448685e-05   8.17254772e-01] [ -3.67700219e-04   1.25816501e-02   4.04183147e+00]\n",
      "This is the average radius of curvature of the anes 7909.26984374\n"
     ]
    },
    {
     "name": "stderr",
     "output_type": "stream",
     "text": [
      "\r",
      " 35%|███▌      | 444/1261 [05:12<10:03,  1.35it/s]"
     ]
    },
    {
     "name": "stdout",
     "output_type": "stream",
     "text": [
      "910.943591586\n",
      "0.0 [ -1.10978612e-05  -1.57934712e-03   2.20528404e+02] [ -2.08155303e-05   5.50550728e-02   1.09577550e+03]\n",
      "0.0 [ -9.46070470e-05  -2.80492048e-04   8.15955096e-01] [ -1.77448233e-04   9.77778093e-03   4.05436936e+00]\n",
      "This is the average radius of curvature of the anes 8103.14647039\n"
     ]
    },
    {
     "name": "stderr",
     "output_type": "stream",
     "text": [
      "\r",
      " 35%|███▌      | 445/1261 [05:13<10:04,  1.35it/s]"
     ]
    },
    {
     "name": "stdout",
     "output_type": "stream",
     "text": [
      "914.173803879\n",
      "0.0 [  3.03555701e-06  -1.57766196e-02   2.21293171e+02] [ -1.55562319e-05   4.68869984e-02   1.10002306e+03]\n",
      "0.0 [  2.58775164e-05  -2.80192763e-03   8.18784731e-01] [ -1.32613765e-04   8.32713092e-03   4.07008533e+00]\n",
      "This is the average radius of curvature of the anes 23092.7597729\n"
     ]
    },
    {
     "name": "stderr",
     "output_type": "stream",
     "text": [
      "\r",
      " 35%|███▌      | 446/1261 [05:14<10:12,  1.33it/s]"
     ]
    },
    {
     "name": "stdout",
     "output_type": "stream",
     "text": [
      "915.662295862\n",
      "0.0 [  1.99032260e-06  -1.79976048e-02   2.21489815e+02] [ -1.09242682e-06   3.21123990e-02   1.10271668e+03]\n",
      "0.0 [  1.69671021e-05  -3.19637461e-03   8.19512315e-01] [ -9.31272019e-06   5.70316206e-03   4.08005171e+00]\n",
      "This is the average radius of curvature of the anes 83161.8686728\n"
     ]
    },
    {
     "name": "stderr",
     "output_type": "stream",
     "text": [
      "\r",
      " 35%|███▌      | 447/1261 [05:14<10:05,  1.34it/s]"
     ]
    },
    {
     "name": "stdout",
     "output_type": "stream",
     "text": [
      "913.665552516\n",
      "0.0 [  9.53327635e-06  -2.51903663e-02   2.22944758e+02] [  8.96081640e-06   2.39220356e-02   1.10159443e+03]\n",
      "0.0 [  8.12692743e-05  -4.47380906e-03   8.24895603e-01] [  7.63891677e-05   4.24855352e-03   4.07589940e+00]\n",
      "This is the average radius of curvature of the anes 12698.1792618\n"
     ]
    },
    {
     "name": "stderr",
     "output_type": "stream",
     "text": [
      "\r",
      " 36%|███▌      | 448/1261 [05:15<09:52,  1.37it/s]"
     ]
    },
    {
     "name": "stdout",
     "output_type": "stream",
     "text": [
      "915.883605036\n",
      "0.0 [  5.99051031e-06  -2.47163868e-02   2.23112064e+02] [  2.91025834e-05   7.25469516e-03   1.10406042e+03]\n",
      "0.0 [  5.10679022e-05  -4.38963030e-03   8.25514635e-01] [  2.48093703e-04   1.28843386e-03   4.08502355e+00]\n",
      "This is the average radius of curvature of the anes 11806.5413831\n"
     ]
    },
    {
     "name": "stderr",
     "output_type": "stream",
     "text": [
      "\r",
      " 36%|███▌      | 449/1261 [05:16<09:45,  1.39it/s]"
     ]
    },
    {
     "name": "stdout",
     "output_type": "stream",
     "text": [
      "912.905135684\n",
      "0.0 [  1.99599518e-05  -3.91121668e-02   2.26265983e+02] [ -1.85662741e-06   3.43707466e-02   1.09761522e+03]\n",
      "0.0 [  1.70154597e-04  -6.94632083e-03   8.37184137e-01] [ -1.58273774e-05   6.10424459e-03   4.06117633e+00]\n",
      "This is the average radius of curvature of the anes 34531.3134102\n"
     ]
    },
    {
     "name": "stderr",
     "output_type": "stream",
     "text": [
      "\r",
      " 36%|███▌      | 450/1261 [05:16<09:45,  1.38it/s]"
     ]
    },
    {
     "name": "stdout",
     "output_type": "stream",
     "text": [
      "909.90689746\n",
      "0.0 [  1.78508390e-05  -4.06436421e-02   2.27044295e+02] [ -4.25529746e-05   6.61349997e-02   1.09140377e+03]\n",
      "0.0 [  1.52174832e-04  -7.21831083e-03   8.40063893e-01] [ -3.62755598e-04   1.17455759e-02   4.03819393e+00]\n",
      "This is the average radius of curvature of the anes 4664.57496324\n"
     ]
    },
    {
     "name": "stderr",
     "output_type": "stream",
     "text": [
      "\r",
      " 36%|███▌      | 451/1261 [05:17<09:35,  1.41it/s]"
     ]
    },
    {
     "name": "stdout",
     "output_type": "stream",
     "text": [
      "910.405068956\n",
      "0.0 [  1.43625496e-05  -4.12806510e-02   2.27727139e+02] [ -6.03368927e-05   8.31758781e-02   1.08726466e+03]\n",
      "0.0 [  1.22437863e-04  -7.33144361e-03   8.42590414e-01] [ -5.14359943e-04   1.47720360e-02   4.02287925e+00]\n",
      "This is the average radius of curvature of the anes 5056.43345966\n"
     ]
    },
    {
     "name": "stderr",
     "output_type": "stream",
     "text": [
      "\r",
      " 36%|███▌      | 452/1261 [05:18<09:41,  1.39it/s]"
     ]
    },
    {
     "name": "stdout",
     "output_type": "stream",
     "text": [
      "912.656353426\n",
      "0.0 [  1.40553145e-05  -4.38853088e-02   2.28689709e+02] [ -5.94603480e-05   8.55397808e-02   1.08629415e+03]\n",
      "0.0 [  1.19818745e-04  -7.79403084e-03   8.46151923e-01] [ -5.06887575e-04   1.51918651e-02   4.01928837e+00]\n",
      "This is the average radius of curvature of the anes 5160.10353733\n"
     ]
    },
    {
     "name": "stderr",
     "output_type": "stream",
     "text": [
      "\r",
      " 36%|███▌      | 453/1261 [05:19<09:35,  1.40it/s]"
     ]
    },
    {
     "name": "stdout",
     "output_type": "stream",
     "text": [
      "916.976823673\n",
      "0.0 [  5.83874469e-06  -4.00738465e-02   2.28426525e+02] [ -4.21272885e-05   6.84070230e-02   1.09220217e+03]\n",
      "0.0 [  4.97741307e-05  -7.11711514e-03   8.45178143e-01] [ -3.59126709e-04   1.21490873e-02   4.04114804e+00]\n",
      "This is the average radius of curvature of the anes 11438.7166263\n"
     ]
    },
    {
     "name": "stderr",
     "output_type": "stream",
     "text": [
      "\r",
      " 36%|███▌      | 454/1261 [05:19<09:44,  1.38it/s]"
     ]
    },
    {
     "name": "stdout",
     "output_type": "stream",
     "text": [
      "918.521377603\n",
      "0.0 [  2.97943374e-05  -6.15849121e-02   2.32877732e+02] [ -2.35075107e-05   5.90909007e-02   1.09218818e+03]\n",
      "0.0 [  2.53990767e-04  -1.09374804e-02   8.61647609e-01] [ -2.00396827e-04   1.04945440e-02   4.04109626e+00]\n",
      "This is the average radius of curvature of the anes 4464.39043729\n"
     ]
    },
    {
     "name": "stderr",
     "output_type": "stream",
     "text": [
      "\r",
      " 36%|███▌      | 455/1261 [05:20<09:39,  1.39it/s]"
     ]
    },
    {
     "name": "stdout",
     "output_type": "stream",
     "text": [
      "921.142357282\n",
      "0.0 [  4.04286954e-05  -7.32317710e-02   2.35982183e+02] [ -3.70479663e-06   4.75568212e-02   1.09309284e+03]\n",
      "0.0 [  3.44646543e-04  -1.30059625e-02   8.73134077e-01] [ -3.15826503e-05   8.44609145e-03   4.04444350e+00]\n",
      "This is the average radius of curvature of the anes 17284.3008261\n"
     ]
    },
    {
     "name": "stderr",
     "output_type": "stream",
     "text": [
      "\r",
      " 36%|███▌      | 456/1261 [05:21<09:40,  1.39it/s]"
     ]
    },
    {
     "name": "stdout",
     "output_type": "stream",
     "text": [
      "923.132286288\n",
      "0.0 [  4.74936874e-05  -8.23437839e-02   2.38939725e+02] [  1.12644830e-05   3.79719537e-02   1.09429408e+03]\n",
      "0.0 [  4.04874186e-04  -1.46242560e-02   8.84076981e-01] [  9.60274648e-05   6.74381897e-03   4.04888810e+00]\n",
      "This is the average radius of curvature of the anes 6442.54664384\n"
     ]
    },
    {
     "name": "stderr",
     "output_type": "stream",
     "text": [
      "\r",
      " 36%|███▌      | 457/1261 [05:21<09:46,  1.37it/s]"
     ]
    },
    {
     "name": "stdout",
     "output_type": "stream",
     "text": [
      "919.955184126\n",
      "0.0 [  5.07463813e-05  -8.58717222e-02   2.41137134e+02] [ -1.80222803e-05   6.19012971e-02   1.09039423e+03]\n",
      "0.0 [  4.32602752e-04  -1.52508179e-02   8.92207398e-01] [ -1.53636335e-04   1.09936704e-02   4.03445867e+00]\n",
      "This is the average radius of curvature of the anes 4411.22653201\n"
     ]
    },
    {
     "name": "stderr",
     "output_type": "stream",
     "text": [
      "\r",
      " 36%|███▋      | 458/1261 [05:22<09:34,  1.40it/s]"
     ]
    },
    {
     "name": "stdout",
     "output_type": "stream",
     "text": [
      "920.439492903\n",
      "0.0 [  5.31544503e-05  -8.77063503e-02   2.42745491e+02] [  7.62689684e-06   4.06743764e-02   1.09441521e+03]\n",
      "0.0 [  4.53131058e-04  -1.55766478e-02   8.98158318e-01] [  6.50177702e-05   7.22376925e-03   4.04933628e+00]\n",
      "This is the average radius of curvature of the anes 8794.64238237\n"
     ]
    },
    {
     "name": "stderr",
     "output_type": "stream",
     "text": [
      "\r",
      " 36%|███▋      | 459/1261 [05:23<09:32,  1.40it/s]"
     ]
    },
    {
     "name": "stdout",
     "output_type": "stream",
     "text": [
      "916.795595933\n",
      "0.0 [  4.47090012e-05  -8.55106166e-02   2.47228727e+02] [  6.04094205e-06   3.83795014e-02   1.09493721e+03]\n",
      "0.0 [  3.81135294e-04  -1.51866855e-02   9.14746291e-01] [  5.14978228e-05   6.81619945e-03   4.05126767e+00]\n",
      "This is the average radius of curvature of the anes 11022.1489526\n"
     ]
    },
    {
     "name": "stderr",
     "output_type": "stream",
     "text": [
      "\r",
      " 36%|███▋      | 460/1261 [05:24<09:17,  1.44it/s]"
     ]
    },
    {
     "name": "stdout",
     "output_type": "stream",
     "text": [
      "915.600774595\n",
      "0.0 [  5.11895945e-05  -9.45947310e-02   2.51157282e+02] [  2.77495631e-06   4.06626773e-02   1.09453646e+03]\n",
      "0.0 [  4.36381056e-04  -1.68000242e-02   9.29281942e-01] [  2.36559476e-05   7.22169150e-03   4.04978490e+00]\n",
      "This is the average radius of curvature of the anes 22284.2598388\n"
     ]
    },
    {
     "name": "stderr",
     "output_type": "stream",
     "text": [
      "\r",
      " 37%|███▋      | 461/1261 [05:24<09:17,  1.43it/s]"
     ]
    },
    {
     "name": "stdout",
     "output_type": "stream",
     "text": [
      "910.572852327\n",
      "0.0 [  6.33215349e-05  -1.05525774e-01   2.54199337e+02] [ -1.40577827e-05   4.86001780e-02   1.09395772e+03]\n",
      "0.0 [  5.39803421e-04  -1.87413775e-02   9.40537548e-01] [ -1.19839786e-04   8.63139162e-03   4.04764356e+00]\n",
      "This is the average radius of curvature of the anes 5099.4545236\n"
     ]
    },
    {
     "name": "stderr",
     "output_type": "stream",
     "text": [
      "\r",
      " 37%|███▋      | 462/1261 [05:25<09:08,  1.46it/s]"
     ]
    },
    {
     "name": "stdout",
     "output_type": "stream",
     "text": [
      "909.966566873\n",
      "0.0 [  5.93823710e-05  -1.03833358e-01   2.54383957e+02] [ -2.89265555e-05   5.43262699e-02   1.09628602e+03]\n",
      "0.0 [  5.06222836e-04  -1.84408044e-02   9.41220640e-01] [ -2.46593101e-04   9.64834554e-03   4.05625828e+00]\n",
      "This is the average radius of curvature of the anes 3016.12607148\n"
     ]
    },
    {
     "name": "stderr",
     "output_type": "stream",
     "text": [
      "\r",
      " 37%|███▋      | 463/1261 [05:26<09:19,  1.43it/s]"
     ]
    },
    {
     "name": "stdout",
     "output_type": "stream",
     "text": [
      "911.65640013\n",
      "0.0 [  5.43112603e-05  -1.00900271e-01   2.54125279e+02] [ -3.59029084e-05   5.22274392e-02   1.10232006e+03]\n",
      "0.0 [  4.62992631e-04  -1.79198882e-02   9.40263532e-01] [ -3.06065113e-04   9.27559320e-03   4.07858423e+00]\n",
      "This is the average radius of curvature of the anes 2714.30116321\n"
     ]
    },
    {
     "name": "stderr",
     "output_type": "stream",
     "text": [
      "\r",
      " 37%|███▋      | 464/1261 [05:26<09:18,  1.43it/s]"
     ]
    },
    {
     "name": "stdout",
     "output_type": "stream",
     "text": [
      "909.90635693\n",
      "0.0 [  5.05531575e-05  -9.79579444e-02   2.54689880e+02] [ -4.98201846e-05   6.40294220e-02   1.10001642e+03]\n",
      "0.0 [  4.30955557e-04  -1.73973309e-02   9.42352554e-01] [ -4.24707109e-04   1.13716254e-02   4.07006077e+00]\n",
      "This is the average radius of curvature of the anes 2338.24950373\n"
     ]
    },
    {
     "name": "stderr",
     "output_type": "stream",
     "text": [
      "\r",
      " 37%|███▋      | 465/1261 [05:27<09:28,  1.40it/s]"
     ]
    },
    {
     "name": "stdout",
     "output_type": "stream",
     "text": [
      "911.334544246\n",
      "0.0 [  4.32265333e-05  -9.30445796e-02   2.54926145e+02] [ -4.58122634e-05   6.31097262e-02   1.10001533e+03]\n",
      "0.0 [  3.68497551e-04  -1.65247173e-02   9.43226735e-01] [ -3.90540383e-04   1.12082874e-02   4.07005671e+00]\n",
      "This is the average radius of curvature of the anes 2637.93552147\n"
     ]
    },
    {
     "name": "stderr",
     "output_type": "stream",
     "text": [
      "\r",
      " 37%|███▋      | 466/1261 [05:28<09:25,  1.41it/s]"
     ]
    },
    {
     "name": "stdout",
     "output_type": "stream",
     "text": [
      "912.460880305\n",
      "0.0 [  3.90792362e-05  -9.10598243e-02   2.56636665e+02] [ -2.80031828e-05   5.42534898e-02   1.09929627e+03]\n",
      "0.0 [  3.33142673e-04  -1.61722248e-02   9.49555662e-01] [ -2.38721533e-04   9.63541979e-03   4.06739619e+00]\n",
      "This is the average radius of curvature of the anes 3596.22956973\n"
     ]
    },
    {
     "name": "stderr",
     "output_type": "stream",
     "text": [
      "\r",
      " 37%|███▋      | 467/1261 [05:29<09:35,  1.38it/s]"
     ]
    },
    {
     "name": "stdout",
     "output_type": "stream",
     "text": [
      "914.763514287\n",
      "0.0 [  3.09938792e-05  -8.59312581e-02   2.57035113e+02] [ -7.30354324e-06   4.15833694e-02   1.09991388e+03]\n",
      "0.0 [  2.64216621e-04  -1.52613914e-02   9.51029917e-01] [ -6.22612455e-05   7.38520640e-03   4.06968137e+00]\n",
      "This is the average radius of curvature of the anes 9924.38258363\n"
     ]
    },
    {
     "name": "stderr",
     "output_type": "stream",
     "text": [
      "\r",
      " 37%|███▋      | 468/1261 [05:30<11:49,  1.12it/s]"
     ]
    },
    {
     "name": "stdout",
     "output_type": "stream",
     "text": [
      "916.008889479\n",
      "0.0 [  2.45060996e-05  -8.04911208e-02   2.57137263e+02] [  1.87584704e-05   2.32286412e-02   1.10154294e+03]\n",
      "0.0 [  2.08909598e-04  -1.42952231e-02   9.51407872e-01] [  1.59912209e-04   4.12540669e-03   4.07570889e+00]\n",
      "This is the average radius of curvature of the anes 5520.90885544\n"
     ]
    },
    {
     "name": "stderr",
     "output_type": "stream",
     "text": [
      "\r",
      " 37%|███▋      | 469/1261 [05:31<11:34,  1.14it/s]"
     ]
    },
    {
     "name": "stdout",
     "output_type": "stream",
     "text": [
      "913.408653563\n",
      "0.0 [  2.03865240e-05  -7.57586349e-02   2.57115016e+02] [  1.56223544e-05   2.61338069e-02   1.09972589e+03]\n",
      "0.0 [  1.73791040e-04  -1.34547336e-02   9.51325560e-01] [  1.33177447e-04   4.64136410e-03   4.06898581e+00]\n",
      "This is the average radius of curvature of the anes 6632.31031907\n"
     ]
    },
    {
     "name": "stderr",
     "output_type": "stream",
     "text": [
      "\r",
      " 37%|███▋      | 470/1261 [05:31<10:53,  1.21it/s]"
     ]
    },
    {
     "name": "stdout",
     "output_type": "stream",
     "text": [
      "915.718560722\n",
      "0.0 [  1.05642372e-05  -6.77074214e-02   2.55702365e+02] [  2.95756456e-05   1.25873377e-02   1.10386084e+03]\n",
      "0.0 [  9.00580097e-05  -1.20248380e-02   9.46098751e-01] [  2.52126464e-04   2.23551117e-03   4.08428510e+00]\n",
      "This is the average radius of curvature of the anes 7536.32789189\n"
     ]
    },
    {
     "name": "stderr",
     "output_type": "stream",
     "text": [
      "\r",
      " 37%|███▋      | 471/1261 [05:32<10:34,  1.25it/s]"
     ]
    },
    {
     "name": "stdout",
     "output_type": "stream",
     "text": [
      "912.238029058\n",
      "0.0 [  1.53411588e-05  -6.92719123e-02   2.55808806e+02] [  2.60191919e-05   1.23451505e-02   1.10384404e+03]\n",
      "0.0 [  1.30780311e-04  -1.23026916e-02   9.46492582e-01] [  2.21808407e-04   2.19249872e-03   4.08422295e+00]\n",
      "This is the average radius of curvature of the anes 6078.28745106\n"
     ]
    },
    {
     "name": "stderr",
     "output_type": "stream",
     "text": [
      "\r",
      " 37%|███▋      | 472/1261 [05:33<10:04,  1.31it/s]"
     ]
    },
    {
     "name": "stdout",
     "output_type": "stream",
     "text": [
      "911.554558201\n",
      "0.0 [  1.25463800e-05  -6.57223948e-02   2.55005904e+02] [  2.90909414e-05   8.63484950e-03   1.10454471e+03]\n",
      "0.0 [  1.06955380e-04  -1.16722973e-02   9.43521845e-01] [  2.47994458e-04   1.53354927e-03   4.08681543e+00]\n",
      "This is the average radius of curvature of the anes 6691.9832601\n"
     ]
    },
    {
     "name": "stderr",
     "output_type": "stream",
     "text": [
      "\r",
      " 38%|███▊      | 473/1261 [05:34<09:56,  1.32it/s]"
     ]
    },
    {
     "name": "stdout",
     "output_type": "stream",
     "text": [
      "912.877879243\n",
      "0.0 [  1.86493334e-05  -6.75005336e-02   2.54830203e+02] [  5.84862088e-05  -1.40355859e-02   1.10867267e+03]\n",
      "0.0 [  1.58981837e-04  -1.19880948e-02   9.42871750e-01] [  4.98583233e-04  -2.49272006e-03   4.10208889e+00]\n",
      "This is the average radius of curvature of the anes 4148.54228299\n"
     ]
    },
    {
     "name": "stderr",
     "output_type": "stream",
     "text": [
      "\r",
      " 38%|███▊      | 474/1261 [05:34<09:38,  1.36it/s]"
     ]
    },
    {
     "name": "stdout",
     "output_type": "stream",
     "text": [
      "904.871783892\n",
      "0.0 [  2.68812469e-05  -7.02534818e-02   2.54966827e+02] [  4.22857756e-05  -1.11703477e-02   1.10939430e+03]\n",
      "0.0 [  2.29157253e-04  -1.24770184e-02   9.43377260e-01] [  3.60477780e-04  -1.98385376e-03   4.10475890e+00]\n",
      "This is the average radius of curvature of the anes 3569.47356521\n"
     ]
    },
    {
     "name": "stderr",
     "output_type": "stream",
     "text": [
      "\r",
      " 38%|███▊      | 475/1261 [05:35<09:39,  1.36it/s]"
     ]
    },
    {
     "name": "stdout",
     "output_type": "stream",
     "text": [
      "905.397220476\n",
      "0.0 [  1.34551772e-05  -5.79803296e-02   2.52392640e+02] [  4.89280690e-05  -2.66809507e-02   1.11694751e+03]\n",
      "0.0 [  1.14702694e-04  -1.02973065e-02   9.33852767e-01] [  4.17102003e-04  -4.73853684e-03   4.13270577e+00]\n",
      "This is the average radius of curvature of the anes 5558.57677076\n"
     ]
    },
    {
     "name": "stderr",
     "output_type": "stream",
     "text": [
      "\r",
      " 38%|███▊      | 476/1261 [05:36<09:34,  1.37it/s]"
     ]
    },
    {
     "name": "stdout",
     "output_type": "stream",
     "text": [
      "903.559494044\n",
      "0.0 [  1.82166904e-05  -5.98480708e-02   2.52428216e+02] [  4.31447027e-05  -2.70761329e-02   1.11953788e+03]\n",
      "0.0 [  1.55293643e-04  -1.06290174e-02   9.33984399e-01] [  3.67799962e-04  -4.80872120e-03   4.14229014e+00]\n",
      "This is the average radius of curvature of the anes 4579.73422707\n"
     ]
    },
    {
     "name": "stderr",
     "output_type": "stream",
     "text": [
      "\r",
      " 38%|███▊      | 477/1261 [05:36<09:39,  1.35it/s]"
     ]
    },
    {
     "name": "stdout",
     "output_type": "stream",
     "text": [
      "903.844488682\n",
      "0.0 [  1.17472368e-05  -5.33774923e-02   2.50820941e+02] [  3.79625343e-05  -3.30385809e-02   1.12648947e+03]\n",
      "0.0 [  1.00142844e-04  -9.47984263e-03   9.28037482e-01] [  3.23623012e-04  -5.86765197e-03   4.16801102e+00]\n",
      "This is the average radius of curvature of the anes 6538.62838363\n"
     ]
    },
    {
     "name": "stderr",
     "output_type": "stream",
     "text": [
      "\r",
      " 38%|███▊      | 478/1261 [05:37<09:33,  1.37it/s]"
     ]
    },
    {
     "name": "stdout",
     "output_type": "stream",
     "text": [
      "905.570553291\n",
      "0.0 [  1.14019009e-05  -4.97683068e-02   2.49012083e+02] [  3.33650987e-05  -2.89988874e-02   1.12829531e+03]\n",
      "0.0 [  9.71989250e-05  -8.83885130e-03   9.21344707e-01] [  2.84430794e-04  -5.15020240e-03   4.17469264e+00]\n",
      "This is the average radius of curvature of the anes 6902.65945581\n"
     ]
    },
    {
     "name": "stderr",
     "output_type": "stream",
     "text": [
      "\r",
      " 38%|███▊      | 479/1261 [05:38<09:43,  1.34it/s]"
     ]
    },
    {
     "name": "stdout",
     "output_type": "stream",
     "text": [
      "907.174663504\n",
      "0.0 [  7.78309795e-06  -4.32999371e-02   2.46528747e+02] [  3.64999441e-05  -3.35145010e-02   1.13182219e+03]\n",
      "0.0 [  6.63493534e-05  -7.69006883e-03   9.12156365e-01] [  3.11154724e-04  -5.95217537e-03   4.18774211e+00]\n",
      "This is the average radius of curvature of the anes 9143.53994286\n"
     ]
    },
    {
     "name": "stderr",
     "output_type": "stream",
     "text": [
      "\r",
      " 38%|███▊      | 480/1261 [05:39<09:51,  1.32it/s]"
     ]
    },
    {
     "name": "stdout",
     "output_type": "stream",
     "text": [
      "910.241562255\n",
      "0.0 [  1.37244628e-07  -3.08196226e-02   2.41329873e+02] [  4.57990378e-05  -4.60810396e-02   1.13893903e+03]\n",
      "0.0 [  1.16998300e-06  -5.47356498e-03   8.92920529e-01] [  3.90427638e-04  -8.18399262e-03   4.21407440e+00]\n",
      "This is the average radius of curvature of the anes 428656.616896\n"
     ]
    },
    {
     "name": "stderr",
     "output_type": "stream",
     "text": [
      "\r",
      " 38%|███▊      | 481/1261 [05:40<09:57,  1.31it/s]"
     ]
    },
    {
     "name": "stdout",
     "output_type": "stream",
     "text": [
      "907.670978735\n",
      "0.0 [  9.05284390e-06  -3.54571839e-02   2.41113042e+02] [  1.65432473e-05  -2.72900648e-02   1.13903962e+03]\n",
      "0.0 [  7.71736836e-05  -6.29719587e-03   8.92118256e-01] [  1.41027875e-04  -4.84671551e-03   4.21444658e+00]\n",
      "This is the average radius of curvature of the anes 10024.8011944\n"
     ]
    },
    {
     "name": "stderr",
     "output_type": "stream",
     "text": [
      "\r",
      " 38%|███▊      | 482/1261 [05:40<09:46,  1.33it/s]"
     ]
    },
    {
     "name": "stdout",
     "output_type": "stream",
     "text": [
      "910.825307884\n",
      "0.0 [  6.91945508e-06  -3.09913483e-02   2.37848087e+02] [  2.64989314e-05  -3.98982868e-02   1.14495566e+03]\n",
      "0.0 [  5.89869706e-05  -5.50406346e-03   8.80037920e-01] [  2.25898090e-04  -7.08593574e-03   4.23633593e+00]\n",
      "This is the average radius of curvature of the anes 10690.3875382\n"
     ]
    },
    {
     "name": "stderr",
     "output_type": "stream",
     "text": [
      "\r",
      " 38%|███▊      | 483/1261 [05:41<09:53,  1.31it/s]"
     ]
    },
    {
     "name": "stdout",
     "output_type": "stream",
     "text": [
      "913.423782341\n",
      "0.0 [  9.21997475e-06  -3.12238988e-02   2.35634929e+02] [  2.61384460e-05  -4.38966356e-02   1.14905871e+03]\n",
      "0.0 [  7.85984407e-05  -5.54536443e-03   8.71849237e-01] [  2.22825024e-04  -7.79604248e-03   4.25151723e+00]\n",
      "This is the average radius of curvature of the anes 8605.86050292\n"
     ]
    },
    {
     "name": "stderr",
     "output_type": "stream",
     "text": [
      "\r",
      " 38%|███▊      | 484/1261 [05:42<09:44,  1.33it/s]"
     ]
    },
    {
     "name": "stdout",
     "output_type": "stream",
     "text": [
      "912.925924607\n",
      "0.0 [  1.06840434e-05  -3.26158087e-02   2.35778669e+02] [ -1.90804686e-05  -3.05440061e-03   1.14136468e+03]\n",
      "0.0 [  9.10793334e-05  -5.79256763e-03   8.72381075e-01] [ -1.62657179e-04  -5.42461547e-04   4.22304930e+00]\n",
      "This is the average radius of curvature of the anes 8563.94702532\n"
     ]
    },
    {
     "name": "stderr",
     "output_type": "stream",
     "text": [
      "\r",
      " 38%|███▊      | 485/1261 [05:42<09:43,  1.33it/s]"
     ]
    },
    {
     "name": "stdout",
     "output_type": "stream",
     "text": [
      "913.14493425\n",
      "0.0 [  7.23712238e-06  -3.15963802e-02   2.35718797e+02] [ -3.29677802e-05   5.58097932e-03   1.14026929e+03]\n",
      "0.0 [  6.16950209e-05  -5.61151712e-03   8.72159550e-01] [ -2.81043733e-04   9.91181926e-04   4.21899636e+00]\n",
      "This is the average radius of curvature of the anes 9883.84969704\n"
     ]
    },
    {
     "name": "stderr",
     "output_type": "stream",
     "text": [
      "\r",
      " 39%|███▊      | 486/1261 [05:43<09:26,  1.37it/s]"
     ]
    },
    {
     "name": "stdout",
     "output_type": "stream",
     "text": [
      "912.918044612\n",
      "0.0 [  1.05939563e-05  -3.34427714e-02   2.35879428e+02] [ -9.26230645e-05   4.66248206e-02   1.13326995e+03]\n",
      "0.0 [  9.03113590e-05  -5.93943620e-03   8.72753885e-01] [ -7.89593101e-04   8.28056814e-03   4.19309882e+00]\n",
      "This is the average radius of curvature of the anes 6169.99776864\n"
     ]
    },
    {
     "name": "stderr",
     "output_type": "stream",
     "text": [
      "\r",
      " 39%|███▊      | 487/1261 [05:44<09:21,  1.38it/s]"
     ]
    },
    {
     "name": "stdout",
     "output_type": "stream",
     "text": [
      "912.790460031\n",
      "0.0 [  1.35481044e-05  -3.50476294e-02   2.36009976e+02] [ -7.46166333e-05   3.37006866e-02   1.13539845e+03]\n",
      "0.0 [  1.15494880e-04  -6.22445899e-03   8.73236910e-01] [ -6.36091876e-04   5.98524194e-03   4.20097426e+00]\n",
      "This is the average radius of curvature of the anes 5115.54003812\n"
     ]
    },
    {
     "name": "stderr",
     "output_type": "stream",
     "text": [
      "\r",
      " 39%|███▊      | 488/1261 [05:45<09:16,  1.39it/s]"
     ]
    },
    {
     "name": "stdout",
     "output_type": "stream",
     "text": [
      "910.996213444\n",
      "0.0 [  1.96773061e-05  -3.99329961e-02   2.37127246e+02] [ -7.56944398e-05   4.64814086e-02   1.12854887e+03]\n",
      "0.0 [  1.67745099e-04  -7.09210011e-03   8.77370811e-01] [ -6.45279961e-04   8.25509816e-03   4.17563084e+00]\n",
      "This is the average radius of curvature of the anes 3755.8745905\n"
     ]
    },
    {
     "name": "stderr",
     "output_type": "stream",
     "text": [
      "\r",
      " 39%|███▉      | 489/1261 [05:45<09:10,  1.40it/s]"
     ]
    },
    {
     "name": "stdout",
     "output_type": "stream",
     "text": [
      "909.334265285\n",
      "0.0 [  2.11192389e-05  -4.21665884e-02   2.38300549e+02] [ -6.50182668e-05   4.46961968e-02   1.12573627e+03]\n",
      "0.0 [  1.80037288e-04  -7.48878611e-03   8.81712031e-01] [ -5.54267720e-04   7.93804456e-03   4.16522422e+00]\n",
      "This is the average radius of curvature of the anes 3679.61249902\n"
     ]
    },
    {
     "name": "stderr",
     "output_type": "stream",
     "text": [
      "\r",
      " 39%|███▉      | 490/1261 [05:46<09:07,  1.41it/s]"
     ]
    },
    {
     "name": "stdout",
     "output_type": "stream",
     "text": [
      "909.249039725\n",
      "0.0 [  2.42494566e-05  -4.53459982e-02   2.39338681e+02] [ -7.00111496e-05   4.86781248e-02   1.12514067e+03]\n",
      "0.0 [  2.06721768e-04  -8.05344929e-03   8.85553119e-01] [ -5.96831048e-04   8.64523496e-03   4.16302047e+00]\n",
      "This is the average radius of curvature of the anes 3256.79722399\n"
     ]
    },
    {
     "name": "stderr",
     "output_type": "stream",
     "text": [
      "\r",
      " 39%|███▉      | 491/1261 [05:47<09:17,  1.38it/s]"
     ]
    },
    {
     "name": "stdout",
     "output_type": "stream",
     "text": [
      "908.823393565\n",
      "0.0 [  2.63682853e-05  -4.76285451e-02   2.40705615e+02] [ -4.19361859e-05   3.60636559e-02   1.12389239e+03]\n",
      "0.0 [  2.24784358e-04  -8.45882960e-03   8.90610777e-01] [ -3.57497597e-04   6.40490529e-03   4.15840185e+00]\n",
      "This is the average radius of curvature of the anes 3623.28965973\n"
     ]
    },
    {
     "name": "stderr",
     "output_type": "stream",
     "text": [
      "\r",
      " 39%|███▉      | 492/1261 [05:47<09:12,  1.39it/s]"
     ]
    },
    {
     "name": "stdout",
     "output_type": "stream",
     "text": [
      "911.934846256\n",
      "0.0 [  2.62850827e-05  -4.80303320e-02   2.40971263e+02] [ -1.90539472e-05   2.28105866e-02   1.12541000e+03]\n",
      "0.0 [  2.24075073e-04  -8.53018696e-03   8.91593674e-01] [ -1.62431089e-04   4.05116018e-03   4.16401700e+00]\n",
      "This is the average radius of curvature of the anes 5309.94279451\n"
     ]
    },
    {
     "name": "stderr",
     "output_type": "stream",
     "text": [
      "\r",
      " 39%|███▉      | 493/1261 [05:48<09:27,  1.35it/s]"
     ]
    },
    {
     "name": "stdout",
     "output_type": "stream",
     "text": [
      "914.590577614\n",
      "0.0 [  2.60128099e-05  -4.81345797e-02   2.41218558e+02] [ -2.44305760e-06   1.27862338e-02   1.12671764e+03]\n",
      "0.0 [  2.21754001e-04  -8.54870136e-03   8.92508663e-01] [ -2.08265774e-05   2.27083513e-03   4.16885528e+00]\n",
      "This is the average radius of curvature of the anes 26262.9689374\n"
     ]
    },
    {
     "name": "stderr",
     "output_type": "stream",
     "text": [
      "\r",
      " 39%|███▉      | 494/1261 [05:49<09:22,  1.36it/s]"
     ]
    },
    {
     "name": "stdout",
     "output_type": "stream",
     "text": [
      "916.474144312\n",
      "0.0 [  2.50922339e-05  -4.76435377e-02   2.41176119e+02] [  1.69355060e-05  -5.90673714e-03   1.13185821e+03]\n",
      "0.0 [  2.13906275e-04  -8.46149229e-03   8.92351640e-01] [  1.44371801e-04  -1.04903652e-03   4.18787539e+00]\n",
      "This is the average radius of curvature of the anes 5801.00927682\n"
     ]
    },
    {
     "name": "stderr",
     "output_type": "stream",
     "text": [
      "\r",
      " 39%|███▉      | 495/1261 [05:50<09:29,  1.34it/s]"
     ]
    },
    {
     "name": "stdout",
     "output_type": "stream",
     "text": [
      "917.538419359\n",
      "0.0 [  2.46055777e-05  -4.73787141e-02   2.41153139e+02] [  2.90678483e-05  -2.04425721e-02   1.13701765e+03]\n",
      "0.0 [  2.09757629e-04  -8.41445962e-03   8.92266614e-01] [  2.47797593e-04  -3.63060080e-03   4.20696531e+00]\n",
      "This is the average radius of curvature of the anes 4401.77244334\n"
     ]
    },
    {
     "name": "stderr",
     "output_type": "stream",
     "text": [
      "\r",
      " 39%|███▉      | 496/1261 [05:50<09:21,  1.36it/s]"
     ]
    },
    {
     "name": "stdout",
     "output_type": "stream",
     "text": [
      "915.837993543\n",
      "0.0 [  2.47575425e-05  -4.74811318e-02   2.41167237e+02] [  1.54083335e-05  -1.15215910e-02   1.13598350e+03]\n",
      "0.0 [  2.11053099e-04  -8.43264901e-03   8.92318779e-01] [  1.31352962e-04  -2.04623456e-03   4.20313894e+00]\n",
      "This is the average radius of curvature of the anes 6175.88636633\n"
     ]
    },
    {
     "name": "stderr",
     "output_type": "stream",
     "text": [
      "\r",
      " 39%|███▉      | 497/1261 [05:51<09:27,  1.35it/s]"
     ]
    },
    {
     "name": "stdout",
     "output_type": "stream",
     "text": [
      "912.37463642\n",
      "0.0 [  2.38591709e-05  -4.69929755e-02   2.41124624e+02] [  2.96644234e-05  -3.55450678e-02   1.14226713e+03]\n",
      "0.0 [  2.03394660e-04  -8.34595245e-03   8.92161109e-01] [  2.52883277e-04  -6.31280404e-03   4.22638836e+00]\n",
      "This is the average radius of curvature of the anes 4435.84678744\n"
     ]
    },
    {
     "name": "stderr",
     "output_type": "stream",
     "text": [
      "\r",
      " 39%|███▉      | 498/1261 [05:52<09:16,  1.37it/s]"
     ]
    },
    {
     "name": "stdout",
     "output_type": "stream",
     "text": [
      "908.417778832\n",
      "0.0 [  2.48145869e-05  -4.74569748e-02   2.41159373e+02] [  1.66726162e-05  -3.20464103e-02   1.14270604e+03]\n",
      "0.0 [  2.11539390e-04  -8.42835873e-03   8.92289681e-01] [  1.42130719e-04  -5.69144247e-03   4.22801234e+00]\n",
      "This is the average radius of curvature of the anes 5881.93713797\n"
     ]
    },
    {
     "name": "stderr",
     "output_type": "stream",
     "text": [
      "\r",
      " 40%|███▉      | 499/1261 [05:53<09:24,  1.35it/s]"
     ]
    },
    {
     "name": "stdout",
     "output_type": "stream",
     "text": [
      "908.413667554\n",
      "0.0 [  2.25081031e-05  -4.62305027e-02   2.41060102e+02] [ -3.93874440e-05   1.48348323e-02   1.13441221e+03]\n",
      "0.0 [  1.91877077e-04  -8.21053727e-03   8.91922376e-01] [ -3.35770082e-04   2.63466621e-03   4.19732518e+00]\n",
      "This is the average radius of curvature of the anes 4095.22819827\n"
     ]
    },
    {
     "name": "stderr",
     "output_type": "stream",
     "text": [
      "\r",
      " 40%|███▉      | 500/1261 [05:53<09:18,  1.36it/s]"
     ]
    },
    {
     "name": "stdout",
     "output_type": "stream",
     "text": [
      "912.238757955\n",
      "0.0 [  1.25066439e-05  -3.99231176e-02   2.40208524e+02] [ -5.08467828e-05   2.67070230e-02   1.13492820e+03]\n",
      "0.0 [  1.06616638e-04  -7.09034569e-03   8.88771539e-01] [ -4.33458654e-04   4.74316728e-03   4.19923434e+00]\n",
      "This is the average radius of curvature of the anes 5843.60469647\n"
     ]
    },
    {
     "name": "stderr",
     "output_type": "stream",
     "text": [
      "\r",
      " 40%|███▉      | 501/1261 [05:54<09:20,  1.36it/s]"
     ]
    },
    {
     "name": "stdout",
     "output_type": "stream",
     "text": [
      "916.907202881\n",
      "0.0 [  5.20336941e-06  -3.35363627e-02   2.38277080e+02] [ -1.30171232e-04   7.35684966e-02   1.13399966e+03]\n",
      "0.0 [  4.43576836e-05  -5.95605801e-03   8.81625194e-01] [ -1.10968372e-03   1.30657650e-02   4.19579875e+00]\n",
      "This is the average radius of curvature of the anes 11723.2983319\n"
     ]
    },
    {
     "name": "stderr",
     "output_type": "stream",
     "text": [
      "\r",
      " 40%|███▉      | 502/1261 [05:55<09:32,  1.33it/s]"
     ]
    },
    {
     "name": "stdout",
     "output_type": "stream",
     "text": [
      "925.093831076\n",
      "0.0 [  1.48575972e-06  -2.58794319e-02   2.33841078e+02] [ -1.39110077e-04   7.86311054e-02   1.13951320e+03]\n",
      "0.0 [  1.26658045e-05  -4.59618711e-03   8.65211988e-01] [ -1.18588559e-03   1.39648843e-02   4.21619885e+00]\n",
      "This is the average radius of curvature of the anes 39899.3712981\n"
     ]
    },
    {
     "name": "stderr",
     "output_type": "stream",
     "text": [
      "\r",
      " 40%|███▉      | 503/1261 [05:56<09:26,  1.34it/s]"
     ]
    },
    {
     "name": "stdout",
     "output_type": "stream",
     "text": [
      "926.758653878\n",
      "0.0 [  2.50622476e-06  -2.63988548e-02   2.33857086e+02] [ -1.22796719e-04   7.60498200e-02   1.13967503e+03]\n",
      "0.0 [  2.13650649e-05  -4.68843661e-03   8.65271218e-01] [ -1.04681747e-03   1.35064480e-02   4.21679762e+00]\n",
      "This is the average radius of curvature of the anes 23881.231016\n"
     ]
    },
    {
     "name": "stderr",
     "output_type": "stream",
     "text": [
      "\r",
      " 40%|███▉      | 504/1261 [05:56<09:34,  1.32it/s]"
     ]
    },
    {
     "name": "stdout",
     "output_type": "stream",
     "text": [
      "927.598687751\n",
      "0.0 [  3.40930086e-06  -2.69406960e-02   2.33897575e+02] [ -8.58722461e-05   5.75249933e-02   1.14151886e+03]\n",
      "0.0 [  2.90636080e-05  -4.78466761e-03   8.65421028e-01] [ -7.32043723e-04   1.02164388e-02   4.22361979e+00]\n",
      "This is the average radius of curvature of the anes 17887.3622314\n"
     ]
    },
    {
     "name": "stderr",
     "output_type": "stream",
     "text": [
      "\r",
      " 40%|████      | 505/1261 [05:57<09:25,  1.34it/s]"
     ]
    },
    {
     "name": "stdout",
     "output_type": "stream",
     "text": [
      "929.054305492\n",
      "0.0 [  4.54097253e-06  -2.75758382e-02   2.33935753e+02] [ -6.11105549e-05   4.55931953e-02   1.14260323e+03]\n",
      "0.0 [  3.87108826e-05  -4.89746886e-03   8.65562287e-01] [ -5.20955258e-04   8.09735149e-03   4.22763194e+00]\n",
      "This is the average radius of curvature of the anes 13876.598942\n"
     ]
    },
    {
     "name": "stderr",
     "output_type": "stream",
     "text": [
      "\r",
      " 40%|████      | 506/1261 [05:58<09:33,  1.32it/s]"
     ]
    },
    {
     "name": "stdout",
     "output_type": "stream",
     "text": [
      "930.186749256\n",
      "0.0 [  6.17216204e-06  -2.84534639e-02   2.33994430e+02] [ -4.90777670e-05   4.03948134e-02   1.14273280e+03]\n",
      "0.0 [  5.26164470e-05  -5.05333519e-03   8.65779389e-01] [ -4.18378148e-04   7.17411887e-03   4.22811137e+00]\n",
      "This is the average radius of curvature of the anes 10698.279468\n"
     ]
    },
    {
     "name": "stderr",
     "output_type": "stream",
     "text": [
      "\r",
      " 40%|████      | 507/1261 [05:59<09:24,  1.34it/s]"
     ]
    },
    {
     "name": "stdout",
     "output_type": "stream",
     "text": [
      "932.207902664\n",
      "0.0 [  3.61941905e-06  -2.65817652e-02   2.33563530e+02] [ -4.08002444e-05   3.69281799e-02   1.14307026e+03]\n",
      "0.0 [  3.08548235e-05  -4.72092151e-03   8.64185061e-01] [ -3.47813923e-04   6.55844476e-03   4.22935998e+00]\n",
      "This is the average radius of curvature of the anes 17643.1064859\n"
     ]
    },
    {
     "name": "stderr",
     "output_type": "stream",
     "text": [
      "\r",
      " 40%|████      | 508/1261 [05:59<09:27,  1.33it/s]"
     ]
    },
    {
     "name": "stdout",
     "output_type": "stream",
     "text": [
      "931.364941902\n",
      "0.0 [  4.26628745e-06  -2.71172455e-02   2.33624294e+02] [ -5.62259344e-05   5.24717686e-02   1.13881062e+03]\n",
      "0.0 [  3.63692473e-05  -4.81602280e-03   8.64409888e-01] [ -4.79314846e-04   9.31898611e-03   4.21359929e+00]\n",
      "This is the average radius of curvature of the anes 14791.648564\n"
     ]
    },
    {
     "name": "stderr",
     "output_type": "stream",
     "text": [
      "\r",
      " 40%|████      | 509/1261 [06:00<09:18,  1.35it/s]"
     ]
    },
    {
     "name": "stdout",
     "output_type": "stream",
     "text": [
      "933.15144817\n",
      "0.0 [ -6.14418221e-06  -1.90488080e-02   2.31855319e+02] [ -4.78136317e-05   4.61223402e-02   1.13969019e+03]\n",
      "0.0 [ -5.23779245e-05  -3.38306830e-03   8.57864680e-01] [ -4.07601647e-04   8.19132762e-03   4.21685371e+00]\n",
      "This is the average radius of curvature of the anes 10772.981581\n"
     ]
    },
    {
     "name": "stderr",
     "output_type": "stream",
     "text": [
      "\r",
      " 40%|████      | 510/1261 [06:01<09:24,  1.33it/s]"
     ]
    },
    {
     "name": "stdout",
     "output_type": "stream",
     "text": [
      "931.677552091\n",
      "0.0 [ -1.02302353e-05  -1.54891230e-02   2.31057431e+02] [ -4.04745825e-05   3.83503141e-02   1.13965958e+03]\n",
      "0.0 [ -8.72107102e-05  -2.75086824e-03   8.54912496e-01] [ -3.45037721e-04   6.81101579e-03   4.21674043e+00]\n",
      "This is the average radius of curvature of the anes 7182.52361731\n"
     ]
    },
    {
     "name": "stderr",
     "output_type": "stream",
     "text": [
      "\r",
      " 41%|████      | 511/1261 [06:02<09:13,  1.35it/s]"
     ]
    },
    {
     "name": "stdout",
     "output_type": "stream",
     "text": [
      "928.878357769\n",
      "0.0 [ -1.50188994e-05  -1.14239956e-02   2.29879206e+02] [ -3.77232847e-05   3.22266653e-02   1.13911002e+03]\n",
      "0.0 [ -1.28033113e-04  -2.02890162e-03   8.50553060e-01] [ -3.21583458e-04   5.72345576e-03   4.21470707e+00]\n",
      "This is the average radius of curvature of the anes 5460.14658161\n"
     ]
    },
    {
     "name": "stderr",
     "output_type": "stream",
     "text": [
      "\r",
      " 41%|████      | 512/1261 [06:02<09:18,  1.34it/s]"
     ]
    },
    {
     "name": "stdout",
     "output_type": "stream",
     "text": [
      "924.614047935\n",
      "0.0 [ -1.57703969e-05  -1.01876346e-02   2.29490088e+02] [ -4.22906230e-05   3.39509442e-02   1.13607842e+03]\n",
      "0.0 [ -1.34439479e-04  -1.80932390e-03   8.49113326e-01] [ -3.60519103e-04   6.02968769e-03   4.20349016e+00]\n",
      "This is the average radius of curvature of the anes 5106.12857682\n"
     ]
    },
    {
     "name": "stderr",
     "output_type": "stream",
     "text": [
      "\r",
      " 41%|████      | 513/1261 [06:03<09:06,  1.37it/s]"
     ]
    },
    {
     "name": "stdout",
     "output_type": "stream",
     "text": [
      "918.462384218\n",
      "0.0 [ -1.04936961e-05  -1.30635090e-02   2.29750751e+02] [ -5.89656848e-05   4.34797651e-02   1.13172350e+03]\n",
      "0.0 [ -8.94566604e-05  -2.32007920e-03   8.50077779e-01] [ -5.02670670e-04   7.72200628e-03   4.18737696e+00]\n",
      "This is the average radius of curvature of the anes 6584.11988805\n"
     ]
    },
    {
     "name": "stderr",
     "output_type": "stream",
     "text": [
      "\r",
      " 41%|████      | 514/1261 [06:04<09:12,  1.35it/s]"
     ]
    },
    {
     "name": "stdout",
     "output_type": "stream",
     "text": [
      "917.068369676\n",
      "0.0 [ -7.27683428e-06  -1.48428233e-02   2.29908965e+02] [ -5.29671033e-05   3.93816346e-02   1.13088917e+03]\n",
      "0.0 [ -6.20335568e-05  -2.63608542e-03   8.50663169e-01] [ -4.51533962e-04   6.99417831e-03   4.18428992e+00]\n",
      "This is the average radius of curvature of the anes 9167.65534357\n"
     ]
    },
    {
     "name": "stderr",
     "output_type": "stream",
     "text": [
      "\r",
      " 41%|████      | 515/1261 [06:05<09:05,  1.37it/s]"
     ]
    },
    {
     "name": "stdout",
     "output_type": "stream",
     "text": [
      "916.279641711\n",
      "0.0 [ -2.53971997e-06  -1.73047404e-02   2.30096631e+02] [ -4.45504545e-05   3.75235041e-02   1.12848718e+03]\n",
      "0.0 [ -2.16506048e-05  -3.07332190e-03   8.51357536e-01] [ -3.79783714e-04   6.66417433e-03   4.17540258e+00]\n",
      "This is the average radius of curvature of the anes 24410.9968357\n"
     ]
    },
    {
     "name": "stderr",
     "output_type": "stream",
     "text": [
      "\r",
      " 41%|████      | 516/1261 [06:05<09:08,  1.36it/s]"
     ]
    },
    {
     "name": "stdout",
     "output_type": "stream",
     "text": [
      "918.766658029\n",
      "0.0 [ -2.52456932e-06  -1.65464232e-02   2.29806772e+02] [ -2.70572195e-05   2.92902777e-02   1.12829927e+03]\n",
      "0.0 [ -2.15214486e-05  -2.93864475e-03   8.50285055e-01] [ -2.30657385e-04   5.20195332e-03   4.17470728e+00]\n",
      "This is the average radius of curvature of the anes 25400.7431214\n"
     ]
    },
    {
     "name": "stderr",
     "output_type": "stream",
     "text": [
      "\r",
      " 41%|████      | 517/1261 [06:06<08:58,  1.38it/s]"
     ]
    },
    {
     "name": "stdout",
     "output_type": "stream",
     "text": [
      "921.921825099\n",
      "0.0 [ -1.45667780e-05  -4.02092280e-03   2.26569579e+02] [ -1.80849426e-05   2.54184117e-02   1.12914328e+03]\n",
      "0.0 [ -1.24178869e-04  -7.14115890e-04   8.38307443e-01] [ -1.54170518e-04   4.51430991e-03   4.17783012e+00]\n",
      "This is the average radius of curvature of the anes 7269.71436468\n"
     ]
    },
    {
     "name": "stderr",
     "output_type": "stream",
     "text": [
      "\r",
      " 41%|████      | 518/1261 [06:07<08:59,  1.38it/s]"
     ]
    },
    {
     "name": "stdout",
     "output_type": "stream",
     "text": [
      "921.653168503\n",
      "0.0 [ -3.28362478e-05   1.24549751e-02   2.23342261e+02] [ -1.94806440e-05   2.51651091e-02   1.12895252e+03]\n",
      "0.0 [ -2.79922445e-04   2.21200358e-03   8.26366366e-01] [ -1.66068594e-04   4.46932338e-03   4.17712431e+00]\n",
      "This is the average radius of curvature of the anes 4797.11643492\n"
     ]
    },
    {
     "name": "stderr",
     "output_type": "stream",
     "text": [
      "\r",
      " 41%|████      | 519/1261 [06:07<08:53,  1.39it/s]"
     ]
    },
    {
     "name": "stdout",
     "output_type": "stream",
     "text": [
      "924.2432582\n",
      "0.0 [ -4.81030499e-05   2.76186325e-02   2.19725261e+02] [ -9.74395650e-06   1.60052440e-02   1.13248839e+03]\n",
      "0.0 [ -4.10068880e-04   4.90506913e-03   8.12983465e-01] [ -8.30652804e-05   2.84253134e-03   4.19020704e+00]\n",
      "This is the average radius of curvature of the anes 7238.78640265\n"
     ]
    },
    {
     "name": "stderr",
     "output_type": "stream",
     "text": [
      "\r",
      " 41%|████      | 520/1261 [06:08<08:53,  1.39it/s]"
     ]
    },
    {
     "name": "stdout",
     "output_type": "stream",
     "text": [
      "923.081996476\n",
      "0.0 [ -6.00088881e-05   3.96962030e-02   2.17077660e+02] [ -2.77484894e-05   3.11620892e-02   1.12961832e+03]\n",
      "0.0 [ -5.11563769e-04   7.05004566e-03   8.03187343e-01] [ -2.36550322e-04   5.53438704e-03   4.17958777e+00]\n",
      "This is the average radius of curvature of the anes 3091.28038772\n"
     ]
    },
    {
     "name": "stderr",
     "output_type": "stream",
     "text": [
      "\r",
      " 41%|████▏     | 521/1261 [06:09<08:41,  1.42it/s]"
     ]
    },
    {
     "name": "stdout",
     "output_type": "stream",
     "text": [
      "922.44601599\n",
      "0.0 [ -6.56035467e-05   4.68246038e-02   2.15264654e+02] [ -1.61122757e-05   1.87675948e-02   1.13229860e+03]\n",
      "0.0 [ -5.59257115e-04   8.31604964e-03   7.96479220e-01] [ -1.37353928e-04   3.33312484e-03   4.18950483e+00]\n",
      "This is the average radius of curvature of the anes 4534.42738816\n"
     ]
    },
    {
     "name": "stderr",
     "output_type": "stream",
     "text": [
      "\r",
      " 41%|████▏     | 522/1261 [06:10<08:45,  1.41it/s]"
     ]
    },
    {
     "name": "stdout",
     "output_type": "stream",
     "text": [
      "918.816450513\n",
      "0.0 [ -5.07645198e-05   3.67583100e-02   2.16600067e+02] [ -2.69102857e-05   2.37105192e-02   1.13246617e+03]\n",
      "0.0 [ -4.32757379e-04   6.52827586e-03   8.01420248e-01] [ -2.29404804e-04   4.21098821e-03   4.19012483e+00]\n",
      "This is the average radius of curvature of the anes 3335.06695101\n"
     ]
    },
    {
     "name": "stderr",
     "output_type": "stream",
     "text": [
      "\r",
      " 41%|████▏     | 523/1261 [06:10<08:32,  1.44it/s]"
     ]
    },
    {
     "name": "stdout",
     "output_type": "stream",
     "text": [
      "916.334280813\n",
      "0.0 [ -1.00032767e-05   8.14775928e-04   2.23990872e+02] [ -3.74264103e-05   3.26739978e-02   1.13107193e+03]\n",
      "0.0 [ -8.52759329e-05   1.44704205e-04   8.28766228e-01] [ -3.19052662e-04   5.80290200e-03   4.18496613e+00]\n",
      "This is the average radius of curvature of the anes 7430.53777531\n"
     ]
    },
    {
     "name": "stderr",
     "output_type": "stream",
     "text": [
      "\r",
      " 42%|████▏     | 524/1261 [06:11<08:36,  1.43it/s]"
     ]
    },
    {
     "name": "stdout",
     "output_type": "stream",
     "text": [
      "916.758461529\n",
      "0.0 [  2.03450582e-05  -2.82159607e-02   2.30580554e+02] [ -4.64613573e-05   3.80554128e-02   1.13090386e+03]\n",
      "0.0 [  1.73437552e-04  -5.01115461e-03   8.53148049e-01] [ -3.96073779e-04   6.75864132e-03   4.18434429e+00]\n",
      "This is the average radius of curvature of the anes 4145.46816796\n"
     ]
    },
    {
     "name": "stderr",
     "output_type": "stream",
     "text": [
      "\r",
      " 42%|████▏     | 525/1261 [06:12<08:27,  1.45it/s]"
     ]
    },
    {
     "name": "stdout",
     "output_type": "stream",
     "text": [
      "915.826562866\n",
      "0.0 [  3.95268601e-06  -1.39605739e-02   2.28076540e+02] [ -6.09177501e-05   5.21749671e-02   1.12704678e+03]\n",
      "0.0 [  3.36958577e-05  -2.47939792e-03   8.43883198e-01] [ -5.19311636e-04   9.26627415e-03   4.17007308e+00]\n",
      "This is the average radius of curvature of the anes 15801.6930311\n"
     ]
    },
    {
     "name": "stderr",
     "output_type": "stream",
     "text": [
      "\r",
      " 42%|████▏     | 526/1261 [06:12<08:36,  1.42it/s]"
     ]
    },
    {
     "name": "stdout",
     "output_type": "stream",
     "text": [
      "917.667649167\n",
      "0.0 [  6.35538388e-06  -1.54730801e-02   2.27933707e+02] [ -6.92336651e-05   5.41690870e-02   1.12956058e+03]\n",
      "0.0 [  5.41783765e-05  -2.74801903e-03   8.43354714e-01] [ -5.90203148e-04   9.62042985e-03   4.17937413e+00]\n",
      "This is the average radius of curvature of the anes 10076.1622276\n"
     ]
    },
    {
     "name": "stderr",
     "output_type": "stream",
     "text": [
      "\r",
      " 42%|████▏     | 527/1261 [06:13<08:32,  1.43it/s]"
     ]
    },
    {
     "name": "stdout",
     "output_type": "stream",
     "text": [
      "920.070351149\n",
      "0.0 [  1.50229012e-05  -2.59950719e-02   2.30540916e+02] [ -6.29451682e-05   4.81962141e-02   1.13296191e+03]\n",
      "0.0 [  1.28067228e-04  -4.61672477e-03   8.53001391e-01] [ -5.36594970e-04   8.55964762e-03   4.19195906e+00]\n",
      "This is the average radius of curvature of the anes 4836.22817179\n"
     ]
    },
    {
     "name": "stderr",
     "output_type": "stream",
     "text": [
      "\r",
      " 42%|████▏     | 528/1261 [06:14<08:40,  1.41it/s]"
     ]
    },
    {
     "name": "stdout",
     "output_type": "stream",
     "text": [
      "923.920339976\n",
      "0.0 [  5.60948225e-07  -1.58548082e-02   2.28393295e+02] [ -5.16220856e-05   3.34077378e-02   1.14068726e+03]\n",
      "0.0 [  4.78197143e-06  -2.81581393e-03   8.45055191e-01] [ -4.40067956e-04   5.93321423e-03   4.22054285e+00]\n",
      "This is the average radius of curvature of the anes 105696.878373\n"
     ]
    },
    {
     "name": "stderr",
     "output_type": "stream",
     "text": [
      "\r",
      " 42%|████▏     | 529/1261 [06:14<08:33,  1.43it/s]"
     ]
    },
    {
     "name": "stdout",
     "output_type": "stream",
     "text": [
      "925.971523166\n",
      "0.0 [ -2.32702251e-05   2.19535669e-03   2.25748113e+02] [ -2.40739872e-05   1.30752127e-02   1.14431253e+03]\n",
      "0.0 [ -1.98374015e-04   3.89895347e-04   8.35268020e-01] [ -2.05225926e-04   2.32215777e-03   4.23395637e+00]\n",
      "This is the average radius of curvature of the anes 4956.8510391\n"
     ]
    },
    {
     "name": "stderr",
     "output_type": "stream",
     "text": [
      "\r",
      " 42%|████▏     | 530/1261 [06:15<08:34,  1.42it/s]"
     ]
    },
    {
     "name": "stdout",
     "output_type": "stream",
     "text": [
      "922.368105511\n",
      "0.0 [ -4.94897130e-06  -1.52966252e-02   2.30350426e+02] [ -5.19374461e-05   3.89859698e-02   1.13704129e+03]\n",
      "0.0 [ -4.21889906e-05  -2.71668063e-03   8.52296576e-01] [ -4.42756341e-04   6.92390824e-03   4.20705277e+00]\n",
      "This is the average radius of curvature of the anes 12980.9348335\n"
     ]
    },
    {
     "name": "stderr",
     "output_type": "stream",
     "text": [
      "\r",
      " 42%|████▏     | 531/1261 [06:16<08:17,  1.47it/s]"
     ]
    },
    {
     "name": "stdout",
     "output_type": "stream",
     "text": [
      "919.229301495\n",
      "0.0 [  1.70576992e-05  -3.33328278e-02   2.34924109e+02] [ -7.94219306e-05   6.87213323e-02   1.12716572e+03]\n",
      "0.0 [  1.45413474e-04  -5.91991022e-03   8.69219205e-01] [ -6.77056074e-04   1.22049086e-02   4.17051315e+00]\n",
      "This is the average radius of curvature of the anes 4177.30794861\n"
     ]
    },
    {
     "name": "stderr",
     "output_type": "stream",
     "text": [
      "\r",
      " 42%|████▏     | 532/1261 [06:16<08:12,  1.48it/s]"
     ]
    },
    {
     "name": "stdout",
     "output_type": "stream",
     "text": [
      "912.534799587\n",
      "0.0 [ -3.37154517e-05   1.02159949e-02   2.30821958e+02] [ -1.08570581e-04   1.10869305e-01   1.10952111e+03]\n",
      "0.0 [ -2.87417482e-04   1.81436069e-03   8.54041246e-01] [ -9.25542490e-04   1.96903885e-02   4.10522812e+00]\n",
      "This is the average radius of curvature of the anes 2280.17624874\n"
     ]
    },
    {
     "name": "stderr",
     "output_type": "stream",
     "text": [
      "\r",
      " 42%|████▏     | 533/1261 [06:17<08:12,  1.48it/s]"
     ]
    },
    {
     "name": "stdout",
     "output_type": "stream",
     "text": [
      "910.14177521\n",
      "0.0 [ -2.70641513e-05   2.29774008e-03   2.35268021e+02] [ -1.04444390e-04   1.14748953e-01   1.10455994e+03]\n",
      "0.0 [ -2.30716477e-04   4.08078638e-04   8.70491679e-01] [ -8.90367536e-04   2.03794141e-02   4.08687178e+00]\n",
      "This is the average radius of curvature of the anes 2729.07835109\n"
     ]
    },
    {
     "name": "stderr",
     "output_type": "stream",
     "text": [
      "\r",
      " 42%|████▏     | 534/1261 [06:18<08:10,  1.48it/s]"
     ]
    },
    {
     "name": "stdout",
     "output_type": "stream",
     "text": [
      "904.436723424\n",
      "0.0 [ -1.56089767e-05  -7.91130645e-03   2.38796670e+02] [ -1.11579265e-04   1.15450842e-01   1.10359035e+03]\n",
      "0.0 [ -1.33063405e-04  -1.40504803e-03   8.83547678e-01] [ -9.51190915e-04   2.05040695e-02   4.08328430e+00]\n",
      "This is the average radius of curvature of the anes 4283.60663146\n"
     ]
    },
    {
     "name": "stderr",
     "output_type": "stream",
     "text": [
      "\r",
      " 42%|████▏     | 535/1261 [06:18<08:10,  1.48it/s]"
     ]
    },
    {
     "name": "stdout",
     "output_type": "stream",
     "text": [
      "903.589584417\n",
      "0.0 [  6.99758950e-06  -2.93683055e-02   2.43799335e+02] [ -9.05415259e-05   9.01726888e-02   1.11076247e+03]\n",
      "0.0 [  5.96530510e-05  -5.21581106e-03   9.02057538e-01] [ -7.71848400e-04   1.60146695e-02   4.10982112e+00]\n",
      "This is the average radius of curvature of the anes 9030.18782719\n"
     ]
    },
    {
     "name": "stderr",
     "output_type": "stream",
     "text": [
      "\r",
      " 43%|████▎     | 536/1261 [06:19<08:14,  1.47it/s]"
     ]
    },
    {
     "name": "stdout",
     "output_type": "stream",
     "text": [
      "906.859061012\n",
      "0.0 [ -1.07311757e-05  -1.62279157e-02   2.41775981e+02] [ -7.10864055e-05   6.54544229e-02   1.12099865e+03]\n",
      "0.0 [ -9.14811270e-05  -2.88207782e-03   8.94571128e-01] [ -6.05997389e-04   1.16247055e-02   4.14769501e+00]\n",
      "This is the average radius of curvature of the anes 6290.92963498\n"
     ]
    },
    {
     "name": "stderr",
     "output_type": "stream",
     "text": [
      "\r",
      " 43%|████▎     | 537/1261 [06:20<08:20,  1.45it/s]"
     ]
    },
    {
     "name": "stdout",
     "output_type": "stream",
     "text": [
      "909.989210138\n",
      "0.0 [ -2.06746073e-05  -7.89341242e-03   2.41006852e+02] [ -5.42437664e-05   5.00022037e-02   1.12672306e+03]\n",
      "0.0 [ -1.76246892e-04  -1.40187005e-03   8.91725353e-01] [ -4.62417260e-04   8.88039137e-03   4.16887532e+00]\n",
      "This is the average radius of curvature of the anes 3918.34024496\n"
     ]
    },
    {
     "name": "stderr",
     "output_type": "stream",
     "text": [
      "\r",
      " 43%|████▎     | 538/1261 [06:21<08:32,  1.41it/s]"
     ]
    },
    {
     "name": "stdout",
     "output_type": "stream",
     "text": [
      "912.445327807\n",
      "0.0 [ -2.72896362e-05  -1.99781696e-03   2.39571359e+02] [ -5.16501982e-05   4.32628000e-02   1.13206776e+03]\n",
      "0.0 [ -2.32638690e-04  -3.54812292e-04   8.86414028e-01] [ -4.40307610e-04   7.68347328e-03   4.18865072e+00]\n",
      "This is the average radius of curvature of the anes 3284.92627678\n"
     ]
    },
    {
     "name": "stderr",
     "output_type": "stream",
     "text": [
      "\r",
      " 43%|████▎     | 539/1261 [06:21<08:40,  1.39it/s]"
     ]
    },
    {
     "name": "stdout",
     "output_type": "stream",
     "text": [
      "916.071708152\n",
      "0.0 [ -2.45869247e-05  -2.47641010e-03   2.39602395e+02] [ -2.36815416e-05   2.77202087e-02   1.13349469e+03]\n",
      "0.0 [ -2.09598616e-04  -4.39810434e-04   8.86528863e-01] [ -2.01880405e-04   4.92310906e-03   4.19393034e+00]\n",
      "This is the average radius of curvature of the anes 4862.31653854\n"
     ]
    },
    {
     "name": "stderr",
     "output_type": "stream",
     "text": [
      "\r",
      " 43%|████▎     | 540/1261 [06:22<08:48,  1.36it/s]"
     ]
    },
    {
     "name": "stdout",
     "output_type": "stream",
     "text": [
      "918.401009216\n",
      "0.0 [ -2.41658294e-05  -3.04966769e-03   2.39767080e+02] [ -1.02592997e-05   1.81452710e-02   1.13573979e+03]\n",
      "0.0 [ -2.06008863e-04  -5.41620982e-04   8.87138196e-01] [ -8.74584784e-05   3.22260013e-03   4.20223724e+00]\n",
      "This is the average radius of curvature of the anes 8144.16878745\n"
     ]
    },
    {
     "name": "stderr",
     "output_type": "stream",
     "text": [
      "\r",
      " 43%|████▎     | 541/1261 [06:23<08:53,  1.35it/s]"
     ]
    },
    {
     "name": "stdout",
     "output_type": "stream",
     "text": [
      "918.371538328\n",
      "0.0 [ -2.20737794e-05  -3.40732834e-03   2.39910845e+02] [ -3.54063896e-06   1.79622953e-02   1.13333671e+03]\n",
      "0.0 [ -1.88174555e-04  -6.05141514e-04   8.87670128e-01] [ -3.01832390e-05   3.19010365e-03   4.19334584e+00]\n",
      "This is the average radius of curvature of the anes 19222.8469305\n"
     ]
    },
    {
     "name": "stderr",
     "output_type": "stream",
     "text": [
      "\r",
      " 43%|████▎     | 542/1261 [06:24<08:51,  1.35it/s]"
     ]
    },
    {
     "name": "stdout",
     "output_type": "stream",
     "text": [
      "915.502685813\n",
      "0.0 [ -1.90284521e-05  -3.56418704e-03   2.39906284e+02] [ -7.09696491e-06   2.35067841e-02   1.12977683e+03]\n",
      "0.0 [ -1.62213748e-04  -6.32999618e-04   8.87653252e-01] [ -6.05002065e-05   4.17480486e-03   4.18017427e+00]\n",
      "This is the average radius of curvature of the anes 11347.0053163\n"
     ]
    },
    {
     "name": "stderr",
     "output_type": "stream",
     "text": [
      "\r",
      " 43%|████▎     | 543/1261 [06:24<08:46,  1.36it/s]"
     ]
    },
    {
     "name": "stdout",
     "output_type": "stream",
     "text": [
      "915.291125558\n",
      "0.0 [ -2.33316128e-05  -2.03648145e-04   2.39575058e+02] [  2.58353927e-05  -8.56151146e-03   1.13545806e+03]\n",
      "0.0 [ -1.98897333e-04  -3.61679106e-05   8.86427715e-01] [  2.20241555e-04  -1.52052443e-03   4.20119483e+00]\n",
      "This is the average radius of curvature of the anes 4784.10223419\n"
     ]
    },
    {
     "name": "stderr",
     "output_type": "stream",
     "text": [
      "\r",
      " 43%|████▎     | 544/1261 [06:25<08:44,  1.37it/s]"
     ]
    },
    {
     "name": "stdout",
     "output_type": "stream",
     "text": [
      "912.367820079\n",
      "0.0 [ -2.30217445e-05   1.54042586e-03   2.39422909e+02] [  4.12017316e-05  -2.19378854e-02   1.13547060e+03]\n",
      "0.0 [ -1.96255768e-04   2.73579633e-04   8.85864764e-01] [  3.51236521e-04  -3.89616845e-03   4.20124123e+00]\n",
      "This is the average radius of curvature of the anes 3971.27069491\n"
     ]
    },
    {
     "name": "stderr",
     "output_type": "stream",
     "text": [
      "\r",
      " 43%|████▎     | 545/1261 [06:26<08:48,  1.36it/s]"
     ]
    },
    {
     "name": "stdout",
     "output_type": "stream",
     "text": [
      "912.271987596\n",
      "0.0 [ -3.20119675e-05   6.54085973e-03   2.39098265e+02] [  4.13395201e-05  -2.73468937e-02   1.13781569e+03]\n",
      "0.0 [ -2.72895620e-04   1.16165669e-03   8.84663582e-01] [  3.52411141e-04  -4.85680831e-03   4.20991805e+00]\n",
      "This is the average radius of curvature of the anes 3251.05364144\n"
     ]
    },
    {
     "name": "stderr",
     "output_type": "stream",
     "text": [
      "\r",
      " 43%|████▎     | 546/1261 [06:27<08:54,  1.34it/s]"
     ]
    },
    {
     "name": "stdout",
     "output_type": "stream",
     "text": [
      "912.271910272\n",
      "0.0 [ -3.10808540e-05   6.05448974e-03   2.39266966e+02] [  5.04217408e-05  -3.53348609e-02   1.13916416e+03]\n",
      "0.0 [ -2.64958064e-04   1.07527738e-03   8.85287774e-01] [  4.29835256e-04  -6.27547129e-03   4.21490738e+00]\n",
      "This is the average radius of curvature of the anes 3050.39943365\n"
     ]
    },
    {
     "name": "stderr",
     "output_type": "stream",
     "text": [
      "\r",
      " 43%|████▎     | 547/1261 [06:27<09:04,  1.31it/s]"
     ]
    },
    {
     "name": "stdout",
     "output_type": "stream",
     "text": [
      "920.858536152\n",
      "0.0 [ -3.55608603e-05   8.27083542e-03   2.39131085e+02] [  1.06813974e-04  -7.47583490e-02   1.14608537e+03]\n",
      "0.0 [ -3.03149222e-04   1.46890037e-03   8.84785016e-01] [  9.10567769e-04  -1.32770828e-02   4.24051586e+00]\n",
      "This is the average radius of curvature of the anes 2198.61122815\n"
     ]
    },
    {
     "name": "stderr",
     "output_type": "stream",
     "text": [
      "\r",
      " 43%|████▎     | 548/1261 [06:28<09:25,  1.26it/s]"
     ]
    },
    {
     "name": "stdout",
     "output_type": "stream",
     "text": [
      "923.956382647\n",
      "0.0 [ -3.27717127e-05   6.52164410e-03   2.39322608e+02] [  1.46415704e-04  -1.08547114e-01   1.15338052e+03]\n",
      "0.0 [ -2.79372296e-04   1.15824399e-03   8.85493649e-01] [  1.24816460e-03  -1.92779675e-02   4.26750793e+00]\n",
      "This is the average radius of curvature of the anes 2190.54161976\n"
     ]
    },
    {
     "name": "stderr",
     "output_type": "stream",
     "text": [
      "\r",
      " 44%|████▎     | 549/1261 [06:29<09:49,  1.21it/s]"
     ]
    },
    {
     "name": "stdout",
     "output_type": "stream",
     "text": [
      "922.510173426\n",
      "0.0 [ -2.44427550e-05   1.97205745e-03   2.39688147e+02] [  1.69817579e-04  -1.36546243e-01   1.16136796e+03]\n",
      "0.0 [ -2.08369598e-04   3.50237404e-04   8.86846145e-01] [  1.44766090e-03  -2.42506128e-02   4.29706146e+00]\n",
      "This is the average radius of curvature of the anes 2745.27221911\n"
     ]
    },
    {
     "name": "stderr",
     "output_type": "stream",
     "text": [
      "\r",
      " 44%|████▎     | 550/1261 [06:30<09:57,  1.19it/s]"
     ]
    },
    {
     "name": "stdout",
     "output_type": "stream",
     "text": [
      "939.710441776\n",
      "0.0 [ -3.05236900e-05   4.97352941e-03   2.37855572e+02] [  2.00634067e-04  -1.77185414e-01   1.17756601e+03]\n",
      "0.0 [ -2.60208353e-04   8.83298822e-04   8.80065616e-01] [  1.71036529e-03  -3.14681295e-02   4.35699425e+00]\n",
      "This is the average radius of curvature of the anes 2214.30888001\n"
     ]
    },
    {
     "name": "stderr",
     "output_type": "stream",
     "text": [
      "\r",
      " 44%|████▎     | 551/1261 [06:31<10:04,  1.17it/s]"
     ]
    },
    {
     "name": "stdout",
     "output_type": "stream",
     "text": [
      "949.556941881\n",
      "0.0 [ -3.39198680e-05   5.47441582e-03   2.37249625e+02] [  1.82761416e-04  -1.81018111e-01   1.18680657e+03]\n",
      "0.0 [ -2.89160091e-04   9.72256250e-04   8.77823612e-01] [  1.55800452e-03  -3.21488166e-02   4.39118430e+00]\n",
      "This is the average radius of curvature of the anes 2050.5693928\n"
     ]
    },
    {
     "name": "stderr",
     "output_type": "stream",
     "text": [
      "\r",
      " 44%|████▍     | 552/1261 [06:32<10:17,  1.15it/s]"
     ]
    },
    {
     "name": "stdout",
     "output_type": "stream",
     "text": [
      "947.754257434\n",
      "0.0 [ -3.18548568e-05   1.80162437e-03   2.36723697e+02] [  9.48188029e-05  -1.20099887e-01   1.18447795e+03]\n",
      "0.0 [ -2.71556284e-04   3.19968488e-04   8.75877680e-01] [  8.08311331e-04  -2.13297400e-02   4.38256843e+00]\n",
      "This is the average radius of curvature of the anes 2460.23493276\n"
     ]
    },
    {
     "name": "stderr",
     "output_type": "stream",
     "text": [
      "\r",
      " 44%|████▍     | 553/1261 [06:33<10:35,  1.11it/s]"
     ]
    },
    {
     "name": "stdout",
     "output_type": "stream",
     "text": [
      "951.016299678\n",
      "0.0 [ -2.65163475e-05  -2.92981194e-03   2.36802469e+02] [  6.91435336e-05  -1.06965201e-01   1.18781877e+03]\n",
      "0.0 [ -2.26046559e-04  -5.20334601e-04   8.76169134e-01] [  5.89434796e-04  -1.89970197e-02   4.39492944e+00]\n",
      "This is the average radius of curvature of the anes 3060.66407491\n"
     ]
    },
    {
     "name": "stderr",
     "output_type": "stream",
     "text": [
      "\r",
      " 44%|████▍     | 554/1261 [06:34<10:30,  1.12it/s]"
     ]
    },
    {
     "name": "stdout",
     "output_type": "stream",
     "text": [
      "956.526855514\n",
      "0.0 [ -2.54232820e-05  -4.19031703e-03   2.36103384e+02] [  5.28059576e-05  -1.03196698e-01   1.19263024e+03]\n",
      "0.0 [ -2.16728394e-04  -7.44200305e-04   8.73582521e-01] [  4.50160228e-04  -1.83277336e-02   4.41273189e+00]\n",
      "This is the average radius of curvature of the anes 3418.3122766\n"
     ]
    },
    {
     "name": "stderr",
     "output_type": "stream",
     "text": [
      "\r",
      " 44%|████▍     | 555/1261 [06:35<10:20,  1.14it/s]"
     ]
    },
    {
     "name": "stdout",
     "output_type": "stream",
     "text": [
      "953.241227383\n",
      "0.0 [ -2.34531370e-05  -4.27007282e-03   2.35557428e+02] [  2.40430194e-05  -7.78434252e-02   1.18879866e+03]\n",
      "0.0 [ -1.99933303e-04  -7.58364932e-04   8.71562484e-01] [  2.04961932e-04  -1.38249923e-02   4.39855503e+00]\n",
      "This is the average radius of curvature of the anes 4941.01297368\n"
     ]
    },
    {
     "name": "stderr",
     "output_type": "stream",
     "text": [
      "\r",
      " 44%|████▍     | 556/1261 [06:35<10:05,  1.16it/s]"
     ]
    },
    {
     "name": "stdout",
     "output_type": "stream",
     "text": [
      "942.381659359\n",
      "0.0 [ -8.61990140e-06  -1.16932892e-02   2.36066802e+02] [  7.37717486e-06  -4.89651244e-02   1.17844846e+03]\n",
      "0.0 [ -7.34829355e-05  -2.07672816e-03   8.73447167e-01] [  6.28889402e-05  -8.69620610e-03   4.36025931e+00]\n",
      "This is the average radius of curvature of the anes 14755.7703027\n"
     ]
    },
    {
     "name": "stderr",
     "output_type": "stream",
     "text": [
      "\r",
      " 44%|████▍     | 557/1261 [06:36<09:53,  1.19it/s]"
     ]
    },
    {
     "name": "stdout",
     "output_type": "stream",
     "text": [
      "936.584167867\n",
      "0.0 [  4.52974849e-06  -1.87667538e-02   2.36636419e+02] [  6.81677122e-06  -4.20491101e-02   1.17322059e+03]\n",
      "0.0 [  3.86151999e-05  -3.33297548e-03   8.75554750e-01] [  5.81116113e-05  -7.46792195e-03   4.34091617e+00]\n",
      "This is the average radius of curvature of the anes 21553.3371045\n"
     ]
    },
    {
     "name": "stderr",
     "output_type": "stream",
     "text": [
      "\r",
      " 44%|████▍     | 558/1261 [06:37<10:01,  1.17it/s]"
     ]
    },
    {
     "name": "stdout",
     "output_type": "stream",
     "text": [
      "936.685308969\n",
      "0.0 [ -1.18860168e-05  -5.99209194e-03   2.34249677e+02] [ -6.00930162e-05  -2.74315174e-03   1.17088025e+03]\n",
      "0.0 [ -1.01325916e-04  -1.06419553e-03   8.66723804e-01] [ -5.12280945e-04  -4.87183750e-04   4.33225692e+00]\n",
      "This is the average radius of curvature of the anes 5910.60739924\n"
     ]
    },
    {
     "name": "stderr",
     "output_type": "stream",
     "text": [
      "\r",
      " 44%|████▍     | 559/1261 [06:38<10:10,  1.15it/s]"
     ]
    },
    {
     "name": "stdout",
     "output_type": "stream",
     "text": [
      "959.736414099\n",
      "0.0 [ -3.00832754e-05   1.56736062e-02   2.23305318e+02] [ -1.46671309e-04   3.79967366e-02   1.18197319e+03]\n",
      "0.0 [ -2.56453906e-04   2.78363247e-03   8.26229675e-01] [ -1.25034358e-03   6.74822042e-03   4.37330079e+00]\n",
      "This is the average radius of curvature of the anes 2349.60816304\n"
     ]
    },
    {
     "name": "stderr",
     "output_type": "stream",
     "text": [
      "\r",
      " 44%|████▍     | 560/1261 [06:39<09:59,  1.17it/s]"
     ]
    },
    {
     "name": "stdout",
     "output_type": "stream",
     "text": [
      "970.429036718\n",
      "0.0 [  8.31718376e-06   4.13889298e-03   2.07649710e+02] [ -5.26922287e-04   4.71469961e-01   1.07606922e+03]\n",
      "0.0 [  7.09023281e-05   7.35067394e-04   7.68303927e-01] [-0.00449191  0.08373307  3.9814561 ]\n",
      "This is the average radius of curvature of the anes 7164.44431597\n"
     ]
    },
    {
     "name": "stderr",
     "output_type": "stream",
     "text": [
      "\r",
      " 44%|████▍     | 561/1261 [06:40<10:02,  1.16it/s]"
     ]
    },
    {
     "name": "stdout",
     "output_type": "stream",
     "text": [
      "1000.59226011\n",
      "0.0 [ -1.86972213e-06   3.60172733e-02   1.84572561e+02] [ -3.26925704e-04   2.41730837e-01   1.15261812e+03]\n",
      "0.0 [ -1.59390072e-05   6.39666774e-03   6.82918475e-01] [ -2.78697624e-03   4.29313967e-02   4.26468706e+00]\n",
      "This is the average radius of curvature of the anes 31551.4099366\n"
     ]
    },
    {
     "name": "stderr",
     "output_type": "stream",
     "text": [
      "\r",
      " 45%|████▍     | 562/1261 [06:40<09:45,  1.19it/s]"
     ]
    },
    {
     "name": "stdout",
     "output_type": "stream",
     "text": [
      "1043.81672259\n",
      "0.0 [  8.49254336e-06   4.49453836e-02   1.68442717e+02] [ -1.83049362e-04   7.43536690e-02   1.21113065e+03]\n",
      "0.0 [  7.23972336e-05   7.98230012e-03   6.23238053e-01] [ -1.56045920e-03   1.32052116e-02   4.48118342e+00]\n",
      "This is the average radius of curvature of the anes 7227.50364114\n"
     ]
    },
    {
     "name": "stderr",
     "output_type": "stream",
     "text": [
      "\r",
      " 45%|████▍     | 563/1261 [06:41<09:45,  1.19it/s]"
     ]
    },
    {
     "name": "stdout",
     "output_type": "stream",
     "text": [
      "1057.57171133\n",
      "0.0 [ -3.11705683e-06   5.02129529e-02   1.68061045e+02] [ -1.09462106e-04   3.61427062e-04   1.22563276e+03]\n",
      "0.0 [ -2.65722861e-05   8.91782044e-03   6.21825865e-01] [ -9.33142562e-04   6.41894462e-05   4.53484120e+00]\n",
      "This is the average radius of curvature of the anes 19354.6655778\n"
     ]
    },
    {
     "name": "stderr",
     "output_type": "stream",
     "text": [
      "\r",
      " 45%|████▍     | 564/1261 [06:42<09:29,  1.22it/s]"
     ]
    },
    {
     "name": "stdout",
     "output_type": "stream",
     "text": [
      "1031.84565443\n",
      "0.0 [ -1.77244154e-05   5.51281273e-02   1.72146763e+02] [ -1.12915735e-04   2.83178984e-02   1.20399242e+03]\n",
      "0.0 [ -1.51097097e-04   9.79075541e-03   6.36943022e-01] [ -9.62584057e-04   5.02925875e-03   4.45477194e+00]\n",
      "This is the average radius of curvature of the anes 3829.0611146\n"
     ]
    },
    {
     "name": "stderr",
     "output_type": "stream",
     "text": [
      "\r",
      " 45%|████▍     | 565/1261 [06:43<09:27,  1.23it/s]"
     ]
    },
    {
     "name": "stdout",
     "output_type": "stream",
     "text": [
      "1009.88691555\n",
      "0.0 [ -2.19613412e-05   4.57589374e-02   1.83545244e+02] [ -1.54171220e-05  -1.48110989e-02   1.19343216e+03]\n",
      "0.0 [ -1.87216041e-04   8.12678728e-03   6.79117401e-01] [ -1.31427882e-04  -2.63045117e-03   4.41569899e+00]\n",
      "This is the average radius of curvature of the anes 6475.38316801\n"
     ]
    },
    {
     "name": "stderr",
     "output_type": "stream",
     "text": [
      "\r",
      " 45%|████▍     | 566/1261 [06:44<09:03,  1.28it/s]"
     ]
    },
    {
     "name": "stdout",
     "output_type": "stream",
     "text": [
      "970.116964084\n",
      "0.0 [ -2.54367674e-05   3.23284082e-02   1.99344865e+02] [  3.60217338e-05  -1.47657996e-02   1.16946183e+03]\n",
      "0.0 [ -2.16843355e-04   5.74152530e-03   7.37576001e-01] [  3.07078076e-04  -2.62240600e-03   4.32700877e+00]\n",
      "This is the average radius of curvature of the anes 3934.19316738\n"
     ]
    },
    {
     "name": "stderr",
     "output_type": "stream",
     "text": [
      "\r",
      " 45%|████▍     | 567/1261 [06:44<08:52,  1.30it/s]"
     ]
    },
    {
     "name": "stdout",
     "output_type": "stream",
     "text": [
      "961.345518274\n",
      "0.0 [ -8.57690501e-06   5.66846957e-03   2.14620843e+02] [  9.74471068e-05  -4.15186561e-02   1.15508363e+03]\n",
      "0.0 [ -7.31163998e-05   1.00672020e-03   7.94097121e-01] [  8.30717096e-04  -7.37371332e-03   4.27380942e+00]\n",
      "This is the average radius of curvature of the anes 7440.36020474\n"
     ]
    },
    {
     "name": "stderr",
     "output_type": "stream",
     "text": [
      "\r",
      " 45%|████▌     | 568/1261 [06:45<08:31,  1.35it/s]"
     ]
    },
    {
     "name": "stdout",
     "output_type": "stream",
     "text": [
      "949.780281921\n",
      "0.0 [  6.92226703e-07  -4.32003298e-03   2.22226042e+02] [  1.00479216e-04  -4.07374978e-02   1.14660450e+03]\n",
      "0.0 [  5.90109420e-06  -7.67237858e-04   8.22236354e-01] [  8.56565222e-04  -7.23497961e-03   4.24243665e+00]\n",
      "This is the average radius of curvature of the anes 85313.8963076\n"
     ]
    },
    {
     "name": "stderr",
     "output_type": "stream",
     "text": [
      "\r",
      " 45%|████▌     | 569/1261 [06:46<08:33,  1.35it/s]"
     ]
    },
    {
     "name": "stdout",
     "output_type": "stream",
     "text": [
      "947.716292254\n",
      "0.0 [  3.17284144e-06  -4.47298930e-03   2.22280082e+02] [  9.48472409e-05  -4.12839026e-02   1.14907133e+03]\n",
      "0.0 [  2.70478387e-05  -7.94402899e-04   8.22436302e-01] [  8.08553759e-04  -7.33202111e-03   4.25156393e+00]\n",
      "This is the average radius of curvature of the anes 19104.2208028\n"
     ]
    },
    {
     "name": "stderr",
     "output_type": "stream",
     "text": [
      "\r",
      " 45%|████▌     | 570/1261 [06:46<08:28,  1.36it/s]"
     ]
    },
    {
     "name": "stdout",
     "output_type": "stream",
     "text": [
      "949.514396679\n",
      "0.0 [  6.36746279e-06  -6.80390492e-03   2.22637190e+02] [  1.09874435e-04  -5.99387418e-02   1.15684647e+03]\n",
      "0.0 [  5.42813468e-05  -1.20837351e-03   8.23757603e-01] [  9.36657581e-04  -1.06451205e-02   4.28033193e+00]\n",
      "This is the average radius of curvature of the anes 9745.19131614\n"
     ]
    },
    {
     "name": "stderr",
     "output_type": "stream",
     "text": [
      "\r",
      " 45%|████▌     | 571/1261 [06:47<08:29,  1.35it/s]"
     ]
    },
    {
     "name": "stdout",
     "output_type": "stream",
     "text": [
      "949.685160457\n",
      "0.0 [ -7.10300542e-07  -4.43802693e-03   2.21599515e+02] [  7.32433187e-05  -6.02906245e-02   1.17128468e+03]\n",
      "0.0 [ -6.05517006e-06  -7.88193582e-04   8.19918205e-01] [  6.24384643e-04  -1.07076149e-02   4.33375330e+00]\n",
      "This is the average radius of curvature of the anes 83375.0671229\n"
     ]
    },
    {
     "name": "stderr",
     "output_type": "stream",
     "text": [
      "\r",
      " 45%|████▌     | 572/1261 [06:48<08:20,  1.38it/s]"
     ]
    },
    {
     "name": "stdout",
     "output_type": "stream",
     "text": [
      "957.448856263\n",
      "0.0 [  6.28814920e-06  -8.69571071e-03   2.21927704e+02] [  5.38194306e-05  -6.26255846e-02   1.17937656e+03]\n",
      "0.0 [  5.36052143e-05  -1.54435822e-03   8.21132506e-01] [  4.58799882e-04  -1.11223038e-02   4.36369327e+00]\n",
      "This is the average radius of curvature of the anes 10417.4861654\n"
     ]
    },
    {
     "name": "stderr",
     "output_type": "stream",
     "text": [
      "\r",
      " 45%|████▌     | 573/1261 [06:49<08:28,  1.35it/s]"
     ]
    },
    {
     "name": "stdout",
     "output_type": "stream",
     "text": [
      "967.3702183\n",
      "0.0 [ -1.29807333e-05   6.79835003e-03   2.18151742e+02] [  1.12283365e-05  -4.52732063e-02   1.18552196e+03]\n",
      "0.0 [ -1.10658155e-04   1.20738696e-03   8.07161447e-01] [  9.57193232e-05  -8.04052143e-03   4.38643125e+00]\n",
      "This is the average radius of curvature of the anes 9742.54193596\n"
     ]
    },
    {
     "name": "stderr",
     "output_type": "stream",
     "text": [
      "\r",
      " 46%|████▌     | 574/1261 [06:49<08:22,  1.37it/s]"
     ]
    },
    {
     "name": "stdout",
     "output_type": "stream",
     "text": [
      "970.215925316\n",
      "0.0 [  4.65390816e-06  -4.52705267e-03   2.19547557e+02] [  1.63136421e-05  -5.18348359e-02   1.18976348e+03]\n",
      "0.0 [  3.96736362e-05  -8.04004554e-04   8.12325962e-01] [  1.39070536e-04  -9.20586685e-03   4.40212489e+00]\n",
      "This is the average radius of curvature of the anes 16198.5947809\n"
     ]
    },
    {
     "name": "stderr",
     "output_type": "stream",
     "text": [
      "\r",
      " 46%|████▌     | 575/1261 [06:50<08:25,  1.36it/s]"
     ]
    },
    {
     "name": "stdout",
     "output_type": "stream",
     "text": [
      "970.06093481\n",
      "0.0 [  1.45025655e-05  -1.15933273e-02   2.20706275e+02] [  1.12084005e-05  -4.82464241e-02   1.19076721e+03]\n",
      "0.0 [  1.23631470e-04  -2.05897493e-03   8.16613218e-01] [  9.55493722e-05  -8.56856492e-03   4.40583868e+00]\n",
      "This is the average radius of curvature of the anes 9277.77649704\n"
     ]
    },
    {
     "name": "stderr",
     "output_type": "stream",
     "text": [
      "\r",
      " 46%|████▌     | 576/1261 [06:51<08:14,  1.39it/s]"
     ]
    },
    {
     "name": "stdout",
     "output_type": "stream",
     "text": [
      "957.864575019\n",
      "0.0 [  5.22673659e-05  -4.43168558e-02   2.27767789e+02] [ -2.15995721e-06  -2.88595912e-02   1.18453491e+03]\n",
      "0.0 [  4.45568841e-04  -7.87067359e-03   8.42740821e-01] [ -1.84132032e-05  -5.12546339e-03   4.38277915e+00]\n",
      "This is the average radius of curvature of the anes 28277.7633545\n"
     ]
    },
    {
     "name": "stderr",
     "output_type": "stream",
     "text": [
      "\r",
      " 46%|████▌     | 577/1261 [06:51<08:13,  1.39it/s]"
     ]
    },
    {
     "name": "stdout",
     "output_type": "stream",
     "text": [
      "951.036314122\n",
      "0.0 [  7.61196378e-05  -6.89564803e-02   2.34794949e+02] [ -3.74381857e-05   1.63455725e-02   1.16981204e+03]\n",
      "0.0 [  6.48904688e-04  -1.22466709e-02   8.68741312e-01] [ -3.19153046e-04   2.90297368e-03   4.32830456e+00]\n",
      "This is the average radius of curvature of the anes 2337.36883495\n"
     ]
    },
    {
     "name": "stderr",
     "output_type": "stream",
     "text": [
      "\r",
      " 46%|████▌     | 578/1261 [06:52<08:03,  1.41it/s]"
     ]
    },
    {
     "name": "stdout",
     "output_type": "stream",
     "text": [
      "943.446363569\n",
      "0.0 [  5.37727765e-05  -5.79406035e-02   2.37649664e+02] [ -8.88950305e-05   7.13341046e-02   1.15181130e+03]\n",
      "0.0 [  4.58402165e-04  -1.02902512e-02   8.79303756e-01] [ -7.57812356e-04   1.26689370e-02   4.26170182e+00]\n",
      "This is the average radius of curvature of the anes 1750.8713292\n"
     ]
    },
    {
     "name": "stderr",
     "output_type": "stream",
     "text": [
      "\r",
      " 46%|████▌     | 579/1261 [06:53<08:03,  1.41it/s]"
     ]
    },
    {
     "name": "stdout",
     "output_type": "stream",
     "text": [
      "936.055771481\n",
      "0.0 [  4.11679522e-05  -5.36339857e-02   2.41379086e+02] [ -1.01676804e-04   9.22855130e-02   1.14016976e+03]\n",
      "0.0 [  3.50948559e-04  -9.52539586e-03   8.93102619e-01] [ -8.66774418e-04   1.63899071e-02   4.21862811e+00]\n",
      "This is the average radius of curvature of the anes 2001.98794368\n"
     ]
    },
    {
     "name": "stderr",
     "output_type": "stream",
     "text": [
      "\r",
      " 46%|████▌     | 580/1261 [06:54<07:59,  1.42it/s]"
     ]
    },
    {
     "name": "stdout",
     "output_type": "stream",
     "text": [
      "935.661726889\n",
      "0.0 [  3.43473959e-05  -5.00083447e-02   2.42849124e+02] [ -1.38659255e-04   1.23818801e-01   1.13484799e+03]\n",
      "0.0 [  2.92804681e-04  -8.88148202e-03   8.98541758e-01] [ -1.18204242e-03   2.19902191e-02   4.19893757e+00]\n",
      "This is the average radius of curvature of the anes 2131.12855096\n"
     ]
    },
    {
     "name": "stderr",
     "output_type": "stream",
     "text": [
      "\r",
      " 46%|████▌     | 581/1261 [06:54<08:05,  1.40it/s]"
     ]
    },
    {
     "name": "stdout",
     "output_type": "stream",
     "text": [
      "935.208171334\n",
      "0.0 [  1.39435487e-05  -3.36839170e-02   2.40843501e+02] [ -1.60367640e-04   1.39936078e-01   1.13281879e+03]\n",
      "0.0 [  1.18865964e-04  -5.98226367e-03   8.91120953e-01] [ -1.36710205e-03   2.48526475e-02   4.19142951e+00]\n",
      "This is the average radius of curvature of the anes 4572.72043753\n"
     ]
    },
    {
     "name": "stderr",
     "output_type": "stream",
     "text": [
      "\r",
      " 46%|████▌     | 582/1261 [06:55<08:00,  1.41it/s]"
     ]
    },
    {
     "name": "stdout",
     "output_type": "stream",
     "text": [
      "934.888448409\n",
      "0.0 [ -1.44454069e-05  -8.13522219e-03   2.35406231e+02] [ -1.63297424e-04   1.43657195e-01   1.13159696e+03]\n",
      "0.0 [ -1.23144204e-04  -1.44481546e-03   8.71003056e-01] [ -1.39207788e-03   2.55135178e-02   4.18690874e+00]\n",
      "This is the average radius of curvature of the anes 4419.81918253\n"
     ]
    },
    {
     "name": "stderr",
     "output_type": "stream",
     "text": [
      "\r",
      " 46%|████▌     | 583/1261 [06:56<08:06,  1.39it/s]"
     ]
    },
    {
     "name": "stdout",
     "output_type": "stream",
     "text": [
      "938.95728466\n",
      "0.0 [ -2.43560386e-05  -7.45242624e-04   2.33994508e+02] [ -8.55416078e-05   1.04200870e-01   1.12912609e+03]\n",
      "0.0 [ -2.07630358e-04  -1.32355090e-04   8.65779679e-01] [ -7.29225098e-04   1.85060745e-02   4.17776654e+00]\n",
      "This is the average radius of curvature of the anes 3094.13736031\n"
     ]
    },
    {
     "name": "stderr",
     "output_type": "stream",
     "text": [
      "\r",
      " 46%|████▋     | 584/1261 [06:56<08:04,  1.40it/s]"
     ]
    },
    {
     "name": "stdout",
     "output_type": "stream",
     "text": [
      "937.455627803\n",
      "0.0 [ -2.94394532e-05   1.10113828e-03   2.36187201e+02] [ -6.67135219e-05   1.04431603e-01   1.11861746e+03]\n",
      "0.0 [ -2.50965451e-04   1.95562158e-04   8.73892642e-01] [ -5.68719431e-04   1.85470526e-02   4.13888462e+00]\n",
      "This is the average radius of curvature of the anes 2871.92803457\n"
     ]
    },
    {
     "name": "stderr",
     "output_type": "stream",
     "text": [
      "\r",
      " 46%|████▋     | 585/1261 [06:57<07:54,  1.42it/s]"
     ]
    },
    {
     "name": "stdout",
     "output_type": "stream",
     "text": [
      "944.733901661\n",
      "0.0 [ -6.80724488e-05   3.47655946e-02   2.26963496e+02] [ -3.88664639e-05   8.25510803e-02   1.12224128e+03]\n",
      "0.0 [ -5.80304011e-04   6.17436961e-03   8.39764934e-01] [ -3.31328832e-04   1.46610719e-02   4.15229273e+00]\n",
      "This is the average radius of curvature of the anes 2371.22802531\n"
     ]
    },
    {
     "name": "stderr",
     "output_type": "stream",
     "text": [
      "\r",
      " 46%|████▋     | 586/1261 [06:58<07:50,  1.44it/s]"
     ]
    },
    {
     "name": "stdout",
     "output_type": "stream",
     "text": [
      "941.537985475\n",
      "0.0 [ -5.69684173e-05   3.05053312e-02   2.28174815e+02] [ -3.77746571e-05   9.57740055e-02   1.11286220e+03]\n",
      "0.0 [ -4.85644364e-04   5.41774683e-03   8.44246817e-01] [ -3.22021397e-04   1.70094634e-02   4.11759013e+00]\n",
      "This is the average radius of curvature of the anes 2582.97105165\n"
     ]
    },
    {
     "name": "stderr",
     "output_type": "stream",
     "text": [
      "\r",
      " 47%|████▋     | 587/1261 [06:58<07:46,  1.45it/s]"
     ]
    },
    {
     "name": "stdout",
     "output_type": "stream",
     "text": [
      "943.786627942\n",
      "0.0 [ -7.63204145e-05   4.97539247e-02   2.22548341e+02] [  5.25488831e-06   5.50475671e-02   1.12035759e+03]\n",
      "0.0 [ -6.50616270e-04   8.83629703e-03   8.23428862e-01] [  4.47968719e-05   9.77644792e-03   4.14532308e+00]\n",
      "This is the average radius of curvature of the anes 11931.6860329\n"
     ]
    },
    {
     "name": "stderr",
     "output_type": "stream",
     "text": [
      "\r",
      " 47%|████▋     | 588/1261 [06:59<07:34,  1.48it/s]"
     ]
    },
    {
     "name": "stdout",
     "output_type": "stream",
     "text": [
      "940.293417768\n",
      "0.0 [ -5.02912909e-05   3.20547810e-02   2.25289300e+02] [  3.69260148e-05   3.20091809e-02   1.12052756e+03]\n",
      "0.0 [ -4.28723197e-04   5.69292911e-03   8.33570412e-01] [  3.14786891e-04   5.68483053e-03   4.14595197e+00]\n",
      "This is the average radius of curvature of the anes 2754.76354432\n"
     ]
    },
    {
     "name": "stderr",
     "output_type": "stream",
     "text": [
      "\r",
      " 47%|████▋     | 589/1261 [07:00<07:36,  1.47it/s]"
     ]
    },
    {
     "name": "stdout",
     "output_type": "stream",
     "text": [
      "949.704348179\n",
      "0.0 [ -5.65600584e-05   3.82599261e-02   2.22781143e+02] [  1.33608621e-04  -5.12934612e-02   1.13856459e+03]\n",
      "0.0 [ -4.82163186e-04   6.79496288e-03   8.24290228e-01] [  1.13898678e-03  -9.10971871e-03   4.21268897e+00]\n",
      "This is the average radius of curvature of the anes 1476.10644063\n"
     ]
    },
    {
     "name": "stderr",
     "output_type": "stream",
     "text": [
      "\r",
      " 47%|████▋     | 590/1261 [07:00<07:36,  1.47it/s]"
     ]
    },
    {
     "name": "stdout",
     "output_type": "stream",
     "text": [
      "954.334763051\n",
      "0.0 [ -7.70027337e-05   6.29528125e-02   2.12321692e+02] [  1.48486561e-04  -8.11731085e-02   1.15371382e+03]\n",
      "0.0 [ -6.56432904e-04   1.11804195e-02   7.85590262e-01] [  1.26581823e-03  -1.44163441e-02   4.26874114e+00]\n",
      "This is the average radius of curvature of the anes 1156.95985992\n"
     ]
    },
    {
     "name": "stderr",
     "output_type": "stream",
     "text": [
      "\r",
      " 47%|████▋     | 591/1261 [07:01<07:36,  1.47it/s]"
     ]
    },
    {
     "name": "stdout",
     "output_type": "stream",
     "text": [
      "956.515396376\n",
      "0.0 [ -1.01815673e-04   9.18874390e-02   1.99900205e+02] [  1.08428678e-04  -5.72453058e-02   1.15495391e+03]\n",
      "0.0 [-0.00086796  0.01631921  0.73963076] [  9.24332797e-04  -1.01667663e-02   4.27332948e+00]\n",
      "This is the average radius of curvature of the anes 1117.30929939\n"
     ]
    },
    {
     "name": "stderr",
     "output_type": "stream",
     "text": [
      "\r",
      " 47%|████▋     | 592/1261 [07:02<07:30,  1.49it/s]"
     ]
    },
    {
     "name": "stdout",
     "output_type": "stream",
     "text": [
      "964.228598899\n",
      "0.0 [ -1.17970887e-04   1.11734340e-01   1.92117631e+02] [  1.09431712e-04  -6.48372655e-02   1.15634623e+03]\n",
      "0.0 [-0.00100568  0.01984402  0.71083524] [  9.32883460e-04  -1.15150984e-02   4.27848105e+00]\n",
      "This is the average radius of curvature of the anes 1033.54985804\n"
     ]
    },
    {
     "name": "stderr",
     "output_type": "stream",
     "text": [
      "\r",
      " 47%|████▋     | 593/1261 [07:03<07:43,  1.44it/s]"
     ]
    },
    {
     "name": "stdout",
     "output_type": "stream",
     "text": [
      "971.849847569\n",
      "0.0 [ -1.22015758e-04   1.18932043e-01   1.86418114e+02] [  1.19869090e-04  -7.63295687e-02   1.15826796e+03]\n",
      "0.0 [-0.00104016  0.02112233  0.68974702] [  1.02186002e-03  -1.35561314e-02   4.28559146e+00]\n",
      "This is the average radius of curvature of the anes 970.455733388\n"
     ]
    },
    {
     "name": "stderr",
     "output_type": "stream",
     "text": [
      "\r",
      " 47%|████▋     | 594/1261 [07:03<07:49,  1.42it/s]"
     ]
    },
    {
     "name": "stdout",
     "output_type": "stream",
     "text": [
      "982.508863041\n",
      "0.0 [ -1.36629210e-04   1.34399359e-01   1.79601270e+02] [  9.91322728e-05  -7.54651089e-02   1.16211013e+03]\n",
      "0.0 [-0.00116474  0.02386933  0.6645247 ] [  8.45082799e-04  -1.34026033e-02   4.29980749e+00]\n",
      "This is the average radius of curvature of the anes 1021.46592446\n"
     ]
    },
    {
     "name": "stderr",
     "output_type": "stream",
     "text": [
      "\r",
      " 47%|████▋     | 595/1261 [07:04<07:56,  1.40it/s]"
     ]
    },
    {
     "name": "stdout",
     "output_type": "stream",
     "text": [
      "978.994544525\n",
      "0.0 [ -1.28890604e-04   1.31370169e-01   1.78203706e+02] [  9.20364521e-05  -6.65398918e-02   1.15719825e+03]\n",
      "0.0 [-0.00109877  0.02333134  0.65935371] [  7.84592347e-04  -1.18174848e-02   4.28163353e+00]\n",
      "This is the average radius of curvature of the anes 1092.83441789\n"
     ]
    },
    {
     "name": "stderr",
     "output_type": "stream",
     "text": [
      "\r",
      " 47%|████▋     | 596/1261 [07:05<07:56,  1.39it/s]"
     ]
    },
    {
     "name": "stdout",
     "output_type": "stream",
     "text": [
      "992.972033047\n",
      "0.0 [ -1.20452349e-04   1.31075469e-01   1.73678320e+02] [  9.22989164e-05  -8.31072540e-02   1.16665035e+03]\n",
      "0.0 [-0.00102683  0.023279    0.64260979] [  7.86829803e-04  -1.47598483e-02   4.31660631e+00]\n",
      "This is the average radius of curvature of the anes 1122.99946033\n"
     ]
    },
    {
     "name": "stderr",
     "output_type": "stream",
     "text": [
      "\r",
      " 47%|████▋     | 597/1261 [07:05<07:47,  1.42it/s]"
     ]
    },
    {
     "name": "stdout",
     "output_type": "stream",
     "text": [
      "1005.72184074\n",
      "0.0 [ -1.00884236e-04   1.20455480e-01   1.71022456e+02] [  1.04313215e-04  -1.06720541e-01   1.17674430e+03]\n",
      "0.0 [-0.00086002  0.02139289  0.63278309] [  8.89249291e-04  -1.89535681e-02   4.35395390e+00]\n",
      "This is the average radius of curvature of the anes 1144.35741529\n"
     ]
    },
    {
     "name": "stderr",
     "output_type": "stream",
     "text": [
      "\r",
      " 47%|████▋     | 598/1261 [07:06<07:33,  1.46it/s]"
     ]
    },
    {
     "name": "stdout",
     "output_type": "stream",
     "text": [
      "1016.06305268\n",
      "0.0 [ -1.11297687e-04   1.34017823e-01   1.64304095e+02] [  9.65193702e-05  -1.08146720e-01   1.18036715e+03]\n",
      "0.0 [-0.00094879  0.02380157  0.60792515] [  8.22808327e-04  -1.92068575e-02   4.36735845e+00]\n",
      "This is the average radius of curvature of the anes 1135.44582823\n"
     ]
    },
    {
     "name": "stderr",
     "output_type": "stream",
     "text": [
      "\r",
      " 48%|████▊     | 599/1261 [07:07<07:29,  1.47it/s]"
     ]
    },
    {
     "name": "stdout",
     "output_type": "stream",
     "text": [
      "1013.99714101\n",
      "0.0 [ -9.13075943e-05   1.18752542e-01   1.63908782e+02] [  6.23968714e-05  -8.30151730e-02   1.17790592e+03]\n",
      "0.0 [-0.00077838  0.02109045  0.60646249] [  5.31920850e-04  -1.47434947e-02   4.35825191e+00]\n",
      "This is the average radius of curvature of the anes 1583.08523277\n"
     ]
    },
    {
     "name": "stderr",
     "output_type": "stream",
     "text": [
      "\r",
      " 48%|████▊     | 600/1261 [07:07<07:26,  1.48it/s]"
     ]
    },
    {
     "name": "stdout",
     "output_type": "stream",
     "text": [
      "1011.88250652\n",
      "0.0 [ -6.19466835e-05   9.20217367e-02   1.67293787e+02] [  6.41941536e-05  -8.59451639e-02   1.17917629e+03]\n",
      "0.0 [ -5.28083088e-04   1.63430604e-02   6.18987012e-01] [  5.47242320e-04  -1.52638611e-02   4.36295229e+00]\n",
      "This is the average radius of curvature of the anes 1861.19141865\n"
     ]
    },
    {
     "name": "stderr",
     "output_type": "stream",
     "text": [
      "\r",
      " 48%|████▊     | 601/1261 [07:08<07:25,  1.48it/s]"
     ]
    },
    {
     "name": "stdout",
     "output_type": "stream",
     "text": [
      "1017.44231741\n",
      "0.0 [ -2.66545894e-05   6.09831918e-02   1.68059327e+02] [  4.60091803e-05  -7.87557954e-02   1.18550164e+03]\n",
      "0.0 [ -2.27225044e-04   1.08306149e-02   6.21819511e-01] [  3.92219060e-04  -1.39870293e-02   4.38635609e+00]\n",
      "This is the average radius of curvature of the anes 3476.0207917\n"
     ]
    },
    {
     "name": "stderr",
     "output_type": "stream",
     "text": [
      "\r",
      " 48%|████▊     | 602/1261 [07:09<07:22,  1.49it/s]"
     ]
    },
    {
     "name": "stdout",
     "output_type": "stream",
     "text": [
      "1033.83029117\n",
      "0.0 [ -3.36068710e-05   6.94586154e-02   1.61836507e+02] [  3.18926865e-05  -8.09537088e-02   1.19566680e+03]\n",
      "0.0 [ -2.86491854e-04   1.23358501e-02   5.98795076e-01] [  2.71878774e-04  -1.43773787e-02   4.42396715e+00]\n",
      "This is the average radius of curvature of the anes 3585.27388779\n"
     ]
    },
    {
     "name": "stderr",
     "output_type": "stream",
     "text": [
      "\r",
      " 48%|████▊     | 603/1261 [07:09<07:24,  1.48it/s]"
     ]
    },
    {
     "name": "stdout",
     "output_type": "stream",
     "text": [
      "1037.5936487\n",
      "0.0 [ -2.81289845e-05   6.26630554e-02   1.61507494e+02] [  1.89346646e-05  -7.65076892e-02   1.19910114e+03]\n",
      "0.0 [ -2.39793967e-04   1.11289586e-02   5.97577729e-01] [  1.61414229e-04  -1.35877656e-02   4.43667423e+00]\n",
      "This is the average radius of curvature of the anes 5183.98898705\n"
     ]
    },
    {
     "name": "stderr",
     "output_type": "stream",
     "text": [
      "\r",
      " 48%|████▊     | 604/1261 [07:10<07:23,  1.48it/s]"
     ]
    },
    {
     "name": "stdout",
     "output_type": "stream",
     "text": [
      "1030.38915352\n",
      "0.0 [ -2.30800570e-05   5.59269132e-02   1.62093194e+02] [  1.07352375e-05  -5.91486430e-02   1.19248235e+03]\n",
      "0.0 [ -1.96752870e-04   9.93261979e-03   5.99744817e-01] [  9.15157528e-05  -1.05047990e-02   4.41218468e+00]\n",
      "This is the average radius of curvature of the anes 8006.07971563\n"
     ]
    },
    {
     "name": "stderr",
     "output_type": "stream",
     "text": [
      "\r",
      " 48%|████▊     | 605/1261 [07:11<07:32,  1.45it/s]"
     ]
    },
    {
     "name": "stdout",
     "output_type": "stream",
     "text": [
      "1021.51604842\n",
      "0.0 [  1.05939362e-05   2.10066443e-02   1.71491931e+02] [  6.10761667e-05  -9.65401435e-02   1.19300798e+03]\n",
      "0.0 [  9.03111873e-05   3.73078003e-03   6.34520144e-01] [  5.20662106e-04  -1.71455295e-02   4.41412952e+00]\n",
      "This is the average radius of curvature of the anes 6497.26743588\n"
     ]
    },
    {
     "name": "stderr",
     "output_type": "stream",
     "text": [
      "\r",
      " 48%|████▊     | 606/1261 [07:12<07:35,  1.44it/s]"
     ]
    },
    {
     "name": "stdout",
     "output_type": "stream",
     "text": [
      "1000.03133331\n",
      "0.0 [  1.03750228e-05   5.32540695e-03   1.82604926e+02] [  9.03286537e-05  -1.06874458e-01   1.18263626e+03]\n",
      "0.0 [  8.84449943e-05   9.45792275e-04   6.75638227e-01] [  7.70033707e-04  -1.89809037e-02   4.37575416e+00]\n",
      "This is the average radius of curvature of the anes 6302.91192634\n"
     ]
    },
    {
     "name": "stderr",
     "output_type": "stream",
     "text": [
      "\r",
      " 48%|████▊     | 607/1261 [07:12<07:40,  1.42it/s]"
     ]
    },
    {
     "name": "stdout",
     "output_type": "stream",
     "text": [
      "977.401394496\n",
      "0.0 [  4.17920283e-06  -2.01128366e-03   1.90431443e+02] [  7.47631161e-05  -8.35544193e-02   1.16783284e+03]\n",
      "0.0 [  3.56268683e-05  -3.57203978e-04   7.04596338e-01] [  6.37340612e-04  -1.48392649e-02   4.32098150e+00]\n",
      "This is the average radius of curvature of the anes 14819.1234143\n"
     ]
    },
    {
     "name": "stderr",
     "output_type": "stream",
     "text": [
      "\r",
      " 48%|████▊     | 608/1261 [07:13<07:43,  1.41it/s]"
     ]
    },
    {
     "name": "stdout",
     "output_type": "stream",
     "text": [
      "970.437730226\n",
      "0.0 [ -2.03967376e-06  -1.02010971e-02   1.94519277e+02] [  7.94854169e-05  -8.80320407e-02   1.16495701e+03]\n",
      "0.0 [ -1.73878109e-05  -1.81171485e-03   7.19721326e-01] [  6.77597282e-04  -1.56344904e-02   4.31034093e+00]\n",
      "This is the average radius of curvature of the anes 29494.0898868\n"
     ]
    },
    {
     "name": "stderr",
     "output_type": "stream",
     "text": [
      "\r",
      " 48%|████▊     | 609/1261 [07:14<07:31,  1.45it/s]"
     ]
    },
    {
     "name": "stdout",
     "output_type": "stream",
     "text": [
      "975.93925138\n",
      "0.0 [ -3.66026427e-05   1.63029789e-02   1.88073959e+02] [  8.56749114e-05  -9.50630056e-02   1.16401321e+03]\n",
      "0.0 [ -3.12030208e-04   2.89540905e-03   6.95873649e-01] [  7.30361484e-04  -1.68831898e-02   4.30684888e+00]\n",
      "This is the average radius of curvature of the anes 2287.31433982\n"
     ]
    },
    {
     "name": "stderr",
     "output_type": "stream",
     "text": [
      "\r",
      " 48%|████▊     | 610/1261 [07:14<07:34,  1.43it/s]"
     ]
    },
    {
     "name": "stdout",
     "output_type": "stream",
     "text": [
      "978.37067658\n",
      "0.0 [ -4.11952042e-05   1.94725012e-02   1.85143503e+02] [  7.71910523e-05  -9.20848413e-02   1.16351418e+03]\n",
      "0.0 [ -3.51180877e-04   3.45831622e-03   6.85030960e-01] [  6.58038283e-04  -1.63542678e-02   4.30500246e+00]\n",
      "This is the average radius of curvature of the anes 2183.93234445\n"
     ]
    },
    {
     "name": "stderr",
     "output_type": "stream",
     "text": [
      "\r",
      " 48%|████▊     | 611/1261 [07:15<07:27,  1.45it/s]"
     ]
    },
    {
     "name": "stdout",
     "output_type": "stream",
     "text": [
      "985.823396995\n",
      "0.0 [ -6.62104048e-05   4.23385147e-02   1.77298144e+02] [  7.32374542e-05  -9.18484158e-02   1.16312154e+03]\n",
      "0.0 [ -5.64430459e-04   7.51932020e-03   6.56003133e-01] [  6.24334650e-04  -1.63122786e-02   4.30354970e+00]\n",
      "This is the average radius of curvature of the anes 1687.09607692\n"
     ]
    },
    {
     "name": "stderr",
     "output_type": "stream",
     "text": [
      "\r",
      " 49%|████▊     | 612/1261 [07:16<07:23,  1.46it/s]"
     ]
    },
    {
     "name": "stdout",
     "output_type": "stream",
     "text": [
      "980.338121742\n",
      "0.0 [ -2.41951637e-05   1.00731470e-02   1.82611061e+02] [  1.06386184e-04  -1.15794537e-01   1.16294918e+03]\n",
      "0.0 [ -2.06258931e-04   1.78899090e-03   6.75660926e-01] [  9.06920943e-04  -2.05651097e-02   4.30291198e+00]\n",
      "This is the average radius of curvature of the anes 2975.81484233\n"
     ]
    },
    {
     "name": "stderr",
     "output_type": "stream",
     "text": [
      "\r",
      " 49%|████▊     | 613/1261 [07:16<07:36,  1.42it/s]"
     ]
    },
    {
     "name": "stdout",
     "output_type": "stream",
     "text": [
      "981.057356041\n",
      "0.0 [ -6.27702371e-06  -7.84557303e-03   1.85824952e+02] [  1.76493721e-04  -1.62597959e-01   1.16688231e+03]\n",
      "0.0 [ -5.35103717e-05  -1.39337377e-03   6.87552321e-01] [  1.50457367e-03  -2.88773974e-02   4.31746454e+00]\n",
      "This is the average radius of curvature of the anes 9676.7459678\n"
     ]
    },
    {
     "name": "stderr",
     "output_type": "stream",
     "text": [
      "\r",
      " 49%|████▊     | 614/1261 [07:17<07:29,  1.44it/s]"
     ]
    },
    {
     "name": "stdout",
     "output_type": "stream",
     "text": [
      "973.363090537\n",
      "0.0 [  2.51477820e-05  -4.01242396e-02   1.93024451e+02] [  1.99881022e-04  -1.81184999e-01   1.16638754e+03]\n",
      "0.0 [  2.14379812e-04  -7.12606495e-03   7.14190470e-01] [  1.70394574e-03  -3.21784559e-02   4.31563390e+00]\n",
      "This is the average radius of curvature of the anes 2626.37927382\n"
     ]
    },
    {
     "name": "stderr",
     "output_type": "stream",
     "text": [
      "\r",
      " 49%|████▉     | 615/1261 [07:18<07:30,  1.43it/s]"
     ]
    },
    {
     "name": "stdout",
     "output_type": "stream",
     "text": [
      "960.329766372\n",
      "0.0 [  1.11289637e-04  -1.31169917e-01   2.14229507e+02] [  2.16285620e-04  -1.98341322e-01   1.16857668e+03]\n",
      "0.0 [ 0.00094872 -0.02329578  0.79264918] [  1.84379166e-03  -3.52254187e-02   4.32373373e+00]\n",
      "This is the average radius of curvature of the anes 799.139116325\n"
     ]
    },
    {
     "name": "stderr",
     "output_type": "stream",
     "text": [
      "\r",
      " 49%|████▉     | 616/1261 [07:18<07:25,  1.45it/s]"
     ]
    },
    {
     "name": "stdout",
     "output_type": "stream",
     "text": [
      "956.892497859\n",
      "0.0 [  1.96140260e-04  -2.29420010e-01   2.41112733e+02] [  2.26500870e-04  -2.07478658e-01   1.16653415e+03]\n",
      "0.0 [ 0.00167206 -0.04074499  0.89211711] [  1.93087462e-03  -3.68482097e-02   4.31617634e+00]\n",
      "This is the average radius of curvature of the anes 559.255518468\n"
     ]
    },
    {
     "name": "stderr",
     "output_type": "stream",
     "text": [
      "\r",
      " 49%|████▉     | 617/1261 [07:19<07:18,  1.47it/s]"
     ]
    },
    {
     "name": "stdout",
     "output_type": "stream",
     "text": [
      "954.197502308\n",
      "0.0 [  2.47934381e-04  -2.94916053e-01   2.61463635e+02] [  2.73093322e-04  -2.56219563e-01   1.17483217e+03]\n",
      "0.0 [ 0.00211359 -0.05237709  0.96741545] [  2.32806595e-03  -4.55045944e-02   4.34687903e+00]\n",
      "This is the average radius of curvature of the anes 452.976325441\n"
     ]
    },
    {
     "name": "stderr",
     "output_type": "stream",
     "text": [
      "\r",
      " 49%|████▉     | 618/1261 [07:20<07:12,  1.49it/s]"
     ]
    },
    {
     "name": "stdout",
     "output_type": "stream",
     "text": [
      "945.363791382\n",
      "0.0 [  2.59210445e-04  -3.15283189e-01   2.69399159e+02] [  2.45266860e-04  -2.50378081e-01   1.17530447e+03]\n",
      "0.0 [ 0.00220972 -0.05599429  0.99677689] [  2.09085092e-03  -4.44671472e-02   4.34862653e+00]\n",
      "This is the average radius of curvature of the anes 467.185020687\n"
     ]
    },
    {
     "name": "stderr",
     "output_type": "stream",
     "text": [
      "\r",
      " 49%|████▉     | 619/1261 [07:20<07:11,  1.49it/s]"
     ]
    },
    {
     "name": "stdout",
     "output_type": "stream",
     "text": [
      "933.219878127\n",
      "0.0 [  3.06228764e-04  -3.79640058e-01   2.92611915e+02] [  2.07953408e-04  -2.30471028e-01   1.16938379e+03]\n",
      "0.0 [ 0.00261054 -0.06742407  1.08266409] [  1.77276121e-03  -4.09316546e-02   4.32672001e+00]\n",
      "This is the average radius of curvature of the anes 475.59385576\n"
     ]
    },
    {
     "name": "stderr",
     "output_type": "stream",
     "text": [
      "\r",
      " 49%|████▉     | 620/1261 [07:21<07:17,  1.46it/s]"
     ]
    },
    {
     "name": "stdout",
     "output_type": "stream",
     "text": [
      "928.295017829\n",
      "0.0 [  2.69645968e-04  -3.55904465e-01   2.92309447e+02] [  1.80828862e-04  -2.21923908e-01   1.17018742e+03]\n",
      "0.0 [ 0.00229868 -0.06320863  1.08154495] [  1.54152988e-03  -3.94136861e-02   4.32969347e+00]\n",
      "This is the average radius of curvature of the anes 543.930399536\n"
     ]
    },
    {
     "name": "stderr",
     "output_type": "stream",
     "text": [
      "\r",
      " 49%|████▉     | 621/1261 [07:22<07:10,  1.49it/s]"
     ]
    },
    {
     "name": "stdout",
     "output_type": "stream",
     "text": [
      "925.74314448\n",
      "0.0 [  2.43796838e-04  -3.52151295e-01   3.00363265e+02] [  1.63509052e-04  -2.19323750e-01   1.17210906e+03]\n",
      "0.0 [ 0.00207832 -0.06254207  1.11134408] [  1.39388197e-03  -3.89518979e-02   4.33680351e+00]\n",
      "This is the average radius of curvature of the anes 601.519052268\n"
     ]
    },
    {
     "name": "stderr",
     "output_type": "stream",
     "text": [
      "\r",
      " 49%|████▉     | 622/1261 [07:23<07:18,  1.46it/s]"
     ]
    },
    {
     "name": "stdout",
     "output_type": "stream",
     "text": [
      "930.252520025\n",
      "0.0 [  1.79208215e-04  -3.01854191e-01   2.93508386e+02] [  1.52125494e-04  -2.21677361e-01   1.18011448e+03]\n",
      "0.0 [ 0.00152771 -0.0536093   1.08598103] [  1.29683942e-03  -3.93698993e-02   4.36642356e+00]\n",
      "This is the average radius of curvature of the anes 715.147770892\n"
     ]
    },
    {
     "name": "stderr",
     "output_type": "stream",
     "text": [
      "\r",
      " 49%|████▉     | 623/1261 [07:23<07:12,  1.48it/s]"
     ]
    },
    {
     "name": "stdout",
     "output_type": "stream",
     "text": [
      "931.751071137\n",
      "0.0 [  1.76793170e-04  -3.09949872e-01   3.00922918e+02] [  1.38785292e-04  -2.22337254e-01   1.18932911e+03]\n",
      "0.0 [ 0.00150713 -0.0550471   1.1134148 ] [  1.18311686e-03  -3.94870964e-02   4.40051770e+00]\n",
      "This is the average radius of curvature of the anes 756.867575547\n"
     ]
    },
    {
     "name": "stderr",
     "output_type": "stream",
     "text": [
      "\r",
      " 49%|████▉     | 624/1261 [07:24<07:17,  1.46it/s]"
     ]
    },
    {
     "name": "stdout",
     "output_type": "stream",
     "text": [
      "930.619782851\n",
      "0.0 [  1.93935593e-04  -3.33834455e-01   3.11740450e+02] [  1.29963275e-04  -2.26833846e-01   1.19849799e+03]\n",
      "0.0 [ 0.00165326 -0.059289    1.15343967] [  1.10791092e-03  -4.02856911e-02   4.43444256e+00]\n",
      "This is the average radius of curvature of the anes 756.427347371\n"
     ]
    },
    {
     "name": "stderr",
     "output_type": "stream",
     "text": [
      "\r",
      " 50%|████▉     | 625/1261 [07:25<07:20,  1.44it/s]"
     ]
    },
    {
     "name": "stdout",
     "output_type": "stream",
     "text": [
      "920.656235143\n",
      "0.0 [  1.41699415e-04  -2.94671048e-01   3.16949218e+02] [  9.15281611e-05  -1.91120003e-01   1.18908883e+03]\n",
      "0.0 [ 0.00120796 -0.05233358  1.17271211] [  7.80259268e-04  -3.39429125e-02   4.39962868e+00]\n",
      "This is the average radius of curvature of the anes 1057.54330984\n"
     ]
    },
    {
     "name": "stderr",
     "output_type": "stream",
     "text": [
      "\r",
      " 50%|████▉     | 626/1261 [07:25<07:11,  1.47it/s]"
     ]
    },
    {
     "name": "stdout",
     "output_type": "stream",
     "text": [
      "913.772219034\n",
      "0.0 [  1.99567240e-04  -3.60806057e-01   3.43349302e+02] [  7.72443418e-05  -1.77480579e-01   1.18854667e+03]\n",
      "0.0 [ 0.00170127 -0.06407916  1.27039242] [  6.58492565e-04  -3.15205508e-02   4.39762268e+00]\n",
      "This is the average radius of curvature of the anes 1056.15189346\n"
     ]
    },
    {
     "name": "stderr",
     "output_type": "stream",
     "text": [
      "\r",
      " 50%|████▉     | 627/1261 [07:26<07:05,  1.49it/s]"
     ]
    },
    {
     "name": "stdout",
     "output_type": "stream",
     "text": [
      "910.143427831\n",
      "0.0 [  2.89918253e-04  -4.58985403e-01   3.74389618e+02] [  7.12528978e-05  -1.73394836e-01   1.19128328e+03]\n",
      "0.0 [ 0.0024715  -0.08151581  1.38524159] [  6.07416703e-04  -3.07949229e-02   4.40774814e+00]\n",
      "This is the average radius of curvature of the anes 1028.65582269\n"
     ]
    },
    {
     "name": "stderr",
     "output_type": "stream",
     "text": [
      "\r",
      " 50%|████▉     | 628/1261 [07:27<07:05,  1.49it/s]"
     ]
    },
    {
     "name": "stdout",
     "output_type": "stream",
     "text": [
      "903.514210855\n",
      "0.0 [  2.83142114e-04  -4.63565053e-01   3.86983599e+02] [  8.18413732e-05  -1.81725324e-01   1.19184736e+03]\n",
      "0.0 [ 0.00241373 -0.08232915  1.43183932] [  6.97681338e-04  -3.22744176e-02   4.40983524e+00]\n",
      "This is the average radius of curvature of the anes 927.037551584\n"
     ]
    },
    {
     "name": "stderr",
     "output_type": "stream",
     "text": [
      "\r",
      " 50%|████▉     | 629/1261 [07:27<06:56,  1.52it/s]"
     ]
    },
    {
     "name": "stdout",
     "output_type": "stream",
     "text": [
      "908.695863385\n",
      "0.0 [  3.47576701e-04  -5.42022930e-01   4.12753675e+02] [  1.03791502e-04  -1.94019715e-01   1.19725596e+03]\n",
      "0.0 [ 0.00296302 -0.09626327  1.5271886 ] [  8.84801795e-04  -3.44579013e-02   4.42984706e+00]\n",
      "This is the average radius of curvature of the anes 737.202698678\n"
     ]
    },
    {
     "name": "stderr",
     "output_type": "stream",
     "text": [
      "\r",
      " 50%|████▉     | 630/1261 [07:28<06:56,  1.51it/s]"
     ]
    },
    {
     "name": "stdout",
     "output_type": "stream",
     "text": [
      "923.870632427\n",
      "0.0 [  2.87368531e-04  -4.92289954e-01   4.02106903e+02] [  1.28815974e-04  -2.27786465e-01   1.21776501e+03]\n",
      "0.0 [ 0.00244976 -0.0874307   1.48779554] [  1.09813042e-03  -4.04548761e-02   4.50573055e+00]\n",
      "This is the average radius of curvature of the anes 662.883966537\n"
     ]
    },
    {
     "name": "stderr",
     "output_type": "stream",
     "text": [
      "\r",
      " 50%|█████     | 631/1261 [07:29<06:53,  1.52it/s]"
     ]
    },
    {
     "name": "stdout",
     "output_type": "stream",
     "text": [
      "938.511466706\n",
      "0.0 [  2.34267966e-04  -4.36382346e-01   3.81798228e+02] [  1.41547442e-04  -2.58583943e-01   1.24040554e+03]\n",
      "0.0 [ 0.00199709 -0.0775015   1.41265345] [  1.20666363e-03  -4.59245084e-02   4.58950049e+00]\n",
      "This is the average radius of curvature of the anes 668.300943288\n"
     ]
    },
    {
     "name": "stderr",
     "output_type": "stream",
     "text": [
      "\r",
      " 50%|█████     | 632/1261 [07:29<07:40,  1.37it/s]"
     ]
    },
    {
     "name": "stdout",
     "output_type": "stream",
     "text": [
      "948.917824493\n",
      "0.0 [  1.83445337e-04  -3.78162400e-01   3.59883906e+02] [  1.37251445e-04  -2.72527066e-01   1.25673037e+03]\n",
      "0.0 [ 0.00156383 -0.06716164  1.33157045] [  1.17004112e-03  -4.84008069e-02   4.64990235e+00]\n",
      "This is the average radius of curvature of the anes 750.730511376\n"
     ]
    },
    {
     "name": "stderr",
     "output_type": "stream",
     "text": [
      "\r",
      " 50%|█████     | 633/1261 [07:31<09:23,  1.11it/s]"
     ]
    },
    {
     "name": "stdout",
     "output_type": "stream",
     "text": [
      "955.645083383\n",
      "0.0 [  1.51489767e-04  -3.45372194e-01   3.48387226e+02] [  1.32944236e-04  -2.75010125e-01   1.26302930e+03]\n",
      "0.0 [ 0.00129142 -0.0613381   1.28903273] [  1.13332302e-03  -4.88417982e-02   4.67320840e+00]\n",
      "This is the average radius of curvature of the anes 832.117884376\n"
     ]
    },
    {
     "name": "stderr",
     "output_type": "stream",
     "text": [
      "\r",
      " 50%|█████     | 634/1261 [07:32<09:00,  1.16it/s]"
     ]
    },
    {
     "name": "stdout",
     "output_type": "stream",
     "text": [
      "950.595423013\n",
      "0.0 [  1.45870929e-04  -3.39438940e-01   3.46953921e+02] [  9.25917277e-05  -2.44417927e-01   1.25677250e+03]\n",
      "0.0 [  1.24352050e-03  -6.02843557e-02   1.28372951e+00] [  7.89325960e-04  -4.34086238e-02   4.65005827e+00]\n",
      "This is the average radius of curvature of the anes 1039.52125412\n"
     ]
    },
    {
     "name": "stderr",
     "output_type": "stream",
     "text": [
      "\r",
      " 50%|█████     | 635/1261 [07:32<08:36,  1.21it/s]"
     ]
    },
    {
     "name": "stdout",
     "output_type": "stream",
     "text": [
      "940.255407319\n",
      "0.0 [  1.85603771e-04  -3.76687162e-01   3.58654959e+02] [  6.88329543e-05  -2.10976289e-01   1.24011982e+03]\n",
      "0.0 [ 0.00158224 -0.06689964  1.32702335] [  5.86787169e-04  -3.74693890e-02   4.58844332e+00]\n",
      "This is the average radius of curvature of the anes 1172.02531992\n"
     ]
    },
    {
     "name": "stderr",
     "output_type": "stream",
     "text": [
      "\r",
      " 50%|█████     | 636/1261 [07:33<08:12,  1.27it/s]"
     ]
    },
    {
     "name": "stdout",
     "output_type": "stream",
     "text": [
      "930.894060138\n",
      "0.0 [  1.70219008e-04  -3.76629617e-01   3.72329146e+02] [  5.88241733e-05  -1.78667515e-01   1.21847524e+03]\n",
      "0.0 [ 0.00145108 -0.06688942  1.37761784] [  5.01464313e-04  -3.17313507e-02   4.50835839e+00]\n",
      "This is the average radius of curvature of the anes 1345.47153584\n"
     ]
    },
    {
     "name": "stderr",
     "output_type": "stream",
     "text": [
      "\r",
      " 51%|█████     | 637/1261 [07:34<07:48,  1.33it/s]"
     ]
    },
    {
     "name": "stdout",
     "output_type": "stream",
     "text": [
      "919.899475825\n",
      "0.0 [  1.59042031e-04  -3.84792930e-01   3.92251812e+02] [  5.32772615e-05  -1.44439601e-01   1.19401351e+03]\n",
      "0.0 [  1.35580151e-03  -6.83392243e-02   1.45133170e+00] [  4.54177999e-04  -2.56524731e-02   4.41784997e+00]\n",
      "This is the average radius of curvature of the anes 1473.34884159\n"
     ]
    },
    {
     "name": "stderr",
     "output_type": "stream",
     "text": [
      "\r",
      " 51%|█████     | 638/1261 [07:34<07:36,  1.37it/s]"
     ]
    },
    {
     "name": "stdout",
     "output_type": "stream",
     "text": [
      "915.508524696\n",
      "0.0 [  1.51063065e-04  -3.90113254e-01   4.06370893e+02] [  7.09205958e-05  -1.40501900e-01   1.18383939e+03]\n",
      "0.0 [  1.28778241e-03  -6.92841139e-02   1.50357230e+00] [  6.04583895e-04  -2.49531375e-02   4.38020573e+00]\n",
      "This is the average radius of curvature of the anes 1218.85099764\n"
     ]
    },
    {
     "name": "stderr",
     "output_type": "stream",
     "text": [
      "\r",
      " 51%|█████     | 639/1261 [07:35<07:31,  1.38it/s]"
     ]
    },
    {
     "name": "stdout",
     "output_type": "stream",
     "text": [
      "916.829821587\n",
      "0.0 [  1.98208582e-04  -4.38382268e-01   4.21539468e+02] [  1.25306472e-04  -1.84745221e-01   1.19369180e+03]\n",
      "0.0 [ 0.00168969 -0.07785669  1.55969603] [  1.06821261e-03  -3.28107513e-02   4.41665966e+00]\n",
      "This is the average radius of curvature of the anes 767.434850964\n"
     ]
    },
    {
     "name": "stderr",
     "output_type": "stream",
     "text": [
      "\r",
      " 51%|█████     | 640/1261 [07:36<07:25,  1.39it/s]"
     ]
    },
    {
     "name": "stdout",
     "output_type": "stream",
     "text": [
      "923.350601209\n",
      "0.0 [  1.93669019e-04  -4.32736613e-01   4.20042777e+02] [  1.85400827e-04  -2.52760996e-01   1.21826524e+03]\n",
      "0.0 [ 0.00165099 -0.07685402  1.55415828] [  1.58050497e-03  -4.48903530e-02   4.50758140e+00]\n",
      "This is the average radius of curvature of the anes 622.847118663\n"
     ]
    },
    {
     "name": "stderr",
     "output_type": "stream",
     "text": [
      "\r",
      " 51%|█████     | 641/1261 [07:36<07:23,  1.40it/s]"
     ]
    },
    {
     "name": "stdout",
     "output_type": "stream",
     "text": [
      "930.88350273\n",
      "0.0 [  1.70973147e-04  -3.97324451e-01   4.05161827e+02] [  1.98542211e-04  -2.83985110e-01   1.24030221e+03]\n",
      "0.0 [  1.45751189e-03  -7.05648225e-02   1.49909876e+00] [  1.69253264e-03  -5.04357555e-02   4.58911819e+00]\n",
      "This is the average radius of curvature of the anes 642.159032105\n"
     ]
    },
    {
     "name": "stderr",
     "output_type": "stream",
     "text": [
      "\r",
      " 51%|█████     | 642/1261 [07:37<07:23,  1.40it/s]"
     ]
    },
    {
     "name": "stdout",
     "output_type": "stream",
     "text": [
      "929.766947289\n",
      "0.0 [  1.46347275e-04  -3.62775944e-01   3.92678921e+02] [  1.61121312e-04  -2.71518560e-01   1.24919421e+03]\n",
      "0.0 [  1.24758125e-03  -6.44290077e-02   1.45291201e+00] [  1.37352696e-03  -4.82216963e-02   4.62201857e+00]\n",
      "This is the average radius of curvature of the anes 768.570382485\n"
     ]
    },
    {
     "name": "stderr",
     "output_type": "stream",
     "text": [
      "\r",
      " 51%|█████     | 643/1261 [07:38<07:28,  1.38it/s]"
     ]
    },
    {
     "name": "stdout",
     "output_type": "stream",
     "text": [
      "926.593123787\n",
      "0.0 [  1.42691823e-04  -3.54812934e-01   3.90271549e+02] [  1.20982104e-04  -2.43150177e-01   1.24780223e+03]\n",
      "0.0 [  1.21641925e-03  -6.30147771e-02   1.44400473e+00] [  1.03134824e-03  -4.31834714e-02   4.61686824e+00]\n",
      "This is the average radius of curvature of the anes 899.652238719\n"
     ]
    },
    {
     "name": "stderr",
     "output_type": "stream",
     "text": [
      "\r",
      " 51%|█████     | 644/1261 [07:39<07:26,  1.38it/s]"
     ]
    },
    {
     "name": "stdout",
     "output_type": "stream",
     "text": [
      "921.331284513\n",
      "0.0 [  1.55858295e-04  -3.56412629e-01   3.89729599e+02] [  1.13377189e-04  -2.35959448e-01   1.24641612e+03]\n",
      "0.0 [  1.32866080e-03  -6.32988829e-02   1.44199952e+00] [  9.66517857e-04  -4.19063979e-02   4.61173965e+00]\n",
      "This is the average radius of curvature of the anes 897.267109573\n"
     ]
    },
    {
     "name": "stderr",
     "output_type": "stream",
     "text": [
      "\r",
      " 51%|█████     | 645/1261 [07:39<07:25,  1.38it/s]"
     ]
    },
    {
     "name": "stdout",
     "output_type": "stream",
     "text": [
      "916.244730605\n",
      "0.0 [  1.65397243e-04  -3.56694902e-01   3.89990979e+02] [  1.05334184e-04  -2.24861619e-01   1.24249784e+03]\n",
      "0.0 [  1.40997842e-03  -6.33490146e-02   1.44296662e+00] [  8.97952848e-04  -3.99354235e-02   4.59724200e+00]\n",
      "This is the average radius of curvature of the anes 914.906858656\n"
     ]
    },
    {
     "name": "stderr",
     "output_type": "stream",
     "text": [
      "\r",
      " 51%|█████     | 646/1261 [07:40<07:21,  1.39it/s]"
     ]
    },
    {
     "name": "stdout",
     "output_type": "stream",
     "text": [
      "910.316618667\n",
      "0.0 [  1.83644464e-04  -3.72816778e-01   3.97518528e+02] [  1.01463235e-04  -2.13422378e-01   1.23571506e+03]\n",
      "0.0 [ 0.00156553 -0.06621226  1.47081855] [  8.64953787e-04  -3.79038143e-02   4.57214573e+00]\n",
      "This is the average radius of curvature of the anes 900.794529157\n"
     ]
    },
    {
     "name": "stderr",
     "output_type": "stream",
     "text": [
      "\r",
      " 51%|█████▏    | 647/1261 [07:41<07:22,  1.39it/s]"
     ]
    },
    {
     "name": "stdout",
     "output_type": "stream",
     "text": [
      "909.568641043\n",
      "0.0 [  1.73257768e-04  -3.59745653e-01   3.96142099e+02] [  1.09709318e-04  -2.15739162e-01   1.23502214e+03]\n",
      "0.0 [ 0.00147699 -0.06389083  1.46572577] [  9.35249996e-04  -3.83152752e-02   4.56958193e+00]\n",
      "This is the average radius of curvature of the anes 876.395880629\n"
     ]
    },
    {
     "name": "stderr",
     "output_type": "stream",
     "text": [
      "\r",
      " 51%|█████▏    | 648/1261 [07:41<07:23,  1.38it/s]"
     ]
    },
    {
     "name": "stdout",
     "output_type": "stream",
     "text": [
      "911.440155146\n",
      "0.0 [  1.70011580e-04  -3.55030888e-01   3.96385060e+02] [  1.31813314e-04  -2.26578528e-01   1.23521498e+03]\n",
      "0.0 [  1.44931472e-03  -6.30534857e-02   1.46662472e+00] [  1.12368214e-03  -4.02403466e-02   4.57029543e+00]\n",
      "This is the average radius of curvature of the anes 793.09698622\n"
     ]
    },
    {
     "name": "stderr",
     "output_type": "stream",
     "text": [
      "\r",
      " 51%|█████▏    | 649/1261 [07:42<07:20,  1.39it/s]"
     ]
    },
    {
     "name": "stdout",
     "output_type": "stream",
     "text": [
      "910.257896338\n",
      "0.0 [  1.56106829e-04  -3.42000334e-01   3.95570556e+02] [  1.39626745e-04  -2.29555587e-01   1.23350024e+03]\n",
      "0.0 [  1.33077950e-03  -6.07392594e-02   1.46361106e+00] [  1.19029007e-03  -4.07690722e-02   4.56395089e+00]\n",
      "This is the average radius of curvature of the anes 798.914156973\n"
     ]
    },
    {
     "name": "stderr",
     "output_type": "stream",
     "text": [
      "\r",
      " 52%|█████▏    | 650/1261 [07:43<07:19,  1.39it/s]"
     ]
    },
    {
     "name": "stdout",
     "output_type": "stream",
     "text": [
      "912.308054933\n",
      "0.0 [  1.39924155e-04  -3.25106219e-01   3.92038028e+02] [  1.39131865e-04  -2.23851000e-01   1.23195316e+03]\n",
      "0.0 [  1.19282543e-03  -5.77388644e-02   1.45054070e+00] [  1.18607133e-03  -3.97559377e-02   4.55822671e+00]\n",
      "This is the average radius of curvature of the anes 843.83034534\n"
     ]
    },
    {
     "name": "stderr",
     "output_type": "stream",
     "text": [
      "\r",
      " 52%|█████▏    | 651/1261 [07:44<07:21,  1.38it/s]"
     ]
    },
    {
     "name": "stdout",
     "output_type": "stream",
     "text": [
      "911.763039712\n",
      "0.0 [  1.34444320e-04  -3.16746103e-01   3.90062283e+02] [  1.49136879e-04  -2.31485394e-01   1.23292739e+03]\n",
      "0.0 [  1.14611094e-03  -5.62541079e-02   1.44323045e+00] [  1.27136207e-03  -4.11118059e-02   4.56183135e+00]\n",
      "This is the average radius of curvature of the anes 832.606888811\n"
     ]
    },
    {
     "name": "stderr",
     "output_type": "stream",
     "text": [
      "\r",
      " 52%|█████▏    | 652/1261 [07:44<07:21,  1.38it/s]"
     ]
    },
    {
     "name": "stdout",
     "output_type": "stream",
     "text": [
      "911.287527885\n",
      "0.0 [  1.31793442e-04  -3.11314907e-01   3.88553457e+02] [  1.70562906e-04  -2.50165019e-01   1.23583191e+03]\n",
      "0.0 [  1.12351274e-03  -5.52895274e-02   1.43764779e+00] [  1.45401466e-03  -4.44293074e-02   4.57257808e+00]\n",
      "This is the average radius of curvature of the anes 791.969178847\n"
     ]
    },
    {
     "name": "stderr",
     "output_type": "stream",
     "text": [
      "\r",
      " 52%|█████▏    | 653/1261 [07:45<07:20,  1.38it/s]"
     ]
    },
    {
     "name": "stdout",
     "output_type": "stream",
     "text": [
      "908.802815281\n",
      "0.0 [  1.30379324e-04  -3.04650143e-01   3.87072354e+02] [  1.99301329e-04  -2.76107762e-01   1.23972321e+03]\n",
      "0.0 [  1.11145766e-03  -5.41058655e-02   1.43216771e+00] [  1.69900397e-03  -4.90367385e-02   4.58697587e+00]\n",
      "This is the average radius of curvature of the anes 747.18873125\n"
     ]
    },
    {
     "name": "stderr",
     "output_type": "stream",
     "text": [
      "\r",
      " 52%|█████▏    | 654/1261 [07:46<07:14,  1.40it/s]"
     ]
    },
    {
     "name": "stdout",
     "output_type": "stream",
     "text": [
      "908.032309852\n",
      "0.0 [  1.35130459e-04  -3.00860173e-01   3.85520907e+02] [  2.45629479e-04  -3.16771160e-01   1.24786953e+03]\n",
      "0.0 [  1.15196014e-03  -5.34327668e-02   1.42642736e+00] [  2.09394218e-03  -5.62585580e-02   4.61711727e+00]\n",
      "This is the average radius of curvature of the anes 675.821536577\n"
     ]
    },
    {
     "name": "stderr",
     "output_type": "stream",
     "text": [
      "\r",
      " 52%|█████▏    | 655/1261 [07:46<07:08,  1.42it/s]"
     ]
    },
    {
     "name": "stdout",
     "output_type": "stream",
     "text": [
      "894.863292335\n",
      "0.0 [  1.46581003e-04  -3.02893188e-01   3.85451305e+02] [  1.74901334e-04  -2.65502742e-01   1.23879036e+03]\n",
      "0.0 [  1.24957374e-03  -5.37938301e-02   1.42616983e+00] [  1.49099889e-03  -4.71532870e-02   4.58352433e+00]\n",
      "This is the average radius of curvature of the anes 738.339268979\n"
     ]
    },
    {
     "name": "stderr",
     "output_type": "stream",
     "text": [
      "\r",
      " 52%|█████▏    | 656/1261 [07:47<07:01,  1.44it/s]"
     ]
    },
    {
     "name": "stdout",
     "output_type": "stream",
     "text": [
      "890.930515017\n",
      "0.0 [  1.53717037e-04  -3.02940921e-01   3.85248303e+02] [  1.51429235e-04  -2.44354384e-01   1.23523780e+03]\n",
      "0.0 [  1.31040700e-03  -5.38023075e-02   1.42541872e+00] [  1.29090394e-03  -4.33973386e-02   4.57037987e+00]\n",
      "This is the average radius of curvature of the anes 771.638986789\n"
     ]
    },
    {
     "name": "stderr",
     "output_type": "stream",
     "text": [
      "\r",
      " 52%|█████▏    | 657/1261 [07:48<06:59,  1.44it/s]"
     ]
    },
    {
     "name": "stdout",
     "output_type": "stream",
     "text": [
      "887.529460981\n",
      "0.0 [  1.61383311e-04  -3.04303044e-01   3.85313955e+02] [  1.31958001e-04  -2.28188748e-01   1.23332898e+03]\n",
      "0.0 [  1.37576045e-03  -5.40442206e-02   1.42566164e+00] [  1.12491557e-03  -4.05263217e-02   4.56331721e+00]\n",
      "This is the average radius of curvature of the anes 810.602053135\n"
     ]
    },
    {
     "name": "stderr",
     "output_type": "stream",
     "text": [
      "\r",
      " 52%|█████▏    | 658/1261 [07:49<06:55,  1.45it/s]"
     ]
    },
    {
     "name": "stdout",
     "output_type": "stream",
     "text": [
      "882.002228504\n",
      "0.0 [  1.80303852e-04  -3.17157345e-01   3.88438507e+02] [  1.04721267e-04  -2.02676119e-01   1.22720198e+03]\n",
      "0.0 [ 0.00153705 -0.05632714  1.43722248] [  8.92727856e-04  -3.59952787e-02   4.54064734e+00]\n",
      "This is the average radius of curvature of the anes 888.016878752\n"
     ]
    },
    {
     "name": "stderr",
     "output_type": "stream",
     "text": [
      "\r",
      " 52%|█████▏    | 659/1261 [07:49<06:59,  1.44it/s]"
     ]
    },
    {
     "name": "stdout",
     "output_type": "stream",
     "text": [
      "885.024376124\n",
      "0.0 [  1.75748355e-04  -3.12593572e-01   3.87582410e+02] [  1.17769065e-04  -2.09248057e-01   1.22827439e+03]\n",
      "0.0 [ 0.00149822 -0.05551662  1.43405492] [  1.00395773e-03  -3.71624550e-02   4.54461525e+00]\n",
      "This is the average radius of curvature of the anes 834.334516077\n"
     ]
    },
    {
     "name": "stderr",
     "output_type": "stream",
     "text": [
      "\r",
      " 52%|█████▏    | 660/1261 [07:50<06:58,  1.44it/s]"
     ]
    },
    {
     "name": "stdout",
     "output_type": "stream",
     "text": [
      "883.762483934\n",
      "0.0 [  1.76278095e-04  -3.12246231e-01   3.87670942e+02] [  1.15639852e-04  -2.08576322e-01   1.22824237e+03]\n",
      "0.0 [ 0.00150274 -0.05545493  1.43438248] [  9.85806609e-04  -3.70431549e-02   4.54449676e+00]\n",
      "This is the average radius of curvature of the anes 842.505748439\n"
     ]
    },
    {
     "name": "stderr",
     "output_type": "stream",
     "text": [
      "\r",
      " 52%|█████▏    | 661/1261 [07:51<07:04,  1.41it/s]"
     ]
    },
    {
     "name": "stdout",
     "output_type": "stream",
     "text": [
      "886.979590152\n",
      "0.0 [  1.74481389e-04  -3.11013998e-01   3.87415919e+02] [  1.20079203e-04  -2.09163710e-01   1.22928896e+03]\n",
      "0.0 [ 0.00148742 -0.05523609  1.4334389 ] [  1.02365119e-03  -3.71474749e-02   4.54836915e+00]\n",
      "This is the average radius of curvature of the anes 827.15138002\n"
     ]
    },
    {
     "name": "stderr",
     "output_type": "stream",
     "text": [
      "\r",
      " 52%|█████▏    | 662/1261 [07:51<07:08,  1.40it/s]"
     ]
    },
    {
     "name": "stdout",
     "output_type": "stream",
     "text": [
      "890.515229899\n",
      "0.0 [  1.66361105e-04  -3.04330852e-01   3.85824433e+02] [  1.21631657e-04  -2.09469043e-01   1.23125740e+03]\n",
      "0.0 [  1.41819515e-03  -5.40491594e-02   1.42755040e+00] [  1.03688555e-03  -3.72017020e-02   4.55565239e+00]\n",
      "This is the average radius of curvature of the anes 837.321518369\n"
     ]
    },
    {
     "name": "stderr",
     "output_type": "stream",
     "text": [
      "\r",
      " 53%|█████▎    | 663/1261 [07:52<07:09,  1.39it/s]"
     ]
    },
    {
     "name": "stdout",
     "output_type": "stream",
     "text": [
      "891.899378744\n",
      "0.0 [  1.65499230e-04  -3.03633373e-01   3.85217736e+02] [  1.08461395e-04  -1.97820276e-01   1.23052383e+03]\n",
      "0.0 [  1.41084783e-03  -5.39252871e-02   1.42530562e+00] [  9.24611699e-04  -3.51328810e-02   4.55293818e+00]\n",
      "This is the average radius of curvature of the anes 897.712873869\n"
     ]
    },
    {
     "name": "stderr",
     "output_type": "stream",
     "text": [
      "\r",
      " 53%|█████▎    | 664/1261 [07:53<07:07,  1.40it/s]"
     ]
    },
    {
     "name": "stdout",
     "output_type": "stream",
     "text": [
      "894.306684802\n",
      "0.0 [  1.63747979e-04  -3.02905182e-01   3.84820889e+02] [  1.09903258e-04  -1.97325000e-01   1.23105104e+03]\n",
      "0.0 [  1.39591878e-03  -5.37959603e-02   1.42383729e+00] [  9.36903295e-04  -3.50449200e-02   4.55488886e+00]\n",
      "This is the average radius of curvature of the anes 894.399500002\n"
     ]
    },
    {
     "name": "stderr",
     "output_type": "stream",
     "text": [
      "\r",
      " 53%|█████▎    | 665/1261 [07:54<07:04,  1.40it/s]"
     ]
    },
    {
     "name": "stdout",
     "output_type": "stream",
     "text": [
      "895.876408016\n",
      "0.0 [  1.53975730e-04  -2.93162781e-01   3.82670241e+02] [  1.20147899e-04  -2.03166852e-01   1.23132725e+03]\n",
      "0.0 [  1.31261231e-03  -5.20657100e-02   1.41587989e+00] [  1.02423681e-03  -3.60824330e-02   4.55591081e+00]\n",
      "This is the average radius of curvature of the anes 871.591769296\n"
     ]
    },
    {
     "name": "stderr",
     "output_type": "stream",
     "text": [
      "\r",
      " 53%|█████▎    | 666/1261 [07:54<07:02,  1.41it/s]"
     ]
    },
    {
     "name": "stdout",
     "output_type": "stream",
     "text": [
      "894.819875504\n",
      "0.0 [  1.62792190e-04  -3.00749791e-01   3.84329313e+02] [  1.03630289e-04  -1.82792530e-01   1.22492231e+03]\n",
      "0.0 [  1.38777086e-03  -5.34131629e-02   1.42201846e+00] [  8.83427484e-04  -3.24639533e-02   4.53221256e+00]\n",
      "This is the average radius of curvature of the anes 928.705346957\n"
     ]
    },
    {
     "name": "stderr",
     "output_type": "stream",
     "text": [
      "\r",
      " 53%|█████▎    | 667/1261 [07:55<06:59,  1.42it/s]"
     ]
    },
    {
     "name": "stdout",
     "output_type": "stream",
     "text": [
      "897.75696804\n",
      "0.0 [  1.81559770e-04  -3.19373709e-01   3.88877403e+02] [  1.37931013e-04  -2.07091042e-01   1.22845750e+03]\n",
      "0.0 [ 0.00154776 -0.05672077  1.43884639] [  1.17583430e-03  -3.67793691e-02   4.54529275e+00]\n",
      "This is the average radius of curvature of the anes 750.700687898\n"
     ]
    },
    {
     "name": "stderr",
     "output_type": "stream",
     "text": [
      "\r",
      " 53%|█████▎    | 668/1261 [07:56<07:01,  1.41it/s]"
     ]
    },
    {
     "name": "stdout",
     "output_type": "stream",
     "text": [
      "897.837457245\n",
      "0.0 [  1.70941246e-04  -3.11293608e-01   3.87477009e+02] [  1.30756496e-04  -2.06370591e-01   1.23064877e+03]\n",
      "0.0 [ 0.00145724 -0.05528574  1.43366493] [  1.11467297e-03  -3.66514169e-02   4.55340043e+00]\n",
      "This is the average radius of curvature of the anes 794.154903698\n"
     ]
    },
    {
     "name": "stderr",
     "output_type": "stream",
     "text": [
      "\r",
      " 53%|█████▎    | 669/1261 [07:56<07:01,  1.40it/s]"
     ]
    },
    {
     "name": "stdout",
     "output_type": "stream",
     "text": [
      "899.279462217\n",
      "0.0 [  1.49753614e-04  -2.94412457e-01   3.84460483e+02] [  1.05350010e-04  -1.87741954e-01   1.22999879e+03]\n",
      "0.0 [  1.27661961e-03  -5.22876523e-02   1.42250379e+00] [  8.98087766e-04  -3.33429711e-02   4.55099551e+00]\n",
      "This is the average radius of curvature of the anes 950.933788804\n"
     ]
    },
    {
     "name": "stderr",
     "output_type": "stream",
     "text": [
      "\r",
      " 53%|█████▎    | 670/1261 [07:57<07:03,  1.40it/s]"
     ]
    },
    {
     "name": "stdout",
     "output_type": "stream",
     "text": [
      "900.21522051\n",
      "0.0 [  1.39169365e-04  -2.86483026e-01   3.83151411e+02] [  8.54166107e-05  -1.72944623e-01   1.22952060e+03]\n",
      "0.0 [  1.18639101e-03  -5.08793854e-02   1.41766022e+00] [  7.28159523e-04  -3.07149650e-02   4.54922621e+00]\n",
      "This is the average radius of curvature of the anes 1110.71843597\n"
     ]
    },
    {
     "name": "stderr",
     "output_type": "stream",
     "text": [
      "\r",
      " 53%|█████▎    | 671/1261 [07:58<07:06,  1.38it/s]"
     ]
    },
    {
     "name": "stdout",
     "output_type": "stream",
     "text": [
      "900.258389723\n",
      "0.0 [  1.33269081e-04  -2.81573012e-01   3.82199837e+02] [  6.69854681e-05  -1.60283871e-01   1.22951738e+03]\n",
      "0.0 [  1.13609226e-03  -5.00073669e-02   1.41413940e+00] [  5.71037718e-04  -2.84664155e-02   4.54921429e+00]\n",
      "This is the average radius of curvature of the anes 1318.42042689\n"
     ]
    },
    {
     "name": "stderr",
     "output_type": "stream",
     "text": [
      "\r",
      " 53%|█████▎    | 672/1261 [07:59<07:09,  1.37it/s]"
     ]
    },
    {
     "name": "stdout",
     "output_type": "stream",
     "text": [
      "898.771826989\n",
      "0.0 [  1.54982000e-04  -3.01370772e-01   3.86520212e+02] [  6.44847338e-05  -1.57219080e-01   1.22843053e+03]\n",
      "0.0 [  1.32119056e-03  -5.35234491e-02   1.43012478e+00] [  5.49719459e-04  -2.79221086e-02   4.54519296e+00]\n",
      "This is the average radius of curvature of the anes 1290.69269713\n"
     ]
    },
    {
     "name": "stderr",
     "output_type": "stream",
     "text": [
      "\r",
      " 53%|█████▎    | 673/1261 [07:59<07:16,  1.35it/s]"
     ]
    },
    {
     "name": "stdout",
     "output_type": "stream",
     "text": [
      "901.584635867\n",
      "0.0 [  1.54974111e-04  -3.03318227e-01   3.87505495e+02] [  7.01196559e-05  -1.56967296e-01   1.22773026e+03]\n",
      "0.0 [  1.32112330e-03  -5.38693170e-02   1.43377033e+00] [  5.97756042e-04  -2.78773917e-02   4.54260195e+00]\n",
      "This is the average radius of curvature of the anes 1217.55132467\n"
     ]
    },
    {
     "name": "stderr",
     "output_type": "stream",
     "text": [
      "\r",
      " 53%|█████▎    | 674/1261 [08:00<07:08,  1.37it/s]"
     ]
    },
    {
     "name": "stdout",
     "output_type": "stream",
     "text": [
      "903.057901572\n",
      "0.0 [  1.58662505e-04  -3.07823709e-01   3.89185527e+02] [  7.05805620e-05  -1.51494397e-01   1.22537758e+03]\n",
      "0.0 [  1.35256613e-03  -5.46694907e-02   1.43998645e+00] [  6.01685175e-04  -2.69054049e-02   4.53389706e+00]\n",
      "This is the average radius of curvature of the anes 1203.22807225\n"
     ]
    },
    {
     "name": "stderr",
     "output_type": "stream",
     "text": [
      "\r",
      " 54%|█████▎    | 675/1261 [08:01<07:07,  1.37it/s]"
     ]
    },
    {
     "name": "stdout",
     "output_type": "stream",
     "text": [
      "903.578927709\n",
      "0.0 [  1.57555104e-04  -3.07927312e-01   3.90202033e+02] [  6.54837320e-05  -1.41071139e-01   1.22140868e+03]\n",
      "0.0 [  1.34312575e-03  -5.46878905e-02   1.44374752e+00] [  5.58235718e-04  -2.50542344e-02   4.51921212e+00]\n",
      "This is the average radius of curvature of the anes 1270.45971103\n"
     ]
    },
    {
     "name": "stderr",
     "output_type": "stream",
     "text": [
      "\r",
      " 54%|█████▎    | 676/1261 [08:01<07:00,  1.39it/s]"
     ]
    },
    {
     "name": "stdout",
     "output_type": "stream",
     "text": [
      "902.445174619\n",
      "0.0 [  1.65366236e-04  -3.15443197e-01   3.92913895e+02] [  4.83394743e-05  -1.19601485e-01   1.21504715e+03]\n",
      "0.0 [  1.40971409e-03  -5.60227119e-02   1.45378141e+00] [  4.12084350e-04  -2.12412238e-02   4.49567446e+00]\n",
      "This is the average radius of curvature of the anes 1570.51802063\n"
     ]
    },
    {
     "name": "stderr",
     "output_type": "stream",
     "text": [
      "\r",
      " 54%|█████▎    | 677/1261 [08:02<07:00,  1.39it/s]"
     ]
    },
    {
     "name": "stdout",
     "output_type": "stream",
     "text": [
      "902.996393955\n",
      "0.0 [  1.60650754e-04  -3.11995329e-01   3.93418268e+02] [  4.31518239e-05  -1.09103342e-01   1.21127769e+03]\n",
      "0.0 [  1.36951555e-03  -5.54103705e-02   1.45564759e+00] [  3.67860668e-04  -1.93767535e-02   4.48172744e+00]\n",
      "This is the average radius of curvature of the anes 1726.75115298\n"
     ]
    },
    {
     "name": "stderr",
     "output_type": "stream",
     "text": [
      "\r",
      " 54%|█████▍    | 678/1261 [08:03<07:02,  1.38it/s]"
     ]
    },
    {
     "name": "stdout",
     "output_type": "stream",
     "text": [
      "905.700534489\n",
      "0.0 [  1.43856389e-04  -2.97414758e-01   3.91347736e+02] [  6.40797911e-05  -1.23829613e-01   1.21348194e+03]\n",
      "0.0 [  1.22634695e-03  -5.28208611e-02   1.44798662e+00] [  5.46267403e-04  -2.19921392e-02   4.48988318e+00]\n",
      "This is the average radius of curvature of the anes 1325.38922903\n"
     ]
    },
    {
     "name": "stderr",
     "output_type": "stream",
     "text": [
      "\r",
      " 54%|█████▍    | 679/1261 [08:04<06:55,  1.40it/s]"
     ]
    },
    {
     "name": "stdout",
     "output_type": "stream",
     "text": [
      "909.127741745\n",
      "0.0 [  1.38941772e-04  -2.91270316e-01   3.90746259e+02] [  1.04876854e-04  -1.51525567e-01   1.21700776e+03]\n",
      "0.0 [  1.18445082e-03  -5.17296082e-02   1.44576116e+00] [  8.94054206e-04  -2.69109406e-02   4.50292871e+00]\n",
      "This is the average radius of curvature of the anes 983.689952736\n"
     ]
    },
    {
     "name": "stderr",
     "output_type": "stream",
     "text": [
      "\r",
      " 54%|█████▍    | 680/1261 [08:04<07:00,  1.38it/s]"
     ]
    },
    {
     "name": "stdout",
     "output_type": "stream",
     "text": [
      "909.163991873\n",
      "0.0 [  1.32650601e-04  -2.84014394e-01   3.89543110e+02] [  1.20066127e-04  -1.63211815e-01   1.21835573e+03]\n",
      "0.0 [  1.13081984e-03  -5.04409564e-02   1.44130951e+00] [  1.02353972e-03  -2.89864184e-02   4.50791620e+00]\n",
      "This is the average radius of curvature of the anes 932.962240249\n"
     ]
    },
    {
     "name": "stderr",
     "output_type": "stream",
     "text": [
      "\r",
      " 54%|█████▍    | 681/1261 [08:05<06:53,  1.40it/s]"
     ]
    },
    {
     "name": "stdout",
     "output_type": "stream",
     "text": [
      "908.47757779\n",
      "0.0 [  1.32294918e-04  -2.82229154e-01   3.89788529e+02] [  1.33068723e-04  -1.71143462e-01   1.21799547e+03]\n",
      "0.0 [  1.12778771e-03  -5.01238978e-02   1.44221756e+00] [  1.13438425e-03  -3.03950789e-02   4.50658323e+00]\n",
      "This is the average radius of curvature of the anes 886.396401546\n"
     ]
    },
    {
     "name": "stderr",
     "output_type": "stream",
     "text": [
      "\r",
      " 54%|█████▍    | 682/1261 [08:06<06:51,  1.41it/s]"
     ]
    },
    {
     "name": "stdout",
     "output_type": "stream",
     "text": [
      "905.690526578\n",
      "0.0 [  1.29311386e-04  -2.78527028e-01   3.89351418e+02] [  1.30543657e-04  -1.72282676e-01   1.21801522e+03]\n",
      "0.0 [  1.10235371e-03  -4.94664002e-02   1.44060025e+00] [  1.11285856e-03  -3.05974032e-02   4.50665631e+00]\n",
      "This is the average radius of curvature of the anes 905.165222907\n"
     ]
    },
    {
     "name": "stderr",
     "output_type": "stream",
     "text": [
      "\r",
      " 54%|█████▍    | 683/1261 [08:06<06:50,  1.41it/s]"
     ]
    },
    {
     "name": "stdout",
     "output_type": "stream",
     "text": [
      "901.745477388\n",
      "0.0 [  1.27950313e-04  -2.75837874e-01   3.89069269e+02] [  1.14680718e-04  -1.63540567e-01   1.21693285e+03]\n",
      "0.0 [  1.09075083e-03  -4.89888064e-02   1.43955630e+00] [  9.77630189e-04  -2.90448046e-02   4.50265153e+00]\n",
      "This is the average radius of curvature of the anes 972.139145869\n"
     ]
    },
    {
     "name": "stderr",
     "output_type": "stream",
     "text": [
      "\r",
      " 54%|█████▍    | 684/1261 [08:07<06:41,  1.44it/s]"
     ]
    },
    {
     "name": "stdout",
     "output_type": "stream",
     "text": [
      "906.283412889\n",
      "0.0 [  1.26245366e-04  -2.74381766e-01   3.88813542e+02] [  1.50088340e-04  -1.87257490e-01   1.22012871e+03]\n",
      "0.0 [  1.07621649e-03  -4.87302016e-02   1.43861010e+00] [  1.27947308e-03  -3.32569302e-02   4.51447624e+00]\n",
      "This is the average radius of curvature of the anes 857.680743599\n"
     ]
    },
    {
     "name": "stderr",
     "output_type": "stream",
     "text": [
      "\r",
      " 54%|█████▍    | 685/1261 [08:08<06:43,  1.43it/s]"
     ]
    },
    {
     "name": "stdout",
     "output_type": "stream",
     "text": [
      "905.711177172\n",
      "0.0 [  1.29868237e-04  -2.75619878e-01   3.88816883e+02] [  1.59842022e-04  -1.95602308e-01   1.22150015e+03]\n",
      "0.0 [  1.10710074e-03  -4.89500903e-02   1.43862247e+00] [  1.36262127e-03  -3.47389699e-02   4.51955055e+00]\n",
      "This is the average radius of curvature of the anes 820.858538648\n"
     ]
    },
    {
     "name": "stderr",
     "output_type": "stream",
     "text": [
      "\r",
      " 54%|█████▍    | 686/1261 [08:09<06:36,  1.45it/s]"
     ]
    },
    {
     "name": "stdout",
     "output_type": "stream",
     "text": [
      "900.505816472\n",
      "0.0 [  1.32690231e-04  -2.74799204e-01   3.88523262e+02] [  1.50347527e-04  -1.92349734e-01   1.22061978e+03]\n",
      "0.0 [  1.13115768e-03  -4.88043386e-02   1.43753607e+00] [  1.28168260e-03  -3.41613128e-02   4.51629317e+00]\n",
      "This is the average radius of curvature of the anes 834.400499858\n"
     ]
    },
    {
     "name": "stderr",
     "output_type": "stream",
     "text": [
      "\r",
      " 54%|█████▍    | 687/1261 [08:09<06:33,  1.46it/s]"
     ]
    },
    {
     "name": "stdout",
     "output_type": "stream",
     "text": [
      "898.164360881\n",
      "0.0 [  1.30821785e-04  -2.71968230e-01   3.88029193e+02] [  1.51369624e-04  -1.94470226e-01   1.21985006e+03]\n",
      "0.0 [  1.11522956e-03  -4.83015576e-02   1.43570801e+00] [  1.29039577e-03  -3.45379121e-02   4.51344521e+00]\n",
      "This is the average radius of curvature of the anes 838.079635095\n"
     ]
    },
    {
     "name": "stderr",
     "output_type": "stream",
     "text": [
      "\r",
      " 55%|█████▍    | 688/1261 [08:10<06:33,  1.46it/s]"
     ]
    },
    {
     "name": "stdout",
     "output_type": "stream",
     "text": [
      "899.135070025\n",
      "0.0 [  1.25398829e-04  -2.67163301e-01   3.87119087e+02] [  1.61348256e-04  -2.03053208e-01   1.22157455e+03]\n",
      "0.0 [  1.06899994e-03  -4.74482023e-02   1.43234062e+00] [  1.37546161e-03  -3.60622498e-02   4.51982583e+00]\n",
      "This is the average radius of curvature of the anes 833.53095114\n"
     ]
    },
    {
     "name": "stderr",
     "output_type": "stream",
     "text": [
      "\r",
      " 55%|█████▍    | 689/1261 [08:11<06:31,  1.46it/s]"
     ]
    },
    {
     "name": "stdout",
     "output_type": "stream",
     "text": [
      "901.852205731\n",
      "0.0 [  1.03830935e-04  -2.47808884e-01   3.82636379e+02] [  1.54219876e-04  -2.00806572e-01   1.22464481e+03]\n",
      "0.0 [  8.85137956e-04  -4.40108578e-02   1.41575460e+00] [  1.31469360e-03  -3.56632472e-02   4.53118578e+00]\n",
      "This is the average radius of curvature of the anes 947.568274008\n"
     ]
    },
    {
     "name": "stderr",
     "output_type": "stream",
     "text": [
      "\r",
      " 55%|█████▍    | 690/1261 [08:11<06:31,  1.46it/s]"
     ]
    },
    {
     "name": "stdout",
     "output_type": "stream",
     "text": [
      "901.017958817\n",
      "0.0 [  9.40606231e-05  -2.36283771e-01   3.79512929e+02] [  1.57816159e-04  -2.06985119e-01   1.22650603e+03]\n",
      "0.0 [  8.01848000e-04  -4.19639976e-02   1.40419784e+00] [  1.34535119e-03  -3.67605571e-02   4.53807232e+00]\n",
      "This is the average radius of curvature of the anes 997.611176377\n"
     ]
    },
    {
     "name": "stderr",
     "output_type": "stream",
     "text": [
      "\r",
      " 55%|█████▍    | 691/1261 [08:12<06:28,  1.47it/s]"
     ]
    },
    {
     "name": "stdout",
     "output_type": "stream",
     "text": [
      "898.845100508\n",
      "0.0 [  9.69518248e-05  -2.35479682e-01   3.78047763e+02] [  1.50979159e-04  -2.03901063e-01   1.22625781e+03]\n",
      "0.0 [  8.26494916e-04  -4.18211915e-02   1.39877672e+00] [  1.28706714e-03  -3.62128288e-02   4.53715390e+00]\n",
      "This is the average radius of curvature of the anes 995.796762978\n"
     ]
    },
    {
     "name": "stderr",
     "output_type": "stream",
     "text": [
      "\r",
      " 55%|█████▍    | 692/1261 [08:13<06:34,  1.44it/s]"
     ]
    },
    {
     "name": "stdout",
     "output_type": "stream",
     "text": [
      "899.744507148\n",
      "0.0 [  1.01539864e-04  -2.36404996e-01   3.77637828e+02] [  1.56182097e-04  -2.02459685e-01   1.22472775e+03]\n",
      "0.0 [  8.65607035e-04  -4.19855274e-02   1.39725997e+00] [  1.33142114e-03  -3.59568400e-02   4.53149269e+00]\n",
      "This is the average radius of curvature of the anes 955.424454096\n"
     ]
    },
    {
     "name": "stderr",
     "output_type": "stream",
     "text": [
      "\r",
      " 55%|█████▍    | 693/1261 [08:13<06:30,  1.46it/s]"
     ]
    },
    {
     "name": "stdout",
     "output_type": "stream",
     "text": [
      "897.741601298\n",
      "0.0 [  1.04305461e-04  -2.37239072e-01   3.77337563e+02] [  1.47712373e-04  -1.96265485e-01   1.22317947e+03]\n",
      "0.0 [  8.89183195e-04  -4.21336592e-02   1.39614898e+00] [  1.25921844e-03  -3.48567501e-02   4.52576406e+00]\n",
      "This is the average radius of curvature of the anes 961.60742748\n"
     ]
    },
    {
     "name": "stderr",
     "output_type": "stream",
     "text": [
      "\r",
      " 55%|█████▌    | 694/1261 [08:14<06:37,  1.43it/s]"
     ]
    },
    {
     "name": "stdout",
     "output_type": "stream",
     "text": [
      "895.757739535\n",
      "0.0 [  1.02926351e-04  -2.36790581e-01   3.77009261e+02] [  1.32363442e-04  -1.86872975e-01   1.22165841e+03]\n",
      "0.0 [  8.77426561e-04  -4.20540072e-02   1.39493427e+00] [  1.12837187e-03  -3.31886403e-02   4.52013613e+00]\n",
      "This is the average radius of curvature of the anes 1015.20928871\n"
     ]
    },
    {
     "name": "stderr",
     "output_type": "stream",
     "text": [
      "\r",
      " 55%|█████▌    | 695/1261 [08:15<06:32,  1.44it/s]"
     ]
    },
    {
     "name": "stdout",
     "output_type": "stream",
     "text": [
      "894.232180905\n",
      "0.0 [  1.05565776e-04  -2.38201107e-01   3.76764611e+02] [  1.18740591e-04  -1.74774093e-01   1.21858190e+03]\n",
      "0.0 [  8.99927127e-04  -4.23045166e-02   1.39402906e+00] [  1.01223979e-03  -3.10398789e-02   4.50875304e+00]\n",
      "This is the average radius of curvature of the anes 1051.76086963\n"
     ]
    },
    {
     "name": "stderr",
     "output_type": "stream",
     "text": [
      "\r",
      " 55%|█████▌    | 696/1261 [08:15<06:41,  1.41it/s]"
     ]
    },
    {
     "name": "stdout",
     "output_type": "stream",
     "text": [
      "897.992940828\n",
      "0.0 [  1.07112841e-04  -2.39440014e-01   3.76315856e+02] [  1.39605422e-04  -1.86476969e-01   1.21943097e+03]\n",
      "0.0 [  9.13115549e-04  -4.25245464e-02   1.39236867e+00] [  1.19010830e-03  -3.31183098e-02   4.51189459e+00]\n",
      "This is the average radius of curvature of the anes 969.88303185\n"
     ]
    },
    {
     "name": "stderr",
     "output_type": "stream",
     "text": [
      "\r",
      " 55%|█████▌    | 697/1261 [08:16<06:38,  1.41it/s]"
     ]
    },
    {
     "name": "stdout",
     "output_type": "stream",
     "text": [
      "893.094483221\n",
      "0.0 [  1.14292364e-04  -2.44740394e-01   3.77042722e+02] [  1.13227171e-04  -1.69810962e-01   1.21681361e+03]\n",
      "0.0 [  9.74319545e-04  -4.34658941e-02   1.39505807e+00] [  9.65238984e-04  -3.01584269e-02   4.50221034e+00]\n",
      "This is the average radius of curvature of the anes 1033.34696358\n"
     ]
    },
    {
     "name": "stderr",
     "output_type": "stream",
     "text": [
      "\r",
      " 55%|█████▌    | 698/1261 [08:17<06:38,  1.41it/s]"
     ]
    },
    {
     "name": "stdout",
     "output_type": "stream",
     "text": [
      "888.042623011\n",
      "0.0 [  1.33957111e-04  -2.60856471e-01   3.79970650e+02] [  8.19949620e-05  -1.44227127e-01   1.21101918e+03]\n",
      "0.0 [  1.14195758e-03  -4.63281092e-02   1.40589140e+00] [  6.98990652e-04  -2.56147377e-02   4.48077096e+00]\n",
      "This is the average radius of curvature of the anes 1155.27626356\n"
     ]
    },
    {
     "name": "stderr",
     "output_type": "stream",
     "text": [
      "\r",
      " 55%|█████▌    | 699/1261 [08:18<06:39,  1.41it/s]"
     ]
    },
    {
     "name": "stdout",
     "output_type": "stream",
     "text": [
      "887.914161278\n",
      "0.0 [  1.55418952e-04  -2.78678997e-01   3.83346162e+02] [  9.86720264e-05  -1.52999189e-01   1.21023249e+03]\n",
      "0.0 [  1.32491548e-03  -4.94933899e-02   1.41838080e+00] [  8.41159291e-04  -2.71726560e-02   4.47786021e+00]\n",
      "This is the average radius of curvature of the anes 973.846255874\n"
     ]
    },
    {
     "name": "stderr",
     "output_type": "stream",
     "text": [
      "\r",
      " 56%|█████▌    | 700/1261 [08:18<06:38,  1.41it/s]"
     ]
    },
    {
     "name": "stdout",
     "output_type": "stream",
     "text": [
      "884.108475215\n",
      "0.0 [  1.86010505e-04  -3.05881502e-01   3.89063398e+02] [  7.44206441e-05  -1.27904737e-01   1.20289419e+03]\n",
      "0.0 [ 0.0015857  -0.05432455  1.43953457] [  6.34421107e-04  -2.27158814e-02   4.45070849e+00]\n",
      "This is the average radius of curvature of the anes 1105.44470058\n"
     ]
    },
    {
     "name": "stderr",
     "output_type": "stream",
     "text": [
      "\r",
      " 56%|█████▌    | 701/1261 [08:19<06:41,  1.39it/s]"
     ]
    },
    {
     "name": "stdout",
     "output_type": "stream",
     "text": [
      "881.647075253\n",
      "0.0 [  2.11472739e-04  -3.30121190e-01   3.94487826e+02] [  4.10665209e-05  -9.24734808e-02   1.19327932e+03]\n",
      "0.0 [ 0.00180276 -0.05862952  1.45960495] [  3.50083877e-04  -1.64232902e-02   4.41513349e+00]\n",
      "This is the average radius of curvature of the anes 1707.59040087\n"
     ]
    },
    {
     "name": "stderr",
     "output_type": "stream",
     "text": [
      "\r",
      " 56%|█████▌    | 702/1261 [08:20<06:32,  1.43it/s]"
     ]
    },
    {
     "name": "stdout",
     "output_type": "stream",
     "text": [
      "885.288717985\n",
      "0.0 [  1.95685209e-04  -3.20317604e-01   3.93479591e+02] [  7.57712964e-05  -1.22176584e-01   1.19829573e+03]\n",
      "0.0 [ 0.00166818 -0.05688841  1.45587449] [  6.45935147e-04  -2.16985613e-02   4.43369421e+00]\n",
      "This is the average radius of curvature of the anes 1075.80279037\n"
     ]
    },
    {
     "name": "stderr",
     "output_type": "stream",
     "text": [
      "\r",
      " 56%|█████▌    | 703/1261 [08:20<06:37,  1.40it/s]"
     ]
    },
    {
     "name": "stdout",
     "output_type": "stream",
     "text": [
      "887.433046217\n",
      "0.0 [  1.82583937e-04  -3.12469147e-01   3.92639297e+02] [  8.48294198e-05  -1.30268698e-01   1.19960549e+03]\n",
      "0.0 [ 0.00155649 -0.05549452  1.4527654 ] [  7.23153838e-04  -2.31357208e-02   4.43854032e+00]\n",
      "This is the average radius of curvature of the anes 1014.69137987\n"
     ]
    },
    {
     "name": "stderr",
     "output_type": "stream",
     "text": [
      "\r",
      " 56%|█████▌    | 704/1261 [08:21<06:31,  1.42it/s]"
     ]
    },
    {
     "name": "stdout",
     "output_type": "stream",
     "text": [
      "887.757061019\n",
      "0.0 [  1.79257535e-04  -3.12306926e-01   3.93181583e+02] [  9.32421791e-05  -1.40549093e-01   1.20191135e+03]\n",
      "0.0 [ 0.00152813 -0.05546571  1.45477186] [  7.94870929e-04  -2.49615190e-02   4.44707198e+00]\n",
      "This is the average radius of curvature of the anes 958.328302656\n"
     ]
    },
    {
     "name": "stderr",
     "output_type": "stream",
     "text": [
      "\r",
      " 56%|█████▌    | 705/1261 [08:22<06:29,  1.43it/s]"
     ]
    },
    {
     "name": "stdout",
     "output_type": "stream",
     "text": [
      "889.916215895\n",
      "0.0 [  1.78457501e-04  -3.15370914e-01   3.94548036e+02] [  1.07085104e-04  -1.49426154e-01   1.20204671e+03]\n",
      "0.0 [ 0.00152131 -0.05600987  1.45982773] [  9.12879097e-04  -2.65380849e-02   4.44757284e+00]\n",
      "This is the average radius of curvature of the anes 878.507297217\n"
     ]
    },
    {
     "name": "stderr",
     "output_type": "stream",
     "text": [
      "\r",
      " 56%|█████▌    | 706/1261 [08:23<06:25,  1.44it/s]"
     ]
    },
    {
     "name": "stdout",
     "output_type": "stream",
     "text": [
      "891.571689571\n",
      "0.0 [  1.64927636e-04  -3.08316673e-01   3.93997467e+02] [  1.07780071e-04  -1.51831244e-01   1.20259920e+03]\n",
      "0.0 [  1.40597511e-03  -5.47570411e-02   1.45779063e+00] [  9.18803545e-04  -2.69652289e-02   4.44961702e+00]\n",
      "This is the average radius of curvature of the anes 902.00531019\n"
     ]
    },
    {
     "name": "stderr",
     "output_type": "stream",
     "text": [
      "\r",
      " 56%|█████▌    | 707/1261 [08:23<06:33,  1.41it/s]"
     ]
    },
    {
     "name": "stdout",
     "output_type": "stream",
     "text": [
      "894.861941752\n",
      "0.0 [  1.54720267e-04  -3.03745592e-01   3.93657566e+02] [  1.17100304e-04  -1.58936712e-01   1.20384998e+03]\n",
      "0.0 [  1.31895933e-03  -5.39452171e-02   1.45653299e+00] [  9.98256672e-04  -2.82271601e-02   4.45424492e+00]\n",
      "This is the average radius of curvature of the anes 882.214640036\n"
     ]
    },
    {
     "name": "stderr",
     "output_type": "stream",
     "text": [
      "\r",
      " 56%|█████▌    | 708/1261 [08:24<06:33,  1.40it/s]"
     ]
    },
    {
     "name": "stdout",
     "output_type": "stream",
     "text": [
      "899.377062186\n",
      "0.0 [  1.47144322e-04  -3.00615999e-01   3.93459377e+02] [  1.33816122e-04  -1.68070685e-01   1.20442652e+03]\n",
      "0.0 [  1.25437591e-03  -5.33894015e-02   1.45579970e+00] [  1.14075567e-03  -2.98493537e-02   4.45637812e+00]\n",
      "This is the average radius of curvature of the anes 839.201964284\n"
     ]
    },
    {
     "name": "stderr",
     "output_type": "stream",
     "text": [
      "\r",
      " 56%|█████▌    | 709/1261 [08:25<06:42,  1.37it/s]"
     ]
    },
    {
     "name": "stdout",
     "output_type": "stream",
     "text": [
      "900.049873827\n",
      "0.0 [  1.45552763e-04  -3.00622759e-01   3.93638906e+02] [  1.43993789e-04  -1.74937742e-01   1.20412718e+03]\n",
      "0.0 [  1.24080819e-03  -5.33906020e-02   1.45646395e+00] [  1.22751825e-03  -3.10689429e-02   4.45527057e+00]\n",
      "This is the average radius of curvature of the anes 812.60323552\n"
     ]
    },
    {
     "name": "stderr",
     "output_type": "stream",
     "text": [
      "\r",
      " 56%|█████▋    | 710/1261 [08:25<06:37,  1.38it/s]"
     ]
    },
    {
     "name": "stdout",
     "output_type": "stream",
     "text": [
      "899.581892832\n",
      "0.0 [  1.48749955e-04  -3.04853361e-01   3.94736883e+02] [  1.49234206e-04  -1.78216275e-01   1.20301637e+03]\n",
      "0.0 [  1.26806362e-03  -5.41419570e-02   1.46052647e+00] [  1.27219176e-03  -3.16512104e-02   4.45116058e+00]\n",
      "This is the average radius of curvature of the anes 789.650264436\n"
     ]
    },
    {
     "name": "stderr",
     "output_type": "stream",
     "text": [
      "\r",
      " 56%|█████▋    | 711/1261 [08:26<06:41,  1.37it/s]"
     ]
    },
    {
     "name": "stdout",
     "output_type": "stream",
     "text": [
      "899.035552999\n",
      "0.0 [  1.49149630e-04  -3.05819847e-01   3.95046834e+02] [  1.57324525e-04  -1.86115678e-01   1.20378899e+03]\n",
      "0.0 [  1.27147076e-03  -5.43136048e-02   1.46167329e+00] [  1.34116011e-03  -3.30541444e-02   4.45401925e+00]\n",
      "This is the average radius of curvature of the anes 768.409470755\n"
     ]
    },
    {
     "name": "stderr",
     "output_type": "stream",
     "text": [
      "\r",
      " 56%|█████▋    | 712/1261 [08:27<06:35,  1.39it/s]"
     ]
    },
    {
     "name": "stdout",
     "output_type": "stream",
     "text": [
      "899.982294751\n",
      "0.0 [  1.43615895e-04  -3.02641993e-01   3.94707357e+02] [  1.79018403e-04  -2.06731213e-01   1.20742809e+03]\n",
      "0.0 [  1.22429678e-03  -5.37492180e-02   1.46041722e+00] [  1.52609608e-03  -3.67154634e-02   4.46748392e+00]\n",
      "This is the average radius of curvature of the anes 738.464842792\n"
     ]
    },
    {
     "name": "stderr",
     "output_type": "stream",
     "text": [
      "\r",
      " 57%|█████▋    | 713/1261 [08:28<06:33,  1.39it/s]"
     ]
    },
    {
     "name": "stdout",
     "output_type": "stream",
     "text": [
      "899.209959181\n",
      "0.0 [  1.39905733e-04  -3.00399905e-01   3.94420121e+02] [  1.87083865e-04  -2.19667219e-01   1.21119402e+03]\n",
      "0.0 [  1.19266839e-03  -5.33510232e-02   1.45935445e+00] [  1.59485254e-03  -3.90128981e-02   4.48141789e+00]\n",
      "This is the average radius of curvature of the anes 735.243803205\n"
     ]
    },
    {
     "name": "stderr",
     "output_type": "stream",
     "text": [
      "\r",
      " 57%|█████▋    | 714/1261 [08:28<06:20,  1.44it/s]"
     ]
    },
    {
     "name": "stdout",
     "output_type": "stream",
     "text": [
      "895.286616741\n",
      "0.0 [  1.45002197e-04  -3.02149982e-01   3.94375614e+02] [  1.84502677e-04  -2.22349583e-01   1.21186554e+03]\n",
      "0.0 [  1.23611473e-03  -5.36618368e-02   1.45918977e+00] [  1.57284842e-03  -3.94892860e-02   4.48390248e+00]\n",
      "This is the average radius of curvature of the anes 724.880084053\n"
     ]
    },
    {
     "name": "stderr",
     "output_type": "stream",
     "text": [
      "\r",
      " 57%|█████▋    | 715/1261 [08:29<06:17,  1.45it/s]"
     ]
    },
    {
     "name": "stdout",
     "output_type": "stream",
     "text": [
      "890.102673435\n",
      "0.0 [  1.68832634e-04  -3.21377731e-01   3.98380664e+02] [  1.84924102e-04  -2.28081462e-01   1.21308466e+03]\n",
      "0.0 [  1.43926444e-03  -5.70766851e-02   1.47400846e+00] [  1.57644099e-03  -4.05072677e-02   4.48841324e+00]\n",
      "This is the average radius of curvature of the anes 667.049761979\n"
     ]
    },
    {
     "name": "stderr",
     "output_type": "stream",
     "text": [
      "\r",
      " 57%|█████▋    | 716/1261 [08:30<06:08,  1.48it/s]"
     ]
    },
    {
     "name": "stdout",
     "output_type": "stream",
     "text": [
      "887.818331412\n",
      "0.0 [  1.84819741e-04  -3.33297404e-01   4.00737033e+02] [  1.68728435e-04  -2.12298919e-01   1.20987603e+03]\n",
      "0.0 [ 0.00157555 -0.05919362  1.48272702] [  1.43837616e-03  -3.77042881e-02   4.47654132e+00]\n",
      "This is the average radius of curvature of the anes 667.374359317\n"
     ]
    },
    {
     "name": "stderr",
     "output_type": "stream",
     "text": [
      "\r",
      " 57%|█████▋    | 717/1261 [08:30<06:11,  1.46it/s]"
     ]
    },
    {
     "name": "stdout",
     "output_type": "stream",
     "text": [
      "885.34360521\n",
      "0.0 [  1.86064374e-04  -3.33686729e-01   4.00721926e+02] [  1.48176331e-04  -2.02469564e-01   1.21130703e+03]\n",
      "0.0 [ 0.00158616 -0.05926276  1.48267113] [  1.26317359e-03  -3.59585946e-02   4.48183601e+00]\n",
      "This is the average radius of curvature of the anes 713.484888112\n"
     ]
    },
    {
     "name": "stderr",
     "output_type": "stream",
     "text": [
      "\r",
      " 57%|█████▋    | 718/1261 [08:31<06:10,  1.46it/s]"
     ]
    },
    {
     "name": "stdout",
     "output_type": "stream",
     "text": [
      "885.758404816\n",
      "0.0 [  1.81744534e-04  -3.29920022e-01   3.99967289e+02] [  1.33880364e-04  -1.97691299e-01   1.21539715e+03]\n",
      "0.0 [ 0.00154934 -0.0585938   1.47987897] [  1.14130333e-03  -3.51099747e-02   4.49696946e+00]\n",
      "This is the average radius of curvature of the anes 763.288261182\n"
     ]
    },
    {
     "name": "stderr",
     "output_type": "stream",
     "text": [
      "\r",
      " 57%|█████▋    | 719/1261 [08:32<06:21,  1.42it/s]"
     ]
    },
    {
     "name": "stdout",
     "output_type": "stream",
     "text": [
      "886.209618161\n",
      "0.0 [  1.84189175e-04  -3.30624408e-01   3.99882038e+02] [  1.27991489e-04  -1.96837114e-01   1.21895060e+03]\n",
      "0.0 [ 0.00157018 -0.05871889  1.47956354] [  1.09110185e-03  -3.49582714e-02   4.51011723e+00]\n",
      "This is the average radius of curvature of the anes 779.176641305\n"
     ]
    },
    {
     "name": "stderr",
     "output_type": "stream",
     "text": [
      "\r",
      " 57%|█████▋    | 720/1261 [08:32<06:21,  1.42it/s]"
     ]
    },
    {
     "name": "stdout",
     "output_type": "stream",
     "text": [
      "888.23414099\n",
      "0.0 [  1.81845677e-04  -3.28902811e-01   3.99644288e+02] [  1.27236104e-04  -1.99782253e-01   1.22327177e+03]\n",
      "0.0 [ 0.0015502  -0.05841314  1.47868387] [  1.08466234e-03  -3.54813281e-02   4.52610554e+00]\n",
      "This is the average radius of curvature of the anes 786.03536718\n"
     ]
    },
    {
     "name": "stderr",
     "output_type": "stream",
     "text": [
      "\r",
      " 57%|█████▋    | 721/1261 [08:33<06:30,  1.38it/s]"
     ]
    },
    {
     "name": "stdout",
     "output_type": "stream",
     "text": [
      "896.601006977\n",
      "0.0 [  1.80135880e-04  -3.27820799e-01   3.99558536e+02] [  1.73774019e-04  -2.29111983e-01   1.22847674e+03]\n",
      "0.0 [ 0.00153562 -0.05822097  1.47836658] [  1.48138875e-03  -4.06902881e-02   4.54536393e+00]\n",
      "This is the average radius of curvature of the anes 665.617537774\n"
     ]
    },
    {
     "name": "stderr",
     "output_type": "stream",
     "text": [
      "\r",
      " 57%|█████▋    | 722/1261 [08:34<06:29,  1.38it/s]"
     ]
    },
    {
     "name": "stdout",
     "output_type": "stream",
     "text": [
      "900.561706433\n",
      "0.0 [  1.77668931e-04  -3.26029792e-01   3.99419323e+02] [  2.01080788e-04  -2.53045286e-01   1.23540215e+03]\n",
      "0.0 [ 0.00151459 -0.05790289  1.4778515 ] [  1.71417350e-03  -4.49408428e-02   4.57098797e+00]\n",
      "This is the average radius of curvature of the anes 624.353369547\n"
     ]
    },
    {
     "name": "stderr",
     "output_type": "stream",
     "text": [
      "\r",
      " 57%|█████▋    | 723/1261 [08:35<06:33,  1.37it/s]"
     ]
    },
    {
     "name": "stdout",
     "output_type": "stream",
     "text": [
      "901.040111783\n",
      "0.0 [  1.76382436e-04  -3.24156752e-01   3.99348889e+02] [  2.01591669e-04  -2.59124852e-01   1.24059887e+03]\n",
      "0.0 [ 0.00150362 -0.05757024  1.47759089] [  1.71852866e-03  -4.60205738e-02   4.59021583e+00]\n",
      "This is the average radius of curvature of the anes 626.055601047\n"
     ]
    },
    {
     "name": "stderr",
     "output_type": "stream",
     "text": [
      "\r",
      " 57%|█████▋    | 724/1261 [08:35<06:26,  1.39it/s]"
     ]
    },
    {
     "name": "stdout",
     "output_type": "stream",
     "text": [
      "899.33229082\n",
      "0.0 [  1.71859291e-04  -3.20179095e-01   3.99021193e+02] [  1.85860798e-04  -2.55270116e-01   1.24444570e+03]\n",
      "0.0 [  1.46506609e-03  -5.68638072e-02   1.47637842e+00] [  1.58442613e-03  -4.53359727e-02   4.60444907e+00]\n",
      "This is the average radius of curvature of the anes 659.483253591\n"
     ]
    },
    {
     "name": "stderr",
     "output_type": "stream",
     "text": [
      "\r",
      " 57%|█████▋    | 725/1261 [08:36<06:21,  1.40it/s]"
     ]
    },
    {
     "name": "stdout",
     "output_type": "stream",
     "text": [
      "900.950099746\n",
      "0.0 [  1.68125716e-04  -3.17289241e-01   3.98635419e+02] [  1.83492086e-04  -2.59681002e-01   1.25022138e+03]\n",
      "0.0 [  1.43323810e-03  -5.63505693e-02   1.47495105e+00] [  1.56423333e-03  -4.61193459e-02   4.62581911e+00]\n",
      "This is the average radius of curvature of the anes 671.189130329\n"
     ]
    },
    {
     "name": "stderr",
     "output_type": "stream",
     "text": [
      "\r",
      " 58%|█████▊    | 726/1261 [08:37<06:26,  1.38it/s]"
     ]
    },
    {
     "name": "stdout",
     "output_type": "stream",
     "text": [
      "898.151155938\n",
      "0.0 [  1.75019048e-04  -3.19606777e-01   3.98749002e+02] [  1.61263513e-04  -2.44654643e-01   1.25012065e+03]\n",
      "0.0 [ 0.001492   -0.05676216  1.47537131] [  1.37473920e-03  -4.34506647e-02   4.62544640e+00]\n",
      "This is the average radius of curvature of the anes 701.476846225\n"
     ]
    },
    {
     "name": "stderr",
     "output_type": "stream",
     "text": [
      "\r",
      " 58%|█████▊    | 727/1261 [08:37<06:21,  1.40it/s]"
     ]
    },
    {
     "name": "stdout",
     "output_type": "stream",
     "text": [
      "896.708322308\n",
      "0.0 [  1.81879192e-04  -3.22224874e-01   3.99292783e+02] [  1.54262830e-04  -2.40514797e-01   1.25152814e+03]\n",
      "0.0 [ 0.00155048 -0.05722714  1.4773833 ] [  1.31505977e-03  -4.27154279e-02   4.63065412e+00]\n",
      "This is the average radius of curvature of the anes 705.317387983\n"
     ]
    },
    {
     "name": "stderr",
     "output_type": "stream",
     "text": [
      "\r",
      " 58%|█████▊    | 728/1261 [08:38<06:13,  1.43it/s]"
     ]
    },
    {
     "name": "stdout",
     "output_type": "stream",
     "text": [
      "898.407478978\n",
      "0.0 [  1.91412875e-04  -3.27715562e-01   4.00986899e+02] [  1.80598683e-04  -2.58545873e-01   1.25525189e+03]\n",
      "0.0 [ 0.00163176 -0.05820228  1.48365152] [  1.53956765e-03  -4.59177471e-02   4.64443198e+00]\n",
      "This is the average radius of curvature of the anes 633.770748861\n"
     ]
    },
    {
     "name": "stderr",
     "output_type": "stream",
     "text": [
      "\r",
      " 58%|█████▊    | 729/1261 [08:39<06:06,  1.45it/s]"
     ]
    },
    {
     "name": "stdout",
     "output_type": "stream",
     "text": [
      "892.875107251\n",
      "0.0 [  1.96568007e-04  -3.32695834e-01   4.03514013e+02] [  1.65588769e-04  -2.57218407e-01   1.25813591e+03]\n",
      "0.0 [ 0.0016757  -0.05908678  1.49300185] [  1.41161113e-03  -4.56819891e-02   4.65510286e+00]\n",
      "This is the average radius of curvature of the anes 655.26072479\n"
     ]
    },
    {
     "name": "stderr",
     "output_type": "stream",
     "text": [
      "\r",
      " 58%|█████▊    | 730/1261 [08:40<06:13,  1.42it/s]"
     ]
    },
    {
     "name": "stdout",
     "output_type": "stream",
     "text": [
      "890.694945884\n",
      "0.0 [  1.96344476e-04  -3.33303487e-01   4.05507446e+02] [  1.44984584e-04  -2.43928360e-01   1.25849274e+03]\n",
      "0.0 [ 0.0016738  -0.0591947   1.50037755] [  1.23596458e-03  -4.33216767e-02   4.65642313e+00]\n",
      "This is the average radius of curvature of the anes 705.975121406\n"
     ]
    },
    {
     "name": "stderr",
     "output_type": "stream",
     "text": [
      "\r",
      " 58%|█████▊    | 731/1261 [08:40<06:10,  1.43it/s]"
     ]
    },
    {
     "name": "stdout",
     "output_type": "stream",
     "text": [
      "887.187078485\n",
      "0.0 [  2.06523769e-04  -3.42908866e-01   4.09876002e+02] [  1.24246886e-04  -2.27334264e-01   1.25647609e+03]\n",
      "0.0 [ 0.00176057 -0.06090061  1.51654121] [  1.05917986e-03  -4.03745653e-02   4.64896152e+00]\n",
      "This is the average radius of curvature of the anes 758.797851474\n"
     ]
    },
    {
     "name": "stderr",
     "output_type": "stream",
     "text": [
      "\r",
      " 58%|█████▊    | 732/1261 [08:41<06:07,  1.44it/s]"
     ]
    },
    {
     "name": "stdout",
     "output_type": "stream",
     "text": [
      "884.443222002\n",
      "0.0 [  2.15636405e-04  -3.55838324e-01   4.16683432e+02] [  1.09538768e-04  -2.12853282e-01   1.25295235e+03]\n",
      "0.0 [ 0.00183826 -0.06319689  1.5417287 ] [  9.33796088e-04  -3.78027429e-02   4.63592368e+00]\n",
      "This is the average radius of curvature of the anes 810.22483876\n"
     ]
    },
    {
     "name": "stderr",
     "output_type": "stream",
     "text": [
      "\r",
      " 58%|█████▊    | 733/1261 [08:42<06:16,  1.40it/s]"
     ]
    },
    {
     "name": "stdout",
     "output_type": "stream",
     "text": [
      "883.656529477\n",
      "0.0 [  2.18199417e-04  -3.63457037e-01   4.22921551e+02] [  1.21211108e-04  -2.19207141e-01   1.25300158e+03]\n",
      "0.0 [ 0.00186011 -0.06454997  1.56480974] [  1.03330046e-03  -3.89311882e-02   4.63610584e+00]\n",
      "This is the average radius of curvature of the anes 755.470476483\n"
     ]
    },
    {
     "name": "stderr",
     "output_type": "stream",
     "text": [
      "\r",
      " 58%|█████▊    | 734/1261 [08:42<06:11,  1.42it/s]"
     ]
    },
    {
     "name": "stdout",
     "output_type": "stream",
     "text": [
      "883.965014852\n",
      "0.0 [  2.29409928e-04  -3.76631444e-01   4.28196362e+02] [  1.35522030e-04  -2.26807055e-01   1.25297402e+03]\n",
      "0.0 [ 0.00195567 -0.06688974  1.58432654] [  1.15529820e-03  -4.02809330e-02   4.63600389e+00]\n",
      "This is the average radius of curvature of the anes 691.226607185\n"
     ]
    },
    {
     "name": "stderr",
     "output_type": "stream",
     "text": [
      "\r",
      " 58%|█████▊    | 735/1261 [08:43<06:15,  1.40it/s]"
     ]
    },
    {
     "name": "stdout",
     "output_type": "stream",
     "text": [
      "885.834145199\n",
      "0.0 [  2.37224651e-04  -3.85878062e-01   4.31875613e+02] [  1.57759799e-04  -2.41338107e-01   1.25486576e+03]\n",
      "0.0 [ 0.00202229 -0.06853194  1.59793977] [  1.34487074e-03  -4.28616478e-02   4.64300331e+00]\n",
      "This is the average radius of curvature of the anes 621.795922128\n"
     ]
    },
    {
     "name": "stderr",
     "output_type": "stream",
     "text": [
      "\r",
      " 58%|█████▊    | 736/1261 [08:44<06:10,  1.42it/s]"
     ]
    },
    {
     "name": "stdout",
     "output_type": "stream",
     "text": [
      "886.573963933\n",
      "0.0 [  2.37584862e-04  -3.89025168e-01   4.34707475e+02] [  1.61005198e-04  -2.40974019e-01   1.25442136e+03]\n",
      "0.0 [ 0.00202536 -0.06909087  1.60841766] [  1.37253711e-03  -4.27969857e-02   4.64135904e+00]\n",
      "This is the average radius of curvature of the anes 613.929216308\n"
     ]
    },
    {
     "name": "stderr",
     "output_type": "stream",
     "text": [
      "\r",
      " 58%|█████▊    | 737/1261 [08:45<06:15,  1.39it/s]"
     ]
    },
    {
     "name": "stdout",
     "output_type": "stream",
     "text": [
      "886.319916246\n",
      "0.0 [  2.29258677e-04  -3.84528412e-01   4.35537848e+02] [  1.36002594e-04  -2.20232527e-01   1.25193878e+03]\n",
      "0.0 [ 0.00195438 -0.06829225  1.61149004] [  1.15939492e-03  -3.91132968e-02   4.63217349e+00]\n",
      "This is the average radius of curvature of the anes 689.876340039\n"
     ]
    },
    {
     "name": "stderr",
     "output_type": "stream",
     "text": [
      "\r",
      " 59%|█████▊    | 738/1261 [08:45<06:10,  1.41it/s]"
     ]
    },
    {
     "name": "stdout",
     "output_type": "stream",
     "text": [
      "886.247569163\n",
      "0.0 [  2.27008964e-04  -3.85667980e-01   4.38282092e+02] [  1.34064117e-04  -2.16457703e-01   1.25091633e+03]\n",
      "0.0 [ 0.00193521 -0.06849463  1.62164374] [  1.14286978e-03  -3.84428881e-02   4.62839043e+00]\n",
      "This is the average radius of curvature of the anes 698.656129321\n"
     ]
    },
    {
     "name": "stderr",
     "output_type": "stream",
     "text": [
      "\r",
      " 59%|█████▊    | 739/1261 [08:46<06:03,  1.44it/s]"
     ]
    },
    {
     "name": "stdout",
     "output_type": "stream",
     "text": [
      "887.174573531\n",
      "0.0 [  2.16817263e-04  -3.77892585e-01   4.37831581e+02] [  1.23390013e-04  -2.09077159e-01   1.25192611e+03]\n",
      "0.0 [ 0.00184832 -0.06711372  1.61997685] [  1.05187518e-03  -3.71321035e-02   4.63212660e+00]\n",
      "This is the average radius of curvature of the anes 748.670138471\n"
     ]
    },
    {
     "name": "stderr",
     "output_type": "stream",
     "text": [
      "\r",
      " 59%|█████▊    | 740/1261 [08:47<06:08,  1.41it/s]"
     ]
    },
    {
     "name": "stdout",
     "output_type": "stream",
     "text": [
      "886.539580575\n",
      "0.0 [  2.21800478e-04  -3.83746432e-01   4.41595437e+02] [  1.39422475e-04  -2.22134568e-01   1.25452230e+03]\n",
      "0.0 [ 0.0018908  -0.06815337  1.63390312] [  1.18854872e-03  -3.94510993e-02   4.64173252e+00]\n",
      "This is the average radius of curvature of the anes 687.945845628\n"
     ]
    },
    {
     "name": "stderr",
     "output_type": "stream",
     "text": [
      "\r",
      " 59%|█████▉    | 741/1261 [08:47<06:03,  1.43it/s]"
     ]
    },
    {
     "name": "stdout",
     "output_type": "stream",
     "text": [
      "884.983996532\n",
      "0.0 [  2.21104018e-04  -3.86167105e-01   4.44574303e+02] [  1.36188888e-04  -2.20516791e-01   1.25435354e+03]\n",
      "0.0 [ 0.00188487 -0.06858328  1.64492492] [  1.16098303e-03  -3.91637821e-02   4.64110808e+00]\n",
      "This is the average radius of curvature of the anes 698.805184628\n"
     ]
    },
    {
     "name": "stderr",
     "output_type": "stream",
     "text": [
      "\r",
      " 59%|█████▉    | 742/1261 [08:48<05:56,  1.46it/s]"
     ]
    },
    {
     "name": "stdout",
     "output_type": "stream",
     "text": [
      "883.565487756\n",
      "0.0 [  2.16296852e-04  -3.86720355e-01   4.48549567e+02] [  1.34593875e-04  -2.17937387e-01   1.25299735e+03]\n",
      "0.0 [ 0.00184389 -0.06868153  1.6596334 ] [  1.14738586e-03  -3.87056800e-02   4.63609021e+00]\n",
      "This is the average radius of curvature of the anes 709.840017843\n"
     ]
    },
    {
     "name": "stderr",
     "output_type": "stream",
     "text": [
      "\r",
      " 59%|█████▉    | 743/1261 [08:49<06:01,  1.43it/s]"
     ]
    },
    {
     "name": "stdout",
     "output_type": "stream",
     "text": [
      "882.018032497\n",
      "0.0 [  2.12014359e-04  -3.84494444e-01   4.50632028e+02] [  1.33243499e-04  -2.15873246e-01   1.25213288e+03]\n",
      "0.0 [ 0.00180738 -0.06828621  1.66733851] [  1.13587418e-03  -3.83390885e-02   4.63289166e+00]\n",
      "This is the average radius of curvature of the anes 719.741275784\n"
     ]
    },
    {
     "name": "stderr",
     "output_type": "stream",
     "text": [
      "\r",
      " 59%|█████▉    | 744/1261 [08:49<05:57,  1.45it/s]"
     ]
    },
    {
     "name": "stdout",
     "output_type": "stream",
     "text": [
      "881.39611329\n",
      "0.0 [  2.12550085e-04  -3.86123991e-01   4.53209105e+02] [  1.44136067e-04  -2.21809080e-01   1.25183018e+03]\n",
      "0.0 [ 0.00181195 -0.06857562  1.67687369] [  1.22873115e-03  -3.93932926e-02   4.63177165e+00]\n",
      "This is the average radius of curvature of the anes 685.766483033\n"
     ]
    },
    {
     "name": "stderr",
     "output_type": "stream",
     "text": [
      "\r",
      " 59%|█████▉    | 745/1261 [08:50<05:59,  1.44it/s]"
     ]
    },
    {
     "name": "stdout",
     "output_type": "stream",
     "text": [
      "890.625980722\n",
      "0.0 [  2.10636377e-04  -3.83435956e-01   4.53480817e+02] [  2.18350331e-04  -2.67750929e-01   1.25694145e+03]\n",
      "0.0 [ 0.00179563 -0.06809823  1.67787902] [  1.86139291e-03  -4.75525650e-02   4.65068336e+00]\n",
      "This is the average radius of curvature of the anes 549.920189365\n"
     ]
    },
    {
     "name": "stderr",
     "output_type": "stream",
     "text": [
      "\r",
      " 59%|█████▉    | 746/1261 [08:51<06:06,  1.40it/s]"
     ]
    },
    {
     "name": "stdout",
     "output_type": "stream",
     "text": [
      "892.906885321\n",
      "0.0 [  2.00971965e-04  -3.76454604e-01   4.53314384e+02] [  2.34833650e-04  -2.83503992e-01   1.26188461e+03]\n",
      "0.0 [ 0.00171325 -0.06685834  1.67726322] [  2.00190990e-03  -5.03503090e-02   4.66897305e+00]\n",
      "This is the average radius of curvature of the anes 544.514582662\n"
     ]
    },
    {
     "name": "stderr",
     "output_type": "stream",
     "text": [
      "\r",
      " 59%|█████▉    | 747/1261 [08:51<05:59,  1.43it/s]"
     ]
    },
    {
     "name": "stdout",
     "output_type": "stream",
     "text": [
      "891.756446175\n",
      "0.0 [  1.99059708e-04  -3.72357805e-01   4.53130593e+02] [  2.36417227e-04  -2.91398917e-01   1.26736522e+03]\n",
      "0.0 [ 0.00169694 -0.06613075  1.67658319] [  2.01540958e-03  -5.17524477e-02   4.68925131e+00]\n",
      "This is the average radius of curvature of the anes 545.668143624\n"
     ]
    },
    {
     "name": "stderr",
     "output_type": "stream",
     "text": [
      "\r",
      " 59%|█████▉    | 748/1261 [08:52<06:03,  1.41it/s]"
     ]
    },
    {
     "name": "stdout",
     "output_type": "stream",
     "text": [
      "889.391243418\n",
      "0.0 [  1.97936696e-04  -3.69556262e-01   4.52986415e+02] [  2.09002008e-04  -2.78591042e-01   1.27125333e+03]\n",
      "0.0 [ 0.00168737 -0.06563319  1.67604974] [  1.78170032e-03  -4.94777691e-02   4.70363732e+00]\n",
      "This is the average radius of curvature of the anes 579.897676603\n"
     ]
    },
    {
     "name": "stderr",
     "output_type": "stream",
     "text": [
      "\r",
      " 59%|█████▉    | 749/1261 [08:53<05:59,  1.42it/s]"
     ]
    },
    {
     "name": "stdout",
     "output_type": "stream",
     "text": [
      "888.060252614\n",
      "0.0 [  1.95806463e-04  -3.65602067e-01   4.52477831e+02] [  1.94344689e-04  -2.74680311e-01   1.27592102e+03]\n",
      "0.0 [  1.66921093e-03  -6.49309270e-02   1.67416797e+00] [  1.65674960e-03  -4.87832233e-02   4.72090778e+00]\n",
      "This is the average radius of curvature of the anes 604.312763485\n"
     ]
    },
    {
     "name": "stderr",
     "output_type": "stream",
     "text": [
      "\r",
      " 59%|█████▉    | 750/1261 [08:54<06:04,  1.40it/s]"
     ]
    },
    {
     "name": "stdout",
     "output_type": "stream",
     "text": [
      "886.808854415\n",
      "0.0 [  1.93389038e-04  -3.60963402e-01   4.52311704e+02] [  1.86200597e-04  -2.72742764e-01   1.27940606e+03]\n",
      "0.0 [  1.64860287e-03  -6.41071003e-02   1.67355330e+00] [  1.58732285e-03  -4.84391149e-02   4.73380243e+00]\n",
      "This is the average radius of curvature of the anes 621.263733294\n"
     ]
    },
    {
     "name": "stderr",
     "output_type": "stream",
     "text": [
      "\r",
      " 60%|█████▉    | 751/1261 [08:54<05:56,  1.43it/s]"
     ]
    },
    {
     "name": "stdout",
     "output_type": "stream",
     "text": [
      "884.895328732\n",
      "0.0 [  1.85029570e-04  -3.52863318e-01   4.52650452e+02] [  1.89875599e-04  -2.84146528e-01   1.28563320e+03]\n",
      "0.0 [  1.57734008e-03  -6.26685253e-02   1.67480667e+00] [  1.61865151e-03  -5.04644233e-02   4.75684284e+00]\n",
      "This is the average radius of curvature of the anes 628.938412452\n"
     ]
    },
    {
     "name": "stderr",
     "output_type": "stream",
     "text": [
      "\r",
      " 60%|█████▉    | 752/1261 [08:55<05:59,  1.42it/s]"
     ]
    },
    {
     "name": "stdout",
     "output_type": "stream",
     "text": [
      "887.424695382\n",
      "0.0 [  1.85217321e-04  -3.50637723e-01   4.52932760e+02] [  2.15884105e-04  -3.08805202e-01   1.29442634e+03]\n",
      "0.0 [  1.57894062e-03  -6.22732597e-02   1.67585121e+00] [  1.84036882e-03  -5.48438039e-02   4.78937746e+00]\n",
      "This is the average radius of curvature of the anes 591.423214011\n"
     ]
    },
    {
     "name": "stderr",
     "output_type": "stream",
     "text": [
      "\r",
      " 60%|█████▉    | 753/1261 [08:56<05:51,  1.44it/s]"
     ]
    },
    {
     "name": "stdout",
     "output_type": "stream",
     "text": [
      "874.523231415\n",
      "0.0 [  1.80773638e-04  -3.46963473e-01   4.54615840e+02] [  1.21017299e-04  -2.45900094e-01   1.28736620e+03]\n",
      "0.0 [  1.54105911e-03  -6.16207127e-02   1.68207861e+00] [  1.03164827e-03  -4.36718567e-02   4.76325494e+00]\n",
      "This is the average radius of curvature of the anes 812.350425232\n"
     ]
    },
    {
     "name": "stderr",
     "output_type": "stream",
     "text": [
      "\r",
      " 60%|█████▉    | 754/1261 [08:56<05:54,  1.43it/s]"
     ]
    },
    {
     "name": "stdout",
     "output_type": "stream",
     "text": [
      "868.136167729\n",
      "0.0 [  1.76019874e-04  -3.45130432e-01   4.58642945e+02] [  5.62010973e-05  -1.91899693e-01   1.27778919e+03]\n",
      "0.0 [  1.50053422e-03  -6.12951647e-02   1.69697890e+00] [  4.79103114e-04  -3.40813854e-02   4.72782001e+00]\n",
      "This is the average radius of curvature of the anes 1380.52981126\n"
     ]
    },
    {
     "name": "stderr",
     "output_type": "stream",
     "text": [
      "\r",
      " 60%|█████▉    | 755/1261 [08:57<05:49,  1.45it/s]"
     ]
    },
    {
     "name": "stdout",
     "output_type": "stream",
     "text": [
      "868.233493934\n",
      "0.0 [  1.63803529e-04  -3.37130562e-01   4.61572951e+02] [  6.46237266e-05  -1.98198954e-01   1.28115242e+03]\n",
      "0.0 [  1.39639232e-03  -5.98743878e-02   1.70781992e+00] [  5.50904344e-04  -3.52001343e-02   4.74026396e+00]\n",
      "This is the average radius of curvature of the anes 1269.2786928\n"
     ]
    },
    {
     "name": "stderr",
     "output_type": "stream",
     "text": [
      "\r",
      " 60%|█████▉    | 756/1261 [08:58<05:54,  1.43it/s]"
     ]
    },
    {
     "name": "stdout",
     "output_type": "stream",
     "text": [
      "870.012577054\n",
      "0.0 [  1.71385000e-04  -3.40920727e-01   4.62965691e+02] [  7.20520056e-05  -2.07185257e-01   1.28796509e+03]\n",
      "0.0 [  1.46102285e-03  -6.05475212e-02   1.71297306e+00] [  6.14228937e-04  -3.67961016e-02   4.76547083e+00]\n",
      "This is the average radius of curvature of the anes 1159.79214471\n"
     ]
    },
    {
     "name": "stderr",
     "output_type": "stream",
     "text": [
      "\r",
      " 60%|██████    | 757/1261 [08:58<05:53,  1.43it/s]"
     ]
    },
    {
     "name": "stdout",
     "output_type": "stream",
     "text": [
      "870.610310671\n",
      "0.0 [  1.70624880e-04  -3.37293507e-01   4.62556084e+02] [  4.29026806e-05  -1.84398947e-01   1.28740941e+03]\n",
      "0.0 [  1.45454298e-03  -5.99033269e-02   1.71145751e+00] [  3.65736771e-04  -3.27492531e-02   4.76341481e+00]\n",
      "This is the average radius of curvature of the anes 1714.90591004\n"
     ]
    },
    {
     "name": "stderr",
     "output_type": "stream",
     "text": [
      "\r",
      " 60%|██████    | 758/1261 [08:59<05:59,  1.40it/s]"
     ]
    },
    {
     "name": "stdout",
     "output_type": "stream",
     "text": [
      "873.060228024\n",
      "0.0 [  1.72817025e-04  -3.36804248e-01   4.62452772e+02] [  3.70860270e-05  -1.80616295e-01   1.29058099e+03]\n",
      "0.0 [  1.47323057e-03  -5.98164345e-02   1.71107526e+00] [  3.16150963e-04  -3.20774539e-02   4.77514966e+00]\n",
      "This is the average radius of curvature of the anes 1925.17788693\n"
     ]
    },
    {
     "name": "stderr",
     "output_type": "stream",
     "text": [
      "\r",
      " 60%|██████    | 759/1261 [09:00<05:54,  1.41it/s]"
     ]
    },
    {
     "name": "stdout",
     "output_type": "stream",
     "text": [
      "875.64146554\n",
      "0.0 [  1.77438557e-04  -3.37749461e-01   4.62591325e+02] [  4.73137429e-05  -1.86796894e-01   1.29445429e+03]\n",
      "0.0 [  1.51262821e-03  -5.99843042e-02   1.71158790e+00] [  4.03340196e-04  -3.31751284e-02   4.78948087e+00]\n",
      "This is the average radius of curvature of the anes 1574.03154224\n"
     ]
    },
    {
     "name": "stderr",
     "output_type": "stream",
     "text": [
      "\r",
      " 60%|██████    | 760/1261 [09:01<05:59,  1.39it/s]"
     ]
    },
    {
     "name": "stdout",
     "output_type": "stream",
     "text": [
      "877.484598948\n",
      "0.0 [  1.83026915e-04  -3.38947699e-01   4.62662090e+02] [  6.62763749e-05  -1.99102537e-01   1.29826965e+03]\n",
      "0.0 [  1.56026785e-03  -6.01971114e-02   1.71184973e+00] [  5.64992841e-04  -3.53606105e-02   4.80359769e+00]\n",
      "This is the average radius of curvature of the anes 1208.82852933\n"
     ]
    },
    {
     "name": "stderr",
     "output_type": "stream",
     "text": [
      "\r",
      " 60%|██████    | 761/1261 [09:01<05:56,  1.40it/s]"
     ]
    },
    {
     "name": "stdout",
     "output_type": "stream",
     "text": [
      "877.930006723\n",
      "0.0 [  1.88665907e-04  -3.40920088e-01   4.62779689e+02] [  9.23097686e-05  -2.18633354e-01   1.30191082e+03]\n",
      "0.0 [  1.60833912e-03  -6.05474076e-02   1.71228485e+00] [  7.86922315e-04  -3.88292837e-02   4.81707005e+00]\n",
      "This is the average radius of curvature of the anes 949.4150454\n"
     ]
    },
    {
     "name": "stderr",
     "output_type": "stream",
     "text": [
      "\r",
      " 60%|██████    | 762/1261 [09:02<06:04,  1.37it/s]"
     ]
    },
    {
     "name": "stdout",
     "output_type": "stream",
     "text": [
      "881.409140692\n",
      "0.0 [  1.87886463e-04  -3.38953089e-01   4.62190145e+02] [  1.50848580e-04  -2.71458798e-01   1.31421803e+03]\n",
      "0.0 [  1.60169452e-03  -6.01980687e-02   1.71010354e+00] [  1.28595398e-03  -4.82110825e-02   4.86260671e+00]\n",
      "This is the average radius of curvature of the anes 704.040572639\n"
     ]
    },
    {
     "name": "stderr",
     "output_type": "stream",
     "text": [
      "\r",
      " 61%|██████    | 763/1261 [09:03<05:59,  1.39it/s]"
     ]
    },
    {
     "name": "stdout",
     "output_type": "stream",
     "text": [
      "883.47413649\n",
      "0.0 [  1.86678404e-04  -3.37488756e-01   4.61878195e+02] [  2.01729761e-04  -3.20957472e-01   1.32568537e+03]\n",
      "0.0 [  1.59139606e-03  -5.99380030e-02   1.70894932e+00] [  1.71970587e-03  -5.70020471e-02   4.90503588e+00]\n",
      "This is the average radius of curvature of the anes 608.049786198\n"
     ]
    },
    {
     "name": "stderr",
     "output_type": "stream",
     "text": [
      "\r",
      " 61%|██████    | 764/1261 [09:04<06:00,  1.38it/s]"
     ]
    },
    {
     "name": "stdout",
     "output_type": "stream",
     "text": [
      "895.329646676\n",
      "0.0 [  1.85605391e-04  -3.35882892e-01   4.61480347e+02] [  3.16455720e-04  -4.14059417e-01   1.34537440e+03]\n",
      "0.0 [  1.58224884e-03  -5.96528017e-02   1.70747728e+00] [  2.69772172e-03  -7.35369525e-02   4.97788527e+00]\n",
      "This is the average radius of curvature of the anes 504.541170634\n"
     ]
    },
    {
     "name": "stderr",
     "output_type": "stream",
     "text": [
      "\r",
      " 61%|██████    | 765/1261 [09:04<05:53,  1.40it/s]"
     ]
    },
    {
     "name": "stdout",
     "output_type": "stream",
     "text": [
      "885.646667142\n",
      "0.0 [  1.84965456e-04  -3.34726081e-01   4.61184555e+02] [  1.78392052e-04  -2.98188185e-01   1.32395867e+03]\n",
      "0.0 [  1.57679352e-03  -5.94473520e-02   1.70638285e+00] [  1.52075657e-03  -5.29582216e-02   4.89864707e+00]\n",
      "This is the average radius of curvature of the anes 648.949479928\n"
     ]
    },
    {
     "name": "stderr",
     "output_type": "stream",
     "text": [
      "\r",
      " 61%|██████    | 766/1261 [09:05<05:55,  1.39it/s]"
     ]
    },
    {
     "name": "stdout",
     "output_type": "stream",
     "text": [
      "880.423332898\n",
      "0.0 [  1.86803828e-04  -3.34685192e-01   4.61044547e+02] [  7.66192583e-05  -2.06657200e-01   1.30427763e+03]\n",
      "0.0 [  1.59246527e-03  -5.94400901e-02   1.70586482e+00] [  6.53163853e-04  -3.67023187e-02   4.82582723e+00]\n",
      "This is the average radius of curvature of the anes 1082.69604031\n"
     ]
    },
    {
     "name": "stderr",
     "output_type": "stream",
     "text": [
      "\r",
      " 61%|██████    | 767/1261 [09:06<05:49,  1.42it/s]"
     ]
    },
    {
     "name": "stdout",
     "output_type": "stream",
     "text": [
      "880.961995151\n",
      "0.0 [  1.86665660e-04  -3.33692949e-01   4.60823290e+02] [  8.96910407e-05  -2.22854358e-01   1.31011415e+03]\n",
      "0.0 [  1.59128742e-03  -5.92638678e-02   1.70504617e+00] [  7.64598184e-04  -3.95789341e-02   4.84742236e+00]\n",
      "This is the average radius of curvature of the anes 971.343243123\n"
     ]
    },
    {
     "name": "stderr",
     "output_type": "stream",
     "text": [
      "\r",
      " 61%|██████    | 768/1261 [09:06<05:52,  1.40it/s]"
     ]
    },
    {
     "name": "stdout",
     "output_type": "stream",
     "text": [
      "880.950487721\n",
      "0.0 [  1.92507495e-04  -3.36114390e-01   4.60975466e+02] [  7.15002864e-06  -1.47979562e-01   1.29418755e+03]\n",
      "0.0 [  1.64108789e-03  -5.96939157e-02   1.70560922e+00] [  6.09525642e-05  -2.62811702e-02   4.78849392e+00]\n",
      "This is the average radius of curvature of the anes 8517.90652833\n"
     ]
    },
    {
     "name": "stderr",
     "output_type": "stream",
     "text": [
      "\r",
      " 61%|██████    | 769/1261 [09:07<05:49,  1.41it/s]"
     ]
    },
    {
     "name": "stdout",
     "output_type": "stream",
     "text": [
      "880.665051112\n",
      "0.0 [  2.03609538e-04  -3.40656182e-01   4.61252880e+02] [ -8.75054900e-05  -6.94599127e-02   1.27875784e+03]\n",
      "0.0 [ 0.00173573 -0.06050054  1.70663566] [ -7.45966801e-04  -1.23360805e-02   4.73140403e+00]\n",
      "This is the average radius of curvature of the anes 960.070310111\n"
     ]
    },
    {
     "name": "stderr",
     "output_type": "stream",
     "text": [
      "\r",
      " 61%|██████    | 770/1261 [09:08<05:55,  1.38it/s]"
     ]
    },
    {
     "name": "stdout",
     "output_type": "stream",
     "text": [
      "881.403961015\n",
      "0.0 [  2.14865340e-04  -3.45987353e-01   4.61755007e+02] [ -6.89818308e-05  -7.68200570e-02   1.27934732e+03]\n",
      "0.0 [ 0.00183168 -0.06144735  1.70849353] [ -5.88056311e-04  -1.36432421e-02   4.73358507e+00]\n",
      "This is the average radius of curvature of the anes 1125.0164461\n"
     ]
    },
    {
     "name": "stderr",
     "output_type": "stream",
     "text": [
      "\r",
      " 61%|██████    | 771/1261 [09:09<05:48,  1.41it/s]"
     ]
    },
    {
     "name": "stdout",
     "output_type": "stream",
     "text": [
      "884.016264935\n",
      "0.0 [  2.17826836e-04  -3.47039673e-01   4.61808536e+02] [ -4.54289231e-05  -8.90954640e-02   1.28263985e+03]\n",
      "0.0 [ 0.00185693 -0.06163425  1.70869158] [ -3.87272483e-04  -1.58233544e-02   4.74576743e+00]\n",
      "This is the average radius of curvature of the anes 1562.36289929\n"
     ]
    },
    {
     "name": "stderr",
     "output_type": "stream",
     "text": [
      "\r",
      " 61%|██████    | 772/1261 [09:09<05:42,  1.43it/s]"
     ]
    },
    {
     "name": "stdout",
     "output_type": "stream",
     "text": [
      "888.226415014\n",
      "0.0 [  2.14887058e-04  -3.45145686e-01   4.61584584e+02] [ -2.63010420e-05  -9.96647340e-02   1.28734845e+03]\n",
      "0.0 [ 0.00183187 -0.06129787  1.70786296] [ -2.24211123e-04  -1.77004568e-02   4.76318926e+00]\n",
      "This is the average radius of curvature of the anes 2505.57418212\n"
     ]
    },
    {
     "name": "stderr",
     "output_type": "stream",
     "text": [
      "\r",
      " 61%|██████▏   | 773/1261 [09:10<05:46,  1.41it/s]"
     ]
    },
    {
     "name": "stdout",
     "output_type": "stream",
     "text": [
      "891.729382438\n",
      "0.0 [  2.05641831e-04  -3.40057412e-01   4.61076346e+02] [ -2.07901661e-05  -9.74874088e-02   1.28784121e+03]\n",
      "0.0 [ 0.00175306 -0.0603942   1.70598248] [ -1.77232008e-04  -1.73137638e-02   4.76501249e+00]\n",
      "This is the average radius of curvature of the anes 3109.20765676\n"
     ]
    },
    {
     "name": "stderr",
     "output_type": "stream",
     "text": [
      "\r",
      " 61%|██████▏   | 774/1261 [09:11<05:39,  1.43it/s]"
     ]
    },
    {
     "name": "stdout",
     "output_type": "stream",
     "text": [
      "893.584751148\n",
      "0.0 [  2.00256423e-04  -3.36846057e-01   4.60659437e+02] [  1.10004525e-05  -1.16227451e-01   1.28994956e+03]\n",
      "0.0 [ 0.00170715 -0.05982386  1.70443992] [  9.37766576e-05  -2.06419954e-02   4.77281338e+00]\n",
      "This is the average radius of curvature of the anes 5629.68559219\n"
     ]
    },
    {
     "name": "stderr",
     "output_type": "stream",
     "text": [
      "\r",
      " 61%|██████▏   | 775/1261 [09:11<05:41,  1.42it/s]"
     ]
    },
    {
     "name": "stdout",
     "output_type": "stream",
     "text": [
      "895.982647321\n",
      "0.0 [  1.93499646e-04  -3.33117576e-01   4.60251534e+02] [  5.17718853e-05  -1.48044567e-01   1.29581550e+03]\n",
      "0.0 [  1.64954579e-03  -5.91616815e-02   1.70293067e+00] [  4.41344967e-04  -2.62927150e-02   4.79451734e+00]\n",
      "This is the average radius of curvature of the anes 1438.782156\n"
     ]
    },
    {
     "name": "stderr",
     "output_type": "stream",
     "text": [
      "\r",
      " 62%|██████▏   | 776/1261 [09:12<05:33,  1.45it/s]"
     ]
    },
    {
     "name": "stdout",
     "output_type": "stream",
     "text": [
      "895.997256431\n",
      "0.0 [  1.92981228e-04  -3.32926220e-01   4.60252510e+02] [  2.68896428e-05  -1.21626027e-01   1.28904622e+03]\n",
      "0.0 [  1.64512637e-03  -5.91276967e-02   1.70293429e+00] [  2.29228827e-04  -2.16007823e-02   4.76947103e+00]\n",
      "This is the average radius of curvature of the anes 2488.27657896\n"
     ]
    },
    {
     "name": "stderr",
     "output_type": "stream",
     "text": [
      "\r",
      " 62%|██████▏   | 777/1261 [09:13<05:36,  1.44it/s]"
     ]
    },
    {
     "name": "stdout",
     "output_type": "stream",
     "text": [
      "893.545454526\n",
      "0.0 [  1.93995335e-04  -3.34021708e-01   4.60503411e+02] [ -9.88755320e-06  -9.12139225e-02   1.28175787e+03]\n",
      "0.0 [  1.65377143e-03  -5.93222553e-02   1.70386262e+00] [ -8.42894135e-05  -1.61995926e-02   4.74250413e+00]\n",
      "This is the average radius of curvature of the anes 6238.2148505\n"
     ]
    },
    {
     "name": "stderr",
     "output_type": "stream",
     "text": [
      "\r",
      " 62%|██████▏   | 778/1261 [09:13<05:34,  1.45it/s]"
     ]
    },
    {
     "name": "stdout",
     "output_type": "stream",
     "text": [
      "891.167204981\n",
      "0.0 [  2.00941656e-04  -3.40078727e-01   4.61695107e+02] [ -1.93217147e-05  -7.85623326e-02   1.27523842e+03]\n",
      "0.0 [ 0.00171299 -0.06039798  1.70827189] [ -1.64713754e-04  -1.39526703e-02   4.71838216e+00]\n",
      "This is the average radius of curvature of the anes 3329.94204242\n"
     ]
    },
    {
     "name": "stderr",
     "output_type": "stream",
     "text": [
      "\r",
      " 62%|██████▏   | 779/1261 [09:14<05:40,  1.42it/s]"
     ]
    },
    {
     "name": "stdout",
     "output_type": "stream",
     "text": [
      "890.394547649\n",
      "0.0 [  2.03254600e-04  -3.43232474e-01   4.62718518e+02] [  7.73268451e-07  -9.34953976e-02   1.27610771e+03]\n",
      "0.0 [ 0.0017327  -0.06095809  1.71205852] [  6.59195889e-06  -1.66047826e-02   4.72159851e+00]\n",
      "This is the average radius of curvature of the anes 76171.5357514\n"
     ]
    },
    {
     "name": "stderr",
     "output_type": "stream",
     "text": [
      "\r",
      " 62%|██████▏   | 780/1261 [09:15<05:38,  1.42it/s]"
     ]
    },
    {
     "name": "stdout",
     "output_type": "stream",
     "text": [
      "889.563731136\n",
      "0.0 [  1.98888430e-04  -3.40939963e-01   4.62690250e+02] [ -1.70761748e-05  -7.85081697e-02   1.27252979e+03]\n",
      "0.0 [  1.69548409e-03  -6.05509374e-02   1.71195393e+00] [ -1.45570975e-04  -1.39430509e-02   4.70836023e+00]\n",
      "This is the average radius of curvature of the anes 3732.27667341\n"
     ]
    },
    {
     "name": "stderr",
     "output_type": "stream",
     "text": [
      "\r",
      " 62%|██████▏   | 781/1261 [09:16<05:42,  1.40it/s]"
     ]
    },
    {
     "name": "stdout",
     "output_type": "stream",
     "text": [
      "893.336336273\n",
      "0.0 [  1.93897803e-04  -3.38146711e-01   4.62450546e+02] [  1.19393939e-05  -9.35155738e-02   1.27356426e+03]\n",
      "0.0 [  1.65293999e-03  -6.00548559e-02   1.71106702e+00] [  1.01780945e-04  -1.66083659e-02   4.71218778e+00]\n",
      "This is the average radius of curvature of the anes 5218.67282518\n"
     ]
    },
    {
     "name": "stderr",
     "output_type": "stream",
     "text": [
      "\r",
      " 62%|██████▏   | 782/1261 [09:16<05:40,  1.41it/s]"
     ]
    },
    {
     "name": "stdout",
     "output_type": "stream",
     "text": [
      "898.445987326\n",
      "0.0 [  1.81881290e-04  -3.30882919e-01   4.61523753e+02] [  2.53979905e-05  -1.03874052e-01   1.27764613e+03]\n",
      "0.0 [  1.55050162e-03  -5.87648064e-02   1.70763789e+00] [  2.16512790e-04  -1.84480317e-02   4.72729068e+00]\n",
      "This is the average radius of curvature of the anes 2634.65953781\n"
     ]
    },
    {
     "name": "stderr",
     "output_type": "stream",
     "text": [
      "\r",
      " 62%|██████▏   | 783/1261 [09:17<05:43,  1.39it/s]"
     ]
    },
    {
     "name": "stdout",
     "output_type": "stream",
     "text": [
      "901.352096424\n",
      "0.0 [  1.74023401e-04  -3.25577035e-01   4.60711439e+02] [  4.17308633e-05  -1.13152506e-01   1.27772038e+03]\n",
      "0.0 [  1.48351469e-03  -5.78224814e-02   1.70463233e+00] [  3.55747264e-04  -2.00958850e-02   4.72756541e+00]\n",
      "This is the average radius of curvature of the anes 1745.07282866\n"
     ]
    },
    {
     "name": "stderr",
     "output_type": "stream",
     "text": [
      "\r",
      " 62%|██████▏   | 784/1261 [09:18<05:38,  1.41it/s]"
     ]
    },
    {
     "name": "stdout",
     "output_type": "stream",
     "text": [
      "905.130548389\n",
      "0.0 [  1.58234667e-04  -3.12665111e-01   4.58190474e+02] [  5.72899579e-05  -1.21695006e-01   1.27819800e+03]\n",
      "0.0 [  1.34891889e-03  -5.55293237e-02   1.69530476e+00] [  4.88385433e-04  -2.16130331e-02   4.72933258e+00]\n",
      "This is the average radius of curvature of the anes 1396.88195218\n"
     ]
    },
    {
     "name": "stderr",
     "output_type": "stream",
     "text": [
      "\r",
      " 62%|██████▏   | 785/1261 [09:18<05:43,  1.38it/s]"
     ]
    },
    {
     "name": "stdout",
     "output_type": "stream",
     "text": [
      "908.573472327\n",
      "0.0 [  1.38694194e-04  -2.94398906e-01   4.53668222e+02] [  7.63359872e-05  -1.36488525e-01   1.28094089e+03]\n",
      "0.0 [  1.18234027e-03  -5.22852458e-02   1.67857242e+00] [  6.50749024e-04  -2.42403621e-02   4.73948130e+00]\n",
      "This is the average radius of curvature of the anes 1193.64808643\n"
     ]
    },
    {
     "name": "stderr",
     "output_type": "stream",
     "text": [
      "\r",
      " 62%|██████▏   | 786/1261 [09:19<05:37,  1.41it/s]"
     ]
    },
    {
     "name": "stdout",
     "output_type": "stream",
     "text": [
      "908.928250328\n",
      "0.0 [  1.36561466e-04  -2.90819552e-01   4.52472764e+02] [  7.52881162e-05  -1.31385629e-01   1.27844396e+03]\n",
      "0.0 [  1.16415919e-03  -5.16495525e-02   1.67414923e+00] [  6.41816133e-04  -2.33340878e-02   4.73024264e+00]\n",
      "This is the average radius of curvature of the anes 1210.88995863\n"
     ]
    },
    {
     "name": "stderr",
     "output_type": "stream",
     "text": [
      "\r",
      " 62%|██████▏   | 787/1261 [09:20<05:38,  1.40it/s]"
     ]
    },
    {
     "name": "stdout",
     "output_type": "stream",
     "text": [
      "910.426831456\n",
      "0.0 [  1.16636981e-04  -2.72009196e-01   4.48516060e+02] [  7.69459086e-05  -1.28109274e-01   1.27599758e+03]\n",
      "0.0 [  9.94306939e-04  -4.83088332e-02   1.65950942e+00] [  6.55948481e-04  -2.27522071e-02   4.72119106e+00]\n",
      "This is the average radius of curvature of the anes 1267.47113327\n"
     ]
    },
    {
     "name": "stderr",
     "output_type": "stream",
     "text": [
      "\r",
      " 62%|██████▏   | 788/1261 [09:21<05:32,  1.42it/s]"
     ]
    },
    {
     "name": "stdout",
     "output_type": "stream",
     "text": [
      "909.480377921\n",
      "0.0 [  1.18955128e-04  -2.72057519e-01   4.48178036e+02] [  9.71844083e-05  -1.46219262e-01   1.27843532e+03]\n",
      "0.0 [  1.01406868e-03  -4.83174154e-02   1.65825873e+00] [  8.28477644e-04  -2.59685410e-02   4.73021069e+00]\n",
      "This is the average radius of curvature of the anes 1098.91807288\n"
     ]
    },
    {
     "name": "stderr",
     "output_type": "stream",
     "text": [
      "\r",
      " 63%|██████▎   | 789/1261 [09:21<05:35,  1.41it/s]"
     ]
    },
    {
     "name": "stdout",
     "output_type": "stream",
     "text": [
      "905.10888945\n",
      "0.0 [  1.24068001e-04  -2.73735381e-01   4.48063821e+02] [  8.32921857e-05  -1.31498331e-01   1.27198378e+03]\n",
      "0.0 [  1.05765489e-03  -4.86154037e-02   1.65783614e+00] [  7.10049224e-04  -2.33541037e-02   4.70633998e+00]\n",
      "This is the average radius of curvature of the anes 1179.1736618\n"
     ]
    },
    {
     "name": "stderr",
     "output_type": "stream",
     "text": [
      "\r",
      " 63%|██████▎   | 790/1261 [09:22<05:30,  1.43it/s]"
     ]
    },
    {
     "name": "stdout",
     "output_type": "stream",
     "text": [
      "899.314093944\n",
      "0.0 [  1.33751486e-04  -2.78389188e-01   4.48388202e+02] [  7.97888878e-05  -1.28974201e-01   1.26816948e+03]\n",
      "0.0 [  1.14020466e-03  -4.94419199e-02   1.65903635e+00] [  6.80184310e-04  -2.29058181e-02   4.69222707e+00]\n",
      "This is the average radius of curvature of the anes 1175.80016421\n"
     ]
    },
    {
     "name": "stderr",
     "output_type": "stream",
     "text": [
      "\r",
      " 63%|██████▎   | 791/1261 [09:23<05:33,  1.41it/s]"
     ]
    },
    {
     "name": "stdout",
     "output_type": "stream",
     "text": [
      "894.79914011\n",
      "0.0 [  1.43256281e-04  -2.83143131e-01   4.48756445e+02] [  7.84394760e-05  -1.32791616e-01   1.26896061e+03]\n",
      "0.0 [  1.22123115e-03  -5.02862201e-02   1.66039885e+00] [  6.68680845e-04  -2.35837911e-02   4.69515425e+00]\n",
      "This is the average radius of curvature of the anes 1159.34164279\n"
     ]
    },
    {
     "name": "stderr",
     "output_type": "stream",
     "text": [
      "\r",
      " 63%|██████▎   | 792/1261 [09:23<05:30,  1.42it/s]"
     ]
    },
    {
     "name": "stdout",
     "output_type": "stream",
     "text": [
      "888.361301684\n",
      "0.0 [  1.48040871e-04  -2.85070210e-01   4.48660357e+02] [  4.06645734e-05  -1.09702158e-01   1.26644139e+03]\n",
      "0.0 [  1.26201882e-03  -5.06284692e-02   1.66004332e+00] [  3.46657356e-04  -1.94831032e-02   4.68583314e+00]\n",
      "This is the average radius of curvature of the anes 1840.88264248\n"
     ]
    },
    {
     "name": "stderr",
     "output_type": "stream",
     "text": [
      "\r",
      " 63%|██████▎   | 793/1261 [09:24<05:33,  1.40it/s]"
     ]
    },
    {
     "name": "stdout",
     "output_type": "stream",
     "text": [
      "885.971642793\n",
      "0.0 [  1.53881953e-04  -2.88186784e-01   4.48919705e+02] [  4.36004662e-05  -1.13394180e-01   1.26622669e+03]\n",
      "0.0 [  1.31181288e-03  -5.11819728e-02   1.66100291e+00] [  3.71685254e-04  -2.01388065e-02   4.68503877e+00]\n",
      "This is the average radius of curvature of the anes 1728.69326119\n"
     ]
    },
    {
     "name": "stderr",
     "output_type": "stream",
     "text": [
      "\r",
      " 63%|██████▎   | 794/1261 [09:25<05:35,  1.39it/s]"
     ]
    },
    {
     "name": "stdout",
     "output_type": "stream",
     "text": [
      "886.655216416\n",
      "0.0 [  1.54788042e-04  -2.88712781e-01   4.48960448e+02] [  6.26233762e-05  -1.26635002e-01   1.26672728e+03]\n",
      "0.0 [  1.31953710e-03  -5.12753899e-02   1.66115366e+00] [  5.33851757e-04  -2.24903764e-02   4.68689093e+00]\n",
      "This is the average radius of curvature of the anes 1317.71640721\n"
     ]
    },
    {
     "name": "stderr",
     "output_type": "stream",
     "text": [
      "\r",
      " 63%|██████▎   | 795/1261 [09:26<05:32,  1.40it/s]"
     ]
    },
    {
     "name": "stdout",
     "output_type": "stream",
     "text": [
      "885.666290511\n",
      "0.0 [  1.56081283e-04  -2.89164899e-01   4.48959306e+02] [  8.27637468e-05  -1.41186577e-01   1.26613149e+03]\n",
      "0.0 [  1.33056172e-03  -5.13556860e-02   1.66114943e+00] [  7.05544389e-04  -2.50747360e-02   4.68468651e+00]\n",
      "This is the average radius of curvature of the anes 1086.60984824\n"
     ]
    },
    {
     "name": "stderr",
     "output_type": "stream",
     "text": [
      "\r",
      " 63%|██████▎   | 796/1261 [09:26<05:33,  1.39it/s]"
     ]
    },
    {
     "name": "stdout",
     "output_type": "stream",
     "text": [
      "884.412917806\n",
      "0.0 [  1.57908085e-04  -2.88925895e-01   4.48916565e+02] [  9.52003935e-05  -1.44475986e-01   1.26188743e+03]\n",
      "0.0 [  1.34613485e-03  -5.13132390e-02   1.66099129e+00] [  8.11564315e-04  -2.56589351e-02   4.66898349e+00]\n",
      "This is the average radius of curvature of the anes 989.604438165\n"
     ]
    },
    {
     "name": "stderr",
     "output_type": "stream",
     "text": [
      "\r",
      " 63%|██████▎   | 797/1261 [09:27<05:29,  1.41it/s]"
     ]
    },
    {
     "name": "stdout",
     "output_type": "stream",
     "text": [
      "885.062574949\n",
      "0.0 [  1.51188990e-04  -2.83669892e-01   4.48094291e+02] [  8.24556860e-05  -1.27432078e-01   1.25635432e+03]\n",
      "0.0 [  1.28885590e-03  -5.03797728e-02   1.65794888e+00] [  7.02918232e-04  -2.26319371e-02   4.64851097e+00]\n",
      "This is the average radius of curvature of the anes 1101.28573269\n"
     ]
    },
    {
     "name": "stderr",
     "output_type": "stream",
     "text": [
      "\r",
      " 63%|██████▎   | 798/1261 [09:28<05:32,  1.39it/s]"
     ]
    },
    {
     "name": "stdout",
     "output_type": "stream",
     "text": [
      "885.571144149\n",
      "0.0 [  1.37537739e-04  -2.71430963e-01   4.45781705e+02] [  8.77487124e-05  -1.29721254e-01   1.25520255e+03]\n",
      "0.0 [  1.17248172e-03  -4.82061389e-02   1.64939231e+00] [  7.48040223e-04  -2.30384947e-02   4.64424945e+00]\n",
      "This is the average radius of curvature of the anes 1096.87871572\n"
     ]
    },
    {
     "name": "stderr",
     "output_type": "stream",
     "text": [
      "\r",
      " 63%|██████▎   | 799/1261 [09:28<05:25,  1.42it/s]"
     ]
    },
    {
     "name": "stdout",
     "output_type": "stream",
     "text": [
      "890.192886846\n",
      "0.0 [  1.04903742e-04  -2.41382295e-01   4.39213889e+02] [  1.09447974e-04  -1.44435365e-01   1.25735274e+03]\n",
      "0.0 [  8.94283420e-04  -4.28694956e-02   1.62509139e+00] [  9.33022090e-04  -2.56517209e-02   4.65220515e+00]\n",
      "This is the average radius of curvature of the anes 1097.0708729\n"
     ]
    },
    {
     "name": "stderr",
     "output_type": "stream",
     "text": [
      "\r",
      " 63%|██████▎   | 800/1261 [09:29<05:25,  1.42it/s]"
     ]
    },
    {
     "name": "stdout",
     "output_type": "stream",
     "text": [
      "892.926329508\n",
      "0.0 [  8.20583995e-05  -2.17217328e-01   4.32210809e+02] [  1.35613773e-04  -1.67946159e-01   1.26202513e+03]\n",
      "0.0 [  6.99531444e-04  -3.85777975e-02   1.59917999e+00] [  1.15608029e-03  -2.98272378e-02   4.66949297e+00]\n",
      "This is the average radius of curvature of the anes 1149.43356854\n"
     ]
    },
    {
     "name": "stderr",
     "output_type": "stream",
     "text": [
      "\r",
      " 64%|██████▎   | 801/1261 [09:30<05:16,  1.45it/s]"
     ]
    },
    {
     "name": "stdout",
     "output_type": "stream",
     "text": [
      "892.774646022\n",
      "0.0 [  6.62959079e-05  -1.98879412e-01   4.25675763e+02] [  1.29072335e-04  -1.66689728e-01   1.26285306e+03]\n",
      "0.0 [  5.65159355e-04  -3.53209835e-02   1.57500032e+00] [  1.10031584e-03  -2.96040957e-02   4.67255633e+00]\n",
      "This is the average radius of curvature of the anes 1341.37482986\n"
     ]
    },
    {
     "name": "stderr",
     "output_type": "stream",
     "text": [
      "\r",
      " 64%|██████▎   | 802/1261 [09:31<05:56,  1.29it/s]"
     ]
    },
    {
     "name": "stdout",
     "output_type": "stream",
     "text": [
      "892.596036547\n",
      "0.0 [  5.26950461e-05  -1.82442480e-01   4.19233208e+02] [  1.14464205e-04  -1.58863454e-01   1.26294368e+03]\n",
      "0.0 [  4.49214729e-04  -3.24017845e-02   1.55116287e+00] [  9.75784452e-04  -2.82141494e-02   4.67289161e+00]\n",
      "This is the average radius of curvature of the anes 1627.82696508\n"
     ]
    },
    {
     "name": "stderr",
     "output_type": "stream",
     "text": [
      "\r",
      " 64%|██████▎   | 803/1261 [09:32<07:11,  1.06it/s]"
     ]
    },
    {
     "name": "stdout",
     "output_type": "stream",
     "text": [
      "891.2633871\n",
      "0.0 [  4.91481548e-05  -1.76452563e-01   4.15557756e+02] [  8.93004228e-05  -1.40874566e-01   1.26048341e+03]\n",
      "0.0 [  4.18978190e-04  -3.13379752e-02   1.53756370e+00] [  7.61268245e-04  -2.50193229e-02   4.66378860e+00]\n",
      "This is the average radius of curvature of the anes 1852.55345027\n"
     ]
    },
    {
     "name": "stderr",
     "output_type": "stream",
     "text": [
      "\r",
      " 64%|██████▍   | 804/1261 [09:33<06:58,  1.09it/s]"
     ]
    },
    {
     "name": "stdout",
     "output_type": "stream",
     "text": [
      "890.030311023\n",
      "0.0 [  5.44112578e-05  -1.79242525e-01   4.15518212e+02] [  7.78114832e-05  -1.25312214e-01   1.25467563e+03]\n",
      "0.0 [  4.63845091e-04  -3.18334724e-02   1.53741738e+00] [  6.63327332e-04  -2.22554492e-02   4.64229982e+00]\n",
      "This is the average radius of curvature of the anes 1833.92079424\n"
     ]
    },
    {
     "name": "stderr",
     "output_type": "stream",
     "text": [
      "\r",
      " 64%|██████▍   | 805/1261 [09:34<06:31,  1.16it/s]"
     ]
    },
    {
     "name": "stdout",
     "output_type": "stream",
     "text": [
      "885.068449667\n",
      "0.0 [  6.17735485e-05  -1.82899726e-01   4.15788702e+02] [  4.31632170e-05  -8.85788179e-02   1.24266123e+03]\n",
      "0.0 [  5.26607146e-04  -3.24829913e-02   1.53841820e+00] [  3.67957793e-04  -1.57315981e-02   4.59784657e+00]\n",
      "This is the average radius of curvature of the anes 2310.33351296\n"
     ]
    },
    {
     "name": "stderr",
     "output_type": "stream",
     "text": [
      "\r",
      " 64%|██████▍   | 806/1261 [09:34<06:20,  1.20it/s]"
     ]
    },
    {
     "name": "stdout",
     "output_type": "stream",
     "text": [
      "882.388550973\n",
      "0.0 [  6.58227927e-05  -1.84970123e-01   4.15794035e+02] [  2.58734380e-05  -6.66108448e-02   1.23373452e+03]\n",
      "0.0 [  5.61126143e-04  -3.28506939e-02   1.53843793e+00] [  2.20565884e-04  -1.18300860e-02   4.56481773e+00]\n",
      "This is the average radius of curvature of the anes 3159.88030112\n"
     ]
    },
    {
     "name": "stderr",
     "output_type": "stream",
     "text": [
      "\r",
      " 64%|██████▍   | 807/1261 [09:35<06:01,  1.25it/s]"
     ]
    },
    {
     "name": "stdout",
     "output_type": "stream",
     "text": [
      "882.24436486\n",
      "0.0 [  6.74781197e-05  -1.84929565e-01   4.15022235e+02] [  2.62490817e-05  -5.97023664e-02   1.22854205e+03]\n",
      "0.0 [  5.75237475e-04  -3.28434907e-02   1.53558227e+00] [  2.23768172e-04  -1.06031403e-02   4.54560558e+00]\n",
      "This is the average radius of curvature of the anes 3105.44525583\n"
     ]
    },
    {
     "name": "stderr",
     "output_type": "stream",
     "text": [
      "\r",
      " 64%|██████▍   | 808/1261 [09:36<05:56,  1.27it/s]"
     ]
    },
    {
     "name": "stdout",
     "output_type": "stream",
     "text": [
      "881.157487536\n",
      "0.0 [  8.38679781e-05  -1.94140185e-01   4.15230833e+02] [  4.03985678e-05  -6.26461503e-02   1.22431610e+03]\n",
      "0.0 [  7.14957740e-04  -3.44792969e-02   1.53635408e+00] [  3.44389711e-04  -1.11259563e-02   4.52996957e+00]\n",
      "This is the average radius of curvature of the anes 2152.70268829\n"
     ]
    },
    {
     "name": "stderr",
     "output_type": "stream",
     "text": [
      "\r",
      " 64%|██████▍   | 809/1261 [09:37<05:44,  1.31it/s]"
     ]
    },
    {
     "name": "stdout",
     "output_type": "stream",
     "text": [
      "881.23862143\n",
      "0.0 [  9.78433871e-05  -1.96662582e-01   4.11123940e+02] [  2.90734258e-05  -4.83962448e-02   1.22131045e+03]\n",
      "0.0 [  8.34095306e-04  -3.49272746e-02   1.52115858e+00] [  2.47845140e-04  -8.59517308e-03   4.51884868e+00]\n",
      "This is the average radius of curvature of the anes 2618.16145917\n"
     ]
    },
    {
     "name": "stderr",
     "output_type": "stream",
     "text": [
      "\r",
      " 64%|██████▍   | 810/1261 [09:37<05:42,  1.32it/s]"
     ]
    },
    {
     "name": "stdout",
     "output_type": "stream",
     "text": [
      "882.554349399\n",
      "0.0 [  9.20673817e-05  -1.83352583e-01   4.03225296e+02] [  2.14722319e-05  -4.36419168e-02   1.22182262e+03]\n",
      "0.0 [  7.84856015e-04  -3.25634188e-02   1.49193360e+00] [  1.83046482e-04  -7.75080442e-03   4.52074368e+00]\n",
      "This is the average radius of curvature of the anes 3369.86584434\n"
     ]
    },
    {
     "name": "stderr",
     "output_type": "stream",
     "text": [
      "\r",
      " 64%|██████▍   | 811/1261 [09:38<05:31,  1.36it/s]"
     ]
    },
    {
     "name": "stdout",
     "output_type": "stream",
     "text": [
      "884.93403312\n",
      "0.0 [  1.02913109e-04  -1.83681400e-01   3.97104235e+02] [  5.55012790e-05  -7.59596268e-02   1.22909638e+03]\n",
      "0.0 [  8.77313672e-04  -3.26218167e-02   1.46928567e+00] [  4.73137303e-04  -1.34904297e-02   4.54765661e+00]\n",
      "This is the average radius of curvature of the anes 1627.89576893\n"
     ]
    },
    {
     "name": "stderr",
     "output_type": "stream",
     "text": [
      "\r",
      " 64%|██████▍   | 812/1261 [09:39<05:26,  1.38it/s]"
     ]
    },
    {
     "name": "stdout",
     "output_type": "stream",
     "text": [
      "889.98489417\n",
      "0.0 [  1.04126104e-04  -1.75191743e-01   3.88099256e+02] [  5.83868987e-05  -7.76172959e-02   1.23157351e+03]\n",
      "0.0 [  8.87654208e-04  -3.11140536e-02   1.43596725e+00] [  4.97736634e-04  -1.37848318e-02   4.55682198e+00]\n",
      "This is the average radius of curvature of the anes 1568.93422249\n"
     ]
    },
    {
     "name": "stderr",
     "output_type": "stream",
     "text": [
      "\r",
      " 64%|██████▍   | 813/1261 [09:39<05:25,  1.38it/s]"
     ]
    },
    {
     "name": "stdout",
     "output_type": "stream",
     "text": [
      "890.555758759\n",
      "0.0 [  1.06184715e-04  -1.71174317e-01   3.81571917e+02] [  3.86069170e-05  -6.64448954e-02   1.23176231e+03]\n",
      "0.0 [  9.05203462e-04  -3.04005587e-02   1.41181609e+00] [  3.29116246e-04  -1.18006134e-02   4.55752054e+00]\n",
      "This is the average radius of curvature of the anes 2072.66531781\n"
     ]
    },
    {
     "name": "stderr",
     "output_type": "stream",
     "text": [
      "\r",
      " 65%|██████▍   | 814/1261 [09:40<05:24,  1.38it/s]"
     ]
    },
    {
     "name": "stdout",
     "output_type": "stream",
     "text": [
      "892.530829518\n",
      "0.0 [  1.10230811e-04  -1.72573034e-01   3.77481982e+02] [  2.66450202e-05  -5.95516087e-02   1.23180703e+03]\n",
      "0.0 [  9.39695622e-04  -3.06489708e-02   1.39668333e+00] [  2.27143468e-04  -1.05763657e-02   4.55768601e+00]\n",
      "This is the average radius of curvature of the anes 2734.45838854\n"
     ]
    },
    {
     "name": "stderr",
     "output_type": "stream",
     "text": [
      "\r",
      " 65%|██████▍   | 815/1261 [09:41<05:29,  1.35it/s]"
     ]
    },
    {
     "name": "stdout",
     "output_type": "stream",
     "text": [
      "894.436982635\n",
      "0.0 [  1.09903258e-04  -1.73028041e-01   3.74576976e+02] [  1.49960674e-06  -3.98044395e-02   1.22808241e+03]\n",
      "0.0 [  9.36903297e-04  -3.07297802e-02   1.38593481e+00] [  1.27838475e-05  -7.06926846e-03   4.54390492e+00]\n",
      "This is the average radius of curvature of the anes 39649.2167809\n"
     ]
    },
    {
     "name": "stderr",
     "output_type": "stream",
     "text": [
      "\r",
      " 65%|██████▍   | 816/1261 [09:42<05:31,  1.34it/s]"
     ]
    },
    {
     "name": "stdout",
     "output_type": "stream",
     "text": [
      "898.387566263\n",
      "0.0 [  1.06259914e-04  -1.73290796e-01   3.74497407e+02] [  3.46562433e-05  -5.34508913e-02   1.22373639e+03]\n",
      "0.0 [  9.05844514e-04  -3.07764454e-02   1.38564041e+00] [  2.95437543e-04  -9.49287829e-03   4.52782463e+00]\n",
      "This is the average radius of curvature of the anes 2245.38938323\n"
     ]
    },
    {
     "name": "stderr",
     "output_type": "stream",
     "text": [
      "\r",
      " 65%|██████▍   | 817/1261 [09:42<05:29,  1.35it/s]"
     ]
    },
    {
     "name": "stdout",
     "output_type": "stream",
     "text": [
      "897.412583577\n",
      "0.0 [  1.05672308e-04  -1.75757513e-01   3.75361770e+02] [  4.53470001e-05  -4.82909437e-02   1.21231172e+03]\n",
      "0.0 [  9.00835294e-04  -3.12145344e-02   1.38883855e+00] [  3.86574106e-04  -8.57647160e-03   4.48555337e+00]\n",
      "This is the average radius of curvature of the anes 1849.40759598\n"
     ]
    },
    {
     "name": "stderr",
     "output_type": "stream",
     "text": [
      "\r",
      " 65%|██████▍   | 818/1261 [09:43<05:30,  1.34it/s]"
     ]
    },
    {
     "name": "stdout",
     "output_type": "stream",
     "text": [
      "897.351366187\n",
      "0.0 [  1.08230640e-04  -1.81304926e-01   3.76713905e+02] [  5.11734094e-05  -4.06924758e-02   1.20246128e+03]\n",
      "0.0 [  9.22644557e-04  -3.21997548e-02   1.39384145e+00] [  4.36243080e-04  -7.22698369e-03   4.44910674e+00]\n",
      "This is the average radius of curvature of the anes 1689.00331343\n"
     ]
    },
    {
     "name": "stderr",
     "output_type": "stream",
     "text": [
      "\r",
      " 65%|██████▍   | 819/1261 [09:44<05:29,  1.34it/s]"
     ]
    },
    {
     "name": "stdout",
     "output_type": "stream",
     "text": [
      "899.209403754\n",
      "0.0 [  1.10976584e-04  -1.86439826e-01   3.77209562e+02] [  6.60355185e-05  -4.72553949e-02   1.19957814e+03]\n",
      "0.0 [  9.46053179e-04  -3.31117130e-02   1.39567538e+00] [  5.62939588e-04  -8.39255813e-03   4.43843911e+00]\n",
      "This is the average radius of curvature of the anes 1417.66954855\n"
     ]
    },
    {
     "name": "stderr",
     "output_type": "stream",
     "text": [
      "\r",
      " 65%|██████▌   | 820/1261 [09:45<05:24,  1.36it/s]"
     ]
    },
    {
     "name": "stdout",
     "output_type": "stream",
     "text": [
      "900.185782075\n",
      "0.0 [  1.16716218e-04  -1.94698847e-01   3.77884000e+02] [  7.99433726e-05  -6.03485537e-02   1.20048205e+03]\n",
      "0.0 [  9.94982415e-04  -3.45785152e-02   1.39817080e+00] [  6.81501263e-04  -1.07179031e-02   4.44178358e+00]\n",
      "This is the average radius of curvature of the anes 1237.22376978\n"
     ]
    },
    {
     "name": "stderr",
     "output_type": "stream",
     "text": [
      "\r",
      " 65%|██████▌   | 821/1261 [09:45<05:20,  1.37it/s]"
     ]
    },
    {
     "name": "stdout",
     "output_type": "stream",
     "text": [
      "902.395344925\n",
      "0.0 [  1.31295872e-04  -2.10233481e-01   3.79191897e+02] [  1.09161343e-04  -8.78462228e-02   1.20503349e+03]\n",
      "0.0 [  1.11927105e-03  -3.73374663e-02   1.40301002e+00] [  9.30578614e-04  -1.56014892e-02   4.45862392e+00]\n",
      "This is the average radius of curvature of the anes 985.15009736\n"
     ]
    },
    {
     "name": "stderr",
     "output_type": "stream",
     "text": [
      "\r",
      " 65%|██████▌   | 822/1261 [09:46<05:18,  1.38it/s]"
     ]
    },
    {
     "name": "stdout",
     "output_type": "stream",
     "text": [
      "905.737035313\n",
      "0.0 [  1.46402462e-04  -2.24018013e-01   3.77974632e+02] [  1.48227166e-04  -1.27079496e-01   1.21306957e+03]\n",
      "0.0 [  1.24805171e-03  -3.97855992e-02   1.39850614e+00] [  1.26360695e-03  -2.25693185e-02   4.48835742e+00]\n",
      "This is the average radius of curvature of the anes 797.571057987\n"
     ]
    },
    {
     "name": "stderr",
     "output_type": "stream",
     "text": [
      "\r",
      " 65%|██████▌   | 823/1261 [09:47<05:22,  1.36it/s]"
     ]
    },
    {
     "name": "stdout",
     "output_type": "stream",
     "text": [
      "904.747922341\n",
      "0.0 [  1.40757638e-04  -2.22071285e-01   3.75412159e+02] [  1.43835782e-04  -1.35628511e-01   1.21641645e+03]\n",
      "0.0 [  1.19993071e-03  -3.94398603e-02   1.38902499e+00] [  1.22617128e-03  -2.40876236e-02   4.50074085e+00]\n",
      "This is the average radius of curvature of the anes 825.791669157\n"
     ]
    },
    {
     "name": "stderr",
     "output_type": "stream",
     "text": [
      "\r",
      " 65%|██████▌   | 824/1261 [09:48<05:16,  1.38it/s]"
     ]
    },
    {
     "name": "stdout",
     "output_type": "stream",
     "text": [
      "901.569099076\n",
      "0.0 [  1.31630443e-04  -2.18760050e-01   3.73702970e+02] [  1.10233399e-04  -1.19793968e-01   1.21517689e+03]\n",
      "0.0 [  1.12212320e-03  -3.88517850e-02   1.38270099e+00] [  9.39717676e-04  -2.12754087e-02   4.49615450e+00]\n",
      "This is the average radius of curvature of the anes 979.029138444\n"
     ]
    },
    {
     "name": "stderr",
     "output_type": "stream",
     "text": [
      "\r",
      " 65%|██████▌   | 825/1261 [09:48<05:16,  1.38it/s]"
     ]
    },
    {
     "name": "stdout",
     "output_type": "stream",
     "text": [
      "901.915127221\n",
      "0.0 [  1.21743299e-04  -2.16075924e-01   3.73090147e+02] [  1.16563980e-04  -1.32284884e-01   1.21743702e+03]\n",
      "0.0 [  1.03783728e-03  -3.83750841e-02   1.38043354e+00] [  9.93684620e-04  -2.34937953e-02   4.50451698e+00]\n",
      "This is the average radius of curvature of the anes 986.430119167\n"
     ]
    },
    {
     "name": "stderr",
     "output_type": "stream",
     "text": [
      "\r",
      " 66%|██████▌   | 826/1261 [09:49<05:11,  1.40it/s]"
     ]
    },
    {
     "name": "stdout",
     "output_type": "stream",
     "text": [
      "899.668471649\n",
      "0.0 [  1.15006716e-04  -2.14346516e-01   3.72970548e+02] [  1.12459570e-04  -1.32771939e-01   1.21530367e+03]\n",
      "0.0 [  9.80409252e-04  -3.80679412e-02   1.37999103e+00] [  9.58695342e-04  -2.35802964e-02   4.49662359e+00]\n",
      "This is the average radius of curvature of the anes 1033.07727218\n"
     ]
    },
    {
     "name": "stderr",
     "output_type": "stream",
     "text": [
      "\r",
      " 66%|██████▌   | 827/1261 [09:50<05:11,  1.39it/s]"
     ]
    },
    {
     "name": "stdout",
     "output_type": "stream",
     "text": [
      "898.113649901\n",
      "0.0 [  1.09182401e-04  -2.12556182e-01   3.72824303e+02] [  1.13126752e-04  -1.33641115e-01   1.21215894e+03]\n",
      "0.0 [  9.30758131e-04  -3.77499780e-02   1.37944992e+00] [  9.64382938e-04  -2.37346620e-02   4.48498809e+00]\n",
      "This is the average radius of curvature of the anes 1057.24961537\n"
     ]
    },
    {
     "name": "stderr",
     "output_type": "stream",
     "text": [
      "\r",
      " 66%|██████▌   | 828/1261 [09:50<05:07,  1.41it/s]"
     ]
    },
    {
     "name": "stdout",
     "output_type": "stream",
     "text": [
      "899.300479554\n",
      "0.0 [  1.02098368e-04  -2.09731783e-01   3.72503418e+02] [  1.28212127e-04  -1.46521971e-01   1.21285625e+03]\n",
      "0.0 [  8.70368169e-04  -3.72483646e-02   1.37826265e+00] [  1.09298274e-03  -2.60223021e-02   4.48756812e+00]\n",
      "This is the average radius of curvature of the anes 1033.59402465\n"
     ]
    },
    {
     "name": "stderr",
     "output_type": "stream",
     "text": [
      "\r",
      " 66%|██████▌   | 829/1261 [09:51<05:09,  1.40it/s]"
     ]
    },
    {
     "name": "stdout",
     "output_type": "stream",
     "text": [
      "898.562956289\n",
      "0.0 [  1.00235768e-04  -2.09846962e-01   3.72531541e+02] [  1.35445088e-04  -1.52869890e-01   1.21192614e+03]\n",
      "0.0 [  8.54489875e-04  -3.72688204e-02   1.37836670e+00] [  1.15464229e-03  -2.71496925e-02   4.48412671e+00]\n",
      "This is the average radius of curvature of the anes 1019.87740567\n"
     ]
    },
    {
     "name": "stderr",
     "output_type": "stream",
     "text": [
      "\r",
      " 66%|██████▌   | 830/1261 [09:52<05:12,  1.38it/s]"
     ]
    },
    {
     "name": "stdout",
     "output_type": "stream",
     "text": [
      "896.994942911\n",
      "0.0 [  1.00068204e-04  -2.11238764e-01   3.72263734e+02] [  1.37499575e-04  -1.58843792e-01   1.21223613e+03]\n",
      "0.0 [  8.53061429e-04  -3.75160044e-02   1.37737582e+00] [  1.17215638e-03  -2.82106574e-02   4.48527369e+00]\n",
      "This is the average radius of curvature of the anes 1014.43566966\n"
     ]
    },
    {
     "name": "stderr",
     "output_type": "stream",
     "text": [
      "\r",
      " 66%|██████▌   | 831/1261 [09:53<05:09,  1.39it/s]"
     ]
    },
    {
     "name": "stdout",
     "output_type": "stream",
     "text": [
      "895.509099606\n",
      "0.0 [  1.03439859e-04  -2.13553785e-01   3.71540515e+02] [  1.37376298e-04  -1.61824337e-01   1.21231233e+03]\n",
      "0.0 [  8.81804110e-04  -3.79271522e-02   1.37469991e+00] [  1.17110547e-03  -2.87400022e-02   4.48555561e+00]\n",
      "This is the average radius of curvature of the anes 995.71937385\n"
     ]
    },
    {
     "name": "stderr",
     "output_type": "stream",
     "text": [
      "\r",
      " 66%|██████▌   | 832/1261 [09:53<05:05,  1.41it/s]"
     ]
    },
    {
     "name": "stdout",
     "output_type": "stream",
     "text": [
      "894.053632248\n",
      "0.0 [  1.11336084e-04  -2.17174099e-01   3.69729337e+02] [  1.47953392e-04  -1.74845892e-01   1.21441927e+03]\n",
      "0.0 [  9.49117851e-04  -3.85701200e-02   1.36799855e+00] [  1.26127308e-03  -3.10526303e-02   4.49335129e+00]\n",
      "This is the average radius of curvature of the anes 924.97934618\n"
     ]
    },
    {
     "name": "stderr",
     "output_type": "stream",
     "text": [
      "\r",
      " 66%|██████▌   | 833/1261 [09:54<05:10,  1.38it/s]"
     ]
    },
    {
     "name": "stdout",
     "output_type": "stream",
     "text": [
      "893.392558578\n",
      "0.0 [  1.13268597e-04  -2.17101301e-01   3.67808814e+02] [  1.81587063e-04  -2.10487049e-01   1.22112774e+03]\n",
      "0.0 [  9.65592134e-04  -3.85571911e-02   1.36089261e+00] [  1.54799340e-03  -3.73825000e-02   4.51817265e+00]\n",
      "This is the average radius of curvature of the anes 842.648223902\n"
     ]
    },
    {
     "name": "stderr",
     "output_type": "stream",
     "text": [
      "\r",
      " 66%|██████▌   | 834/1261 [09:55<05:07,  1.39it/s]"
     ]
    },
    {
     "name": "stdout",
     "output_type": "stream",
     "text": [
      "894.150703983\n",
      "0.0 [  1.07784984e-04  -2.07143791e-01   3.61356896e+02] [  2.06060809e-04  -2.37713812e-01   1.22668268e+03]\n",
      "0.0 [  9.18845433e-04  -3.67887373e-02   1.33702051e+00] [  1.75662719e-03  -4.22179730e-02   4.53872590e+00]\n",
      "This is the average radius of curvature of the anes 830.663950294\n"
     ]
    },
    {
     "name": "stderr",
     "output_type": "stream",
     "text": [
      "\r",
      " 66%|██████▌   | 835/1261 [09:55<05:05,  1.39it/s]"
     ]
    },
    {
     "name": "stdout",
     "output_type": "stream",
     "text": [
      "897.436653283\n",
      "0.0 [  1.01634324e-04  -1.96550297e-01   3.54787321e+02] [  2.24261359e-04  -2.53328712e-01   1.22965426e+03]\n",
      "0.0 [  8.66412281e-04  -3.49073327e-02   1.31271309e+00] [  1.91178323e-03  -4.49911792e-02   4.54972076e+00]\n",
      "This is the average radius of curvature of the anes 840.4780202\n"
     ]
    },
    {
     "name": "stderr",
     "output_type": "stream",
     "text": [
      "\r",
      " 66%|██████▋   | 836/1261 [09:56<05:12,  1.36it/s]"
     ]
    },
    {
     "name": "stdout",
     "output_type": "stream",
     "text": [
      "897.162282196\n",
      "0.0 [  1.01800543e-04  -1.88289098e-01   3.46752343e+02] [  2.21169272e-04  -2.58984003e-01   1.23303528e+03]\n",
      "0.0 [  8.67829268e-04  -3.34401439e-02   1.28298367e+00] [  1.88542381e-03  -4.59955589e-02   4.56223055e+00]\n",
      "This is the average radius of curvature of the anes 843.151245823\n"
     ]
    },
    {
     "name": "stderr",
     "output_type": "stream",
     "text": [
      "\r",
      " 66%|██████▋   | 837/1261 [09:57<05:10,  1.37it/s]"
     ]
    },
    {
     "name": "stdout",
     "output_type": "stream",
     "text": [
      "905.039031933\n",
      "0.0 [  1.02349426e-04  -1.80530147e-01   3.38425316e+02] [  2.31367292e-04  -2.84447034e-01   1.24346435e+03]\n",
      "0.0 [  8.72508384e-04  -3.20621541e-02   1.25217367e+00] [  1.97235989e-03  -5.05177932e-02   4.60081809e+00]\n",
      "This is the average radius of curvature of the anes 828.418746158\n"
     ]
    },
    {
     "name": "stderr",
     "output_type": "stream",
     "text": [
      "\r",
      " 66%|██████▋   | 838/1261 [09:58<05:06,  1.38it/s]"
     ]
    },
    {
     "name": "stdout",
     "output_type": "stream",
     "text": [
      "901.327073021\n",
      "0.0 [  1.09690786e-04  -1.83724231e-01   3.35018059e+02] [  1.66956553e-04  -2.38510984e-01   1.23634513e+03]\n",
      "0.0 [  9.35092014e-04  -3.26294235e-02   1.23956682e+00] [  1.42327122e-03  -4.23595508e-02   4.57447699e+00]\n",
      "This is the average radius of curvature of the anes 887.810244229\n"
     ]
    },
    {
     "name": "stderr",
     "output_type": "stream",
     "text": [
      "\r",
      " 67%|██████▋   | 839/1261 [09:58<05:11,  1.35it/s]"
     ]
    },
    {
     "name": "stdout",
     "output_type": "stream",
     "text": [
      "896.447831275\n",
      "0.0 [  1.16122894e-04  -1.87083478e-01   3.32665413e+02] [  1.22648574e-04  -2.01967048e-01   1.22911324e+03]\n",
      "0.0 [  9.89924444e-04  -3.32260257e-02   1.23086203e+00] [  1.04555456e-03  -3.58693477e-02   4.54771900e+00]\n",
      "This is the average radius of curvature of the anes 985.064019198\n"
     ]
    },
    {
     "name": "stderr",
     "output_type": "stream",
     "text": [
      "\r",
      " 67%|██████▋   | 840/1261 [09:59<05:10,  1.36it/s]"
     ]
    },
    {
     "name": "stdout",
     "output_type": "stream",
     "text": [
      "894.768163918\n",
      "0.0 [  1.20498472e-04  -1.92997697e-01   3.32123034e+02] [  1.22660333e-04  -1.99276643e-01   1.22689120e+03]\n",
      "0.0 [  1.02722538e-03  -3.42763910e-02   1.22885523e+00] [  1.04565480e-03  -3.53915318e-02   4.53949743e+00]\n",
      "This is the average radius of curvature of the anes 966.674112567\n"
     ]
    },
    {
     "name": "stderr",
     "output_type": "stream",
     "text": [
      "\r",
      " 67%|██████▋   | 841/1261 [10:00<05:08,  1.36it/s]"
     ]
    },
    {
     "name": "stdout",
     "output_type": "stream",
     "text": [
      "896.831554819\n",
      "0.0 [  1.27822419e-04  -1.97683366e-01   3.29338347e+02] [  1.21351741e-04  -1.97652532e-01   1.22616987e+03]\n",
      "0.0 [  1.08966056e-03  -3.51085658e-02   1.21855189e+00] [  1.03449932e-03  -3.51030896e-02   4.53682851e+00]\n",
      "This is the average radius of curvature of the anes 943.926362518\n"
     ]
    },
    {
     "name": "stderr",
     "output_type": "stream",
     "text": [
      "\r",
      " 67%|██████▋   | 842/1261 [10:01<05:15,  1.33it/s]"
     ]
    },
    {
     "name": "stdout",
     "output_type": "stream",
     "text": [
      "902.808647075\n",
      "0.0 [  1.49619801e-04  -2.10315042e-01   3.25040316e+02] [  1.26255360e-04  -2.00643057e-01   1.22684801e+03]\n",
      "0.0 [ 0.00127548 -0.03735195  1.20264917] [  1.07630169e-03  -3.56342069e-02   4.53933762e+00]\n",
      "This is the average radius of curvature of the anes 858.269169822\n"
     ]
    },
    {
     "name": "stderr",
     "output_type": "stream",
     "text": [
      "\r",
      " 67%|██████▋   | 843/1261 [10:01<05:12,  1.34it/s]"
     ]
    },
    {
     "name": "stdout",
     "output_type": "stream",
     "text": [
      "907.339315824\n",
      "0.0 [  1.66784819e-04  -2.22815190e-01   3.22743769e+02] [  1.17809845e-04  -1.94874738e-01   1.22609805e+03]\n",
      "0.0 [ 0.00142181 -0.03957198  1.19415194] [  1.00430537e-03  -3.46097534e-02   4.53656278e+00]\n",
      "This is the average radius of curvature of the anes 851.242804475\n"
     ]
    },
    {
     "name": "stderr",
     "output_type": "stream",
     "text": [
      "\r",
      " 67%|██████▋   | 844/1261 [10:02<05:09,  1.35it/s]"
     ]
    },
    {
     "name": "stdout",
     "output_type": "stream",
     "text": [
      "912.483490606\n",
      "0.0 [  1.77082898e-04  -2.28161758e-01   3.18124178e+02] [  1.28832022e-04  -2.04740409e-01   1.22776545e+03]\n",
      "0.0 [ 0.0015096  -0.04052153  1.17705946] [  1.09826722e-03  -3.63618966e-02   4.54273215e+00]\n",
      "This is the average radius of curvature of the anes 788.196316485\n"
     ]
    },
    {
     "name": "stderr",
     "output_type": "stream",
     "text": [
      "\r",
      " 67%|██████▋   | 845/1261 [10:03<05:09,  1.35it/s]"
     ]
    },
    {
     "name": "stdout",
     "output_type": "stream",
     "text": [
      "915.783383178\n",
      "0.0 [  1.76140256e-04  -2.28575234e-01   3.15050371e+02] [  1.17059166e-04  -1.97488187e-01   1.22674444e+03]\n",
      "0.0 [ 0.00150156 -0.04059496  1.16568637] [  9.97905981e-04  -3.50739021e-02   4.53895443e+00]\n",
      "This is the average radius of curvature of the anes 835.784445917\n"
     ]
    },
    {
     "name": "stderr",
     "output_type": "stream",
     "text": [
      "\r",
      " 67%|██████▋   | 846/1261 [10:04<05:07,  1.35it/s]"
     ]
    },
    {
     "name": "stdout",
     "output_type": "stream",
     "text": [
      "915.081965783\n",
      "0.0 [  1.69278719e-04  -2.27505705e-01   3.14929472e+02] [  1.12856238e-04  -1.95009518e-01   1.22533244e+03]\n",
      "0.0 [ 0.00144307 -0.04040501  1.16523905] [  9.62076855e-04  -3.46336904e-02   4.53373004e+00]\n",
      "This is the average radius of curvature of the anes 867.977398056\n"
     ]
    },
    {
     "name": "stderr",
     "output_type": "stream",
     "text": [
      "\r",
      " 67%|██████▋   | 847/1261 [10:04<05:05,  1.35it/s]"
     ]
    },
    {
     "name": "stdout",
     "output_type": "stream",
     "text": [
      "916.211835338\n",
      "0.0 [  1.65248829e-04  -2.29143236e-01   3.15015822e+02] [  1.06605658e-04  -2.01621916e-01   1.22799872e+03]\n",
      "0.0 [ 0.00140871 -0.04069584  1.16555854] [  9.08791911e-04  -3.58080523e-02   4.54359525e+00]\n",
      "This is the average radius of curvature of the anes 907.055416493\n"
     ]
    },
    {
     "name": "stderr",
     "output_type": "stream",
     "text": [
      "\r",
      " 67%|██████▋   | 848/1261 [10:05<05:06,  1.35it/s]"
     ]
    },
    {
     "name": "stdout",
     "output_type": "stream",
     "text": [
      "919.09786479\n",
      "0.0 [  1.72469141e-04  -2.38967685e-01   3.14967825e+02] [  8.26401840e-05  -1.91610837e-01   1.22782420e+03]\n",
      "0.0 [ 0.00147026 -0.04244066  1.16538095] [  7.04491041e-04  -3.40300847e-02   4.54294955e+00]\n",
      "This is the average radius of curvature of the anes 1051.95944167\n"
     ]
    },
    {
     "name": "stderr",
     "output_type": "stream",
     "text": [
      "\r",
      " 67%|██████▋   | 849/1261 [10:06<05:02,  1.36it/s]"
     ]
    },
    {
     "name": "stdout",
     "output_type": "stream",
     "text": [
      "921.610787157\n",
      "0.0 [  1.72874876e-04  -2.43991591e-01   3.15254368e+02] [  6.72736472e-05  -1.82818304e-01   1.22800597e+03]\n",
      "0.0 [ 0.00147372 -0.04333291  1.16644116] [  5.73494387e-04  -3.24685307e-02   4.54362207e+00]\n",
      "This is the average radius of curvature of the anes 1213.45980888\n"
     ]
    },
    {
     "name": "stderr",
     "output_type": "stream",
     "text": [
      "\r",
      " 67%|██████▋   | 850/1261 [10:07<05:00,  1.37it/s]"
     ]
    },
    {
     "name": "stdout",
     "output_type": "stream",
     "text": [
      "924.306822052\n",
      "0.0 [  1.67425087e-04  -2.43987746e-01   3.15308302e+02] [  8.06126749e-05  -1.99583480e-01   1.23393697e+03]\n",
      "0.0 [ 0.00142727 -0.04333222  1.16664072] [  6.87206931e-04  -3.54460260e-02   4.56556679e+00]\n",
      "This is the average radius of curvature of the anes 1080.26196205\n"
     ]
    },
    {
     "name": "stderr",
     "output_type": "stream",
     "text": [
      "\r",
      " 67%|██████▋   | 851/1261 [10:07<05:05,  1.34it/s]"
     ]
    },
    {
     "name": "stdout",
     "output_type": "stream",
     "text": [
      "926.096699323\n",
      "0.0 [  1.59946075e-04  -2.40977664e-01   3.15123821e+02] [  6.83768762e-05  -1.93472559e-01   1.23505925e+03]\n",
      "0.0 [ 0.00136351 -0.04279763  1.16595814] [  5.82899195e-04  -3.43607264e-02   4.56971923e+00]\n",
      "This is the average radius of curvature of the anes 1227.00988116\n"
     ]
    },
    {
     "name": "stderr",
     "output_type": "stream",
     "text": [
      "\r",
      " 68%|██████▊   | 852/1261 [10:08<05:04,  1.34it/s]"
     ]
    },
    {
     "name": "stdout",
     "output_type": "stream",
     "text": [
      "928.541338724\n",
      "0.0 [  1.50022204e-04  -2.36784564e-01   3.14833642e+02] [  7.61657548e-05  -1.98482117e-01   1.23840901e+03]\n",
      "0.0 [ 0.00127891 -0.04205294  1.16488448] [  6.49297827e-04  -3.52504240e-02   4.58211334e+00]\n",
      "This is the average radius of curvature of the anes 1163.49408602\n"
     ]
    },
    {
     "name": "stderr",
     "output_type": "stream",
     "text": [
      "\r",
      " 68%|██████▊   | 853/1261 [10:09<05:11,  1.31it/s]"
     ]
    },
    {
     "name": "stdout",
     "output_type": "stream",
     "text": [
      "929.186289885\n",
      "0.0 [  1.42218201e-04  -2.33054309e-01   3.14604625e+02] [  8.42389418e-05  -2.02081681e-01   1.23965451e+03]\n",
      "0.0 [ 0.00121238 -0.04139045  1.16403711] [  7.18120131e-04  -3.58897065e-02   4.58672167e+00]\n",
      "This is the average radius of curvature of the anes 1111.07963539\n"
     ]
    },
    {
     "name": "stderr",
     "output_type": "stream",
     "text": [
      "\r",
      " 68%|██████▊   | 854/1261 [10:10<05:09,  1.31it/s]"
     ]
    },
    {
     "name": "stdout",
     "output_type": "stream",
     "text": [
      "931.446003466\n",
      "0.0 [  1.33781922e-04  -2.28796186e-01   3.14258114e+02] [  9.87344117e-05  -2.13065613e-01   1.24393901e+03]\n",
      "0.0 [  1.14046413e-03  -4.06342027e-02   1.16275502e+00] [  8.41691113e-04  -3.78404528e-02   4.60257435e+00]\n",
      "This is the average radius of curvature of the anes 1034.82280017\n"
     ]
    },
    {
     "name": "stderr",
     "output_type": "stream",
     "text": [
      "\r",
      " 68%|██████▊   | 855/1261 [10:10<05:09,  1.31it/s]"
     ]
    },
    {
     "name": "stdout",
     "output_type": "stream",
     "text": [
      "934.093199864\n",
      "0.0 [  1.25563825e-04  -2.24788449e-01   3.13947510e+02] [  1.05997939e-04  -2.19567718e-01   1.24769245e+03]\n",
      "0.0 [  1.07040650e-03  -3.99224285e-02   1.16160579e+00] [  9.03611231e-04  -3.89952267e-02   4.61646208e+00]\n",
      "This is the average radius of curvature of the anes 1022.82734648\n"
     ]
    },
    {
     "name": "stderr",
     "output_type": "stream",
     "text": [
      "\r",
      " 68%|██████▊   | 856/1261 [10:11<05:02,  1.34it/s]"
     ]
    },
    {
     "name": "stdout",
     "output_type": "stream",
     "text": [
      "934.789035454\n",
      "0.0 [  1.24483870e-04  -2.24449405e-01   3.14029371e+02] [  1.01661165e-04  -2.15593142e-01   1.24795925e+03]\n",
      "0.0 [  1.06120009e-03  -3.98622144e-02   1.16190867e+00] [  8.66641103e-04  -3.82893420e-02   4.61744921e+00]\n",
      "This is the average radius of curvature of the anes 1050.49745662\n"
     ]
    },
    {
     "name": "stderr",
     "output_type": "stream",
     "text": [
      "\r",
      " 68%|██████▊   | 857/1261 [10:12<05:01,  1.34it/s]"
     ]
    },
    {
     "name": "stdout",
     "output_type": "stream",
     "text": [
      "935.13534945\n",
      "0.0 [  1.24375179e-04  -2.24586475e-01   3.14066431e+02] [  9.25061533e-05  -2.06821798e-01   1.24672615e+03]\n",
      "0.0 [  1.06027352e-03  -3.98865580e-02   1.16204579e+00] [  7.88596456e-04  -3.67315514e-02   4.61288676e+00]\n",
      "This is the average radius of curvature of the anes 1108.02370055\n"
     ]
    },
    {
     "name": "stderr",
     "output_type": "stream",
     "text": [
      "\r",
      " 68%|██████▊   | 858/1261 [10:13<04:54,  1.37it/s]"
     ]
    },
    {
     "name": "stdout",
     "output_type": "stream",
     "text": [
      "934.45266878\n",
      "0.0 [  1.23857104e-04  -2.24807555e-01   3.14322409e+02] [  9.79814675e-05  -2.13441290e-01   1.24752688e+03]\n",
      "0.0 [  1.05585704e-03  -3.99258218e-02   1.16299291e+00] [  8.35272415e-04  -3.79071731e-02   4.61584946e+00]\n",
      "This is the average radius of curvature of the anes 1074.57953643\n"
     ]
    },
    {
     "name": "stderr",
     "output_type": "stream",
     "text": [
      "\r",
      " 68%|██████▊   | 859/1261 [10:13<04:54,  1.37it/s]"
     ]
    },
    {
     "name": "stdout",
     "output_type": "stream",
     "text": [
      "933.228354379\n",
      "0.0 [  1.25886314e-04  -2.26685129e-01   3.14990902e+02] [  8.25443840e-05  -2.10549185e-01   1.24671743e+03]\n",
      "0.0 [  1.07315565e-03  -4.02592789e-02   1.16546634e+00] [  7.03674365e-04  -3.73935352e-02   4.61285449e+00]\n",
      "This is the average radius of curvature of the anes 1179.09563027\n"
     ]
    },
    {
     "name": "stderr",
     "output_type": "stream",
     "text": [
      "\r",
      " 68%|██████▊   | 860/1261 [10:14<04:45,  1.40it/s]"
     ]
    },
    {
     "name": "stdout",
     "output_type": "stream",
     "text": [
      "930.959380687\n",
      "0.0 [  1.21737072e-04  -2.24389881e-01   3.14983127e+02] [  7.71598021e-05  -2.04216684e-01   1.24366019e+03]\n",
      "0.0 [  1.03778419e-03  -3.98516428e-02   1.16543757e+00] [  6.57771881e-04  -3.62688831e-02   4.60154272e+00]\n",
      "This is the average radius of curvature of the anes 1244.58625709\n"
     ]
    },
    {
     "name": "stderr",
     "output_type": "stream",
     "text": [
      "\r",
      " 68%|██████▊   | 861/1261 [10:15<04:48,  1.38it/s]"
     ]
    },
    {
     "name": "stdout",
     "output_type": "stream",
     "text": [
      "928.187565305\n",
      "0.0 [  1.24163080e-04  -2.25681888e-01   3.15391238e+02] [  8.41227134e-05  -2.03219843e-01   1.24042860e+03]\n",
      "0.0 [  1.05846542e-03  -4.00811033e-02   1.16694758e+00] [  7.17129307e-04  -3.60918442e-02   4.58958580e+00]\n",
      "This is the average radius of curvature of the anes 1172.10786484\n"
     ]
    },
    {
     "name": "stderr",
     "output_type": "stream",
     "text": [
      "\r",
      " 68%|██████▊   | 862/1261 [10:15<04:46,  1.39it/s]"
     ]
    },
    {
     "name": "stdout",
     "output_type": "stream",
     "text": [
      "927.535994755\n",
      "0.0 [  1.26083739e-04  -2.25768245e-01   3.15349268e+02] [  7.97722427e-05  -1.96317971e-01   1.23820328e+03]\n",
      "0.0 [  1.07483866e-03  -4.00964403e-02   1.16679229e+00] [  6.80042414e-04  -3.48660717e-02   4.58135213e+00]\n",
      "This is the average radius of curvature of the anes 1202.89774744\n"
     ]
    },
    {
     "name": "stderr",
     "output_type": "stream",
     "text": [
      "\r",
      " 68%|██████▊   | 863/1261 [10:16<04:53,  1.36it/s]"
     ]
    },
    {
     "name": "stdout",
     "output_type": "stream",
     "text": [
      "928.081657735\n",
      "0.0 [  1.25848871e-04  -2.25104105e-01   3.15265605e+02] [  6.90932418e-05  -1.90716435e-01   1.23813848e+03]\n",
      "0.0 [  1.07283646e-03  -3.99784890e-02   1.16648274e+00] [  5.89006068e-04  -3.38712388e-02   4.58111236e+00]\n",
      "This is the average radius of curvature of the anes 1317.52098396\n"
     ]
    },
    {
     "name": "stderr",
     "output_type": "stream",
     "text": [
      "\r",
      " 69%|██████▊   | 864/1261 [10:17<04:47,  1.38it/s]"
     ]
    },
    {
     "name": "stdout",
     "output_type": "stream",
     "text": [
      "928.326511796\n",
      "0.0 [  1.29833207e-04  -2.26927212e-01   3.15397185e+02] [  9.16553520e-05  -2.02902827e-01   1.23994421e+03]\n",
      "0.0 [  1.10680212e-03  -4.03022729e-02   1.16696958e+00] [  7.81343545e-04  -3.60355420e-02   4.58779359e+00]\n",
      "This is the average radius of curvature of the anes 1094.02328496\n"
     ]
    },
    {
     "name": "stderr",
     "output_type": "stream",
     "text": [
      "\r",
      " 69%|██████▊   | 865/1261 [10:18<04:51,  1.36it/s]"
     ]
    },
    {
     "name": "stdout",
     "output_type": "stream",
     "text": [
      "931.138624663\n",
      "0.0 [  1.36551985e-04  -2.30633179e-01   3.15043915e+02] [  1.13480744e-04  -2.19317686e-01   1.24479509e+03]\n",
      "0.0 [  1.16407836e-03  -4.09604525e-02   1.16566248e+00] [  9.67400645e-04  -3.89508210e-02   4.60574185e+00]\n",
      "This is the average radius of curvature of the anes 948.631365042\n"
     ]
    },
    {
     "name": "stderr",
     "output_type": "stream",
     "text": [
      "\r",
      " 69%|██████▊   | 866/1261 [10:18<04:48,  1.37it/s]"
     ]
    },
    {
     "name": "stdout",
     "output_type": "stream",
     "text": [
      "931.620271398\n",
      "0.0 [  1.40886034e-04  -2.32662980e-01   3.15182900e+02] [  1.30198766e-04  -2.32448939e-01   1.24680210e+03]\n",
      "0.0 [ 0.00120103 -0.04132095  1.16617673] [  1.10991844e-03  -4.12829316e-02   4.61316777e+00]\n",
      "This is the average radius of curvature of the anes 869.013324796\n"
     ]
    },
    {
     "name": "stderr",
     "output_type": "stream",
     "text": [
      "\r",
      " 69%|██████▉   | 867/1261 [10:19<04:52,  1.35it/s]"
     ]
    },
    {
     "name": "stdout",
     "output_type": "stream",
     "text": [
      "938.663112115\n",
      "0.0 [  1.43790984e-04  -2.33200366e-01   3.14238130e+02] [  1.58824249e-04  -2.57899910e-01   1.25290124e+03]\n",
      "0.0 [ 0.00122579 -0.04141638  1.16268108] [  1.35394496e-03  -4.58030241e-02   4.63573460e+00]\n",
      "This is the average radius of curvature of the anes 779.404338658\n"
     ]
    },
    {
     "name": "stderr",
     "output_type": "stream",
     "text": [
      "\r",
      " 69%|██████▉   | 868/1261 [10:20<04:47,  1.37it/s]"
     ]
    },
    {
     "name": "stdout",
     "output_type": "stream",
     "text": [
      "943.772534983\n",
      "0.0 [  1.34621646e-04  -2.25125139e-01   3.12604161e+02] [  1.68946070e-04  -2.72114756e-01   1.25637670e+03]\n",
      "0.0 [  1.14762261e-03  -3.99822247e-02   1.15663540e+00] [  1.44023146e-03  -4.83275807e-02   4.64859378e+00]\n",
      "This is the average radius of curvature of the anes 785.111792902\n"
     ]
    },
    {
     "name": "stderr",
     "output_type": "stream",
     "text": [
      "\r",
      " 69%|██████▉   | 869/1261 [10:21<04:48,  1.36it/s]"
     ]
    },
    {
     "name": "stdout",
     "output_type": "stream",
     "text": [
      "946.220681413\n",
      "0.0 [  1.38995051e-04  -2.26534331e-01   3.12488580e+02] [  1.77869019e-04  -2.83689987e-01   1.25870926e+03]\n",
      "0.0 [ 0.00118491 -0.0402325   1.15620774] [  1.51629781e-03  -5.03833418e-02   4.65722427e+00]\n",
      "This is the average radius of curvature of the anes 754.006633084\n"
     ]
    },
    {
     "name": "stderr",
     "output_type": "stream",
     "text": [
      "\r",
      " 69%|██████▉   | 870/1261 [10:21<04:41,  1.39it/s]"
     ]
    },
    {
     "name": "stdout",
     "output_type": "stream",
     "text": [
      "947.101258504\n",
      "0.0 [  1.38200895e-04  -2.25629225e-01   3.12233574e+02] [  1.71587132e-04  -2.80671169e-01   1.25933483e+03]\n",
      "0.0 [ 0.00117813 -0.04007175  1.15526422] [  1.46274599e-03  -4.98471997e-02   4.65953888e+00]\n",
      "This is the average radius of curvature of the anes 768.519865032\n"
     ]
    },
    {
     "name": "stderr",
     "output_type": "stream",
     "text": [
      "\r",
      " 69%|██████▉   | 871/1261 [10:22<04:41,  1.39it/s]"
     ]
    },
    {
     "name": "stdout",
     "output_type": "stream",
     "text": [
      "949.101243051\n",
      "0.0 [  1.42206982e-04  -2.27643831e-01   3.12356214e+02] [  1.57081409e-04  -2.81213150e-01   1.26145746e+03]\n",
      "0.0 [ 0.00121229 -0.04042954  1.15571799] [  1.33908760e-03  -4.99434555e-02   4.66739259e+00]\n",
      "This is the average radius of curvature of the anes 788.242034639\n"
     ]
    },
    {
     "name": "stderr",
     "output_type": "stream",
     "text": [
      "\r",
      " 69%|██████▉   | 872/1261 [10:23<04:35,  1.41it/s]"
     ]
    },
    {
     "name": "stdout",
     "output_type": "stream",
     "text": [
      "953.032317722\n",
      "0.0 [  1.34718565e-04  -2.23673160e-01   3.11713329e+02] [  1.31424924e-04  -2.71950628e-01   1.26474565e+03]\n",
      "0.0 [  1.14844882e-03  -3.97243532e-02   1.15333932e+00] [  1.12037120e-03  -4.82984315e-02   4.67955889e+00]\n",
      "This is the average radius of curvature of the anes 884.243957289\n"
     ]
    },
    {
     "name": "stderr",
     "output_type": "stream",
     "text": [
      "\r",
      " 69%|██████▉   | 873/1261 [10:23<04:38,  1.39it/s]"
     ]
    },
    {
     "name": "stdout",
     "output_type": "stream",
     "text": [
      "959.987706022\n",
      "0.0 [  1.28874869e-04  -2.20532085e-01   3.11223883e+02] [  1.38485316e-04  -2.85794630e-01   1.27121159e+03]\n",
      "0.0 [  1.09863248e-03  -3.91664983e-02   1.15152837e+00] [  1.18055963e-03  -5.07571262e-02   4.70348288e+00]\n",
      "This is the average radius of curvature of the anes 881.32456992\n"
     ]
    },
    {
     "name": "stderr",
     "output_type": "stream",
     "text": [
      "\r",
      " 69%|██████▉   | 874/1261 [10:24<04:34,  1.41it/s]"
     ]
    },
    {
     "name": "stdout",
     "output_type": "stream",
     "text": [
      "958.624630748\n",
      "0.0 [  1.19788826e-04  -2.14889634e-01   3.10128939e+02] [  1.00463501e-04  -2.55384995e-01   1.26875357e+03]\n",
      "0.0 [  1.02117578e-03  -3.81643989e-02   1.14747707e+00] [  8.56431254e-04  -4.53563751e-02   4.69438821e+00]\n",
      "This is the average radius of curvature of the anes 1076.32228821\n"
     ]
    },
    {
     "name": "stderr",
     "output_type": "stream",
     "text": [
      "\r",
      " 69%|██████▉   | 875/1261 [10:25<04:37,  1.39it/s]"
     ]
    },
    {
     "name": "stdout",
     "output_type": "stream",
     "text": [
      "958.646431517\n",
      "0.0 [  1.15005743e-04  -2.11017962e-01   3.09188671e+02] [  8.35974244e-05  -2.42295969e-01   1.26783510e+03]\n",
      "0.0 [  9.80400957e-04  -3.74767900e-02   1.14399808e+00] [  7.12651324e-04  -4.30317640e-02   4.69098988e+00]\n",
      "This is the average radius of curvature of the anes 1214.62529632\n"
     ]
    },
    {
     "name": "stderr",
     "output_type": "stream",
     "text": [
      "\r",
      " 69%|██████▉   | 876/1261 [10:25<04:34,  1.40it/s]"
     ]
    },
    {
     "name": "stdout",
     "output_type": "stream",
     "text": [
      "957.231146431\n",
      "0.0 [  1.19923448e-04  -2.13507643e-01   3.09375254e+02] [  7.24199893e-05  -2.32120528e-01   1.26660640e+03]\n",
      "0.0 [  1.02232341e-03  -3.79189574e-02   1.14468844e+00] [  6.17365925e-04  -4.12246057e-02   4.68644368e+00]\n",
      "This is the average radius of curvature of the anes 1302.09514283\n"
     ]
    },
    {
     "name": "stderr",
     "output_type": "stream",
     "text": [
      "\r",
      " 70%|██████▉   | 877/1261 [10:26<04:37,  1.38it/s]"
     ]
    },
    {
     "name": "stdout",
     "output_type": "stream",
     "text": [
      "958.805671943\n",
      "0.0 [  1.24430678e-04  -2.15865025e-01   3.09464676e+02] [  7.74722897e-05  -2.33168269e-01   1.26827035e+03]\n",
      "0.0 [  1.06074664e-03  -3.83376284e-02   1.14501930e+00] [  6.60435775e-04  -4.14106846e-02   4.69260029e+00]\n",
      "This is the average radius of curvature of the anes 1231.42979813\n"
     ]
    },
    {
     "name": "stderr",
     "output_type": "stream",
     "text": [
      "\r",
      " 70%|██████▉   | 878/1261 [10:27<04:42,  1.36it/s]"
     ]
    },
    {
     "name": "stdout",
     "output_type": "stream",
     "text": [
      "962.955979616\n",
      "0.0 [  1.28031385e-04  -2.17669882e-01   3.09377452e+02] [  9.81825372e-05  -2.47967331e-01   1.27233343e+03]\n",
      "0.0 [  1.09144195e-03  -3.86581711e-02   1.14469657e+00] [  8.36986493e-04  -4.40389979e-02   4.70763370e+00]\n",
      "This is the average radius of curvature of the anes 1058.25680397\n"
     ]
    },
    {
     "name": "stderr",
     "output_type": "stream",
     "text": [
      "\r",
      " 70%|██████▉   | 879/1261 [10:28<04:42,  1.35it/s]"
     ]
    },
    {
     "name": "stdout",
     "output_type": "stream",
     "text": [
      "963.452689918\n",
      "0.0 [  1.35383532e-04  -2.21472782e-01   3.09659439e+02] [  1.12288445e-04  -2.55666855e-01   1.27311213e+03]\n",
      "0.0 [ 0.00115412 -0.03933357  1.14573993] [  9.57236536e-04  -4.54064335e-02   4.71051488e+00]\n",
      "This is the average radius of curvature of the anes 958.190382279\n"
     ]
    },
    {
     "name": "stderr",
     "output_type": "stream",
     "text": [
      "\r",
      " 70%|██████▉   | 880/1261 [10:29<04:46,  1.33it/s]"
     ]
    },
    {
     "name": "stdout",
     "output_type": "stream",
     "text": [
      "963.838164225\n",
      "0.0 [  1.40626872e-04  -2.24096789e-01   3.09799966e+02] [  1.21318789e-04  -2.60819631e-01   1.27363813e+03]\n",
      "0.0 [ 0.00119882 -0.03979959  1.14625987] [  1.03421841e-03  -4.63215664e-02   4.71246108e+00]\n",
      "This is the average radius of curvature of the anes 903.083299712\n"
     ]
    },
    {
     "name": "stderr",
     "output_type": "stream",
     "text": [
      "\r",
      " 70%|██████▉   | 881/1261 [10:29<04:43,  1.34it/s]"
     ]
    },
    {
     "name": "stdout",
     "output_type": "stream",
     "text": [
      "964.042527695\n",
      "0.0 [  1.44849534e-04  -2.26358914e-01   3.09982159e+02] [  1.27364581e-04  -2.64658591e-01   1.27402469e+03]\n",
      "0.0 [ 0.00123481 -0.04020134  1.14693399] [  1.08575758e-03  -4.70033657e-02   4.71389134e+00]\n",
      "This is the average radius of curvature of the anes 867.936427711\n"
     ]
    },
    {
     "name": "stderr",
     "output_type": "stream",
     "text": [
      "\r",
      " 70%|██████▉   | 882/1261 [10:30<04:47,  1.32it/s]"
     ]
    },
    {
     "name": "stdout",
     "output_type": "stream",
     "text": [
      "963.991949501\n",
      "0.0 [  1.38470882e-04  -2.23263338e-01   3.09548772e+02] [  1.07463280e-04  -2.52024823e-01   1.27354072e+03]\n",
      "0.0 [ 0.00118044 -0.03965157  1.14533046] [  9.16102970e-04  -4.47596086e-02   4.71210067e+00]\n",
      "This is the average radius of curvature of the anes 972.002602103\n"
     ]
    },
    {
     "name": "stderr",
     "output_type": "stream",
     "text": [
      "\r",
      " 70%|███████   | 883/1261 [10:31<04:38,  1.36it/s]"
     ]
    },
    {
     "name": "stdout",
     "output_type": "stream",
     "text": [
      "964.489352448\n",
      "0.0 [  1.33743470e-04  -2.21312834e-01   3.09395806e+02] [  7.99956619e-05  -2.43698914e-01   1.27388516e+03]\n",
      "0.0 [  1.14013634e-03  -3.93051593e-02   1.14476448e+00] [  6.81947018e-04  -4.32809272e-02   4.71337509e+00]\n",
      "This is the average radius of curvature of the anes 1174.8166201\n"
     ]
    },
    {
     "name": "stderr",
     "output_type": "stream",
     "text": [
      "\r",
      " 70%|███████   | 884/1261 [10:31<04:38,  1.35it/s]"
     ]
    },
    {
     "name": "stdout",
     "output_type": "stream",
     "text": [
      "965.572517116\n",
      "0.0 [  1.32164743e-04  -2.20549355e-01   3.09334221e+02] [  7.78593163e-05  -2.45925388e-01   1.27490674e+03]\n",
      "0.0 [  1.12667800e-03  -3.91695654e-02   1.14453662e+00] [  6.63735099e-04  -4.36763489e-02   4.71715493e+00]\n",
      "This is the average radius of curvature of the anes 1200.27338519\n"
     ]
    },
    {
     "name": "stderr",
     "output_type": "stream",
     "text": [
      "\r",
      " 70%|███████   | 885/1261 [10:32<04:35,  1.36it/s]"
     ]
    },
    {
     "name": "stdout",
     "output_type": "stream",
     "text": [
      "969.115808569\n",
      "0.0 [  1.32728874e-04  -2.21824346e-01   3.09704549e+02] [  1.04862946e-04  -2.67593081e-01   1.27882036e+03]\n",
      "0.0 [  1.13148710e-03  -3.93960039e-02   1.14590683e+00] [  8.93935643e-04  -4.75245311e-02   4.73163532e+00]\n",
      "This is the average radius of curvature of the anes 1004.1458655\n"
     ]
    },
    {
     "name": "stderr",
     "output_type": "stream",
     "text": [
      "\r",
      " 70%|███████   | 886/1261 [10:33<04:28,  1.40it/s]"
     ]
    },
    {
     "name": "stdout",
     "output_type": "stream",
     "text": [
      "951.754613074\n",
      "0.0 [  1.47649984e-04  -2.34687694e-01   3.12491259e+02] [  6.73021105e-05  -2.21281119e-01   1.26368664e+03]\n",
      "0.0 [ 0.00125869 -0.04168053  1.15621766] [  5.73737032e-04  -3.92995266e-02   4.67564058e+00]\n",
      "This is the average radius of curvature of the anes 1271.77420192\n"
     ]
    },
    {
     "name": "stderr",
     "output_type": "stream",
     "text": [
      "\r",
      " 70%|███████   | 887/1261 [10:34<04:31,  1.38it/s]"
     ]
    },
    {
     "name": "stdout",
     "output_type": "stream",
     "text": [
      "948.23847057\n",
      "0.0 [  1.65723644e-04  -2.50208940e-01   3.15600546e+02] [  3.52107812e-05  -1.91756658e-01   1.25729432e+03]\n",
      "0.0 [ 0.00141276 -0.04443711  1.16772202] [  3.00164868e-04  -3.40559825e-02   4.65198898e+00]\n",
      "This is the average radius of curvature of the anes 2023.61574811\n"
     ]
    },
    {
     "name": "stderr",
     "output_type": "stream",
     "text": [
      "\r",
      " 70%|███████   | 888/1261 [10:34<04:29,  1.38it/s]"
     ]
    },
    {
     "name": "stdout",
     "output_type": "stream",
     "text": [
      "943.380010469\n",
      "0.0 [  1.70600746e-04  -2.56523929e-01   3.17989889e+02] [  4.09831103e-05  -1.83929647e-01   1.25120552e+03]\n",
      "0.0 [ 0.00145434 -0.04555865  1.17656259] [  3.49372818e-04  -3.26659054e-02   4.62946044e+00]\n",
      "This is the average radius of curvature of the anes 1778.29737336\n"
     ]
    },
    {
     "name": "stderr",
     "output_type": "stream",
     "text": [
      "\r",
      " 70%|███████   | 889/1261 [10:35<04:28,  1.39it/s]"
     ]
    },
    {
     "name": "stdout",
     "output_type": "stream",
     "text": [
      "938.59683934\n",
      "0.0 [  1.75305724e-04  -2.62885742e-01   3.21263792e+02] [  5.01835861e-05  -1.78227458e-01   1.24554059e+03]\n",
      "0.0 [ 0.00149445 -0.04668851  1.18867603] [  4.27805035e-04  -3.16531965e-02   4.60850016e+00]\n",
      "This is the average radius of curvature of the anes 1506.18029284\n"
     ]
    },
    {
     "name": "stderr",
     "output_type": "stream",
     "text": [
      "\r",
      " 71%|███████   | 890/1261 [10:36<04:34,  1.35it/s]"
     ]
    },
    {
     "name": "stdout",
     "output_type": "stream",
     "text": [
      "937.652385675\n",
      "0.0 [  1.77464114e-04  -2.66538289e-01   3.22720569e+02] [  6.86467267e-05  -1.84005291e-01   1.24472359e+03]\n",
      "0.0 [ 0.00151285 -0.0473372   1.19406611] [  5.85199616e-04  -3.26793396e-02   4.60547727e+00]\n",
      "This is the average radius of curvature of the anes 1187.39276354\n"
     ]
    },
    {
     "name": "stderr",
     "output_type": "stream",
     "text": [
      "\r",
      " 71%|███████   | 891/1261 [10:37<04:32,  1.36it/s]"
     ]
    },
    {
     "name": "stdout",
     "output_type": "stream",
     "text": [
      "937.496021412\n",
      "0.0 [  1.75582668e-04  -2.65501896e-01   3.22801578e+02] [  8.71831055e-05  -1.93506545e-01   1.24563879e+03]\n",
      "0.0 [ 0.00149681 -0.04715314  1.19436584] [  7.43218537e-04  -3.43667624e-02   4.60886352e+00]\n",
      "This is the average radius of curvature of the anes 1009.10091208\n"
     ]
    },
    {
     "name": "stderr",
     "output_type": "stream",
     "text": [
      "\r",
      " 71%|███████   | 892/1261 [10:37<04:33,  1.35it/s]"
     ]
    },
    {
     "name": "stdout",
     "output_type": "stream",
     "text": [
      "936.801271666\n",
      "0.0 [  1.72040282e-04  -2.63095218e-01   3.22591915e+02] [  1.29171937e-04  -2.27652444e-01   1.25206733e+03]\n",
      "0.0 [ 0.00146661 -0.04672571  1.19359008] [  1.10116493e-03  -4.04310741e-02   4.63264913e+00]\n",
      "This is the average radius of curvature of the anes 797.218016708\n"
     ]
    },
    {
     "name": "stderr",
     "output_type": "stream",
     "text": [
      "\r",
      " 71%|███████   | 893/1261 [10:38<04:32,  1.35it/s]"
     ]
    },
    {
     "name": "stdout",
     "output_type": "stream",
     "text": [
      "936.104490483\n",
      "0.0 [  1.64370173e-04  -2.57416877e-01   3.22251422e+02] [  1.28787544e-04  -2.29087028e-01   1.25271706e+03]\n",
      "0.0 [ 0.00140122 -0.04571724  1.19233026] [  1.09788805e-03  -4.06858562e-02   4.63505313e+00]\n",
      "This is the average radius of curvature of the anes 814.50158001\n"
     ]
    },
    {
     "name": "stderr",
     "output_type": "stream",
     "text": [
      "\r",
      " 71%|███████   | 894/1261 [10:39<04:26,  1.38it/s]"
     ]
    },
    {
     "name": "stdout",
     "output_type": "stream",
     "text": [
      "934.685522364\n",
      "0.0 [  1.52168874e-04  -2.47005584e-01   3.21626757e+02] [  1.03007579e-04  -2.14123510e-01   1.25081390e+03]\n",
      "0.0 [ 0.00129721 -0.04386819  1.190019  ] [  8.78119011e-04  -3.80283354e-02   4.62801145e+00]\n",
      "This is the average radius of curvature of the anes 957.190506664\n"
     ]
    },
    {
     "name": "stderr",
     "output_type": "stream",
     "text": [
      "\r",
      " 71%|███████   | 895/1261 [10:39<04:24,  1.38it/s]"
     ]
    },
    {
     "name": "stdout",
     "output_type": "stream",
     "text": [
      "932.039930492\n",
      "0.0 [  1.33639416e-04  -2.31883881e-01   3.21687949e+02] [  1.18420321e-04  -2.28136075e-01   1.25349715e+03]\n",
      "0.0 [  1.13924929e-03  -4.11825773e-02   1.19024541e+00] [  1.00950955e-03  -4.05169669e-02   4.63793945e+00]\n",
      "This is the average radius of curvature of the anes 936.512640453\n"
     ]
    },
    {
     "name": "stderr",
     "output_type": "stream",
     "text": [
      "\r",
      " 71%|███████   | 896/1261 [10:40<04:25,  1.38it/s]"
     ]
    },
    {
     "name": "stdout",
     "output_type": "stream",
     "text": [
      "937.540361354\n",
      "0.0 [  1.10881975e-04  -2.14455019e-01   3.22879833e+02] [  1.47871323e-04  -2.57939143e-01   1.26042019e+03]\n",
      "0.0 [  9.45246659e-04  -3.80872114e-02   1.19465538e+00] [  1.26057346e-03  -4.58099917e-02   4.66355472e+00]\n",
      "This is the average radius of curvature of the anes 928.007977316\n"
     ]
    },
    {
     "name": "stderr",
     "output_type": "stream",
     "text": [
      "\r",
      " 71%|███████   | 897/1261 [10:41<04:19,  1.40it/s]"
     ]
    },
    {
     "name": "stdout",
     "output_type": "stream",
     "text": [
      "935.283951428\n",
      "0.0 [  1.09819116e-04  -2.10912935e-01   3.23346613e+02] [  1.16513939e-04  -2.34914726e-01   1.25863056e+03]\n",
      "0.0 [  9.36186002e-04  -3.74581373e-02   1.19638247e+00] [  9.93258025e-04  -4.17208554e-02   4.65693309e+00]\n",
      "This is the average radius of curvature of the anes 1039.91513531\n"
     ]
    },
    {
     "name": "stderr",
     "output_type": "stream",
     "text": [
      "\r",
      " 71%|███████   | 898/1261 [10:42<04:23,  1.38it/s]"
     ]
    },
    {
     "name": "stdout",
     "output_type": "stream",
     "text": [
      "934.923941566\n",
      "0.0 [  1.09599294e-04  -2.06599398e-01   3.23281466e+02] [  6.75723820e-05  -2.07941358e-01   1.25820541e+03]\n",
      "0.0 [  9.34312061e-04  -3.66920531e-02   1.19614142e+00] [  5.76041042e-04  -3.69303852e-02   4.65536001e+00]\n",
      "This is the average radius of curvature of the anes 1406.00422649\n"
     ]
    },
    {
     "name": "stderr",
     "output_type": "stream",
     "text": [
      "\r",
      " 71%|███████▏  | 899/1261 [10:42<04:23,  1.38it/s]"
     ]
    },
    {
     "name": "stdout",
     "output_type": "stream",
     "text": [
      "935.373561154\n",
      "0.0 [  1.18701991e-04  -2.09711541e-01   3.23628970e+02] [  3.81907755e-05  -1.88019394e-01   1.25754141e+03]\n",
      "0.0 [  1.01191073e-03  -3.72447697e-02   1.19742719e+00] [  3.25568723e-04  -3.33922443e-02   4.65290321e+00]\n",
      "This is the average radius of curvature of the anes 2033.48667868\n"
     ]
    },
    {
     "name": "stderr",
     "output_type": "stream",
     "text": [
      "\r",
      " 71%|███████▏  | 900/1261 [10:43<04:28,  1.34it/s]"
     ]
    },
    {
     "name": "stdout",
     "output_type": "stream",
     "text": [
      "932.674997823\n",
      "0.0 [  1.22326790e-04  -2.09066208e-01   3.24348801e+02] [  4.01175634e-05  -1.82109801e-01   1.25481405e+03]\n",
      "0.0 [  1.04281142e-03  -3.71301585e-02   1.20009057e+00] [  3.41994205e-04  -3.23427007e-02   4.64281198e+00]\n",
      "This is the average radius of curvature of the anes 1944.77264156\n"
     ]
    },
    {
     "name": "stderr",
     "output_type": "stream",
     "text": [
      "\r",
      " 71%|███████▏  | 901/1261 [10:44<04:23,  1.36it/s]"
     ]
    },
    {
     "name": "stdout",
     "output_type": "stream",
     "text": [
      "926.518881016\n",
      "0.0 [  1.20860027e-04  -2.07720755e-01   3.27246700e+02] [  1.98310416e-05  -1.57202676e-01   1.24745037e+03]\n",
      "0.0 [  1.03030756e-03  -3.68912060e-02   1.21081279e+00] [  1.69055663e-04  -2.79191952e-02   4.61556638e+00]\n",
      "This is the average radius of curvature of the anes 3447.34753214\n"
     ]
    },
    {
     "name": "stderr",
     "output_type": "stream",
     "text": [
      "\r",
      " 72%|███████▏  | 902/1261 [10:45<04:26,  1.34it/s]"
     ]
    },
    {
     "name": "stdout",
     "output_type": "stream",
     "text": [
      "925.295924733\n",
      "0.0 [  1.21121597e-04  -2.07767373e-01   3.27830438e+02] [  3.04051278e-05  -1.55612482e-01   1.24563013e+03]\n",
      "0.0 [  1.03253739e-03  -3.68994855e-02   1.21297262e+00] [  2.59197633e-04  -2.76367767e-02   4.60883149e+00]\n",
      "This is the average radius of curvature of the anes 2416.47374788\n"
     ]
    },
    {
     "name": "stderr",
     "output_type": "stream",
     "text": [
      "\r",
      " 72%|███████▏  | 903/1261 [10:45<04:23,  1.36it/s]"
     ]
    },
    {
     "name": "stdout",
     "output_type": "stream",
     "text": [
      "924.887553101\n",
      "0.0 [  1.19388628e-04  -2.06494804e-01   3.27881555e+02] [  3.37940672e-05  -1.52370058e-01   1.24421282e+03]\n",
      "0.0 [  1.01776417e-03  -3.66734771e-02   1.21316175e+00] [  2.88087664e-04  -2.70609223e-02   4.60358743e+00]\n",
      "This is the average radius of curvature of the anes 2229.75397708\n"
     ]
    },
    {
     "name": "stderr",
     "output_type": "stream",
     "text": [
      "\r",
      " 72%|███████▏  | 904/1261 [10:46<04:21,  1.37it/s]"
     ]
    },
    {
     "name": "stdout",
     "output_type": "stream",
     "text": [
      "925.260774757\n",
      "0.0 [  1.13298271e-04  -2.02095029e-01   3.27269588e+02] [  3.99466308e-05  -1.50138416e-01   1.24332986e+03]\n",
      "0.0 [  9.65845097e-04  -3.58920771e-02   1.21089747e+00] [  3.40537038e-04  -2.66645826e-02   4.60032047e+00]\n",
      "This is the average radius of curvature of the anes 1988.51728116\n"
     ]
    },
    {
     "name": "stderr",
     "output_type": "stream",
     "text": [
      "\r",
      " 72%|███████▏  | 905/1261 [10:47<04:20,  1.37it/s]"
     ]
    },
    {
     "name": "stdout",
     "output_type": "stream",
     "text": [
      "925.111258831\n",
      "0.0 [  1.03846835e-04  -1.94647364e-01   3.26031442e+02] [  5.44513411e-05  -1.58746579e-01   1.24461951e+03]\n",
      "0.0 [  8.85273502e-04  -3.45693719e-02   1.20631634e+00] [  4.64186793e-04  -2.81933925e-02   4.60509219e+00]\n",
      "This is the average radius of curvature of the anes 1644.24706385\n"
     ]
    },
    {
     "name": "stderr",
     "output_type": "stream",
     "text": [
      "\r",
      " 72%|███████▏  | 906/1261 [10:48<04:21,  1.36it/s]"
     ]
    },
    {
     "name": "stdout",
     "output_type": "stream",
     "text": [
      "924.925882813\n",
      "0.0 [  1.00511762e-04  -1.90266862e-01   3.25003209e+02] [  1.86474710e-05  -1.40010652e-01   1.24221606e+03]\n",
      "0.0 [  8.56842673e-04  -3.37913947e-02   1.20251187e+00] [  1.58965960e-04  -2.48658918e-02   4.59619943e+00]\n",
      "This is the average radius of curvature of the anes 3732.78256058\n"
     ]
    },
    {
     "name": "stderr",
     "output_type": "stream",
     "text": [
      "\r",
      " 72%|███████▏  | 907/1261 [10:48<04:16,  1.38it/s]"
     ]
    },
    {
     "name": "stdout",
     "output_type": "stream",
     "text": [
      "925.319120291\n",
      "0.0 [  8.72944775e-05  -1.77553093e-01   3.22208168e+02] [  2.38392337e-05  -1.47015939e-01   1.24385338e+03]\n",
      "0.0 [  7.44167962e-04  -3.15334292e-02   1.19217022e+00] [  2.03224700e-04  -2.61100308e-02   4.60225750e+00]\n",
      "This is the average radius of curvature of the anes 3135.74094932\n"
     ]
    },
    {
     "name": "stderr",
     "output_type": "stream",
     "text": [
      "\r",
      " 72%|███████▏  | 908/1261 [10:49<04:16,  1.38it/s]"
     ]
    },
    {
     "name": "stdout",
     "output_type": "stream",
     "text": [
      "925.113877973\n",
      "0.0 [  8.80768811e-05  -1.76322143e-01   3.21609820e+02] [  5.83634409e-05  -1.75503812e-01   1.24671806e+03]\n",
      "0.0 [  7.50837796e-04  -3.13148125e-02   1.18995633e+00] [  4.97536661e-04  -3.11694770e-02   4.61285684e+00]\n",
      "This is the average radius of curvature of the anes 1673.31849885\n"
     ]
    },
    {
     "name": "stderr",
     "output_type": "stream",
     "text": [
      "\r",
      " 72%|███████▏  | 909/1261 [10:50<04:15,  1.38it/s]"
     ]
    },
    {
     "name": "stdout",
     "output_type": "stream",
     "text": [
      "926.415876784\n",
      "0.0 [  8.69412218e-05  -1.74150431e-01   3.20972078e+02] [  8.66691257e-05  -1.95201436e-01   1.24738795e+03]\n",
      "0.0 [  7.41156527e-04  -3.09291165e-02   1.18759669e+00] [  7.38836963e-04  -3.46677751e-02   4.61533543e+00]\n",
      "This is the average radius of curvature of the anes 1353.54925075\n"
     ]
    },
    {
     "name": "stderr",
     "output_type": "stream",
     "text": [
      "\r",
      " 72%|███████▏  | 910/1261 [10:50<04:13,  1.39it/s]"
     ]
    },
    {
     "name": "stdout",
     "output_type": "stream",
     "text": [
      "926.31793301\n",
      "0.0 [  8.89923045e-05  -1.75246625e-01   3.21050430e+02] [  1.16293097e-04  -2.14388030e-01   1.24736836e+03]\n",
      "0.0 [  7.58641597e-04  -3.11238006e-02   1.18788659e+00] [  9.91375392e-04  -3.80753141e-02   4.61526294e+00]\n",
      "This is the average radius of curvature of the anes 1165.47760697\n"
     ]
    },
    {
     "name": "stderr",
     "output_type": "stream",
     "text": [
      "\r",
      " 72%|███████▏  | 911/1261 [10:51<04:15,  1.37it/s]"
     ]
    },
    {
     "name": "stdout",
     "output_type": "stream",
     "text": [
      "926.500608322\n",
      "0.0 [  9.02217253e-05  -1.75799266e-01   3.21044731e+02] [  1.36529709e-04  -2.28725325e-01   1.24754534e+03]\n",
      "0.0 [  7.69122164e-04  -3.12219497e-02   1.18786550e+00] [  1.16388847e-03  -4.06216177e-02   4.61591776e+00]\n",
      "This is the average radius of curvature of the anes 1081.70077802\n"
     ]
    },
    {
     "name": "stderr",
     "output_type": "stream",
     "text": [
      "\r",
      " 72%|███████▏  | 912/1261 [10:52<04:14,  1.37it/s]"
     ]
    },
    {
     "name": "stdout",
     "output_type": "stream",
     "text": [
      "927.699579713\n",
      "0.0 [  8.56616707e-05  -1.73179862e-01   3.20155669e+02] [  1.40981697e-04  -2.31379339e-01   1.24785525e+03]\n",
      "0.0 [  7.30248611e-04  -3.07567434e-02   1.18457597e+00] [  1.20184077e-03  -4.10929706e-02   4.61706442e+00]\n",
      "This is the average radius of curvature of the anes 1102.75282931\n"
     ]
    },
    {
     "name": "stderr",
     "output_type": "stream",
     "text": [
      "\r",
      " 72%|███████▏  | 913/1261 [10:53<04:15,  1.36it/s]"
     ]
    },
    {
     "name": "stdout",
     "output_type": "stream",
     "text": [
      "926.401454151\n",
      "0.0 [  8.45533743e-05  -1.72895120e-01   3.20133701e+02] [  1.38989551e-04  -2.32114215e-01   1.24653515e+03]\n",
      "0.0 [  7.20800605e-04  -3.07061733e-02   1.18449469e+00] [  1.18485812e-03  -4.12234845e-02   4.61218007e+00]\n",
      "This is the average radius of curvature of the anes 1117.72200239\n"
     ]
    },
    {
     "name": "stderr",
     "output_type": "stream",
     "text": [
      "\r",
      " 72%|███████▏  | 914/1261 [10:53<04:11,  1.38it/s]"
     ]
    },
    {
     "name": "stdout",
     "output_type": "stream",
     "text": [
      "926.766650723\n",
      "0.0 [  8.57837821e-05  -1.74115399e-01   3.20196866e+02] [  1.44569120e-04  -2.38918691e-01   1.24696352e+03]\n",
      "0.0 [  7.31289585e-04  -3.09228948e-02   1.18472840e+00] [  1.23242283e-03  -4.24319595e-02   4.61376501e+00]\n",
      "This is the average radius of curvature of the anes 1091.50569458\n"
     ]
    },
    {
     "name": "stderr",
     "output_type": "stream",
     "text": [
      "\r",
      " 73%|███████▎  | 915/1261 [10:54<04:11,  1.38it/s]"
     ]
    },
    {
     "name": "stdout",
     "output_type": "stream",
     "text": [
      "927.038916242\n",
      "0.0 [  9.88876895e-05  -1.83767970e-01   3.20603043e+02] [  1.52695029e-04  -2.44684094e-01   1.24764196e+03]\n",
      "0.0 [  8.42997775e-04  -3.26371915e-02   1.18623126e+00] [  1.30169458e-03  -4.34558950e-02   4.61627525e+00]\n",
      "This is the average radius of curvature of the anes 979.272552159\n"
     ]
    },
    {
     "name": "stderr",
     "output_type": "stream",
     "text": [
      "\r",
      " 73%|███████▎  | 916/1261 [10:55<04:08,  1.39it/s]"
     ]
    },
    {
     "name": "stdout",
     "output_type": "stream",
     "text": [
      "928.733277663\n",
      "0.0 [  1.06250187e-04  -1.88961738e-01   3.20942095e+02] [  1.65553303e-04  -2.56714802e-01   1.24967537e+03]\n",
      "0.0 [  9.05761596e-04  -3.35596047e-02   1.18748575e+00] [  1.41130880e-03  -4.55925489e-02   4.62379888e+00]\n",
      "This is the average radius of curvature of the anes 908.340776011\n"
     ]
    },
    {
     "name": "stderr",
     "output_type": "stream",
     "text": [
      "\r",
      " 73%|███████▎  | 917/1261 [10:55<04:06,  1.40it/s]"
     ]
    },
    {
     "name": "stdout",
     "output_type": "stream",
     "text": [
      "924.426958777\n",
      "0.0 [  1.25677227e-04  -2.04052509e-01   3.21965232e+02] [  1.47491799e-04  -2.39649982e-01   1.24639219e+03]\n",
      "0.0 [  1.07137323e-03  -3.62397256e-02   1.19127136e+00] [  1.25733809e-03  -4.25618368e-02   4.61165111e+00]\n",
      "This is the average radius of curvature of the anes 866.357011664\n"
     ]
    },
    {
     "name": "stderr",
     "output_type": "stream",
     "text": [
      "\r",
      " 73%|███████▎  | 918/1261 [10:56<04:08,  1.38it/s]"
     ]
    },
    {
     "name": "stdout",
     "output_type": "stream",
     "text": [
      "919.460013897\n",
      "0.0 [  1.32621731e-04  -2.11081745e-01   3.22544798e+02] [  9.83010509e-05  -2.09588686e-01   1.24198858e+03]\n",
      "0.0 [  1.13057373e-03  -3.74881179e-02   1.19341575e+00] [  8.37996799e-04  -3.72229507e-02   4.59535773e+00]\n",
      "This is the average radius of curvature of the anes 1041.08742047\n"
     ]
    },
    {
     "name": "stderr",
     "output_type": "stream",
     "text": [
      "\r",
      " 73%|███████▎  | 919/1261 [10:57<04:04,  1.40it/s]"
     ]
    },
    {
     "name": "stdout",
     "output_type": "stream",
     "text": [
      "919.314261092\n",
      "0.0 [  1.38807167e-04  -2.19053268e-01   3.23193079e+02] [  5.82817530e-05  -1.85319296e-01   1.23897437e+03]\n",
      "0.0 [  1.18330334e-03  -3.89038604e-02   1.19581439e+00] [  4.96840288e-04  -3.29127069e-02   4.58420517e+00]\n",
      "This is the average radius of curvature of the anes 1431.50083402\n"
     ]
    },
    {
     "name": "stderr",
     "output_type": "stream",
     "text": [
      "\r",
      " 73%|███████▎  | 920/1261 [10:58<04:06,  1.39it/s]"
     ]
    },
    {
     "name": "stdout",
     "output_type": "stream",
     "text": [
      "923.839485353\n",
      "0.0 [  1.34462330e-04  -2.18793131e-01   3.23242957e+02] [  8.88974303e-05  -2.17923865e-01   1.24707831e+03]\n",
      "0.0 [  1.14626447e-03  -3.88576601e-02   1.19599894e+00] [  7.57832814e-04  -3.87032785e-02   4.61418973e+00]\n",
      "This is the average radius of curvature of the anes 1098.44696494\n"
     ]
    },
    {
     "name": "stderr",
     "output_type": "stream",
     "text": [
      "\r",
      " 73%|███████▎  | 921/1261 [10:58<04:07,  1.38it/s]"
     ]
    },
    {
     "name": "stdout",
     "output_type": "stream",
     "text": [
      "923.199960541\n",
      "0.0 [  1.31435471e-04  -2.18586180e-01   3.23294721e+02] [  8.61427648e-05  -2.16580024e-01   1.24647247e+03]\n",
      "0.0 [  1.12046110e-03  -3.88209057e-02   1.19619047e+00] [  7.34349842e-04  -3.84646123e-02   4.61194813e+00]\n",
      "This is the average radius of curvature of the anes 1129.64001781\n"
     ]
    },
    {
     "name": "stderr",
     "output_type": "stream",
     "text": [
      "\r",
      " 73%|███████▎  | 922/1261 [10:59<04:13,  1.34it/s]"
     ]
    },
    {
     "name": "stdout",
     "output_type": "stream",
     "text": [
      "922.813950977\n",
      "0.0 [  1.26051336e-04  -2.18513582e-01   3.23451505e+02] [  8.22258620e-05  -2.13874707e-01   1.24614270e+03]\n",
      "0.0 [  1.07456243e-03  -3.88080121e-02   1.19677057e+00] [  7.00959028e-04  -3.79841480e-02   4.61072800e+00]\n",
      "This is the average radius of curvature of the anes 1181.20998883\n"
     ]
    },
    {
     "name": "stderr",
     "output_type": "stream",
     "text": [
      "\r",
      " 73%|███████▎  | 923/1261 [11:00<04:13,  1.33it/s]"
     ]
    },
    {
     "name": "stdout",
     "output_type": "stream",
     "text": [
      "922.692056691\n",
      "0.0 [  1.19781484e-04  -2.16764384e-01   3.23399813e+02] [  8.39543376e-05  -2.13772899e-01   1.24602943e+03]\n",
      "0.0 [  1.02111320e-03  -3.84973547e-02   1.19657931e+00] [  7.15693937e-04  -3.79660669e-02   4.61030888e+00]\n",
      "This is the average radius of curvature of the anes 1190.8843485\n"
     ]
    },
    {
     "name": "stderr",
     "output_type": "stream",
     "text": [
      "\r",
      " 73%|███████▎  | 924/1261 [11:01<04:13,  1.33it/s]"
     ]
    },
    {
     "name": "stdout",
     "output_type": "stream",
     "text": [
      "922.434306598\n",
      "0.0 [  1.14486321e-04  -2.15563001e-01   3.23418602e+02] [  8.51266841e-05  -2.12240414e-01   1.24575891e+03]\n",
      "0.0 [  9.75972993e-04  -3.82839890e-02   1.19664883e+00] [  7.25687957e-04  -3.76938976e-02   4.60930797e+00]\n",
      "This is the average radius of curvature of the anes 1203.90630774\n"
     ]
    },
    {
     "name": "stderr",
     "output_type": "stream",
     "text": [
      "\r",
      " 73%|███████▎  | 925/1261 [11:02<04:16,  1.31it/s]"
     ]
    },
    {
     "name": "stdout",
     "output_type": "stream",
     "text": [
      "919.097924755\n",
      "0.0 [  1.15258940e-04  -2.17960476e-01   3.24081783e+02] [  7.77738306e-05  -2.00218883e-01   1.24108045e+03]\n",
      "0.0 [  9.82559411e-04  -3.87097806e-02   1.19910260e+00] [  6.63006351e-04  -3.55588736e-02   4.59199767e+00]\n",
      "This is the average radius of curvature of the anes 1265.5906748\n"
     ]
    },
    {
     "name": "stderr",
     "output_type": "stream",
     "text": [
      "\r",
      " 73%|███████▎  | 926/1261 [11:02<04:13,  1.32it/s]"
     ]
    },
    {
     "name": "stdout",
     "output_type": "stream",
     "text": [
      "917.279993543\n",
      "0.0 [  1.14092958e-04  -2.18208005e-01   3.24314326e+02] [  8.65394693e-05  -2.01259038e-01   1.23898787e+03]\n",
      "0.0 [  9.72619646e-04  -3.87537416e-02   1.19996301e+00] [  7.37731668e-04  -3.57436051e-02   4.58425513e+00]\n",
      "This is the average radius of curvature of the anes 1194.28657246\n"
     ]
    },
    {
     "name": "stderr",
     "output_type": "stream",
     "text": [
      "\r",
      " 74%|███████▎  | 927/1261 [11:03<04:15,  1.31it/s]"
     ]
    },
    {
     "name": "stdout",
     "output_type": "stream",
     "text": [
      "917.165617703\n",
      "0.0 [  1.08459793e-04  -2.16388096e-01   3.24466507e+02] [  1.12877231e-04  -2.20203429e-01   1.24163213e+03]\n",
      "0.0 [  9.24598046e-04  -3.84305258e-02   1.20052608e+00] [  9.62255819e-04  -3.91081290e-02   4.59403886e+00]\n",
      "This is the average radius of curvature of the anes 1062.77886189\n"
     ]
    },
    {
     "name": "stderr",
     "output_type": "stream",
     "text": [
      "\r",
      " 74%|███████▎  | 928/1261 [11:04<04:10,  1.33it/s]"
     ]
    },
    {
     "name": "stdout",
     "output_type": "stream",
     "text": [
      "919.667336239\n",
      "0.0 [  1.03299248e-04  -2.14623595e-01   3.24594383e+02] [  1.29282621e-04  -2.31947845e-01   1.24328546e+03]\n",
      "0.0 [  8.80605431e-04  -3.81171504e-02   1.20099922e+00] [  1.10210849e-03  -4.11939373e-02   4.60015622e+00]\n",
      "This is the average radius of curvature of the anes 1023.86018802\n"
     ]
    },
    {
     "name": "stderr",
     "output_type": "stream",
     "text": [
      "\r",
      " 74%|███████▎  | 929/1261 [11:05<04:11,  1.32it/s]"
     ]
    },
    {
     "name": "stdout",
     "output_type": "stream",
     "text": [
      "919.836814537\n",
      "0.0 [  1.01133001e-04  -2.14359974e-01   3.24668584e+02] [  1.29983499e-04  -2.34322526e-01   1.24394389e+03]\n",
      "0.0 [  8.62138609e-04  -3.80703315e-02   1.20127376e+00] [  1.10808333e-03  -4.16156807e-02   4.60259240e+00]\n",
      "This is the average radius of curvature of the anes 1033.61674735\n"
     ]
    },
    {
     "name": "stderr",
     "output_type": "stream",
     "text": [
      "\r",
      " 74%|███████▍  | 930/1261 [11:05<04:07,  1.34it/s]"
     ]
    },
    {
     "name": "stdout",
     "output_type": "stream",
     "text": [
      "917.319599835\n",
      "0.0 [  1.03518193e-04  -2.17259840e-01   3.25293330e+02] [  1.01826554e-04  -2.20629278e-01   1.24261293e+03]\n",
      "0.0 [  8.82471892e-04  -3.85853475e-02   1.20358532e+00] [  8.68051008e-04  -3.91837597e-02   4.59766784e+00]\n",
      "This is the average radius of curvature of the anes 1145.18617957\n"
     ]
    },
    {
     "name": "stderr",
     "output_type": "stream",
     "text": [
      "\r",
      " 74%|███████▍  | 931/1261 [11:06<04:01,  1.37it/s]"
     ]
    },
    {
     "name": "stdout",
     "output_type": "stream",
     "text": [
      "916.780272653\n",
      "0.0 [  1.08018276e-04  -2.21775287e-01   3.26223748e+02] [  9.35059744e-05  -2.16258455e-01   1.24247972e+03]\n",
      "0.0 [  9.20834197e-04  -3.93872909e-02   1.20702787e+00] [  7.97119730e-04  -3.84075016e-02   4.59717495e+00]\n",
      "This is the average radius of curvature of the anes 1172.89674508\n"
     ]
    },
    {
     "name": "stderr",
     "output_type": "stream",
     "text": [
      "\r",
      " 74%|███████▍  | 932/1261 [11:07<04:04,  1.34it/s]"
     ]
    },
    {
     "name": "stdout",
     "output_type": "stream",
     "text": [
      "917.408242465\n",
      "0.0 [  1.08719595e-04  -2.23363134e-01   3.26722426e+02] [  8.64402091e-05  -2.06764135e-01   1.24103895e+03]\n",
      "0.0 [  9.26812802e-04  -3.96692927e-02   1.20887298e+00] [  7.36885495e-04  -3.67213105e-02   4.59184412e+00]\n",
      "This is the average radius of curvature of the anes 1220.66159749\n"
     ]
    },
    {
     "name": "stderr",
     "output_type": "stream",
     "text": [
      "\r",
      " 74%|███████▍  | 933/1261 [11:07<04:02,  1.35it/s]"
     ]
    },
    {
     "name": "stdout",
     "output_type": "stream",
     "text": [
      "918.174839831\n",
      "0.0 [  1.03818064e-04  -2.20056908e-01   3.26637949e+02] [  7.69333152e-05  -1.91488509e-01   1.23722342e+03]\n",
      "0.0 [  8.85028232e-04  -3.90821069e-02   1.20856041e+00] [  6.55841126e-04  -3.40083591e-02   4.57772665e+00]\n",
      "This is the average radius of curvature of the anes 1329.95135747\n"
     ]
    },
    {
     "name": "stderr",
     "output_type": "stream",
     "text": [
      "\r",
      " 74%|███████▍  | 934/1261 [11:08<04:01,  1.35it/s]"
     ]
    },
    {
     "name": "stdout",
     "output_type": "stream",
     "text": [
      "920.419530922\n",
      "0.0 [  1.07146424e-04  -2.22736252e-01   3.27272154e+02] [  8.19819911e-05  -1.90300316e-01   1.23723954e+03]\n",
      "0.0 [  9.13401833e-04  -3.95579584e-02   1.21090697e+00] [  6.98880078e-04  -3.37973362e-02   4.57778629e+00]\n",
      "This is the average radius of curvature of the anes 1265.34608079\n"
     ]
    },
    {
     "name": "stderr",
     "output_type": "stream",
     "text": [
      "\r",
      " 74%|███████▍  | 935/1261 [11:09<04:06,  1.32it/s]"
     ]
    },
    {
     "name": "stdout",
     "output_type": "stream",
     "text": [
      "922.563067801\n",
      "0.0 [  9.96266780e-05  -2.16354299e-01   3.27532258e+02] [  9.55897145e-05  -1.95728050e-01   1.23735201e+03]\n",
      "0.0 [  8.49297505e-04  -3.84245234e-02   1.21186935e+00] [  8.14883198e-04  -3.47613016e-02   4.57820242e+00]\n",
      "This is the average radius of curvature of the anes 1204.72349613\n"
     ]
    },
    {
     "name": "stderr",
     "output_type": "stream",
     "text": [
      "\r",
      " 74%|███████▍  | 936/1261 [11:10<04:02,  1.34it/s]"
     ]
    },
    {
     "name": "stdout",
     "output_type": "stream",
     "text": [
      "924.084094458\n",
      "0.0 [  9.14259751e-05  -2.07923042e-01   3.27807229e+02] [  1.16001660e-04  -2.06004491e-01   1.23780721e+03]\n",
      "0.0 [  7.79388153e-04  -3.69271323e-02   1.21288675e+00] [  9.88890954e-04  -3.65863977e-02   4.57988669e+00]\n",
      "This is the average radius of curvature of the anes 1149.47397411\n"
     ]
    },
    {
     "name": "stderr",
     "output_type": "stream",
     "text": [
      "\r",
      " 74%|███████▍  | 937/1261 [11:10<04:06,  1.31it/s]"
     ]
    },
    {
     "name": "stdout",
     "output_type": "stream",
     "text": [
      "924.678560259\n",
      "0.0 [  9.29929946e-05  -2.05565184e-01   3.27635225e+02] [  1.28458892e-04  -2.11560357e-01   1.23828983e+03]\n",
      "0.0 [  7.92746681e-04  -3.65083766e-02   1.21225033e+00] [  1.09508636e-03  -3.75731194e-02   4.58167237e+00]\n",
      "This is the average radius of curvature of the anes 1089.53211823\n"
     ]
    },
    {
     "name": "stderr",
     "output_type": "stream",
     "text": [
      "\r",
      " 74%|███████▍  | 938/1261 [11:11<04:03,  1.32it/s]"
     ]
    },
    {
     "name": "stdout",
     "output_type": "stream",
     "text": [
      "923.756150343\n",
      "0.0 [  8.89207267e-05  -1.98921616e-01   3.27353113e+02] [  1.45803673e-04  -2.24700128e-01   1.24023775e+03]\n",
      "0.0 [  7.58031411e-04  -3.53284790e-02   1.21120652e+00] [  1.24294715e-03  -3.99067428e-02   4.58887967e+00]\n",
      "This is the average radius of curvature of the anes 1064.06958812\n"
     ]
    },
    {
     "name": "stderr",
     "output_type": "stream",
     "text": [
      "\r",
      " 74%|███████▍  | 939/1261 [11:12<04:02,  1.33it/s]"
     ]
    },
    {
     "name": "stdout",
     "output_type": "stream",
     "text": [
      "921.01338256\n",
      "0.0 [  9.39780188e-05  -2.00471900e-01   3.27787247e+02] [  1.45219718e-04  -2.25892159e-01   1.24058784e+03]\n",
      "0.0 [  8.01143815e-04  -3.56038094e-02   1.21281281e+00] [  1.23796905e-03  -4.01184475e-02   4.59017499e+00]\n",
      "This is the average radius of curvature of the anes 1030.15754382\n"
     ]
    },
    {
     "name": "stderr",
     "output_type": "stream",
     "text": [
      "\r",
      " 75%|███████▍  | 940/1261 [11:13<03:55,  1.36it/s]"
     ]
    },
    {
     "name": "stdout",
     "output_type": "stream",
     "text": [
      "917.729860243\n",
      "0.0 [  9.81504824e-05  -2.01739934e-01   3.28018572e+02] [  1.45750744e-04  -2.30055284e-01   1.24149969e+03]\n",
      "0.0 [  8.36713232e-04  -3.58290123e-02   1.21366872e+00] [  1.24249594e-03  -4.08578185e-02   4.59354885e+00]\n",
      "This is the average radius of curvature of the anes 1002.15124005\n"
     ]
    },
    {
     "name": "stderr",
     "output_type": "stream",
     "text": [
      "\r",
      " 75%|███████▍  | 941/1261 [11:13<03:54,  1.37it/s]"
     ]
    },
    {
     "name": "stdout",
     "output_type": "stream",
     "text": [
      "914.762376691\n",
      "0.0 [  1.04836431e-04  -2.04792109e-01   3.28474403e+02] [  1.41105440e-04  -2.34057879e-01   1.24323678e+03]\n",
      "0.0 [  8.93709610e-04  -3.63710785e-02   1.21535529e+00] [  1.20289566e-03  -4.15686794e-02   4.59997609e+00]\n",
      "This is the average radius of curvature of the anes 977.3178358\n"
     ]
    },
    {
     "name": "stderr",
     "output_type": "stream",
     "text": [
      "\r",
      " 75%|███████▍  | 942/1261 [11:14<03:48,  1.40it/s]"
     ]
    },
    {
     "name": "stdout",
     "output_type": "stream",
     "text": [
      "918.146947758\n",
      "0.0 [  1.06208709e-04  -2.05555975e-01   3.28576984e+02] [  1.45585105e-04  -2.45562139e-01   1.24672393e+03]\n",
      "0.0 [  9.05408001e-04  -3.65067412e-02   1.21573484e+00] [  1.24108391e-03  -4.36118359e-02   4.61287855e+00]\n",
      "This is the average radius of curvature of the anes 957.365162845\n"
     ]
    },
    {
     "name": "stderr",
     "output_type": "stream",
     "text": [
      "\r",
      " 75%|███████▍  | 943/1261 [11:15<03:50,  1.38it/s]"
     ]
    },
    {
     "name": "stdout",
     "output_type": "stream",
     "text": [
      "920.0588881\n",
      "0.0 [  1.12668422e-04  -2.10037739e-01   3.29399337e+02] [  1.52492188e-04  -2.55955570e-01   1.24945823e+03]\n",
      "0.0 [  9.60475762e-04  -3.73027024e-02   1.21877755e+00] [  1.29996540e-03  -4.54577093e-02   4.62299543e+00]\n",
      "This is the average radius of curvature of the anes 907.480710563\n"
     ]
    },
    {
     "name": "stderr",
     "output_type": "stream",
     "text": [
      "\r",
      " 75%|███████▍  | 944/1261 [11:16<03:47,  1.40it/s]"
     ]
    },
    {
     "name": "stdout",
     "output_type": "stream",
     "text": [
      "925.154561403\n",
      "0.0 [  1.12219849e-04  -2.11321115e-01   3.29926745e+02] [  1.63208318e-04  -2.69428856e-01   1.25508131e+03]\n",
      "0.0 [  9.56651766e-04  -3.75306300e-02   1.22072896e+00] [  1.39131827e-03  -4.78505648e-02   4.64380083e+00]\n",
      "This is the average radius of curvature of the anes 884.367268817\n"
     ]
    },
    {
     "name": "stderr",
     "output_type": "stream",
     "text": [
      "\r",
      " 75%|███████▍  | 945/1261 [11:16<03:52,  1.36it/s]"
     ]
    },
    {
     "name": "stdout",
     "output_type": "stream",
     "text": [
      "925.049533612\n",
      "0.0 [  1.14464924e-04  -2.13510443e-01   3.30388670e+02] [  1.52414329e-04  -2.65383341e-01   1.25543820e+03]\n",
      "0.0 [  9.75790585e-04  -3.79194546e-02   1.22243808e+00] [  1.29930167e-03  -4.71320814e-02   4.64512135e+00]\n",
      "This is the average radius of curvature of the anes 899.61569045\n"
     ]
    },
    {
     "name": "stderr",
     "output_type": "stream",
     "text": [
      "\r",
      " 75%|███████▌  | 946/1261 [11:17<03:53,  1.35it/s]"
     ]
    },
    {
     "name": "stdout",
     "output_type": "stream",
     "text": [
      "925.370347134\n",
      "0.0 [  1.18045150e-04  -2.15304804e-01   3.30533186e+02] [  1.50704710e-04  -2.64091292e-01   1.25590353e+03]\n",
      "0.0 [  1.00631130e-03  -3.82381332e-02   1.22297279e+00] [  1.28472751e-03  -4.69026134e-02   4.64684307e+00]\n",
      "This is the average radius of curvature of the anes 888.426806508\n"
     ]
    },
    {
     "name": "stderr",
     "output_type": "stream",
     "text": [
      "\r",
      " 75%|███████▌  | 947/1261 [11:18<03:59,  1.31it/s]"
     ]
    },
    {
     "name": "stdout",
     "output_type": "stream",
     "text": [
      "929.301357099\n",
      "0.0 [  1.19301817e-04  -2.16128900e-01   3.30658880e+02] [  1.60998794e-04  -2.73249462e-01   1.25996024e+03]\n",
      "0.0 [  1.01702413e-03  -3.83844927e-02   1.22343785e+00] [  1.37248252e-03  -4.85291045e-02   4.66185288e+00]\n",
      "This is the average radius of curvature of the anes 858.308412057\n"
     ]
    },
    {
     "name": "stderr",
     "output_type": "stream",
     "text": [
      "\r",
      " 75%|███████▌  | 948/1261 [11:19<03:59,  1.31it/s]"
     ]
    },
    {
     "name": "stdout",
     "output_type": "stream",
     "text": [
      "930.88614263\n",
      "0.0 [  1.25729013e-04  -2.19953387e-01   3.31099299e+02] [  1.75869255e-04  -2.85233761e-01   1.26198544e+03]\n",
      "0.0 [  1.07181469e-03  -3.90637215e-02   1.22506741e+00] [  1.49925023e-03  -5.06575160e-02   4.66934613e+00]\n",
      "This is the average radius of curvature of the anes 802.351344308\n"
     ]
    },
    {
     "name": "stderr",
     "output_type": "stream",
     "text": [
      "\r",
      " 75%|███████▌  | 949/1261 [11:19<04:02,  1.29it/s]"
     ]
    },
    {
     "name": "stdout",
     "output_type": "stream",
     "text": [
      "936.683550126\n",
      "0.0 [  1.26082345e-04  -2.20179736e-01   3.31119009e+02] [  1.93984110e-04  -3.03272777e-01   1.26780256e+03]\n",
      "0.0 [  1.07482678e-03  -3.91039211e-02   1.22514033e+00] [  1.65367574e-03  -5.38612452e-02   4.69086947e+00]\n",
      "This is the average radius of curvature of the anes 769.932054242\n"
     ]
    },
    {
     "name": "stderr",
     "output_type": "stream",
     "text": [
      "\r",
      " 75%|███████▌  | 950/1261 [11:20<03:58,  1.30it/s]"
     ]
    },
    {
     "name": "stdout",
     "output_type": "stream",
     "text": [
      "938.395819456\n",
      "0.0 [  1.25250448e-04  -2.19858344e-01   3.31118697e+02] [  1.83189669e-04  -3.00004910e-01   1.26951452e+03]\n",
      "0.0 [  1.06773502e-03  -3.90468420e-02   1.22513918e+00] [  1.56165529e-03  -5.32808720e-02   4.69720371e+00]\n",
      "This is the average radius of curvature of the anes 790.889781097\n"
     ]
    },
    {
     "name": "stderr",
     "output_type": "stream",
     "text": [
      "\r",
      " 75%|███████▌  | 951/1261 [11:21<04:00,  1.29it/s]"
     ]
    },
    {
     "name": "stdout",
     "output_type": "stream",
     "text": [
      "943.382429079\n",
      "0.0 [  1.20957741e-04  -2.17805981e-01   3.30979439e+02] [  1.87999294e-04  -3.09360792e-01   1.27436187e+03]\n",
      "0.0 [  1.03114055e-03  -3.86823422e-02   1.22462392e+00] [  1.60265638e-03  -5.49424766e-02   4.71513891e+00]\n",
      "This is the average radius of curvature of the anes 799.384466949\n"
     ]
    },
    {
     "name": "stderr",
     "output_type": "stream",
     "text": [
      "\r",
      " 75%|███████▌  | 952/1261 [11:22<03:56,  1.31it/s]"
     ]
    },
    {
     "name": "stdout",
     "output_type": "stream",
     "text": [
      "948.838518977\n",
      "0.0 [  1.08622441e-04  -2.13098043e-01   3.30696015e+02] [  1.78091029e-04  -3.06477168e-01   1.27953453e+03]\n",
      "0.0 [  9.25984588e-04  -3.78462125e-02   1.22357525e+00] [  1.51819040e-03  -5.44303449e-02   4.73427777e+00]\n",
      "This is the average radius of curvature of the anes 871.930445814\n"
     ]
    },
    {
     "name": "stderr",
     "output_type": "stream",
     "text": [
      "\r",
      " 76%|███████▌  | 953/1261 [11:22<03:52,  1.32it/s]"
     ]
    },
    {
     "name": "stdout",
     "output_type": "stream",
     "text": [
      "953.441677743\n",
      "0.0 [  1.04579307e-04  -2.11170556e-01   3.30549758e+02] [  2.04387341e-04  -3.27114933e-01   1.28399144e+03]\n",
      "0.0 [  8.91517674e-04  -3.75038907e-02   1.22303410e+00] [  1.74236120e-03  -5.80956121e-02   4.75076831e+00]\n",
      "This is the average radius of curvature of the anes 850.446005599\n"
     ]
    },
    {
     "name": "stderr",
     "output_type": "stream",
     "text": [
      "\r",
      " 76%|███████▌  | 954/1261 [11:23<03:53,  1.32it/s]"
     ]
    },
    {
     "name": "stdout",
     "output_type": "stream",
     "text": [
      "956.750533757\n",
      "0.0 [  9.57826989e-05  -2.07029240e-01   3.30250804e+02] [  1.72756921e-04  -3.13192340e-01   1.28700134e+03]\n",
      "0.0 [  8.16528352e-04  -3.67683930e-02   1.22192798e+00] [  1.47271820e-03  -5.56229595e-02   4.76190495e+00]\n",
      "This is the average radius of curvature of the anes 954.675888259\n"
     ]
    },
    {
     "name": "stderr",
     "output_type": "stream",
     "text": [
      "\r",
      " 76%|███████▌  | 955/1261 [11:24<03:50,  1.33it/s]"
     ]
    },
    {
     "name": "stdout",
     "output_type": "stream",
     "text": [
      "958.363582875\n",
      "0.0 [  9.06236257e-05  -2.04370470e-01   3.30036459e+02] [  1.49569345e-04  -3.02261978e-01   1.28840004e+03]\n",
      "0.0 [  7.72548284e-04  -3.62961954e-02   1.22113490e+00] [  1.27504875e-03  -5.36817273e-02   4.76708016e+00]\n",
      "This is the average radius of curvature of the anes 1042.32628027\n"
     ]
    },
    {
     "name": "stderr",
     "output_type": "stream",
     "text": [
      "\r",
      " 76%|███████▌  | 956/1261 [11:25<03:51,  1.32it/s]"
     ]
    },
    {
     "name": "stdout",
     "output_type": "stream",
     "text": [
      "946.564762083\n",
      "0.0 [  9.25286256e-05  -2.06713071e-01   3.30808004e+02] [  8.56117199e-05  -2.46430277e-01   1.27737277e+03]\n",
      "0.0 [  7.88788028e-04  -3.67122414e-02   1.22398961e+00] [  7.29822790e-04  -4.37660172e-02   4.72627923e+00]\n",
      "This is the average radius of curvature of the anes 1322.23298431\n"
     ]
    },
    {
     "name": "stderr",
     "output_type": "stream",
     "text": [
      "\r",
      " 76%|███████▌  | 957/1261 [11:25<03:48,  1.33it/s]"
     ]
    },
    {
     "name": "stdout",
     "output_type": "stream",
     "text": [
      "941.509784004\n",
      "0.0 [  9.14481807e-05  -2.06005395e-01   3.30752403e+02] [  2.91598056e-05  -2.03088574e-01   1.27222805e+03]\n",
      "0.0 [  7.79577451e-04  -3.65865581e-02   1.22378389e+00] [  2.48581511e-04  -3.60685307e-02   4.70724379e+00]\n",
      "This is the average radius of curvature of the anes 2658.00034423\n"
     ]
    },
    {
     "name": "stderr",
     "output_type": "stream",
     "text": [
      "\r",
      " 76%|███████▌  | 958/1261 [11:26<03:52,  1.30it/s]"
     ]
    },
    {
     "name": "stdout",
     "output_type": "stream",
     "text": [
      "938.274285939\n",
      "0.0 [  1.03276154e-04  -2.16396464e-01   3.34262159e+02] [  7.46059281e-06  -1.82591467e-01   1.26955475e+03]\n",
      "0.0 [  8.80408554e-04  -3.84320120e-02   1.23676999e+00] [  6.36000616e-05  -3.24282445e-02   4.69735257e+00]\n",
      "This is the average radius of curvature of the anes 8443.20854612\n"
     ]
    },
    {
     "name": "stderr",
     "output_type": "stream",
     "text": [
      "\r",
      " 76%|███████▌  | 959/1261 [11:27<03:49,  1.32it/s]"
     ]
    },
    {
     "name": "stdout",
     "output_type": "stream",
     "text": [
      "941.40145246\n",
      "0.0 [  1.10799594e-04  -2.20009843e-01   3.35127620e+02] [  1.58859079e-05  -1.86433048e-01   1.27355953e+03]\n",
      "0.0 [  9.44544381e-04  -3.90737482e-02   1.23997219e+00] [  1.35424187e-04  -3.31105094e-02   4.71217026e+00]\n",
      "This is the average radius of curvature of the anes 4228.74432753\n"
     ]
    },
    {
     "name": "stderr",
     "output_type": "stream",
     "text": [
      "\r",
      " 76%|███████▌  | 960/1261 [11:28<03:53,  1.29it/s]"
     ]
    },
    {
     "name": "stdout",
     "output_type": "stream",
     "text": [
      "936.407202591\n",
      "0.0 [  1.16715839e-04  -2.29071247e-01   3.41430629e+02] [  4.02287902e-05  -1.97678419e-01   1.27461667e+03]\n",
      "0.0 [  9.94979186e-04  -4.06830535e-02   1.26329333e+00] [  3.42942390e-04  -3.51076872e-02   4.71608168e+00]\n",
      "This is the average radius of curvature of the anes 1964.43837626\n"
     ]
    },
    {
     "name": "stderr",
     "output_type": "stream",
     "text": [
      "\r",
      " 76%|███████▌  | 961/1261 [11:29<03:47,  1.32it/s]"
     ]
    },
    {
     "name": "stdout",
     "output_type": "stream",
     "text": [
      "930.854392508\n",
      "0.0 [  1.30328054e-04  -2.45048094e-01   3.49693334e+02] [  7.85098438e-05  -2.20460082e-01   1.27763094e+03]\n",
      "0.0 [  1.11102059e-03  -4.35205415e-02   1.29386533e+00] [  6.69280716e-04  -3.91537106e-02   4.72723449e+00]\n",
      "This is the average radius of curvature of the anes 1200.10508967\n"
     ]
    },
    {
     "name": "stderr",
     "output_type": "stream",
     "text": [
      "\r",
      " 76%|███████▋  | 962/1261 [11:29<03:50,  1.30it/s]"
     ]
    },
    {
     "name": "stdout",
     "output_type": "stream",
     "text": [
      "929.747614198\n",
      "0.0 [  1.39196284e-04  -2.53057831e-01   3.53662836e+02] [  9.48821544e-05  -2.28335205e-01   1.27996229e+03]\n",
      "0.0 [  1.18662048e-03  -4.49430708e-02   1.30855249e+00] [  8.08851390e-04  -4.05523324e-02   4.73586049e+00]\n",
      "This is the average radius of curvature of the anes 1042.3280085\n"
     ]
    },
    {
     "name": "stderr",
     "output_type": "stream",
     "text": [
      "\r",
      " 76%|███████▋  | 963/1261 [11:30<03:45,  1.32it/s]"
     ]
    },
    {
     "name": "stdout",
     "output_type": "stream",
     "text": [
      "927.525383335\n",
      "0.0 [  1.41235851e-04  -2.58062312e-01   3.59015790e+02] [  7.56873575e-05  -2.04428001e-01   1.27556976e+03]\n",
      "0.0 [  1.20400738e-03  -4.58318667e-02   1.32835842e+00] [  6.45219586e-04  -3.63064129e-02   4.71960810e+00]\n",
      "This is the average radius of curvature of the anes 1193.05171392\n"
     ]
    },
    {
     "name": "stderr",
     "output_type": "stream",
     "text": [
      "\r",
      " 76%|███████▋  | 964/1261 [11:31<04:30,  1.10it/s]"
     ]
    },
    {
     "name": "stdout",
     "output_type": "stream",
     "text": [
      "927.88069853\n",
      "0.0 [  1.43557889e-04  -2.59971192e-01   3.61481397e+02] [  8.99642565e-05  -2.17494159e-01   1.28094553e+03]\n",
      "0.0 [  1.22380230e-03  -4.61708837e-02   1.33748117e+00] [  7.66927294e-04  -3.86269626e-02   4.73949846e+00]\n",
      "This is the average radius of curvature of the anes 1063.28178807\n"
     ]
    },
    {
     "name": "stderr",
     "output_type": "stream",
     "text": [
      "\r",
      " 77%|███████▋  | 965/1261 [11:33<05:05,  1.03s/it]"
     ]
    },
    {
     "name": "stdout",
     "output_type": "stream",
     "text": [
      "924.2365176\n",
      "0.0 [  1.41441699e-04  -2.61251973e-01   3.65528314e+02] [  1.10502535e-04  -2.41799029e-01   1.28670708e+03]\n",
      "0.0 [  1.20576220e-03  -4.63983505e-02   1.35245476e+00] [  9.42012012e-04  -4.29435076e-02   4.76081621e+00]\n",
      "This is the average radius of curvature of the anes 948.26298027\n"
     ]
    },
    {
     "name": "stderr",
     "output_type": "stream",
     "text": [
      "\r",
      " 77%|███████▋  | 966/1261 [11:34<04:57,  1.01s/it]"
     ]
    },
    {
     "name": "stdout",
     "output_type": "stream",
     "text": [
      "920.035210561\n",
      "0.0 [  1.25435021e-04  -2.52682880e-01   3.69146061e+02] [  4.28153902e-05  -1.90921225e-01   1.27763892e+03]\n",
      "0.0 [  1.06930846e-03  -4.48764795e-02   1.36584043e+00] [  3.64992638e-04  -3.39076096e-02   4.72726399e+00]\n",
      "This is the average radius of curvature of the anes 1841.25897674\n"
     ]
    },
    {
     "name": "stderr",
     "output_type": "stream",
     "text": [
      "\r",
      " 77%|███████▋  | 967/1261 [11:34<04:26,  1.10it/s]"
     ]
    },
    {
     "name": "stdout",
     "output_type": "stream",
     "text": [
      "918.36823945\n",
      "0.0 [  8.79056889e-05  -2.20041085e-01   3.64950171e+02] [  7.31990311e-06  -1.56762129e-01   1.27089617e+03]\n",
      "0.0 [  7.49378417e-04  -3.90792967e-02   1.35031563e+00] [  6.24007100e-05  -2.78409542e-02   4.70231585e+00]\n",
      "This is the average radius of curvature of the anes 8690.79605438\n"
     ]
    },
    {
     "name": "stderr",
     "output_type": "stream",
     "text": [
      "\r",
      " 77%|███████▋  | 968/1261 [11:35<04:10,  1.17it/s]"
     ]
    },
    {
     "name": "stdout",
     "output_type": "stream",
     "text": [
      "916.030760774\n",
      "0.0 [  6.57707538e-05  -2.00248311e-01   3.63734875e+02] [ -2.23493893e-06  -1.41494165e-01   1.26707534e+03]\n",
      "0.0 [  5.60682522e-04  -3.55641000e-02   1.34581904e+00] [ -1.90524074e-05  -2.51293637e-02   4.68817876e+00]\n",
      "This is the average radius of curvature of the anes 27161.7277523\n"
     ]
    },
    {
     "name": "stderr",
     "output_type": "stream",
     "text": [
      "\r",
      " 77%|███████▋  | 969/1261 [11:36<03:55,  1.24it/s]"
     ]
    },
    {
     "name": "stdout",
     "output_type": "stream",
     "text": [
      "915.35018141\n",
      "0.0 [  4.56285473e-05  -1.77860727e-01   3.59281137e+02] [ -1.57682557e-06  -1.38037270e-01   1.26623234e+03]\n",
      "0.0 [  3.88974240e-04  -3.15880651e-02   1.32934021e+00] [ -1.34421226e-05  -2.45154191e-02   4.68505966e+00]\n",
      "This is the average radius of curvature of the anes 38517.4009454\n"
     ]
    },
    {
     "name": "stderr",
     "output_type": "stream",
     "text": [
      "\r",
      " 77%|███████▋  | 970/1261 [11:36<03:50,  1.26it/s]"
     ]
    },
    {
     "name": "stdout",
     "output_type": "stream",
     "text": [
      "918.307954182\n",
      "0.0 [  1.33221678e-05  -1.43316115e-01   3.51157268e+02] [  3.03730725e-05  -1.56112549e-01   1.26946522e+03]\n",
      "0.0 [  1.13568816e-04  -2.54529420e-02   1.29928189e+00] [  2.58924368e-04  -2.77255887e-02   4.69702132e+00]\n",
      "This is the average radius of curvature of the anes 6340.18894401\n"
     ]
    },
    {
     "name": "stderr",
     "output_type": "stream",
     "text": [
      "\r",
      " 77%|███████▋  | 971/1261 [11:37<03:43,  1.30it/s]"
     ]
    },
    {
     "name": "stdout",
     "output_type": "stream",
     "text": [
      "924.726638708\n",
      "0.0 [  1.34785115e-06  -1.26192038e-01   3.46403354e+02] [  5.36191154e-05  -1.67516891e-01   1.27112999e+03]\n",
      "0.0 [  1.14901614e-05  -2.24117059e-02   1.28169241e+00] [  4.57092235e-04  -2.97509998e-02   4.70318097e+00]\n",
      "This is the average radius of curvature of the anes 44643.6031464\n"
     ]
    },
    {
     "name": "stderr",
     "output_type": "stream",
     "text": [
      "\r",
      " 77%|███████▋  | 972/1261 [11:38<03:40,  1.31it/s]"
     ]
    },
    {
     "name": "stdout",
     "output_type": "stream",
     "text": [
      "931.817335899\n",
      "0.0 [  1.26600964e-06  -1.18936157e-01   3.42990451e+02] [  9.19218094e-05  -1.92651613e-01   1.27480779e+03]\n",
      "0.0 [  1.07924790e-05  -2.11230614e-02   1.26906467e+00] [  7.83615041e-04  -3.42149265e-02   4.71678881e+00]\n",
      "This is the average radius of curvature of the anes 46998.7583135\n"
     ]
    },
    {
     "name": "stderr",
     "output_type": "stream",
     "text": [
      "\r",
      " 77%|███████▋  | 973/1261 [11:39<03:42,  1.29it/s]"
     ]
    },
    {
     "name": "stdout",
     "output_type": "stream",
     "text": [
      "927.024063075\n",
      "0.0 [  3.36011121e-05  -1.46579953e-01   3.49002671e+02] [  1.15132358e-04  -2.08015215e-01   1.27602673e+03]\n",
      "0.0 [  2.86442760e-04  -2.60325996e-02   1.29130988e+00] [  9.81480323e-04  -3.69435021e-02   4.72129891e+00]\n",
      "This is the average radius of curvature of the anes 2257.80202046\n"
     ]
    },
    {
     "name": "stderr",
     "output_type": "stream",
     "text": [
      "\r",
      " 77%|███████▋  | 974/1261 [11:39<03:37,  1.32it/s]"
     ]
    },
    {
     "name": "stdout",
     "output_type": "stream",
     "text": [
      "930.434490634\n",
      "0.0 [  3.96034634e-05  -1.47784956e-01   3.48292308e+02] [  1.35143035e-04  -2.22841718e-01   1.27872680e+03]\n",
      "0.0 [  3.37611604e-04  -2.62466082e-02   1.28868154e+00] [  1.15206735e-03  -3.95766891e-02   4.73128915e+00]\n",
      "This is the average radius of curvature of the anes 1917.54483969\n"
     ]
    },
    {
     "name": "stderr",
     "output_type": "stream",
     "text": [
      "\r",
      " 77%|███████▋  | 975/1261 [11:40<03:35,  1.33it/s]"
     ]
    },
    {
     "name": "stdout",
     "output_type": "stream",
     "text": [
      "934.323850274\n",
      "0.0 [  1.55712743e-05  -1.24798007e-01   3.43820965e+02] [  1.32410655e-04  -2.20870881e-01   1.27814482e+03]\n",
      "0.0 [  1.32741999e-04  -2.21641260e-02   1.27213757e+00] [  1.12877435e-03  -3.92266685e-02   4.72913582e+00]\n",
      "This is the average radius of curvature of the anes 4213.46239387\n"
     ]
    },
    {
     "name": "stderr",
     "output_type": "stream",
     "text": [
      "\r",
      " 77%|███████▋  | 976/1261 [11:41<03:29,  1.36it/s]"
     ]
    },
    {
     "name": "stdout",
     "output_type": "stream",
     "text": [
      "939.758004965\n",
      "0.0 [ -5.54374982e-06  -1.00882445e-01   3.38943703e+02] [  1.51505382e-04  -2.33953002e-01   1.27870171e+03]\n",
      "0.0 [ -4.72593585e-05  -1.79167222e-02   1.25409170e+00] [  1.29155308e-03  -4.15500531e-02   4.73119632e+00]\n",
      "This is the average radius of curvature of the anes 10973.1436328\n"
     ]
    },
    {
     "name": "stderr",
     "output_type": "stream",
     "text": [
      "\r",
      " 77%|███████▋  | 977/1261 [11:42<03:29,  1.36it/s]"
     ]
    },
    {
     "name": "stdout",
     "output_type": "stream",
     "text": [
      "940.461920849\n",
      "0.0 [ -1.64822857e-05  -8.59392163e-02   3.35304172e+02] [  1.44278517e-04  -2.23811457e-01   1.27576609e+03]\n",
      "0.0 [ -1.40508190e-04  -1.52628048e-02   1.24062544e+00] [  1.22994550e-03  -3.97489147e-02   4.72033454e+00]\n",
      "This is the average radius of curvature of the anes 3967.24086421\n"
     ]
    },
    {
     "name": "stderr",
     "output_type": "stream",
     "text": [
      "\r",
      " 78%|███████▊  | 978/1261 [11:42<03:24,  1.38it/s]"
     ]
    },
    {
     "name": "stdout",
     "output_type": "stream",
     "text": [
      "935.554013187\n",
      "0.0 [ -1.20138108e-05  -8.65726832e-02   3.36387801e+02] [  1.52102987e-04  -2.22779689e-01   1.27194181e+03]\n",
      "0.0 [ -1.02415334e-04  -1.53753085e-02   1.24463486e+00] [  1.29664754e-03  -3.95656727e-02   4.70618471e+00]\n",
      "This is the average radius of curvature of the anes 5270.32834993\n"
     ]
    },
    {
     "name": "stderr",
     "output_type": "stream",
     "text": [
      "\r",
      " 78%|███████▊  | 979/1261 [11:43<03:25,  1.38it/s]"
     ]
    },
    {
     "name": "stdout",
     "output_type": "stream",
     "text": [
      "920.527512915\n",
      "0.0 [ -2.10295485e-06  -9.36333227e-02   3.39236542e+02] [  1.06533622e-04  -1.77722689e-01   1.25976405e+03]\n",
      "0.0 [ -1.79272695e-05  -1.66292781e-02   1.25517520e+00] [  9.08177825e-04  -3.15635496e-02   4.66112700e+00]\n",
      "This is the average radius of curvature of the anes 28453.417178\n"
     ]
    },
    {
     "name": "stderr",
     "output_type": "stream",
     "text": [
      "\r",
      " 78%|███████▊  | 980/1261 [11:44<03:23,  1.38it/s]"
     ]
    },
    {
     "name": "stdout",
     "output_type": "stream",
     "text": [
      "910.925635795\n",
      "0.0 [  6.38789370e-07  -9.43164449e-02   3.40395428e+02] [  6.02131731e-05  -1.39969050e-01   1.25132106e+03]\n",
      "0.0 [  5.44555162e-06  -1.67506006e-02   1.25946308e+00] [  5.13305258e-04  -2.48585032e-02   4.62988794e+00]\n",
      "This is the average radius of curvature of the anes 92831.6915198\n"
     ]
    },
    {
     "name": "stderr",
     "output_type": "stream",
     "text": [
      "\r",
      " 78%|███████▊  | 981/1261 [11:45<03:31,  1.32it/s]"
     ]
    },
    {
     "name": "stdout",
     "output_type": "stream",
     "text": [
      "907.755124467\n",
      "0.0 [  3.16623658e-06  -9.39589872e-02   3.40721515e+02] [  2.40330959e-05  -1.17155867e-01   1.24847664e+03]\n",
      "0.0 [  2.69915336e-05  -1.66871161e-02   1.26066961e+00] [  2.04877336e-04  -2.08068820e-02   4.61936357e+00]\n",
      "This is the average radius of curvature of the anes 20974.1348468\n"
     ]
    },
    {
     "name": "stderr",
     "output_type": "stream",
     "text": [
      "\r",
      " 78%|███████▊  | 982/1261 [11:45<03:34,  1.30it/s]"
     ]
    },
    {
     "name": "stdout",
     "output_type": "stream",
     "text": [
      "903.941024694\n",
      "0.0 [  7.51502747e-06  -9.57311703e-02   3.41054225e+02] [ -1.87904681e-05  -8.47865693e-02   1.24385685e+03]\n",
      "0.0 [  6.40641062e-05  -1.70018559e-02   1.26190063e+00] [ -1.60184982e-04  -1.50580947e-02   4.60227036e+00]\n",
      "This is the average radius of curvature of the anes 10930.5196261\n"
     ]
    },
    {
     "name": "stderr",
     "output_type": "stream",
     "text": [
      "\r",
      " 78%|███████▊  | 983/1261 [11:46<03:40,  1.26it/s]"
     ]
    },
    {
     "name": "stdout",
     "output_type": "stream",
     "text": [
      "904.088047649\n",
      "0.0 [  1.12909580e-05  -9.65522145e-02   3.41127222e+02] [ -4.56108831e-05  -5.59658965e-02   1.23797804e+03]\n",
      "0.0 [  9.62531589e-05  -1.71476733e-02   1.26217072e+00] [ -3.88823657e-04  -9.93954321e-03   4.58051874e+00]\n",
      "This is the average radius of curvature of the anes 6483.04659973\n"
     ]
    },
    {
     "name": "stderr",
     "output_type": "stream",
     "text": [
      "\r",
      " 78%|███████▊  | 984/1261 [11:47<03:41,  1.25it/s]"
     ]
    },
    {
     "name": "stdout",
     "output_type": "stream",
     "text": [
      "905.741199327\n",
      "0.0 [  1.47474814e-05  -9.83022117e-02   3.41250884e+02] [ -4.27532629e-05  -4.99564850e-02   1.23683001e+03]\n",
      "0.0 [  1.25719329e-04  -1.74584728e-02   1.26262827e+00] [ -3.64463015e-04  -8.87227174e-03   4.57627103e+00]\n",
      "This is the average radius of curvature of the anes 5350.97493073\n"
     ]
    },
    {
     "name": "stderr",
     "output_type": "stream",
     "text": [
      "\r",
      " 78%|███████▊  | 985/1261 [11:48<03:43,  1.24it/s]"
     ]
    },
    {
     "name": "stdout",
     "output_type": "stream",
     "text": [
      "907.265326758\n",
      "0.0 [  2.08397185e-05  -1.02060774e-01   3.41567125e+02] [ -5.21848596e-05  -3.25516277e-02   1.23229172e+03]\n",
      "0.0 [  1.77654432e-04  -1.81259935e-02   1.26379836e+00] [ -4.44865491e-04  -5.78116907e-03   4.55947935e+00]\n",
      "This is the average radius of curvature of the anes 3939.83145431\n"
     ]
    },
    {
     "name": "stderr",
     "output_type": "stream",
     "text": [
      "\r",
      " 78%|███████▊  | 986/1261 [11:49<03:44,  1.22it/s]"
     ]
    },
    {
     "name": "stdout",
     "output_type": "stream",
     "text": [
      "908.904571994\n",
      "0.0 [  3.54017382e-05  -1.12234845e-01   3.42446736e+02] [ -7.23351762e-05  -3.66699769e-03   1.22400001e+03]\n",
      "0.0 [  3.01792737e-04  -1.99329084e-02   1.26705292e+00] [ -6.16642910e-04  -6.51258790e-04   4.52880005e+00]\n",
      "This is the average radius of curvature of the anes 2468.59624119\n"
     ]
    },
    {
     "name": "stderr",
     "output_type": "stream",
     "text": [
      "\r",
      " 78%|███████▊  | 987/1261 [11:50<03:42,  1.23it/s]"
     ]
    },
    {
     "name": "stdout",
     "output_type": "stream",
     "text": [
      "911.556519899\n",
      "0.0 [  4.85131457e-05  -1.24051415e-01   3.43530047e+02] [ -1.09838346e-04   4.25140051e-02   1.21128521e+03]\n",
      "0.0 [  4.13564865e-04  -2.20315313e-02   1.27106118e+00] [ -9.36349928e-04   7.55048730e-03   4.48175529e+00]\n",
      "This is the average radius of curvature of the anes 1743.9146139\n"
     ]
    },
    {
     "name": "stderr",
     "output_type": "stream",
     "text": [
      "\r",
      " 78%|███████▊  | 988/1261 [11:50<03:43,  1.22it/s]"
     ]
    },
    {
     "name": "stdout",
     "output_type": "stream",
     "text": [
      "908.547030558\n",
      "0.0 [  5.52943115e-05  -1.30797426e-01   3.44221356e+02] [ -2.79669141e-05  -1.77034921e-02   1.21436444e+03]\n",
      "0.0 [  4.71372947e-04  -2.32296228e-02   1.27361902e+00] [ -2.38412349e-04  -3.14414020e-03   4.49314844e+00]\n",
      "This is the average radius of curvature of the anes 3158.82781377\n"
     ]
    },
    {
     "name": "stderr",
     "output_type": "stream",
     "text": [
      "\r",
      " 78%|███████▊  | 989/1261 [11:51<03:47,  1.19it/s]"
     ]
    },
    {
     "name": "stdout",
     "output_type": "stream",
     "text": [
      "925.663982711\n",
      "0.0 [  5.40078113e-05  -1.34131636e-01   3.44187799e+02] [  7.13805311e-05  -8.06567653e-02   1.22242233e+03]\n",
      "0.0 [  4.60405790e-04  -2.38217785e-02   1.27349486e+00] [  6.08504752e-04  -1.43246415e-02   4.52296263e+00]\n",
      "This is the average radius of curvature of the anes 1908.86224848\n"
     ]
    },
    {
     "name": "stderr",
     "output_type": "stream",
     "text": [
      "\r",
      " 79%|███████▊  | 990/1261 [11:52<03:54,  1.15it/s]"
     ]
    },
    {
     "name": "stdout",
     "output_type": "stream",
     "text": [
      "944.481255641\n",
      "0.0 [  5.04844956e-05  -1.36375404e-01   3.43507378e+02] [  2.10042752e-04  -1.83305314e-01   1.23924584e+03]\n",
      "0.0 [  4.30370228e-04  -2.42202718e-02   1.27097730e+00] [  1.79057245e-03  -3.25550237e-02   4.58520962e+00]\n",
      "This is the average radius of curvature of the anes 1442.49719322\n"
     ]
    },
    {
     "name": "stderr",
     "output_type": "stream",
     "text": [
      "\r",
      " 79%|███████▊  | 991/1261 [11:53<03:49,  1.18it/s]"
     ]
    },
    {
     "name": "stdout",
     "output_type": "stream",
     "text": [
      "960.464775589\n",
      "0.0 [  3.80006325e-05  -1.28460196e-01   3.39772094e+02] [  3.42651111e-04  -2.87123351e-01   1.25682326e+03]\n",
      "0.0 [  3.23947792e-04  -2.28145307e-02   1.25715675e+00] [  2.92103219e-03  -5.09931071e-02   4.65024607e+00]\n",
      "This is the average radius of curvature of the anes 1716.50425515\n"
     ]
    },
    {
     "name": "stderr",
     "output_type": "stream",
     "text": [
      "\r",
      " 79%|███████▊  | 992/1261 [11:54<03:50,  1.17it/s]"
     ]
    },
    {
     "name": "stdout",
     "output_type": "stream",
     "text": [
      "965.297014383\n",
      "0.0 [  2.78023671e-05  -1.19541603e-01   3.34849908e+02] [  4.16972768e-04  -3.62608046e-01   1.27372578e+03]\n",
      "0.0 [  2.37009619e-04  -2.12305886e-02   1.23894466e+00] [  3.55460946e-03  -6.43991889e-02   4.71278537e+00]\n",
      "This is the average radius of curvature of the anes 2252.58388888\n"
     ]
    },
    {
     "name": "stderr",
     "output_type": "stream",
     "text": [
      "\r",
      " 79%|███████▊  | 993/1261 [11:55<03:52,  1.15it/s]"
     ]
    },
    {
     "name": "stdout",
     "output_type": "stream",
     "text": [
      "967.946271656\n",
      "0.0 [  3.29104965e-05  -1.25572620e-01   3.34677912e+02] [  4.93947984e-04  -4.25418826e-01   1.27987520e+03]\n",
      "0.0 [  2.80555400e-04  -2.23016974e-02   1.23830827e+00] [  4.21080777e-03  -7.55543834e-02   4.73553826e+00]\n",
      "This is the average radius of curvature of the anes 1903.26922546\n"
     ]
    },
    {
     "name": "stderr",
     "output_type": "stream",
     "text": [
      "\r",
      " 79%|███████▉  | 994/1261 [11:56<03:55,  1.13it/s]"
     ]
    },
    {
     "name": "stdout",
     "output_type": "stream",
     "text": [
      "976.921311573\n",
      "0.0 [  3.59589151e-05  -1.29504744e-01   3.34332111e+02] [  6.76131199e-04  -5.84466413e-01   1.30742676e+03]\n",
      "0.0 [  3.06542559e-04  -2.30000425e-02   1.23702881e+00] [ 0.00576388 -0.10380123  4.83747901]\n",
      "This is the average radius of curvature of the anes 1720.54218584\n"
     ]
    },
    {
     "name": "stderr",
     "output_type": "stream",
     "text": [
      "\r",
      " 79%|███████▉  | 995/1261 [11:57<03:54,  1.13it/s]"
     ]
    },
    {
     "name": "stdout",
     "output_type": "stream",
     "text": [
      "1001.89628629\n",
      "0.0 [  4.02298204e-05  -1.34559342e-01   3.34551303e+02] [  8.21693580e-04  -7.35083964e-01   1.33644759e+03]\n",
      "0.0 [  3.42951173e-04  -2.38977392e-02   1.23783982e+00] [ 0.00700477 -0.13055091  4.94485608]\n",
      "This is the average radius of curvature of the anes 1532.3951083\n"
     ]
    },
    {
     "name": "stderr",
     "output_type": "stream",
     "text": [
      "\r",
      " 79%|███████▉  | 996/1261 [11:58<03:58,  1.11it/s]"
     ]
    },
    {
     "name": "stdout",
     "output_type": "stream",
     "text": [
      "1053.56121669\n",
      "0.0 [  5.58161215e-05  -1.46223853e-01   3.35229871e+02] [  9.85852739e-04  -9.38203192e-01   1.38879109e+03]\n",
      "0.0 [  4.75821273e-04  -2.59693562e-02   1.24035052e+00] [ 0.0084042  -0.16662489  5.13852702]\n",
      "This is the average radius of curvature of the anes 1113.86679743\n"
     ]
    },
    {
     "name": "stderr",
     "output_type": "stream",
     "text": [
      "\r",
      " 79%|███████▉  | 997/1261 [11:58<04:01,  1.09it/s]"
     ]
    },
    {
     "name": "stdout",
     "output_type": "stream",
     "text": [
      "1067.65100964\n",
      "0.0 [  9.56498732e-05  -1.71774169e-01   3.34708570e+02] [  9.71836518e-04  -9.65942817e-01   1.40235958e+03]\n",
      "0.0 [  8.15396039e-04  -3.05070924e-02   1.23842171e+00] [ 0.00828471 -0.17155144  5.18873045]\n",
      "This is the average radius of curvature of the anes 677.091066719\n"
     ]
    },
    {
     "name": "stderr",
     "output_type": "stream",
     "text": [
      "\r",
      " 79%|███████▉  | 998/1261 [11:59<04:05,  1.07it/s]"
     ]
    },
    {
     "name": "stdout",
     "output_type": "stream",
     "text": [
      "1087.5396326\n",
      "0.0 [  1.28974524e-04  -1.95509218e-01   3.34688394e+02] [  9.59957785e-04  -1.00528914e+00   1.42222803e+03]\n",
      "0.0 [  1.09948202e-03  -3.47224372e-02   1.23834706e+00] [ 0.00818345 -0.17853935  5.2622437 ]\n",
      "This is the average radius of curvature of the anes 519.625774779\n"
     ]
    },
    {
     "name": "stderr",
     "output_type": "stream",
     "text": [
      "\r",
      " 79%|███████▉  | 999/1261 [12:00<04:07,  1.06it/s]"
     ]
    },
    {
     "name": "stdout",
     "output_type": "stream",
     "text": [
      "1138.84066587\n",
      "0.0 [  1.87875324e-04  -2.40474013e-01   3.34974476e+02] [  1.03894580e-03  -1.14897625e+00   1.47381514e+03]\n",
      "0.0 [ 0.0016016  -0.04270818  1.23940556] [ 0.00885681 -0.20405818  5.45311603]\n",
      "This is the average radius of curvature of the anes 373.058728749\n"
     ]
    },
    {
     "name": "stderr",
     "output_type": "stream",
     "text": [
      "\r",
      " 79%|███████▉  | 1000/1261 [12:01<04:06,  1.06it/s]"
     ]
    },
    {
     "name": "stdout",
     "output_type": "stream",
     "text": [
      "1184.75875372\n",
      "0.0 [  2.10459960e-04  -2.63084922e-01   3.34527192e+02] [  1.10620387e-03  -1.27461905e+00   1.51928595e+03]\n",
      "0.0 [ 0.00179413 -0.04672388  1.23775061] [ 0.00943017 -0.22637234  5.621358  ]\n",
      "This is the average radius of curvature of the anes 336.74853874\n"
     ]
    },
    {
     "name": "stderr",
     "output_type": "stream",
     "text": [
      "\r",
      " 79%|███████▉  | 1001/1261 [12:02<04:04,  1.06it/s]"
     ]
    },
    {
     "name": "stdout",
     "output_type": "stream",
     "text": [
      "1223.16995184\n",
      "0.0 [  2.19333938e-04  -2.78051824e-01   3.32567748e+02] [  1.12344913e-03  -1.34443716e+00   1.55573770e+03]\n",
      "0.0 [ 0.00186978 -0.049382    1.23050067] [ 0.00957718 -0.23877204  5.75622949]\n",
      "This is the average radius of curvature of the anes 325.125350079\n"
     ]
    },
    {
     "name": "stderr",
     "output_type": "stream",
     "text": [
      "\r",
      " 79%|███████▉  | 1002/1261 [12:03<04:06,  1.05it/s]"
     ]
    },
    {
     "name": "stdout",
     "output_type": "stream",
     "text": [
      "1126.88916089\n",
      "0.0 [  2.62323755e-04  -3.21949527e-01   3.32881211e+02] [  7.44473003e-04  -9.45988837e-01   1.45977037e+03]\n",
      "0.0 [ 0.00223626 -0.05717824  1.23166048] [ 0.00634648 -0.16800762  5.40115038]\n",
      "This is the average radius of curvature of the anes 306.828127603\n"
     ]
    },
    {
     "name": "stderr",
     "output_type": "stream",
     "text": [
      "\r",
      " 80%|███████▉  | 1003/1261 [12:04<03:59,  1.08it/s]"
     ]
    },
    {
     "name": "stdout",
     "output_type": "stream",
     "text": [
      "1083.7749452\n",
      "0.0 [  3.13963121e-04  -3.77129627e-01   3.36273009e+02] [  5.74738250e-04  -7.71098486e-01   1.42004795e+03]\n",
      "0.0 [ 0.00267647 -0.06697822  1.24421013] [  4.89952863e-03  -1.36947091e-01   5.25417743e+00]\n",
      "This is the average radius of curvature of the anes 293.006444105\n"
     ]
    },
    {
     "name": "stderr",
     "output_type": "stream",
     "text": [
      "\r",
      " 80%|███████▉  | 1004/1261 [12:05<03:56,  1.09it/s]"
     ]
    },
    {
     "name": "stdout",
     "output_type": "stream",
     "text": [
      "1039.19112284\n",
      "0.0 [  3.70416699e-04  -4.35084167e-01   3.39634697e+02] [  4.18923507e-04  -5.98121037e-01   1.37882582e+03]\n",
      "0.0 [ 0.00315773 -0.07727095  1.25664838] [  3.57123911e-03  -1.06226296e-01   5.10165553e+00]\n",
      "This is the average radius of curvature of the anes 302.145805613\n"
     ]
    },
    {
     "name": "stderr",
     "output_type": "stream",
     "text": [
      "\r",
      " 80%|███████▉  | 1005/1261 [12:06<03:55,  1.09it/s]"
     ]
    },
    {
     "name": "stdout",
     "output_type": "stream",
     "text": [
      "997.078714541\n",
      "0.0 [  4.22671118e-04  -4.87267081e-01   3.46411703e+02] [  2.19161677e-04  -3.84324283e-01   1.33047233e+03]\n",
      "0.0 [ 0.00360319 -0.08653863  1.2817233 ] [  1.86830946e-03  -6.82559927e-02   4.92274760e+00]\n",
      "This is the average radius of curvature of the anes 409.82180151\n"
     ]
    },
    {
     "name": "stderr",
     "output_type": "stream",
     "text": [
      "\r",
      " 80%|███████▉  | 1006/1261 [12:07<03:51,  1.10it/s]"
     ]
    },
    {
     "name": "stdout",
     "output_type": "stream",
     "text": [
      "982.037585694\n",
      "0.0 [  3.87739462e-04  -4.49174034e-01   3.38330509e+02] [  1.38243197e-04  -2.38277950e-01   1.27580117e+03]\n",
      "0.0 [ 0.0033054  -0.07977331  1.25182288] [  1.17849560e-03  -4.23181639e-02   4.72046432e+00]\n",
      "This is the average radius of curvature of the anes 578.123726202\n"
     ]
    },
    {
     "name": "stderr",
     "output_type": "stream",
     "text": [
      "\r",
      " 80%|███████▉  | 1007/1261 [12:08<03:48,  1.11it/s]"
     ]
    },
    {
     "name": "stdout",
     "output_type": "stream",
     "text": [
      "976.767870785\n",
      "0.0 [  3.37004865e-04  -3.98614865e-01   3.27495246e+02] [  1.54930013e-04  -2.20789296e-01   1.26084427e+03]\n",
      "0.0 [ 0.0028729  -0.070794    1.21173241] [  1.32074738e-03  -3.92121790e-02   4.66512381e+00]\n",
      "This is the average radius of curvature of the anes 554.797248908\n"
     ]
    },
    {
     "name": "stderr",
     "output_type": "stream",
     "text": [
      "\r",
      " 80%|███████▉  | 1008/1261 [12:09<03:42,  1.14it/s]"
     ]
    },
    {
     "name": "stdout",
     "output_type": "stream",
     "text": [
      "968.780052869\n",
      "0.0 [  3.18089370e-04  -3.78529306e-01   3.25521420e+02] [  2.25640901e-04  -2.47124043e-01   1.24760697e+03]\n",
      "0.0 [ 0.00271165 -0.0672268   1.20442925] [  1.92354355e-03  -4.38892300e-02   4.61614580e+00]\n",
      "This is the average radius of curvature of the anes 446.329465351\n"
     ]
    },
    {
     "name": "stderr",
     "output_type": "stream",
     "text": [
      "\r",
      " 80%|████████  | 1009/1261 [12:09<03:43,  1.13it/s]"
     ]
    },
    {
     "name": "stdout",
     "output_type": "stream",
     "text": [
      "969.970085794\n",
      "0.0 [  2.97029975e-04  -3.60144329e-01   3.22693760e+02] [  2.90449518e-04  -2.87752965e-01   1.24401629e+03]\n",
      "0.0 [ 0.00253212 -0.06396163  1.19396691] [  2.47602405e-03  -5.11049266e-02   4.60286029e+00]\n",
      "This is the average radius of curvature of the anes 401.404169727\n"
     ]
    },
    {
     "name": "stderr",
     "output_type": "stream",
     "text": [
      "\r",
      " 80%|████████  | 1010/1261 [12:10<03:38,  1.15it/s]"
     ]
    },
    {
     "name": "stdout",
     "output_type": "stream",
     "text": [
      "966.952911555\n",
      "0.0 [  2.33140232e-04  -3.08004007e-01   3.12758784e+02] [  2.82227288e-04  -2.93839201e-01   1.24415111e+03]\n",
      "0.0 [ 0.00198747 -0.05470151  1.1572075 ] [  2.40593118e-03  -5.21858422e-02   4.60335910e+00]\n",
      "This is the average radius of curvature of the anes 461.374921914\n"
     ]
    },
    {
     "name": "stderr",
     "output_type": "stream",
     "text": [
      "\r",
      " 80%|████████  | 1011/1261 [12:11<03:40,  1.13it/s]"
     ]
    },
    {
     "name": "stdout",
     "output_type": "stream",
     "text": [
      "961.111531356\n",
      "0.0 [  1.72492624e-04  -2.57663676e-01   3.03256311e+02] [  2.73822666e-04  -2.97629694e-01   1.24071973e+03]\n",
      "0.0 [ 0.00147047 -0.04576107  1.12204835] [  2.33428346e-03  -5.28590337e-02   4.59066300e+00]\n",
      "This is the average radius of curvature of the anes 556.193943797\n"
     ]
    },
    {
     "name": "stderr",
     "output_type": "stream",
     "text": [
      "\r",
      " 80%|████████  | 1012/1261 [12:12<03:37,  1.14it/s]"
     ]
    },
    {
     "name": "stdout",
     "output_type": "stream",
     "text": [
      "962.496752573\n",
      "0.0 [  1.11676745e-04  -1.96878893e-01   2.83502649e+02] [  2.22240471e-04  -2.77262164e-01   1.24599940e+03]\n",
      "0.0 [  9.52021918e-04  -3.49656913e-02   1.04895980e+00] [  1.89455557e-03  -4.92417604e-02   4.61019779e+00]\n",
      "This is the average radius of curvature of the anes 791.036055997\n"
     ]
    },
    {
     "name": "stderr",
     "output_type": "stream",
     "text": [
      "\r",
      " 80%|████████  | 1013/1261 [12:13<03:38,  1.14it/s]"
     ]
    },
    {
     "name": "stdout",
     "output_type": "stream",
     "text": [
      "988.424152704\n",
      "0.0 [  6.45607595e-05  -1.45669753e-01   2.64652669e+02] [  2.38790612e-04  -3.06738103e-01   1.25307682e+03]\n",
      "0.0 [  5.50367563e-04  -2.58709481e-02   9.79214875e-01] [  2.03564221e-03  -5.44766870e-02   4.63638424e+00]\n",
      "This is the average radius of curvature of the anes 1156.11295314\n"
     ]
    },
    {
     "name": "stderr",
     "output_type": "stream",
     "text": [
      "\r",
      " 80%|████████  | 1014/1261 [12:14<03:33,  1.16it/s]"
     ]
    },
    {
     "name": "stdout",
     "output_type": "stream",
     "text": [
      "995.373661016\n",
      "0.0 [  7.26677647e-05  -1.44813284e-01   2.59172999e+02] [  2.37174342e-04  -3.11504988e-01   1.25454666e+03]\n",
      "0.0 [  6.19478160e-04  -2.57188393e-02   9.58940095e-01] [  2.02186383e-03  -5.53232859e-02   4.64182264e+00]\n",
      "This is the average radius of curvature of the anes 1056.36469558\n"
     ]
    },
    {
     "name": "stderr",
     "output_type": "stream",
     "text": [
      "\r",
      " 80%|████████  | 1015/1261 [12:15<03:31,  1.16it/s]"
     ]
    },
    {
     "name": "stdout",
     "output_type": "stream",
     "text": [
      "1006.45308834\n",
      "0.0 [  5.29825075e-05  -1.21066193e-01   2.49064515e+02] [  2.23959001e-04  -3.07579914e-01   1.25551760e+03]\n",
      "0.0 [  4.51665280e-04  -2.15013559e-02   9.21538706e-01] [  1.90920569e-03  -5.46261926e-02   4.64541513e+00]\n",
      "This is the average radius of curvature of the anes 1370.84434546\n"
     ]
    },
    {
     "name": "stderr",
     "output_type": "stream",
     "text": [
      "\r",
      " 81%|████████  | 1016/1261 [12:15<03:24,  1.20it/s]"
     ]
    },
    {
     "name": "stdout",
     "output_type": "stream",
     "text": [
      "1013.73666164\n",
      "0.0 [  5.05631954e-05  -1.14512955e-01   2.44939728e+02] [  2.26134152e-04  -3.17393409e-01   1.25867639e+03]\n",
      "0.0 [  4.31041129e-04  -2.03375008e-02   9.06276994e-01] [  1.92774842e-03  -5.63690695e-02   4.65710264e+00]\n",
      "This is the average radius of curvature of the anes 1421.30900333\n"
     ]
    },
    {
     "name": "stderr",
     "output_type": "stream",
     "text": [
      "\r",
      " 81%|████████  | 1017/1261 [12:16<03:19,  1.22it/s]"
     ]
    },
    {
     "name": "stdout",
     "output_type": "stream",
     "text": [
      "1019.84927997\n",
      "0.0 [  5.48150174e-05  -1.13746571e-01   2.41872683e+02] [  2.10883990e-04  -3.17726235e-01   1.26172196e+03]\n",
      "0.0 [  4.67287061e-04  -2.02013910e-02   8.94928927e-01] [  1.79774384e-03  -5.64281793e-02   4.66837126e+00]\n",
      "This is the average radius of curvature of the anes 1350.11698815\n"
     ]
    },
    {
     "name": "stderr",
     "output_type": "stream",
     "text": [
      "\r",
      " 81%|████████  | 1018/1261 [12:17<03:14,  1.25it/s]"
     ]
    },
    {
     "name": "stdout",
     "output_type": "stream",
     "text": [
      "1008.36100701\n",
      "0.0 [  5.09219433e-05  -1.10906968e-01   2.41149270e+02] [  1.71704569e-04  -2.78453420e-01   1.24951028e+03]\n",
      "0.0 [  4.34099383e-04  -1.96970776e-02   8.92252300e-01] [  1.46374711e-03  -4.94533274e-02   4.62318803e+00]\n",
      "This is the average radius of curvature of the anes 1495.32327939\n"
     ]
    },
    {
     "name": "stderr",
     "output_type": "stream",
     "text": [
      "\r",
      " 81%|████████  | 1019/1261 [12:18<03:11,  1.26it/s]"
     ]
    },
    {
     "name": "stdout",
     "output_type": "stream",
     "text": [
      "1003.74592042\n",
      "0.0 [  4.08535821e-05  -1.02790669e-01   2.39440894e+02] [  1.16134763e-04  -2.35027946e-01   1.24318681e+03]\n",
      "0.0 [  3.48268616e-04  -1.82556228e-02   8.85931308e-01] [  9.90025629e-04  -4.17409632e-02   4.59979121e+00]\n",
      "This is the average radius of curvature of the anes 1942.74908958\n"
     ]
    },
    {
     "name": "stderr",
     "output_type": "stream",
     "text": [
      "\r",
      " 81%|████████  | 1020/1261 [12:18<03:10,  1.26it/s]"
     ]
    },
    {
     "name": "stdout",
     "output_type": "stream",
     "text": [
      "1007.63571733\n",
      "0.0 [  3.81894416e-05  -1.00665171e-01   2.37980992e+02] [  7.22418431e-05  -2.09944208e-01   1.24561671e+03]\n",
      "0.0 [  3.25557352e-04  -1.78781344e-02   8.80529671e-01] [  6.15847264e-04  -3.72860913e-02   4.60878183e+00]\n",
      "This is the average radius of curvature of the anes 2350.14740665\n"
     ]
    },
    {
     "name": "stderr",
     "output_type": "stream",
     "text": [
      "\r",
      " 81%|████████  | 1021/1261 [12:19<03:11,  1.25it/s]"
     ]
    },
    {
     "name": "stdout",
     "output_type": "stream",
     "text": [
      "1001.2990209\n",
      "0.0 [  4.53953816e-05  -1.04618442e-01   2.38295928e+02] [  8.36661282e-05  -2.08090982e-01   1.23959495e+03]\n",
      "0.0 [  3.86986549e-04  -1.85802354e-02   8.81694932e-01] [  7.13237010e-04  -3.69569585e-02   4.58650131e+00]\n",
      "This is the average radius of curvature of the anes 1995.16964182\n"
     ]
    },
    {
     "name": "stderr",
     "output_type": "stream",
     "text": [
      "\r",
      " 81%|████████  | 1022/1261 [12:20<03:09,  1.26it/s]"
     ]
    },
    {
     "name": "stdout",
     "output_type": "stream",
     "text": [
      "1003.87312314\n",
      "0.0 [  4.28621492e-05  -1.05514459e-01   2.38208016e+02] [  8.68666752e-05  -2.09338902e-01   1.24208114e+03]\n",
      "0.0 [  3.65391249e-04  -1.87393679e-02   8.81369659e-01] [  7.40521033e-04  -3.71785890e-02   4.59570021e+00]\n",
      "This is the average radius of curvature of the anes 2045.71776037\n"
     ]
    },
    {
     "name": "stderr",
     "output_type": "stream",
     "text": [
      "\r",
      " 81%|████████  | 1023/1261 [12:21<03:09,  1.26it/s]"
     ]
    },
    {
     "name": "stdout",
     "output_type": "stream",
     "text": [
      "1012.89550521\n",
      "0.0 [  3.91184234e-05  -1.04070960e-01   2.34614385e+02] [  8.78983237e-05  -2.14657991e-01   1.24750989e+03]\n",
      "0.0 [  3.33476735e-04  -1.84830024e-02   8.68073224e-01] [  7.49315630e-04  -3.81232591e-02   4.61578659e+00]\n",
      "This is the average radius of curvature of the anes 2168.85414114\n"
     ]
    },
    {
     "name": "stderr",
     "output_type": "stream",
     "text": [
      "\r",
      " 81%|████████  | 1024/1261 [12:22<03:08,  1.26it/s]"
     ]
    },
    {
     "name": "stdout",
     "output_type": "stream",
     "text": [
      "1023.08400976\n",
      "0.0 [  3.06629042e-05  -9.56816978e-02   2.28803533e+02] [  9.13705907e-05  -2.20515879e-01   1.25188754e+03]\n",
      "0.0 [  2.61395125e-04  -1.69930695e-02   8.46573073e-01] [  7.78916012e-04  -3.91636201e-02   4.63198391e+00]\n",
      "This is the average radius of curvature of the anes 2557.03675973\n"
     ]
    },
    {
     "name": "stderr",
     "output_type": "stream",
     "text": [
      "\r",
      " 81%|████████▏ | 1025/1261 [12:22<03:06,  1.26it/s]"
     ]
    },
    {
     "name": "stdout",
     "output_type": "stream",
     "text": [
      "1032.13363869\n",
      "0.0 [  4.67972693e-05  -1.04151451e-01   2.24233517e+02] [  9.36742356e-05  -2.24618676e-01   1.25636716e+03]\n",
      "0.0 [  3.98937361e-04  -1.84972977e-02   8.29664014e-01] [  7.98554123e-04  -3.98922769e-02   4.64855848e+00]\n",
      "This is the average radius of curvature of the anes 1881.5997505\n"
     ]
    },
    {
     "name": "stderr",
     "output_type": "stream",
     "text": [
      "\r",
      " 81%|████████▏ | 1026/1261 [12:23<03:01,  1.29it/s]"
     ]
    },
    {
     "name": "stdout",
     "output_type": "stream",
     "text": [
      "1009.88802313\n",
      "0.0 [  7.86088329e-05  -1.31481664e-01   2.28806509e+02] [  7.01283684e-05  -1.86721056e-01   1.23869453e+03]\n",
      "0.0 [  6.70124578e-04  -2.33511436e-02   8.46584081e-01] [  5.97830315e-04  -3.31616595e-02   4.58316977e+00]\n",
      "This is the average radius of curvature of the anes 1584.47798488\n"
     ]
    },
    {
     "name": "stderr",
     "output_type": "stream",
     "text": [
      "\r",
      " 81%|████████▏ | 1027/1261 [12:24<02:59,  1.30it/s]"
     ]
    },
    {
     "name": "stdout",
     "output_type": "stream",
     "text": [
      "1010.98856017\n",
      "0.0 [  5.69992030e-05  -1.10008051e-01   2.23729517e+02] [  1.55614677e-04  -2.29837657e-01   1.23471808e+03]\n",
      "0.0 [  4.85906805e-04  -1.95374298e-02   8.27799214e-01] [  1.32658400e-03  -4.08191679e-02   4.56845689e+00]\n",
      "This is the average radius of curvature of the anes 1407.44344397\n"
     ]
    },
    {
     "name": "stderr",
     "output_type": "stream",
     "text": [
      "\r",
      " 82%|████████▏ | 1028/1261 [12:25<02:55,  1.33it/s]"
     ]
    },
    {
     "name": "stdout",
     "output_type": "stream",
     "text": [
      "1015.01565895\n",
      "0.0 [ -4.16293416e-07  -4.71202456e-02   2.07720178e+02] [  1.73282099e-04  -2.25100050e-01   1.22273584e+03]\n",
      "0.0 [ -3.54881811e-06  -8.36855562e-03   7.68564660e-01] [  1.47719524e-03  -3.99777689e-02   4.52412260e+00]\n",
      "This is the average radius of curvature of the anes 141246.069051\n"
     ]
    },
    {
     "name": "stderr",
     "output_type": "stream",
     "text": [
      "\r",
      " 82%|████████▏ | 1029/1261 [12:25<02:52,  1.34it/s]"
     ]
    },
    {
     "name": "stdout",
     "output_type": "stream",
     "text": [
      "1014.8333571\n",
      "0.0 [ -2.48632686e-05  -1.30649380e-02   1.97201809e+02] [  1.83111224e-04  -2.18801337e-01   1.21203517e+03]\n",
      "0.0 [ -2.11954392e-04  -2.32033299e-03   7.29646694e-01] [  1.56098656e-03  -3.88591175e-02   4.48453012e+00]\n",
      "This is the average radius of curvature of the anes 2680.05315988\n"
     ]
    },
    {
     "name": "stderr",
     "output_type": "stream",
     "text": [
      "\r",
      " 82%|████████▏ | 1030/1261 [12:26<02:50,  1.36it/s]"
     ]
    },
    {
     "name": "stdout",
     "output_type": "stream",
     "text": [
      "1018.13086197\n",
      "0.0 [ -3.72634634e-05   5.93596874e-03   1.90293156e+02] [  1.34074597e-04  -1.88472389e-01   1.20842402e+03]\n",
      "0.0 [ -3.17663573e-04   1.05422805e-03   7.04084678e-01] [  1.14295912e-03  -3.34726963e-02   4.47116887e+00]\n",
      "This is the average radius of curvature of the anes 2012.19124988\n"
     ]
    },
    {
     "name": "stderr",
     "output_type": "stream",
     "text": [
      "\r",
      " 82%|████████▏ | 1031/1261 [12:27<03:04,  1.24it/s]"
     ]
    },
    {
     "name": "stdout",
     "output_type": "stream",
     "text": [
      "1021.67446637\n",
      "0.0 [ -5.19137195e-05   2.26106283e-02   1.85242822e+02] [  1.09797482e-04  -1.80843583e-01   1.20691729e+03]\n",
      "0.0 [ -4.42554076e-04   4.01564759e-03   6.85398440e-01] [  9.36001575e-04  -3.21178203e-02   4.46559397e+00]\n",
      "This is the average radius of curvature of the anes 1664.84667619\n"
     ]
    },
    {
     "name": "stderr",
     "output_type": "stream",
     "text": [
      "\r",
      " 82%|████████▏ | 1032/1261 [12:28<03:29,  1.09it/s]"
     ]
    },
    {
     "name": "stdout",
     "output_type": "stream",
     "text": [
      "1020.93788619\n",
      "0.0 [ -6.09210160e-05   2.61435856e-02   1.85141563e+02] [  1.02316643e-04  -1.76445345e-01   1.20607945e+03]\n",
      "0.0 [ -5.19339477e-04   4.64310081e-03   6.85023782e-01] [  8.72228918e-04  -3.13366932e-02   4.46249396e+00]\n",
      "This is the average radius of curvature of the anes 1536.88112249\n"
     ]
    },
    {
     "name": "stderr",
     "output_type": "stream",
     "text": [
      "\r",
      " 82%|████████▏ | 1033/1261 [12:30<03:57,  1.04s/it]"
     ]
    },
    {
     "name": "stdout",
     "output_type": "stream",
     "text": [
      "1022.78591407\n",
      "0.0 [ -8.47847939e-05   4.45227253e-02   1.80800026e+02] [  9.01739971e-05  -1.58524431e-01   1.20358594e+03]\n",
      "0.0 [-0.00072277  0.00790724  0.6689601 ] [  7.68715290e-04  -2.81539389e-02   4.45326798e+00]\n",
      "This is the average radius of curvature of the anes 1343.05398902\n"
     ]
    },
    {
     "name": "stderr",
     "output_type": "stream",
     "text": [
      "\r",
      " 82%|████████▏ | 1034/1261 [12:31<04:32,  1.20s/it]"
     ]
    },
    {
     "name": "stdout",
     "output_type": "stream",
     "text": [
      "1023.61278237\n",
      "0.0 [ -9.38878853e-05   5.32646871e-02   1.78857728e+02] [  8.52067522e-05  -1.55218829e-01   1.20247051e+03]\n",
      "0.0 [-0.00080038  0.00945981  0.66177359] [  7.26370521e-04  -2.75668641e-02   4.44914089e+00]\n",
      "This is the average radius of curvature of the anes 1313.92940716\n"
     ]
    },
    {
     "name": "stderr",
     "output_type": "stream",
     "text": [
      "\r",
      " 82%|████████▏ | 1035/1261 [12:33<05:00,  1.33s/it]"
     ]
    },
    {
     "name": "stdout",
     "output_type": "stream",
     "text": [
      "1026.0283817\n",
      "0.0 [ -1.01068243e-04   6.50079013e-02   1.75888201e+02] [  9.90622460e-05  -1.62571522e-01   1.20191658e+03]\n",
      "0.0 [-0.00086159  0.0115454   0.65078634] [  8.44485835e-04  -2.88727023e-02   4.44709136e+00]\n",
      "This is the average radius of curvature of the anes 1173.25754143\n"
     ]
    },
    {
     "name": "stderr",
     "output_type": "stream",
     "text": [
      "\r",
      " 82%|████████▏ | 1036/1261 [12:34<05:21,  1.43s/it]"
     ]
    },
    {
     "name": "stdout",
     "output_type": "stream",
     "text": [
      "1042.65203964\n",
      "0.0 [ -1.55125581e-04   1.22573091e-01   1.63475280e+02] [  1.52978380e-04  -2.10017141e-01   1.20612732e+03]\n",
      "0.0 [-0.00132241  0.02176898  0.60485853] [  1.30411009e-03  -3.72990442e-02   4.46267108e+00]\n",
      "This is the average radius of curvature of the anes 762.568645891\n"
     ]
    },
    {
     "name": "stderr",
     "output_type": "stream",
     "text": [
      "\r",
      " 82%|████████▏ | 1037/1261 [12:36<05:29,  1.47s/it]"
     ]
    },
    {
     "name": "stdout",
     "output_type": "stream",
     "text": [
      "1047.06467363\n",
      "0.0 [ -1.69468353e-04   1.36671751e-01   1.61819976e+02] [  1.78622919e-04  -2.32855575e-01   1.20888465e+03]\n",
      "0.0 [-0.00144468  0.0242729   0.59873391] [  1.52272466e-03  -4.13551500e-02   4.47287320e+00]\n",
      "This is the average radius of curvature of the anes 675.603897058\n"
     ]
    },
    {
     "name": "stderr",
     "output_type": "stream",
     "text": [
      "\r",
      " 82%|████████▏ | 1038/1261 [12:38<05:42,  1.54s/it]"
     ]
    },
    {
     "name": "stdout",
     "output_type": "stream",
     "text": [
      "1033.51672617\n",
      "0.0 [ -1.42003670e-04   9.80996669e-02   1.75750068e+02] [  1.96864722e-04  -2.42514168e-01   1.20926679e+03]\n",
      "0.0 [-0.00121055  0.0174225   0.65027525] [  1.67823238e-03  -4.30705162e-02   4.47428714e+00]\n",
      "This is the average radius of curvature of the anes 711.984418229\n"
     ]
    },
    {
     "name": "stderr",
     "output_type": "stream",
     "text": [
      "\r",
      " 82%|████████▏ | 1039/1261 [12:39<05:50,  1.58s/it]"
     ]
    },
    {
     "name": "stdout",
     "output_type": "stream",
     "text": [
      "1040.23565051\n",
      "0.0 [ -2.04113710e-04   1.50806791e-01   1.69094380e+02] [  1.92595316e-04  -2.44332642e-01   1.20933003e+03]\n",
      "0.0 [-0.00174003  0.02678329  0.62564921] [  1.64183655e-03  -4.33934772e-02   4.47452111e+00]\n",
      "This is the average radius of curvature of the anes 593.058437075\n"
     ]
    },
    {
     "name": "stderr",
     "output_type": "stream",
     "text": [
      "\r",
      " 82%|████████▏ | 1040/1261 [12:41<06:01,  1.64s/it]"
     ]
    },
    {
     "name": "stdout",
     "output_type": "stream",
     "text": [
      "1035.0245253\n",
      "0.0 [ -1.80142015e-04   1.21926983e-01   1.79067419e+02] [  2.25434116e-04  -2.71196638e-01   1.21409194e+03]\n",
      "0.0 [-0.00153567  0.02165423  0.66254945] [  1.92178075e-03  -4.81645229e-02   4.49214019e+00]\n",
      "This is the average radius of curvature of the anes 586.900057468\n"
     ]
    },
    {
     "name": "stderr",
     "output_type": "stream",
     "text": [
      "\r",
      " 83%|████████▎ | 1041/1261 [12:43<06:11,  1.69s/it]"
     ]
    },
    {
     "name": "stdout",
     "output_type": "stream",
     "text": [
      "1020.26691532\n",
      "0.0 [ -9.49935334e-05   3.71958138e-02   1.99045001e+02] [  2.55810670e-04  -2.97501221e-01   1.21931192e+03]\n",
      "0.0 [-0.0008098   0.00660598  0.7364665 ] [  2.18073480e-03  -5.28362169e-02   4.51145409e+00]\n",
      "This is the average radius of curvature of the anes 847.717452005\n"
     ]
    },
    {
     "name": "stderr",
     "output_type": "stream",
     "text": [
      "\r",
      " 83%|████████▎ | 1042/1261 [12:45<05:59,  1.64s/it]"
     ]
    },
    {
     "name": "stdout",
     "output_type": "stream",
     "text": [
      "1006.73749106\n",
      "0.0 [ -3.03532754e-05  -2.38573842e-02   2.13255351e+02] [  2.44531985e-04  -2.95039846e-01   1.21999284e+03]\n",
      "0.0 [ -2.58755602e-04  -4.23707143e-03   7.89044798e-01] [  2.08458627e-03  -5.23990767e-02   4.51397352e+00]\n",
      "This is the average radius of curvature of the anes 2173.22161914\n"
     ]
    },
    {
     "name": "stderr",
     "output_type": "stream",
     "text": [
      "\r",
      " 83%|████████▎ | 1043/1261 [12:46<05:51,  1.61s/it]"
     ]
    },
    {
     "name": "stdout",
     "output_type": "stream",
     "text": [
      "989.058136261\n",
      "0.0 [  1.25755118e-04  -1.65047363e-01   2.38842635e+02] [  2.71473475e-04  -3.26044951e-01   1.22790077e+03]\n",
      "0.0 [ 0.00107204 -0.02931241  0.88371775] [  2.31425708e-03  -5.79055832e-02   4.54323285e+00]\n",
      "This is the average radius of curvature of the anes 684.142569765\n"
     ]
    },
    {
     "name": "stderr",
     "output_type": "stream",
     "text": [
      "\r",
      " 83%|████████▎ | 1044/1261 [12:48<05:47,  1.60s/it]"
     ]
    },
    {
     "name": "stdout",
     "output_type": "stream",
     "text": [
      "979.376248726\n",
      "0.0 [  1.97073590e-04  -2.36309124e-01   2.53645158e+02] [  2.64681236e-04  -3.32518931e-01   1.23302141e+03]\n",
      "0.0 [ 0.00168001 -0.0419685   0.93848708] [  2.25635460e-03  -5.90553622e-02   4.56217920e+00]\n",
      "This is the average radius of curvature of the anes 521.16003721\n"
     ]
    },
    {
     "name": "stderr",
     "output_type": "stream",
     "text": [
      "\r",
      " 83%|████████▎ | 1045/1261 [12:49<05:41,  1.58s/it]"
     ]
    },
    {
     "name": "stdout",
     "output_type": "stream",
     "text": [
      "995.72283279\n",
      "0.0 [  2.24004928e-04  -2.64249694e-01   2.58954960e+02] [  3.51021074e-04  -4.21016891e-01   1.25467779e+03]\n",
      "0.0 [ 0.0019096  -0.04693075  0.95813335] [  2.99238445e-03  -7.47725998e-02   4.64230783e+00]\n",
      "This is the average radius of curvature of the anes 431.194912912\n"
     ]
    },
    {
     "name": "stderr",
     "output_type": "stream",
     "text": [
      "\r",
      " 83%|████████▎ | 1046/1261 [12:50<05:18,  1.48s/it]"
     ]
    },
    {
     "name": "stdout",
     "output_type": "stream",
     "text": [
      "989.70263347\n",
      "0.0 [  2.30862011e-04  -2.77609463e-01   2.64188251e+02] [  3.37623961e-04  -4.11019399e-01   1.25389088e+03]\n",
      "0.0 [ 0.00196805 -0.04930344  0.97749653] [  2.87817674e-03  -7.29970453e-02   4.63939627e+00]\n",
      "This is the average radius of curvature of the anes 430.096652969\n"
     ]
    },
    {
     "name": "stderr",
     "output_type": "stream",
     "text": [
      "\r",
      " 83%|████████▎ | 1047/1261 [12:52<05:03,  1.42s/it]"
     ]
    },
    {
     "name": "stdout",
     "output_type": "stream",
     "text": [
      "994.095031807\n",
      "0.0 [  2.23154227e-04  -2.76801093e-01   2.66487139e+02] [  3.58097012e-04  -4.32587154e-01   1.26058217e+03]\n",
      "0.0 [ 0.00190235 -0.04915987  0.98600241] [  3.05270541e-03  -7.68274786e-02   4.66415403e+00]\n",
      "This is the average radius of curvature of the anes 429.028257161\n"
     ]
    },
    {
     "name": "stderr",
     "output_type": "stream",
     "text": [
      "\r",
      " 83%|████████▎ | 1048/1261 [12:53<04:55,  1.39s/it]"
     ]
    },
    {
     "name": "stdout",
     "output_type": "stream",
     "text": [
      "998.346208845\n",
      "0.0 [  2.28601086e-04  -2.78834983e-01   2.67034549e+02] [  2.95054953e-04  -4.02444122e-01   1.26538076e+03]\n",
      "0.0 [ 0.00194878 -0.04952109  0.98802783] [  2.51528446e-03  -7.14740760e-02   4.68190881e+00]\n",
      "This is the average radius of curvature of the anes 457.825214362\n"
     ]
    },
    {
     "name": "stderr",
     "output_type": "stream",
     "text": [
      "\r",
      " 83%|████████▎ | 1049/1261 [12:54<04:43,  1.34s/it]"
     ]
    },
    {
     "name": "stdout",
     "output_type": "stream",
     "text": [
      "997.686481476\n",
      "0.0 [  2.18032232e-04  -2.71361227e-01   2.65817036e+02] [  2.16360039e-04  -3.50704837e-01   1.26350352e+03]\n",
      "0.0 [ 0.00185868 -0.04819375  0.98352303] [  1.84442606e-03  -6.22851791e-02   4.67496301e+00]\n",
      "This is the average radius of curvature of the anes 542.611768336\n"
     ]
    },
    {
     "name": "stderr",
     "output_type": "stream",
     "text": [
      "\r",
      " 83%|████████▎ | 1050/1261 [12:55<04:23,  1.25s/it]"
     ]
    },
    {
     "name": "stdout",
     "output_type": "stream",
     "text": [
      "998.047605178\n",
      "0.0 [  2.17061819e-04  -2.77033582e-01   2.66222708e+02] [  1.44253345e-04  -3.07354428e-01   1.26427031e+03]\n",
      "0.0 [ 0.00185041 -0.04920116  0.98502402] [  1.22973092e-03  -5.45861463e-02   4.67780016e+00]\n",
      "This is the average radius of curvature of the anes 679.603976823\n"
     ]
    },
    {
     "name": "stderr",
     "output_type": "stream",
     "text": [
      "\r",
      " 83%|████████▎ | 1051/1261 [12:56<04:02,  1.15s/it]"
     ]
    },
    {
     "name": "stdout",
     "output_type": "stream",
     "text": [
      "989.978973865\n",
      "0.0 [  2.26423480e-04  -2.92895812e-01   2.70440063e+02] [  1.16518078e-04  -2.83207907e-01   1.26020555e+03]\n",
      "0.0 [ 0.00193021 -0.0520183   1.00062823] [  9.93293314e-04  -5.02977243e-02   4.66276052e+00]\n",
      "This is the average radius of curvature of the anes 765.37802647\n"
     ]
    },
    {
     "name": "stderr",
     "output_type": "stream",
     "text": [
      "\r",
      " 83%|████████▎ | 1052/1261 [12:57<03:45,  1.08s/it]"
     ]
    },
    {
     "name": "stdout",
     "output_type": "stream",
     "text": [
      "988.300328968\n",
      "0.0 [  2.35680594e-04  -3.09084037e-01   2.74717474e+02] [  1.00355613e-04  -2.72744994e-01   1.26057827e+03]\n",
      "0.0 [ 0.00200913 -0.05489332  1.01645465] [  8.55511526e-04  -4.84395109e-02   4.66413959e+00]\n",
      "This is the average radius of curvature of the anes 836.493506834\n"
     ]
    },
    {
     "name": "stderr",
     "output_type": "stream",
     "text": [
      "\r",
      " 84%|████████▎ | 1053/1261 [12:58<03:27,  1.00it/s]"
     ]
    },
    {
     "name": "stdout",
     "output_type": "stream",
     "text": [
      "990.77598125\n",
      "0.0 [  2.24627685e-04  -3.10116819e-01   2.76511913e+02] [  7.68648869e-05  -2.54982824e-01   1.26214495e+03]\n",
      "0.0 [ 0.00191491 -0.05507675  1.02309408] [  6.55257788e-04  -4.52849495e-02   4.66993633e+00]\n",
      "This is the average radius of curvature of the anes 1027.70530525\n"
     ]
    },
    {
     "name": "stderr",
     "output_type": "stream",
     "text": [
      "\r",
      " 84%|████████▎ | 1054/1261 [12:59<03:13,  1.07it/s]"
     ]
    },
    {
     "name": "stdout",
     "output_type": "stream",
     "text": [
      "978.513501563\n",
      "0.0 [  2.09474789e-04  -3.20232354e-01   2.88188765e+02] [  7.59129803e-05  -2.44242725e-01   1.25589377e+03]\n",
      "0.0 [ 0.00178573 -0.05687327  1.06629843] [  6.47142974e-04  -4.33775080e-02   4.64680696e+00]\n",
      "This is the average radius of curvature of the anes 1056.16552177\n"
     ]
    },
    {
     "name": "stderr",
     "output_type": "stream",
     "text": [
      "\r",
      " 84%|████████▎ | 1055/1261 [12:59<03:03,  1.13it/s]"
     ]
    },
    {
     "name": "stdout",
     "output_type": "stream",
     "text": [
      "963.445737613\n",
      "0.0 [  1.82784493e-04  -3.27075814e-01   3.06010434e+02] [  8.41159814e-05  -2.35838898e-01   1.24836492e+03]\n",
      "0.0 [ 0.0015582  -0.05808866  1.13223861] [  7.17071918e-04  -4.18849883e-02   4.61895020e+00]\n",
      "This is the average radius of curvature of the anes 1021.6241582\n"
     ]
    },
    {
     "name": "stderr",
     "output_type": "stream",
     "text": [
      "\r",
      " 84%|████████▎ | 1056/1261 [13:00<02:55,  1.17it/s]"
     ]
    },
    {
     "name": "stdout",
     "output_type": "stream",
     "text": [
      "958.439135751\n",
      "0.0 [  1.47303276e-04  -3.20293380e-01   3.20123514e+02] [  8.24291223e-05  -2.19199567e-01   1.23941361e+03]\n",
      "0.0 [ 0.00125573 -0.0568841   1.184457  ] [  7.02691782e-04  -3.89298431e-02   4.58583034e+00]\n",
      "This is the average radius of curvature of the anes 1113.27633965\n"
     ]
    },
    {
     "name": "stderr",
     "output_type": "stream",
     "text": [
      "\r",
      " 84%|████████▍ | 1057/1261 [13:01<02:48,  1.21it/s]"
     ]
    },
    {
     "name": "stdout",
     "output_type": "stream",
     "text": [
      "956.688386131\n",
      "0.0 [  1.18806483e-04  -3.17265847e-01   3.35472867e+02] [  1.15540617e-04  -2.36178240e-01   1.23554759e+03]\n",
      "0.0 [  1.01280150e-03  -5.63464144e-02   1.24124961e+00] [  9.84960653e-04  -4.19452555e-02   4.57152608e+00]\n",
      "This is the average radius of curvature of the anes 1005.00789085\n"
     ]
    },
    {
     "name": "stderr",
     "output_type": "stream",
     "text": [
      "\r",
      " 84%|████████▍ | 1058/1261 [13:02<02:44,  1.24it/s]"
     ]
    },
    {
     "name": "stdout",
     "output_type": "stream",
     "text": [
      "954.734825879\n",
      "0.0 [  7.74426022e-05  -2.91708919e-01   3.41782908e+02] [  1.23334616e-04  -2.33715859e-01   1.23109634e+03]\n",
      "0.0 [  6.60182696e-04  -5.18075040e-02   1.26459676e+00] [  1.05140293e-03  -4.15079365e-02   4.55505647e+00]\n",
      "This is the average radius of curvature of the anes 1237.20194118\n"
     ]
    },
    {
     "name": "stderr",
     "output_type": "stream",
     "text": [
      "\r",
      " 84%|████████▍ | 1059/1261 [13:03<02:39,  1.27it/s]"
     ]
    },
    {
     "name": "stdout",
     "output_type": "stream",
     "text": [
      "947.189976735\n",
      "0.0 [  5.51419885e-05  -2.79636246e-01   3.51724681e+02] [  1.31160745e-04  -2.29211274e-01   1.22336037e+03]\n",
      "0.0 [  4.70074423e-04  -4.96633972e-02   1.30138132e+00] [  1.11811912e-03  -4.07079223e-02   4.52643337e+00]\n",
      "This is the average radius of curvature of the anes 1515.89055203\n"
     ]
    },
    {
     "name": "stderr",
     "output_type": "stream",
     "text": [
      "\r",
      " 84%|████████▍ | 1060/1261 [13:03<02:35,  1.29it/s]"
     ]
    },
    {
     "name": "stdout",
     "output_type": "stream",
     "text": [
      "940.772337864\n",
      "0.0 [  2.94159206e-05  -2.62223563e-01   3.61244393e+02] [  1.32760963e-04  -2.10559274e-01   1.21144475e+03]\n",
      "0.0 [  2.50764840e-04  -4.65709047e-02   1.33660425e+00] [  1.13176066e-03  -3.73953270e-02   4.48234558e+00]\n",
      "This is the average radius of curvature of the anes 2443.1067079\n"
     ]
    },
    {
     "name": "stderr",
     "output_type": "stream",
     "text": [
      "\r",
      " 84%|████████▍ | 1061/1261 [13:04<02:32,  1.31it/s]"
     ]
    },
    {
     "name": "stdout",
     "output_type": "stream",
     "text": [
      "928.82422346\n",
      "0.0 [  3.33962164e-05  -2.74351443e-01   3.78083330e+02] [  1.32147243e-04  -1.95334919e-01   1.19904424e+03]\n",
      "0.0 [  2.84696065e-04  -4.87248162e-02   1.39890832e+00] [  1.12652882e-03  -3.46914816e-02   4.43646370e+00]\n",
      "This is the average radius of curvature of the anes 2207.15971006\n"
     ]
    },
    {
     "name": "stderr",
     "output_type": "stream",
     "text": [
      "\r",
      " 84%|████████▍ | 1062/1261 [13:05<02:30,  1.32it/s]"
     ]
    },
    {
     "name": "stdout",
     "output_type": "stream",
     "text": [
      "917.747976915\n",
      "0.0 [  6.09329778e-05  -2.97556151e-01   3.90355492e+02] [  1.28655364e-04  -1.87525938e-01   1.19398191e+03]\n",
      "0.0 [  5.19441449e-04  -5.28459724e-02   1.44431532e+00] [  1.09676125e-03  -3.33046066e-02   4.41773308e+00]\n",
      "This is the average radius of curvature of the anes 1423.25391766\n"
     ]
    },
    {
     "name": "stderr",
     "output_type": "stream",
     "text": [
      "\r",
      " 84%|████████▍ | 1063/1261 [13:06<02:34,  1.28it/s]"
     ]
    },
    {
     "name": "stdout",
     "output_type": "stream",
     "text": [
      "914.12092645\n",
      "0.0 [  7.74460398e-05  -3.02364438e-01   3.89498932e+02] [  9.56877433e-05  -1.74108342e-01   1.20197348e+03]\n",
      "0.0 [  6.60212000e-04  -5.36999241e-02   1.44114605e+00] [  8.15718874e-04  -3.09216415e-02   4.44730186e+00]\n",
      "This is the average radius of curvature of the anes 1374.44630981\n"
     ]
    },
    {
     "name": "stderr",
     "output_type": "stream",
     "text": [
      "\r",
      " 84%|████████▍ | 1064/1261 [13:06<02:33,  1.29it/s]"
     ]
    },
    {
     "name": "stdout",
     "output_type": "stream",
     "text": [
      "914.099514744\n",
      "0.0 [  7.91428609e-05  -2.94590271e-01   3.85416276e+02] [  7.38590754e-05  -1.69437849e-01   1.21226271e+03]\n",
      "0.0 [  6.74677060e-04  -5.23192322e-02   1.42604022e+00] [  6.29633846e-04  -3.00921620e-02   4.48537203e+00]\n",
      "This is the average radius of curvature of the anes 1539.33150865\n"
     ]
    },
    {
     "name": "stderr",
     "output_type": "stream",
     "text": [
      "\r",
      " 84%|████████▍ | 1065/1261 [13:07<02:33,  1.28it/s]"
     ]
    },
    {
     "name": "stdout",
     "output_type": "stream",
     "text": [
      "917.874354302\n",
      "0.0 [  7.97827548e-05  -2.74767102e-01   3.72387122e+02] [  6.73973459e-05  -1.74765543e-01   1.22476313e+03]\n",
      "0.0 [  6.80132028e-04  -4.87986373e-02   1.37783235e+00] [  5.74548895e-04  -3.10383604e-02   4.53162358e+00]\n",
      "This is the average radius of curvature of the anes 1609.28470184\n"
     ]
    },
    {
     "name": "stderr",
     "output_type": "stream",
     "text": [
      "\r",
      " 85%|████████▍ | 1066/1261 [13:08<02:33,  1.27it/s]"
     ]
    },
    {
     "name": "stdout",
     "output_type": "stream",
     "text": [
      "922.667662233\n",
      "0.0 [  8.73540421e-05  -2.62297763e-01   3.60133580e+02] [  6.85256306e-05  -1.86032391e-01   1.23769999e+03]\n",
      "0.0 [  7.44675738e-04  -4.65840828e-02   1.33249424e+00] [  5.84167296e-04  -3.30393526e-02   4.57948998e+00]\n",
      "This is the average radius of curvature of the anes 1530.9410147\n"
     ]
    },
    {
     "name": "stderr",
     "output_type": "stream",
     "text": [
      "\r",
      " 85%|████████▍ | 1067/1261 [13:09<02:34,  1.25it/s]"
     ]
    },
    {
     "name": "stdout",
     "output_type": "stream",
     "text": [
      "927.962364661\n",
      "0.0 [  8.67433184e-05  -2.55688275e-01   3.56394012e+02] [  1.01364275e-04  -2.09724621e-01   1.24375005e+03]\n",
      "0.0 [  7.39469441e-04  -4.54102376e-02   1.31865785e+00] [  8.64110172e-04  -3.72470926e-02   4.60187517e+00]\n",
      "This is the average radius of curvature of the anes 1258.08747441\n"
     ]
    },
    {
     "name": "stderr",
     "output_type": "stream",
     "text": [
      "\r",
      " 85%|████████▍ | 1068/1261 [13:10<02:34,  1.25it/s]"
     ]
    },
    {
     "name": "stdout",
     "output_type": "stream",
     "text": [
      "931.559776672\n",
      "0.0 [  7.05875953e-05  -2.36496145e-01   3.50870632e+02] [  1.13941688e-04  -2.20397091e-01   1.24844281e+03]\n",
      "0.0 [  6.01745132e-04  -4.20017154e-02   1.29822134e+00] [  9.71330100e-04  -3.91425234e-02   4.61923841e+00]\n",
      "This is the average radius of curvature of the anes 1349.05785713\n"
     ]
    },
    {
     "name": "stderr",
     "output_type": "stream",
     "text": [
      "\r",
      " 85%|████████▍ | 1069/1261 [13:10<02:32,  1.26it/s]"
     ]
    },
    {
     "name": "stdout",
     "output_type": "stream",
     "text": [
      "930.397652236\n",
      "0.0 [  7.79043054e-05  -2.39487073e-01   3.50879316e+02] [  1.10576129e-04  -2.15949272e-01   1.24746323e+03]\n",
      "0.0 [  6.64118623e-04  -4.25329041e-02   1.29825347e+00] [  9.42639385e-04  -3.83525907e-02   4.61561395e+00]\n",
      "This is the average radius of curvature of the anes 1286.51774522\n"
     ]
    },
    {
     "name": "stderr",
     "output_type": "stream",
     "text": [
      "\r",
      " 85%|████████▍ | 1070/1261 [13:11<02:31,  1.26it/s]"
     ]
    },
    {
     "name": "stdout",
     "output_type": "stream",
     "text": [
      "929.601500226\n",
      "0.0 [  8.76522902e-05  -2.44019614e-01   3.51103760e+02] [  1.24507147e-04  -2.25892475e-01   1.24861932e+03]\n",
      "0.0 [  7.47218244e-04  -4.33378834e-02   1.29908391e+00] [  1.06139852e-03  -4.01185036e-02   4.61989150e+00]\n",
      "This is the average radius of curvature of the anes 1143.24893627\n"
     ]
    },
    {
     "name": "stderr",
     "output_type": "stream",
     "text": [
      "\r",
      " 85%|████████▍ | 1071/1261 [13:12<02:30,  1.26it/s]"
     ]
    },
    {
     "name": "stdout",
     "output_type": "stream",
     "text": [
      "932.690881635\n",
      "0.0 [  8.54080019e-05  -2.40265260e-01   3.50041388e+02] [  1.76232887e-04  -2.73225789e-01   1.25947797e+03]\n",
      "0.0 [  7.28086135e-04  -4.26711101e-02   1.29515314e+00] [  1.50235012e-03  -4.85249002e-02   4.66006848e+00]\n",
      "This is the average radius of curvature of the anes 1022.59649971\n"
     ]
    },
    {
     "name": "stderr",
     "output_type": "stream",
     "text": [
      "\r",
      " 85%|████████▌ | 1072/1261 [13:13<02:30,  1.25it/s]"
     ]
    },
    {
     "name": "stdout",
     "output_type": "stream",
     "text": [
      "935.489012177\n",
      "0.0 [  9.47072085e-05  -2.45163412e-01   3.50427296e+02] [  2.30837274e-04  -3.17958472e-01   1.26788202e+03]\n",
      "0.0 [  8.07360011e-04  -4.35410219e-02   1.29658100e+00] [  1.96784159e-03  -5.64694246e-02   4.69116348e+00]\n",
      "This is the average radius of curvature of the anes 876.366174406\n"
     ]
    },
    {
     "name": "stderr",
     "output_type": "stream",
     "text": [
      "\r",
      " 85%|████████▌ | 1073/1261 [13:14<02:28,  1.26it/s]"
     ]
    },
    {
     "name": "stdout",
     "output_type": "stream",
     "text": [
      "934.636022856\n",
      "0.0 [  1.00303302e-04  -2.47938574e-01   3.50634621e+02] [  2.69952352e-04  -3.63235967e-01   1.28046753e+03]\n",
      "0.0 [  8.55065590e-04  -4.40338908e-02   1.29734810e+00] [  2.30128981e-03  -6.45107078e-02   4.73772985e+00]\n",
      "This is the average radius of curvature of the anes 805.079185613\n"
     ]
    },
    {
     "name": "stderr",
     "output_type": "stream",
     "text": [
      "\r",
      " 85%|████████▌ | 1074/1261 [13:14<02:27,  1.27it/s]"
     ]
    },
    {
     "name": "stdout",
     "output_type": "stream",
     "text": [
      "933.483038643\n",
      "0.0 [  1.04088587e-04  -2.49282725e-01   3.50803804e+02] [  2.70214273e-04  -3.69773246e-01   1.28428684e+03]\n",
      "0.0 [  8.87334387e-04  -4.42726120e-02   1.29797408e+00] [  2.30352264e-03  -6.56717285e-02   4.75186132e+00]\n",
      "This is the average radius of curvature of the anes 783.607507732\n"
     ]
    },
    {
     "name": "stderr",
     "output_type": "stream",
     "text": [
      "\r",
      " 85%|████████▌ | 1075/1261 [13:15<02:26,  1.27it/s]"
     ]
    },
    {
     "name": "stdout",
     "output_type": "stream",
     "text": [
      "924.604340511\n",
      "0.0 [  1.11637549e-04  -2.51603920e-01   3.51004375e+02] [  1.98702364e-04  -3.16049337e-01   1.27560872e+03]\n",
      "0.0 [  9.51687775e-04  -4.46848562e-02   1.29871619e+00] [  1.69389791e-03  -5.61303623e-02   4.71975225e+00]\n",
      "This is the average radius of curvature of the anes 823.530011285\n"
     ]
    },
    {
     "name": "stderr",
     "output_type": "stream",
     "text": [
      "\r",
      " 85%|████████▌ | 1076/1261 [13:16<02:24,  1.28it/s]"
     ]
    },
    {
     "name": "stdout",
     "output_type": "stream",
     "text": [
      "920.588594029\n",
      "0.0 [  1.19831447e-04  -2.54778309e-01   3.51203149e+02] [  1.16462618e-04  -2.64064758e-01   1.27179174e+03]\n",
      "0.0 [  1.02153912e-03  -4.52486277e-02   1.29945165e+00] [  9.92820522e-04  -4.68979010e-02   4.70562945e+00]\n",
      "This is the average radius of curvature of the anes 996.239584103\n"
     ]
    },
    {
     "name": "stderr",
     "output_type": "stream",
     "text": [
      "\r",
      " 85%|████████▌ | 1077/1261 [13:17<02:23,  1.28it/s]"
     ]
    },
    {
     "name": "stdout",
     "output_type": "stream",
     "text": [
      "915.465389807\n",
      "0.0 [  1.18672832e-04  -2.48766052e-01   3.53283496e+02] [  7.28794082e-05  -2.32346041e-01   1.26727697e+03]\n",
      "0.0 [  1.01166216e-03  -4.41808509e-02   1.30714894e+00] [  6.21282379e-04  -4.12646568e-02   4.68892479e+00]\n",
      "This is the average radius of curvature of the anes 1302.52738707\n"
     ]
    },
    {
     "name": "stderr",
     "output_type": "stream",
     "text": [
      "\r",
      " 85%|████████▌ | 1078/1261 [13:17<02:22,  1.28it/s]"
     ]
    },
    {
     "name": "stdout",
     "output_type": "stream",
     "text": [
      "910.906149957\n",
      "0.0 [  1.17388755e-04  -2.45163146e-01   3.56808955e+02] [  7.45922860e-05  -2.29035770e-01   1.26619576e+03]\n",
      "0.0 [  1.00071566e-03  -4.35409747e-02   1.32019314e+00] [  6.35884319e-04  -4.06767528e-02   4.68492430e+00]\n",
      "This is the average radius of curvature of the anes 1289.32282621\n"
     ]
    },
    {
     "name": "stderr",
     "output_type": "stream",
     "text": [
      "\r",
      " 86%|████████▌ | 1079/1261 [13:18<02:20,  1.30it/s]"
     ]
    },
    {
     "name": "stdout",
     "output_type": "stream",
     "text": [
      "909.730203232\n",
      "0.0 [  1.44409132e-04  -2.64826475e-01   3.61675829e+02] [  8.48264360e-05  -2.30102058e-01   1.26634675e+03]\n",
      "0.0 [  1.23105896e-03  -4.70331820e-02   1.33820057e+00] [  7.23128401e-04  -4.08661256e-02   4.68548297e+00]\n",
      "This is the average radius of curvature of the anes 1100.6757841\n"
     ]
    },
    {
     "name": "stderr",
     "output_type": "stream",
     "text": [
      "\r",
      " 86%|████████▌ | 1080/1261 [13:19<02:18,  1.30it/s]"
     ]
    },
    {
     "name": "stdout",
     "output_type": "stream",
     "text": [
      "910.707509176\n",
      "0.0 [  1.60962832e-04  -2.76406806e-01   3.64998805e+02] [  1.05644147e-04  -2.43772903e-01   1.27089342e+03]\n",
      "0.0 [ 0.00137218 -0.04908985  1.35049558] [  9.00595223e-04  -4.32940675e-02   4.70230566e+00]\n",
      "This is the average radius of curvature of the anes 922.45275574\n"
     ]
    },
    {
     "name": "stderr",
     "output_type": "stream",
     "text": [
      "\r",
      " 86%|████████▌ | 1081/1261 [13:20<02:16,  1.32it/s]"
     ]
    },
    {
     "name": "stdout",
     "output_type": "stream",
     "text": [
      "919.243603419\n",
      "0.0 [  1.61261108e-04  -2.75359410e-01   3.64785591e+02] [  1.21090941e-04  -2.64384007e-01   1.28327952e+03]\n",
      "0.0 [ 0.00137472 -0.04890383  1.34970669] [  1.03227605e-03  -4.69545997e-02   4.74813422e+00]\n",
      "This is the average radius of curvature of the anes 850.985612249\n"
     ]
    },
    {
     "name": "stderr",
     "output_type": "stream",
     "text": [
      "\r",
      " 86%|████████▌ | 1082/1261 [13:20<02:15,  1.32it/s]"
     ]
    },
    {
     "name": "stdout",
     "output_type": "stream",
     "text": [
      "922.128890285\n",
      "0.0 [  1.63101022e-04  -2.74698856e-01   3.64751957e+02] [  1.08944389e-04  -2.53668651e-01   1.28483923e+03]\n",
      "0.0 [ 0.0013904  -0.04878652  1.34958224] [  9.28729130e-04  -4.50515524e-02   4.75390514e+00]\n",
      "This is the average radius of curvature of the anes 900.902433322\n"
     ]
    },
    {
     "name": "stderr",
     "output_type": "stream",
     "text": [
      "\r",
      " 86%|████████▌ | 1083/1261 [13:21<02:15,  1.32it/s]"
     ]
    },
    {
     "name": "stdout",
     "output_type": "stream",
     "text": [
      "924.263258679\n",
      "0.0 [  1.67930775e-04  -2.76633306e-01   3.65026432e+02] [  9.55530366e-05  -2.41537441e-01   1.28503522e+03]\n",
      "0.0 [ 0.00143158 -0.04913008  1.3505978 ] [  8.14570526e-04  -4.28970495e-02   4.75463032e+00]\n",
      "This is the average radius of curvature of the anes 966.046148096\n"
     ]
    },
    {
     "name": "stderr",
     "output_type": "stream",
     "text": [
      "\r",
      " 86%|████████▌ | 1084/1261 [13:22<02:14,  1.31it/s]"
     ]
    },
    {
     "name": "stdout",
     "output_type": "stream",
     "text": [
      "927.04170536\n",
      "0.0 [  1.66346961e-04  -2.74842050e-01   3.64572400e+02] [  8.87957209e-05  -2.38575635e-01   1.28737416e+03]\n",
      "0.0 [ 0.00141807 -0.04881195  1.34891788] [  7.56965762e-04  -4.23710328e-02   4.76328439e+00]\n",
      "This is the average radius of curvature of the anes 1016.16308206\n"
     ]
    },
    {
     "name": "stderr",
     "output_type": "stream",
     "text": [
      "\r",
      " 86%|████████▌ | 1085/1261 [13:23<02:13,  1.31it/s]"
     ]
    },
    {
     "name": "stdout",
     "output_type": "stream",
     "text": [
      "929.678132565\n",
      "0.0 [  1.68365241e-04  -2.75854373e-01   3.64784140e+02] [  1.18571313e-04  -2.64005554e-01   1.29375740e+03]\n",
      "0.0 [ 0.00143528 -0.04899174  1.34970132] [  1.01079673e-03  -4.68873865e-02   4.78690236e+00]\n",
      "This is the average radius of curvature of the anes 845.910444217\n"
     ]
    },
    {
     "name": "stderr",
     "output_type": "stream",
     "text": [
      "\r",
      " 86%|████████▌ | 1086/1261 [13:23<02:13,  1.31it/s]"
     ]
    },
    {
     "name": "stdout",
     "output_type": "stream",
     "text": [
      "941.293820627\n",
      "0.0 [  1.63238617e-04  -2.71900297e-01   3.64056895e+02] [  1.42295491e-04  -2.92286031e-01   1.30535072e+03]\n",
      "0.0 [ 0.00139158 -0.04828949  1.34701051] [  1.21304060e-03  -5.19099991e-02   4.82979765e+00]\n",
      "This is the average radius of curvature of the anes 774.41674263\n"
     ]
    },
    {
     "name": "stderr",
     "output_type": "stream",
     "text": [
      "\r",
      " 86%|████████▌ | 1087/1261 [13:24<02:12,  1.31it/s]"
     ]
    },
    {
     "name": "stdout",
     "output_type": "stream",
     "text": [
      "939.375175546\n",
      "0.0 [  1.60502974e-04  -2.69619518e-01   3.63683846e+02] [  1.21097648e-04  -2.75488801e-01   1.30305902e+03]\n",
      "0.0 [ 0.00136826 -0.04788443  1.34563023] [  1.03233323e-03  -4.89268111e-02   4.82131838e+00]\n",
      "This is the average radius of curvature of the anes 852.766238404\n"
     ]
    },
    {
     "name": "stderr",
     "output_type": "stream",
     "text": [
      "\r",
      " 86%|████████▋ | 1088/1261 [13:25<02:12,  1.30it/s]"
     ]
    },
    {
     "name": "stdout",
     "output_type": "stream",
     "text": [
      "933.365235515\n",
      "0.0 [  1.62623816e-04  -2.70660370e-01   3.63766543e+02] [  1.83205542e-05  -1.88754375e-01   1.28550940e+03]\n",
      "0.0 [ 0.00138634 -0.04806928  1.34593621] [  1.56179061e-04  -3.35227769e-02   4.75638478e+00]\n",
      "This is the average radius of curvature of the anes 3568.7654235\n"
     ]
    },
    {
     "name": "stderr",
     "output_type": "stream",
     "text": [
      "\r",
      " 86%|████████▋ | 1089/1261 [13:26<02:12,  1.30it/s]"
     ]
    },
    {
     "name": "stdout",
     "output_type": "stream",
     "text": [
      "932.634312428\n",
      "0.0 [  1.62042743e-04  -2.70142869e-01   3.63764734e+02] [ -2.82258047e-05  -1.45331008e-01   1.27593061e+03]\n",
      "0.0 [ 0.00138138 -0.04797737  1.34592952] [ -2.40619340e-04  -2.58107870e-02   4.72094325e+00]\n",
      "This is the average radius of curvature of the anes 2443.25463989\n"
     ]
    },
    {
     "name": "stderr",
     "output_type": "stream",
     "text": [
      "\r",
      " 86%|████████▋ | 1090/1261 [13:27<02:12,  1.29it/s]"
     ]
    },
    {
     "name": "stdout",
     "output_type": "stream",
     "text": [
      "925.656926891\n",
      "0.0 [  1.66882895e-04  -2.73794828e-01   3.65828354e+02] [  1.72321961e-05  -1.67775132e-01   1.27270794e+03]\n",
      "0.0 [ 0.00142264 -0.04862596  1.35356491] [  1.46901025e-04  -2.97968635e-02   4.70901936e+00]\n",
      "This is the average radius of curvature of the anes 3760.89184734\n"
     ]
    },
    {
     "name": "stderr",
     "output_type": "stream",
     "text": [
      "\r",
      " 87%|████████▋ | 1091/1261 [13:27<02:12,  1.28it/s]"
     ]
    },
    {
     "name": "stdout",
     "output_type": "stream",
     "text": [
      "923.571694692\n",
      "0.0 [  1.63448535e-04  -2.71191391e-01   3.65588698e+02] [  5.04237100e-05  -1.87131321e-01   1.27353087e+03]\n",
      "0.0 [ 0.00139337 -0.04816359  1.35267818] [  4.29852043e-04  -3.32345226e-02   4.71206423e+00]\n",
      "This is the average radius of curvature of the anes 1525.21124006\n"
     ]
    },
    {
     "name": "stderr",
     "output_type": "stream",
     "text": [
      "\r",
      " 87%|████████▋ | 1092/1261 [13:28<02:12,  1.28it/s]"
     ]
    },
    {
     "name": "stdout",
     "output_type": "stream",
     "text": [
      "922.179607791\n",
      "0.0 [  1.60033075e-04  -2.68627481e-01   3.65215023e+02] [  8.23297082e-05  -2.05864340e-01   1.27472076e+03]\n",
      "0.0 [ 0.00136425 -0.04770824  1.35129559] [  7.01844297e-04  -3.65615068e-02   4.71646679e+00]\n",
      "This is the average radius of curvature of the anes 1081.59140618\n"
     ]
    },
    {
     "name": "stderr",
     "output_type": "stream",
     "text": [
      "\r",
      " 87%|████████▋ | 1093/1261 [13:29<02:14,  1.25it/s]"
     ]
    },
    {
     "name": "stdout",
     "output_type": "stream",
     "text": [
      "922.329991553\n",
      "0.0 [  1.60966120e-04  -2.68460084e-01   3.65053745e+02] [  9.76931278e-05  -2.13193049e-01   1.27531522e+03]\n",
      "0.0 [ 0.0013722  -0.04767851  1.35069886] [  8.32814376e-04  -3.78630856e-02   4.71866632e+00]\n",
      "This is the average radius of curvature of the anes 967.285895627\n"
     ]
    },
    {
     "name": "stderr",
     "output_type": "stream",
     "text": [
      "\r",
      " 87%|████████▋ | 1094/1261 [13:30<02:16,  1.23it/s]"
     ]
    },
    {
     "name": "stdout",
     "output_type": "stream",
     "text": [
      "922.625954402\n",
      "0.0 [  1.60790984e-04  -2.68136400e-01   3.64936103e+02] [  1.04608455e-04  -2.16472058e-01   1.27568468e+03]\n",
      "0.0 [ 0.00137071 -0.04762102  1.35026358] [  8.91766154e-04  -3.84454376e-02   4.72003333e+00]\n",
      "This is the average radius of curvature of the anes 927.944380545\n"
     ]
    },
    {
     "name": "stderr",
     "output_type": "stream",
     "text": [
      "\r",
      " 87%|████████▋ | 1095/1261 [13:31<02:44,  1.01it/s]"
     ]
    },
    {
     "name": "stdout",
     "output_type": "stream",
     "text": [
      "922.377951835\n",
      "0.0 [  1.71222930e-04  -2.72877432e-01   3.65276523e+02] [  1.57466698e-04  -2.47373435e-01   1.27642854e+03]\n",
      "0.0 [ 0.00145964 -0.04846303  1.35152313] [  1.34237211e-03  -4.39335221e-02   4.72278558e+00]\n",
      "This is the average radius of curvature of the anes 717.311321709\n"
     ]
    },
    {
     "name": "stderr",
     "output_type": "stream",
     "text": [
      "\r",
      " 87%|████████▋ | 1096/1261 [13:33<03:02,  1.11s/it]"
     ]
    },
    {
     "name": "stdout",
     "output_type": "stream",
     "text": [
      "924.529367501\n",
      "0.0 [  1.80820923e-04  -2.77568350e-01   3.65789574e+02] [  2.13682015e-04  -2.86429900e-01   1.27970249e+03]\n",
      "0.0 [ 0.00154146 -0.04929614  1.35342142] [  1.82159645e-03  -5.08699503e-02   4.73489922e+00]\n",
      "This is the average radius of curvature of the anes 601.101074705\n"
     ]
    },
    {
     "name": "stderr",
     "output_type": "stream",
     "text": [
      "\r",
      " 87%|████████▋ | 1097/1261 [13:33<02:49,  1.04s/it]"
     ]
    },
    {
     "name": "stdout",
     "output_type": "stream",
     "text": [
      "923.652300584\n",
      "0.0 [  1.87661518e-04  -2.80422169e-01   3.66074316e+02] [  2.53032905e-04  -3.18029374e-01   1.28297174e+03]\n",
      "0.0 [ 0.00159978 -0.04980298  1.35447497] [  2.15705491e-03  -5.64820168e-02   4.74699544e+00]\n",
      "This is the average radius of curvature of the anes 546.614760742\n"
     ]
    },
    {
     "name": "stderr",
     "output_type": "stream",
     "text": [
      "\r",
      " 87%|████████▋ | 1098/1261 [13:34<02:34,  1.06it/s]"
     ]
    },
    {
     "name": "stdout",
     "output_type": "stream",
     "text": [
      "915.26020625\n",
      "0.0 [  1.84138086e-04  -2.76627919e-01   3.66121958e+02] [  2.02805406e-04  -2.77338771e-01   1.27224299e+03]\n",
      "0.0 [ 0.00156974 -0.04912912  1.35465124] [  1.72887552e-03  -4.92553657e-02   4.70729907e+00]\n",
      "This is the average radius of curvature of the anes 609.936344059\n"
     ]
    },
    {
     "name": "stderr",
     "output_type": "stream",
     "text": [
      "\r",
      " 87%|████████▋ | 1099/1261 [13:35<02:24,  1.12it/s]"
     ]
    },
    {
     "name": "stdout",
     "output_type": "stream",
     "text": [
      "909.9437571\n",
      "0.0 [  1.84390272e-04  -2.75050104e-01   3.65967218e+02] [  1.37403142e-04  -2.38962161e-01   1.26898174e+03]\n",
      "0.0 [ 0.00157189 -0.0488489   1.35407871] [  1.17133431e-03  -4.24396798e-02   4.69523244e+00]\n",
      "This is the average radius of curvature of the anes 747.244987284\n"
     ]
    },
    {
     "name": "stderr",
     "output_type": "stream",
     "text": [
      "\r",
      " 87%|████████▋ | 1100/1261 [13:36<02:18,  1.16it/s]"
     ]
    },
    {
     "name": "stdout",
     "output_type": "stream",
     "text": [
      "908.863685219\n",
      "0.0 [  1.65025858e-04  -2.57903228e-01   3.64786270e+02] [  9.75386181e-05  -2.14559311e-01   1.26669051e+03]\n",
      "0.0 [ 0.00140681 -0.04580361  1.3497092 ] [  8.31497211e-04  -3.81057337e-02   4.68675489e+00]\n",
      "This is the average radius of curvature of the anes 959.167594832\n"
     ]
    },
    {
     "name": "stderr",
     "output_type": "stream",
     "text": [
      "\r",
      " 87%|████████▋ | 1101/1261 [13:37<02:11,  1.21it/s]"
     ]
    },
    {
     "name": "stdout",
     "output_type": "stream",
     "text": [
      "906.764256956\n",
      "0.0 [  1.39817304e-04  -2.36855756e-01   3.63491308e+02] [  8.78667264e-05  -2.06229327e-01   1.26574177e+03]\n",
      "0.0 [  1.19191456e-03  -4.20655822e-02   1.34491784e+00] [  7.49046269e-04  -3.66263284e-02   4.68324454e+00]\n",
      "This is the average radius of curvature of the anes 1089.4662507\n"
     ]
    },
    {
     "name": "stderr",
     "output_type": "stream",
     "text": [
      "\r",
      " 87%|████████▋ | 1102/1261 [13:37<02:06,  1.26it/s]"
     ]
    },
    {
     "name": "stdout",
     "output_type": "stream",
     "text": [
      "914.972108916\n",
      "0.0 [  1.35418313e-04  -2.34405504e-01   3.63269165e+02] [  9.09821225e-05  -2.15248678e-01   1.27617661e+03]\n",
      "0.0 [  1.15441403e-03  -4.16304175e-02   1.34409591e+00] [  7.75604398e-04  -3.82281652e-02   4.72185347e+00]\n",
      "This is the average radius of curvature of the anes 1080.31881732\n"
     ]
    },
    {
     "name": "stderr",
     "output_type": "stream",
     "text": [
      "\r",
      " 87%|████████▋ | 1103/1261 [13:38<02:02,  1.29it/s]"
     ]
    },
    {
     "name": "stdout",
     "output_type": "stream",
     "text": [
      "917.112866579\n",
      "0.0 [  1.35082893e-04  -2.32078775e-01   3.62979825e+02] [  9.13754686e-05  -2.12240002e-01   1.27784149e+03]\n",
      "0.0 [  1.15155465e-03  -4.12171905e-02   1.34302535e+00] [  7.78957595e-04  -3.76938244e-02   4.72801351e+00]\n",
      "This is the average radius of curvature of the anes 1078.55451328\n"
     ]
    },
    {
     "name": "stderr",
     "output_type": "stream",
     "text": [
      "\r",
      " 88%|████████▊ | 1104/1261 [13:39<01:59,  1.32it/s]"
     ]
    },
    {
     "name": "stdout",
     "output_type": "stream",
     "text": [
      "921.437134922\n",
      "0.0 [  1.35503428e-04  -2.29446550e-01   3.62600233e+02] [  9.51222327e-05  -2.16809446e-01   1.28304870e+03]\n",
      "0.0 [  1.15513962e-03  -4.07497073e-02   1.34162086e+00] [  8.10898009e-04  -3.85053576e-02   4.74728018e+00]\n",
      "This is the average radius of curvature of the anes 1051.89887588\n"
     ]
    },
    {
     "name": "stderr",
     "output_type": "stream",
     "text": [
      "\r",
      " 88%|████████▊ | 1105/1261 [13:39<01:56,  1.34it/s]"
     ]
    },
    {
     "name": "stdout",
     "output_type": "stream",
     "text": [
      "924.181205745\n",
      "0.0 [  1.35506713e-04  -2.26539808e-01   3.62192669e+02] [  8.86702772e-05  -2.10245581e-01   1.28495670e+03]\n",
      "0.0 [  1.15516762e-03  -4.02334699e-02   1.34011288e+00] [  7.55896379e-04  -3.73396152e-02   4.75433979e+00]\n",
      "This is the average radius of curvature of the anes 1096.73919117\n"
     ]
    },
    {
     "name": "stderr",
     "output_type": "stream",
     "text": [
      "\r",
      " 88%|████████▊ | 1106/1261 [13:40<01:53,  1.36it/s]"
     ]
    },
    {
     "name": "stdout",
     "output_type": "stream",
     "text": [
      "921.635737573\n",
      "0.0 [  1.34858937e-04  -2.19570288e-01   3.61497138e+02] [  4.30462656e-05  -1.65329486e-01   1.27512184e+03]\n",
      "0.0 [  1.14964547e-03  -3.89956832e-02   1.33753941e+00] [  3.66960805e-04  -2.93625168e-02   4.71795080e+00]\n",
      "This is the average radius of curvature of the anes 1800.214916\n"
     ]
    },
    {
     "name": "stderr",
     "output_type": "stream",
     "text": [
      "\r",
      " 88%|████████▊ | 1107/1261 [13:41<01:52,  1.37it/s]"
     ]
    },
    {
     "name": "stdout",
     "output_type": "stream",
     "text": [
      "923.27074947\n",
      "0.0 [  1.34130475e-04  -2.18050088e-01   3.61240013e+02] [  2.04045886e-05  -1.51975430e-01   1.27491346e+03]\n",
      "0.0 [  1.14343548e-03  -3.87256955e-02   1.33658805e+00] [  1.73945037e-04  -2.69908363e-02   4.71717980e+00]\n",
      "This is the average radius of curvature of the anes 3315.87563447\n"
     ]
    },
    {
     "name": "stderr",
     "output_type": "stream",
     "text": [
      "\r",
      " 88%|████████▊ | 1108/1261 [13:42<01:52,  1.36it/s]"
     ]
    },
    {
     "name": "stdout",
     "output_type": "stream",
     "text": [
      "923.462245341\n",
      "0.0 [  1.40807732e-04  -2.19559772e-01   3.61251737e+02] [  2.27342831e-05  -1.56908309e-01   1.27640305e+03]\n",
      "0.0 [  1.20035776e-03  -3.89938155e-02   1.33663143e+00] [  1.93805217e-04  -2.78669156e-02   4.72269129e+00]\n",
      "This is the average radius of curvature of the anes 3000.40857918\n"
     ]
    },
    {
     "name": "stderr",
     "output_type": "stream",
     "text": [
      "\r",
      " 88%|████████▊ | 1109/1261 [13:42<01:50,  1.38it/s]"
     ]
    },
    {
     "name": "stdout",
     "output_type": "stream",
     "text": [
      "924.343350445\n",
      "0.0 [  1.44968871e-04  -2.21182192e-01   3.61311813e+02] [  2.55136363e-05  -1.54986874e-01   1.27648474e+03]\n",
      "0.0 [  1.23583063e-03  -3.92819573e-02   1.33685371e+00] [  2.17498647e-04  -2.75256688e-02   4.72299354e+00]\n",
      "This is the average radius of curvature of the anes 2707.00102112\n"
     ]
    },
    {
     "name": "stderr",
     "output_type": "stream",
     "text": [
      "\r",
      " 88%|████████▊ | 1110/1261 [13:43<01:51,  1.36it/s]"
     ]
    },
    {
     "name": "stdout",
     "output_type": "stream",
     "text": [
      "923.875517555\n",
      "0.0 [  1.48052982e-04  -2.22688339e-01   3.61424823e+02] [ -1.60896102e-06  -1.25457197e-01   1.26950826e+03]\n",
      "0.0 [  1.26212206e-03  -3.95494490e-02   1.33727184e+00] [ -1.37160709e-05  -2.22811982e-02   4.69718057e+00]\n",
      "This is the average radius of curvature of the anes 36877.8258106\n"
     ]
    },
    {
     "name": "stderr",
     "output_type": "stream",
     "text": [
      "\r",
      " 88%|████████▊ | 1111/1261 [13:44<01:51,  1.35it/s]"
     ]
    },
    {
     "name": "stdout",
     "output_type": "stream",
     "text": [
      "919.363669679\n",
      "0.0 [  1.53690688e-04  -2.24649839e-01   3.61518382e+02] [  2.94638431e-05  -1.36471380e-01   1.26523439e+03]\n",
      "0.0 [  1.31018238e-03  -3.98978114e-02   1.33761801e+00] [  2.51173370e-04  -2.42373171e-02   4.68136723e+00]\n",
      "This is the average radius of curvature of the anes 2374.94910973\n"
     ]
    },
    {
     "name": "stderr",
     "output_type": "stream",
     "text": [
      "\r",
      " 88%|████████▊ | 1112/1261 [13:45<01:51,  1.33it/s]"
     ]
    },
    {
     "name": "stdout",
     "output_type": "stream",
     "text": [
      "917.046672013\n",
      "0.0 [  1.50761819e-04  -2.23015709e-01   3.61368413e+02] [  4.43432812e-05  -1.41630274e-01   1.26285487e+03]\n",
      "0.0 [  1.28521436e-03  -3.96075900e-02   1.33706313e+00] [  3.78017604e-04  -2.51535366e-02   4.67256301e+00]\n",
      "This is the average radius of curvature of the anes 1713.90120892\n"
     ]
    },
    {
     "name": "stderr",
     "output_type": "stream",
     "text": [
      "\r",
      " 88%|████████▊ | 1113/1261 [13:45<01:52,  1.31it/s]"
     ]
    },
    {
     "name": "stdout",
     "output_type": "stream",
     "text": [
      "910.613702699\n",
      "0.0 [  1.51163064e-04  -2.23215449e-01   3.61381789e+02] [  8.17536856e-05  -1.58967339e-01   1.25712784e+03]\n",
      "0.0 [  1.28863488e-03  -3.96430637e-02   1.33711262e+00] [  6.96933819e-04  -2.82325994e-02   4.65137299e+00]\n",
      "This is the average radius of curvature of the anes 1107.20870948\n"
     ]
    },
    {
     "name": "stderr",
     "output_type": "stream",
     "text": [
      "\r",
      " 88%|████████▊ | 1114/1261 [13:46<01:51,  1.32it/s]"
     ]
    },
    {
     "name": "stdout",
     "output_type": "stream",
     "text": [
      "907.219794369\n",
      "0.0 [  1.47834367e-04  -2.21542915e-01   3.61246480e+02] [  9.56672277e-05  -1.64890744e-01   1.25308557e+03]\n",
      "0.0 [  1.26025841e-03  -3.93460217e-02   1.33661198e+00] [  8.15543983e-04  -2.92845962e-02   4.63641663e+00]\n",
      "This is the average radius of curvature of the anes 1011.54224272\n"
     ]
    },
    {
     "name": "stderr",
     "output_type": "stream",
     "text": [
      "\r",
      " 88%|████████▊ | 1115/1261 [13:47<01:52,  1.30it/s]"
     ]
    },
    {
     "name": "stdout",
     "output_type": "stream",
     "text": [
      "907.997811102\n",
      "0.0 [  1.41487301e-04  -2.19477953e-01   3.61077187e+02] [  9.44513929e-05  -1.63131943e-01   1.25220027e+03]\n",
      "0.0 [  1.20615094e-03  -3.89792845e-02   1.33598559e+00] [  8.05179234e-04  -2.89722331e-02   4.63314100e+00]\n",
      "This is the average radius of curvature of the anes 1037.24872751\n"
     ]
    },
    {
     "name": "stderr",
     "output_type": "stream",
     "text": [
      "\r",
      " 89%|████████▊ | 1116/1261 [13:48<01:49,  1.32it/s]"
     ]
    },
    {
     "name": "stdout",
     "output_type": "stream",
     "text": [
      "905.574196228\n",
      "0.0 [  1.41692211e-04  -2.19630220e-01   3.61102077e+02] [  1.45124999e-04  -2.00330139e-01   1.25102490e+03]\n",
      "0.0 [  1.20789776e-03  -3.90063271e-02   1.33607768e+00] [  1.23716160e-03  -3.55786326e-02   4.62879212e+00]\n",
      "This is the average radius of curvature of the anes 819.805943668\n"
     ]
    },
    {
     "name": "stderr",
     "output_type": "stream",
     "text": [
      "\r",
      " 89%|████████▊ | 1117/1261 [13:48<01:48,  1.33it/s]"
     ]
    },
    {
     "name": "stdout",
     "output_type": "stream",
     "text": [
      "901.873027791\n",
      "0.0 [  1.44508961e-04  -2.21253276e-01   3.61289215e+02] [  1.73335933e-04  -2.21591128e-01   1.24850274e+03]\n",
      "0.0 [  1.23190999e-03  -3.92945819e-02   1.33677009e+00] [  1.47765416e-03  -3.93545843e-02   4.61946013e+00]\n",
      "This is the average radius of curvature of the anes 745.974791571\n"
     ]
    },
    {
     "name": "stderr",
     "output_type": "stream",
     "text": [
      "\r",
      " 89%|████████▊ | 1118/1261 [13:49<01:46,  1.35it/s]"
     ]
    },
    {
     "name": "stdout",
     "output_type": "stream",
     "text": [
      "908.38105065\n",
      "0.0 [  1.44408901e-04  -2.21155177e-01   3.61272861e+02] [  2.37747797e-04  -2.61202329e-01   1.25019525e+03]\n",
      "0.0 [  1.23105700e-03  -3.92771595e-02   1.33670959e+00] [  2.02675242e-03  -4.63895336e-02   4.62572241e+00]\n",
      "This is the average radius of curvature of the anes 654.592117577\n"
     ]
    },
    {
     "name": "stderr",
     "output_type": "stream",
     "text": [
      "\r",
      " 89%|████████▊ | 1119/1261 [13:50<01:45,  1.35it/s]"
     ]
    },
    {
     "name": "stdout",
     "output_type": "stream",
     "text": [
      "911.97564207\n",
      "0.0 [  1.39714299e-04  -2.18770976e-01   3.61075490e+02] [  2.66653401e-04  -2.80327200e-01   1.25168749e+03]\n",
      "0.0 [  1.19103645e-03  -3.88537254e-02   1.33597931e+00] [  2.27316691e-03  -4.97861108e-02   4.63124372e+00]\n",
      "This is the average radius of curvature of the anes 641.529155864\n"
     ]
    },
    {
     "name": "stderr",
     "output_type": "stream",
     "text": [
      "\r",
      " 89%|████████▉ | 1120/1261 [13:51<01:44,  1.35it/s]"
     ]
    },
    {
     "name": "stdout",
     "output_type": "stream",
     "text": [
      "915.56104453\n",
      "0.0 [  1.20244864e-04  -2.07003020e-01   3.59577278e+02] [  2.96758007e-04  -3.12752090e-01   1.25992149e+03]\n",
      "0.0 [  1.02506342e-03  -3.67637364e-02   1.33043593e+00] [  2.52980266e-03  -5.55447712e-02   4.66170952e+00]\n",
      "This is the average radius of curvature of the anes 687.323169848\n"
     ]
    },
    {
     "name": "stderr",
     "output_type": "stream",
     "text": [
      "\r",
      " 89%|████████▉ | 1121/1261 [13:51<01:43,  1.35it/s]"
     ]
    },
    {
     "name": "stdout",
     "output_type": "stream",
     "text": [
      "914.130373013\n",
      "0.0 [  9.11214799e-05  -1.85940254e-01   3.55948747e+02] [  2.74913883e-04  -3.08189391e-01   1.26296275e+03]\n",
      "0.0 [  7.76792392e-04  -3.30229890e-02   1.31701037e+00] [  2.34358587e-03  -5.47344358e-02   4.67296216e+00]\n",
      "This is the average radius of curvature of the anes 859.033552131\n"
     ]
    },
    {
     "name": "stderr",
     "output_type": "stream",
     "text": [
      "\r",
      " 89%|████████▉ | 1122/1261 [13:52<01:42,  1.36it/s]"
     ]
    },
    {
     "name": "stdout",
     "output_type": "stream",
     "text": [
      "917.789156317\n",
      "0.0 [  5.03639700e-05  -1.51068783e-01   3.47983960e+02] [  2.08432008e-04  -2.79031452e-01   1.26577312e+03]\n",
      "0.0 [  4.29342771e-04  -2.68298158e-02   1.28754065e+00] [  1.77684118e-03  -4.95559859e-02   4.68336053e+00]\n",
      "This is the average radius of curvature of the anes 1448.26382584\n"
     ]
    },
    {
     "name": "stderr",
     "output_type": "stream",
     "text": [
      "\r",
      " 89%|████████▉ | 1123/1261 [13:53<01:44,  1.32it/s]"
     ]
    },
    {
     "name": "stdout",
     "output_type": "stream",
     "text": [
      "934.925020634\n",
      "0.0 [  2.83651844e-05  -1.24807207e-01   3.37692037e+02] [  1.72134179e-04  -2.67514881e-01   1.27261706e+03]\n",
      "0.0 [  2.41807524e-04  -2.21657600e-02   1.24946054e+00] [  1.46740945e-03  -4.75106428e-02   4.70868311e+00]\n",
      "This is the average radius of curvature of the anes 2411.17527033\n"
     ]
    },
    {
     "name": "stderr",
     "output_type": "stream",
     "text": [
      "\r",
      " 89%|████████▉ | 1124/1261 [13:54<01:46,  1.29it/s]"
     ]
    },
    {
     "name": "stdout",
     "output_type": "stream",
     "text": [
      "932.818555247\n",
      "0.0 [  2.74531894e-05  -1.23601367e-01   3.37168730e+02] [  1.25945038e-04  -2.36118121e-01   1.26998729e+03]\n",
      "0.0 [  2.34032949e-04  -2.19516028e-02   1.24752430e+00] [  1.07365626e-03  -4.19345784e-02   4.69895296e+00]\n",
      "This is the average radius of curvature of the anes 2604.92307854\n"
     ]
    },
    {
     "name": "stderr",
     "output_type": "stream",
     "text": [
      "\r",
      " 89%|████████▉ | 1125/1261 [13:54<01:44,  1.31it/s]"
     ]
    },
    {
     "name": "stdout",
     "output_type": "stream",
     "text": [
      "943.871221375\n",
      "0.0 [  2.93699298e-05  -1.17762652e-01   3.32326658e+02] [  1.23324894e-04  -2.40735170e-01   1.27619788e+03]\n",
      "0.0 [  2.50372778e-04  -2.09146469e-02   1.22960864e+00] [  1.05132006e-03  -4.27545662e-02   4.72193215e+00]\n",
      "This is the average radius of curvature of the anes 2475.22987386\n"
     ]
    },
    {
     "name": "stderr",
     "output_type": "stream",
     "text": [
      "\r",
      " 89%|████████▉ | 1126/1261 [13:55<01:45,  1.29it/s]"
     ]
    },
    {
     "name": "stdout",
     "output_type": "stream",
     "text": [
      "949.705481825\n",
      "0.0 [  3.31905792e-05  -1.18273991e-01   3.30903234e+02] [  1.47674407e-04  -2.60303354e-01   1.28060872e+03]\n",
      "0.0 [  2.82943049e-04  -2.10054609e-02   1.22434197e+00] [  1.25889478e-03  -4.62298756e-02   4.73825225e+00]\n",
      "This is the average radius of curvature of the anes 2166.75749187\n"
     ]
    },
    {
     "name": "stderr",
     "output_type": "stream",
     "text": [
      "\r",
      " 89%|████████▉ | 1127/1261 [13:56<01:43,  1.29it/s]"
     ]
    },
    {
     "name": "stdout",
     "output_type": "stream",
     "text": [
      "952.88136924\n",
      "0.0 [  3.40611782e-05  -1.18605350e-01   3.30830553e+02] [  1.64453284e-04  -2.78375219e-01   1.28371192e+03]\n",
      "0.0 [  2.90364732e-04  -2.10643101e-02   1.22407305e+00] [  1.40193135e-03  -4.94394388e-02   4.74973411e+00]\n",
      "This is the average radius of curvature of the anes 2081.07767451\n"
     ]
    },
    {
     "name": "stderr",
     "output_type": "stream",
     "text": [
      "\r",
      " 89%|████████▉ | 1128/1261 [13:57<01:42,  1.29it/s]"
     ]
    },
    {
     "name": "stdout",
     "output_type": "stream",
     "text": [
      "956.933287804\n",
      "0.0 [  4.62634056e-05  -1.25851006e-01   3.30417935e+02] [  1.67333931e-04  -2.83944882e-01   1.28735122e+03]\n",
      "0.0 [  3.94386280e-04  -2.23511387e-02   1.22254636e+00] [  1.42648830e-03  -5.04286111e-02   4.76319953e+00]\n",
      "This is the average radius of curvature of the anes 1620.59174485\n"
     ]
    },
    {
     "name": "stderr",
     "output_type": "stream",
     "text": [
      "\r",
      " 90%|████████▉ | 1129/1261 [13:57<01:39,  1.33it/s]"
     ]
    },
    {
     "name": "stdout",
     "output_type": "stream",
     "text": [
      "947.158328067\n",
      "0.0 [  4.93997775e-05  -1.27571467e-01   3.30571972e+02] [  9.01463239e-05  -2.28615962e-01   1.27773030e+03]\n",
      "0.0 [  4.21123223e-04  -2.26566925e-02   1.22311630e+00] [  7.68479382e-04  -4.06021949e-02   4.72760211e+00]\n",
      "This is the average radius of curvature of the anes 1840.4603716\n"
     ]
    },
    {
     "name": "stderr",
     "output_type": "stream",
     "text": [
      "\r",
      " 90%|████████▉ | 1130/1261 [13:58<01:38,  1.33it/s]"
     ]
    },
    {
     "name": "stdout",
     "output_type": "stream",
     "text": [
      "945.458313712\n",
      "0.0 [  5.32769195e-05  -1.29721706e-01   3.30764842e+02] [  6.34535148e-05  -2.15834662e-01   1.27622316e+03]\n",
      "0.0 [  4.54175083e-04  -2.30385750e-02   1.22382991e+00] [  5.40928523e-04  -3.83322359e-02   4.72202568e+00]\n",
      "This is the average radius of curvature of the anes 2028.14820454\n"
     ]
    },
    {
     "name": "stderr",
     "output_type": "stream",
     "text": [
      "\r",
      " 90%|████████▉ | 1131/1261 [13:59<01:35,  1.36it/s]"
     ]
    },
    {
     "name": "stdout",
     "output_type": "stream",
     "text": [
      "946.425698802\n",
      "0.0 [  5.49110170e-05  -1.30866295e-01   3.30855257e+02] [  7.33492116e-05  -2.22997213e-01   1.27728096e+03]\n",
      "0.0 [  4.68105437e-04  -2.32418541e-02   1.22416445e+00] [  6.25287359e-04  -3.96043051e-02   4.72593954e+00]\n",
      "This is the average radius of curvature of the anes 1870.51544872\n"
     ]
    },
    {
     "name": "stderr",
     "output_type": "stream",
     "text": [
      "\r",
      " 90%|████████▉ | 1132/1261 [14:00<01:34,  1.36it/s]"
     ]
    },
    {
     "name": "stdout",
     "output_type": "stream",
     "text": [
      "935.983764998\n",
      "0.0 [  5.70422875e-05  -1.32049712e-01   3.30955532e+02] [  6.61937557e-05  -2.03362427e-01   1.26693930e+03]\n",
      "0.0 [  4.86274092e-04  -2.34520289e-02   1.22453547e+00] [  5.64288529e-04  -3.61171671e-02   4.68767540e+00]\n",
      "This is the average radius of curvature of the anes 1916.88093853\n"
     ]
    },
    {
     "name": "stderr",
     "output_type": "stream",
     "text": [
      "\r",
      " 90%|████████▉ | 1133/1261 [14:00<01:34,  1.36it/s]"
     ]
    },
    {
     "name": "stdout",
     "output_type": "stream",
     "text": [
      "934.66500224\n",
      "0.0 [  5.66643634e-05  -1.34301328e-01   3.31226853e+02] [  5.61198843e-05  -1.95681212e-01   1.26589186e+03]\n",
      "0.0 [  4.83052365e-04  -2.38519158e-02   1.22553936e+00] [  4.78410790e-04  -3.47529833e-02   4.68379986e+00]\n",
      "This is the average radius of curvature of the anes 2082.98881329\n"
     ]
    },
    {
     "name": "stderr",
     "output_type": "stream",
     "text": [
      "\r",
      " 90%|████████▉ | 1134/1261 [14:01<01:32,  1.37it/s]"
     ]
    },
    {
     "name": "stdout",
     "output_type": "stream",
     "text": [
      "933.251230891\n",
      "0.0 [  5.45055947e-05  -1.35366242e-01   3.31420132e+02] [  5.17713075e-05  -1.91594152e-01   1.26467136e+03]\n",
      "0.0 [  4.64649294e-04  -2.40410446e-02   1.22625449e+00] [  4.41340042e-04  -3.40271214e-02   4.67928404e+00]\n",
      "This is the average radius of curvature of the anes 2211.89492364\n"
     ]
    },
    {
     "name": "stderr",
     "output_type": "stream",
     "text": [
      "\r",
      " 90%|█████████ | 1135/1261 [14:02<01:34,  1.34it/s]"
     ]
    },
    {
     "name": "stdout",
     "output_type": "stream",
     "text": [
      "931.81359814\n",
      "0.0 [  5.30325660e-05  -1.37462134e-01   3.31733819e+02] [  5.89211093e-05  -1.93959134e-01   1.26354742e+03]\n",
      "0.0 [  4.52092019e-04  -2.44132751e-02   1.22741513e+00] [  5.02290673e-04  -3.44471423e-02   4.67512544e+00]\n",
      "This is the average radius of curvature of the anes 2104.17029657\n"
     ]
    },
    {
     "name": "stderr",
     "output_type": "stream",
     "text": [
      "\r",
      " 90%|█████████ | 1136/1261 [14:03<01:33,  1.34it/s]"
     ]
    },
    {
     "name": "stdout",
     "output_type": "stream",
     "text": [
      "927.31909633\n",
      "0.0 [  5.08963396e-05  -1.38429672e-01   3.31969005e+02] [  6.33843630e-05  -1.89055318e-01   1.25928810e+03]\n",
      "0.0 [  4.33881116e-04  -2.45851098e-02   1.22828532e+00] [  5.40339018e-04  -3.35762244e-02   4.65936597e+00]\n",
      "This is the average radius of curvature of the anes 2080.34458858\n"
     ]
    },
    {
     "name": "stderr",
     "output_type": "stream",
     "text": [
      "\r",
      " 90%|█████████ | 1137/1261 [14:03<01:34,  1.32it/s]"
     ]
    },
    {
     "name": "stdout",
     "output_type": "stream",
     "text": [
      "920.588108455\n",
      "0.0 [  5.81050170e-05  -1.44993283e-01   3.33185313e+02] [  6.95459763e-05  -1.83952540e-01   1.25377342e+03]\n",
      "0.0 [  4.95333649e-04  -2.57508070e-02   1.23278566e+00] [  5.92865539e-04  -3.26699711e-02   4.63896166e+00]\n",
      "This is the average radius of curvature of the anes 1855.13693963\n"
     ]
    },
    {
     "name": "stderr",
     "output_type": "stream",
     "text": [
      "\r",
      " 90%|█████████ | 1138/1261 [14:04<01:34,  1.31it/s]"
     ]
    },
    {
     "name": "stdout",
     "output_type": "stream",
     "text": [
      "915.698292259\n",
      "0.0 [  5.42579695e-05  -1.43593602e-01   3.33135814e+02] [  5.96798970e-05  -1.67815651e-01   1.24883411e+03]\n",
      "0.0 [  4.62538338e-04  -2.55022236e-02   1.23260251e+00] [  5.08759186e-04  -2.98040596e-02   4.62068619e+00]\n",
      "This is the average radius of curvature of the anes 2066.13921354\n"
     ]
    },
    {
     "name": "stderr",
     "output_type": "stream",
     "text": [
      "\r",
      " 90%|█████████ | 1139/1261 [14:05<01:32,  1.32it/s]"
     ]
    },
    {
     "name": "stdout",
     "output_type": "stream",
     "text": [
      "914.009603065\n",
      "0.0 [  4.65441971e-05  -1.39866406e-01   3.32898850e+02] [  6.87985181e-05  -1.69338587e-01   1.24690845e+03]\n",
      "0.0 [  3.96779971e-04  -2.48402737e-02   1.23172574e+00] [  5.86493607e-04  -3.00745331e-02   4.61356128e+00]\n",
      "This is the average radius of curvature of the anes 2114.99187629\n"
     ]
    },
    {
     "name": "stderr",
     "output_type": "stream",
     "text": [
      "\r",
      " 90%|█████████ | 1140/1261 [14:06<01:32,  1.30it/s]"
     ]
    },
    {
     "name": "stdout",
     "output_type": "stream",
     "text": [
      "913.102859745\n",
      "0.0 [  4.27213956e-05  -1.38016909e-01   3.32841100e+02] [  8.51599453e-05  -1.78663991e-01   1.24594396e+03]\n",
      "0.0 [  3.64191353e-04  -2.45118030e-02   1.23151207e+00] [  7.25971501e-04  -3.17307247e-02   4.60999265e+00]\n",
      "This is the average radius of curvature of the anes 2063.91484561\n"
     ]
    },
    {
     "name": "stderr",
     "output_type": "stream",
     "text": [
      "\r",
      " 90%|█████████ | 1141/1261 [14:06<01:30,  1.33it/s]"
     ]
    },
    {
     "name": "stdout",
     "output_type": "stream",
     "text": [
      "914.916452307\n",
      "0.0 [  3.38745372e-05  -1.34381789e-01   3.32708346e+02] [  7.91996566e-05  -1.82009939e-01   1.24762480e+03]\n",
      "0.0 [  2.88773655e-04  -2.38662057e-02   1.23102088e+00] [  6.75161232e-04  -3.23249652e-02   4.61621175e+00]\n",
      "This is the average radius of curvature of the anes 2474.66432227\n"
     ]
    },
    {
     "name": "stderr",
     "output_type": "stream",
     "text": [
      "\r",
      " 91%|█████████ | 1142/1261 [14:07<01:30,  1.32it/s]"
     ]
    },
    {
     "name": "stdout",
     "output_type": "stream",
     "text": [
      "915.934130362\n",
      "0.0 [  3.10481585e-05  -1.33353234e-01   3.32725759e+02] [  6.76109945e-05  -1.80449513e-01   1.24865989e+03]\n",
      "0.0 [  2.64679341e-04  -2.36835343e-02   1.23108531e+00] [  5.76370206e-04  -3.20478334e-02   4.62004159e+00]\n",
      "This is the average radius of curvature of the anes 2759.50273135\n"
     ]
    },
    {
     "name": "stderr",
     "output_type": "stream",
     "text": [
      "\r",
      " 91%|█████████ | 1143/1261 [14:08<01:27,  1.34it/s]"
     ]
    },
    {
     "name": "stdout",
     "output_type": "stream",
     "text": [
      "914.135697641\n",
      "0.0 [  3.17517981e-05  -1.34036313e-01   3.32848553e+02] [  5.66947760e-05  -1.71958921e-01   1.24698425e+03]\n",
      "0.0 [  2.70677729e-04  -2.38048491e-02   1.23153965e+00] [  4.83311627e-04  -3.05399044e-02   4.61384173e+00]\n",
      "This is the average radius of curvature of the anes 2884.7624069\n"
     ]
    },
    {
     "name": "stderr",
     "output_type": "stream",
     "text": [
      "\r",
      " 91%|█████████ | 1144/1261 [14:09<01:28,  1.32it/s]"
     ]
    },
    {
     "name": "stdout",
     "output_type": "stream",
     "text": [
      "910.75251636\n",
      "0.0 [  3.18193723e-05  -1.34071695e-01   3.32848891e+02] [  3.92601509e-05  -1.56000649e-01   1.24360141e+03]\n",
      "0.0 [  2.71253785e-04  -2.38111330e-02   1.23154090e+00] [  3.34684935e-04  -2.77057152e-02   4.60132521e+00]\n",
      "This is the average radius of curvature of the anes 3340.52294059\n"
     ]
    },
    {
     "name": "stderr",
     "output_type": "stream",
     "text": [
      "\r",
      " 91%|█████████ | 1145/1261 [14:09<01:27,  1.32it/s]"
     ]
    },
    {
     "name": "stdout",
     "output_type": "stream",
     "text": [
      "903.97038233\n",
      "0.0 [  4.90599174e-05  -1.45696468e-01   3.34550891e+02] [  5.10813486e-05  -1.53658176e-01   1.23852127e+03]\n",
      "0.0 [  4.18225984e-04  -2.58756926e-02   1.23783830e+00] [  4.35458280e-04  -2.72896921e-02   4.58252871e+00]\n",
      "This is the average radius of curvature of the anes 2346.22533194\n"
     ]
    },
    {
     "name": "stderr",
     "output_type": "stream",
     "text": [
      "\r",
      " 91%|█████████ | 1146/1261 [14:10<01:28,  1.30it/s]"
     ]
    },
    {
     "name": "stdout",
     "output_type": "stream",
     "text": [
      "903.618420783\n",
      "0.0 [  5.42442207e-05  -1.48797287e-01   3.34905429e+02] [  5.63351304e-05  -1.55220598e-01   1.23852385e+03]\n",
      "0.0 [  4.62421132e-04  -2.64263982e-02   1.23915009e+00] [  4.80245720e-04  -2.75671782e-02   4.58253824e+00]\n",
      "This is the average radius of curvature of the anes 2124.71905356\n"
     ]
    },
    {
     "name": "stderr",
     "output_type": "stream",
     "text": [
      "\r",
      " 91%|█████████ | 1147/1261 [14:11<01:26,  1.31it/s]"
     ]
    },
    {
     "name": "stdout",
     "output_type": "stream",
     "text": [
      "902.824613928\n",
      "0.0 [  5.66240422e-05  -1.50115765e-01   3.35039611e+02] [  6.88421007e-05  -1.59541207e-01   1.23786423e+03]\n",
      "0.0 [  4.82708635e-04  -2.66605599e-02   1.23964656e+00] [  5.86865140e-04  -2.83345183e-02   4.58009763e+00]\n",
      "This is the average radius of curvature of the anes 1889.93682023\n"
     ]
    },
    {
     "name": "stderr",
     "output_type": "stream",
     "text": [
      "\r",
      " 91%|█████████ | 1148/1261 [14:12<01:25,  1.31it/s]"
     ]
    },
    {
     "name": "stdout",
     "output_type": "stream",
     "text": [
      "903.240880282\n",
      "0.0 [  6.11329838e-05  -1.52845225e-01   3.35398949e+02] [  7.52662507e-05  -1.56725545e-01   1.23412343e+03]\n",
      "0.0 [  5.21146460e-04  -2.71453119e-02   1.24097611e+00] [  6.41629734e-04  -2.78344567e-02   4.56625670e+00]\n",
      "This is the average radius of curvature of the anes 1740.65525804\n"
     ]
    },
    {
     "name": "stderr",
     "output_type": "stream",
     "text": [
      "\r",
      " 91%|█████████ | 1149/1261 [14:13<01:25,  1.31it/s]"
     ]
    },
    {
     "name": "stdout",
     "output_type": "stream",
     "text": [
      "907.626609173\n",
      "0.0 [  6.08594042e-05  -1.52722887e-01   3.35385770e+02] [  1.14146576e-04  -1.86239387e-01   1.23956335e+03]\n",
      "0.0 [  5.18814249e-04  -2.71235847e-02   1.24092735e+00] [  9.73076731e-04  -3.30761152e-02   4.58638441e+00]\n",
      "This is the average radius of curvature of the anes 1479.47731899\n"
     ]
    },
    {
     "name": "stderr",
     "output_type": "stream",
     "text": [
      "\r",
      " 91%|█████████ | 1150/1261 [14:13<01:23,  1.33it/s]"
     ]
    },
    {
     "name": "stdout",
     "output_type": "stream",
     "text": [
      "908.075680616\n",
      "0.0 [  6.24451444e-05  -1.53587879e-01   3.35457598e+02] [  1.20263503e-04  -1.90125580e-01   1.23991405e+03]\n",
      "0.0 [  5.32332367e-04  -2.72772073e-02   1.24119311e+00] [  1.02522231e-03  -3.37663031e-02   4.58768198e+00]\n",
      "This is the average radius of curvature of the anes 1428.84472296\n"
     ]
    },
    {
     "name": "stderr",
     "output_type": "stream",
     "text": [
      "\r",
      " 91%|█████████▏| 1151/1261 [14:14<01:22,  1.33it/s]"
     ]
    },
    {
     "name": "stdout",
     "output_type": "stream",
     "text": [
      "905.601124965\n",
      "0.0 [  6.55279425e-05  -1.55195964e-01   3.35579017e+02] [  1.17157738e-04  -1.90885250e-01   1.24015015e+03]\n",
      "0.0 [  5.58612604e-04  -2.75628033e-02   1.24164236e+00] [  9.98746283e-04  -3.39012203e-02   4.58855554e+00]\n",
      "This is the average radius of curvature of the anes 1397.58581524\n"
     ]
    },
    {
     "name": "stderr",
     "output_type": "stream",
     "text": [
      "\r",
      " 91%|█████████▏| 1152/1261 [14:15<01:20,  1.36it/s]"
     ]
    },
    {
     "name": "stdout",
     "output_type": "stream",
     "text": [
      "905.029823264\n",
      "0.0 [  6.67585510e-05  -1.55885866e-01   3.35637234e+02] [  1.05588267e-04  -1.88856155e-01   1.24066706e+03]\n",
      "0.0 [  5.69103296e-04  -2.76853297e-02   1.24185777e+00] [  9.00118859e-04  -3.35408531e-02   4.59046811e+00]\n",
      "This is the average radius of curvature of the anes 1436.00525782\n"
     ]
    },
    {
     "name": "stderr",
     "output_type": "stream",
     "text": [
      "\r",
      " 91%|█████████▏| 1153/1261 [14:15<01:20,  1.33it/s]"
     ]
    },
    {
     "name": "stdout",
     "output_type": "stream",
     "text": [
      "904.481755411\n",
      "0.0 [  6.89224423e-05  -1.57134732e-01   3.35764962e+02] [  9.25309745e-05  -1.85633955e-01   1.24024672e+03]\n",
      "0.0 [  5.87550036e-04  -2.79071284e-02   1.24233036e+00] [  7.88808051e-04  -3.29685904e-02   4.58891285e+00]\n",
      "This is the average radius of curvature of the anes 1486.88718754\n"
     ]
    },
    {
     "name": "stderr",
     "output_type": "stream",
     "text": [
      "\r",
      " 92%|█████████▏| 1154/1261 [14:16<01:20,  1.33it/s]"
     ]
    },
    {
     "name": "stdout",
     "output_type": "stream",
     "text": [
      "917.40179694\n",
      "0.0 [  6.52469135e-05  -1.53160139e-01   3.34125687e+02] [  1.27043825e-04  -2.23174804e-01   1.25152748e+03]\n",
      "0.0 [  5.56216888e-04  -2.72012408e-02   1.23626504e+00] [  1.08302320e-03  -3.96358452e-02   4.63065169e+00]\n",
      "This is the average radius of curvature of the anes 1362.68676727\n"
     ]
    },
    {
     "name": "stderr",
     "output_type": "stream",
     "text": [
      "\r",
      " 92%|█████████▏| 1155/1261 [14:17<01:18,  1.35it/s]"
     ]
    },
    {
     "name": "stdout",
     "output_type": "stream",
     "text": [
      "918.31059507\n",
      "0.0 [  6.48749084e-05  -1.53296411e-01   3.33884916e+02] [  1.11312708e-04  -2.16065861e-01   1.25219551e+03]\n",
      "0.0 [  5.53045619e-04  -2.72254425e-02   1.23537419e+00] [  9.48918571e-04  -3.83732969e-02   4.63312339e+00]\n",
      "This is the average radius of curvature of the anes 1433.16979429\n"
     ]
    },
    {
     "name": "stderr",
     "output_type": "stream",
     "text": [
      "\r",
      " 92%|█████████▏| 1156/1261 [14:18<01:16,  1.36it/s]"
     ]
    },
    {
     "name": "stdout",
     "output_type": "stream",
     "text": [
      "918.322393489\n",
      "0.0 [  6.51918704e-05  -1.54520571e-01   3.33507995e+02] [  9.54205635e-05  -2.06347008e-01   1.25183039e+03]\n",
      "0.0 [  5.55747657e-04  -2.74428533e-02   1.23397958e+00] [  8.13441220e-04  -3.66472286e-02   4.63177244e+00]\n",
      "This is the average radius of curvature of the anes 1516.61669734\n"
     ]
    },
    {
     "name": "stderr",
     "output_type": "stream",
     "text": [
      "\r",
      " 92%|█████████▏| 1157/1261 [14:18<01:16,  1.36it/s]"
     ]
    },
    {
     "name": "stdout",
     "output_type": "stream",
     "text": [
      "928.461618194\n",
      "0.0 [  5.74422661e-05  -1.45309369e-01   3.27663624e+02] [  1.03380961e-04  -2.11061866e-01   1.25612524e+03]\n",
      "0.0 [  4.89683830e-04  -2.58069440e-02   1.21235541e+00] [  8.81302020e-04  -3.74845873e-02   4.64766339e+00]\n",
      "This is the average radius of curvature of the anes 1590.6257844\n"
     ]
    },
    {
     "name": "stderr",
     "output_type": "stream",
     "text": [
      "\r",
      " 92%|█████████▏| 1158/1261 [14:19<01:16,  1.35it/s]"
     ]
    },
    {
     "name": "stdout",
     "output_type": "stream",
     "text": [
      "929.390598915\n",
      "0.0 [  5.90548099e-05  -1.47761482e-01   3.27478831e+02] [  1.08954262e-04  -2.11774369e-01   1.25686943e+03]\n",
      "0.0 [  5.03430444e-04  -2.62424392e-02   1.21167167e+00] [  9.28813292e-04  -3.76111279e-02   4.65041689e+00]\n",
      "This is the average radius of curvature of the anes 1533.67598826\n"
     ]
    },
    {
     "name": "stderr",
     "output_type": "stream",
     "text": [
      "\r",
      " 92%|█████████▏| 1159/1261 [14:20<01:14,  1.36it/s]"
     ]
    },
    {
     "name": "stdout",
     "output_type": "stream",
     "text": [
      "932.876760148\n",
      "0.0 [  5.59968410e-05  -1.47105529e-01   3.27172140e+02] [  1.25223282e-04  -2.23286124e-01   1.26004890e+03]\n",
      "0.0 [  4.77361870e-04  -2.61259419e-02   1.21053692e+00] [  1.06750344e-03  -3.96556157e-02   4.66218093e+00]\n",
      "This is the average radius of curvature of the anes 1517.9838451\n"
     ]
    },
    {
     "name": "stderr",
     "output_type": "stream",
     "text": [
      "\r",
      " 92%|█████████▏| 1160/1261 [14:21<01:14,  1.36it/s]"
     ]
    },
    {
     "name": "stdout",
     "output_type": "stream",
     "text": [
      "933.68334751\n",
      "0.0 [  5.05652598e-05  -1.43940614e-01   3.26776262e+02] [  1.26279291e-04  -2.25412578e-01   1.26045961e+03]\n",
      "0.0 [  4.31058727e-04  -2.55638531e-02   1.20907217e+00] [  1.07650570e-03  -4.00332738e-02   4.66370055e+00]\n",
      "This is the average radius of curvature of the anes 1626.65473415\n"
     ]
    },
    {
     "name": "stderr",
     "output_type": "stream",
     "text": [
      "\r",
      " 92%|█████████▏| 1161/1261 [14:21<01:12,  1.37it/s]"
     ]
    },
    {
     "name": "stdout",
     "output_type": "stream",
     "text": [
      "924.661262955\n",
      "0.0 [  6.13756078e-05  -1.53860014e-01   3.28784684e+02] [  1.02885673e-04  -2.02831651e-01   1.25344595e+03]\n",
      "0.0 [  5.23214781e-04  -2.73255384e-02   1.21650333e+00] [  8.77079786e-04  -3.60229013e-02   4.63775000e+00]\n",
      "This is the average radius of curvature of the anes 1527.88458424\n"
     ]
    },
    {
     "name": "stderr",
     "output_type": "stream",
     "text": [
      "\r",
      " 92%|█████████▏| 1162/1261 [14:22<01:12,  1.37it/s]"
     ]
    },
    {
     "name": "stdout",
     "output_type": "stream",
     "text": [
      "928.113598222\n",
      "0.0 [  5.91062837e-05  -1.53251578e-01   3.28894677e+02] [  1.25136768e-04  -2.22137508e-01   1.25700828e+03]\n",
      "0.0 [  5.03869247e-04  -2.72174803e-02   1.21691031e+00] [  1.06676592e-03  -3.94516214e-02   4.65093062e+00]\n",
      "This is the average radius of curvature of the anes 1463.22486276\n"
     ]
    },
    {
     "name": "stderr",
     "output_type": "stream",
     "text": [
      "\r",
      " 92%|█████████▏| 1163/1261 [14:23<01:11,  1.37it/s]"
     ]
    },
    {
     "name": "stdout",
     "output_type": "stream",
     "text": [
      "925.959312805\n",
      "0.0 [  6.55113085e-05  -1.59309813e-01   3.30180601e+02] [  1.41144498e-04  -2.31893752e-01   1.25613991e+03]\n",
      "0.0 [  5.58470803e-04  -2.82934228e-02   1.22166822e+00] [  1.20322861e-03  -4.11843304e-02   4.64771768e+00]\n",
      "This is the average radius of curvature of the anes 1312.98355024\n"
     ]
    },
    {
     "name": "stderr",
     "output_type": "stream",
     "text": [
      "\r",
      " 92%|█████████▏| 1164/1261 [14:24<01:11,  1.37it/s]"
     ]
    },
    {
     "name": "stdout",
     "output_type": "stream",
     "text": [
      "927.073022154\n",
      "0.0 [  6.72916722e-05  -1.61708152e-01   3.30815486e+02] [  1.52811711e-04  -2.45801379e-01   1.25788851e+03]\n",
      "0.0 [  5.73648047e-04  -2.87193677e-02   1.22401730e+00] [  1.30268927e-03  -4.36543249e-02   4.65418748e+00]\n",
      "This is the average radius of curvature of the anes 1257.61224327\n"
     ]
    },
    {
     "name": "stderr",
     "output_type": "stream",
     "text": [
      "\r",
      " 92%|█████████▏| 1165/1261 [14:24<01:10,  1.36it/s]"
     ]
    },
    {
     "name": "stdout",
     "output_type": "stream",
     "text": [
      "934.618612336\n",
      "0.0 [  6.70940474e-05  -1.65257942e-01   3.31521181e+02] [  1.46007164e-04  -2.60518601e-01   1.26613979e+03]\n",
      "0.0 [  5.71963335e-04  -2.93498105e-02   1.22662837e+00] [  1.24468188e-03  -4.62681035e-02   4.68471724e+00]\n",
      "This is the average radius of curvature of the anes 1278.31138862\n"
     ]
    },
    {
     "name": "stderr",
     "output_type": "stream",
     "text": [
      "\r",
      " 92%|█████████▏| 1166/1261 [14:25<01:10,  1.36it/s]"
     ]
    },
    {
     "name": "stdout",
     "output_type": "stream",
     "text": [
      "931.616102157\n",
      "0.0 [  7.43106913e-05  -1.72862403e-01   3.32893504e+02] [  1.09954696e-04  -2.39516227e-01   1.26450961e+03]\n",
      "0.0 [  6.33483781e-04  -3.07003627e-02   1.23170596e+00] [  9.37341791e-04  -4.25380819e-02   4.67868554e+00]\n",
      "This is the average radius of curvature of the anes 1325.27416264\n"
     ]
    },
    {
     "name": "stderr",
     "output_type": "stream",
     "text": [
      "\r",
      " 93%|█████████▎| 1167/1261 [14:26<01:09,  1.35it/s]"
     ]
    },
    {
     "name": "stdout",
     "output_type": "stream",
     "text": [
      "930.984969392\n",
      "0.0 [  7.56072145e-05  -1.76152236e-01   3.33460398e+02] [  1.03815520e-04  -2.33854323e-01   1.26444537e+03]\n",
      "0.0 [  6.44536382e-04  -3.12846371e-02   1.23380347e+00] [  8.85006541e-04  -4.15325277e-02   4.67844786e+00]\n",
      "This is the average radius of curvature of the anes 1343.32056967\n"
     ]
    },
    {
     "name": "stderr",
     "output_type": "stream",
     "text": [
      "\r",
      " 93%|█████████▎| 1168/1261 [14:27<01:09,  1.33it/s]"
     ]
    },
    {
     "name": "stdout",
     "output_type": "stream",
     "text": [
      "930.059048087\n",
      "0.0 [  7.67848056e-05  -1.79457168e-01   3.33990490e+02] [  1.01015390e-04  -2.29938004e-01   1.26404954e+03]\n",
      "0.0 [  6.54575110e-04  -3.18715930e-02   1.23576481e+00] [  8.61135994e-04  -4.08369895e-02   4.67698329e+00]\n",
      "This is the average radius of curvature of the anes 1347.0998837\n"
     ]
    },
    {
     "name": "stderr",
     "output_type": "stream",
     "text": [
      "\r",
      " 93%|█████████▎| 1169/1261 [14:27<01:11,  1.29it/s]"
     ]
    },
    {
     "name": "stdout",
     "output_type": "stream",
     "text": [
      "928.151886387\n",
      "0.0 [  8.86918401e-05  -1.90683247e-01   3.36249825e+02] [  1.10039197e-04  -2.37002948e-01   1.26440171e+03]\n",
      "0.0 [  7.56080199e-04  -3.38653447e-02   1.24412435e+00] [  9.38062147e-04  -4.20917236e-02   4.67828633e+00]\n",
      "This is the average radius of curvature of the anes 1196.87434707\n"
     ]
    },
    {
     "name": "stderr",
     "output_type": "stream",
     "text": [
      "\r",
      " 93%|█████████▎| 1170/1261 [14:28<01:10,  1.29it/s]"
     ]
    },
    {
     "name": "stdout",
     "output_type": "stream",
     "text": [
      "928.708912576\n",
      "0.0 [  9.44000452e-05  -1.97535776e-01   3.37798674e+02] [  1.41111147e-04  -2.56815036e-01   1.26650759e+03]\n",
      "0.0 [  8.04741505e-04  -3.50823538e-02   1.24985509e+00] [  1.20294431e-03  -4.56103504e-02   4.68607807e+00]\n",
      "This is the average radius of curvature of the anes 1039.40944883\n"
     ]
    },
    {
     "name": "stderr",
     "output_type": "stream",
     "text": [
      "\r",
      " 93%|█████████▎| 1171/1261 [14:29<01:09,  1.30it/s]"
     ]
    },
    {
     "name": "stdout",
     "output_type": "stream",
     "text": [
      "923.403199038\n",
      "0.0 [  1.09175902e-04  -2.18383312e-01   3.44480503e+02] [  1.57655455e-04  -2.70741474e-01   1.26788370e+03]\n",
      "0.0 [  9.30702731e-04  -3.87848762e-02   1.27457786e+00] [  1.34398122e-03  -4.80836858e-02   4.69116970e+00]\n",
      "This is the average radius of curvature of the anes 911.761095332\n"
     ]
    },
    {
     "name": "stderr",
     "output_type": "stream",
     "text": [
      "\r",
      " 93%|█████████▎| 1172/1261 [14:30<01:09,  1.28it/s]"
     ]
    },
    {
     "name": "stdout",
     "output_type": "stream",
     "text": [
      "919.867913737\n",
      "0.0 [  1.10823523e-04  -2.24987537e-01   3.47582335e+02] [  1.57582667e-04  -2.70781609e-01   1.26745025e+03]\n",
      "0.0 [  9.44748372e-04  -3.99577865e-02   1.28605464e+00] [  1.34336072e-03  -4.80908138e-02   4.68956592e+00]\n",
      "This is the average radius of curvature of the anes 904.002251046\n"
     ]
    },
    {
     "name": "stderr",
     "output_type": "stream",
     "text": [
      "\r",
      " 93%|█████████▎| 1173/1261 [14:30<01:07,  1.30it/s]"
     ]
    },
    {
     "name": "stdout",
     "output_type": "stream",
     "text": [
      "923.00189688\n",
      "0.0 [  1.05014390e-04  -2.22604289e-01   3.47762953e+02] [  1.81966863e-04  -2.89256202e-01   1.27076485e+03]\n",
      "0.0 [  8.95226671e-04  -3.95345218e-02   1.28672293e+00] [  1.55123111e-03  -5.13719014e-02   4.70182995e+00]\n",
      "This is the average radius of curvature of the anes 883.429136197\n"
     ]
    },
    {
     "name": "stderr",
     "output_type": "stream",
     "text": [
      "\r",
      " 93%|█████████▎| 1174/1261 [14:31<01:05,  1.32it/s]"
     ]
    },
    {
     "name": "stdout",
     "output_type": "stream",
     "text": [
      "919.298770172\n",
      "0.0 [  9.47644352e-05  -2.20709835e-01   3.51149123e+02] [  1.72619191e-04  -2.87029188e-01   1.27044789e+03]\n",
      "0.0 [  8.07847857e-04  -3.91980666e-02   1.29925175e+00] [  1.47154408e-03  -5.09763839e-02   4.70065720e+00]\n",
      "This is the average radius of curvature of the anes 961.459868185\n"
     ]
    },
    {
     "name": "stderr",
     "output_type": "stream",
     "text": [
      "\r",
      " 93%|█████████▎| 1175/1261 [14:32<01:05,  1.32it/s]"
     ]
    },
    {
     "name": "stdout",
     "output_type": "stream",
     "text": [
      "921.443360438\n",
      "0.0 [  8.97503132e-05  -2.16382199e-01   3.51448263e+02] [  1.62732614e-04  -2.89958228e-01   1.27289162e+03]\n",
      "0.0 [  7.65103470e-04  -3.84294786e-02   1.30035857e+00] [  1.38726299e-03  -5.14965812e-02   4.70969901e+00]\n",
      "This is the average radius of curvature of the anes 1016.81116828\n"
     ]
    },
    {
     "name": "stderr",
     "output_type": "stream",
     "text": [
      "\r",
      " 93%|█████████▎| 1176/1261 [14:33<01:04,  1.33it/s]"
     ]
    },
    {
     "name": "stdout",
     "output_type": "stream",
     "text": [
      "930.246645006\n",
      "0.0 [  8.79981016e-05  -2.13784681e-01   3.51598986e+02] [  1.73157086e-04  -3.10187893e-01   1.28184563e+03]\n",
      "0.0 [  7.50166216e-04  -3.79681593e-02   1.30091625e+00] [  1.47612953e-03  -5.50893698e-02   4.74282884e+00]\n",
      "This is the average radius of curvature of the anes 1008.22752121\n"
     ]
    },
    {
     "name": "stderr",
     "output_type": "stream",
     "text": [
      "\r",
      " 93%|█████████▎| 1177/1261 [14:33<01:02,  1.34it/s]"
     ]
    },
    {
     "name": "stdout",
     "output_type": "stream",
     "text": [
      "918.245690906\n",
      "0.0 [  9.61914774e-05  -2.21233651e-01   3.56084635e+02] [  1.13233792e-04  -2.62007487e-01   1.27433033e+03]\n",
      "0.0 [  8.20013106e-04  -3.92910965e-02   1.31751315e+00] [  9.65295432e-04  -4.65325298e-02   4.71502221e+00]\n",
      "This is the average radius of curvature of the anes 1130.81826801\n"
     ]
    },
    {
     "name": "stderr",
     "output_type": "stream",
     "text": [
      "\r",
      " 93%|█████████▎| 1178/1261 [14:34<01:02,  1.33it/s]"
     ]
    },
    {
     "name": "stdout",
     "output_type": "stream",
     "text": [
      "918.121349994\n",
      "0.0 [  1.03938708e-04  -2.24379882e-01   3.56539390e+02] [  7.72543499e-05  -2.35105799e-01   1.27466074e+03]\n",
      "0.0 [  8.86056702e-04  -3.98498670e-02   1.31919574e+00] [  6.58577882e-04  -4.17547899e-02   4.71624474e+00]\n",
      "This is the average radius of curvature of the anes 1326.840673\n"
     ]
    },
    {
     "name": "stderr",
     "output_type": "stream",
     "text": [
      "\r",
      " 93%|█████████▎| 1179/1261 [14:35<01:02,  1.32it/s]"
     ]
    },
    {
     "name": "stdout",
     "output_type": "stream",
     "text": [
      "916.810119829\n",
      "0.0 [  9.72444043e-05  -2.17002184e-01   3.56753402e+02] [  3.23889922e-06  -1.84653578e-01   1.27078062e+03]\n",
      "0.0 [  8.28989098e-04  -3.85395878e-02   1.31998759e+00] [  2.76109681e-05  -3.27944754e-02   4.70188830e+00]\n",
      "This is the average radius of curvature of the anes 18742.455397\n"
     ]
    },
    {
     "name": "stderr",
     "output_type": "stream",
     "text": [
      "\r",
      " 94%|█████████▎| 1180/1261 [14:36<01:01,  1.32it/s]"
     ]
    },
    {
     "name": "stdout",
     "output_type": "stream",
     "text": [
      "917.185975453\n",
      "0.0 [  8.91181016e-05  -2.08259151e-01   3.56600641e+02] [  1.98197024e-08  -1.77039721e-01   1.27105185e+03]\n",
      "0.0 [  7.59713992e-04  -3.69868251e-02   1.31942237e+00] [  1.68958999e-07  -3.14422545e-02   4.70289185e+00]\n",
      "This is the average radius of curvature of the anes 2964346.82891\n"
     ]
    },
    {
     "name": "stderr",
     "output_type": "stream",
     "text": [
      "\r",
      " 94%|█████████▎| 1181/1261 [14:36<01:00,  1.32it/s]"
     ]
    },
    {
     "name": "stdout",
     "output_type": "stream",
     "text": [
      "920.449680863\n",
      "0.0 [  9.40218933e-05  -2.09602397e-01   3.57002019e+02] [  2.49383962e-05  -1.91156007e-01   1.27622035e+03]\n",
      "0.0 [  8.01517836e-04  -3.72253857e-02   1.32090747e+00] [  2.12594840e-04  -3.39493068e-02   4.72201528e+00]\n",
      "This is the average radius of curvature of the anes 2981.07225664\n"
     ]
    },
    {
     "name": "stderr",
     "output_type": "stream",
     "text": [
      "\r",
      " 94%|█████████▎| 1182/1261 [14:37<01:01,  1.28it/s]"
     ]
    },
    {
     "name": "stdout",
     "output_type": "stream",
     "text": [
      "923.984083964\n",
      "0.0 [  7.79831321e-05  -1.93849072e-01   3.56215568e+02] [  6.42606342e-05  -2.14061233e-01   1.28019965e+03]\n",
      "0.0 [  6.64790604e-04  -3.44275952e-02   1.31799760e+00] [  5.47809055e-04  -3.80172750e-02   4.73673871e+00]\n",
      "This is the average radius of curvature of the anes 1668.16037088\n"
     ]
    },
    {
     "name": "stderr",
     "output_type": "stream",
     "text": [
      "\r",
      " 94%|█████████▍| 1183/1261 [14:38<00:59,  1.30it/s]"
     ]
    },
    {
     "name": "stdout",
     "output_type": "stream",
     "text": [
      "928.995311531\n",
      "0.0 [  7.57565896e-05  -1.88806170e-01   3.56014010e+02] [  9.09568425e-05  -2.31698378e-01   1.28500932e+03]\n",
      "0.0 [  6.45809775e-04  -3.35319758e-02   1.31725184e+00] [  7.75388891e-04  -4.11496319e-02   4.75453449e+00]\n",
      "This is the average radius of curvature of the anes 1422.00420647\n"
     ]
    },
    {
     "name": "stderr",
     "output_type": "stream",
     "text": [
      "\r",
      " 94%|█████████▍| 1184/1261 [14:39<00:58,  1.32it/s]"
     ]
    },
    {
     "name": "stdout",
     "output_type": "stream",
     "text": [
      "928.802501216\n",
      "0.0 [  7.22801713e-05  -1.82073743e-01   3.55739465e+02] [  9.00635489e-05  -2.24595757e-01   1.28454197e+03]\n",
      "0.0 [  6.16174004e-04  -3.23362968e-02   1.31623602e+00] [  7.67773742e-04  -3.98882065e-02   4.75280527e+00]\n",
      "This is the average radius of curvature of the anes 1465.52054284\n"
     ]
    },
    {
     "name": "stderr",
     "output_type": "stream",
     "text": [
      "\r",
      " 94%|█████████▍| 1185/1261 [14:39<00:55,  1.36it/s]"
     ]
    },
    {
     "name": "stdout",
     "output_type": "stream",
     "text": [
      "917.456010216\n",
      "0.0 [  7.17861361e-05  -1.82007883e-01   3.59698998e+02] [  6.16895660e-05  -1.91364096e-01   1.27715501e+03]\n",
      "0.0 [  6.11962453e-04  -3.23246000e-02   1.33088629e+00] [  5.25891213e-04  -3.39862634e-02   4.72547353e+00]\n",
      "This is the average radius of curvature of the anes 1770.73924793\n"
     ]
    },
    {
     "name": "stderr",
     "output_type": "stream",
     "text": [
      "\r",
      " 94%|█████████▍| 1186/1261 [14:40<00:55,  1.36it/s]"
     ]
    },
    {
     "name": "stdout",
     "output_type": "stream",
     "text": [
      "924.634109127\n",
      "0.0 [  8.05196727e-05  -1.85365115e-01   3.60359971e+02] [  1.09822897e-04  -2.29435832e-01   1.28499408e+03]\n",
      "0.0 [  6.86414106e-04  -3.29208443e-02   1.33333189e+00] [  9.36218231e-04  -4.07478037e-02   4.75447810e+00]\n",
      "This is the average radius of curvature of the anes 1265.0019504\n"
     ]
    },
    {
     "name": "stderr",
     "output_type": "stream",
     "text": [
      "\r",
      " 94%|█████████▍| 1187/1261 [14:41<00:53,  1.39it/s]"
     ]
    },
    {
     "name": "stdout",
     "output_type": "stream",
     "text": [
      "931.085388928\n",
      "0.0 [  8.52733528e-05  -1.85879174e-01   3.60915993e+02] [  1.52545325e-04  -2.63523533e-01   1.29200138e+03]\n",
      "0.0 [  7.26938278e-04  -3.30121413e-02   1.33538917e+00] [  1.30041839e-03  -4.68017794e-02   4.78040511e+00]\n",
      "This is the average radius of curvature of the anes 1074.69660767\n"
     ]
    },
    {
     "name": "stderr",
     "output_type": "stream",
     "text": [
      "\r",
      " 94%|█████████▍| 1188/1261 [14:42<00:52,  1.39it/s]"
     ]
    },
    {
     "name": "stdout",
     "output_type": "stream",
     "text": [
      "929.936645453\n",
      "0.0 [  8.86087506e-05  -1.85468384e-01   3.61194768e+02] [  1.31051512e-04  -2.51551987e-01   1.29113141e+03]\n",
      "0.0 [  7.55371877e-04  -3.29391849e-02   1.33642064e+00] [  1.11718793e-03  -4.46756330e-02   4.77718623e+00]\n",
      "This is the average radius of curvature of the anes 1111.89604438\n"
     ]
    },
    {
     "name": "stderr",
     "output_type": "stream",
     "text": [
      "\r",
      " 94%|█████████▍| 1189/1261 [14:42<00:51,  1.40it/s]"
     ]
    },
    {
     "name": "stdout",
     "output_type": "stream",
     "text": [
      "938.254804034\n",
      "0.0 [  9.04329657e-05  -1.86413902e-01   3.61276575e+02] [  1.55349916e-04  -2.76037835e-01   1.29953138e+03]\n",
      "0.0 [  7.70922946e-04  -3.31071090e-02   1.33672333e+00] [  1.32432696e-03  -4.90243195e-02   4.80826610e+00]\n",
      "This is the average radius of curvature of the anes 1028.55205776\n"
     ]
    },
    {
     "name": "stderr",
     "output_type": "stream",
     "text": [
      "\r",
      " 94%|█████████▍| 1190/1261 [14:43<00:50,  1.40it/s]"
     ]
    },
    {
     "name": "stdout",
     "output_type": "stream",
     "text": [
      "921.451128994\n",
      "0.0 [  9.71935837e-05  -1.90232274e-01   3.61878548e+02] [  3.49362430e-05  -1.82048253e-01   1.28306072e+03]\n",
      "0.0 [  8.28555862e-04  -3.37852519e-02   1.33895063e+00] [  2.97824485e-04  -3.23317698e-02   4.74732468e+00]\n",
      "This is the average radius of curvature of the anes 2285.96741454\n"
     ]
    },
    {
     "name": "stderr",
     "output_type": "stream",
     "text": [
      "\r",
      " 94%|█████████▍| 1191/1261 [14:44<00:52,  1.34it/s]"
     ]
    },
    {
     "name": "stdout",
     "output_type": "stream",
     "text": [
      "919.367208772\n",
      "0.0 [  1.01524222e-04  -1.92693877e-01   3.62270258e+02] [ -4.62273806e-06  -1.48396698e-01   1.27701596e+03]\n",
      "0.0 [  8.65473685e-04  -3.42224325e-02   1.34039996e+00] [ -3.94079175e-05  -2.63552536e-02   4.72495906e+00]\n",
      "This is the average radius of curvature of the anes 13279.7609437\n"
     ]
    },
    {
     "name": "stderr",
     "output_type": "stream",
     "text": [
      "\r",
      " 95%|█████████▍| 1192/1261 [14:45<00:52,  1.33it/s]"
     ]
    },
    {
     "name": "stdout",
     "output_type": "stream",
     "text": [
      "916.578390894\n",
      "0.0 [  1.06686197e-04  -1.94563002e-01   3.62625926e+02] [  2.63736305e-05  -1.64917564e-01   1.27646861e+03]\n",
      "0.0 [  9.09478491e-04  -3.45543891e-02   1.34171593e+00] [  2.24829925e-04  -2.92893594e-02   4.72293385e+00]\n",
      "This is the average radius of curvature of the anes 2777.51611647\n"
     ]
    },
    {
     "name": "stderr",
     "output_type": "stream",
     "text": [
      "\r",
      " 95%|█████████▍| 1193/1261 [14:45<00:51,  1.32it/s]"
     ]
    },
    {
     "name": "stdout",
     "output_type": "stream",
     "text": [
      "910.265608547\n",
      "0.0 [  1.24090492e-04  -2.08652135e-01   3.66596297e+02] [  9.02411082e-05  -2.04721706e-01   1.27674781e+03]\n",
      "0.0 [  1.05784663e-03  -3.70566192e-02   1.35640630e+00] [  7.69287399e-04  -3.63585749e-02   4.72396690e+00]\n",
      "This is the average radius of curvature of the anes 1124.87360073\n"
     ]
    },
    {
     "name": "stderr",
     "output_type": "stream",
     "text": [
      "\r",
      " 95%|█████████▍| 1194/1261 [14:46<00:51,  1.29it/s]"
     ]
    },
    {
     "name": "stdout",
     "output_type": "stream",
     "text": [
      "912.503851165\n",
      "0.0 [  1.29086972e-04  -2.13253824e-01   3.67746687e+02] [  1.21827720e-04  -2.28612161e-01   1.28025054e+03]\n",
      "0.0 [  1.10044062e-03  -3.78738791e-02   1.36066274e+00] [  1.03855695e-03  -4.06015198e-02   4.73692699e+00]\n",
      "This is the average radius of curvature of the anes 937.969633112\n"
     ]
    },
    {
     "name": "stderr",
     "output_type": "stream",
     "text": [
      "\r",
      " 95%|█████████▍| 1195/1261 [14:47<00:49,  1.32it/s]"
     ]
    },
    {
     "name": "stdout",
     "output_type": "stream",
     "text": [
      "904.31308264\n",
      "0.0 [  1.49086443e-04  -2.31565281e-01   3.72354828e+02] [  8.84520696e-05  -1.93983282e-01   1.27084445e+03]\n",
      "0.0 [  1.27093211e-03  -4.11259939e-02   1.37771286e+00] [  7.54036203e-04  -3.44514309e-02   4.70212448e+00]\n",
      "This is the average radius of curvature of the anes 1058.68959387\n"
     ]
    },
    {
     "name": "stderr",
     "output_type": "stream",
     "text": [
      "\r",
      " 95%|█████████▍| 1196/1261 [14:48<00:48,  1.35it/s]"
     ]
    },
    {
     "name": "stdout",
     "output_type": "stream",
     "text": [
      "899.332629027\n",
      "0.0 [  1.71520724e-04  -2.53880495e-01   3.78605518e+02] [  1.03283439e-04  -2.06194571e-01   1.26960713e+03]\n",
      "0.0 [ 0.00146218 -0.04508918  1.40084042] [  8.80470658e-04  -3.66201558e-02   4.69754638e+00]\n",
      "This is the average radius of curvature of the anes 912.019328917\n"
     ]
    },
    {
     "name": "stderr",
     "output_type": "stream",
     "text": [
      "\r",
      " 95%|█████████▍| 1197/1261 [14:48<00:47,  1.36it/s]"
     ]
    },
    {
     "name": "stdout",
     "output_type": "stream",
     "text": [
      "899.04675533\n",
      "0.0 [  1.76102600e-04  -2.59411559e-01   3.80185292e+02] [  1.11508152e-04  -2.14433622e-01   1.27140237e+03]\n",
      "0.0 [ 0.00150124 -0.04607149  1.40668558] [  9.50584698e-04  -3.80834112e-02   4.70418877e+00]\n",
      "This is the average radius of curvature of the anes 861.255883069\n"
     ]
    },
    {
     "name": "stderr",
     "output_type": "stream",
     "text": [
      "\r",
      " 95%|█████████▌| 1198/1261 [14:49<00:46,  1.36it/s]"
     ]
    },
    {
     "name": "stdout",
     "output_type": "stream",
     "text": [
      "902.003052721\n",
      "0.0 [  1.73447441e-04  -2.58106540e-01   3.80126193e+02] [  1.12673325e-04  -2.26658393e-01   1.27806096e+03]\n",
      "0.0 [ 0.0014786  -0.04583972  1.40646691] [  9.60517565e-04  -4.02545305e-02   4.72882557e+00]\n",
      "This is the average radius of curvature of the anes 861.04151104\n"
     ]
    },
    {
     "name": "stderr",
     "output_type": "stream",
     "text": [
      "\r",
      " 95%|█████████▌| 1199/1261 [14:50<00:45,  1.36it/s]"
     ]
    },
    {
     "name": "stdout",
     "output_type": "stream",
     "text": [
      "912.96699161\n",
      "0.0 [  1.56753523e-04  -2.49208934e-01   3.78994531e+02] [  9.91936507e-05  -2.32881717e-01   1.29080370e+03]\n",
      "0.0 [  1.33629244e-03  -4.42595066e-02   1.40227977e+00] [  8.45606034e-04  -4.13597930e-02   4.77597367e+00]\n",
      "This is the average radius of curvature of the anes 968.079352661\n"
     ]
    },
    {
     "name": "stderr",
     "output_type": "stream",
     "text": [
      "\r",
      " 95%|█████████▌| 1200/1261 [14:51<00:44,  1.36it/s]"
     ]
    },
    {
     "name": "stdout",
     "output_type": "stream",
     "text": [
      "932.611567926\n",
      "0.0 [  1.29578323e-04  -2.25982473e-01   3.72019220e+02] [  8.79508213e-05  -2.39191024e-01   1.30463079e+03]\n",
      "0.0 [  1.10462929e-03  -4.01344873e-02   1.37647111e+00] [  7.49763161e-04  -4.24803258e-02   4.82713391e+00]\n",
      "This is the average radius of curvature of the anes 1122.41785423\n"
     ]
    },
    {
     "name": "stderr",
     "output_type": "stream",
     "text": [
      "\r",
      " 95%|█████████▌| 1201/1261 [14:51<00:44,  1.35it/s]"
     ]
    },
    {
     "name": "stdout",
     "output_type": "stream",
     "text": [
      "927.756153505\n",
      "0.0 [  1.26798187e-04  -2.24964012e-01   3.71917132e+02] [  3.48920869e-05  -1.89335281e-01   1.29622029e+03]\n",
      "0.0 [  1.08092918e-03  -3.99536085e-02   1.37609339e+00] [  2.97448062e-04  -3.36259459e-02   4.79601507e+00]\n",
      "This is the average radius of curvature of the anes 2147.49056872\n"
     ]
    },
    {
     "name": "stderr",
     "output_type": "stream",
     "text": [
      "\r",
      " 95%|█████████▌| 1202/1261 [14:52<00:42,  1.38it/s]"
     ]
    },
    {
     "name": "stdout",
     "output_type": "stream",
     "text": [
      "929.76442989\n",
      "0.0 [  1.19154674e-04  -2.19908368e-01   3.71164480e+02] [ -3.54375545e-05  -1.24042487e-01   1.28606680e+03]\n",
      "0.0 [  1.01576977e-03  -3.90557262e-02   1.37330858e+00] [ -3.02098064e-04  -2.20299456e-02   4.75844716e+00]\n",
      "This is the average radius of curvature of the anes 2149.66092918\n"
     ]
    },
    {
     "name": "stderr",
     "output_type": "stream",
     "text": [
      "\r",
      " 95%|█████████▌| 1203/1261 [14:53<00:42,  1.36it/s]"
     ]
    },
    {
     "name": "stdout",
     "output_type": "stream",
     "text": [
      "930.239870531\n",
      "0.0 [  1.22210468e-04  -2.21548917e-01   3.71294941e+02] [ -3.08603192e-05  -1.14636989e-01   1.28286672e+03]\n",
      "0.0 [  1.04181980e-03  -3.93470876e-02   1.37379128e+00] [ -2.63078049e-04  -2.03595293e-02   4.74660688e+00]\n",
      "This is the average radius of curvature of the anes 2382.80290886\n"
     ]
    },
    {
     "name": "stderr",
     "output_type": "stream",
     "text": [
      "\r",
      " 95%|█████████▌| 1204/1261 [14:53<00:41,  1.38it/s]"
     ]
    },
    {
     "name": "stdout",
     "output_type": "stream",
     "text": [
      "929.749299251\n",
      "0.0 [  1.32601766e-04  -2.27882086e-01   3.72282954e+02] [ -1.19110049e-05  -1.20528072e-01   1.28209480e+03]\n",
      "0.0 [  1.13040353e-03  -4.04718585e-02   1.37744693e+00] [ -1.01538934e-04  -2.14057856e-02   4.74375075e+00]\n",
      "This is the average radius of curvature of the anes 5371.01148128\n"
     ]
    },
    {
     "name": "stderr",
     "output_type": "stream",
     "text": [
      "\r",
      " 96%|█████████▌| 1205/1261 [14:54<00:40,  1.37it/s]"
     ]
    },
    {
     "name": "stdout",
     "output_type": "stream",
     "text": [
      "927.139337122\n",
      "0.0 [  1.26930555e-04  -2.22140433e-01   3.73100118e+02] [  1.68148698e-05  -1.37306081e-01   1.28390013e+03]\n",
      "0.0 [  1.08205760e-03  -3.94521409e-02   1.38047043e+00] [  1.43343402e-04  -2.43855600e-02   4.75043047e+00]\n",
      "This is the average radius of curvature of the anes 3954.40073665\n"
     ]
    },
    {
     "name": "stderr",
     "output_type": "stream",
     "text": [
      "\r",
      " 96%|█████████▌| 1206/1261 [14:55<00:40,  1.37it/s]"
     ]
    },
    {
     "name": "stdout",
     "output_type": "stream",
     "text": [
      "918.611332195\n",
      "0.0 [  1.20064217e-04  -2.22423992e-01   3.80228494e+02] [  4.58983056e-05  -1.54761653e-01   1.28340756e+03]\n",
      "0.0 [  1.02352344e-03  -3.95025009e-02   1.40684543e+00] [  3.91273876e-04  -2.74856696e-02   4.74860798e+00]\n",
      "This is the average radius of curvature of the anes 1768.97812698\n"
     ]
    },
    {
     "name": "stderr",
     "output_type": "stream",
     "text": [
      "\r",
      " 96%|█████████▌| 1207/1261 [14:56<00:39,  1.37it/s]"
     ]
    },
    {
     "name": "stdout",
     "output_type": "stream",
     "text": [
      "909.757108078\n",
      "0.0 [  1.19833990e-04  -2.30583322e-01   3.89650882e+02] [  6.77954805e-05  -1.67800196e-01   1.28047144e+03]\n",
      "0.0 [  1.02156080e-03  -4.09515979e-02   1.44170826e+00] [  5.77942912e-04  -2.98013149e-02   4.73774431e+00]\n",
      "This is the average radius of curvature of the anes 1356.96899549\n"
     ]
    },
    {
     "name": "stderr",
     "output_type": "stream",
     "text": [
      "\r",
      " 96%|█████████▌| 1208/1261 [14:56<00:38,  1.39it/s]"
     ]
    },
    {
     "name": "stdout",
     "output_type": "stream",
     "text": [
      "910.510580535\n",
      "0.0 [  1.26259503e-04  -2.35209455e-01   3.92787360e+02] [  1.18324147e-04  -2.06199970e-01   1.28654239e+03]\n",
      "0.0 [  1.07633702e-03  -4.17731991e-02   1.45331323e+00] [  1.00868969e-03  -3.66211146e-02   4.76020685e+00]\n",
      "This is the average radius of curvature of the anes 962.445061567\n"
     ]
    },
    {
     "name": "stderr",
     "output_type": "stream",
     "text": [
      "\r",
      " 96%|█████████▌| 1209/1261 [14:57<00:37,  1.38it/s]"
     ]
    },
    {
     "name": "stdout",
     "output_type": "stream",
     "text": [
      "909.670875751\n",
      "0.0 [  1.25779534e-04  -2.42189031e-01   4.00883834e+02] [  1.86512312e-04  -2.60938747e-01   1.29263928e+03]\n",
      "0.0 [  1.07224537e-03  -4.30127719e-02   1.48327019e+00] [  1.58998015e-03  -4.63427215e-02   4.78276533e+00]\n",
      "This is the average radius of curvature of the anes 783.088787208\n"
     ]
    },
    {
     "name": "stderr",
     "output_type": "stream",
     "text": [
      "\r",
      " 96%|█████████▌| 1210/1261 [14:58<00:36,  1.40it/s]"
     ]
    },
    {
     "name": "stdout",
     "output_type": "stream",
     "text": [
      "906.622700481\n",
      "0.0 [  1.25031187e-04  -2.40981896e-01   4.02431502e+02] [  2.40384054e-04  -3.19736283e-01   1.30604567e+03]\n",
      "0.0 [  1.06586587e-03  -4.27983848e-02   1.48899656e+00] [  2.04922598e-03  -5.67851638e-02   4.83236899e+00]\n",
      "This is the average radius of curvature of the anes 715.567327356\n"
     ]
    },
    {
     "name": "stderr",
     "output_type": "stream",
     "text": [
      "\r",
      " 96%|█████████▌| 1211/1261 [14:59<00:35,  1.39it/s]"
     ]
    },
    {
     "name": "stdout",
     "output_type": "stream",
     "text": [
      "895.475063025\n",
      "0.0 [  1.41311383e-04  -2.54268858e-01   4.06047970e+02] [  1.79531520e-04  -2.78142411e-01   1.29892980e+03]\n",
      "0.0 [  1.20465128e-03  -4.51581492e-02   1.50237749e+00] [  1.53047030e-03  -4.93980923e-02   4.80604025e+00]\n",
      "This is the average radius of curvature of the anes 744.22162446\n"
     ]
    },
    {
     "name": "stderr",
     "output_type": "stream",
     "text": [
      "\r",
      " 96%|█████████▌| 1212/1261 [14:59<00:34,  1.42it/s]"
     ]
    },
    {
     "name": "stdout",
     "output_type": "stream",
     "text": [
      "890.399111785\n",
      "0.0 [  1.54433951e-04  -2.65579263e-01   4.08862433e+02] [  6.55367504e-05  -1.94005709e-01   1.28485511e+03]\n",
      "0.0 [  1.31651855e-03  -4.71668772e-02   1.51279100e+00] [  5.58687690e-04  -3.44554139e-02   4.75396390e+00]\n",
      "This is the average radius of curvature of the anes 1277.60621348\n"
     ]
    },
    {
     "name": "stderr",
     "output_type": "stream",
     "text": [
      "\r",
      " 96%|█████████▌| 1213/1261 [15:00<00:34,  1.40it/s]"
     ]
    },
    {
     "name": "stdout",
     "output_type": "stream",
     "text": [
      "895.748851105\n",
      "0.0 [  1.50773107e-04  -2.63683948e-01   4.08728808e+02] [  7.98006902e-05  -2.19511763e-01   1.29760463e+03]\n",
      "0.0 [  1.28531058e-03  -4.68302692e-02   1.51229659e+00] [  6.80284924e-04  -3.89852890e-02   4.80113714e+00]\n",
      "This is the average radius of curvature of the anes 1126.95382787\n"
     ]
    },
    {
     "name": "stderr",
     "output_type": "stream",
     "text": [
      "\r",
      " 96%|█████████▋| 1214/1261 [15:01<00:33,  1.41it/s]"
     ]
    },
    {
     "name": "stdout",
     "output_type": "stream",
     "text": [
      "898.304780119\n",
      "0.0 [  1.54902955e-04  -2.66313037e-01   4.09096049e+02] [  7.15135077e-05  -2.11221347e-01   1.29830168e+03]\n",
      "0.0 [  1.32051671e-03  -4.72971953e-02   1.51365538e+00] [  6.09638351e-04  -3.75129112e-02   4.80371622e+00]\n",
      "This is the average radius of curvature of the anes 1201.80111036\n"
     ]
    },
    {
     "name": "stderr",
     "output_type": "stream",
     "text": [
      "\r",
      " 96%|█████████▋| 1215/1261 [15:01<00:32,  1.40it/s]"
     ]
    },
    {
     "name": "stdout",
     "output_type": "stream",
     "text": [
      "899.219106992\n",
      "0.0 [  1.59166350e-04  -2.70209801e-01   4.09977422e+02] [  7.87766802e-05  -2.17848847e-01   1.30067035e+03]\n",
      "0.0 [  1.35686130e-03  -4.79892607e-02   1.51691646e+00] [  6.71555443e-04  -3.86899553e-02   4.81248030e+00]\n",
      "This is the average radius of curvature of the anes 1115.98374842\n"
     ]
    },
    {
     "name": "stderr",
     "output_type": "stream",
     "text": [
      "\r",
      " 96%|█████████▋| 1216/1261 [15:02<00:31,  1.42it/s]"
     ]
    },
    {
     "name": "stdout",
     "output_type": "stream",
     "text": [
      "902.834461299\n",
      "0.0 [  1.51757076e-04  -2.66712149e-01   4.09761460e+02] [  1.00386412e-04  -2.38857370e-01   1.30881999e+03]\n",
      "0.0 [  1.29369872e-03  -4.73680777e-02   1.51611740e+00] [  8.55774082e-04  -4.24210690e-02   4.84263396e+00]\n",
      "This is the average radius of curvature of the anes 973.634426666\n"
     ]
    },
    {
     "name": "stderr",
     "output_type": "stream",
     "text": [
      "\r",
      " 97%|█████████▋| 1217/1261 [15:03<00:31,  1.41it/s]"
     ]
    },
    {
     "name": "stdout",
     "output_type": "stream",
     "text": [
      "904.255800222\n",
      "0.0 [  1.47090761e-04  -2.64817712e-01   4.09977779e+02] [  7.70496121e-05  -2.16411172e-01   1.30586996e+03]\n",
      "0.0 [  1.25391932e-03  -4.70316257e-02   1.51691778e+00] [  6.56832533e-04  -3.84346242e-02   4.83171886e+00]\n",
      "This is the average radius of curvature of the anes 1162.98992533\n"
     ]
    },
    {
     "name": "stderr",
     "output_type": "stream",
     "text": [
      "\r",
      " 97%|█████████▋| 1218/1261 [15:03<00:30,  1.42it/s]"
     ]
    },
    {
     "name": "stdout",
     "output_type": "stream",
     "text": [
      "906.241527502\n",
      "0.0 [  1.42208055e-04  -2.62811407e-01   4.10017671e+02] [  9.73346161e-05  -2.38538152e-01   1.31297669e+03]\n",
      "0.0 [  1.21229523e-03  -4.66753059e-02   1.51706538e+00] [  8.29758136e-04  -4.23643758e-02   4.85801376e+00]\n",
      "This is the average radius of curvature of the anes 1017.99751519\n"
     ]
    },
    {
     "name": "stderr",
     "output_type": "stream",
     "text": [
      "\r",
      " 97%|█████████▋| 1219/1261 [15:04<00:29,  1.40it/s]"
     ]
    },
    {
     "name": "stdout",
     "output_type": "stream",
     "text": [
      "916.90437235\n",
      "0.0 [  1.37144089e-04  -2.60126871e-01   4.09887769e+02] [  1.50298188e-04  -2.91446219e-01   1.32679214e+03]\n",
      "0.0 [  1.16912593e-03  -4.61985323e-02   1.51658475e+00] [  1.28126199e-03  -5.17608484e-02   4.90913092e+00]\n",
      "This is the average radius of curvature of the anes 820.84941055\n"
     ]
    },
    {
     "name": "stderr",
     "output_type": "stream",
     "text": [
      "\r",
      " 97%|█████████▋| 1220/1261 [15:05<00:29,  1.38it/s]"
     ]
    },
    {
     "name": "stdout",
     "output_type": "stream",
     "text": [
      "927.44651601\n",
      "0.0 [  1.36377968e-04  -2.58148993e-01   4.10330015e+02] [  1.99451910e-04  -3.40512858e-01   1.33777653e+03]\n",
      "0.0 [  1.16259490e-03  -4.58472611e-02   1.51822105e+00] [  1.70028764e-03  -6.04750835e-02   4.94977316e+00]\n",
      "This is the average radius of curvature of the anes 727.111709161\n"
     ]
    },
    {
     "name": "stderr",
     "output_type": "stream",
     "text": [
      "\r",
      " 97%|█████████▋| 1221/1261 [15:06<00:28,  1.40it/s]"
     ]
    },
    {
     "name": "stdout",
     "output_type": "stream",
     "text": [
      "917.045417881\n",
      "0.0 [  1.40530120e-04  -2.60736024e-01   4.11018588e+02] [  1.15029606e-04  -2.73985194e-01   1.32806401e+03]\n",
      "0.0 [  1.19799117e-03  -4.63067179e-02   1.52076877e+00] [  9.80604382e-04  -4.86597705e-02   4.91383682e+00]\n",
      "This is the average radius of curvature of the anes 930.410158934\n"
     ]
    },
    {
     "name": "stderr",
     "output_type": "stream",
     "text": [
      "\r",
      " 97%|█████████▋| 1222/1261 [15:06<00:28,  1.38it/s]"
     ]
    },
    {
     "name": "stdout",
     "output_type": "stream",
     "text": [
      "907.165377384\n",
      "0.0 [  1.27971592e-04  -2.50490411e-01   4.11555082e+02] [  4.88159427e-05  -2.07083173e-01   1.31276957e+03]\n",
      "0.0 [  1.09093223e-03  -4.44870971e-02   1.52275381e+00] [  4.16146148e-04  -3.67779715e-02   4.85724739e+00]\n",
      "This is the average radius of curvature of the anes 1663.62444051\n"
     ]
    },
    {
     "name": "stderr",
     "output_type": "stream",
     "text": [
      "\r",
      " 97%|█████████▋| 1223/1261 [15:07<00:27,  1.39it/s]"
     ]
    },
    {
     "name": "stdout",
     "output_type": "stream",
     "text": [
      "905.052447038\n",
      "0.0 [  1.08908928e-04  -2.38028690e-01   4.14168782e+02] [  8.22564450e-05  -2.39723302e-01   1.31922123e+03]\n",
      "0.0 [  9.28426829e-04  -4.22738953e-02   1.53242449e+00] [  7.01219742e-04  -4.25748584e-02   4.88111855e+00]\n",
      "This is the average radius of curvature of the anes 1254.97251992\n"
     ]
    },
    {
     "name": "stderr",
     "output_type": "stream",
     "text": [
      "\r",
      " 97%|█████████▋| 1224/1261 [15:08<00:26,  1.37it/s]"
     ]
    },
    {
     "name": "stdout",
     "output_type": "stream",
     "text": [
      "899.564730239\n",
      "0.0 [  1.08354935e-04  -2.37561519e-01   4.15886175e+02] [ -2.23534994e-05  -1.43367359e-01   1.29848082e+03]\n",
      "0.0 [  9.23704148e-04  -4.21909257e-02   1.53877885e+00] [ -1.90559111e-04  -2.54620430e-02   4.80437904e+00]\n",
      "This is the average radius of curvature of the anes 3169.15461638\n"
     ]
    },
    {
     "name": "stderr",
     "output_type": "stream",
     "text": [
      "\r",
      " 97%|█████████▋| 1225/1261 [15:09<00:26,  1.38it/s]"
     ]
    },
    {
     "name": "stdout",
     "output_type": "stream",
     "text": [
      "894.851235322\n",
      "0.0 [  9.29905000e-05  -2.26523201e-01   4.17578064e+02] [ -6.56682464e-05  -8.94343745e-02   1.28281646e+03]\n",
      "0.0 [  7.92725415e-04  -4.02305205e-02   1.54503884e+00] [ -5.59808667e-04  -1.58835449e-02   4.74642089e+00]\n",
      "This is the average radius of curvature of the anes 1525.76763367\n"
     ]
    },
    {
     "name": "stderr",
     "output_type": "stream",
     "text": [
      "\r",
      " 97%|█████████▋| 1226/1261 [15:09<00:25,  1.38it/s]"
     ]
    },
    {
     "name": "stdout",
     "output_type": "stream",
     "text": [
      "896.470097193\n",
      "0.0 [  9.72685066e-05  -2.28923905e-01   4.17971356e+02] [ -2.28133017e-05  -1.20969314e-01   1.29017845e+03]\n",
      "0.0 [  8.29194565e-04  -4.06568856e-02   1.54649402e+00] [ -1.94478834e-04  -2.14841502e-02   4.77366028e+00]\n",
      "This is the average radius of curvature of the anes 3177.24460553\n"
     ]
    },
    {
     "name": "stderr",
     "output_type": "stream",
     "text": [
      "\r",
      " 97%|█████████▋| 1227/1261 [15:10<00:24,  1.38it/s]"
     ]
    },
    {
     "name": "stdout",
     "output_type": "stream",
     "text": [
      "900.555790144\n",
      "0.0 [  9.52322739e-05  -2.28178866e-01   4.17937829e+02] [  8.39220366e-06  -1.45594949e-01   1.29885955e+03]\n",
      "0.0 [  8.11836088e-04  -4.05245666e-02   1.54636997e+00] [  7.15418577e-05  -2.58576629e-02   4.80578033e+00]\n",
      "This is the average radius of curvature of the anes 7613.33172233\n"
     ]
    },
    {
     "name": "stderr",
     "output_type": "stream",
     "text": [
      "\r",
      " 97%|█████████▋| 1228/1261 [15:11<00:23,  1.38it/s]"
     ]
    },
    {
     "name": "stdout",
     "output_type": "stream",
     "text": [
      "903.416314197\n",
      "0.0 [  8.98159629e-05  -2.25800439e-01   4.17740799e+02] [  8.16571351e-06  -1.38851644e-01   1.29800933e+03]\n",
      "0.0 [  7.65663121e-04  -4.01021579e-02   1.54564096e+00] [  6.96110745e-05  -2.46600521e-02   4.80263454e+00]\n",
      "This is the average radius of curvature of the anes 7843.92272625\n"
     ]
    },
    {
     "name": "stderr",
     "output_type": "stream",
     "text": [
      "\r",
      " 97%|█████████▋| 1229/1261 [15:11<00:23,  1.37it/s]"
     ]
    },
    {
     "name": "stdout",
     "output_type": "stream",
     "text": [
      "907.692120103\n",
      "0.0 [  6.69726925e-05  -2.07867093e-01   4.13861388e+02] [  1.07749015e-05  -1.42303961e-01   1.30243121e+03]\n",
      "0.0 [  5.70928809e-04  -3.69171956e-02   1.53128713e+00] [  9.18538800e-05  -2.52731835e-02   4.81899549e+00]\n",
      "This is the average radius of curvature of the anes 6326.20126097\n"
     ]
    },
    {
     "name": "stderr",
     "output_type": "stream",
     "text": [
      "\r",
      " 98%|█████████▊| 1230/1261 [15:12<00:22,  1.38it/s]"
     ]
    },
    {
     "name": "stdout",
     "output_type": "stream",
     "text": [
      "909.49427176\n",
      "0.0 [  5.99892463e-05  -2.00563500e-01   4.11812545e+02] [  2.31021812e-05  -1.47714886e-01   1.30237758e+03]\n",
      "0.0 [  5.11396327e-04  -3.56200776e-02   1.52370642e+00] [  1.96941474e-04  -2.62341638e-02   4.81879706e+00]\n",
      "This is the average radius of curvature of the anes 3521.02335102\n"
     ]
    },
    {
     "name": "stderr",
     "output_type": "stream",
     "text": [
      "\r",
      " 98%|█████████▊| 1231/1261 [15:13<00:21,  1.37it/s]"
     ]
    },
    {
     "name": "stdout",
     "output_type": "stream",
     "text": [
      "905.992766686\n",
      "0.0 [  6.52554507e-05  -2.02327228e-01   4.11409629e+02] [ -1.68854011e-05  -1.19152835e-01   1.29634717e+03]\n",
      "0.0 [  5.56289666e-04  -3.59333158e-02   1.52221563e+00] [ -1.43944667e-04  -2.11615436e-02   4.79648452e+00]\n",
      "This is the average radius of curvature of the anes 4376.44415292\n"
     ]
    },
    {
     "name": "stderr",
     "output_type": "stream",
     "text": [
      "\r",
      " 98%|█████████▊| 1232/1261 [15:14<00:20,  1.39it/s]"
     ]
    },
    {
     "name": "stdout",
     "output_type": "stream",
     "text": [
      "904.667260799\n",
      "0.0 [  7.08416154e-05  -2.05045292e-01   4.11411723e+02] [  1.86865637e-05  -1.56870437e-01   1.30495438e+03]\n",
      "0.0 [  6.03910603e-04  -3.64160439e-02   1.52222337e+00] [  1.59299218e-04  -2.78601896e-02   4.82833122e+00]\n",
      "This is the average radius of curvature of the anes 3971.98704619\n"
     ]
    },
    {
     "name": "stderr",
     "output_type": "stream",
     "text": [
      "\r",
      " 98%|█████████▊| 1233/1261 [15:14<00:20,  1.39it/s]"
     ]
    },
    {
     "name": "stdout",
     "output_type": "stream",
     "text": [
      "902.017686909\n",
      "0.0 [  8.51771793e-05  -2.11943103e-01   4.11923899e+02] [  3.84720780e-05  -1.71199295e-01   1.30505574e+03]\n",
      "0.0 [  7.26118418e-04  -3.76410951e-02   1.52411843e+00] [  3.27966770e-04  -3.04049948e-02   4.82870623e+00]\n",
      "This is the average radius of curvature of the anes 2216.71615003\n"
     ]
    },
    {
     "name": "stderr",
     "output_type": "stream",
     "text": [
      "\r",
      " 98%|█████████▊| 1234/1261 [15:15<00:19,  1.40it/s]"
     ]
    },
    {
     "name": "stdout",
     "output_type": "stream",
     "text": [
      "917.065268513\n",
      "0.0 [  9.65693941e-05  -2.17603840e-01   4.12353918e+02] [  1.46863603e-04  -2.78379962e-01   1.32941919e+03]\n",
      "0.0 [  8.23234771e-04  -3.86464420e-02   1.52570950e+00] [  1.25198284e-03  -4.94402813e-02   4.91885099e+00]\n",
      "This is the average radius of curvature of the anes 1009.55301943\n"
     ]
    },
    {
     "name": "stderr",
     "output_type": "stream",
     "text": [
      "\r",
      " 98%|█████████▊| 1235/1261 [15:16<00:18,  1.38it/s]"
     ]
    },
    {
     "name": "stdout",
     "output_type": "stream",
     "text": [
      "925.288343762\n",
      "0.0 [  1.03314277e-04  -2.20856685e-01   4.12541308e+02] [  1.88384407e-04  -3.15723824e-01   1.33782965e+03]\n",
      "0.0 [  8.80733546e-04  -3.92241472e-02   1.52640284e+00] [  1.60593939e-03  -5.60725511e-02   4.94996971e+00]\n",
      "This is the average radius of curvature of the anes 881.833019168\n"
     ]
    },
    {
     "name": "stderr",
     "output_type": "stream",
     "text": [
      "\r",
      " 98%|█████████▊| 1236/1261 [15:16<00:18,  1.38it/s]"
     ]
    },
    {
     "name": "stdout",
     "output_type": "stream",
     "text": [
      "943.489030789\n",
      "0.0 [  1.10660745e-04  -2.24714634e-01   4.12840106e+02] [  2.49236572e-04  -3.80905442e-01   1.35632914e+03]\n",
      "0.0 [  9.43360717e-04  -3.99093190e-02   1.52750839e+00] [  2.12469193e-03  -6.76488065e-02   5.01841781e+00]\n",
      "This is the average radius of curvature of the anes 768.232241792\n"
     ]
    },
    {
     "name": "stderr",
     "output_type": "stream",
     "text": [
      "\r",
      " 98%|█████████▊| 1237/1261 [15:17<00:17,  1.36it/s]"
     ]
    },
    {
     "name": "stdout",
     "output_type": "stream",
     "text": [
      "973.432026715\n",
      "0.0 [  1.07123060e-04  -2.20643053e-01   4.11767850e+02] [  3.13815103e-04  -4.63272095e-01   1.38519988e+03]\n",
      "0.0 [  9.13202664e-04  -3.91862062e-02   1.52354105e+00] [  2.67521099e-03  -8.22771241e-02   5.12523954e+00]\n",
      "This is the average radius of curvature of the anes 737.587407105\n"
     ]
    },
    {
     "name": "stderr",
     "output_type": "stream",
     "text": [
      "\r",
      " 98%|█████████▊| 1238/1261 [15:18<00:16,  1.37it/s]"
     ]
    },
    {
     "name": "stdout",
     "output_type": "stream",
     "text": [
      "990.306868068\n",
      "0.0 [  8.93160671e-05  -2.04158473e-01   4.08389904e+02] [  3.28446531e-04  -4.89946315e-01   1.39869677e+03]\n",
      "0.0 [  7.61401609e-04  -3.62585448e-02   1.51104265e+00] [  2.79994099e-03  -8.70144655e-02   5.17517806e+00]\n",
      "This is the average radius of curvature of the anes 838.586240813\n"
     ]
    },
    {
     "name": "stderr",
     "output_type": "stream",
     "text": [
      "\r",
      " 98%|█████████▊| 1239/1261 [15:19<00:16,  1.36it/s]"
     ]
    },
    {
     "name": "stdout",
     "output_type": "stream",
     "text": [
      "936.576701808\n",
      "0.0 [  8.31616587e-05  -1.96765970e-01   4.06636684e+02] [  1.23536028e-04  -2.73273272e-01   1.34321339e+03]\n",
      "0.0 [  7.08936508e-04  -3.49456362e-02   1.50455573e+00] [  1.05311994e-03  -4.85333331e-02   4.96988953e+00]\n",
      "This is the average radius of curvature of the anes 1183.03232703\n"
     ]
    },
    {
     "name": "stderr",
     "output_type": "stream",
     "text": [
      "\r",
      " 98%|█████████▊| 1240/1261 [15:19<00:15,  1.38it/s]"
     ]
    },
    {
     "name": "stdout",
     "output_type": "stream",
     "text": [
      "911.74394434\n",
      "0.0 [  6.86401814e-05  -1.82049486e-01   4.03312366e+02] [ -2.36573135e-05  -1.05138618e-01   1.29903400e+03]\n",
      "0.0 [  5.85143818e-04  -3.23319887e-02   1.49225576e+00] [ -2.01673866e-04  -1.86726186e-02   4.80642579e+00]\n",
      "This is the average radius of curvature of the anes 3336.37809798\n"
     ]
    },
    {
     "name": "stderr",
     "output_type": "stream",
     "text": [
      "\r",
      " 98%|█████████▊| 1241/1261 [15:20<00:14,  1.41it/s]"
     ]
    },
    {
     "name": "stdout",
     "output_type": "stream",
     "text": [
      "912.370330019\n",
      "0.0 [  6.34816567e-05  -1.75323446e-01   4.01591751e+02] [ -8.51240674e-05  -3.02510942e-02   1.27855633e+03]\n",
      "0.0 [  5.41168427e-04  -3.11374440e-02   1.48588948e+00] [ -7.25665650e-04  -5.37259433e-03   4.73065844e+00]\n",
      "This is the average radius of curvature of the anes 1614.32316603\n"
     ]
    },
    {
     "name": "stderr",
     "output_type": "stream",
     "text": [
      "\r",
      " 98%|█████████▊| 1242/1261 [15:21<00:13,  1.42it/s]"
     ]
    },
    {
     "name": "stdout",
     "output_type": "stream",
     "text": [
      "911.368906406\n",
      "0.0 [  6.32041832e-05  -1.73610189e-01   4.01003626e+02] [ -1.21501634e-04   1.26090199e-03   1.27098255e+03]\n",
      "0.0 [  5.38803021e-04  -3.08331695e-02   1.48371342e+00] [ -1.03577713e-03   2.23936193e-04   4.70263545e+00]\n",
      "This is the average radius of curvature of the anes 1412.03592884\n"
     ]
    },
    {
     "name": "stderr",
     "output_type": "stream",
     "text": [
      "\r",
      " 99%|█████████▊| 1243/1261 [15:22<00:12,  1.40it/s]"
     ]
    },
    {
     "name": "stdout",
     "output_type": "stream",
     "text": [
      "911.088287647\n",
      "0.0 [  3.98218288e-05  -1.47331328e-01   3.93778801e+02] [ -7.35189725e-05  -4.32338355e-02   1.28096509e+03]\n",
      "0.0 [  3.39473126e-04  -2.61660438e-02   1.45698156e+00] [ -6.26734537e-04  -7.67832918e-03   4.73957084e+00]\n",
      "This is the average radius of curvature of the anes 2272.24001679\n"
     ]
    },
    {
     "name": "stderr",
     "output_type": "stream",
     "text": [
      "\r",
      " 99%|█████████▊| 1244/1261 [15:22<00:11,  1.43it/s]"
     ]
    },
    {
     "name": "stdout",
     "output_type": "stream",
     "text": [
      "910.659364482\n",
      "0.0 [  4.10124359e-05  -1.44563297e-01   3.92336137e+02] [ -8.04763278e-05  -3.57659823e-02   1.27863758e+03]\n",
      "0.0 [  3.49622814e-04  -2.56744416e-02   1.45164371e+00] [ -6.86044599e-04  -6.35203845e-03   4.73095906e+00]\n",
      "This is the average radius of curvature of the anes 2160.38660433\n"
     ]
    },
    {
     "name": "stderr",
     "output_type": "stream",
     "text": [
      "\r",
      " 99%|█████████▊| 1245/1261 [15:23<00:11,  1.43it/s]"
     ]
    },
    {
     "name": "stdout",
     "output_type": "stream",
     "text": [
      "910.888749478\n",
      "0.0 [  3.76598764e-05  -1.34500307e-01   3.88235761e+02] [ -5.20955500e-05  -5.67888332e-02   1.28230360e+03]\n",
      "0.0 [  3.21042915e-04  -2.38872545e-02   1.43647231e+00] [ -4.44104144e-04  -1.00856968e-02   4.74452331e+00]\n",
      "This is the average radius of curvature of the anes 2684.79121322\n"
     ]
    },
    {
     "name": "stderr",
     "output_type": "stream",
     "text": [
      "\r",
      " 99%|█████████▉| 1246/1261 [15:24<00:10,  1.41it/s]"
     ]
    },
    {
     "name": "stdout",
     "output_type": "stream",
     "text": [
      "911.710954265\n",
      "0.0 [  2.72792299e-05  -1.17331112e-01   3.82360911e+02] [ -1.08550006e-04  -5.21904090e-03   1.27093784e+03]\n",
      "0.0 [  2.32549979e-04  -2.08380055e-02   1.41473537e+00] [ -9.25367093e-04  -9.26901663e-04   4.70247000e+00]\n",
      "This is the average radius of curvature of the anes 2691.80281675\n"
     ]
    },
    {
     "name": "stderr",
     "output_type": "stream",
     "text": [
      "\r",
      " 99%|█████████▉| 1247/1261 [15:24<00:09,  1.40it/s]"
     ]
    },
    {
     "name": "stdout",
     "output_type": "stream",
     "text": [
      "908.583408686\n",
      "0.0 [  4.69425619e-05  -1.26474652e-01   3.83037501e+02] [ -1.01602263e-04  -8.03583702e-04   1.26504103e+03]\n",
      "0.0 [  4.00175952e-04  -2.24618983e-02   1.41723876e+00] [ -8.66138973e-04  -1.42716465e-04   4.68065179e+00]\n",
      "This is the average radius of curvature of the anes 1827.67068552\n"
     ]
    },
    {
     "name": "stderr",
     "output_type": "stream",
     "text": [
      "\r",
      " 99%|█████████▉| 1248/1261 [15:25<00:09,  1.37it/s]"
     ]
    },
    {
     "name": "stdout",
     "output_type": "stream",
     "text": [
      "907.519339839\n",
      "0.0 [  5.45482200e-05  -1.28419684e-01   3.82701527e+02] [ -6.36618010e-05  -2.04055018e-02   1.26554643e+03]\n",
      "0.0 [  4.65012666e-04  -2.28073358e-02   1.41599565e+00] [ -5.42704121e-04  -3.62401712e-03   4.68252179e+00]\n",
      "This is the average radius of curvature of the anes 1997.40909007\n"
     ]
    },
    {
     "name": "stderr",
     "output_type": "stream",
     "text": [
      "\r",
      " 99%|█████████▉| 1249/1261 [15:26<00:08,  1.39it/s]"
     ]
    },
    {
     "name": "stdout",
     "output_type": "stream",
     "text": [
      "907.045220037\n",
      "0.0 [  5.99284754e-05  -1.29148533e-01   3.82205578e+02] [ -4.01892353e-05  -2.75160439e-02   1.26345827e+03]\n",
      "0.0 [  5.10878267e-04  -2.29367795e-02   1.41416064e+00] [ -3.42605193e-04  -4.88684940e-03   4.67479560e+00]\n",
      "This is the average radius of curvature of the anes 2438.93723837\n"
     ]
    },
    {
     "name": "stderr",
     "output_type": "stream",
     "text": [
      "\r",
      " 99%|█████████▉| 1250/1261 [15:27<00:08,  1.36it/s]"
     ]
    },
    {
     "name": "stdout",
     "output_type": "stream",
     "text": [
      "905.005430123\n",
      "0.0 [  6.40110868e-05  -1.30142224e-01   3.81977425e+02] [ -2.11694066e-05  -3.31332327e-02   1.25936286e+03]\n",
      "0.0 [  5.45681713e-04  -2.31132589e-02   1.41331647e+00] [ -1.80464957e-04  -5.88446213e-03   4.65964258e+00]\n",
      "This is the average radius of curvature of the anes 3687.78431718\n"
     ]
    },
    {
     "name": "stderr",
     "output_type": "stream",
     "text": [
      "\r",
      " 99%|█████████▉| 1251/1261 [15:27<00:07,  1.38it/s]"
     ]
    },
    {
     "name": "stdout",
     "output_type": "stream",
     "text": [
      "909.644812739\n",
      "0.0 [  3.36928847e-05  -1.02880412e-01   3.75574780e+02] [  2.99066494e-06  -4.85152063e-02   1.26200286e+03]\n",
      "0.0 [  2.87225103e-04  -1.82715611e-02   1.38962669e+00] [  2.54948205e-05  -8.61630064e-03   4.66941058e+00]\n",
      "This is the average radius of curvature of the anes 21355.6774146\n"
     ]
    },
    {
     "name": "stderr",
     "output_type": "stream",
     "text": [
      "\r",
      " 99%|█████████▉| 1252/1261 [15:28<00:06,  1.37it/s]"
     ]
    },
    {
     "name": "stdout",
     "output_type": "stream",
     "text": [
      "912.993603247\n",
      "0.0 [  1.60154322e-05  -8.56280111e-02   3.70204400e+02] [ -6.25602896e-06  -3.61931948e-02   1.25916785e+03]\n",
      "0.0 [  1.36528357e-04  -1.52075348e-02   1.36975628e+00] [ -5.33313957e-05  -6.42791141e-03   4.65892103e+00]\n",
      "This is the average radius of curvature of the anes 13039.4350627\n"
     ]
    },
    {
     "name": "stderr",
     "output_type": "stream",
     "text": [
      "\r",
      " 99%|█████████▉| 1253/1261 [15:29<00:05,  1.39it/s]"
     ]
    },
    {
     "name": "stdout",
     "output_type": "stream",
     "text": [
      "911.524074133\n",
      "0.0 [  1.27598883e-05  -7.92438160e-02   3.65884356e+02] [ -1.46968654e-05  -3.32127461e-02   1.25850616e+03]\n",
      "0.0 [  1.08775496e-04  -1.40737017e-02   1.35377212e+00] [ -1.25287838e-04  -5.89858372e-03   4.65647280e+00]\n",
      "This is the average radius of curvature of the anes 8589.00784425\n"
     ]
    },
    {
     "name": "stderr",
     "output_type": "stream",
     "text": [
      "\r",
      " 99%|█████████▉| 1254/1261 [15:29<00:05,  1.38it/s]"
     ]
    },
    {
     "name": "stdout",
     "output_type": "stream",
     "text": [
      "910.2368676\n",
      "0.0 [  7.05504040e-06  -6.83665336e-02   3.58866649e+02] [ -4.21988451e-05  -2.05151837e-02   1.25748133e+03]\n",
      "0.0 [  6.01428084e-05  -1.21418964e-02   1.32780660e+00] [ -3.59736715e-04  -3.64349662e-03   4.65268093e+00]\n",
      "This is the average radius of curvature of the anes 9705.31751161\n"
     ]
    },
    {
     "name": "stderr",
     "output_type": "stream",
     "text": [
      "\r",
      "100%|█████████▉| 1255/1261 [15:30<00:04,  1.29it/s]"
     ]
    },
    {
     "name": "stdout",
     "output_type": "stream",
     "text": [
      "909.469575565\n",
      "0.0 [ -2.54056867e-06  -5.76192612e-02   3.54384298e+02] [ -7.40882547e-05   1.33022517e-02   1.24627868e+03]\n",
      "0.0 [ -2.16578398e-05  -1.02331808e-02   1.31122190e+00] [ -6.31587553e-04   2.36247991e-03   4.61123111e+00]\n",
      "This is the average radius of curvature of the anes 23881.6172269\n"
     ]
    },
    {
     "name": "stderr",
     "output_type": "stream",
     "text": [
      "\r",
      "100%|█████████▉| 1256/1261 [15:32<00:04,  1.05it/s]"
     ]
    },
    {
     "name": "stdout",
     "output_type": "stream",
     "text": [
      "910.630427199\n",
      "0.0 [  2.18584078e-07  -5.53164493e-02   3.49948679e+02] [ -7.26940207e-05   2.31754535e-02   1.23945458e+03]\n",
      "0.0 [  1.86338554e-06  -9.82420140e-03   1.29481011e+00] [ -6.19701988e-04   4.11596055e-03   4.58598194e+00]\n",
      "This is the average radius of curvature of the anes 269174.503615\n"
     ]
    },
    {
     "name": "stderr",
     "output_type": "stream",
     "text": [
      "\r",
      "100%|█████████▉| 1257/1261 [15:33<00:04,  1.08s/it]"
     ]
    },
    {
     "name": "stdout",
     "output_type": "stream",
     "text": [
      "912.261902552\n",
      "0.0 [  5.03891991e-06  -5.51160310e-02   3.45685436e+02] [ -7.02637332e-05   2.64021673e-02   1.23588565e+03]\n",
      "0.0 [  4.29557845e-05  -9.78860710e-03   1.27903611e+00] [ -5.98984273e-04   4.68902491e-03   4.57277690e+00]\n",
      "This is the average radius of curvature of the anes 12476.3228571\n"
     ]
    },
    {
     "name": "stderr",
     "output_type": "stream",
     "text": [
      "\r",
      "100%|█████████▉| 1258/1261 [15:34<00:03,  1.07s/it]"
     ]
    },
    {
     "name": "stdout",
     "output_type": "stream",
     "text": [
      "911.327292114\n",
      "0.0 [  1.19786436e-05  -5.91550109e-02   3.44180670e+02] [ -5.51512099e-05   2.92640398e-02   1.22639303e+03]\n",
      "0.0 [  1.02115541e-04  -1.05059299e-02   1.27346848e+00] [ -4.70153034e-04   5.19729347e-03   4.53765420e+00]\n",
      "This is the average radius of curvature of the anes 5960.75165051\n"
     ]
    },
    {
     "name": "stderr",
     "output_type": "stream",
     "text": [
      "\r",
      "100%|█████████▉| 1259/1261 [15:35<00:01,  1.04it/s]"
     ]
    },
    {
     "name": "stdout",
     "output_type": "stream",
     "text": [
      "914.416359083\n",
      "0.0 [  1.23154816e-05  -5.22248145e-02   3.36821764e+02] [ -4.59038237e-05   3.02934553e-02   1.22199841e+03]\n",
      "0.0 [  1.04987018e-04  -9.27512705e-03   1.24624053e+00] [ -3.91320916e-04   5.38011766e-03   4.52139411e+00]\n",
      "This is the average radius of curvature of the anes 6040.88732477\n"
     ]
    },
    {
     "name": "stderr",
     "output_type": "stream",
     "text": [
      "\r",
      "100%|█████████▉| 1260/1261 [15:36<00:00,  1.13it/s]"
     ]
    },
    {
     "name": "stdout",
     "output_type": "stream",
     "text": [
      "918.66613832\n",
      "0.0 [  1.12386333e-05  -4.59503689e-02   3.30324383e+02] [ -3.84058732e-05   3.68224516e-02   1.21514114e+03]\n",
      "0.0 [  9.58071008e-05  -8.16078551e-03   1.22220022e+00] [ -3.27402388e-04   6.53966741e-03   4.49602221e+00]\n",
      "This is the average radius of curvature of the anes 6746.61191418\n"
     ]
    },
    {
     "name": "stderr",
     "output_type": "stream",
     "text": [
      "\n"
     ]
    },
    {
     "name": "stdout",
     "output_type": "stream",
     "text": [
      "[MoviePy] Done.\n",
      "[MoviePy] >>>> Video ready: output_images/project_video.mp4 \n",
      "\n",
      "CPU times: user 12min 12s, sys: 1min 2s, total: 13min 15s\n",
      "Wall time: 15min 39s\n"
     ]
    }
   ],
   "source": [
    "#print(os.getcwd())\n",
    "#os.chdir('..')\n",
    "white_output = 'output_images/project_video.mp4'\n",
    "## To speed up the testing process you may want to try your pipeline on a shorter subclip of the video\n",
    "## To do so add .subclip(start_second,end_second) to the end of the line below\n",
    "## Where start_second and end_second are integer values representing the start and end of the subclip\n",
    "## You may also uncomment the following line for a subclip of the first 5 seconds\n",
    "##clip1 = VideoFileClip(\"test_videos/solidWhiteRight.mp4\").subclip(2,5)\n",
    "Left_lane = Lane_data()\n",
    "Right_lane = Lane_data()\n",
    "clip1 = VideoFileClip(\"project_video.mp4\")#.subclip(45,50)\n",
    "white_clip = clip1.fl_image(process_image) #NOTE: this function expects color images!!\n",
    "white_clip.ipython_display\n",
    "%time white_clip.write_videofile(white_output, audio=False)"
   ]
  },
  {
   "cell_type": "code",
   "execution_count": null,
   "metadata": {},
   "outputs": [],
   "source": []
  }
 ],
 "metadata": {
  "kernelspec": {
   "display_name": "Python 3",
   "language": "python",
   "name": "python3"
  },
  "language_info": {
   "codemirror_mode": {
    "name": "ipython",
    "version": 3
   },
   "file_extension": ".py",
   "mimetype": "text/x-python",
   "name": "python",
   "nbconvert_exporter": "python",
   "pygments_lexer": "ipython3",
   "version": "3.6.3"
  }
 },
 "nbformat": 4,
 "nbformat_minor": 2
}
