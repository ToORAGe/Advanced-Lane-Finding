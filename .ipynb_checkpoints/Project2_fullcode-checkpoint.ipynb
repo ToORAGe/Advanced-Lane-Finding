{
 "cells": [
  {
   "cell_type": "code",
   "execution_count": 1,
   "metadata": {},
   "outputs": [],
   "source": [
    "'''Importing necessary classes\n",
    "'''\n",
    "import numpy as np\n",
    "import cv2\n",
    "import glob\n",
    "import matplotlib.image as mpimg\n",
    "import matplotlib.pyplot as plt\n",
    "import os \n",
    "import math \n",
    "\n",
    "#os.chdir(os.getcwd() + '/camera_cal/' )\n",
    "\n",
    "'''Loading images using glob API, converting to grayscale \n",
    "and finding corners in all images and returning image \n",
    "points and object points \n",
    "'''\n",
    "def load_testImages(ncx,ncy):\n",
    "    \n",
    "    images = glob.glob('calibration*.jpg')\n",
    "    #print('Size of input calibraion images list is ',len(images))\n",
    "    image_list = []\n",
    "    image_gray = [] \n",
    "    objpts = []\n",
    "    imgpts = []\n",
    "    obj = np.zeros((ncx*ncy,3), np.float32)\n",
    "    obj[:,:2] = np.mgrid[0:ncx,0:ncy].T.reshape(-1,2) \n",
    "    \n",
    "    for fname in images:    \n",
    "        image = mpimg.imread(fname)\n",
    "        image_list.append(image)\n",
    "        gray = cv2.cvtColor(image,cv2.COLOR_RGB2GRAY)\n",
    "        image_gray.append(gray)\n",
    "        ret,corners = cv2.findChessboardCorners(gray,(ncx,ncy),None)\n",
    "    \n",
    "        if ret == True:\n",
    "            objpts.append(obj)\n",
    "            imgpts.append(corners)\n",
    "    return objpts,imgpts,image_list,image_gray\n",
    "\n",
    "\n",
    "def camera_calibration(objpts,imgpts,shape):\n",
    "    ret,mat,dist,rv,lv = cv2.calibrateCamera(objpts,imgpts,shape,None,None)\n",
    "    return ret,mat,dist,rv,lv\n",
    "\n",
    "def undistort_image(img,mat,dist):\n",
    "    undist = cv2.undistort(img,mat,dist,None,mat)\n",
    "    return undist\n",
    "\n",
    "def binary_gradient(img,clr_thresh,gradient_thresh,sobel_kernel):\n",
    "    color1_up = clr_thresh[1]\n",
    "    color1_down = clr_thresh[0]\n",
    "    #print(len(clr_thresh))\n",
    "    #color2_up = clr_thresh[3]\n",
    "    #color2_down = clr_thresh[2]\n",
    "    clr_y_dn = clr_thresh[2]\n",
    "    clr_y_up = clr_thresh[3]\n",
    "    clr_w_dn = clr_thresh[4]\n",
    "    clr_w_up = clr_thresh[5]\n",
    "    #print(clr_thresh)\n",
    "    grad_up = gradient_thresh[1]\n",
    "    grad_down = gradient_thresh[0]\n",
    "    gradient_high = gradient_thresh[3]\n",
    "    gradient_low = gradient_thresh[2]\n",
    "    \n",
    "    grad_xup = gradient_thresh[5]\n",
    "    grad_xdown = gradient_thresh[4]\n",
    "    grad_yup = gradient_thresh[7]\n",
    "    grad_ydown = gradient_thresh[6]\n",
    "    imshape = img.shape\n",
    "    image2 = np.copy(img) \n",
    "    image1 = cv2.cvtColor(img,cv2.COLOR_RGB2HLS)\n",
    "    binary_hls  = np.zeros([imshape[0],imshape[1]])\n",
    "    binary_white = np.zeros([imshape[0],imshape[1]])\n",
    "    binary_yellow = np.zeros([imshape[0],imshape[1]])\n",
    "    mask1 = cv2.inRange(image1,clr_y_dn,clr_y_up)\n",
    "    mask2 = cv2.inRange(image1,clr_w_dn,clr_w_up)\n",
    "    s_channel = image1[:,:,2]\n",
    "    binary_white[mask2.nonzero()] = 255\n",
    "    binary_yellow[mask1.nonzero()] = 255\n",
    "    binary_hls[(s_channel<color1_up) & (s_channel>color1_down)] = 255\n",
    "    #binary_white[mask2.nonzero()] = 255\n",
    "    #cbinary = cv2.bitwise_or(binary_white,binary_hls)\n",
    "    luv_image = cv2.cvtColor(image2,cv2.COLOR_RGB2Luv)\n",
    "    l_mask = luv_image[:,:,0]\n",
    "    l_binary = np.zeros([imshape[0],imshape[1]])\n",
    "    l_binary[(l_mask<255) & (l_mask>200)] = 255\n",
    "    \n",
    "    lab_image = cv2.cvtColor(image2,cv2.COLOR_RGB2Lab)\n",
    "    lab_mask = lab_image[:,:,0]\n",
    "    lab_binary = np.zeros([imshape[0],imshape[1]])\n",
    "    lab_binary[(lab_mask<255) & (lab_mask>200)] = 255\n",
    "    \n",
    "    \n",
    "    \n",
    "    gray = cv2.cvtColor(img,cv2.COLOR_RGB2GRAY)\n",
    "    sobelx = cv2.Sobel(gray,cv2.CV_64F,1,0,ksize=sobel_kernel)\n",
    "    abs_sx = np.absolute(sobelx)\n",
    "    sobely = cv2.Sobel(gray,cv2.CV_64F,0,1,ksize=sobel_kernel)\n",
    "    abs_sy = np.absolute(sobely)\n",
    "    sobel_mag = np.sqrt(np.square(sobelx) + np.square(sobely))\n",
    "    sobel_mag = np.uint8(255*sobel_mag/np.max(sobel_mag))\n",
    "    abs_x = np.absolute(sobelx)\n",
    "    abs_y = np.absolute(sobely)\n",
    "    # 4) Use np.arctan2(abs_sobely, abs_sobelx) to calculate the direction of the gradient \n",
    "    grad = np.arctan2(abs_y, abs_x)\n",
    "    \n",
    "    \n",
    "    sbinary = np.zeros([imshape[0],imshape[1]])\n",
    "    #sbinary[((sobel_mag<=grad_up) & (sobel_mag>=grad_down) & (grad<gradient_high) & (grad>gradient_low))\n",
    "    #       |( (abs_sx<grad_xup) & (abs_sy>grad_ydown) & (abs_sy>grad_ydown) & (abs_sy<grad_yup))] = 255\n",
    "    sbinary[(sobel_mag<=grad_up) & (sobel_mag>=grad_down) & (grad<gradient_high) & (grad>gradient_low)] = 255\n",
    "    bimg = np.zeros([imshape[0],imshape[1]])\n",
    "    #binary = np.dstack(( np.zeros_like(sbinary), sbinary, binary_hls)) #binary = np.dstack((sbinary,binary_hls,bimg))\n",
    "    #binary = cv2.bitwise_or(sbinary,binary_hls)\n",
    "    \n",
    "    binary = cv2.bitwise_or(sbinary,l_binary)\n",
    "    binary = cv2.bitwise_or(binary,binary_hls)\n",
    "    binary = cv2.bitwise_or(binary,lab_binary)\n",
    "    #cbinary = cv2.bitwise_or(binary_yellow,binary_white) #commented \n",
    "    #binary = cv2.bitwise_or(cbinary,binary)  #commented\n",
    "    #binary = np.dstack((binary1,np.zeros_like(sbinary),np.zeros_like(sbinary)))\n",
    "    #plt.imshow(sbinary,cmap='gray')\n",
    "    #plt.imshow(binary_hls,cmap='gray')\n",
    "    #plt.imshow(binary)\n",
    "    return binary\n",
    "\n",
    "def lane_recognition(binary_warped,nwindows,margin,minipix,imshape):\n",
    "    nonzeroy = np.array(binary_warped.nonzero()[0])\n",
    "    nonzerox = np.array(binary_warped.nonzero()[1])\n",
    "    hist = np.sum(binary_warped,axis = 0)\n",
    "    left_inds = []\n",
    "    right_inds = []\n",
    "    #plt.plot(hist)\n",
    "    centerx = int(imshape[0]/2)\n",
    "    current_basel  = np.argmax(hist[0:centerx])\n",
    "    current_baser  = np.argmax(hist[centerx:]) + centerx\n",
    "    init_basel = current_basel\n",
    "    init_baser = current_baser\n",
    "    window_height = np.int(imshape[1]//nwindows)\n",
    "\n",
    "    #print('Initial box centers are ',current_basel,current_baser,centerx)\n",
    "\n",
    "    \n",
    "    out_img = np.dstack((binary_warped, binary_warped, binary_warped)) #np.copy(binary_warped) #\n",
    "    #plt.imshow(binary_warped,cmap='gray')\n",
    "    #plt.imshow(out_img)\n",
    "    #print('This is the size of the dstack image ',out_img.shape)\n",
    "    for window in range(nwindows) :\n",
    "\n",
    "        ylow = imshape[1]- window*window_height\n",
    "        yhigh = imshape[1]- (window+1)*window_height\n",
    "        xlow_left = current_basel - margin\n",
    "        xhigh_left = current_basel + margin\n",
    "        xlow_right = current_baser - margin\n",
    "        xhigh_right = current_baser + margin\n",
    "\n",
    "        indsl = ((nonzerox<=xhigh_left) & (nonzerox>=xlow_left) & (nonzeroy>=yhigh) &(nonzeroy<=ylow)).nonzero()[0]\n",
    "        indsr = ((nonzerox<=xhigh_right) & (nonzerox>=xlow_right) & (nonzeroy>=yhigh) &(nonzeroy<=ylow)).nonzero()[0]\n",
    "        cv2.rectangle(out_img,(xlow_left,ylow),\n",
    "        (xhigh_left,yhigh),(0,255,0), 2) \n",
    "        cv2.rectangle(out_img,(xlow_right,ylow),\n",
    "        (xhigh_right,yhigh),(0,255,0), 2) \n",
    "\n",
    "        if(len(indsl)>minipix):\n",
    "            current_basel = int(np.mean(nonzerox[indsl]))\n",
    "        if(len(indsr)>minipix):\n",
    "            current_baser = int(np.mean(nonzerox[indsr]))\n",
    "\n",
    "        left_inds.append(indsl)\n",
    "        right_inds.append(indsr)\n",
    "        \n",
    "    left_inds = np.concatenate(left_inds)\n",
    "    right_inds = np.concatenate(right_inds)\n",
    "\n",
    "    leftx = nonzerox[left_inds]\n",
    "    lefty = nonzeroy[left_inds]\n",
    "    rightx = nonzerox[right_inds]\n",
    "    righty = nonzeroy[right_inds]\n",
    "    out_img[lefty, leftx] = [255, 0, 0]\n",
    "    out_img[righty, rightx] = [0, 0, 255]\n",
    "    return leftx,lefty,rightx,righty,out_img,init_basel,init_baser\n",
    "\n",
    "def lane_recognition2(binary_warped,nwindows,margin,minipix,imshape,poly_left,left_fit,poly_right,right_fit,ploty,last_width):\n",
    "    nonzeroy = np.array(binary_warped.nonzero()[0])\n",
    "    nonzerox = np.array(binary_warped.nonzero()[1])\n",
    "    out_img = np.dstack((binary_warped, binary_warped, binary_warped)) #np.copy(binary_warped) #\n",
    "    left_inds = []\n",
    "    right_inds = []\n",
    "    for i in range(imshape[1]):\n",
    "        y = i\n",
    "        x_l = left_fit[0]*y**2 + left_fit[1]*y + left_fit[2]\n",
    "        x_r = right_fit[0]*y**2 + right_fit[1]*y + right_fit[2]\n",
    "        xlow_left =  x_l - margin\n",
    "        xhigh_left = x_l + margin\n",
    "        xlow_right = x_r - margin\n",
    "        xhigh_right = x_r + margin\n",
    "        indsl = ((nonzerox<=xhigh_left) & (nonzerox>=xlow_left) & (nonzeroy==y)).nonzero()[0]\n",
    "        indsr = ((nonzerox<=xhigh_right) & (nonzerox>=xlow_right) & (nonzeroy==y)).nonzero()[0]\n",
    "        #if(len(indsl)==0 ):\n",
    "         #   indsl = #((nonzerox = x_l) & (nonzeroy ==y))\n",
    "        left_inds.append(indsl)\n",
    "        right_inds.append(indsr)\n",
    "        \n",
    "    left_inds = np.concatenate(left_inds)\n",
    "    right_inds = np.concatenate(right_inds)\n",
    "    leftx = nonzerox[left_inds]\n",
    "    lefty = nonzeroy[left_inds]\n",
    "    rightx = nonzerox[right_inds]\n",
    "    righty = nonzeroy[right_inds]\n",
    "    out_img[lefty, leftx] = [255, 0, 0]\n",
    "    out_img[righty, rightx] = [0, 0, 255]\n",
    "    return leftx,lefty,rightx,righty,out_img\n",
    "\n",
    "\n",
    "def polynomial_fitting(leftx,lefty,rightx,righty,ploty,xm_per_pix,ym_per_pix):\n",
    "    plotym = ploty*ym_per_pix\n",
    "    leftym = lefty*ym_per_pix\n",
    "    rightxm = rightx*xm_per_pix\n",
    "    leftxm = leftx*xm_per_pix\n",
    "    rightym = righty*ym_per_pix\n",
    "    \n",
    "    left_fit = np.polyfit(lefty,leftx,2)\n",
    "    right_fit = np.polyfit(righty,rightx,2)\n",
    "\n",
    "    left_fitm = np.polyfit(leftym,leftxm,2)\n",
    "    right_fitm = np.polyfit(rightym,rightxm,2)\n",
    "    \n",
    "    try: \n",
    "        poly_left = left_fit[0]*ploty**2 + left_fit[1]*ploty + left_fit[2]\n",
    "        poly_right = right_fit[0]*ploty**2 + right_fit[1]*ploty + right_fit[2]\n",
    "        poly_leftm = left_fitm[0]*plotym**2 + left_fitm[1]*plotym + left_fitm[2]\n",
    "        poly_rightm = right_fitm[0]*plotym**2 + right_fitm[1]*plotym + right_fitm[2]\n",
    "        found_condition = True\n",
    "    except TypeError:\n",
    "        # Avoids an error if `left` and `right_fit` are still none or incorrect\n",
    "        print('The function failed to fit a line!')\n",
    "        found_condition = False\n",
    "        poly_left = 1*ploty**2 + 1*ploty\n",
    "        poly_right = 1*ploty**2 + 1*ploty\n",
    "        poly_leftm = 1*plotym**2 + 1*plotym\n",
    "        poly_rightm = 1*plotym**2 + 1*plotym\n",
    "        \n",
    "        \n",
    "    return poly_left,poly_right,poly_leftm,poly_rightm,left_fit,right_fit,left_fitm,right_fitm,found_condition\n",
    "\n",
    "def curvature_finding(ploty,poly_left,poly_right):\n",
    "    y_eval = np.min(ploty)\n",
    "    left_curverad = ((1+(2*poly_left[0]*y_eval + poly_left[1])**2)**(3/2))/(2*poly_left[0])\n",
    "    right_curverad = ((1+(2*poly_right[0]*y_eval + poly_right[1])**2)**(3/2))/(2*poly_right[0]) \n",
    "    print(y_eval,poly_left,poly_right)\n",
    "    #ploty1 = ploty*ym_per_pix\n",
    "    #leftx1 = leftx*xm_per_pix\n",
    "    #rightx1 = rightx*xm_per_pix\n",
    "    #lefty1 = lefty*ym_per_pix\n",
    "    #righty1 = righty*ym_per_pix\n",
    "    #left_fit_cr = np.polyfit(lefty1, leftx1, 2)\n",
    "    #right_fit_cr = np.polyfit(righty1, rightx1, 2)\n",
    "\n",
    "    #y_eval = np.max(ploty1)\n",
    "    ##### TO-DO: Implement the calculation of R_curve (radius of curvature) #####\n",
    "    #left_curveradm = ((1+(2*left_fit_cr[0]*y_eval + left_fit_cr[1])**2)**(3/2))/(2*left_fit_cr[0])#0  ## Implement the calculation of the left line here\n",
    "    #right_curveradm = ((1+(2*right_fit_cr[0]*y_eval + right_fit_cr[1])**2)**(3/2))/(2*right_fit_cr[0])  ## Implement the calculation of the right line here\n",
    "    #print('Left and Right radii of curvature in metres are ',left_curveradm, right_curveradm)\n",
    "    return left_curverad,right_curverad\n",
    "\n",
    "def unwarp_image(binary_warped,Minv,imshape):\n",
    "    unwarped = cv2.warpPerspective(binary_warped,Minv,imshape,None)\n",
    "    return unwarped\n",
    "\n",
    "class Lane_data():\n",
    "    def __init__(self):\n",
    "        # was the line detected in the last iteration?\n",
    "        self.detected = False  \n",
    "        # x values of the last n fits of the line\n",
    "        self.recent_xfitted = [] \n",
    "        #average x values of the fitted line over the last n iterations\n",
    "        self.bestx = None     \n",
    "        #polynomial coefficients averaged over the last n iterations\n",
    "        self.best_fit = None  \n",
    "        #polynomial coefficients for the most recent fit\n",
    "        self.current_fit = [np.array([False])]  \n",
    "        #radius of curvature of the line in some units\n",
    "        self.radius_of_curvature = None \n",
    "        #distance in meters of vehicle center from the line\n",
    "        self.line_base_pos = None \n",
    "        #difference in fit coefficients between last and new fits\n",
    "        self.diffs = np.array([0,0,0], dtype='float') \n",
    "        #x values for detected line pixels\n",
    "        self.allx = None  \n",
    "        #y values for detected line pixels\n",
    "        self.ally = None  \n",
    "        self.last_width = None"
   ]
  },
  {
   "cell_type": "code",
   "execution_count": 2,
   "metadata": {},
   "outputs": [],
   "source": [
    "from moviepy.editor import VideoFileClip\n",
    "from IPython.display import HTML\n",
    "from PIL import Image, ImageDraw,ImageFont\n",
    "from functools import reduce\n",
    "\n",
    "def process_image(image):\n",
    "    \n",
    "    #M = cv2.getPerspectiveTransform(src,dst)\n",
    "    #Minv = cv2.getPerspectiveTransform(dst,src)\n",
    "    M = np.array([[ -7.22021661e-01,  -1.53068592e+00,   1.10209386e+03],\n",
    "                 [ -1.49880108e-15,  -2.07942238e+00,   9.77328520e+02],\n",
    "                 [ -2.60208521e-18,  -2.39169675e-03,   1.00000000e+00]])\n",
    "       \n",
    "        \n",
    "    Minv = np.array([[  1.71875000e-01,  -7.36111111e-01,   5.30000000e+02],\n",
    "                     [  1.15463195e-14,  -4.80902778e-01,   4.70000000e+02],\n",
    "                     [  1.97324795e-17,  -1.15017361e-03,   1.00000000e+00]])\n",
    "        \n",
    "        \n",
    "    mat = np.array([[  1.15777818e+03,   0.00000000e+00,   6.67113857e+02],\n",
    "                     [  0.00000000e+00,   1.15282217e+03,   3.86124583e+02],\n",
    "                     [  0.00000000e+00,   0.00000000e+00,   1.00000000e+00]])\n",
    "    dist = np.array([[-0.24688507, -0.02373155, -0.00109831,  0.00035107, -0.00259867]])\n",
    "    \n",
    "    imshape = image.shape\n",
    "    undistimage = undistort_image(image,mat,dist)\n",
    "    new_img = cv2.warpPerspective(undistimage,M,(imshape[1],imshape[0]))\n",
    "\n",
    "    clr_thresh = []\n",
    "    clr_thresh.append(90)   #color thresholds\n",
    "    clr_thresh.append(255)\n",
    "    clr_thresh.append(np.array([15,0,100]))     #yellow\n",
    "    clr_thresh.append(np.array([30,255,255]))\n",
    "    clr_thresh.append(np.array([0,250,0]))       #white\n",
    "    clr_thresh.append(np.array([179,255,255]))\n",
    "    gradient_thresh = []\n",
    "    gradient_thresh.append([30])\n",
    "    gradient_thresh.append([255])\n",
    "    gradient_thresh.append([-1.3])\n",
    "    gradient_thresh.append([1.3])\n",
    "    gradient_thresh.append([0])\n",
    "    gradient_thresh.append([100])\n",
    "    gradient_thresh.append([0])\n",
    "    gradient_thresh.append([100])\n",
    "\n",
    "    sobel_kernel = 5\n",
    "\n",
    "    binary_image = binary_gradient(new_img,clr_thresh,gradient_thresh,sobel_kernel)\n",
    "\n",
    "    #print('this is the size of binary warped image',binary_image.shape)\n",
    "    binary_warped = np.copy(binary_image)\n",
    "\n",
    "    nwindows = 9\n",
    "    margin1 = 100\n",
    "    margin2 = 20\n",
    "    minipix = 50\n",
    "    ploty = np.linspace(0,imshape[0]-1,imshape[0])\n",
    "    #plt.imshow(binary_warped,cmap='gray')\n",
    "    if(len(Left_lane.recent_xfitted)==0):\n",
    "        leftx,lefty,rightx,righty,out_img,init_basel,init_baser = lane_recognition(binary_warped,nwindows,margin1,minipix,(imshape[1],imshape[0]))\n",
    "    else:\n",
    "        poly_left = Left_lane.bestx\n",
    "        left_fit = Left_lane.current_fit\n",
    "        poly_right = Right_lane.bestx\n",
    "        right_fit = Right_lane.current_fit\n",
    "        leftx,lefty,rightx,righty,out_img = lane_recognition2(binary_warped,nwindows,margin2,minipix,(imshape[1],imshape[0]),poly_left,left_fit,poly_right,right_fit,ploty,Left_lane.last_width)\n",
    "\n",
    "    ym_per_pix = 15/720 # meters per pixel in y dimension\n",
    "    xm_per_pix = 3.7/1000 # (init_baser-init_basel) #meters per pixel in x dimension\n",
    "    poly_left,poly_right,poly_leftm,poly_rightm,left_fit,right_fit,left_fitm,right_fitm,found_condition = polynomial_fitting(leftx,lefty,rightx,righty,ploty,xm_per_pix,ym_per_pix)\n",
    "    \n",
    "    minimum_length = np.absolute(np.min(poly_left-poly_right))\n",
    "    print(minimum_length) \n",
    "    Left_lane.last_width = np.mean(poly_left-poly_right)\n",
    "    Right_lane.last_width = np.mean(poly_left-poly_right)\n",
    "    if(len(Left_lane.recent_xfitted)>0):\n",
    "        crit0 = left_fit[0]/right_fit[0] #criteria #0 \n",
    "        crit00 = np.absolute(crit0)\n",
    "        if(minimum_length<700):\n",
    "        #if((minimum_length<500) | (crit0<0)):\n",
    "        #if((minimum_length<500)| (crit0<0) | ((crit0>0)& (crit00<5) & (crit00>1/5))):\n",
    "            crit1 = np.absolute(np.divide((Left_lane.current_fit[:]-left_fit[:]),Left_lane.current_fit[:]))\n",
    "            crit2 = np.absolute(np.divide((Right_lane.current_fit[:]-right_fit[:]),Right_lane.current_fit[:]))\n",
    "            if((crit1[0]> 0.5) | (crit1[1]> 0.5) | (crit1[2]> 0.5)):\n",
    "                poly_left = Left_lane.bestx\n",
    "                left_fit = Left_lane.best_fit \n",
    "            if((crit2[0]> 0.5) | (crit2[1]> 0.5) | (crit2[2]> 0.5 )):  \n",
    "                poly_right = Right_lane.bestx\n",
    "                right_fit = Right_lane.best_fit     \n",
    "                \n",
    "            \n",
    "    plotym = ploty*ym_per_pix\n",
    "    left_curverad,right_curverad = curvature_finding(ploty,left_fit,right_fit)\n",
    "    #print('Left and Right radii of curvature in pixels are ',left_curverad, right_curverad)\n",
    "    left_curveradm,right_curveradm = curvature_finding(plotym,left_fitm,right_fitm)\n",
    "    #print('Left and Right radii of curvature in meters are ',left_curveradm, right_curveradm)\n",
    "    \n",
    "    \n",
    "\n",
    "            \n",
    "\n",
    "        \n",
    "    unwarped_image = unwarp_image(out_img,Minv,(imshape[1],imshape[0]))\n",
    "    warp_zero = np.zeros_like(binary_warped).astype(np.uint8)\n",
    "    color_warp = np.dstack((warp_zero, warp_zero, warp_zero))\n",
    "    pts_left = np.array([np.transpose(np.vstack([poly_left, ploty]))])\n",
    "    pts_right = np.array([np.flipud(np.transpose(np.vstack([poly_right, ploty])))])\n",
    "    pts = np.hstack((pts_left, pts_right))\n",
    "    # Draw the lane onto the warped blank image\n",
    "    cv2.fillPoly(color_warp, np.int_([pts]), (0,255, 0))\n",
    "    # Warp the blank back to original image space using inverse perspective matrix (Minv)\n",
    "    newwarp = cv2.warpPerspective(color_warp, Minv, (image.shape[1],image.shape[0])) \n",
    "    # Combine the result with the original image\n",
    "    result = cv2.addWeighted(image, 1, newwarp, 0.3, 0)\n",
    "    #####################Text to write on image######################\n",
    "    radius_mag = np.min(np.absolute(left_curveradm)+ np.absolute(right_curveradm)) #0.5*(np.absolute(left_curveradm)+ np.absolute(right_curveradm)) #\n",
    "    end_y = image.shape[0]*ym_per_pix\n",
    "    left_lanex = left_fitm[0]*end_y**2  + left_fitm[1]*end_y + left_fitm[2]\n",
    "    right_lanex = right_fitm[0]*end_y**2  + right_fitm[1]*end_y + right_fitm[2]\n",
    "    car_gap = round((0.5*(left_lanex+right_lanex) - image.shape[1]*xm_per_pix/2),2)\n",
    "\n",
    "    if(car_gap> 0):\n",
    "        side_car = 'The vehicle is ' + str(car_gap) + ' m to the left of center '\n",
    "    elif(car_gap<0):\n",
    "        side_car = 'The vehicle is ' + str(-car_gap) + ' m to the lright of center '\n",
    "    else:\n",
    "        side_car = 'The vehicle is at the center '\n",
    "\n",
    "    radius_text = 'Radius of curvature is ' + str(np.int(radius_mag)) + ' (m)'\n",
    "    print(\"This is the average radius of curvature of the anes \" + str(radius_mag))\n",
    "    #print(os.getcwd())\n",
    "    #os.chdir('..')\n",
    "    font_type = ImageFont.truetype(\"arial.ttf\", 40, encoding=\"unic\")\n",
    "    #print(end_y,left_lanex,right_lanex,car_gap,side_car)\n",
    "    #####################Text to write on image######################   \n",
    "       #############################################################################################################       \n",
    "    if(found_condition == True):\n",
    "        numberl = len(Left_lane.recent_xfitted)\n",
    "        #print(numberl)\n",
    "        if(numberl == 0):\n",
    "            Left_lane.recent_xfitted.append(poly_left)\n",
    "            Left_lane.bestx = np.array(poly_left)\n",
    "            Left_lane.best_fit = left_fit\n",
    "            Left_lane.current_fit = left_fit\n",
    "            Left_lane.radius_of_curvature = left_curverad\n",
    "            Left_lane.line_base_pos = np.absolute(car_gap) \n",
    "            Left_lane.diffs = np.array([0,0,0], dtype='float') \n",
    "            Left_lane.allx = leftx\n",
    "            Left_lane.ally = lefty\n",
    "        else: \n",
    "            Left_lane.recent_xfitted.append(poly_left)\n",
    "            Left_lane.diffs = Left_lane.current_fit-left_fit\n",
    "            weights = np.ones(len(Left_lane.recent_xfitted))\n",
    "            weights[0] = 0.8\n",
    "            weights[1:] = 0.2/(len(weights) - 1)\n",
    "            #Left_lane.bestx = reduce(lambda a,b: a + b[0]*b[1], zip(weights, Left_lane.recent_xfitted), np.zeros(len(Left_lane.bestx)))\n",
    "            Left_lane.bestx = (Left_lane.bestx *(numberl) + poly_left)/(numberl +1 )\n",
    "            Left_lane.best_fit = (Left_lane.best_fit *(numberl) + left_fit)/(numberl +1 )\n",
    "            Left_lane.current_fit = left_fit\n",
    "            Left_lane.radius_of_curvature = left_curverad\n",
    "            Left_lane.line_base_pos = np.absolute(car_gap) \n",
    "            Left_lane.allx = leftx\n",
    "            Left_lane.ally = lefty\n",
    "         \n",
    "        numberr = len(Right_lane.recent_xfitted)\n",
    "        if(numberr == 0):\n",
    "            Right_lane.recent_xfitted.append(poly_right)\n",
    "            Right_lane.bestx = poly_right\n",
    "            Right_lane.best_fit = right_fit\n",
    "            Right_lane.current_fit = right_fit\n",
    "            Right_lane.radius_of_curvature = right_curverad\n",
    "            Right_lane.line_base_pos = np.absolute(car_gap) \n",
    "            Right_lane.diffs = np.array([0,0,0], dtype='float') \n",
    "            Right_lane.allx = rightx\n",
    "            Right_lane.ally = righty\n",
    "        else: \n",
    "            Right_lane.recent_xfitted.append(poly_right)\n",
    "            Right_lane.diffs = Right_lane.current_fit-right_fit\n",
    "            weights = np.ones(len(Right_lane.recent_xfitted))\n",
    "            weights[0] = 0.8\n",
    "            weights[1:] = 0.2/(len(weights) - 1)\n",
    "            #Right_lane.bestx = reduce(lambda a,b: a + b[0]*b[1], zip(weights, Right_lane.recent_xfitted), np.zeros(len(Left_lane.bestx)))\n",
    "            Right_lane.bestx = (Right_lane.bestx *(numberr) + poly_right)/(numberr +1 )\n",
    "            Right_lane.best_fit = (Right_lane.best_fit *(numberr) + right_fit)/(numberr +1 )\n",
    "            Right_lane.current_fit = right_fit\n",
    "            Right_lane.radius_of_curvature = right_curverad\n",
    "            Right_lane.line_base_pos = np.absolute(car_gap) \n",
    "            Right_lane.allx = rightx\n",
    "            Right_lane.ally = righty\n",
    "            \n",
    "        \n",
    "#############################################################################################################  \n",
    "    result1 = np.copy(result)\n",
    "    result = Image.fromarray(result) \n",
    "    draw = ImageDraw.Draw(result)\n",
    "    draw.text(xy=(0,0),text = radius_text,fill = (255,0,0),font=font_type)\n",
    "    draw.text(xy=(0,40),text = side_car,fill = (255,0,0),font=font_type)\n",
    "\n",
    "    #if(numberl == 10):\n",
    "     #   print(os.getcwd())\n",
    "      #  mpimg.imsave('output_images/final_output.jpg',result)\n",
    "    return np.asarray( result, dtype=\"int32\" )  #np.asarray( result, dtype=\"int32\" )\n",
    "    #return np.dstack((binary_warped,binary_warped,binary_warped))\n",
    "#np.dstack((binary_warped,binary_warped,binary_warped)) #\n",
    "#np.dstack((binary_warped,binary_warped,binary_warped))\n",
    "\n"
   ]
  },
  {
   "cell_type": "code",
   "execution_count": 3,
   "metadata": {},
   "outputs": [
    {
     "name": "stdout",
     "output_type": "stream",
     "text": [
      "993.564205405\n",
      "0.0 [  3.27912956e-04  -4.49091581e-01   4.23834970e+02] [  6.68767232e-05  -3.75752008e-01   1.41224795e+03]\n",
      "0.0 [ 0.00279539 -0.07975866  1.56818939] [  5.70110690e-04  -6.67335565e-02   5.22531740e+00]\n",
      "This is the average radius of curvature of the anes 1063.46299086\n",
      "[MoviePy] >>>> Building video output_images/project_video.mp4\n",
      "[MoviePy] Writing video output_images/project_video.mp4\n"
     ]
    },
    {
     "name": "stderr",
     "output_type": "stream",
     "text": [
      "  1%|          | 1/126 [00:00<01:25,  1.45it/s]"
     ]
    },
    {
     "name": "stdout",
     "output_type": "stream",
     "text": [
      "982.916576037\n",
      "0.0 [  3.14560828e-04  -4.38619127e-01   4.22018932e+02] [ -6.57697101e-05  -2.43376651e-01   1.37987864e+03]\n",
      "0.0 [ 0.00268157 -0.07789876  1.56147005] [ -5.60673624e-04  -4.32236932e-02   5.10555098e+00]\n",
      "This is the average radius of curvature of the anes 1082.44258284\n"
     ]
    },
    {
     "name": "stderr",
     "output_type": "stream",
     "text": [
      "\r",
      "  2%|▏         | 2/126 [00:01<01:26,  1.44it/s]"
     ]
    },
    {
     "name": "stdout",
     "output_type": "stream",
     "text": [
      "974.741390586\n",
      "0.0 [  3.36304794e-04  -4.61137446e-01   4.27470612e+02] [ -2.25543524e-04  -7.33625903e-02   1.33530367e+03]\n",
      "0.0 [ 0.00286693 -0.08189801  1.58164126] [ -1.92271344e-03  -1.30291960e-02   4.94062359e+00]\n",
      "This is the average radius of curvature of the anes 436.275480573\n"
     ]
    },
    {
     "name": "stderr",
     "output_type": "stream",
     "text": [
      "\r",
      "  2%|▏         | 3/126 [00:02<01:25,  1.43it/s]"
     ]
    },
    {
     "name": "stdout",
     "output_type": "stream",
     "text": [
      "989.026675091\n",
      "0.0 [  3.20804227e-04  -4.48189617e-01   4.25110303e+02] [ -4.76865731e-05  -2.83938496e-01   1.39583366e+03]\n",
      "0.0 [ 0.00273479 -0.07959848  1.57290812] [ -4.06518498e-04  -5.04274769e-02   5.16458453e+00]\n",
      "This is the average radius of curvature of the anes 1419.22045565\n"
     ]
    },
    {
     "name": "stderr",
     "output_type": "stream",
     "text": [
      "\r",
      "  3%|▎         | 4/126 [00:02<01:24,  1.44it/s]"
     ]
    },
    {
     "name": "stdout",
     "output_type": "stream",
     "text": [
      "989.748828325\n",
      "0.0 [  3.43259613e-04  -4.74355606e-01   4.32510616e+02] [ -2.21481751e-05  -3.17152034e-01   1.40535165e+03]\n",
      "0.0 [ 0.00292622 -0.08424556  1.60028928] [ -1.88808763e-04  -5.63262012e-02   5.19980111e+00]\n",
      "This is the average radius of curvature of the anes 2833.48597811\n"
     ]
    },
    {
     "name": "stderr",
     "output_type": "stream",
     "text": [
      "\r",
      "  4%|▍         | 5/126 [00:03<01:23,  1.44it/s]"
     ]
    },
    {
     "name": "stdout",
     "output_type": "stream",
     "text": [
      "973.294115051\n",
      "0.0 [  3.50023347e-04  -4.90093538e-01   4.39407426e+02] [ -1.50686395e-04  -1.68300131e-01   1.36099949e+03]\n",
      "0.0 [ 0.00298388 -0.08704061  1.62580748] [ -1.28457138e-03  -2.98901033e-02   5.03569811e+00]\n",
      "This is the average radius of curvature of the anes 559.231598321\n"
     ]
    },
    {
     "name": "stderr",
     "output_type": "stream",
     "text": [
      "\r",
      "  5%|▍         | 6/126 [00:04<01:22,  1.45it/s]"
     ]
    },
    {
     "name": "stdout",
     "output_type": "stream",
     "text": [
      "970.574426414\n",
      "0.0 [  3.69613675e-04  -5.13795499e-01   4.46392023e+02] [ -2.06445041e-04  -1.21487129e-01   1.35017398e+03]\n",
      "0.0 [ 0.00315088 -0.09125008  1.65165049] [ -1.75990269e-03  -2.15761141e-02   4.99564372e+00]\n",
      "This is the average radius of curvature of the anes 444.976807044\n"
     ]
    },
    {
     "name": "stderr",
     "output_type": "stream",
     "text": [
      "\r",
      "  6%|▌         | 7/126 [00:04<01:21,  1.46it/s]"
     ]
    },
    {
     "name": "stdout",
     "output_type": "stream",
     "text": [
      "959.713221367\n",
      "0.0 [  3.43573141e-04  -4.96867848e-01   4.46246282e+02] [ -3.19512638e-04  -1.14965066e-04   1.31292361e+03]\n",
      "0.0 [ 0.00292889 -0.08824373  1.65111124] [ -2.72378134e-03  -2.04177957e-05   4.85781736e+00]\n",
      "This is the average radius of curvature of the anes 356.279214113\n"
     ]
    },
    {
     "name": "stderr",
     "output_type": "stream",
     "text": [
      "\r",
      "  6%|▋         | 8/126 [00:05<01:21,  1.46it/s]"
     ]
    },
    {
     "name": "stdout",
     "output_type": "stream",
     "text": [
      "961.155774296\n",
      "0.0 [  3.59832147e-04  -5.18761582e-01   4.53144436e+02] [ -1.91723561e-04  -1.34139503e-01   1.34724714e+03]\n",
      "0.0 [ 0.0030675  -0.09213206  1.67663441] [ -1.63440502e-03  -2.38231758e-02   4.98481443e+00]\n",
      "This is the average radius of curvature of the anes 471.2613192\n"
     ]
    },
    {
     "name": "stderr",
     "output_type": "stream",
     "text": [
      "\r",
      "  7%|▋         | 9/126 [00:06<01:19,  1.47it/s]"
     ]
    },
    {
     "name": "stdout",
     "output_type": "stream",
     "text": [
      "956.850798383\n",
      "0.0 [  3.75851584e-04  -5.40990015e-01   4.60269570e+02] [ -2.76287603e-04  -4.28900021e-02   1.32200892e+03]\n",
      "0.0 [ 0.00320406 -0.09607983  1.70299741] [ -2.35529655e-03  -7.61726438e-03   4.89143301e+00]\n",
      "This is the average radius of curvature of the anes 370.523830276\n"
     ]
    },
    {
     "name": "stderr",
     "output_type": "stream",
     "text": [
      "\r",
      "  8%|▊         | 10/126 [00:06<01:18,  1.47it/s]"
     ]
    },
    {
     "name": "stdout",
     "output_type": "stream",
     "text": [
      "954.306281827\n",
      "0.0 [  3.51715581e-04  -5.27099326e-01   4.60154421e+02] [ -3.10852313e-04  -6.46098679e-03   1.31218278e+03]\n",
      "0.0 [ 0.0029983  -0.09361284  1.70257136] [ -2.64995380e-03  -1.14747125e-03   4.85507630e+00]\n",
      "This is the average radius of curvature of the anes 357.640669923\n"
     ]
    },
    {
     "name": "stderr",
     "output_type": "stream",
     "text": [
      "\r",
      "  9%|▊         | 11/126 [00:07<01:17,  1.48it/s]"
     ]
    },
    {
     "name": "stdout",
     "output_type": "stream",
     "text": [
      "951.823981321\n",
      "0.0 [  3.53699536e-04  -5.36773808e-01   4.64814458e+02] [ -2.61542954e-04  -5.10911727e-02   1.32078701e+03]\n",
      "0.0 [ 0.00301522 -0.09533103  1.7198135 ] [ -2.22960137e-03  -9.07379226e-03   4.88691193e+00]\n",
      "This is the average radius of curvature of the anes 392.374192936\n"
     ]
    },
    {
     "name": "stderr",
     "output_type": "stream",
     "text": [
      "\r",
      " 10%|▉         | 12/126 [00:08<01:17,  1.48it/s]"
     ]
    },
    {
     "name": "stdout",
     "output_type": "stream",
     "text": [
      "950.569381378\n",
      "0.0 [  3.87882639e-04  -5.77045125e-01   4.76395427e+02] [ -9.22787035e-05  -2.25386079e-01   1.36257809e+03]\n",
      "0.0 [ 0.00330662 -0.10248321  1.76266308] [ -7.86657491e-04  -4.00285676e-02   5.04153894e+00]\n",
      "This is the average radius of curvature of the anes 790.729056025\n"
     ]
    },
    {
     "name": "stderr",
     "output_type": "stream",
     "text": [
      "\r",
      " 10%|█         | 13/126 [00:08<01:16,  1.47it/s]"
     ]
    },
    {
     "name": "stdout",
     "output_type": "stream",
     "text": [
      "949.782626402\n",
      "0.0 [  3.67118963e-04  -5.63137394e-01   4.75207443e+02] [ -2.93844229e-05  -2.85537451e-01   1.37640175e+03]\n",
      "0.0 [ 0.00312962 -0.1000132   1.75826754] [ -2.50496328e-04  -5.07114513e-02   5.09268649e+00]\n",
      "This is the average radius of curvature of the anes 2165.90895988\n"
     ]
    },
    {
     "name": "stderr",
     "output_type": "stream",
     "text": [
      "\r",
      " 11%|█         | 14/126 [00:09<01:15,  1.49it/s]"
     ]
    },
    {
     "name": "stdout",
     "output_type": "stream",
     "text": [
      "943.960666301\n",
      "0.0 [  3.64880536e-04  -5.69438544e-01   4.79377342e+02] [ -6.20736709e-05  -2.30941066e-01   1.35624626e+03]\n",
      "0.0 [ 0.00311053 -0.10113229  1.77369616] [ -5.29165630e-04  -4.10151333e-02   5.01811115e+00]\n",
      "This is the average radius of curvature of the anes 1110.48552034\n"
     ]
    },
    {
     "name": "stderr",
     "output_type": "stream",
     "text": [
      "\r",
      " 12%|█▏        | 15/126 [00:10<01:14,  1.48it/s]"
     ]
    },
    {
     "name": "stdout",
     "output_type": "stream",
     "text": [
      "940.366179803\n",
      "0.0 [  3.50190961e-04  -5.63599171e-01   4.81041384e+02] [  4.29079861e-05  -3.34797074e-01   1.37881623e+03]\n",
      "0.0 [ 0.00298531 -0.10009521  1.77985312] [  3.65782000e-04  -5.94599603e-02   5.10162005e+00]\n",
      "This is the average radius of curvature of the anes 1544.20026933\n"
     ]
    },
    {
     "name": "stderr",
     "output_type": "stream",
     "text": [
      "\r",
      " 13%|█▎        | 16/126 [00:10<01:13,  1.49it/s]"
     ]
    },
    {
     "name": "stdout",
     "output_type": "stream",
     "text": [
      "947.489430106\n",
      "0.0 [  3.44488095e-04  -5.59684136e-01   4.80445292e+02] [  1.49639934e-04  -4.61490989e-01   1.41556369e+03]\n",
      "0.0 [ 0.00293669 -0.0993999   1.77764758] [  1.27565051e-03  -8.19607996e-02   5.23758564e+00]\n",
      "This is the average radius of curvature of the anes 568.702156533\n"
     ]
    },
    {
     "name": "stderr",
     "output_type": "stream",
     "text": [
      "\r",
      " 13%|█▎        | 17/126 [00:11<01:12,  1.50it/s]"
     ]
    },
    {
     "name": "stdout",
     "output_type": "stream",
     "text": [
      "939.879094231\n",
      "0.0 [  3.22719443e-04  -5.40744209e-01   4.76807997e+02] [ -1.00094646e-04  -2.03917894e-01   1.34960566e+03]\n",
      "0.0 [ 0.00275112 -0.09603617  1.76418959] [ -8.53286835e-04  -3.62158180e-02   4.99354095e+00]\n",
      "This is the average radius of curvature of the anes 771.386993504\n"
     ]
    },
    {
     "name": "stderr",
     "output_type": "stream",
     "text": [
      "\r",
      " 14%|█▍        | 18/126 [00:12<01:10,  1.53it/s]"
     ]
    },
    {
     "name": "stdout",
     "output_type": "stream",
     "text": [
      "937.939257064\n",
      "0.0 [  2.76994684e-04  -4.98114296e-01   4.67919236e+02] [ -1.36270040e-04  -1.64941409e-01   1.33870773e+03]\n",
      "0.0 [ 0.00236132 -0.0884651   1.73130117] [ -1.16167483e-03  -2.92935942e-02   4.95321860e+00]\n",
      "This is the average radius of curvature of the anes 645.203327629\n"
     ]
    },
    {
     "name": "stderr",
     "output_type": "stream",
     "text": [
      "\r",
      " 15%|█▌        | 19/126 [00:12<01:09,  1.55it/s]"
     ]
    },
    {
     "name": "stdout",
     "output_type": "stream",
     "text": [
      "937.170272063\n",
      "0.0 [  2.39365401e-04  -4.63015936e-01   4.60698758e+02] [ -1.62619951e-04  -1.40040037e-01   1.33299516e+03]\n",
      "0.0 [ 0.00204054 -0.08223163  1.7045854 ] [ -1.38630256e-03  -2.48711106e-02   4.93208209e+00]\n",
      "This is the average radius of curvature of the anes 608.528829135\n"
     ]
    },
    {
     "name": "stderr",
     "output_type": "stream",
     "text": [
      "\r",
      " 16%|█▌        | 20/126 [00:13<01:07,  1.57it/s]"
     ]
    },
    {
     "name": "stdout",
     "output_type": "stream",
     "text": [
      "933.755455888\n",
      "0.0 [  2.92054894e-04  -5.15968828e-01   4.74681925e+02] [ -2.07410564e-04  -9.18817317e-02   1.31841631e+03]\n",
      "0.0 [ 0.00248971 -0.09163606  1.75632312] [ -1.76813358e-03  -1.63181956e-02   4.87814036e+00]\n",
      "This is the average radius of curvature of the anes 486.258526669\n"
     ]
    },
    {
     "name": "stderr",
     "output_type": "stream",
     "text": [
      "\r",
      " 17%|█▋        | 21/126 [00:14<01:06,  1.57it/s]"
     ]
    },
    {
     "name": "stdout",
     "output_type": "stream",
     "text": [
      "933.23368551\n",
      "0.0 [  2.67991265e-04  -4.92286822e-01   4.69642561e+02] [ -1.27354148e-04  -1.71717694e-01   1.33789228e+03]\n",
      "0.0 [ 0.00228457 -0.08743014  1.73767748] [ -1.08566864e-03  -3.04970624e-02   4.95020144e+00]\n",
      "This is the average radius of curvature of the anes 682.561958678\n"
     ]
    },
    {
     "name": "stderr",
     "output_type": "stream",
     "text": [
      "\r",
      " 17%|█▋        | 22/126 [00:14<01:05,  1.58it/s]"
     ]
    },
    {
     "name": "stdout",
     "output_type": "stream",
     "text": [
      "932.337198953\n",
      "0.0 [  2.46131580e-04  -4.69486793e-01   4.64341018e+02] [ -6.81146530e-05  -2.24715134e-01   1.34901410e+03]\n",
      "0.0 [ 0.00209822 -0.08338085  1.71806177] [ -5.80663794e-04  -3.99094079e-02   4.99135216e+00]\n",
      "This is the average radius of curvature of the anes 1103.92789437\n"
     ]
    },
    {
     "name": "stderr",
     "output_type": "stream",
     "text": [
      "\r",
      " 18%|█▊        | 23/126 [00:15<01:04,  1.60it/s]"
     ]
    },
    {
     "name": "stdout",
     "output_type": "stream",
     "text": [
      "930.319464572\n",
      "0.0 [  2.52644294e-04  -4.73705909e-01   4.65172159e+02] [  3.27634956e-05  -3.19002531e-01   1.36828015e+03]\n",
      "0.0 [ 0.00215374 -0.08413017  1.72113699] [  2.79302247e-04  -5.66548495e-02   5.06263654e+00]\n",
      "This is the average radius of curvature of the anes 2033.42452292\n"
     ]
    },
    {
     "name": "stderr",
     "output_type": "stream",
     "text": [
      "\r",
      " 19%|█▉        | 24/126 [00:15<01:03,  1.60it/s]"
     ]
    },
    {
     "name": "stdout",
     "output_type": "stream",
     "text": [
      "959.436329029\n",
      "0.0 [  2.24823909e-04  -4.45738206e-01   4.58683192e+02] [  2.12849658e-04  -5.09790053e-01   1.41811952e+03]\n",
      "0.0 [ 0.00191658 -0.07916311  1.69712781] [  1.81450077e-03  -9.05387135e-02   5.24704223e+00]\n",
      "This is the average radius of curvature of the anes 542.290744392\n"
     ]
    },
    {
     "name": "stderr",
     "output_type": "stream",
     "text": [
      "\r",
      " 20%|█▉        | 25/126 [00:16<01:02,  1.62it/s]"
     ]
    },
    {
     "name": "stdout",
     "output_type": "stream",
     "text": [
      "964.817623659\n",
      "0.0 [  1.95805131e-04  -4.14207096e-01   4.50811119e+02] [  2.19734892e-04  -5.08876211e-01   1.41562874e+03]\n",
      "0.0 [ 0.0016692  -0.07356318  1.66800114] [  1.87319600e-03  -9.03764150e-02   5.23782635e+00]\n",
      "This is the average radius of curvature of the anes 572.180007638\n"
     ]
    },
    {
     "name": "stderr",
     "output_type": "stream",
     "text": [
      "\r",
      " 21%|██        | 26/126 [00:17<01:01,  1.63it/s]"
     ]
    },
    {
     "name": "stdout",
     "output_type": "stream",
     "text": [
      "979.482309834\n",
      "0.0 [  1.41661898e-04  -3.56445405e-01   4.36502817e+02] [  2.20130015e-04  -5.10674882e-01   1.41598513e+03]\n",
      "0.0 [  1.20763935e-03  -6.33047040e-02   1.61506042e+00] [  1.87656435e-03  -9.06958590e-02   5.23914497e+00]\n",
      "This is the average radius of curvature of the anes 686.260890518\n"
     ]
    },
    {
     "name": "stderr",
     "output_type": "stream",
     "text": [
      "\r",
      " 21%|██▏       | 27/126 [00:17<01:00,  1.65it/s]"
     ]
    },
    {
     "name": "stdout",
     "output_type": "stream",
     "text": [
      "982.86921663\n",
      "0.0 [  1.31841828e-04  -3.42919739e-01   4.32418560e+02] [  2.24337305e-04  -5.13011560e-01   1.41528778e+03]\n",
      "0.0 [  1.12392522e-03  -6.09025457e-02   1.59994867e+00] [  1.91243066e-03  -9.11108531e-02   5.23656477e+00]\n",
      "This is the average radius of curvature of the anes 712.056480586\n"
     ]
    },
    {
     "name": "stderr",
     "output_type": "stream",
     "text": [
      "\r",
      " 22%|██▏       | 28/126 [00:18<00:59,  1.66it/s]"
     ]
    },
    {
     "name": "stdout",
     "output_type": "stream",
     "text": [
      "965.555736496\n",
      "0.0 [  1.45940698e-04  -3.52585731e-01   4.33520042e+02] [  1.80621259e-04  -4.62250663e-01   1.39907578e+03]\n",
      "0.0 [  1.24411526e-03  -6.26192259e-02   1.60402416e+00] [  1.53976011e-03  -8.20957177e-02   5.17658038e+00]\n",
      "This is the average radius of curvature of the anes 732.272437177\n"
     ]
    },
    {
     "name": "stderr",
     "output_type": "stream",
     "text": [
      "\r",
      " 23%|██▎       | 29/126 [00:18<00:58,  1.64it/s]"
     ]
    },
    {
     "name": "stdout",
     "output_type": "stream",
     "text": [
      "1048.21447627\n",
      "0.0 [  1.07268285e-04  -3.12262447e-01   4.22992093e+02] [  3.57468429e-04  -6.89875560e-01   1.47120657e+03]\n",
      "0.0 [  9.14440675e-04  -5.54578106e-02   1.56507074e+00] [  3.04734686e-03  -1.22521899e-01   5.44346430e+00]\n",
      "This is the average radius of curvature of the anes 717.092344971\n"
     ]
    },
    {
     "name": "stderr",
     "output_type": "stream",
     "text": [
      "\r",
      " 24%|██▍       | 30/126 [00:19<00:58,  1.64it/s]"
     ]
    },
    {
     "name": "stdout",
     "output_type": "stream",
     "text": [
      "976.533104209\n",
      "0.0 [  1.43175442e-04  -3.45241108e-01   4.29326241e+02] [  1.30470397e-04  -4.45223959e-01   1.40585935e+03]\n",
      "0.0 [  1.22054201e-03  -6.13148208e-02   1.58850709e+00] [  1.11223404e-03  -7.90717751e-02   5.20167958e+00]\n",
      "This is the average radius of curvature of the anes 865.734711847\n"
     ]
    },
    {
     "name": "stderr",
     "output_type": "stream",
     "text": [
      "\r",
      " 25%|██▍       | 31/126 [00:20<00:58,  1.63it/s]"
     ]
    },
    {
     "name": "stdout",
     "output_type": "stream",
     "text": [
      "954.241567874\n",
      "0.0 [  1.68054905e-04  -3.69601454e-01   4.34045575e+02] [  3.35751358e-05  -3.57311317e-01   1.38800636e+03]\n",
      "0.0 [  1.43263446e-03  -6.56412183e-02   1.60596863e+00] [  2.86221318e-04  -6.34584899e-02   5.13562352e+00]\n",
      "This is the average radius of curvature of the anes 2108.72814154\n"
     ]
    },
    {
     "name": "stderr",
     "output_type": "stream",
     "text": [
      "\r",
      " 25%|██▌       | 32/126 [00:20<00:58,  1.61it/s]"
     ]
    },
    {
     "name": "stdout",
     "output_type": "stream",
     "text": [
      "1021.32196861\n",
      "0.0 [  1.27595711e-04  -3.29132095e-01   4.21248716e+02] [  2.15881020e-04  -5.52182041e-01   1.44257068e+03]\n",
      "0.0 [  1.08772792e-03  -5.84538600e-02   1.55862025e+00] [  1.84034252e-03  -9.80675304e-02   5.33751153e+00]\n",
      "This is the average radius of curvature of the anes 737.649048414\n"
     ]
    },
    {
     "name": "stderr",
     "output_type": "stream",
     "text": [
      "\r",
      " 26%|██▌       | 33/126 [00:21<00:57,  1.61it/s]"
     ]
    },
    {
     "name": "stdout",
     "output_type": "stream",
     "text": [
      "999.681162829\n",
      "0.0 [  1.55332161e-04  -3.54737663e-01   4.25597798e+02] [  1.48079568e-04  -4.78944879e-01   1.42527896e+03]\n",
      "0.0 [  1.32417561e-03  -6.30014089e-02   1.57471185e+00] [  1.26234870e-03  -8.50606105e-02   5.27353215e+00]\n",
      "This is the average radius of curvature of the anes 780.237309636\n"
     ]
    },
    {
     "name": "stderr",
     "output_type": "stream",
     "text": [
      "\r",
      " 27%|██▋       | 34/126 [00:22<00:57,  1.61it/s]"
     ]
    },
    {
     "name": "stdout",
     "output_type": "stream",
     "text": [
      "1000.29432722\n",
      "0.0 [  1.72873102e-04  -3.72100526e-01   4.28835604e+02] [  1.46757478e-04  -4.80353147e-01   1.42912993e+03]\n",
      "0.0 [  1.47370862e-03  -6.60850535e-02   1.58669174e+00] [  1.25107815e-03  -8.53107189e-02   5.28778075e+00]\n",
      "This is the average radius of curvature of the anes 745.531300733\n"
     ]
    },
    {
     "name": "stderr",
     "output_type": "stream",
     "text": [
      "\r",
      " 28%|██▊       | 35/126 [00:22<00:56,  1.61it/s]"
     ]
    },
    {
     "name": "stdout",
     "output_type": "stream",
     "text": [
      "984.300902679\n",
      "0.0 [  2.36689253e-04  -4.38693718e-01   4.45001123e+02] [  1.56287207e-04  -4.85434380e-01   1.42930203e+03]\n",
      "0.0 [ 0.00201773 -0.077912    1.64650415] [  1.33231719e-03  -8.62131460e-02   5.28841749e+00]\n",
      "This is the average radius of curvature of the anes 629.54103924\n"
     ]
    },
    {
     "name": "stderr",
     "output_type": "stream",
     "text": [
      "\r",
      " 29%|██▊       | 36/126 [00:23<00:56,  1.60it/s]"
     ]
    },
    {
     "name": "stdout",
     "output_type": "stream",
     "text": [
      "988.659669245\n",
      "0.0 [  2.31855967e-04  -4.39764298e-01   4.47286636e+02] [  1.88249843e-04  -5.19446271e-01   1.43594631e+03]\n",
      "0.0 [ 0.00197653 -0.07810214  1.65496055] [  1.60479226e-03  -9.22536578e-02   5.31300133e+00]\n",
      "This is the average radius of curvature of the anes 570.840055141\n"
     ]
    },
    {
     "name": "stderr",
     "output_type": "stream",
     "text": [
      "\r",
      " 29%|██▉       | 37/126 [00:23<00:56,  1.59it/s]"
     ]
    },
    {
     "name": "stdout",
     "output_type": "stream",
     "text": [
      "985.061963559\n",
      "0.0 [  2.58342872e-04  -4.74762084e-01   4.58129033e+02] [  2.15849847e-04  -5.47633960e-01   1.44319100e+03]\n",
      "0.0 [ 0.00220232 -0.08431775  1.69507742] [  1.84007677e-03  -9.72597914e-02   5.33980669e+00]\n",
      "This is the average radius of curvature of the anes 505.051102061\n"
     ]
    },
    {
     "name": "stderr",
     "output_type": "stream",
     "text": [
      "\r",
      " 30%|███       | 38/126 [00:24<00:55,  1.60it/s]"
     ]
    },
    {
     "name": "stdout",
     "output_type": "stream",
     "text": [
      "963.156917186\n",
      "0.0 [  2.51500120e-04  -4.75229807e-01   4.60823804e+02] [  1.83935757e-04  -4.98141206e-01   1.42398072e+03]\n",
      "0.0 [ 0.00214399 -0.08440081  1.70504808] [  1.56801554e-03  -8.84698782e-02   5.26872867e+00]\n",
      "This is the average radius of curvature of the anes 558.331989685\n"
     ]
    },
    {
     "name": "stderr",
     "output_type": "stream",
     "text": [
      "\r",
      " 31%|███       | 39/126 [00:25<00:54,  1.59it/s]"
     ]
    },
    {
     "name": "stdout",
     "output_type": "stream",
     "text": [
      "1030.94156163\n",
      "0.0 [  2.46233712e-04  -4.75740636e-01   4.62976130e+02] [  4.33512016e-04  -7.68073526e-01   1.49391769e+03]\n",
      "0.0 [ 0.00209909 -0.08449154  1.71301168] [  3.69560324e-03  -1.36409858e-01   5.52749546e+00]\n",
      "This is the average radius of curvature of the anes 379.843057537\n"
     ]
    },
    {
     "name": "stderr",
     "output_type": "stream",
     "text": [
      "\r",
      " 32%|███▏      | 40/126 [00:25<00:55,  1.56it/s]"
     ]
    },
    {
     "name": "stdout",
     "output_type": "stream",
     "text": [
      "1057.96299485\n",
      "0.0 [  2.72338365e-04  -5.06542892e-01   4.71032138e+02] [  4.91546492e-04  -8.63458427e-01   1.52899513e+03]\n",
      "0.0 [ 0.00232163 -0.08996202  1.74281891] [  4.19033554e-03  -1.53350217e-01   5.65728199e+00]\n",
      "This is the average radius of curvature of the anes 341.541548166\n"
     ]
    },
    {
     "name": "stderr",
     "output_type": "stream",
     "text": [
      "\r",
      " 33%|███▎      | 41/126 [00:26<00:54,  1.55it/s]"
     ]
    },
    {
     "name": "stdout",
     "output_type": "stream",
     "text": [
      "1006.97858067\n",
      "0.0 [  2.94602544e-04  -5.35745431e-01   4.79917022e+02] [  2.90969863e-04  -6.75647038e-01   1.48689560e+03]\n",
      "0.0 [ 0.00251143 -0.09514839  1.77569298] [  2.48045989e-03  -1.19994914e-01   5.50151373e+00]\n",
      "This is the average radius of curvature of the anes 407.744474638\n"
     ]
    },
    {
     "name": "stderr",
     "output_type": "stream",
     "text": [
      "\r",
      " 33%|███▎      | 42/126 [00:27<00:54,  1.54it/s]"
     ]
    },
    {
     "name": "stdout",
     "output_type": "stream",
     "text": [
      "955.355903872\n",
      "0.0 [  2.83555352e-04  -5.30611962e-01   4.80193942e+02] [  1.31107757e-04  -4.88101031e-01   1.43258627e+03]\n",
      "0.0 [ 0.00241725 -0.09423668  1.77671759] [  1.11766741e-03  -8.66867432e-02   5.30056919e+00]\n",
      "This is the average radius of curvature of the anes 662.02020057\n"
     ]
    },
    {
     "name": "stderr",
     "output_type": "stream",
     "text": [
      "\r",
      " 34%|███▍      | 43/126 [00:28<01:02,  1.33it/s]"
     ]
    },
    {
     "name": "stdout",
     "output_type": "stream",
     "text": [
      "951.10564554\n",
      "0.0 [  2.74959748e-04  -5.27046940e-01   4.80499076e+02] [  1.14176310e-04  -4.65984152e-01   1.42580707e+03]\n",
      "0.0 [ 0.00234398 -0.09360354  1.77784658] [  9.73330212e-04  -8.27587853e-02   5.27548617e+00]\n",
      "This is the average radius of curvature of the anes 735.109082312\n"
     ]
    },
    {
     "name": "stderr",
     "output_type": "stream",
     "text": [
      "\r",
      " 35%|███▍      | 44/126 [00:28<01:01,  1.33it/s]"
     ]
    },
    {
     "name": "stdout",
     "output_type": "stream",
     "text": [
      "943.922794284\n",
      "0.0 [  3.07289787e-04  -5.64528973e-01   4.91147714e+02] [  1.01807733e-05  -3.61862158e-01   1.40050926e+03]\n",
      "0.0 [ 0.00261958 -0.10026035  1.81724654] [  8.67890564e-05  -6.42667192e-02   5.18188425e+00]\n",
      "This is the average radius of curvature of the anes 5990.57885167\n"
     ]
    },
    {
     "name": "stderr",
     "output_type": "stream",
     "text": [
      "\r",
      " 36%|███▌      | 45/126 [00:29<01:00,  1.34it/s]"
     ]
    },
    {
     "name": "stdout",
     "output_type": "stream",
     "text": [
      "948.555697749\n",
      "0.0 [  3.18458801e-04  -5.81857927e-01   4.97233693e+02] [  1.38369449e-04  -4.97517042e-01   1.43591460e+03]\n",
      "0.0 [ 0.0027148  -0.10333797  1.83976466] [  1.17957188e-03  -8.83590267e-02   5.31288401e+00]\n",
      "This is the average radius of curvature of the anes 615.990161706\n"
     ]
    },
    {
     "name": "stderr",
     "output_type": "stream",
     "text": [
      "\r",
      " 37%|███▋      | 46/126 [00:30<00:59,  1.34it/s]"
     ]
    },
    {
     "name": "stdout",
     "output_type": "stream",
     "text": [
      "953.428524825\n",
      "0.0 [  3.35670334e-04  -6.08617194e-01   5.07271938e+02] [  2.28635629e-04  -5.93085766e-01   1.46013706e+03]\n",
      "0.0 [ 0.00286152 -0.10809041  1.87690617] [  1.94907301e-03  -1.05332032e-01   5.40250711e+00]\n",
      "This is the average radius of curvature of the anes 438.61662224\n"
     ]
    },
    {
     "name": "stderr",
     "output_type": "stream",
     "text": [
      "\r",
      " 37%|███▋      | 47/126 [00:31<00:59,  1.32it/s]"
     ]
    },
    {
     "name": "stdout",
     "output_type": "stream",
     "text": [
      "954.405946009\n",
      "0.0 [  3.44609336e-04  -6.24706051e-01   5.13814226e+02] [  2.55728242e-04  -6.22953416e-01   1.46821153e+03]\n",
      "0.0 [ 0.00293773 -0.11094779  1.90111264] [  2.18003212e-03  -1.10636527e-01   5.43238267e+00]\n",
      "This is the average radius of curvature of the anes 406.930307305\n"
     ]
    },
    {
     "name": "stderr",
     "output_type": "stream",
     "text": [
      "\r",
      " 38%|███▊      | 48/126 [00:31<00:57,  1.35it/s]"
     ]
    },
    {
     "name": "stdout",
     "output_type": "stream",
     "text": [
      "1010.69532698\n",
      "0.0 [  3.13837463e-04  -6.01923144e-01   5.11083390e+02] [  4.28676215e-04  -8.16994479e-01   1.52177872e+03]\n",
      "0.0 [ 0.0026754  -0.10690155  1.89100854] [  3.65437900e-03  -1.45098220e-01   5.63058125e+00]\n",
      "This is the average radius of curvature of the anes 331.266272161\n"
     ]
    },
    {
     "name": "stderr",
     "output_type": "stream",
     "text": [
      "\r",
      " 39%|███▉      | 49/126 [00:32<00:57,  1.33it/s]"
     ]
    },
    {
     "name": "stdout",
     "output_type": "stream",
     "text": [
      "969.538810046\n",
      "0.0 [  3.11652901e-04  -6.10185375e-01   5.18192808e+02] [  3.21865223e-04  -6.96274050e-01   1.48773162e+03]\n",
      "0.0 [ 0.00265678 -0.10836892  1.91731339] [  2.74383666e-03  -1.23658271e-01   5.50460699e+00]\n",
      "This is the average radius of curvature of the anes 377.945066163\n"
     ]
    },
    {
     "name": "stderr",
     "output_type": "stream",
     "text": [
      "\r",
      " 40%|███▉      | 50/126 [00:33<00:55,  1.36it/s]"
     ]
    },
    {
     "name": "stdout",
     "output_type": "stream",
     "text": [
      "983.305103075\n",
      "0.0 [  2.97468540e-04  -5.99948813e-01   5.18152226e+02] [  3.40836907e-04  -7.32390769e-01   1.50145733e+03]\n",
      "0.0 [ 0.00253586 -0.10655091  1.91716324] [  2.90556647e-03  -1.30072601e-01   5.55539212e+00]\n",
      "This is the average radius of curvature of the anes 377.00815466\n"
     ]
    },
    {
     "name": "stderr",
     "output_type": "stream",
     "text": [
      "\r",
      " 40%|████      | 51/126 [00:34<00:54,  1.39it/s]"
     ]
    },
    {
     "name": "stdout",
     "output_type": "stream",
     "text": [
      "1009.03137126\n",
      "0.0 [  2.72250325e-04  -5.75124041e-01   5.13545206e+02] [  3.47095403e-04  -7.72137351e-01   1.52257658e+03]\n",
      "0.0 [ 0.00232088 -0.10214203  1.90011726] [  2.95891889e-03  -1.37131593e-01   5.63353334e+00]\n",
      "This is the average radius of curvature of the anes 392.585316074\n"
     ]
    },
    {
     "name": "stderr",
     "output_type": "stream",
     "text": [
      "\r",
      " 41%|████▏     | 52/126 [00:34<00:53,  1.38it/s]"
     ]
    },
    {
     "name": "stdout",
     "output_type": "stream",
     "text": [
      "1040.6387389\n",
      "0.0 [  2.86683412e-04  -5.89575509e-01   5.19991466e+02] [  4.50857103e-04  -8.97060788e-01   1.56063020e+03]\n",
      "0.0 [ 0.00244392 -0.10470861  1.92396842] [  3.84346663e-03  -1.59317996e-01   5.77433176e+00]\n",
      "This is the average radius of curvature of the anes 343.038487172\n"
     ]
    },
    {
     "name": "stderr",
     "output_type": "stream",
     "text": [
      "\r",
      " 42%|████▏     | 53/126 [00:35<00:52,  1.39it/s]"
     ]
    },
    {
     "name": "stdout",
     "output_type": "stream",
     "text": [
      "1094.92598393\n",
      "0.0 [  2.66009256e-04  -5.64514198e-01   5.13666100e+02] [  5.47309167e-04  -1.02858421e+00   1.60859208e+03]\n",
      "0.0 [ 0.00226768 -0.10025772  1.90056457] [  4.66570119e-03  -1.82676556e-01   5.95179071e+00]\n",
      "This is the average radius of curvature of the anes 336.396638168\n"
     ]
    },
    {
     "name": "stderr",
     "output_type": "stream",
     "text": [
      "\r",
      " 43%|████▎     | 54/126 [00:36<00:51,  1.40it/s]"
     ]
    },
    {
     "name": "stdout",
     "output_type": "stream",
     "text": [
      "1026.97633314\n",
      "0.0 [  2.66484120e-04  -5.60492727e-01   5.13056290e+02] [  3.36329205e-04  -7.83539828e-01   1.54003262e+03]\n",
      "0.0 [ 0.00227172 -0.09954351  1.89830827] [  2.86713921e-03  -1.39156673e-01   5.69812071e+00]\n",
      "This is the average radius of curvature of the anes 402.856433681\n"
     ]
    },
    {
     "name": "stderr",
     "output_type": "stream",
     "text": [
      "\r",
      " 44%|████▎     | 55/126 [00:36<00:51,  1.38it/s]"
     ]
    },
    {
     "name": "stdout",
     "output_type": "stream",
     "text": [
      "937.734445135\n",
      "0.0 [  2.73890551e-04  -5.62483039e-01   5.13547151e+02] [ -2.81459669e-05  -3.47573072e-01   1.41305255e+03]\n",
      "0.0 [ 0.00233486 -0.09989699  1.90012446] [ -2.39938738e-04  -6.17289776e-02   5.22829443e+00]\n",
      "This is the average radius of curvature of the anes 2313.14629422\n"
     ]
    },
    {
     "name": "stderr",
     "output_type": "stream",
     "text": [
      "\r",
      " 44%|████▍     | 56/126 [00:37<00:51,  1.36it/s]"
     ]
    },
    {
     "name": "stdout",
     "output_type": "stream",
     "text": [
      "943.590695535\n",
      "0.0 [  2.62306867e-04  -5.47459143e-01   5.09953469e+02] [  6.01345664e-06  -3.85519093e-01   1.42796354e+03]\n",
      "0.0 [ 0.00223611 -0.09722874  1.88682784] [  5.12635152e-05  -6.84681909e-02   5.28346511e+00]\n",
      "This is the average radius of curvature of the anes 10048.9714281\n"
     ]
    },
    {
     "name": "stderr",
     "output_type": "stream",
     "text": [
      "\r",
      " 45%|████▌     | 57/126 [00:38<00:50,  1.37it/s]"
     ]
    },
    {
     "name": "stdout",
     "output_type": "stream",
     "text": [
      "941.811394653\n",
      "0.0 [  3.05565088e-04  -5.79929785e-01   5.16364534e+02] [ -6.36720612e-05  -2.95071786e-01   1.40323560e+03]\n",
      "0.0 [ 0.00260488 -0.10299553  1.91054877] [ -5.42791588e-04  -5.24047493e-02   5.19197172e+00]\n",
      "This is the average radius of curvature of the anes 1119.97080867\n"
     ]
    },
    {
     "name": "stderr",
     "output_type": "stream",
     "text": [
      "\r",
      " 46%|████▌     | 58/126 [00:39<00:50,  1.34it/s]"
     ]
    },
    {
     "name": "stdout",
     "output_type": "stream",
     "text": [
      "944.41370666\n",
      "0.0 [  3.16713926e-04  -5.85565288e-01   5.17319929e+02] [ -7.16103658e-05  -2.80970099e-01   1.40200379e+03]\n",
      "0.0 [ 0.00269992 -0.1039964   1.91408374] [ -6.10464047e-04  -4.99002896e-02   5.18741401e+00]\n",
      "This is the average radius of curvature of the anes 1010.31305963\n"
     ]
    },
    {
     "name": "stderr",
     "output_type": "stream",
     "text": [
      "\r",
      " 47%|████▋     | 59/126 [00:39<00:49,  1.36it/s]"
     ]
    },
    {
     "name": "stdout",
     "output_type": "stream",
     "text": [
      "944.764318985\n",
      "0.0 [  3.45577127e-04  -6.08004038e-01   5.22285321e+02] [ -5.64183410e-05  -2.86756003e-01   1.40286970e+03]\n",
      "0.0 [ 0.00294598 -0.10798152  1.93245569] [ -4.80955073e-04  -5.09278661e-02   5.19061789e+00]\n",
      "This is the average radius of curvature of the anes 1216.3454294\n"
     ]
    },
    {
     "name": "stderr",
     "output_type": "stream",
     "text": [
      "\r",
      " 48%|████▊     | 60/126 [00:40<00:48,  1.37it/s]"
     ]
    },
    {
     "name": "stdout",
     "output_type": "stream",
     "text": [
      "942.836475157\n",
      "0.0 [  3.89367079e-04  -6.48110772e-01   5.34162600e+02] [  2.64385145e-05  -3.71282722e-01   1.42421066e+03]\n",
      "0.0 [ 0.00331928 -0.11510447  1.97640162] [  2.25383049e-04  -6.59398114e-02   5.26957945e+00]\n",
      "This is the average radius of curvature of the anes 2386.56885659\n"
     ]
    },
    {
     "name": "stderr",
     "output_type": "stream",
     "text": [
      "\r",
      " 48%|████▊     | 61/126 [00:41<00:47,  1.36it/s]"
     ]
    },
    {
     "name": "stdout",
     "output_type": "stream",
     "text": [
      "966.09836203\n",
      "0.0 [  3.86549082e-04  -6.44884707e-01   5.34454800e+02] [  2.77070774e-04  -6.47512080e-01   1.50055316e+03]\n",
      "0.0 [ 0.00329525 -0.11453152  1.97748276] [  2.36197293e-03  -1.14998145e-01   5.55204670e+00]\n",
      "This is the average radius of curvature of the anes 370.629201589\n"
     ]
    },
    {
     "name": "stderr",
     "output_type": "stream",
     "text": [
      "\r",
      " 49%|████▉     | 62/126 [00:42<00:46,  1.38it/s]"
     ]
    },
    {
     "name": "stdout",
     "output_type": "stream",
     "text": [
      "939.553740974\n",
      "0.0 [  4.07978990e-04  -6.63967829e-01   5.39699302e+02] [  5.27616641e-05  -3.84619770e-01   1.42433222e+03]\n",
      "0.0 [ 0.00347794 -0.11792069  1.99688742] [  4.49782634e-04  -6.83084711e-02   5.27002920e+00]\n",
      "This is the average radius of curvature of the anes 1266.20994612\n"
     ]
    },
    {
     "name": "stderr",
     "output_type": "stream",
     "text": [
      "\r",
      " 50%|█████     | 63/126 [00:42<00:46,  1.37it/s]"
     ]
    },
    {
     "name": "stdout",
     "output_type": "stream",
     "text": [
      "938.467381762\n",
      "0.0 [  4.43228494e-04  -6.96779988e-01   5.47874138e+02] [  6.72588586e-05  -3.96257465e-01   1.42628765e+03]\n",
      "0.0 [ 0.00377843 -0.12374813  2.02713431] [  5.73368317e-04  -7.03753258e-02   5.27726431e+00]\n",
      "This is the average radius of curvature of the anes 1013.90746139\n"
     ]
    },
    {
     "name": "stderr",
     "output_type": "stream",
     "text": [
      "\r",
      " 51%|█████     | 64/126 [00:43<00:45,  1.38it/s]"
     ]
    },
    {
     "name": "stdout",
     "output_type": "stream",
     "text": [
      "954.570993014\n",
      "0.0 [  4.01590670e-04  -6.57130457e-01   5.39277755e+02] [  2.53969278e-04  -6.13559126e-01   1.49063369e+03]\n",
      "0.0 [ 0.00342348 -0.11670637  1.99532769] [  2.16503730e-03  -1.08968101e-01   5.51534465e+00]\n",
      "This is the average radius of curvature of the anes 384.112667803\n"
     ]
    },
    {
     "name": "stderr",
     "output_type": "stream",
     "text": [
      "\r",
      " 52%|█████▏    | 65/126 [00:44<00:43,  1.39it/s]"
     ]
    },
    {
     "name": "stdout",
     "output_type": "stream",
     "text": [
      "942.009592913\n",
      "0.0 [  4.24741177e-04  -6.79600288e-01   5.44921373e+02] [  3.72971166e-05  -3.81229009e-01   1.42948692e+03]\n",
      "0.0 [ 0.00362083 -0.12069701  2.01620908] [  3.17950460e-04  -6.77062720e-02   5.28910160e+00]\n",
      "This is the average radius of curvature of the anes 1724.51594797\n"
     ]
    },
    {
     "name": "stderr",
     "output_type": "stream",
     "text": [
      "\r",
      " 52%|█████▏    | 66/126 [00:45<00:44,  1.36it/s]"
     ]
    },
    {
     "name": "stdout",
     "output_type": "stream",
     "text": [
      "936.097159707\n",
      "0.0 [  4.20545836e-04  -6.77989367e-01   5.45822265e+02] [ -1.88941150e-04  -1.16376825e-01   1.35254483e+03]\n",
      "0.0 [ 0.00358507 -0.12041091  2.01954238] [ -1.61068552e-03  -2.06685241e-02   5.00441586e+00]\n",
      "This is the average radius of curvature of the anes 453.137220774\n"
     ]
    },
    {
     "name": "stderr",
     "output_type": "stream",
     "text": [
      "\r",
      " 53%|█████▎    | 67/126 [00:45<00:42,  1.38it/s]"
     ]
    },
    {
     "name": "stdout",
     "output_type": "stream",
     "text": [
      "933.520913774\n",
      "0.0 [  4.62492086e-04  -7.20003364e-01   5.56643004e+02] [ -2.39803349e-04  -4.93522400e-02   1.33005591e+03]\n",
      "0.0 [ 0.00394265 -0.1278726   2.05957911] [ -2.04427559e-03  -8.76495782e-03   4.92120687e+00]\n",
      "This is the average radius of curvature of the anes 374.554941835\n"
     ]
    },
    {
     "name": "stderr",
     "output_type": "stream",
     "text": [
      "\r",
      " 54%|█████▍    | 68/126 [00:46<00:41,  1.40it/s]"
     ]
    },
    {
     "name": "stdout",
     "output_type": "stream",
     "text": [
      "929.48493666\n",
      "0.0 [  5.03263057e-04  -7.61413402e-01   5.68190512e+02] [ -1.22682717e-04  -1.67382245e-01   1.35673966e+03]\n",
      "0.0 [ 0.00429022 -0.13522702  2.1023049 ] [ -1.04584562e-03  -2.97270868e-02   5.01993676e+00]\n",
      "This is the average radius of curvature of the anes 598.471438187\n"
     ]
    },
    {
     "name": "stderr",
     "output_type": "stream",
     "text": [
      "\r",
      " 55%|█████▍    | 69/126 [00:47<00:41,  1.38it/s]"
     ]
    },
    {
     "name": "stdout",
     "output_type": "stream",
     "text": [
      "928.920226241\n",
      "0.0 [  4.57131792e-04  -7.20641206e-01   5.60817246e+02] [  3.48159323e-05  -3.45289959e-01   1.40633518e+03]\n",
      "0.0 [ 0.00389696 -0.12798588  2.07502381] [  2.96798859e-04  -6.13234966e-02   5.20344016e+00]\n",
      "This is the average radius of curvature of the anes 1825.62499414\n"
     ]
    },
    {
     "name": "stderr",
     "output_type": "stream",
     "text": [
      "\r",
      " 56%|█████▌    | 70/126 [00:47<00:39,  1.41it/s]"
     ]
    },
    {
     "name": "stdout",
     "output_type": "stream",
     "text": [
      "926.854469867\n",
      "0.0 [  5.01164441e-04  -7.64402405e-01   5.72117877e+02] [  5.04131336e-05  -3.58702695e-01   1.40768462e+03]\n",
      "0.0 [ 0.00427233 -0.13575787  2.11683615] [  4.29761881e-04  -6.37055987e-02   5.20843308e+00]\n",
      "This is the average radius of curvature of the anes 1290.80718489\n"
     ]
    },
    {
     "name": "stderr",
     "output_type": "stream",
     "text": [
      "\r",
      " 56%|█████▋    | 71/126 [00:48<00:38,  1.43it/s]"
     ]
    },
    {
     "name": "stdout",
     "output_type": "stream",
     "text": [
      "922.623579041\n",
      "0.0 [  5.44337107e-04  -8.10129495e-01   5.85017954e+02] [ -2.61986249e-06  -2.94465249e-01   1.38610115e+03]\n",
      "0.0 [ 0.00464036 -0.143879    2.16456643] [ -2.23338038e-05  -5.22970282e-02   5.12857427e+00]\n",
      "This is the average radius of curvature of the anes 22590.6084903\n"
     ]
    },
    {
     "name": "stderr",
     "output_type": "stream",
     "text": [
      "\r",
      " 57%|█████▋    | 72/126 [00:49<00:38,  1.42it/s]"
     ]
    },
    {
     "name": "stdout",
     "output_type": "stream",
     "text": [
      "921.023451783\n",
      "0.0 [  4.92598326e-04  -7.62936675e-01   5.75747521e+02] [  7.34144319e-05  -3.68007240e-01   1.40375138e+03]\n",
      "0.0 [ 0.0041993  -0.13549755  2.13026583] [  6.25843349e-04  -6.53580859e-02   5.19388012e+00]\n",
      "This is the average radius of curvature of the anes 926.407986668\n"
     ]
    },
    {
     "name": "stderr",
     "output_type": "stream",
     "text": [
      "\r",
      " 58%|█████▊    | 73/126 [00:49<00:37,  1.41it/s]"
     ]
    },
    {
     "name": "stdout",
     "output_type": "stream",
     "text": [
      "922.581472596\n",
      "0.0 [  4.24960867e-04  -6.97540642e-01   5.61347901e+02] [  8.42256746e-05  -4.01240262e-01   1.41951433e+03]\n",
      "0.0 [ 0.00362271 -0.12388322  2.07698724] [  7.18007031e-04  -7.12602705e-02   5.25220300e+00]\n",
      "This is the average radius of curvature of the anes 842.890814928\n"
     ]
    },
    {
     "name": "stderr",
     "output_type": "stream",
     "text": [
      "\r",
      " 59%|█████▊    | 74/126 [00:50<00:37,  1.38it/s]"
     ]
    },
    {
     "name": "stdout",
     "output_type": "stream",
     "text": [
      "934.988423069\n",
      "0.0 [  3.97063124e-04  -6.72463325e-01   5.55602649e+02] [  4.41057378e-05  -4.00414345e-01   1.43816932e+03]\n",
      "0.0 [ 0.00338488 -0.11942949  2.0557298 ] [  3.75992594e-04  -7.11135877e-02   5.32122650e+00]\n",
      "This is the average radius of curvature of the anes 1490.80094824\n"
     ]
    },
    {
     "name": "stderr",
     "output_type": "stream",
     "text": [
      "\r",
      " 60%|█████▉    | 75/126 [00:51<00:37,  1.38it/s]"
     ]
    },
    {
     "name": "stdout",
     "output_type": "stream",
     "text": [
      "950.253273308\n",
      "0.0 [  3.48084090e-04  -6.13702101e-01   5.35438098e+02] [ -3.62060439e-05  -3.35554158e-01   1.43536073e+03]\n",
      "0.0 [ 0.00296735 -0.10899349  1.98112096] [ -3.08649283e-04  -5.95944184e-02   5.31083471e+00]\n",
      "This is the average radius of curvature of the anes 1800.11137414\n"
     ]
    },
    {
     "name": "stderr",
     "output_type": "stream",
     "text": [
      "\r",
      " 60%|██████    | 76/126 [00:52<00:36,  1.36it/s]"
     ]
    },
    {
     "name": "stdout",
     "output_type": "stream",
     "text": [
      "942.172717827\n",
      "0.0 [  3.23899081e-04  -5.88822967e-01   5.29297171e+02] [ -3.75911512e-04   7.74102571e-02   1.31290316e+03]\n",
      "0.0 [ 0.00276117 -0.10457496  1.95839953] [ -3.20457046e-03   1.37480617e-02   4.85774169e+00]\n",
      "This is the average radius of curvature of the anes 340.132285596\n"
     ]
    },
    {
     "name": "stderr",
     "output_type": "stream",
     "text": [
      "\r",
      " 61%|██████    | 77/126 [00:52<00:35,  1.38it/s]"
     ]
    },
    {
     "name": "stdout",
     "output_type": "stream",
     "text": [
      "945.666523683\n",
      "0.0 [  2.82924926e-04  -5.45741196e-01   5.18405820e+02] [ -2.94128958e-04  -8.31964672e-03   1.33894461e+03]\n",
      "0.0 [ 0.00241188 -0.09692364  1.91810153] [ -2.50739054e-03  -1.47756926e-03   4.95409507e+00]\n",
      "This is the average radius of curvature of the anes 409.646528798\n"
     ]
    },
    {
     "name": "stderr",
     "output_type": "stream",
     "text": [
      "\r",
      " 62%|██████▏   | 78/126 [00:53<00:34,  1.39it/s]"
     ]
    },
    {
     "name": "stdout",
     "output_type": "stream",
     "text": [
      "946.079580362\n",
      "0.0 [  2.85946177e-04  -5.46676747e-01   5.18151390e+02] [ -1.89241300e-04  -1.09028751e-01   1.36346256e+03]\n",
      "0.0 [ 0.00243763 -0.09708979  1.91716014] [ -1.61324423e-03  -1.93635061e-02   5.04481148e+00]\n",
      "This is the average radius of curvature of the anes 518.132837445\n"
     ]
    },
    {
     "name": "stderr",
     "output_type": "stream",
     "text": [
      "\r",
      " 63%|██████▎   | 79/126 [00:54<00:35,  1.34it/s]"
     ]
    },
    {
     "name": "stdout",
     "output_type": "stream",
     "text": [
      "942.63492725\n",
      "0.0 [  3.37977061e-04  -5.95943309e-01   5.29272280e+02] [ -2.22330352e-04  -3.74568596e-02   1.33273943e+03]\n",
      "0.0 [ 0.00288119 -0.10583953  1.95830743] [ -1.89532178e-03  -6.65233826e-03   4.93113591e+00]\n",
      "This is the average radius of curvature of the anes 440.288692371\n"
     ]
    },
    {
     "name": "stderr",
     "output_type": "stream",
     "text": [
      "\r",
      " 63%|██████▎   | 80/126 [00:55<00:33,  1.37it/s]"
     ]
    },
    {
     "name": "stdout",
     "output_type": "stream",
     "text": [
      "940.866926586\n",
      "0.0 [  3.99411734e-04  -6.53130182e-01   5.42647930e+02] [ -1.06426683e-04  -1.51523760e-01   1.35916242e+03]\n",
      "0.0 [ 0.00340491 -0.11599592  2.00779734] [ -9.07266190e-04  -2.69106197e-02   5.02890094e+00]\n",
      "This is the average radius of curvature of the anes 701.525601854\n"
     ]
    },
    {
     "name": "stderr",
     "output_type": "stream",
     "text": [
      "\r",
      " 64%|██████▍   | 81/126 [00:55<00:32,  1.40it/s]"
     ]
    },
    {
     "name": "stdout",
     "output_type": "stream",
     "text": [
      "933.773681302\n",
      "0.0 [  3.80682947e-04  -6.44157975e-01   5.48974103e+02] [ -2.34528178e-04   1.00506872e-02   1.30882829e+03]\n",
      "0.0 [ 0.00324525 -0.11440246  2.03120418] [ -1.99930581e-03   1.78500204e-03   4.84266467e+00]\n",
      "This is the average radius of curvature of the anes 407.19411428\n"
     ]
    },
    {
     "name": "stderr",
     "output_type": "stream",
     "text": [
      "\r",
      " 65%|██████▌   | 82/126 [00:56<00:30,  1.44it/s]"
     ]
    },
    {
     "name": "stdout",
     "output_type": "stream",
     "text": [
      "925.751959729\n",
      "0.0 [  3.88244070e-04  -6.69865954e-01   5.66822181e+02] [ -2.26098297e-04   2.34577004e-03   1.30869109e+03]\n",
      "0.0 [ 0.0033097  -0.11896819  2.09724207] [ -1.92744277e-03   4.16608759e-04   4.84215704e+00]\n",
      "This is the average radius of curvature of the anes 413.700677767\n"
     ]
    },
    {
     "name": "stderr",
     "output_type": "stream",
     "text": [
      "\r",
      " 66%|██████▌   | 83/126 [00:57<00:30,  1.43it/s]"
     ]
    },
    {
     "name": "stdout",
     "output_type": "stream",
     "text": [
      "921.676209601\n",
      "0.0 [  3.64962584e-04  -6.49100125e-01   5.65392654e+02] [  1.35204286e-05  -2.65261865e-01   1.38226370e+03]\n",
      "0.0 [ 0.00311123 -0.11528018  2.09195282] [  1.15258950e-04  -4.71105073e-02   5.11437570e+00]\n",
      "This is the average radius of curvature of the anes 4516.42996875\n"
     ]
    },
    {
     "name": "stderr",
     "output_type": "stream",
     "text": [
      "\r",
      " 67%|██████▋   | 84/126 [00:57<00:28,  1.47it/s]"
     ]
    },
    {
     "name": "stdout",
     "output_type": "stream",
     "text": [
      "920.867218908\n",
      "0.0 [  4.04966803e-04  -7.06505999e-01   5.89673995e+02] [  4.28979519e-04  -7.35744309e-01   1.51054121e+03]\n",
      "0.0 [ 0.00345226 -0.12547547  2.18179378] [  3.65696460e-03  -1.30668189e-01   5.58900249e+00]\n",
      "This is the average radius of curvature of the anes 288.508462799\n"
     ]
    },
    {
     "name": "stderr",
     "output_type": "stream",
     "text": [
      "\r",
      " 67%|██████▋   | 85/126 [00:58<00:28,  1.44it/s]"
     ]
    },
    {
     "name": "stdout",
     "output_type": "stream",
     "text": [
      "924.686415009\n",
      "0.0 [  3.66153465e-04  -6.71659114e-01   5.84887552e+02] [  3.98334295e-04  -7.19442426e-01   1.50957397e+03]\n",
      "0.0 [ 0.00312139 -0.11928666  2.16408394] [  3.39572020e-03  -1.27772975e-01   5.58542368e+00]\n",
      "This is the average radius of curvature of the anes 314.481116315\n"
     ]
    },
    {
     "name": "stderr",
     "output_type": "stream",
     "text": [
      "\r",
      " 68%|██████▊   | 86/126 [00:59<00:28,  1.41it/s]"
     ]
    },
    {
     "name": "stdout",
     "output_type": "stream",
     "text": [
      "941.439104754\n",
      "0.0 [  3.43737343e-04  -6.53808132e-01   5.83869324e+02] [  4.19866492e-04  -7.61659548e-01   1.52530843e+03]\n",
      "0.0 [ 0.00293029 -0.11611632  2.1603165 ] [  3.57927787e-03  -1.35270736e-01   5.64364119e+00]\n",
      "This is the average radius of curvature of the anes 317.638653499\n"
     ]
    },
    {
     "name": "stderr",
     "output_type": "stream",
     "text": [
      "\r",
      " 69%|██████▉   | 87/126 [00:59<00:27,  1.41it/s]"
     ]
    },
    {
     "name": "stdout",
     "output_type": "stream",
     "text": [
      "907.947787924\n",
      "0.0 [  3.40972773e-04  -6.53564460e-01   5.85835056e+02] [  1.44617828e-04  -4.89343728e-01   1.45944650e+03]\n",
      "0.0 [ 0.00290672 -0.11607305  2.16758971] [  1.23283806e-03  -8.69074462e-02   5.39995205e+00]\n",
      "This is the average radius of curvature of the anes 585.674683078\n"
     ]
    },
    {
     "name": "stderr",
     "output_type": "stream",
     "text": [
      "\r",
      " 70%|██████▉   | 88/126 [01:00<00:28,  1.34it/s]"
     ]
    },
    {
     "name": "stdout",
     "output_type": "stream",
     "text": [
      "1016.75700139\n",
      "0.0 [  3.46892128e-04  -6.58820470e-01   5.87179232e+02] [  5.23537525e-04  -9.53164275e-01   1.60393623e+03]\n",
      "0.0 [ 0.00295719 -0.11700652  2.17256316] [  4.46305269e-03  -1.69281975e-01   5.93456407e+00]\n",
      "This is the average radius of curvature of the anes 289.444580928\n"
     ]
    },
    {
     "name": "stderr",
     "output_type": "stream",
     "text": [
      "\r",
      " 71%|███████   | 89/126 [01:01<00:27,  1.35it/s]"
     ]
    },
    {
     "name": "stdout",
     "output_type": "stream",
     "text": [
      "1039.68094382\n",
      "0.0 [  3.57292991e-04  -6.71042821e-01   5.91075078e+02] [  5.87720041e-04  -1.03327100e+00   1.63075602e+03]\n",
      "0.0 [ 0.00304585 -0.1191772   2.18697779] [  5.01019580e-03  -1.83508930e-01   6.03379728e+00]\n",
      "This is the average radius of curvature of the anes 272.547210383\n"
     ]
    },
    {
     "name": "stderr",
     "output_type": "stream",
     "text": [
      "\r",
      " 71%|███████▏  | 90/126 [01:02<00:26,  1.34it/s]"
     ]
    },
    {
     "name": "stdout",
     "output_type": "stream",
     "text": [
      "1019.85985874\n",
      "0.0 [  3.58033901e-04  -6.73846884e-01   5.92780807e+02] [  5.24049656e-04  -9.65272039e-01   1.61264067e+03]\n",
      "0.0 [ 0.00305217 -0.11967521  2.19328899] [  4.46741850e-03  -1.71432314e-01   5.96677046e+00]\n",
      "This is the average radius of curvature of the anes 284.241355845\n"
     ]
    },
    {
     "name": "stderr",
     "output_type": "stream",
     "text": [
      "\r",
      " 72%|███████▏  | 91/126 [01:03<00:26,  1.33it/s]"
     ]
    },
    {
     "name": "stdout",
     "output_type": "stream",
     "text": [
      "970.213096295\n",
      "0.0 [  3.45228713e-04  -6.62546984e-01   5.90552896e+02] [  3.96688602e-04  -7.98287068e-01   1.56076599e+03]\n",
      "0.0 [ 0.00294301 -0.11766834  2.18504571] [  3.38169099e-03  -1.41775783e-01   5.77483417e+00]\n",
      "This is the average radius of curvature of the anes 325.77027635\n"
     ]
    },
    {
     "name": "stderr",
     "output_type": "stream",
     "text": [
      "\r",
      " 73%|███████▎  | 92/126 [01:03<00:25,  1.32it/s]"
     ]
    },
    {
     "name": "stdout",
     "output_type": "stream",
     "text": [
      "934.658083671\n",
      "0.0 [  3.43195426e-04  -6.62506710e-01   5.91407190e+02] [  3.13715177e-04  -6.89691362e-01   1.52606527e+03]\n",
      "0.0 [ 0.00292567 -0.11766119  2.1882066 ] [  2.67435914e-03  -1.22489186e-01   5.64644151e+00]\n",
      "This is the average radius of curvature of the anes 365.646155544\n"
     ]
    },
    {
     "name": "stderr",
     "output_type": "stream",
     "text": [
      "\r",
      " 74%|███████▍  | 93/126 [01:04<00:24,  1.34it/s]"
     ]
    },
    {
     "name": "stdout",
     "output_type": "stream",
     "text": [
      "923.488237418\n",
      "0.0 [  3.23531508e-04  -6.45725443e-01   5.88413265e+02] [  2.21150979e-04  -5.94960184e-01   1.50560853e+03]\n",
      "0.0 [ 0.00275804 -0.11468084  2.17712908] [  1.88526787e-03  -1.05664929e-01   5.57075156e+00]\n",
      "This is the average radius of curvature of the anes 454.544553602\n"
     ]
    },
    {
     "name": "stderr",
     "output_type": "stream",
     "text": [
      "\r",
      " 75%|███████▍  | 94/126 [01:05<00:23,  1.36it/s]"
     ]
    },
    {
     "name": "stdout",
     "output_type": "stream",
     "text": [
      "922.429763869\n",
      "0.0 [  3.07467829e-04  -6.31356615e-01   5.85671858e+02] [  1.38761941e-04  -5.04179201e-01   1.48413374e+03]\n",
      "0.0 [ 0.0026211  -0.11212893  2.16698587] [  1.18291779e-03  -8.95422261e-02   5.49129482e+00]\n",
      "This is the average radius of curvature of the anes 622.145674547\n"
     ]
    },
    {
     "name": "stderr",
     "output_type": "stream",
     "text": [
      "\r",
      " 75%|███████▌  | 95/126 [01:06<00:23,  1.33it/s]"
     ]
    },
    {
     "name": "stdout",
     "output_type": "stream",
     "text": [
      "919.506188064\n",
      "0.0 [  3.28315050e-04  -6.49870107e-01   5.89854898e+02] [ -1.08469838e-04  -2.24212317e-01   1.40565758e+03]\n",
      "0.0 [ 0.00279882 -0.11541693  2.18246312] [ -9.24683676e-04  -3.98201074e-02   5.20093303e+00]\n",
      "This is the average radius of curvature of the anes 724.240273269\n"
     ]
    },
    {
     "name": "stderr",
     "output_type": "stream",
     "text": [
      "\r",
      " 76%|███████▌  | 96/126 [01:06<00:22,  1.35it/s]"
     ]
    },
    {
     "name": "stdout",
     "output_type": "stream",
     "text": [
      "923.596697113\n",
      "0.0 [  3.22813429e-04  -6.43944200e-01   5.88777353e+02] [ -2.25678924e-04  -1.17856232e-01   1.38622446e+03]\n",
      "0.0 [ 0.00275192 -0.11436449  2.17847621] [ -1.92386769e-03  -2.09312668e-02   5.12903052e+00]\n",
      "This is the average radius of curvature of the anes 445.331486058\n"
     ]
    },
    {
     "name": "stderr",
     "output_type": "stream",
     "text": [
      "\r",
      " 77%|███████▋  | 97/126 [01:07<00:21,  1.34it/s]"
     ]
    },
    {
     "name": "stdout",
     "output_type": "stream",
     "text": [
      "928.785412107\n",
      "0.0 [  3.44020452e-04  -6.62124452e-01   5.93418186e+02] [ -8.46930055e-06  -3.80775872e-01   1.46606224e+03]\n",
      "0.0 [ 0.00293271 -0.1175933   2.19564729] [ -7.21990934e-05  -6.76257949e-02   5.42443027e+00]\n",
      "This is the average radius of curvature of the anes 7146.89523373\n"
     ]
    },
    {
     "name": "stderr",
     "output_type": "stream",
     "text": [
      "\r",
      " 78%|███████▊  | 98/126 [01:08<00:21,  1.33it/s]"
     ]
    },
    {
     "name": "stdout",
     "output_type": "stream",
     "text": [
      "916.907331224\n",
      "0.0 [  3.60371492e-04  -6.79082207e-01   6.00811097e+02] [ -2.67475764e-04  -4.97717482e-02   1.36002418e+03]\n",
      "0.0 [ 0.00307209 -0.120605    2.22300106] [ -2.28017739e-03  -8.83946248e-03   5.03208946e+00]\n",
      "This is the average radius of curvature of the anes 385.626211069\n"
     ]
    },
    {
     "name": "stderr",
     "output_type": "stream",
     "text": [
      "\r",
      " 79%|███████▊  | 99/126 [01:08<00:19,  1.36it/s]"
     ]
    },
    {
     "name": "stdout",
     "output_type": "stream",
     "text": [
      "913.192930796\n",
      "0.0 [  3.52526841e-04  -6.75586262e-01   6.03142993e+02] [ -2.56229941e-04  -4.21523429e-02   1.35155812e+03]\n",
      "0.0 [ 0.00300522 -0.11998412  2.23162907] [ -2.18430900e-03  -7.48625609e-03   5.00076504e+00]\n",
      "This is the average radius of curvature of the anes 398.907406199\n"
     ]
    },
    {
     "name": "stderr",
     "output_type": "stream",
     "text": [
      "\r",
      " 79%|███████▉  | 100/126 [01:09<00:19,  1.36it/s]"
     ]
    },
    {
     "name": "stdout",
     "output_type": "stream",
     "text": [
      "908.023728245\n",
      "0.0 [  3.34112309e-04  -6.60997125e-01   6.04026953e+02] [ -5.78803139e-05  -2.59243829e-01   1.40911151e+03]\n",
      "0.0 [ 0.00284824 -0.11739309  2.23489973] [ -4.93418100e-04  -4.60417040e-02   5.21371258e+00]\n",
      "This is the average radius of curvature of the anes 1195.75157437\n"
     ]
    },
    {
     "name": "stderr",
     "output_type": "stream",
     "text": [
      "\r",
      " 80%|████████  | 101/126 [01:10<00:18,  1.34it/s]"
     ]
    },
    {
     "name": "stdout",
     "output_type": "stream",
     "text": [
      "936.214973484\n",
      "0.0 [  3.36669473e-04  -6.61450622e-01   6.03910512e+02] [  2.92519400e-04  -6.84679659e-01   1.54012549e+03]\n",
      "0.0 [ 0.00287004 -0.11747363  2.23446889] [  2.49366938e-03  -1.21599107e-01   5.69846430e+00]\n",
      "This is the average radius of curvature of the anes 382.803551354\n"
     ]
    },
    {
     "name": "stderr",
     "output_type": "stream",
     "text": [
      "\r",
      " 81%|████████  | 102/126 [01:11<00:18,  1.32it/s]"
     ]
    },
    {
     "name": "stdout",
     "output_type": "stream",
     "text": [
      "988.211966183\n",
      "0.0 [  3.16392794e-04  -6.43183236e-01   6.00287599e+02] [  3.98327509e-04  -8.21580335e-01   1.58849957e+03]\n",
      "0.0 [ 0.00269719 -0.11422934  2.22106412] [  3.39566235e-03  -1.45912668e-01   5.87744839e+00]\n",
      "This is the average radius of curvature of the anes 340.992625649\n"
     ]
    },
    {
     "name": "stderr",
     "output_type": "stream",
     "text": [
      "\r",
      " 82%|████████▏ | 103/126 [01:11<00:17,  1.34it/s]"
     ]
    },
    {
     "name": "stdout",
     "output_type": "stream",
     "text": [
      "912.95378988\n",
      "0.0 [  2.73591136e-04  -6.03135940e-01   5.91715909e+02] [ -1.25644403e-04  -1.42608500e-01   1.37186245e+03]\n",
      "0.0 [ 0.00233231 -0.10711694  2.18934886] [ -1.07109341e-03  -2.53272695e-02   5.07589108e+00]\n",
      "This is the average radius of curvature of the anes 685.341964937\n"
     ]
    },
    {
     "name": "stderr",
     "output_type": "stream",
     "text": [
      "\r",
      " 83%|████████▎ | 104/126 [01:12<00:16,  1.32it/s]"
     ]
    },
    {
     "name": "stdout",
     "output_type": "stream",
     "text": [
      "916.117550438\n",
      "0.0 [  2.27050191e-04  -5.47814715e-01   5.74633908e+02] [ -1.35807953e-04  -1.31677581e-01   1.37144173e+03]\n",
      "0.0 [  1.93555747e-03  -9.72918934e-02   2.12614546e+00] [ -1.15773564e-03  -2.33859384e-02   5.07433441e+00]\n",
      "This is the average radius of curvature of the anes 694.231864594\n"
     ]
    },
    {
     "name": "stderr",
     "output_type": "stream",
     "text": [
      "\r",
      " 83%|████████▎ | 105/126 [01:13<00:15,  1.34it/s]"
     ]
    },
    {
     "name": "stdout",
     "output_type": "stream",
     "text": [
      "915.767185925\n",
      "0.0 [  1.82098866e-04  -4.95151325e-01   5.59234929e+02] [ -5.39771920e-05  -2.15204402e-01   1.39200950e+03]\n",
      "0.0 [  1.55235642e-03  -8.79388754e-02   2.06916924e+00] [ -4.60144766e-04  -3.82203018e-02   5.15043515e+00]\n",
      "This is the average radius of curvature of the anes 1414.83080727\n"
     ]
    },
    {
     "name": "stderr",
     "output_type": "stream",
     "text": [
      "\r",
      " 84%|████████▍ | 106/126 [01:14<00:14,  1.34it/s]"
     ]
    },
    {
     "name": "stdout",
     "output_type": "stream",
     "text": [
      "914.319465762\n",
      "0.0 [  1.63326630e-04  -4.74347418e-01   5.53756794e+02] [ -3.67500156e-04   1.40951511e-01   1.28977301e+03]\n",
      "0.0 [  1.39232685e-03  -8.42441015e-02   2.04890014e+00] [ -3.13286533e-03   2.50329884e-02   4.77216014e+00]\n",
      "This is the average radius of curvature of the anes 522.68915691\n"
     ]
    },
    {
     "name": "stderr",
     "output_type": "stream",
     "text": [
      "\r",
      " 85%|████████▍ | 107/126 [01:14<00:13,  1.37it/s]"
     ]
    },
    {
     "name": "stdout",
     "output_type": "stream",
     "text": [
      "913.564982539\n",
      "0.0 [  1.40602585e-04  -4.49162902e-01   5.47181666e+02] [ -2.42853998e-04  -1.34937792e-02   1.33699888e+03]\n",
      "0.0 [  1.19860892e-03  -7.97713314e-02   2.02457216e+00] [ -2.07028176e-03  -2.39649518e-03   4.94689587e+00]\n",
      "This is the average radius of curvature of the anes 662.653452779\n"
     ]
    },
    {
     "name": "stderr",
     "output_type": "stream",
     "text": [
      "\r",
      " 86%|████████▌ | 108/126 [01:15<00:13,  1.37it/s]"
     ]
    },
    {
     "name": "stdout",
     "output_type": "stream",
     "text": [
      "911.479804729\n",
      "0.0 [  1.44420291e-04  -4.47227683e-01   5.45787690e+02] [ -2.14388674e-04  -3.98737569e-02   1.34165085e+03]\n",
      "0.0 [  1.23115410e-03  -7.94276365e-02   2.01941445e+00] [ -1.82762057e-03  -7.08157922e-03   4.96410814e+00]\n",
      "This is the average radius of curvature of the anes 683.572593127\n"
     ]
    },
    {
     "name": "stderr",
     "output_type": "stream",
     "text": [
      "\r",
      " 87%|████████▋ | 109/126 [01:16<00:12,  1.39it/s]"
     ]
    },
    {
     "name": "stdout",
     "output_type": "stream",
     "text": [
      "914.160945726\n",
      "0.0 [  1.23737170e-04  -4.23283089e-01   5.39929798e+02] [  7.21821255e-05  -3.94958231e-01   1.45020026e+03]\n",
      "0.0 [  1.05483463e-03  -7.51750766e-02   1.99774025e+00] [  6.15338183e-04  -7.01445818e-02   5.36574095e+00]\n",
      "This is the average radius of curvature of the anes 1296.59745918\n"
     ]
    },
    {
     "name": "stderr",
     "output_type": "stream",
     "text": [
      "\r",
      " 87%|████████▋ | 110/126 [01:17<00:11,  1.37it/s]"
     ]
    },
    {
     "name": "stdout",
     "output_type": "stream",
     "text": [
      "910.164370816\n",
      "0.0 [  1.05590621e-04  -4.01440857e-01   5.34230011e+02] [ -1.21537510e-04  -1.70705135e-01   1.38579423e+03]\n",
      "0.0 [  9.00138923e-04  -7.12958962e-02   1.97665104e+00] [ -1.03608296e-03  -3.03172320e-02   5.12743865e+00]\n",
      "This is the average radius of curvature of the anes 1042.9627922\n"
     ]
    },
    {
     "name": "stderr",
     "output_type": "stream",
     "text": [
      "\r",
      " 88%|████████▊ | 111/126 [01:17<00:10,  1.38it/s]"
     ]
    },
    {
     "name": "stdout",
     "output_type": "stream",
     "text": [
      "913.0594208\n",
      "0.0 [  8.68262292e-05  -3.79045041e-01   5.28350036e+02] [  2.21550140e-05  -3.36250642e-01   1.43432995e+03]\n",
      "0.0 [  7.40176238e-04  -6.73183994e-02   1.95489513e+00] [  1.88867063e-04  -5.97181141e-02   5.30702083e+00]\n",
      "This is the average radius of curvature of the anes 3341.65100678\n"
     ]
    },
    {
     "name": "stderr",
     "output_type": "stream",
     "text": [
      "\r",
      " 89%|████████▉ | 112/126 [01:18<00:10,  1.34it/s]"
     ]
    },
    {
     "name": "stdout",
     "output_type": "stream",
     "text": [
      "1016.89293545\n",
      "0.0 [  5.84764469e-05  -3.40689584e-01   5.15572584e+02] [  2.64309815e-04  -6.39992751e-01   1.53246552e+03]\n",
      "0.0 [  4.98500014e-04  -6.05064702e-02   1.90761856e+00] [  2.25318831e-03  -1.13662713e-01   5.67012242e+00]\n",
      "This is the average radius of curvature of the anes 1234.74405263\n"
     ]
    },
    {
     "name": "stderr",
     "output_type": "stream",
     "text": [
      "\r",
      " 90%|████████▉ | 113/126 [01:19<00:09,  1.35it/s]"
     ]
    },
    {
     "name": "stdout",
     "output_type": "stream",
     "text": [
      "1110.77268751\n",
      "0.0 [  5.43768264e-05  -3.24757995e-01   5.07498086e+02] [  4.72804631e-04  -9.03309204e-01   1.61827077e+03]\n",
      "0.0 [  4.63551570e-04  -5.76770199e-02   1.87774292e+00] [  4.03056492e-03  -1.60427715e-01   5.98760186e+00]\n",
      "This is the average radius of curvature of the anes 1212.88730285\n"
     ]
    },
    {
     "name": "stderr",
     "output_type": "stream",
     "text": [
      "\r",
      " 90%|█████████ | 114/126 [01:20<00:08,  1.33it/s]"
     ]
    },
    {
     "name": "stdout",
     "output_type": "stream",
     "text": [
      "1094.87556899\n",
      "0.0 [  5.59059004e-05  -3.20948206e-01   5.05187062e+02] [  4.04075254e-04  -8.30637902e-01   1.60006263e+03]\n",
      "0.0 [  4.76586619e-04  -5.70004013e-02   1.86919213e+00] [  3.44466073e-03  -1.47521291e-01   5.92023174e+00]\n",
      "This is the average radius of curvature of the anes 1204.16055553\n"
     ]
    },
    {
     "name": "stderr",
     "output_type": "stream",
     "text": [
      "\r",
      " 91%|█████████▏| 115/126 [01:20<00:08,  1.35it/s]"
     ]
    },
    {
     "name": "stdout",
     "output_type": "stream",
     "text": [
      "917.706838803\n",
      "0.0 [  4.38321349e-05  -3.01427231e-01   4.98137223e+02] [ -4.73921192e-04   2.95978948e-01   1.24351579e+03]\n",
      "0.0 [  3.73660183e-04  -5.35334762e-02   1.84310772e+00] [ -4.04008338e-03   5.25658612e-02   4.60100844e+00]\n",
      "This is the average radius of curvature of the anes 1468.14367462\n"
     ]
    },
    {
     "name": "stderr",
     "output_type": "stream",
     "text": [
      "\r",
      " 92%|█████████▏| 116/126 [01:21<00:07,  1.36it/s]"
     ]
    },
    {
     "name": "stdout",
     "output_type": "stream",
     "text": [
      "917.199167507\n",
      "0.0 [  2.21795176e-05  -2.76789526e-01   4.91579379e+02] [ -5.42672666e-04   3.99691705e-01   1.20623582e+03]\n",
      "0.0 [  1.89075952e-04  -4.91578198e-02   1.81884370e+00] [-0.00462618  0.07098525  4.46307253]\n",
      "This is the average radius of curvature of the anes 2762.92970593\n"
     ]
    },
    {
     "name": "stderr",
     "output_type": "stream",
     "text": [
      "\r",
      " 93%|█████████▎| 117/126 [01:22<00:06,  1.37it/s]"
     ]
    },
    {
     "name": "stdout",
     "output_type": "stream",
     "text": [
      "918.572430791\n",
      "0.0 [  1.01515023e-06  -2.52820990e-01   4.85299586e+02] [ -9.48152039e-05  -9.44509844e-02   1.33954454e+03]\n",
      "0.0 [  8.65395265e-06  -4.49010079e-02   1.79560847e+00] [ -8.08280650e-04  -1.67744948e-02   4.95631479e+00]\n",
      "This is the average radius of curvature of the anes 58570.7394834\n"
     ]
    },
    {
     "name": "stderr",
     "output_type": "stream",
     "text": [
      "\r",
      " 94%|█████████▎| 118/126 [01:23<00:05,  1.35it/s]"
     ]
    },
    {
     "name": "stdout",
     "output_type": "stream",
     "text": [
      "918.986104481\n",
      "0.0 [  2.51101760e-05  -2.57471905e-01   4.78716657e+02] [ -5.44570216e-04   3.99938898e-01   1.20803985e+03]\n",
      "0.0 [  2.14059229e-04  -4.57270103e-02   1.77125163e+00] [-0.00464235  0.07102915  4.46974745]\n",
      "This is the average radius of curvature of the anes 2451.652171\n"
     ]
    },
    {
     "name": "stderr",
     "output_type": "stream",
     "text": [
      "\r",
      " 94%|█████████▍| 119/126 [01:23<00:05,  1.38it/s]"
     ]
    },
    {
     "name": "stdout",
     "output_type": "stream",
     "text": [
      "918.986763033\n",
      "0.0 [  1.86437155e-05  -2.42526042e-01   4.72120900e+02] [ -8.78063197e-04   8.23212513e-01   1.07444944e+03]\n",
      "0.0 [  1.58933946e-04  -4.30726250e-02   1.74684733e+00] [-0.00748531  0.14620254  3.97546293]\n",
      "This is the average radius of curvature of the anes 3223.67050443\n"
     ]
    },
    {
     "name": "stderr",
     "output_type": "stream",
     "text": [
      "\r",
      " 95%|█████████▌| 120/126 [01:24<00:04,  1.38it/s]"
     ]
    },
    {
     "name": "stdout",
     "output_type": "stream",
     "text": [
      "919.721382875\n",
      "0.0 [  2.03886193e-05  -2.26736330e-01   4.61708479e+02] [ -6.52810513e-04   5.52546572e-01   1.15590901e+03]\n",
      "0.0 [  1.73808902e-04  -4.02683722e-02   1.70832137e+00] [-0.00556508  0.09813227  4.27686335]\n",
      "This is the average radius of curvature of the anes 2974.86946539\n"
     ]
    },
    {
     "name": "stderr",
     "output_type": "stream",
     "text": [
      "\r",
      " 96%|█████████▌| 121/126 [01:25<00:03,  1.37it/s]"
     ]
    },
    {
     "name": "stdout",
     "output_type": "stream",
     "text": [
      "922.204029646\n",
      "0.0 [  4.83937818e-05  -2.34349404e-01   4.55564630e+02] [ -6.44895021e-04   5.35091778e-01   1.16427909e+03]\n",
      "0.0 [  4.12547311e-04  -4.16204542e-02   1.68558913e+00] [-0.0054976   0.0950323   4.30783262]\n",
      "This is the average radius of curvature of the anes 1307.3163691\n"
     ]
    },
    {
     "name": "stderr",
     "output_type": "stream",
     "text": [
      "\r",
      " 97%|█████████▋| 122/126 [01:25<00:02,  1.40it/s]"
     ]
    },
    {
     "name": "stdout",
     "output_type": "stream",
     "text": [
      "917.538502676\n",
      "0.0 [  3.85814464e-05  -2.19408049e-01   4.51341560e+02] [ -4.60201405e-04   3.46213388e-01   1.20852591e+03]\n",
      "0.0 [  3.28899114e-04  -3.89668696e-02   1.66996377e+00] [ -3.92312493e-03   6.14874978e-02   4.47154586e+00]\n",
      "This is the average radius of curvature of the anes 1651.85969625\n"
     ]
    },
    {
     "name": "stderr",
     "output_type": "stream",
     "text": [
      "\r",
      " 98%|█████████▊| 123/126 [01:26<00:02,  1.38it/s]"
     ]
    },
    {
     "name": "stdout",
     "output_type": "stream",
     "text": [
      "915.634007687\n",
      "0.0 [  3.34143881e-05  -2.08430574e-01   4.47504507e+02] [ -2.57951813e-04   1.27042515e-01   1.26657433e+03]\n",
      "0.0 [  2.84850976e-04  -3.70172699e-02   1.65576668e+00] [ -2.19898761e-03   2.25627507e-02   4.68632501e+00]\n",
      "This is the average radius of curvature of the anes 1986.46393035\n"
     ]
    },
    {
     "name": "stderr",
     "output_type": "stream",
     "text": [
      "\r",
      " 98%|█████████▊| 124/126 [01:27<00:01,  1.39it/s]"
     ]
    },
    {
     "name": "stdout",
     "output_type": "stream",
     "text": [
      "914.08939726\n",
      "0.0 [  3.96930907e-05  -2.09413683e-01   4.46568753e+02] [ -1.82344563e-04   6.03019345e-02   1.27875032e+03]\n",
      "0.0 [  3.38375660e-04  -3.71918701e-02   1.65230439e+00] [ -1.55445093e-03   1.07096236e-02   4.73137619e+00]\n",
      "This is the average radius of curvature of the anes 1802.42694308\n"
     ]
    },
    {
     "name": "stderr",
     "output_type": "stream",
     "text": [
      "\r",
      " 99%|█████████▉| 125/126 [01:28<00:00,  1.37it/s]"
     ]
    },
    {
     "name": "stdout",
     "output_type": "stream",
     "text": [
      "911.605353594\n",
      "0.0 [  4.09929773e-05  -2.06428246e-01   4.44899828e+02] [ -2.08653415e-04   9.92180040e-02   1.26295323e+03]\n",
      "0.0 [  3.49456933e-04  -3.66616566e-02   1.64612936e+00] [ -1.77872863e-03   1.76211175e-02   4.67292697e+00]\n",
      "This is the average radius of curvature of the anes 1714.90766954\n"
     ]
    },
    {
     "name": "stderr",
     "output_type": "stream",
     "text": [
      "\n"
     ]
    },
    {
     "name": "stdout",
     "output_type": "stream",
     "text": [
      "[MoviePy] Done.\n",
      "[MoviePy] >>>> Video ready: output_images/project_video.mp4 \n",
      "\n",
      "CPU times: user 1min 10s, sys: 7.33 s, total: 1min 17s\n",
      "Wall time: 1min 31s\n"
     ]
    }
   ],
   "source": [
    "#print(os.getcwd())\n",
    "#os.chdir('..')\n",
    "white_output = 'output_images/project_video.mp4'\n",
    "## To speed up the testing process you may want to try your pipeline on a shorter subclip of the video\n",
    "## To do so add .subclip(start_second,end_second) to the end of the line below\n",
    "## Where start_second and end_second are integer values representing the start and end of the subclip\n",
    "## You may also uncomment the following line for a subclip of the first 5 seconds\n",
    "##clip1 = VideoFileClip(\"test_videos/solidWhiteRight.mp4\").subclip(2,5)\n",
    "Left_lane = Lane_data()\n",
    "Right_lane = Lane_data()\n",
    "clip1 = VideoFileClip(\"project_video.mp4\")#.subclip(45,50)\n",
    "white_clip = clip1.fl_image(process_image) #NOTE: this function expects color images!!\n",
    "white_clip.ipython_display\n",
    "%time white_clip.write_videofile(white_output, audio=False)"
   ]
  },
  {
   "cell_type": "code",
   "execution_count": null,
   "metadata": {},
   "outputs": [],
   "source": []
  }
 ],
 "metadata": {
  "kernelspec": {
   "display_name": "Python 3",
   "language": "python",
   "name": "python3"
  },
  "language_info": {
   "codemirror_mode": {
    "name": "ipython",
    "version": 3
   },
   "file_extension": ".py",
   "mimetype": "text/x-python",
   "name": "python",
   "nbconvert_exporter": "python",
   "pygments_lexer": "ipython3",
   "version": "3.6.3"
  }
 },
 "nbformat": 4,
 "nbformat_minor": 2
}
